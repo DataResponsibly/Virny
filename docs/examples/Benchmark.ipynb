{
 "cells": [
  {
   "cell_type": "code",
   "execution_count": 173,
   "id": "248cbed8",
   "metadata": {},
   "outputs": [
    {
     "name": "stdout",
     "output_type": "stream",
     "text": [
      "The autoreload extension is already loaded. To reload it, use:\n",
      "  %reload_ext autoreload\n"
     ]
    }
   ],
   "source": [
    "%matplotlib inline\n",
    "%load_ext autoreload\n",
    "%autoreload 2"
   ]
  },
  {
   "cell_type": "code",
   "execution_count": 174,
   "id": "7ec6cd08",
   "metadata": {},
   "outputs": [],
   "source": [
    "import os\n",
    "import warnings\n",
    "warnings.filterwarnings('ignore')\n",
    "os.environ[\"PYTHONWARNINGS\"] = \"ignore\""
   ]
  },
  {
   "cell_type": "code",
   "execution_count": 175,
   "id": "b8cb69f2",
   "metadata": {},
   "outputs": [
    {
     "name": "stdout",
     "output_type": "stream",
     "text": [
      "Current location:  /home/denys_herasymuk/UCU/4course_2term/Bachelor_Thesis/Code/Virny\n"
     ]
    }
   ],
   "source": [
    "cur_folder_name = os.getcwd().split('/')[-1]\n",
    "if cur_folder_name != \"Virny\":\n",
    "    os.chdir(\"../..\")\n",
    "\n",
    "print('Current location: ', os.getcwd())"
   ]
  },
  {
   "cell_type": "markdown",
   "id": "a578f2ab",
   "metadata": {},
   "source": [
    "# Benchmark"
   ]
  },
  {
   "cell_type": "markdown",
   "id": "606df34d",
   "metadata": {},
   "source": [
    "## Import dependencies"
   ]
  },
  {
   "cell_type": "code",
   "execution_count": 176,
   "id": "7a9241de",
   "metadata": {},
   "outputs": [],
   "source": [
    "import os\n",
    "import pandas as pd\n",
    "\n",
    "from datetime import datetime, timezone\n",
    "from xgboost import XGBClassifier\n",
    "from sklearn.linear_model import LogisticRegression\n",
    "from sklearn.tree import DecisionTreeClassifier\n",
    "from sklearn.ensemble import RandomForestClassifier\n",
    "\n",
    "from docs.examples.benchmark_utils import clear_directory, create_averaged_dfs_dict, populate_benchmark_report\n",
    "from virny.datasets.data_loaders import CompasWithoutSensitiveAttrsDataset, ACSEmploymentDataset\n",
    "from virny.user_interfaces.metrics_computation_interfaces import compute_metrics_multiple_runs\n",
    "from virny.utils.custom_initializers import create_config_obj, read_model_metric_dfs"
   ]
  },
  {
   "cell_type": "markdown",
   "source": [
    "## COMPAS_Without_Sensitive_Attributes Dataset"
   ],
   "metadata": {
    "collapsed": false
   }
  },
  {
   "cell_type": "markdown",
   "id": "75699f5f",
   "metadata": {},
   "source": [
    "## Initialize Input Variables"
   ]
  },
  {
   "cell_type": "markdown",
   "source": [
    "### Create a models config"
   ],
   "metadata": {
    "collapsed": false
   }
  },
  {
   "cell_type": "code",
   "execution_count": 177,
   "outputs": [],
   "source": [
    "models_config = {\n",
    "    'DecisionTreeClassifier': DecisionTreeClassifier(criterion='gini',\n",
    "                                                     max_depth=20,\n",
    "                                                     max_features=0.6,\n",
    "                                                     min_samples_split=0.1),\n",
    "    # 'LogisticRegression': LogisticRegression(C=1,\n",
    "    #                                          max_iter=50,\n",
    "    #                                          penalty='l2',\n",
    "    #                                          solver='newton-cg'),\n",
    "    #     'RandomForestClassifier': RandomForestClassifier(max_depth=4,\n",
    "    #                                                      max_features=0.6,\n",
    "    #                                                      min_samples_leaf=1,\n",
    "    #                                                      n_estimators=50),\n",
    "    #     'XGBClassifier': XGBClassifier(learning_rate=0.1,\n",
    "    #                                    max_depth=5,\n",
    "    #                                    n_estimators=20),\n",
    "}"
   ],
   "metadata": {
    "collapsed": false
   }
  },
  {
   "cell_type": "markdown",
   "id": "74f57422",
   "metadata": {},
   "source": [
    "### Create a Dataset class"
   ]
  },
  {
   "cell_type": "code",
   "execution_count": 178,
   "id": "6c55c6a0",
   "metadata": {},
   "outputs": [
    {
     "data": {
      "text/plain": "   juv_fel_count  juv_misd_count  juv_other_count  priors_count  \\\n0            0.0       -2.340451              1.0    -15.010999   \n1            0.0        0.000000              0.0      0.000000   \n2            0.0        0.000000              0.0      0.000000   \n3            0.0        0.000000              0.0      6.000000   \n4            0.0        0.000000              0.0      7.513697   \n\n   age_cat_25 - 45  age_cat_Greater than 45  \n0                1                        0  \n1                1                        0  \n2                0                        0  \n3                1                        0  \n4                1                        0  ",
      "text/html": "<div>\n<style scoped>\n    .dataframe tbody tr th:only-of-type {\n        vertical-align: middle;\n    }\n\n    .dataframe tbody tr th {\n        vertical-align: top;\n    }\n\n    .dataframe thead th {\n        text-align: right;\n    }\n</style>\n<table border=\"1\" class=\"dataframe\">\n  <thead>\n    <tr style=\"text-align: right;\">\n      <th></th>\n      <th>juv_fel_count</th>\n      <th>juv_misd_count</th>\n      <th>juv_other_count</th>\n      <th>priors_count</th>\n      <th>age_cat_25 - 45</th>\n      <th>age_cat_Greater than 45</th>\n    </tr>\n  </thead>\n  <tbody>\n    <tr>\n      <th>0</th>\n      <td>0.0</td>\n      <td>-2.340451</td>\n      <td>1.0</td>\n      <td>-15.010999</td>\n      <td>1</td>\n      <td>0</td>\n    </tr>\n    <tr>\n      <th>1</th>\n      <td>0.0</td>\n      <td>0.000000</td>\n      <td>0.0</td>\n      <td>0.000000</td>\n      <td>1</td>\n      <td>0</td>\n    </tr>\n    <tr>\n      <th>2</th>\n      <td>0.0</td>\n      <td>0.000000</td>\n      <td>0.0</td>\n      <td>0.000000</td>\n      <td>0</td>\n      <td>0</td>\n    </tr>\n    <tr>\n      <th>3</th>\n      <td>0.0</td>\n      <td>0.000000</td>\n      <td>0.0</td>\n      <td>6.000000</td>\n      <td>1</td>\n      <td>0</td>\n    </tr>\n    <tr>\n      <th>4</th>\n      <td>0.0</td>\n      <td>0.000000</td>\n      <td>0.0</td>\n      <td>7.513697</td>\n      <td>1</td>\n      <td>0</td>\n    </tr>\n  </tbody>\n</table>\n</div>"
     },
     "execution_count": 178,
     "metadata": {},
     "output_type": "execute_result"
    }
   ],
   "source": [
    "dataset = CompasWithoutSensitiveAttrsDataset(dataset_path=os.path.join('virny', 'datasets', 'COMPAS.csv'))\n",
    "dataset.X_data[dataset.X_data.columns[:6]].head()"
   ]
  },
  {
   "cell_type": "markdown",
   "id": "95f15603",
   "metadata": {},
   "source": [
    "### Create a config object"
   ]
  },
  {
   "cell_type": "code",
   "execution_count": 179,
   "id": "61860fd1",
   "metadata": {},
   "outputs": [],
   "source": [
    "ROOT_DIR = os.path.join('docs', 'examples')\n",
    "config_yaml_path = os.path.join(ROOT_DIR, 'experiment_compas_config.yaml')\n",
    "config_yaml_content = \"\"\"\n",
    "dataset_name: COMPAS_Without_Sensitive_Attributes\n",
    "test_set_fraction: 0.2\n",
    "bootstrap_fraction: 0.8\n",
    "n_estimators: 10\n",
    "#runs_seed_lst: [100, 200, 300, 400, 500, 600]\n",
    "runs_seed_lst: [100, 200]\n",
    "sensitive_attributes_dct: {'sex': 0, 'race': 'Caucasian', 'sex&race': None}\n",
    "\"\"\"\n",
    "\n",
    "with open(config_yaml_path, 'w', encoding='utf-8') as f:\n",
    "    f.write(config_yaml_content)"
   ]
  },
  {
   "cell_type": "code",
   "execution_count": 180,
   "id": "71d8f24a",
   "metadata": {},
   "outputs": [],
   "source": [
    "config = create_config_obj(config_yaml_path=config_yaml_path)\n",
    "SAVE_RESULTS_DIR_PATH1 = os.path.join(ROOT_DIR, 'results', 'benchmark', 'benchmark_results', config.dataset_name)\n",
    "STANDARD_RESULTS_DIR_PATH1 = os.path.join(ROOT_DIR, 'results', 'benchmark', 'standard_results', config.dataset_name)"
   ]
  },
  {
   "cell_type": "code",
   "execution_count": 181,
   "outputs": [
    {
     "name": "stdout",
     "output_type": "stream",
     "text": [
      "Directory is cleared\n"
     ]
    }
   ],
   "source": [
    "clear_directory(SAVE_RESULTS_DIR_PATH1)"
   ],
   "metadata": {
    "collapsed": false
   }
  },
  {
   "cell_type": "markdown",
   "id": "f445b64a",
   "metadata": {},
   "source": [
    "## Subgroup Metrics Computation"
   ]
  },
  {
   "cell_type": "code",
   "execution_count": 182,
   "id": "197eadaa",
   "metadata": {},
   "outputs": [
    {
     "data": {
      "text/plain": "Multiple runs progress:   0%|          | 0/2 [00:00<?, ?it/s]",
      "application/vnd.jupyter.widget-view+json": {
       "version_major": 2,
       "version_minor": 0,
       "model_id": "9a3e95a26a8e4f7485bedc91291be8ac"
      }
     },
     "metadata": {},
     "output_type": "display_data"
    },
    {
     "data": {
      "text/plain": "Analyze models in one run:   0%|          | 0/1 [00:00<?, ?it/s]",
      "application/vnd.jupyter.widget-view+json": {
       "version_major": 2,
       "version_minor": 0,
       "model_id": "1b3d6ebcb91f4be6995e7630610df28d"
      }
     },
     "metadata": {},
     "output_type": "display_data"
    },
    {
     "name": "stdout",
     "output_type": "stream",
     "text": [
      "##############################  [Model 1 / 1] Analyze DecisionTreeClassifier  ##############################\n",
      "Model random_state:  101\n",
      "Baseline X_train shape:  (4222, 9)\n",
      "Baseline X_test shape:  (1056, 9)\n",
      "\n",
      "\n"
     ]
    },
    {
     "name": "stderr",
     "output_type": "stream",
     "text": [
      "2023-02-04 13:35:47 abstract_overall_variance_analyzer.py INFO    : Start classifiers testing by bootstrap\n"
     ]
    },
    {
     "data": {
      "text/plain": "Classifiers testing by bootstrap:   0%|          | 0/10 [00:00<?, ?it/s]",
      "application/vnd.jupyter.widget-view+json": {
       "version_major": 2,
       "version_minor": 0,
       "model_id": "04abfa26e56849b487a4d77b4eb38c75"
      }
     },
     "metadata": {},
     "output_type": "display_data"
    },
    {
     "name": "stdout",
     "output_type": "stream",
     "text": [
      "\n",
      "\n"
     ]
    },
    {
     "name": "stderr",
     "output_type": "stream",
     "text": [
      "2023-02-04 13:35:47 abstract_overall_variance_analyzer.py INFO    : Successfully tested classifiers by bootstrap\n",
      "2023-02-04 13:35:47 abstract_overall_variance_analyzer.py INFO    : Successfully computed predict proba metrics\n"
     ]
    },
    {
     "name": "stdout",
     "output_type": "stream",
     "text": [
      "\n",
      "\n",
      "\n",
      "\n"
     ]
    },
    {
     "data": {
      "text/plain": "Analyze models in one run:   0%|          | 0/1 [00:00<?, ?it/s]",
      "application/vnd.jupyter.widget-view+json": {
       "version_major": 2,
       "version_minor": 0,
       "model_id": "c89bb55447414955a64f8e6dbf1c427d"
      }
     },
     "metadata": {},
     "output_type": "display_data"
    },
    {
     "name": "stdout",
     "output_type": "stream",
     "text": [
      "##############################  [Model 1 / 1] Analyze DecisionTreeClassifier  ##############################\n",
      "Model random_state:  201\n",
      "Baseline X_train shape:  (4222, 9)\n",
      "Baseline X_test shape:  (1056, 9)\n",
      "\n",
      "\n"
     ]
    },
    {
     "name": "stderr",
     "output_type": "stream",
     "text": [
      "2023-02-04 13:35:48 abstract_overall_variance_analyzer.py INFO    : Start classifiers testing by bootstrap\n"
     ]
    },
    {
     "data": {
      "text/plain": "Classifiers testing by bootstrap:   0%|          | 0/10 [00:00<?, ?it/s]",
      "application/vnd.jupyter.widget-view+json": {
       "version_major": 2,
       "version_minor": 0,
       "model_id": "0b7864e04fa3450fb39483ce64c4c44b"
      }
     },
     "metadata": {},
     "output_type": "display_data"
    },
    {
     "name": "stdout",
     "output_type": "stream",
     "text": [
      "\n",
      "\n"
     ]
    },
    {
     "name": "stderr",
     "output_type": "stream",
     "text": [
      "2023-02-04 13:35:48 abstract_overall_variance_analyzer.py INFO    : Successfully tested classifiers by bootstrap\n",
      "2023-02-04 13:35:49 abstract_overall_variance_analyzer.py INFO    : Successfully computed predict proba metrics\n"
     ]
    },
    {
     "name": "stdout",
     "output_type": "stream",
     "text": [
      "\n",
      "\n",
      "\n",
      "\n"
     ]
    }
   ],
   "source": [
    "multiple_run_metrics_dct = compute_metrics_multiple_runs(dataset, config, models_config, SAVE_RESULTS_DIR_PATH1, debug_mode=False)"
   ]
  },
  {
   "cell_type": "code",
   "execution_count": 183,
   "id": "bea94683",
   "metadata": {},
   "outputs": [
    {
     "data": {
      "text/plain": "                 Metric   overall  sex_priv   sex_dis  race_priv  race_dis  \\\n0                  Mean  0.530392  0.563868  0.522618   0.595395  0.486264   \n1                   Std  0.070279  0.076096  0.068929   0.068199  0.071692   \n2                   IQR  0.075941  0.081982  0.074538   0.072724  0.078125   \n3               Entropy  0.000000  0.000000  0.000000   0.000000  0.246619   \n4                Jitter  0.167382  0.197320  0.160430   0.147801  0.180675   \n5   Per_Sample_Accuracy  0.655303  0.652764  0.655893   0.655269  0.655326   \n6       Label_Stability  0.776515  0.731658  0.786931   0.800468  0.760254   \n7                   TPR  0.577002  0.471429  0.594724   0.408805  0.658537   \n8                   TNR  0.752197  0.782946  0.743182   0.817164  0.694352   \n9                   PPV  0.665877  0.540984  0.686981   0.570175  0.701299   \n10                  FNR  0.422998  0.528571  0.405276   0.591195  0.341463   \n11                  FPR  0.247803  0.217054  0.256818   0.182836  0.305648   \n12             Accuracy  0.671402  0.673367  0.670945   0.665105  0.675676   \n13                   F1  0.618262  0.503817  0.637532   0.476190  0.679245   \n14       Selection-Rate  0.399621  0.306533  0.421237   0.266979  0.489666   \n15        Positive-Rate  0.866530  0.871429  0.865707   0.716981  0.939024   \n0                  Mean  0.521044  0.555582  0.512974   0.586035  0.479959   \n1                   Std  0.069270  0.075962  0.067706   0.068447  0.069789   \n2                   IQR  0.080927  0.091768  0.078393   0.081962  0.080272   \n3               Entropy  0.000000  0.220116  0.000000   0.000000  0.000000   \n\n    sex&race_priv  sex&race_dis  Model_Seed              Model_Name Run_Number  \n0        0.594340      0.474811         101  DecisionTreeClassifier      Run_1  \n1        0.085854      0.072405         101  DecisionTreeClassifier      Run_1  \n2        0.091328      0.078887         101  DecisionTreeClassifier      Run_1  \n3        0.000000      0.241298         101  DecisionTreeClassifier      Run_1  \n4        0.191919      0.176190         101  DecisionTreeClassifier      Run_1  \n5        0.634091      0.652703         101  DecisionTreeClassifier      Run_1  \n6        0.745455      0.768726         101  DecisionTreeClassifier      Run_1  \n7        0.280000      0.671378         101  DecisionTreeClassifier      Run_1  \n8        0.761905      0.663830         101  DecisionTreeClassifier      Run_1  \n9        0.318182      0.706320         101  DecisionTreeClassifier      Run_1  \n10       0.720000      0.328622         101  DecisionTreeClassifier      Run_1  \n11       0.238095      0.336170         101  DecisionTreeClassifier      Run_1  \n12       0.625000      0.667954         101  DecisionTreeClassifier      Run_1  \n13       0.297872      0.688406         101  DecisionTreeClassifier      Run_1  \n14       0.250000      0.519305         101  DecisionTreeClassifier      Run_1  \n15       0.880000      0.950530         101  DecisionTreeClassifier      Run_1  \n0        0.600940      0.471347         201  DecisionTreeClassifier      Run_2  \n1        0.081302      0.069353         201  DecisionTreeClassifier      Run_2  \n2        0.095374      0.078427         201  DecisionTreeClassifier      Run_2  \n3        0.000000      0.000000         201  DecisionTreeClassifier      Run_2  ",
      "text/html": "<div>\n<style scoped>\n    .dataframe tbody tr th:only-of-type {\n        vertical-align: middle;\n    }\n\n    .dataframe tbody tr th {\n        vertical-align: top;\n    }\n\n    .dataframe thead th {\n        text-align: right;\n    }\n</style>\n<table border=\"1\" class=\"dataframe\">\n  <thead>\n    <tr style=\"text-align: right;\">\n      <th></th>\n      <th>Metric</th>\n      <th>overall</th>\n      <th>sex_priv</th>\n      <th>sex_dis</th>\n      <th>race_priv</th>\n      <th>race_dis</th>\n      <th>sex&amp;race_priv</th>\n      <th>sex&amp;race_dis</th>\n      <th>Model_Seed</th>\n      <th>Model_Name</th>\n      <th>Run_Number</th>\n    </tr>\n  </thead>\n  <tbody>\n    <tr>\n      <th>0</th>\n      <td>Mean</td>\n      <td>0.530392</td>\n      <td>0.563868</td>\n      <td>0.522618</td>\n      <td>0.595395</td>\n      <td>0.486264</td>\n      <td>0.594340</td>\n      <td>0.474811</td>\n      <td>101</td>\n      <td>DecisionTreeClassifier</td>\n      <td>Run_1</td>\n    </tr>\n    <tr>\n      <th>1</th>\n      <td>Std</td>\n      <td>0.070279</td>\n      <td>0.076096</td>\n      <td>0.068929</td>\n      <td>0.068199</td>\n      <td>0.071692</td>\n      <td>0.085854</td>\n      <td>0.072405</td>\n      <td>101</td>\n      <td>DecisionTreeClassifier</td>\n      <td>Run_1</td>\n    </tr>\n    <tr>\n      <th>2</th>\n      <td>IQR</td>\n      <td>0.075941</td>\n      <td>0.081982</td>\n      <td>0.074538</td>\n      <td>0.072724</td>\n      <td>0.078125</td>\n      <td>0.091328</td>\n      <td>0.078887</td>\n      <td>101</td>\n      <td>DecisionTreeClassifier</td>\n      <td>Run_1</td>\n    </tr>\n    <tr>\n      <th>3</th>\n      <td>Entropy</td>\n      <td>0.000000</td>\n      <td>0.000000</td>\n      <td>0.000000</td>\n      <td>0.000000</td>\n      <td>0.246619</td>\n      <td>0.000000</td>\n      <td>0.241298</td>\n      <td>101</td>\n      <td>DecisionTreeClassifier</td>\n      <td>Run_1</td>\n    </tr>\n    <tr>\n      <th>4</th>\n      <td>Jitter</td>\n      <td>0.167382</td>\n      <td>0.197320</td>\n      <td>0.160430</td>\n      <td>0.147801</td>\n      <td>0.180675</td>\n      <td>0.191919</td>\n      <td>0.176190</td>\n      <td>101</td>\n      <td>DecisionTreeClassifier</td>\n      <td>Run_1</td>\n    </tr>\n    <tr>\n      <th>5</th>\n      <td>Per_Sample_Accuracy</td>\n      <td>0.655303</td>\n      <td>0.652764</td>\n      <td>0.655893</td>\n      <td>0.655269</td>\n      <td>0.655326</td>\n      <td>0.634091</td>\n      <td>0.652703</td>\n      <td>101</td>\n      <td>DecisionTreeClassifier</td>\n      <td>Run_1</td>\n    </tr>\n    <tr>\n      <th>6</th>\n      <td>Label_Stability</td>\n      <td>0.776515</td>\n      <td>0.731658</td>\n      <td>0.786931</td>\n      <td>0.800468</td>\n      <td>0.760254</td>\n      <td>0.745455</td>\n      <td>0.768726</td>\n      <td>101</td>\n      <td>DecisionTreeClassifier</td>\n      <td>Run_1</td>\n    </tr>\n    <tr>\n      <th>7</th>\n      <td>TPR</td>\n      <td>0.577002</td>\n      <td>0.471429</td>\n      <td>0.594724</td>\n      <td>0.408805</td>\n      <td>0.658537</td>\n      <td>0.280000</td>\n      <td>0.671378</td>\n      <td>101</td>\n      <td>DecisionTreeClassifier</td>\n      <td>Run_1</td>\n    </tr>\n    <tr>\n      <th>8</th>\n      <td>TNR</td>\n      <td>0.752197</td>\n      <td>0.782946</td>\n      <td>0.743182</td>\n      <td>0.817164</td>\n      <td>0.694352</td>\n      <td>0.761905</td>\n      <td>0.663830</td>\n      <td>101</td>\n      <td>DecisionTreeClassifier</td>\n      <td>Run_1</td>\n    </tr>\n    <tr>\n      <th>9</th>\n      <td>PPV</td>\n      <td>0.665877</td>\n      <td>0.540984</td>\n      <td>0.686981</td>\n      <td>0.570175</td>\n      <td>0.701299</td>\n      <td>0.318182</td>\n      <td>0.706320</td>\n      <td>101</td>\n      <td>DecisionTreeClassifier</td>\n      <td>Run_1</td>\n    </tr>\n    <tr>\n      <th>10</th>\n      <td>FNR</td>\n      <td>0.422998</td>\n      <td>0.528571</td>\n      <td>0.405276</td>\n      <td>0.591195</td>\n      <td>0.341463</td>\n      <td>0.720000</td>\n      <td>0.328622</td>\n      <td>101</td>\n      <td>DecisionTreeClassifier</td>\n      <td>Run_1</td>\n    </tr>\n    <tr>\n      <th>11</th>\n      <td>FPR</td>\n      <td>0.247803</td>\n      <td>0.217054</td>\n      <td>0.256818</td>\n      <td>0.182836</td>\n      <td>0.305648</td>\n      <td>0.238095</td>\n      <td>0.336170</td>\n      <td>101</td>\n      <td>DecisionTreeClassifier</td>\n      <td>Run_1</td>\n    </tr>\n    <tr>\n      <th>12</th>\n      <td>Accuracy</td>\n      <td>0.671402</td>\n      <td>0.673367</td>\n      <td>0.670945</td>\n      <td>0.665105</td>\n      <td>0.675676</td>\n      <td>0.625000</td>\n      <td>0.667954</td>\n      <td>101</td>\n      <td>DecisionTreeClassifier</td>\n      <td>Run_1</td>\n    </tr>\n    <tr>\n      <th>13</th>\n      <td>F1</td>\n      <td>0.618262</td>\n      <td>0.503817</td>\n      <td>0.637532</td>\n      <td>0.476190</td>\n      <td>0.679245</td>\n      <td>0.297872</td>\n      <td>0.688406</td>\n      <td>101</td>\n      <td>DecisionTreeClassifier</td>\n      <td>Run_1</td>\n    </tr>\n    <tr>\n      <th>14</th>\n      <td>Selection-Rate</td>\n      <td>0.399621</td>\n      <td>0.306533</td>\n      <td>0.421237</td>\n      <td>0.266979</td>\n      <td>0.489666</td>\n      <td>0.250000</td>\n      <td>0.519305</td>\n      <td>101</td>\n      <td>DecisionTreeClassifier</td>\n      <td>Run_1</td>\n    </tr>\n    <tr>\n      <th>15</th>\n      <td>Positive-Rate</td>\n      <td>0.866530</td>\n      <td>0.871429</td>\n      <td>0.865707</td>\n      <td>0.716981</td>\n      <td>0.939024</td>\n      <td>0.880000</td>\n      <td>0.950530</td>\n      <td>101</td>\n      <td>DecisionTreeClassifier</td>\n      <td>Run_1</td>\n    </tr>\n    <tr>\n      <th>0</th>\n      <td>Mean</td>\n      <td>0.521044</td>\n      <td>0.555582</td>\n      <td>0.512974</td>\n      <td>0.586035</td>\n      <td>0.479959</td>\n      <td>0.600940</td>\n      <td>0.471347</td>\n      <td>201</td>\n      <td>DecisionTreeClassifier</td>\n      <td>Run_2</td>\n    </tr>\n    <tr>\n      <th>1</th>\n      <td>Std</td>\n      <td>0.069270</td>\n      <td>0.075962</td>\n      <td>0.067706</td>\n      <td>0.068447</td>\n      <td>0.069789</td>\n      <td>0.081302</td>\n      <td>0.069353</td>\n      <td>201</td>\n      <td>DecisionTreeClassifier</td>\n      <td>Run_2</td>\n    </tr>\n    <tr>\n      <th>2</th>\n      <td>IQR</td>\n      <td>0.080927</td>\n      <td>0.091768</td>\n      <td>0.078393</td>\n      <td>0.081962</td>\n      <td>0.080272</td>\n      <td>0.095374</td>\n      <td>0.078427</td>\n      <td>201</td>\n      <td>DecisionTreeClassifier</td>\n      <td>Run_2</td>\n    </tr>\n    <tr>\n      <th>3</th>\n      <td>Entropy</td>\n      <td>0.000000</td>\n      <td>0.220116</td>\n      <td>0.000000</td>\n      <td>0.000000</td>\n      <td>0.000000</td>\n      <td>0.000000</td>\n      <td>0.000000</td>\n      <td>201</td>\n      <td>DecisionTreeClassifier</td>\n      <td>Run_2</td>\n    </tr>\n  </tbody>\n</table>\n</div>"
     },
     "execution_count": 183,
     "metadata": {},
     "output_type": "execute_result"
    }
   ],
   "source": [
    "sample_model_metrics_df = multiple_run_metrics_dct[list(models_config.keys())[0]]\n",
    "sample_model_metrics_df.head(20)"
   ]
  },
  {
   "cell_type": "markdown",
   "source": [
    "## Create a Benchmark Report"
   ],
   "metadata": {
    "collapsed": false
   }
  },
  {
   "cell_type": "code",
   "execution_count": 184,
   "outputs": [],
   "source": [
    "models_metrics_dct = read_model_metric_dfs(SAVE_RESULTS_DIR_PATH1, model_names=models_config.keys())\n",
    "standard_models_metrics_dct = read_model_metric_dfs(STANDARD_RESULTS_DIR_PATH1, model_names=models_config.keys())\n",
    "\n",
    "avg_models_metrics_dct = create_averaged_dfs_dict(models_metrics_dct)\n",
    "avg_standard_models_metrics_dct = create_averaged_dfs_dict(standard_models_metrics_dct)"
   ],
   "metadata": {
    "collapsed": false
   }
  },
  {
   "cell_type": "code",
   "execution_count": 185,
   "outputs": [],
   "source": [
    "report_df = pd.DataFrame()\n",
    "report_df = populate_benchmark_report(report_df, avg_models_metrics_dct, avg_standard_models_metrics_dct,\n",
    "                                      config.dataset_name, config.sensitive_attributes_dct)"
   ],
   "metadata": {
    "collapsed": false
   }
  },
  {
   "cell_type": "code",
   "execution_count": 186,
   "outputs": [
    {
     "data": {
      "text/plain": "                               Dataset                   Model       Subgroup  \\\n0  COMPAS_Without_Sensitive_Attributes  DecisionTreeClassifier        overall   \n1  COMPAS_Without_Sensitive_Attributes  DecisionTreeClassifier       sex_priv   \n2  COMPAS_Without_Sensitive_Attributes  DecisionTreeClassifier        sex_dis   \n3  COMPAS_Without_Sensitive_Attributes  DecisionTreeClassifier      race_priv   \n4  COMPAS_Without_Sensitive_Attributes  DecisionTreeClassifier       race_dis   \n5  COMPAS_Without_Sensitive_Attributes  DecisionTreeClassifier  sex&race_priv   \n6  COMPAS_Without_Sensitive_Attributes  DecisionTreeClassifier   sex&race_dis   \n\n   Delta%_Accuracy  Delta%_Entropy  Delta%_F1  Delta%_FNR  Delta%_FPR  \\\n0            0.663           0.000      1.278      -1.257      -0.210   \n1            0.923          10.467      0.829      -2.273       0.132   \n2            0.602           0.000      1.337      -1.024      -0.279   \n3            0.227           0.000      1.787      -2.002       0.503   \n4            0.971           7.759      1.349      -1.220      -0.555   \n5           -1.535          21.545     -0.970      -5.000       5.988   \n6            0.573           7.741      1.127      -1.413       0.637   \n\n   Delta%_IQR  Delta%_Jitter  Delta%_Label_Stability  Delta%_Mean  Delta%_PPV  \\\n0       0.706         -4.037                   5.011        0.145       1.091   \n1       0.670         -4.271                   5.143        0.543      -0.870   \n2       0.715         -3.982                   4.979        0.055       1.487   \n3       1.171         -3.682                   4.525        0.049       1.142   \n4       0.388         -4.258                   5.330        0.059       1.297   \n5       1.284         -3.732                   4.374       -0.674      -7.393   \n6       0.431         -4.166                   5.240       -0.247       0.733   \n\n   Delta%_Per_Sample_Accuracy  Delta%_Positive-Rate  Delta%_Selection-Rate  \\\n0                       0.805                 0.187                  0.663   \n1                       2.482                 5.909                  0.352   \n2                       0.415                -0.742                  0.731   \n3                       0.289                 1.797                  1.224   \n4                       1.160                -0.305                  0.628   \n5                      -1.254                27.375                  4.376   \n6                       0.245                 0.883                  1.356   \n\n   Delta%_Std  Delta%_TNR  Delta%_TPR  \n0       0.226       0.210       1.257  \n1       0.437      -0.132       2.273  \n2       0.177       0.279       1.024  \n3       0.307      -0.503       2.002  \n4       0.173       0.555       1.220  \n5       0.595      -5.988       5.000  \n6       0.144      -0.637       1.413  ",
      "text/html": "<div>\n<style scoped>\n    .dataframe tbody tr th:only-of-type {\n        vertical-align: middle;\n    }\n\n    .dataframe tbody tr th {\n        vertical-align: top;\n    }\n\n    .dataframe thead th {\n        text-align: right;\n    }\n</style>\n<table border=\"1\" class=\"dataframe\">\n  <thead>\n    <tr style=\"text-align: right;\">\n      <th></th>\n      <th>Dataset</th>\n      <th>Model</th>\n      <th>Subgroup</th>\n      <th>Delta%_Accuracy</th>\n      <th>Delta%_Entropy</th>\n      <th>Delta%_F1</th>\n      <th>Delta%_FNR</th>\n      <th>Delta%_FPR</th>\n      <th>Delta%_IQR</th>\n      <th>Delta%_Jitter</th>\n      <th>Delta%_Label_Stability</th>\n      <th>Delta%_Mean</th>\n      <th>Delta%_PPV</th>\n      <th>Delta%_Per_Sample_Accuracy</th>\n      <th>Delta%_Positive-Rate</th>\n      <th>Delta%_Selection-Rate</th>\n      <th>Delta%_Std</th>\n      <th>Delta%_TNR</th>\n      <th>Delta%_TPR</th>\n    </tr>\n  </thead>\n  <tbody>\n    <tr>\n      <th>0</th>\n      <td>COMPAS_Without_Sensitive_Attributes</td>\n      <td>DecisionTreeClassifier</td>\n      <td>overall</td>\n      <td>0.663</td>\n      <td>0.000</td>\n      <td>1.278</td>\n      <td>-1.257</td>\n      <td>-0.210</td>\n      <td>0.706</td>\n      <td>-4.037</td>\n      <td>5.011</td>\n      <td>0.145</td>\n      <td>1.091</td>\n      <td>0.805</td>\n      <td>0.187</td>\n      <td>0.663</td>\n      <td>0.226</td>\n      <td>0.210</td>\n      <td>1.257</td>\n    </tr>\n    <tr>\n      <th>1</th>\n      <td>COMPAS_Without_Sensitive_Attributes</td>\n      <td>DecisionTreeClassifier</td>\n      <td>sex_priv</td>\n      <td>0.923</td>\n      <td>10.467</td>\n      <td>0.829</td>\n      <td>-2.273</td>\n      <td>0.132</td>\n      <td>0.670</td>\n      <td>-4.271</td>\n      <td>5.143</td>\n      <td>0.543</td>\n      <td>-0.870</td>\n      <td>2.482</td>\n      <td>5.909</td>\n      <td>0.352</td>\n      <td>0.437</td>\n      <td>-0.132</td>\n      <td>2.273</td>\n    </tr>\n    <tr>\n      <th>2</th>\n      <td>COMPAS_Without_Sensitive_Attributes</td>\n      <td>DecisionTreeClassifier</td>\n      <td>sex_dis</td>\n      <td>0.602</td>\n      <td>0.000</td>\n      <td>1.337</td>\n      <td>-1.024</td>\n      <td>-0.279</td>\n      <td>0.715</td>\n      <td>-3.982</td>\n      <td>4.979</td>\n      <td>0.055</td>\n      <td>1.487</td>\n      <td>0.415</td>\n      <td>-0.742</td>\n      <td>0.731</td>\n      <td>0.177</td>\n      <td>0.279</td>\n      <td>1.024</td>\n    </tr>\n    <tr>\n      <th>3</th>\n      <td>COMPAS_Without_Sensitive_Attributes</td>\n      <td>DecisionTreeClassifier</td>\n      <td>race_priv</td>\n      <td>0.227</td>\n      <td>0.000</td>\n      <td>1.787</td>\n      <td>-2.002</td>\n      <td>0.503</td>\n      <td>1.171</td>\n      <td>-3.682</td>\n      <td>4.525</td>\n      <td>0.049</td>\n      <td>1.142</td>\n      <td>0.289</td>\n      <td>1.797</td>\n      <td>1.224</td>\n      <td>0.307</td>\n      <td>-0.503</td>\n      <td>2.002</td>\n    </tr>\n    <tr>\n      <th>4</th>\n      <td>COMPAS_Without_Sensitive_Attributes</td>\n      <td>DecisionTreeClassifier</td>\n      <td>race_dis</td>\n      <td>0.971</td>\n      <td>7.759</td>\n      <td>1.349</td>\n      <td>-1.220</td>\n      <td>-0.555</td>\n      <td>0.388</td>\n      <td>-4.258</td>\n      <td>5.330</td>\n      <td>0.059</td>\n      <td>1.297</td>\n      <td>1.160</td>\n      <td>-0.305</td>\n      <td>0.628</td>\n      <td>0.173</td>\n      <td>0.555</td>\n      <td>1.220</td>\n    </tr>\n    <tr>\n      <th>5</th>\n      <td>COMPAS_Without_Sensitive_Attributes</td>\n      <td>DecisionTreeClassifier</td>\n      <td>sex&amp;race_priv</td>\n      <td>-1.535</td>\n      <td>21.545</td>\n      <td>-0.970</td>\n      <td>-5.000</td>\n      <td>5.988</td>\n      <td>1.284</td>\n      <td>-3.732</td>\n      <td>4.374</td>\n      <td>-0.674</td>\n      <td>-7.393</td>\n      <td>-1.254</td>\n      <td>27.375</td>\n      <td>4.376</td>\n      <td>0.595</td>\n      <td>-5.988</td>\n      <td>5.000</td>\n    </tr>\n    <tr>\n      <th>6</th>\n      <td>COMPAS_Without_Sensitive_Attributes</td>\n      <td>DecisionTreeClassifier</td>\n      <td>sex&amp;race_dis</td>\n      <td>0.573</td>\n      <td>7.741</td>\n      <td>1.127</td>\n      <td>-1.413</td>\n      <td>0.637</td>\n      <td>0.431</td>\n      <td>-4.166</td>\n      <td>5.240</td>\n      <td>-0.247</td>\n      <td>0.733</td>\n      <td>0.245</td>\n      <td>0.883</td>\n      <td>1.356</td>\n      <td>0.144</td>\n      <td>-0.637</td>\n      <td>1.413</td>\n    </tr>\n  </tbody>\n</table>\n</div>"
     },
     "execution_count": 186,
     "metadata": {},
     "output_type": "execute_result"
    }
   ],
   "source": [
    "report_df"
   ],
   "metadata": {
    "collapsed": false
   }
  },
  {
   "cell_type": "markdown",
   "source": [
    "## Folktables [GA, 2018] Dataset"
   ],
   "metadata": {
    "collapsed": false
   }
  },
  {
   "cell_type": "code",
   "execution_count": 187,
   "outputs": [
    {
     "data": {
      "text/plain": "      MAR MIL ESP MIG DREM NATIVITY DIS DEAR DEYE SEX RAC1P RELP CIT ANC SCHL  \\\n78002   3   2   0   1    2        1   2    2    2   2     2    0   1   1   22   \n62790   1   2   0   1    2        1   2    2    2   1     1    0   3   2   19   \n91863   5   0   1   1    2        1   2    2    2   2     1    2   1   4    8   \n70172   1   4   0   1    2        1   2    2    2   2     9    0   1   2   20   \n56391   3   2   0   1    2        1   2    2    2   1     1    0   1   2   19   \n\n       AGEP  \n78002    60  \n62790    55  \n91863    11  \n70172    24  \n56391    33  ",
      "text/html": "<div>\n<style scoped>\n    .dataframe tbody tr th:only-of-type {\n        vertical-align: middle;\n    }\n\n    .dataframe tbody tr th {\n        vertical-align: top;\n    }\n\n    .dataframe thead th {\n        text-align: right;\n    }\n</style>\n<table border=\"1\" class=\"dataframe\">\n  <thead>\n    <tr style=\"text-align: right;\">\n      <th></th>\n      <th>MAR</th>\n      <th>MIL</th>\n      <th>ESP</th>\n      <th>MIG</th>\n      <th>DREM</th>\n      <th>NATIVITY</th>\n      <th>DIS</th>\n      <th>DEAR</th>\n      <th>DEYE</th>\n      <th>SEX</th>\n      <th>RAC1P</th>\n      <th>RELP</th>\n      <th>CIT</th>\n      <th>ANC</th>\n      <th>SCHL</th>\n      <th>AGEP</th>\n    </tr>\n  </thead>\n  <tbody>\n    <tr>\n      <th>78002</th>\n      <td>3</td>\n      <td>2</td>\n      <td>0</td>\n      <td>1</td>\n      <td>2</td>\n      <td>1</td>\n      <td>2</td>\n      <td>2</td>\n      <td>2</td>\n      <td>2</td>\n      <td>2</td>\n      <td>0</td>\n      <td>1</td>\n      <td>1</td>\n      <td>22</td>\n      <td>60</td>\n    </tr>\n    <tr>\n      <th>62790</th>\n      <td>1</td>\n      <td>2</td>\n      <td>0</td>\n      <td>1</td>\n      <td>2</td>\n      <td>1</td>\n      <td>2</td>\n      <td>2</td>\n      <td>2</td>\n      <td>1</td>\n      <td>1</td>\n      <td>0</td>\n      <td>3</td>\n      <td>2</td>\n      <td>19</td>\n      <td>55</td>\n    </tr>\n    <tr>\n      <th>91863</th>\n      <td>5</td>\n      <td>0</td>\n      <td>1</td>\n      <td>1</td>\n      <td>2</td>\n      <td>1</td>\n      <td>2</td>\n      <td>2</td>\n      <td>2</td>\n      <td>2</td>\n      <td>1</td>\n      <td>2</td>\n      <td>1</td>\n      <td>4</td>\n      <td>8</td>\n      <td>11</td>\n    </tr>\n    <tr>\n      <th>70172</th>\n      <td>1</td>\n      <td>4</td>\n      <td>0</td>\n      <td>1</td>\n      <td>2</td>\n      <td>1</td>\n      <td>2</td>\n      <td>2</td>\n      <td>2</td>\n      <td>2</td>\n      <td>9</td>\n      <td>0</td>\n      <td>1</td>\n      <td>2</td>\n      <td>20</td>\n      <td>24</td>\n    </tr>\n    <tr>\n      <th>56391</th>\n      <td>3</td>\n      <td>2</td>\n      <td>0</td>\n      <td>1</td>\n      <td>2</td>\n      <td>1</td>\n      <td>2</td>\n      <td>2</td>\n      <td>2</td>\n      <td>1</td>\n      <td>1</td>\n      <td>0</td>\n      <td>1</td>\n      <td>2</td>\n      <td>19</td>\n      <td>33</td>\n    </tr>\n  </tbody>\n</table>\n</div>"
     },
     "execution_count": 187,
     "metadata": {},
     "output_type": "execute_result"
    }
   ],
   "source": [
    "dataset2 = ACSEmploymentDataset(state=['GA'], year=2018, root_dir=os.path.join('virny', 'datasets'), with_nulls=False, subsample=20_000)\n",
    "dataset2.X_data.head()"
   ],
   "metadata": {
    "collapsed": false
   }
  },
  {
   "cell_type": "code",
   "execution_count": 188,
   "outputs": [],
   "source": [
    "models_config2 = {\n",
    "    'DecisionTreeClassifier': DecisionTreeClassifier(criterion='gini',\n",
    "                                                     max_depth=20,\n",
    "                                                     max_features=0.6,\n",
    "                                                     min_samples_split=0.1),\n",
    "    # 'LogisticRegression': LogisticRegression(C=1,\n",
    "    #                                          max_iter=50,\n",
    "    #                                          penalty='l2',\n",
    "    #                                          solver='newton-cg'),\n",
    "    #     'RandomForestClassifier': RandomForestClassifier(max_depth=4,\n",
    "    #                                                      max_features=0.6,\n",
    "    #                                                      min_samples_leaf=1,\n",
    "    #                                                      n_estimators=50),\n",
    "    #     'XGBClassifier': XGBClassifier(learning_rate=0.1,\n",
    "    #                                    max_depth=5,\n",
    "    #                                    n_estimators=20),\n",
    "}"
   ],
   "metadata": {
    "collapsed": false
   }
  },
  {
   "cell_type": "code",
   "execution_count": 189,
   "outputs": [],
   "source": [
    "config_yaml_path = os.path.join(ROOT_DIR, 'experiment_compas_config.yaml')\n",
    "config_yaml_content = \"\"\"\n",
    "dataset_name: Folktables_GA_2018\n",
    "test_set_fraction: 0.2\n",
    "bootstrap_fraction: 0.8\n",
    "n_estimators: 100\n",
    "runs_seed_lst: [100, 200]\n",
    "#runs_seed_lst: [100, 200, 300, 400, 500, 600]\n",
    "sensitive_attributes_dct: {'SEX': '1', 'RAC1P': '1', 'SEX&RAC1P': None}\n",
    "\"\"\"\n",
    "\n",
    "with open(config_yaml_path, 'w', encoding='utf-8') as f:\n",
    "    f.write(config_yaml_content)\n",
    "\n",
    "config2 = create_config_obj(config_yaml_path=config_yaml_path)\n",
    "SAVE_RESULTS_DIR_PATH2 = os.path.join(ROOT_DIR, 'results', 'benchmark', 'benchmark_results', config2.dataset_name)\n",
    "STANDARD_RESULTS_DIR_PATH2 = os.path.join(ROOT_DIR, 'results', 'benchmark', 'standard_results', config2.dataset_name)"
   ],
   "metadata": {
    "collapsed": false
   }
  },
  {
   "cell_type": "code",
   "execution_count": 190,
   "outputs": [
    {
     "name": "stdout",
     "output_type": "stream",
     "text": [
      "Directory is cleared\n"
     ]
    }
   ],
   "source": [
    "clear_directory(SAVE_RESULTS_DIR_PATH2)"
   ],
   "metadata": {
    "collapsed": false
   }
  },
  {
   "cell_type": "code",
   "execution_count": 191,
   "outputs": [
    {
     "data": {
      "text/plain": "Multiple runs progress:   0%|          | 0/2 [00:00<?, ?it/s]",
      "application/vnd.jupyter.widget-view+json": {
       "version_major": 2,
       "version_minor": 0,
       "model_id": "a72f8d4686d441e39cdee2c9ed7afd48"
      }
     },
     "metadata": {},
     "output_type": "display_data"
    },
    {
     "data": {
      "text/plain": "Analyze models in one run:   0%|          | 0/1 [00:00<?, ?it/s]",
      "application/vnd.jupyter.widget-view+json": {
       "version_major": 2,
       "version_minor": 0,
       "model_id": "2a7b25ae5a0145389c6c9016f97a1d6d"
      }
     },
     "metadata": {},
     "output_type": "display_data"
    },
    {
     "name": "stdout",
     "output_type": "stream",
     "text": [
      "##############################  [Model 1 / 1] Analyze DecisionTreeClassifier  ##############################\n",
      "Model random_state:  101\n",
      "Baseline X_train shape:  (16000, 16)\n",
      "Baseline X_test shape:  (4000, 16)\n",
      "\n",
      "\n"
     ]
    },
    {
     "name": "stderr",
     "output_type": "stream",
     "text": [
      "2023-02-04 13:35:53 abstract_overall_variance_analyzer.py INFO    : Start classifiers testing by bootstrap\n"
     ]
    },
    {
     "data": {
      "text/plain": "Classifiers testing by bootstrap:   0%|          | 0/100 [00:00<?, ?it/s]",
      "application/vnd.jupyter.widget-view+json": {
       "version_major": 2,
       "version_minor": 0,
       "model_id": "403429c5130d458ca1d03af7a6ba252e"
      }
     },
     "metadata": {},
     "output_type": "display_data"
    },
    {
     "name": "stdout",
     "output_type": "stream",
     "text": [
      "\n",
      "\n"
     ]
    },
    {
     "name": "stderr",
     "output_type": "stream",
     "text": [
      "2023-02-04 13:35:57 abstract_overall_variance_analyzer.py INFO    : Successfully tested classifiers by bootstrap\n",
      "2023-02-04 13:36:08 abstract_overall_variance_analyzer.py INFO    : Successfully computed predict proba metrics\n"
     ]
    },
    {
     "name": "stdout",
     "output_type": "stream",
     "text": [
      "\n",
      "\n",
      "\n",
      "\n"
     ]
    },
    {
     "data": {
      "text/plain": "Analyze models in one run:   0%|          | 0/1 [00:00<?, ?it/s]",
      "application/vnd.jupyter.widget-view+json": {
       "version_major": 2,
       "version_minor": 0,
       "model_id": "14aea382ca174d07b46d0816067ddd41"
      }
     },
     "metadata": {},
     "output_type": "display_data"
    },
    {
     "name": "stdout",
     "output_type": "stream",
     "text": [
      "##############################  [Model 1 / 1] Analyze DecisionTreeClassifier  ##############################\n",
      "Model random_state:  201\n",
      "Baseline X_train shape:  (16000, 16)\n",
      "Baseline X_test shape:  (4000, 16)\n",
      "\n",
      "\n"
     ]
    },
    {
     "name": "stderr",
     "output_type": "stream",
     "text": [
      "2023-02-04 13:36:33 abstract_overall_variance_analyzer.py INFO    : Start classifiers testing by bootstrap\n"
     ]
    },
    {
     "data": {
      "text/plain": "Classifiers testing by bootstrap:   0%|          | 0/100 [00:00<?, ?it/s]",
      "application/vnd.jupyter.widget-view+json": {
       "version_major": 2,
       "version_minor": 0,
       "model_id": "1ff7c36242574ac9b06324e0ab3e5734"
      }
     },
     "metadata": {},
     "output_type": "display_data"
    },
    {
     "name": "stdout",
     "output_type": "stream",
     "text": [
      "\n",
      "\n"
     ]
    },
    {
     "name": "stderr",
     "output_type": "stream",
     "text": [
      "2023-02-04 13:36:36 abstract_overall_variance_analyzer.py INFO    : Successfully tested classifiers by bootstrap\n",
      "2023-02-04 13:36:45 abstract_overall_variance_analyzer.py INFO    : Successfully computed predict proba metrics\n"
     ]
    },
    {
     "name": "stdout",
     "output_type": "stream",
     "text": [
      "\n",
      "\n",
      "\n",
      "\n"
     ]
    }
   ],
   "source": [
    "multiple_run_metrics_dct2 = compute_metrics_multiple_runs(dataset2, config2, models_config2, SAVE_RESULTS_DIR_PATH2, debug_mode=False)"
   ],
   "metadata": {
    "collapsed": false
   }
  },
  {
   "cell_type": "code",
   "execution_count": 192,
   "outputs": [
    {
     "data": {
      "text/plain": "                 Metric   overall  SEX_priv   SEX_dis  RAC1P_priv  RAC1P_dis  \\\n0                  Mean  0.554042  0.534603  0.573327    0.546373   0.569560   \n1                   Std  0.058806  0.058721  0.058890    0.058148   0.060138   \n2                   IQR  0.070691  0.069008  0.072361    0.071291   0.069479   \n3               Entropy  0.000000  0.000000  0.000000    0.000000   0.083091   \n4                Jitter  0.045426  0.037950  0.052843    0.043167   0.049997   \n5   Per_Sample_Accuracy  0.821840  0.844257  0.799602    0.813414   0.838889   \n6       Label_Stability  0.939890  0.948474  0.931375    0.942092   0.935435   \n7                   TPR  0.845938  0.842672  0.849475    0.823387   0.897248   \n8                   TNR  0.815801  0.859962  0.774978    0.816284   0.814910   \n9                   PPV  0.787278  0.839957  0.737589    0.794553   0.772512   \n10                  FNR  0.154062  0.157328  0.150525    0.176613   0.102752   \n11                  FPR  0.184199  0.140038  0.225022    0.183716   0.185090   \n12             Accuracy  0.829250  0.851908  0.806773    0.819574   0.848828   \n13                   F1  0.815555  0.841313  0.789588    0.808713   0.830221   \n14       Selection-Rate  0.479500  0.467369  0.491534    0.480015   0.478458   \n15        Positive-Rate  1.074510  1.003233  1.151692    1.036290   1.161468   \n0                  Mean  0.548839  0.527612  0.569010    0.546964   0.552640   \n1                   Std  0.056428  0.056961  0.055921    0.055922   0.057454   \n2                   IQR  0.066081  0.070206  0.062162    0.065904   0.066441   \n3               Entropy  0.000000  0.000000  0.000000    0.000000   0.000000   \n\n    SEX&RAC1P_priv  SEX&RAC1P_dis  Model_Seed              Model_Name  \\\n0         0.514931       0.565602         101  DecisionTreeClassifier   \n1         0.058293       0.060726         101  DecisionTreeClassifier   \n2         0.070140       0.072253         101  DecisionTreeClassifier   \n3         0.000000       0.000000         101  DecisionTreeClassifier   \n4         0.037194       0.060828         101  DecisionTreeClassifier   \n5         0.835356       0.815360         101  DecisionTreeClassifier   \n6         0.949380       0.923890         101  DecisionTreeClassifier   \n7         0.822289       0.900356         101  DecisionTreeClassifier   \n8         0.860182       0.766129         101  DecisionTreeClassifier   \n9         0.855799       0.744118         101  DecisionTreeClassifier   \n10        0.177711       0.099644         101  DecisionTreeClassifier   \n11        0.139818       0.233871         101  DecisionTreeClassifier   \n12        0.841150       0.823890         101  DecisionTreeClassifier   \n13        0.838710       0.814815         101  DecisionTreeClassifier   \n14        0.482602       0.520674         101  DecisionTreeClassifier   \n15        0.960843       1.209964         101  DecisionTreeClassifier   \n0         0.513720       0.549723         201  DecisionTreeClassifier   \n1         0.056989       0.057978         201  DecisionTreeClassifier   \n2         0.071700       0.065730         201  DecisionTreeClassifier   \n3         0.000000       0.000000         201  DecisionTreeClassifier   \n\n   Run_Number  \n0       Run_1  \n1       Run_1  \n2       Run_1  \n3       Run_1  \n4       Run_1  \n5       Run_1  \n6       Run_1  \n7       Run_1  \n8       Run_1  \n9       Run_1  \n10      Run_1  \n11      Run_1  \n12      Run_1  \n13      Run_1  \n14      Run_1  \n15      Run_1  \n0       Run_2  \n1       Run_2  \n2       Run_2  \n3       Run_2  ",
      "text/html": "<div>\n<style scoped>\n    .dataframe tbody tr th:only-of-type {\n        vertical-align: middle;\n    }\n\n    .dataframe tbody tr th {\n        vertical-align: top;\n    }\n\n    .dataframe thead th {\n        text-align: right;\n    }\n</style>\n<table border=\"1\" class=\"dataframe\">\n  <thead>\n    <tr style=\"text-align: right;\">\n      <th></th>\n      <th>Metric</th>\n      <th>overall</th>\n      <th>SEX_priv</th>\n      <th>SEX_dis</th>\n      <th>RAC1P_priv</th>\n      <th>RAC1P_dis</th>\n      <th>SEX&amp;RAC1P_priv</th>\n      <th>SEX&amp;RAC1P_dis</th>\n      <th>Model_Seed</th>\n      <th>Model_Name</th>\n      <th>Run_Number</th>\n    </tr>\n  </thead>\n  <tbody>\n    <tr>\n      <th>0</th>\n      <td>Mean</td>\n      <td>0.554042</td>\n      <td>0.534603</td>\n      <td>0.573327</td>\n      <td>0.546373</td>\n      <td>0.569560</td>\n      <td>0.514931</td>\n      <td>0.565602</td>\n      <td>101</td>\n      <td>DecisionTreeClassifier</td>\n      <td>Run_1</td>\n    </tr>\n    <tr>\n      <th>1</th>\n      <td>Std</td>\n      <td>0.058806</td>\n      <td>0.058721</td>\n      <td>0.058890</td>\n      <td>0.058148</td>\n      <td>0.060138</td>\n      <td>0.058293</td>\n      <td>0.060726</td>\n      <td>101</td>\n      <td>DecisionTreeClassifier</td>\n      <td>Run_1</td>\n    </tr>\n    <tr>\n      <th>2</th>\n      <td>IQR</td>\n      <td>0.070691</td>\n      <td>0.069008</td>\n      <td>0.072361</td>\n      <td>0.071291</td>\n      <td>0.069479</td>\n      <td>0.070140</td>\n      <td>0.072253</td>\n      <td>101</td>\n      <td>DecisionTreeClassifier</td>\n      <td>Run_1</td>\n    </tr>\n    <tr>\n      <th>3</th>\n      <td>Entropy</td>\n      <td>0.000000</td>\n      <td>0.000000</td>\n      <td>0.000000</td>\n      <td>0.000000</td>\n      <td>0.083091</td>\n      <td>0.000000</td>\n      <td>0.000000</td>\n      <td>101</td>\n      <td>DecisionTreeClassifier</td>\n      <td>Run_1</td>\n    </tr>\n    <tr>\n      <th>4</th>\n      <td>Jitter</td>\n      <td>0.045426</td>\n      <td>0.037950</td>\n      <td>0.052843</td>\n      <td>0.043167</td>\n      <td>0.049997</td>\n      <td>0.037194</td>\n      <td>0.060828</td>\n      <td>101</td>\n      <td>DecisionTreeClassifier</td>\n      <td>Run_1</td>\n    </tr>\n    <tr>\n      <th>5</th>\n      <td>Per_Sample_Accuracy</td>\n      <td>0.821840</td>\n      <td>0.844257</td>\n      <td>0.799602</td>\n      <td>0.813414</td>\n      <td>0.838889</td>\n      <td>0.835356</td>\n      <td>0.815360</td>\n      <td>101</td>\n      <td>DecisionTreeClassifier</td>\n      <td>Run_1</td>\n    </tr>\n    <tr>\n      <th>6</th>\n      <td>Label_Stability</td>\n      <td>0.939890</td>\n      <td>0.948474</td>\n      <td>0.931375</td>\n      <td>0.942092</td>\n      <td>0.935435</td>\n      <td>0.949380</td>\n      <td>0.923890</td>\n      <td>101</td>\n      <td>DecisionTreeClassifier</td>\n      <td>Run_1</td>\n    </tr>\n    <tr>\n      <th>7</th>\n      <td>TPR</td>\n      <td>0.845938</td>\n      <td>0.842672</td>\n      <td>0.849475</td>\n      <td>0.823387</td>\n      <td>0.897248</td>\n      <td>0.822289</td>\n      <td>0.900356</td>\n      <td>101</td>\n      <td>DecisionTreeClassifier</td>\n      <td>Run_1</td>\n    </tr>\n    <tr>\n      <th>8</th>\n      <td>TNR</td>\n      <td>0.815801</td>\n      <td>0.859962</td>\n      <td>0.774978</td>\n      <td>0.816284</td>\n      <td>0.814910</td>\n      <td>0.860182</td>\n      <td>0.766129</td>\n      <td>101</td>\n      <td>DecisionTreeClassifier</td>\n      <td>Run_1</td>\n    </tr>\n    <tr>\n      <th>9</th>\n      <td>PPV</td>\n      <td>0.787278</td>\n      <td>0.839957</td>\n      <td>0.737589</td>\n      <td>0.794553</td>\n      <td>0.772512</td>\n      <td>0.855799</td>\n      <td>0.744118</td>\n      <td>101</td>\n      <td>DecisionTreeClassifier</td>\n      <td>Run_1</td>\n    </tr>\n    <tr>\n      <th>10</th>\n      <td>FNR</td>\n      <td>0.154062</td>\n      <td>0.157328</td>\n      <td>0.150525</td>\n      <td>0.176613</td>\n      <td>0.102752</td>\n      <td>0.177711</td>\n      <td>0.099644</td>\n      <td>101</td>\n      <td>DecisionTreeClassifier</td>\n      <td>Run_1</td>\n    </tr>\n    <tr>\n      <th>11</th>\n      <td>FPR</td>\n      <td>0.184199</td>\n      <td>0.140038</td>\n      <td>0.225022</td>\n      <td>0.183716</td>\n      <td>0.185090</td>\n      <td>0.139818</td>\n      <td>0.233871</td>\n      <td>101</td>\n      <td>DecisionTreeClassifier</td>\n      <td>Run_1</td>\n    </tr>\n    <tr>\n      <th>12</th>\n      <td>Accuracy</td>\n      <td>0.829250</td>\n      <td>0.851908</td>\n      <td>0.806773</td>\n      <td>0.819574</td>\n      <td>0.848828</td>\n      <td>0.841150</td>\n      <td>0.823890</td>\n      <td>101</td>\n      <td>DecisionTreeClassifier</td>\n      <td>Run_1</td>\n    </tr>\n    <tr>\n      <th>13</th>\n      <td>F1</td>\n      <td>0.815555</td>\n      <td>0.841313</td>\n      <td>0.789588</td>\n      <td>0.808713</td>\n      <td>0.830221</td>\n      <td>0.838710</td>\n      <td>0.814815</td>\n      <td>101</td>\n      <td>DecisionTreeClassifier</td>\n      <td>Run_1</td>\n    </tr>\n    <tr>\n      <th>14</th>\n      <td>Selection-Rate</td>\n      <td>0.479500</td>\n      <td>0.467369</td>\n      <td>0.491534</td>\n      <td>0.480015</td>\n      <td>0.478458</td>\n      <td>0.482602</td>\n      <td>0.520674</td>\n      <td>101</td>\n      <td>DecisionTreeClassifier</td>\n      <td>Run_1</td>\n    </tr>\n    <tr>\n      <th>15</th>\n      <td>Positive-Rate</td>\n      <td>1.074510</td>\n      <td>1.003233</td>\n      <td>1.151692</td>\n      <td>1.036290</td>\n      <td>1.161468</td>\n      <td>0.960843</td>\n      <td>1.209964</td>\n      <td>101</td>\n      <td>DecisionTreeClassifier</td>\n      <td>Run_1</td>\n    </tr>\n    <tr>\n      <th>0</th>\n      <td>Mean</td>\n      <td>0.548839</td>\n      <td>0.527612</td>\n      <td>0.569010</td>\n      <td>0.546964</td>\n      <td>0.552640</td>\n      <td>0.513720</td>\n      <td>0.549723</td>\n      <td>201</td>\n      <td>DecisionTreeClassifier</td>\n      <td>Run_2</td>\n    </tr>\n    <tr>\n      <th>1</th>\n      <td>Std</td>\n      <td>0.056428</td>\n      <td>0.056961</td>\n      <td>0.055921</td>\n      <td>0.055922</td>\n      <td>0.057454</td>\n      <td>0.056989</td>\n      <td>0.057978</td>\n      <td>201</td>\n      <td>DecisionTreeClassifier</td>\n      <td>Run_2</td>\n    </tr>\n    <tr>\n      <th>2</th>\n      <td>IQR</td>\n      <td>0.066081</td>\n      <td>0.070206</td>\n      <td>0.062162</td>\n      <td>0.065904</td>\n      <td>0.066441</td>\n      <td>0.071700</td>\n      <td>0.065730</td>\n      <td>201</td>\n      <td>DecisionTreeClassifier</td>\n      <td>Run_2</td>\n    </tr>\n    <tr>\n      <th>3</th>\n      <td>Entropy</td>\n      <td>0.000000</td>\n      <td>0.000000</td>\n      <td>0.000000</td>\n      <td>0.000000</td>\n      <td>0.000000</td>\n      <td>0.000000</td>\n      <td>0.000000</td>\n      <td>201</td>\n      <td>DecisionTreeClassifier</td>\n      <td>Run_2</td>\n    </tr>\n  </tbody>\n</table>\n</div>"
     },
     "execution_count": 192,
     "metadata": {},
     "output_type": "execute_result"
    }
   ],
   "source": [
    "sample_model_metrics_df = multiple_run_metrics_dct2[list(models_config2.keys())[0]]\n",
    "sample_model_metrics_df.head(20)"
   ],
   "metadata": {
    "collapsed": false
   }
  },
  {
   "cell_type": "code",
   "execution_count": 193,
   "outputs": [],
   "source": [
    "models_metrics_dct2 = read_model_metric_dfs(SAVE_RESULTS_DIR_PATH2, model_names=models_config2.keys())\n",
    "standard_models_metrics_dct2 = read_model_metric_dfs(STANDARD_RESULTS_DIR_PATH2, model_names=models_config2.keys())\n",
    "\n",
    "avg_models_metrics_dct2 = create_averaged_dfs_dict(models_metrics_dct2)\n",
    "avg_standard_models_metrics_dct2 = create_averaged_dfs_dict(standard_models_metrics_dct2)"
   ],
   "metadata": {
    "collapsed": false
   }
  },
  {
   "cell_type": "markdown",
   "source": [
    "## Create a Benchmark Report"
   ],
   "metadata": {
    "collapsed": false
   }
  },
  {
   "cell_type": "code",
   "execution_count": 194,
   "outputs": [],
   "source": [
    "report_df = populate_benchmark_report(report_df, avg_models_metrics_dct2, avg_standard_models_metrics_dct2,\n",
    "                                      config2.dataset_name, config2.sensitive_attributes_dct)"
   ],
   "metadata": {
    "collapsed": false
   }
  },
  {
   "cell_type": "code",
   "execution_count": 197,
   "outputs": [],
   "source": [
    "filename = f'benchmark_report_{datetime.now(timezone.utc).strftime(\"%Y%m%d__%H%M%S\")}'\n",
    "report_df.to_csv(os.path.join(ROOT_DIR, 'results', 'benchmark', 'benchmark_reports', f'{filename}.csv'), index=False)"
   ],
   "metadata": {
    "collapsed": false
   }
  },
  {
   "cell_type": "code",
   "execution_count": 196,
   "outputs": [
    {
     "data": {
      "text/plain": "                                Dataset                   Model  \\\n0   COMPAS_Without_Sensitive_Attributes  DecisionTreeClassifier   \n1   COMPAS_Without_Sensitive_Attributes  DecisionTreeClassifier   \n2   COMPAS_Without_Sensitive_Attributes  DecisionTreeClassifier   \n3   COMPAS_Without_Sensitive_Attributes  DecisionTreeClassifier   \n4   COMPAS_Without_Sensitive_Attributes  DecisionTreeClassifier   \n5   COMPAS_Without_Sensitive_Attributes  DecisionTreeClassifier   \n6   COMPAS_Without_Sensitive_Attributes  DecisionTreeClassifier   \n7                    Folktables_GA_2018  DecisionTreeClassifier   \n8                    Folktables_GA_2018  DecisionTreeClassifier   \n9                    Folktables_GA_2018  DecisionTreeClassifier   \n10                   Folktables_GA_2018  DecisionTreeClassifier   \n11                   Folktables_GA_2018  DecisionTreeClassifier   \n12                   Folktables_GA_2018  DecisionTreeClassifier   \n13                   Folktables_GA_2018  DecisionTreeClassifier   \n\n          Subgroup  Delta%_Accuracy  Delta%_Entropy  Delta%_F1  Delta%_FNR  \\\n0          overall            0.663           0.000      1.278      -1.257   \n1         sex_priv            0.923          10.467      0.829      -2.273   \n2          sex_dis            0.602           0.000      1.337      -1.024   \n3        race_priv            0.227           0.000      1.787      -2.002   \n4         race_dis            0.971           7.759      1.349      -1.220   \n5    sex&race_priv           -1.535          21.545     -0.970      -5.000   \n6     sex&race_dis            0.573           7.741      1.127      -1.413   \n7          overall           -0.575           0.000     -0.770       0.110   \n8         SEX_priv            0.075           0.000      0.311      -0.947   \n9          SEX_dis           -1.063           0.000     -1.837       1.267   \n10      RAC1P_priv           -0.210           0.000     -0.207      -1.076   \n11       RAC1P_dis           -1.335          -4.155     -1.973       2.843   \n12  SEX&RAC1P_priv            0.642           0.000      0.895      -1.872   \n13   SEX&RAC1P_dis           -1.183           0.000     -2.467       4.194   \n\n    Delta%_FPR  Delta%_IQR  Delta%_Jitter  Delta%_Label_Stability  \\\n0       -0.210       0.706         -4.037                   5.011   \n1        0.132       0.670         -4.271                   5.143   \n2       -0.279       0.715         -3.982                   4.979   \n3        0.503       1.171         -3.682                   4.525   \n4       -0.555       0.388         -4.258                   5.330   \n5        5.988       1.284         -3.732                   4.374   \n6        0.637       0.431         -4.166                   5.240   \n7        0.875      -1.003          0.830                  -1.082   \n8        0.700      -0.870          0.719                  -0.852   \n9        0.695      -1.135          0.889                  -1.247   \n10       1.255      -0.934          0.902                  -1.145   \n11       0.168      -1.133          0.681                  -0.953   \n12       0.587      -0.828          0.701                  -0.827   \n13      -1.331      -1.300          0.437                  -0.793   \n\n    Delta%_Mean  Delta%_PPV  Delta%_Per_Sample_Accuracy  Delta%_Positive-Rate  \\\n0         0.145       1.091                       0.805                 0.187   \n1         0.543      -0.870                       2.482                 5.909   \n2         0.055       1.487                       0.415                -0.742   \n3         0.049       1.142                       0.289                 1.797   \n4         0.059       1.297                       1.160                -0.305   \n5        -0.674      -7.393                      -1.254                27.375   \n6        -0.247       0.733                       0.245                 0.883   \n7         0.080      -1.291                      -0.610                 1.701   \n8        -0.664      -0.325                      -0.083                 1.499   \n9         0.690      -2.172                      -0.988                 1.871   \n10       -0.220      -1.348                      -0.364                 3.191   \n11        0.637      -1.207                      -1.126                -1.797   \n12       -0.639      -0.166                       0.352                 2.347   \n13        1.719      -1.067                      -0.902                -3.782   \n\n    Delta%_Selection-Rate  Delta%_Std  Delta%_TNR  Delta%_TPR  \n0                   0.663       0.226       0.210       1.257  \n1                   0.352       0.437      -0.132       2.273  \n2                   0.731       0.177       0.279       1.024  \n3                   1.224       0.307      -0.503       2.002  \n4                   0.628       0.173       0.555       1.220  \n5                   4.376       0.595      -5.988       5.000  \n6                   1.356       0.144      -0.637       1.413  \n7                  -0.012      -0.266      -0.875      -0.110  \n8                   1.053      -0.128      -0.700       0.947  \n9                  -1.063      -0.397      -0.695      -1.267  \n10                  0.746      -0.128      -1.255       1.076  \n11                 -1.516      -0.539      -0.168      -2.843  \n12                  1.406      -0.027      -0.587       1.872  \n13                 -3.540      -0.724       1.331      -4.194  ",
      "text/html": "<div>\n<style scoped>\n    .dataframe tbody tr th:only-of-type {\n        vertical-align: middle;\n    }\n\n    .dataframe tbody tr th {\n        vertical-align: top;\n    }\n\n    .dataframe thead th {\n        text-align: right;\n    }\n</style>\n<table border=\"1\" class=\"dataframe\">\n  <thead>\n    <tr style=\"text-align: right;\">\n      <th></th>\n      <th>Dataset</th>\n      <th>Model</th>\n      <th>Subgroup</th>\n      <th>Delta%_Accuracy</th>\n      <th>Delta%_Entropy</th>\n      <th>Delta%_F1</th>\n      <th>Delta%_FNR</th>\n      <th>Delta%_FPR</th>\n      <th>Delta%_IQR</th>\n      <th>Delta%_Jitter</th>\n      <th>Delta%_Label_Stability</th>\n      <th>Delta%_Mean</th>\n      <th>Delta%_PPV</th>\n      <th>Delta%_Per_Sample_Accuracy</th>\n      <th>Delta%_Positive-Rate</th>\n      <th>Delta%_Selection-Rate</th>\n      <th>Delta%_Std</th>\n      <th>Delta%_TNR</th>\n      <th>Delta%_TPR</th>\n    </tr>\n  </thead>\n  <tbody>\n    <tr>\n      <th>0</th>\n      <td>COMPAS_Without_Sensitive_Attributes</td>\n      <td>DecisionTreeClassifier</td>\n      <td>overall</td>\n      <td>0.663</td>\n      <td>0.000</td>\n      <td>1.278</td>\n      <td>-1.257</td>\n      <td>-0.210</td>\n      <td>0.706</td>\n      <td>-4.037</td>\n      <td>5.011</td>\n      <td>0.145</td>\n      <td>1.091</td>\n      <td>0.805</td>\n      <td>0.187</td>\n      <td>0.663</td>\n      <td>0.226</td>\n      <td>0.210</td>\n      <td>1.257</td>\n    </tr>\n    <tr>\n      <th>1</th>\n      <td>COMPAS_Without_Sensitive_Attributes</td>\n      <td>DecisionTreeClassifier</td>\n      <td>sex_priv</td>\n      <td>0.923</td>\n      <td>10.467</td>\n      <td>0.829</td>\n      <td>-2.273</td>\n      <td>0.132</td>\n      <td>0.670</td>\n      <td>-4.271</td>\n      <td>5.143</td>\n      <td>0.543</td>\n      <td>-0.870</td>\n      <td>2.482</td>\n      <td>5.909</td>\n      <td>0.352</td>\n      <td>0.437</td>\n      <td>-0.132</td>\n      <td>2.273</td>\n    </tr>\n    <tr>\n      <th>2</th>\n      <td>COMPAS_Without_Sensitive_Attributes</td>\n      <td>DecisionTreeClassifier</td>\n      <td>sex_dis</td>\n      <td>0.602</td>\n      <td>0.000</td>\n      <td>1.337</td>\n      <td>-1.024</td>\n      <td>-0.279</td>\n      <td>0.715</td>\n      <td>-3.982</td>\n      <td>4.979</td>\n      <td>0.055</td>\n      <td>1.487</td>\n      <td>0.415</td>\n      <td>-0.742</td>\n      <td>0.731</td>\n      <td>0.177</td>\n      <td>0.279</td>\n      <td>1.024</td>\n    </tr>\n    <tr>\n      <th>3</th>\n      <td>COMPAS_Without_Sensitive_Attributes</td>\n      <td>DecisionTreeClassifier</td>\n      <td>race_priv</td>\n      <td>0.227</td>\n      <td>0.000</td>\n      <td>1.787</td>\n      <td>-2.002</td>\n      <td>0.503</td>\n      <td>1.171</td>\n      <td>-3.682</td>\n      <td>4.525</td>\n      <td>0.049</td>\n      <td>1.142</td>\n      <td>0.289</td>\n      <td>1.797</td>\n      <td>1.224</td>\n      <td>0.307</td>\n      <td>-0.503</td>\n      <td>2.002</td>\n    </tr>\n    <tr>\n      <th>4</th>\n      <td>COMPAS_Without_Sensitive_Attributes</td>\n      <td>DecisionTreeClassifier</td>\n      <td>race_dis</td>\n      <td>0.971</td>\n      <td>7.759</td>\n      <td>1.349</td>\n      <td>-1.220</td>\n      <td>-0.555</td>\n      <td>0.388</td>\n      <td>-4.258</td>\n      <td>5.330</td>\n      <td>0.059</td>\n      <td>1.297</td>\n      <td>1.160</td>\n      <td>-0.305</td>\n      <td>0.628</td>\n      <td>0.173</td>\n      <td>0.555</td>\n      <td>1.220</td>\n    </tr>\n    <tr>\n      <th>5</th>\n      <td>COMPAS_Without_Sensitive_Attributes</td>\n      <td>DecisionTreeClassifier</td>\n      <td>sex&amp;race_priv</td>\n      <td>-1.535</td>\n      <td>21.545</td>\n      <td>-0.970</td>\n      <td>-5.000</td>\n      <td>5.988</td>\n      <td>1.284</td>\n      <td>-3.732</td>\n      <td>4.374</td>\n      <td>-0.674</td>\n      <td>-7.393</td>\n      <td>-1.254</td>\n      <td>27.375</td>\n      <td>4.376</td>\n      <td>0.595</td>\n      <td>-5.988</td>\n      <td>5.000</td>\n    </tr>\n    <tr>\n      <th>6</th>\n      <td>COMPAS_Without_Sensitive_Attributes</td>\n      <td>DecisionTreeClassifier</td>\n      <td>sex&amp;race_dis</td>\n      <td>0.573</td>\n      <td>7.741</td>\n      <td>1.127</td>\n      <td>-1.413</td>\n      <td>0.637</td>\n      <td>0.431</td>\n      <td>-4.166</td>\n      <td>5.240</td>\n      <td>-0.247</td>\n      <td>0.733</td>\n      <td>0.245</td>\n      <td>0.883</td>\n      <td>1.356</td>\n      <td>0.144</td>\n      <td>-0.637</td>\n      <td>1.413</td>\n    </tr>\n    <tr>\n      <th>7</th>\n      <td>Folktables_GA_2018</td>\n      <td>DecisionTreeClassifier</td>\n      <td>overall</td>\n      <td>-0.575</td>\n      <td>0.000</td>\n      <td>-0.770</td>\n      <td>0.110</td>\n      <td>0.875</td>\n      <td>-1.003</td>\n      <td>0.830</td>\n      <td>-1.082</td>\n      <td>0.080</td>\n      <td>-1.291</td>\n      <td>-0.610</td>\n      <td>1.701</td>\n      <td>-0.012</td>\n      <td>-0.266</td>\n      <td>-0.875</td>\n      <td>-0.110</td>\n    </tr>\n    <tr>\n      <th>8</th>\n      <td>Folktables_GA_2018</td>\n      <td>DecisionTreeClassifier</td>\n      <td>SEX_priv</td>\n      <td>0.075</td>\n      <td>0.000</td>\n      <td>0.311</td>\n      <td>-0.947</td>\n      <td>0.700</td>\n      <td>-0.870</td>\n      <td>0.719</td>\n      <td>-0.852</td>\n      <td>-0.664</td>\n      <td>-0.325</td>\n      <td>-0.083</td>\n      <td>1.499</td>\n      <td>1.053</td>\n      <td>-0.128</td>\n      <td>-0.700</td>\n      <td>0.947</td>\n    </tr>\n    <tr>\n      <th>9</th>\n      <td>Folktables_GA_2018</td>\n      <td>DecisionTreeClassifier</td>\n      <td>SEX_dis</td>\n      <td>-1.063</td>\n      <td>0.000</td>\n      <td>-1.837</td>\n      <td>1.267</td>\n      <td>0.695</td>\n      <td>-1.135</td>\n      <td>0.889</td>\n      <td>-1.247</td>\n      <td>0.690</td>\n      <td>-2.172</td>\n      <td>-0.988</td>\n      <td>1.871</td>\n      <td>-1.063</td>\n      <td>-0.397</td>\n      <td>-0.695</td>\n      <td>-1.267</td>\n    </tr>\n    <tr>\n      <th>10</th>\n      <td>Folktables_GA_2018</td>\n      <td>DecisionTreeClassifier</td>\n      <td>RAC1P_priv</td>\n      <td>-0.210</td>\n      <td>0.000</td>\n      <td>-0.207</td>\n      <td>-1.076</td>\n      <td>1.255</td>\n      <td>-0.934</td>\n      <td>0.902</td>\n      <td>-1.145</td>\n      <td>-0.220</td>\n      <td>-1.348</td>\n      <td>-0.364</td>\n      <td>3.191</td>\n      <td>0.746</td>\n      <td>-0.128</td>\n      <td>-1.255</td>\n      <td>1.076</td>\n    </tr>\n    <tr>\n      <th>11</th>\n      <td>Folktables_GA_2018</td>\n      <td>DecisionTreeClassifier</td>\n      <td>RAC1P_dis</td>\n      <td>-1.335</td>\n      <td>-4.155</td>\n      <td>-1.973</td>\n      <td>2.843</td>\n      <td>0.168</td>\n      <td>-1.133</td>\n      <td>0.681</td>\n      <td>-0.953</td>\n      <td>0.637</td>\n      <td>-1.207</td>\n      <td>-1.126</td>\n      <td>-1.797</td>\n      <td>-1.516</td>\n      <td>-0.539</td>\n      <td>-0.168</td>\n      <td>-2.843</td>\n    </tr>\n    <tr>\n      <th>12</th>\n      <td>Folktables_GA_2018</td>\n      <td>DecisionTreeClassifier</td>\n      <td>SEX&amp;RAC1P_priv</td>\n      <td>0.642</td>\n      <td>0.000</td>\n      <td>0.895</td>\n      <td>-1.872</td>\n      <td>0.587</td>\n      <td>-0.828</td>\n      <td>0.701</td>\n      <td>-0.827</td>\n      <td>-0.639</td>\n      <td>-0.166</td>\n      <td>0.352</td>\n      <td>2.347</td>\n      <td>1.406</td>\n      <td>-0.027</td>\n      <td>-0.587</td>\n      <td>1.872</td>\n    </tr>\n    <tr>\n      <th>13</th>\n      <td>Folktables_GA_2018</td>\n      <td>DecisionTreeClassifier</td>\n      <td>SEX&amp;RAC1P_dis</td>\n      <td>-1.183</td>\n      <td>0.000</td>\n      <td>-2.467</td>\n      <td>4.194</td>\n      <td>-1.331</td>\n      <td>-1.300</td>\n      <td>0.437</td>\n      <td>-0.793</td>\n      <td>1.719</td>\n      <td>-1.067</td>\n      <td>-0.902</td>\n      <td>-3.782</td>\n      <td>-3.540</td>\n      <td>-0.724</td>\n      <td>1.331</td>\n      <td>-4.194</td>\n    </tr>\n  </tbody>\n</table>\n</div>"
     },
     "execution_count": 196,
     "metadata": {},
     "output_type": "execute_result"
    }
   ],
   "source": [
    "report_df"
   ],
   "metadata": {
    "collapsed": false
   }
  },
  {
   "cell_type": "code",
   "execution_count": 196,
   "outputs": [],
   "source": [],
   "metadata": {
    "collapsed": false
   }
  }
 ],
 "metadata": {
  "kernelspec": {
   "display_name": "Python 3 (ipykernel)",
   "language": "python",
   "name": "python3"
  },
  "language_info": {
   "codemirror_mode": {
    "name": "ipython",
    "version": 3
   },
   "file_extension": ".py",
   "mimetype": "text/x-python",
   "name": "python",
   "nbconvert_exporter": "python",
   "pygments_lexer": "ipython3",
   "version": "3.8.10"
  }
 },
 "nbformat": 4,
 "nbformat_minor": 5
}
