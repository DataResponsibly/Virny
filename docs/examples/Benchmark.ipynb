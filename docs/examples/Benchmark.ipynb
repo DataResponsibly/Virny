{
 "cells": [
  {
   "cell_type": "code",
   "execution_count": 4,
   "id": "248cbed8",
   "metadata": {},
   "outputs": [],
   "source": [
    "%matplotlib inline\n",
    "%load_ext autoreload\n",
    "%autoreload 2"
   ]
  },
  {
   "cell_type": "code",
   "execution_count": 5,
   "id": "7ec6cd08",
   "metadata": {},
   "outputs": [],
   "source": [
    "import os\n",
    "import shutil\n",
    "import warnings\n",
    "warnings.filterwarnings('ignore')\n",
    "os.environ[\"PYTHONWARNINGS\"] = \"ignore\""
   ]
  },
  {
   "cell_type": "code",
   "execution_count": 6,
   "id": "b8cb69f2",
   "metadata": {},
   "outputs": [
    {
     "name": "stdout",
     "output_type": "stream",
     "text": [
      "Current location:  /home/denys_herasymuk/UCU/4course_2term/Bachelor_Thesis/Code/Virny\n"
     ]
    }
   ],
   "source": [
    "cur_folder_name = os.getcwd().split('/')[-1]\n",
    "if cur_folder_name != \"Virny\":\n",
    "    os.chdir(\"../..\")\n",
    "\n",
    "print('Current location: ', os.getcwd())"
   ]
  },
  {
   "cell_type": "markdown",
   "id": "a578f2ab",
   "metadata": {},
   "source": [
    "# Benchmark"
   ]
  },
  {
   "cell_type": "markdown",
   "id": "606df34d",
   "metadata": {},
   "source": [
    "## Import dependencies"
   ]
  },
  {
   "cell_type": "code",
   "execution_count": 7,
   "id": "7a9241de",
   "metadata": {},
   "outputs": [],
   "source": [
    "import os\n",
    "import pandas as pd\n",
    "from datetime import datetime, timezone\n",
    "\n",
    "from xgboost import XGBClassifier\n",
    "from sklearn.linear_model import LogisticRegression\n",
    "from sklearn.tree import DecisionTreeClassifier\n",
    "from sklearn.ensemble import RandomForestClassifier\n",
    "\n",
    "from virny.user_interfaces.metrics_computation_interfaces import compute_metrics_multiple_runs\n",
    "from virny.utils.custom_initializers import create_config_obj, read_model_metric_dfs\n",
    "from virny.custom_classes.base_dataset import BaseDataset"
   ]
  },
  {
   "cell_type": "markdown",
   "id": "75699f5f",
   "metadata": {},
   "source": [
    "## Initialize Input Variables"
   ]
  },
  {
   "cell_type": "markdown",
   "id": "74f57422",
   "metadata": {},
   "source": [
    "### Create a Dataset class"
   ]
  },
  {
   "cell_type": "code",
   "execution_count": 8,
   "id": "9e3d7bf3",
   "metadata": {},
   "outputs": [],
   "source": [
    "class CompasWithoutSensitiveAttrsDataset(BaseDataset):\n",
    "    \"\"\"\n",
    "    Dataset class for COMPAS dataset that does not contain sensitive attributes among feature columns\n",
    "     to test blind classifiers\n",
    "\n",
    "    Parameters\n",
    "    ----------\n",
    "    dataset_path\n",
    "        Path to a dataset file\n",
    "\n",
    "    \"\"\"\n",
    "    def __init__(self, dataset_path: str):\n",
    "        # Read a dataset\n",
    "        df = pd.read_csv(dataset_path)\n",
    "\n",
    "        # Initial data types transformation\n",
    "        int_columns = ['recidivism', 'age', 'age_cat_25 - 45', 'age_cat_Greater than 45',\n",
    "                       'age_cat_Less than 25', 'c_charge_degree_F', 'c_charge_degree_M', 'sex']\n",
    "        int_columns_dct = {col: \"int\" for col in int_columns}\n",
    "        df = df.astype(int_columns_dct)\n",
    "\n",
    "        # Define params\n",
    "        target = 'recidivism'\n",
    "        numerical_columns = ['juv_fel_count', 'juv_misd_count', 'juv_other_count','priors_count']\n",
    "        categorical_columns = ['age_cat_25 - 45', 'age_cat_Greater than 45','age_cat_Less than 25',\n",
    "                                    'c_charge_degree_F', 'c_charge_degree_M']\n",
    "        features = numerical_columns + categorical_columns\n",
    "\n",
    "        super().__init__(\n",
    "            pandas_df=df,\n",
    "            features=features,\n",
    "            target=target,\n",
    "            numerical_columns=numerical_columns,\n",
    "            categorical_columns=categorical_columns\n",
    "        )"
   ]
  },
  {
   "cell_type": "code",
   "execution_count": 9,
   "id": "6c55c6a0",
   "metadata": {},
   "outputs": [
    {
     "data": {
      "text/plain": "   juv_fel_count  juv_misd_count  juv_other_count  priors_count  \\\n0            0.0       -2.340451              1.0    -15.010999   \n1            0.0        0.000000              0.0      0.000000   \n2            0.0        0.000000              0.0      0.000000   \n3            0.0        0.000000              0.0      6.000000   \n4            0.0        0.000000              0.0      7.513697   \n\n   age_cat_25 - 45  age_cat_Greater than 45  \n0                1                        0  \n1                1                        0  \n2                0                        0  \n3                1                        0  \n4                1                        0  ",
      "text/html": "<div>\n<style scoped>\n    .dataframe tbody tr th:only-of-type {\n        vertical-align: middle;\n    }\n\n    .dataframe tbody tr th {\n        vertical-align: top;\n    }\n\n    .dataframe thead th {\n        text-align: right;\n    }\n</style>\n<table border=\"1\" class=\"dataframe\">\n  <thead>\n    <tr style=\"text-align: right;\">\n      <th></th>\n      <th>juv_fel_count</th>\n      <th>juv_misd_count</th>\n      <th>juv_other_count</th>\n      <th>priors_count</th>\n      <th>age_cat_25 - 45</th>\n      <th>age_cat_Greater than 45</th>\n    </tr>\n  </thead>\n  <tbody>\n    <tr>\n      <th>0</th>\n      <td>0.0</td>\n      <td>-2.340451</td>\n      <td>1.0</td>\n      <td>-15.010999</td>\n      <td>1</td>\n      <td>0</td>\n    </tr>\n    <tr>\n      <th>1</th>\n      <td>0.0</td>\n      <td>0.000000</td>\n      <td>0.0</td>\n      <td>0.000000</td>\n      <td>1</td>\n      <td>0</td>\n    </tr>\n    <tr>\n      <th>2</th>\n      <td>0.0</td>\n      <td>0.000000</td>\n      <td>0.0</td>\n      <td>0.000000</td>\n      <td>0</td>\n      <td>0</td>\n    </tr>\n    <tr>\n      <th>3</th>\n      <td>0.0</td>\n      <td>0.000000</td>\n      <td>0.0</td>\n      <td>6.000000</td>\n      <td>1</td>\n      <td>0</td>\n    </tr>\n    <tr>\n      <th>4</th>\n      <td>0.0</td>\n      <td>0.000000</td>\n      <td>0.0</td>\n      <td>7.513697</td>\n      <td>1</td>\n      <td>0</td>\n    </tr>\n  </tbody>\n</table>\n</div>"
     },
     "execution_count": 9,
     "metadata": {},
     "output_type": "execute_result"
    }
   ],
   "source": [
    "dataset = CompasWithoutSensitiveAttrsDataset(dataset_path=os.path.join('virny', 'datasets', 'COMPAS.csv'))\n",
    "dataset.X_data[dataset.X_data.columns[:6]].head()"
   ]
  },
  {
   "cell_type": "markdown",
   "id": "95f15603",
   "metadata": {},
   "source": [
    "### Create a config object"
   ]
  },
  {
   "cell_type": "code",
   "execution_count": 10,
   "id": "61860fd1",
   "metadata": {},
   "outputs": [],
   "source": [
    "ROOT_DIR = os.path.join('docs', 'examples')\n",
    "config_yaml_path = os.path.join(ROOT_DIR, 'experiment_compas_config.yaml')\n",
    "config_yaml_content = \"\"\"\n",
    "dataset_name: COMPAS_Without_Sensitive_Attributes\n",
    "test_set_fraction: 0.2\n",
    "bootstrap_fraction: 0.8\n",
    "n_estimators: 10\n",
    "#runs_seed_lst: [100, 200, 300, 400, 500, 600]\n",
    "runs_seed_lst: [100, 200]\n",
    "sensitive_attributes_dct: {'sex': 0, 'race': 'Caucasian', 'sex&race': None}\n",
    "\"\"\"\n",
    "\n",
    "with open(config_yaml_path, 'w', encoding='utf-8') as f:\n",
    "    f.write(config_yaml_content)"
   ]
  },
  {
   "cell_type": "code",
   "execution_count": 11,
   "id": "71d8f24a",
   "metadata": {},
   "outputs": [],
   "source": [
    "config = create_config_obj(config_yaml_path=config_yaml_path)\n",
    "SAVE_RESULTS_DIR_PATH = os.path.join(ROOT_DIR, 'results', 'benchmark', 'benchmark_results', config.dataset_name)\n",
    "STANDARD_RESULTS_DIR_PATH = os.path.join(ROOT_DIR, 'results', 'benchmark', 'standard_results', config.dataset_name)"
   ]
  },
  {
   "cell_type": "code",
   "execution_count": 14,
   "outputs": [],
   "source": [
    "def clear_directory(dir_path):\n",
    "    if not os.path.exists(dir_path):\n",
    "        print('Directory does not exist --> skip deletion')\n",
    "        return\n",
    "\n",
    "    for filename in os.listdir(dir_path):\n",
    "        file_path = os.path.join(dir_path, filename)\n",
    "        try:\n",
    "            if os.path.isfile(file_path) or os.path.islink(file_path):\n",
    "                os.unlink(file_path)\n",
    "            elif os.path.isdir(file_path):\n",
    "                shutil.rmtree(file_path)\n",
    "        except Exception as e:\n",
    "            print('Failed to delete %s. Reason: %s' % (file_path, e))\n",
    "\n",
    "    print('Directory is cleared')"
   ],
   "metadata": {
    "collapsed": false
   }
  },
  {
   "cell_type": "code",
   "execution_count": 15,
   "outputs": [],
   "source": [
    "clear_directory(SAVE_RESULTS_DIR_PATH)"
   ],
   "metadata": {
    "collapsed": false
   }
  },
  {
   "cell_type": "markdown",
   "id": "d42b81d1",
   "metadata": {},
   "source": [
    "### Create a models config"
   ]
  },
  {
   "cell_type": "code",
   "execution_count": 16,
   "id": "b995b73b",
   "metadata": {},
   "outputs": [],
   "source": [
    "models_config = {\n",
    "    'DecisionTreeClassifier': DecisionTreeClassifier(criterion='gini',\n",
    "                                                     max_depth=20,\n",
    "                                                     max_features=0.6,\n",
    "                                                     min_samples_split=0.1),\n",
    "    'LogisticRegression': LogisticRegression(C=1,\n",
    "                                             max_iter=50,\n",
    "                                             penalty='l2',\n",
    "                                             solver='newton-cg'),\n",
    "#     'RandomForestClassifier': RandomForestClassifier(max_depth=4,\n",
    "#                                                      max_features=0.6,\n",
    "#                                                      min_samples_leaf=1,\n",
    "#                                                      n_estimators=50),\n",
    "#     'XGBClassifier': XGBClassifier(learning_rate=0.1,\n",
    "#                                    max_depth=5,\n",
    "#                                    n_estimators=20),\n",
    "}"
   ]
  },
  {
   "cell_type": "markdown",
   "id": "f445b64a",
   "metadata": {},
   "source": [
    "## Subgroup Metrics Computation"
   ]
  },
  {
   "cell_type": "code",
   "execution_count": 17,
   "id": "197eadaa",
   "metadata": {},
   "outputs": [
    {
     "data": {
      "text/plain": "Multiple runs progress:   0%|          | 0/2 [00:00<?, ?it/s]",
      "application/vnd.jupyter.widget-view+json": {
       "version_major": 2,
       "version_minor": 0,
       "model_id": "e62d526cade34f30bb2a75f64768bfa9"
      }
     },
     "metadata": {},
     "output_type": "display_data"
    },
    {
     "data": {
      "text/plain": "Analyze models in one run:   0%|          | 0/2 [00:00<?, ?it/s]",
      "application/vnd.jupyter.widget-view+json": {
       "version_major": 2,
       "version_minor": 0,
       "model_id": "9ee79ed3f1bd41139b9c03ddb5048b2c"
      }
     },
     "metadata": {},
     "output_type": "display_data"
    },
    {
     "name": "stdout",
     "output_type": "stream",
     "text": [
      "##############################  [Model 1 / 2] Analyze DecisionTreeClassifier  ##############################\n",
      "Model random_state:  101\n",
      "Baseline X_train shape:  (4222, 9)\n",
      "Baseline X_test shape:  (1056, 9)\n",
      "\n",
      "\n"
     ]
    },
    {
     "name": "stderr",
     "output_type": "stream",
     "text": [
      "2023-02-03 23:13:31 abstract_overall_variance_analyzer.py INFO    : Start classifiers testing by bootstrap\n"
     ]
    },
    {
     "data": {
      "text/plain": "Classifiers testing by bootstrap:   0%|          | 0/10 [00:00<?, ?it/s]",
      "application/vnd.jupyter.widget-view+json": {
       "version_major": 2,
       "version_minor": 0,
       "model_id": "2ad93c59e75348a8837fb4700a963424"
      }
     },
     "metadata": {},
     "output_type": "display_data"
    },
    {
     "name": "stdout",
     "output_type": "stream",
     "text": [
      "\n",
      "\n"
     ]
    },
    {
     "name": "stderr",
     "output_type": "stream",
     "text": [
      "2023-02-03 23:13:31 abstract_overall_variance_analyzer.py INFO    : Successfully tested classifiers by bootstrap\n",
      "2023-02-03 23:13:31 abstract_overall_variance_analyzer.py INFO    : Successfully computed predict proba metrics\n"
     ]
    },
    {
     "name": "stdout",
     "output_type": "stream",
     "text": [
      "\n",
      "\n",
      "\n",
      "\n",
      "##############################  [Model 2 / 2] Analyze LogisticRegression  ##############################\n",
      "Model random_state:  102\n",
      "Baseline X_train shape:  (4222, 9)\n",
      "Baseline X_test shape:  (1056, 9)\n",
      "\n",
      "\n"
     ]
    },
    {
     "name": "stderr",
     "output_type": "stream",
     "text": [
      "2023-02-03 23:13:32 abstract_overall_variance_analyzer.py INFO    : Start classifiers testing by bootstrap\n"
     ]
    },
    {
     "data": {
      "text/plain": "Classifiers testing by bootstrap:   0%|          | 0/10 [00:00<?, ?it/s]",
      "application/vnd.jupyter.widget-view+json": {
       "version_major": 2,
       "version_minor": 0,
       "model_id": "08af7daf1d524b5598d2579515e49ef1"
      }
     },
     "metadata": {},
     "output_type": "display_data"
    },
    {
     "name": "stdout",
     "output_type": "stream",
     "text": [
      "\n",
      "\n"
     ]
    },
    {
     "name": "stderr",
     "output_type": "stream",
     "text": [
      "2023-02-03 23:13:32 abstract_overall_variance_analyzer.py INFO    : Successfully tested classifiers by bootstrap\n",
      "2023-02-03 23:13:33 abstract_overall_variance_analyzer.py INFO    : Successfully computed predict proba metrics\n"
     ]
    },
    {
     "name": "stdout",
     "output_type": "stream",
     "text": [
      "\n",
      "\n",
      "\n",
      "\n"
     ]
    },
    {
     "data": {
      "text/plain": "Analyze models in one run:   0%|          | 0/2 [00:00<?, ?it/s]",
      "application/vnd.jupyter.widget-view+json": {
       "version_major": 2,
       "version_minor": 0,
       "model_id": "c3f7fec5f63940eaac6e23708d8a85f4"
      }
     },
     "metadata": {},
     "output_type": "display_data"
    },
    {
     "name": "stdout",
     "output_type": "stream",
     "text": [
      "##############################  [Model 1 / 2] Analyze DecisionTreeClassifier  ##############################\n",
      "Model random_state:  201\n",
      "Baseline X_train shape:  (4222, 9)\n",
      "Baseline X_test shape:  (1056, 9)\n",
      "\n",
      "\n"
     ]
    },
    {
     "name": "stderr",
     "output_type": "stream",
     "text": [
      "2023-02-03 23:13:33 abstract_overall_variance_analyzer.py INFO    : Start classifiers testing by bootstrap\n"
     ]
    },
    {
     "data": {
      "text/plain": "Classifiers testing by bootstrap:   0%|          | 0/10 [00:00<?, ?it/s]",
      "application/vnd.jupyter.widget-view+json": {
       "version_major": 2,
       "version_minor": 0,
       "model_id": "7ab0295f3aa040d2b0709797e4d07359"
      }
     },
     "metadata": {},
     "output_type": "display_data"
    },
    {
     "name": "stdout",
     "output_type": "stream",
     "text": [
      "\n",
      "\n"
     ]
    },
    {
     "name": "stderr",
     "output_type": "stream",
     "text": [
      "2023-02-03 23:13:33 abstract_overall_variance_analyzer.py INFO    : Successfully tested classifiers by bootstrap\n",
      "2023-02-03 23:13:34 abstract_overall_variance_analyzer.py INFO    : Successfully computed predict proba metrics\n"
     ]
    },
    {
     "name": "stdout",
     "output_type": "stream",
     "text": [
      "\n",
      "\n",
      "\n",
      "\n",
      "##############################  [Model 2 / 2] Analyze LogisticRegression  ##############################\n",
      "Model random_state:  202\n",
      "Baseline X_train shape:  (4222, 9)\n",
      "Baseline X_test shape:  (1056, 9)\n",
      "\n",
      "\n"
     ]
    },
    {
     "name": "stderr",
     "output_type": "stream",
     "text": [
      "2023-02-03 23:13:34 abstract_overall_variance_analyzer.py INFO    : Start classifiers testing by bootstrap\n"
     ]
    },
    {
     "data": {
      "text/plain": "Classifiers testing by bootstrap:   0%|          | 0/10 [00:00<?, ?it/s]",
      "application/vnd.jupyter.widget-view+json": {
       "version_major": 2,
       "version_minor": 0,
       "model_id": "c047e84ec28b41d09db396bef3bf5f08"
      }
     },
     "metadata": {},
     "output_type": "display_data"
    },
    {
     "name": "stdout",
     "output_type": "stream",
     "text": [
      "\n",
      "\n"
     ]
    },
    {
     "name": "stderr",
     "output_type": "stream",
     "text": [
      "2023-02-03 23:13:35 abstract_overall_variance_analyzer.py INFO    : Successfully tested classifiers by bootstrap\n",
      "2023-02-03 23:13:35 abstract_overall_variance_analyzer.py INFO    : Successfully computed predict proba metrics\n"
     ]
    },
    {
     "name": "stdout",
     "output_type": "stream",
     "text": [
      "\n",
      "\n",
      "\n",
      "\n"
     ]
    }
   ],
   "source": [
    "multiple_run_metrics_dct = compute_metrics_multiple_runs(dataset, config, models_config, SAVE_RESULTS_DIR_PATH, debug_mode=False)"
   ]
  },
  {
   "cell_type": "code",
   "execution_count": 18,
   "id": "bea94683",
   "metadata": {},
   "outputs": [
    {
     "data": {
      "text/plain": "                 Metric   overall  sex_priv   sex_dis  race_priv  race_dis  \\\n0                  Mean  0.523945  0.558551  0.515909   0.588504  0.480118   \n1                   Std  0.069135  0.075296  0.067704   0.066244  0.071097   \n2                   IQR  0.080063  0.083216  0.079331   0.078753  0.080953   \n3               Entropy  0.000000  0.240969  0.000000   0.000000  0.227210   \n4                Jitter  0.154209  0.175209  0.149332   0.139006  0.164529   \n5   Per_Sample_Accuracy  0.657576  0.673869  0.653792   0.660656  0.655485   \n6       Label_Stability  0.791288  0.763819  0.797666   0.806557  0.780922   \n7                   TPR  0.603696  0.528571  0.616307   0.446541  0.679878   \n8                   TNR  0.741652  0.782946  0.729545   0.794776  0.694352   \n9                   PPV  0.666667  0.569231  0.683511   0.563492  0.707937   \n10                  FNR  0.396304  0.471429  0.383693   0.553459  0.320122   \n11                  FPR  0.258348  0.217054  0.270455   0.205224  0.305648   \n12             Accuracy  0.678030  0.693467  0.674446   0.665105  0.686804   \n13                   F1  0.633621  0.548148  0.648172   0.498246  0.693624   \n14       Selection-Rate  0.417614  0.326633  0.438740   0.295082  0.500795   \n15        Positive-Rate  0.905544  0.928571  0.901679   0.792453  0.960366   \n0                  Mean  0.520373  0.552075  0.512966   0.584678  0.479724   \n1                   Std  0.065375  0.070361  0.064210   0.059425  0.069136   \n2                   IQR  0.070883  0.073022  0.070384   0.062524  0.076168   \n3               Entropy  0.000000  0.185557  0.000000   0.000000  0.000000   \n\n    sex&race_priv  sex&race_dis  Model_Seed              Model_Name Run_Number  \n0        0.588024      0.468318         101  DecisionTreeClassifier      Run_1  \n1        0.081376      0.071230         101  DecisionTreeClassifier      Run_1  \n2        0.096722      0.082762         101  DecisionTreeClassifier      Run_1  \n3        0.227224      0.221926         101  DecisionTreeClassifier      Run_1  \n4        0.165909      0.160661         101  DecisionTreeClassifier      Run_1  \n5        0.653409      0.648069         101  DecisionTreeClassifier      Run_1  \n6        0.770455      0.785714         101  DecisionTreeClassifier      Run_1  \n7        0.440000      0.696113         101  DecisionTreeClassifier      Run_1  \n8        0.730159      0.655319         101  DecisionTreeClassifier      Run_1  \n9        0.392857      0.708633         101  DecisionTreeClassifier      Run_1  \n10       0.560000      0.303887         101  DecisionTreeClassifier      Run_1  \n11       0.269841      0.344681         101  DecisionTreeClassifier      Run_1  \n12       0.647727      0.677606         101  DecisionTreeClassifier      Run_1  \n13       0.415094      0.702317         101  DecisionTreeClassifier      Run_1  \n14       0.318182      0.536680         101  DecisionTreeClassifier      Run_1  \n15       1.120000      0.982332         101  DecisionTreeClassifier      Run_1  \n0        0.592931      0.471070         201  DecisionTreeClassifier      Run_2  \n1        0.072955      0.069300         201  DecisionTreeClassifier      Run_2  \n2        0.071488      0.076584         201  DecisionTreeClassifier      Run_2  \n3        0.000000      0.000000         201  DecisionTreeClassifier      Run_2  ",
      "text/html": "<div>\n<style scoped>\n    .dataframe tbody tr th:only-of-type {\n        vertical-align: middle;\n    }\n\n    .dataframe tbody tr th {\n        vertical-align: top;\n    }\n\n    .dataframe thead th {\n        text-align: right;\n    }\n</style>\n<table border=\"1\" class=\"dataframe\">\n  <thead>\n    <tr style=\"text-align: right;\">\n      <th></th>\n      <th>Metric</th>\n      <th>overall</th>\n      <th>sex_priv</th>\n      <th>sex_dis</th>\n      <th>race_priv</th>\n      <th>race_dis</th>\n      <th>sex&amp;race_priv</th>\n      <th>sex&amp;race_dis</th>\n      <th>Model_Seed</th>\n      <th>Model_Name</th>\n      <th>Run_Number</th>\n    </tr>\n  </thead>\n  <tbody>\n    <tr>\n      <th>0</th>\n      <td>Mean</td>\n      <td>0.523945</td>\n      <td>0.558551</td>\n      <td>0.515909</td>\n      <td>0.588504</td>\n      <td>0.480118</td>\n      <td>0.588024</td>\n      <td>0.468318</td>\n      <td>101</td>\n      <td>DecisionTreeClassifier</td>\n      <td>Run_1</td>\n    </tr>\n    <tr>\n      <th>1</th>\n      <td>Std</td>\n      <td>0.069135</td>\n      <td>0.075296</td>\n      <td>0.067704</td>\n      <td>0.066244</td>\n      <td>0.071097</td>\n      <td>0.081376</td>\n      <td>0.071230</td>\n      <td>101</td>\n      <td>DecisionTreeClassifier</td>\n      <td>Run_1</td>\n    </tr>\n    <tr>\n      <th>2</th>\n      <td>IQR</td>\n      <td>0.080063</td>\n      <td>0.083216</td>\n      <td>0.079331</td>\n      <td>0.078753</td>\n      <td>0.080953</td>\n      <td>0.096722</td>\n      <td>0.082762</td>\n      <td>101</td>\n      <td>DecisionTreeClassifier</td>\n      <td>Run_1</td>\n    </tr>\n    <tr>\n      <th>3</th>\n      <td>Entropy</td>\n      <td>0.000000</td>\n      <td>0.240969</td>\n      <td>0.000000</td>\n      <td>0.000000</td>\n      <td>0.227210</td>\n      <td>0.227224</td>\n      <td>0.221926</td>\n      <td>101</td>\n      <td>DecisionTreeClassifier</td>\n      <td>Run_1</td>\n    </tr>\n    <tr>\n      <th>4</th>\n      <td>Jitter</td>\n      <td>0.154209</td>\n      <td>0.175209</td>\n      <td>0.149332</td>\n      <td>0.139006</td>\n      <td>0.164529</td>\n      <td>0.165909</td>\n      <td>0.160661</td>\n      <td>101</td>\n      <td>DecisionTreeClassifier</td>\n      <td>Run_1</td>\n    </tr>\n    <tr>\n      <th>5</th>\n      <td>Per_Sample_Accuracy</td>\n      <td>0.657576</td>\n      <td>0.673869</td>\n      <td>0.653792</td>\n      <td>0.660656</td>\n      <td>0.655485</td>\n      <td>0.653409</td>\n      <td>0.648069</td>\n      <td>101</td>\n      <td>DecisionTreeClassifier</td>\n      <td>Run_1</td>\n    </tr>\n    <tr>\n      <th>6</th>\n      <td>Label_Stability</td>\n      <td>0.791288</td>\n      <td>0.763819</td>\n      <td>0.797666</td>\n      <td>0.806557</td>\n      <td>0.780922</td>\n      <td>0.770455</td>\n      <td>0.785714</td>\n      <td>101</td>\n      <td>DecisionTreeClassifier</td>\n      <td>Run_1</td>\n    </tr>\n    <tr>\n      <th>7</th>\n      <td>TPR</td>\n      <td>0.603696</td>\n      <td>0.528571</td>\n      <td>0.616307</td>\n      <td>0.446541</td>\n      <td>0.679878</td>\n      <td>0.440000</td>\n      <td>0.696113</td>\n      <td>101</td>\n      <td>DecisionTreeClassifier</td>\n      <td>Run_1</td>\n    </tr>\n    <tr>\n      <th>8</th>\n      <td>TNR</td>\n      <td>0.741652</td>\n      <td>0.782946</td>\n      <td>0.729545</td>\n      <td>0.794776</td>\n      <td>0.694352</td>\n      <td>0.730159</td>\n      <td>0.655319</td>\n      <td>101</td>\n      <td>DecisionTreeClassifier</td>\n      <td>Run_1</td>\n    </tr>\n    <tr>\n      <th>9</th>\n      <td>PPV</td>\n      <td>0.666667</td>\n      <td>0.569231</td>\n      <td>0.683511</td>\n      <td>0.563492</td>\n      <td>0.707937</td>\n      <td>0.392857</td>\n      <td>0.708633</td>\n      <td>101</td>\n      <td>DecisionTreeClassifier</td>\n      <td>Run_1</td>\n    </tr>\n    <tr>\n      <th>10</th>\n      <td>FNR</td>\n      <td>0.396304</td>\n      <td>0.471429</td>\n      <td>0.383693</td>\n      <td>0.553459</td>\n      <td>0.320122</td>\n      <td>0.560000</td>\n      <td>0.303887</td>\n      <td>101</td>\n      <td>DecisionTreeClassifier</td>\n      <td>Run_1</td>\n    </tr>\n    <tr>\n      <th>11</th>\n      <td>FPR</td>\n      <td>0.258348</td>\n      <td>0.217054</td>\n      <td>0.270455</td>\n      <td>0.205224</td>\n      <td>0.305648</td>\n      <td>0.269841</td>\n      <td>0.344681</td>\n      <td>101</td>\n      <td>DecisionTreeClassifier</td>\n      <td>Run_1</td>\n    </tr>\n    <tr>\n      <th>12</th>\n      <td>Accuracy</td>\n      <td>0.678030</td>\n      <td>0.693467</td>\n      <td>0.674446</td>\n      <td>0.665105</td>\n      <td>0.686804</td>\n      <td>0.647727</td>\n      <td>0.677606</td>\n      <td>101</td>\n      <td>DecisionTreeClassifier</td>\n      <td>Run_1</td>\n    </tr>\n    <tr>\n      <th>13</th>\n      <td>F1</td>\n      <td>0.633621</td>\n      <td>0.548148</td>\n      <td>0.648172</td>\n      <td>0.498246</td>\n      <td>0.693624</td>\n      <td>0.415094</td>\n      <td>0.702317</td>\n      <td>101</td>\n      <td>DecisionTreeClassifier</td>\n      <td>Run_1</td>\n    </tr>\n    <tr>\n      <th>14</th>\n      <td>Selection-Rate</td>\n      <td>0.417614</td>\n      <td>0.326633</td>\n      <td>0.438740</td>\n      <td>0.295082</td>\n      <td>0.500795</td>\n      <td>0.318182</td>\n      <td>0.536680</td>\n      <td>101</td>\n      <td>DecisionTreeClassifier</td>\n      <td>Run_1</td>\n    </tr>\n    <tr>\n      <th>15</th>\n      <td>Positive-Rate</td>\n      <td>0.905544</td>\n      <td>0.928571</td>\n      <td>0.901679</td>\n      <td>0.792453</td>\n      <td>0.960366</td>\n      <td>1.120000</td>\n      <td>0.982332</td>\n      <td>101</td>\n      <td>DecisionTreeClassifier</td>\n      <td>Run_1</td>\n    </tr>\n    <tr>\n      <th>0</th>\n      <td>Mean</td>\n      <td>0.520373</td>\n      <td>0.552075</td>\n      <td>0.512966</td>\n      <td>0.584678</td>\n      <td>0.479724</td>\n      <td>0.592931</td>\n      <td>0.471070</td>\n      <td>201</td>\n      <td>DecisionTreeClassifier</td>\n      <td>Run_2</td>\n    </tr>\n    <tr>\n      <th>1</th>\n      <td>Std</td>\n      <td>0.065375</td>\n      <td>0.070361</td>\n      <td>0.064210</td>\n      <td>0.059425</td>\n      <td>0.069136</td>\n      <td>0.072955</td>\n      <td>0.069300</td>\n      <td>201</td>\n      <td>DecisionTreeClassifier</td>\n      <td>Run_2</td>\n    </tr>\n    <tr>\n      <th>2</th>\n      <td>IQR</td>\n      <td>0.070883</td>\n      <td>0.073022</td>\n      <td>0.070384</td>\n      <td>0.062524</td>\n      <td>0.076168</td>\n      <td>0.071488</td>\n      <td>0.076584</td>\n      <td>201</td>\n      <td>DecisionTreeClassifier</td>\n      <td>Run_2</td>\n    </tr>\n    <tr>\n      <th>3</th>\n      <td>Entropy</td>\n      <td>0.000000</td>\n      <td>0.185557</td>\n      <td>0.000000</td>\n      <td>0.000000</td>\n      <td>0.000000</td>\n      <td>0.000000</td>\n      <td>0.000000</td>\n      <td>201</td>\n      <td>DecisionTreeClassifier</td>\n      <td>Run_2</td>\n    </tr>\n  </tbody>\n</table>\n</div>"
     },
     "execution_count": 18,
     "metadata": {},
     "output_type": "execute_result"
    }
   ],
   "source": [
    "sample_model_metrics_df = multiple_run_metrics_dct[list(models_config.keys())[0]]\n",
    "sample_model_metrics_df.head(20)"
   ]
  },
  {
   "cell_type": "markdown",
   "source": [
    "## Create a Benchmark Report"
   ],
   "metadata": {
    "collapsed": false
   }
  },
  {
   "cell_type": "code",
   "execution_count": 51,
   "outputs": [],
   "source": [
    "def convert_transposed_df_to_df(delta_model_metrics_df, subgroup_names, metric_names):\n",
    "    converted_df_dct = {'Subgroup': []}\n",
    "    for metric_name in metric_names:\n",
    "        converted_df_dct[metric_name] = []\n",
    "\n",
    "    for subgroup_name in subgroup_names:\n",
    "        for metric_name in metric_names:\n",
    "            subgroup_metric = delta_model_metrics_df.loc[delta_model_metrics_df['Metric'] == metric_name][subgroup_name].values[0]\n",
    "            converted_df_dct[metric_name].append(subgroup_metric)\n",
    "\n",
    "        converted_df_dct['Subgroup'].append(subgroup_name)\n",
    "\n",
    "    return pd.DataFrame(converted_df_dct)\n",
    "\n",
    "\n",
    "def populate_benchmark_report(report_df, models_metrics_dct, standard_models_metrics_dct, dataset_name, sensitive_attributes_dct):\n",
    "    for model_name in models_metrics_dct.keys():\n",
    "        benchmark_model_metrics_df = models_metrics_dct[model_name]\n",
    "        standard_model_metrics_df = standard_models_metrics_dct[model_name]\n",
    "\n",
    "        subgroup_names = ['overall']\n",
    "        for group_name in sensitive_attributes_dct.keys():\n",
    "            subgroup_names.append(group_name + '_priv')\n",
    "            subgroup_names.append(group_name + '_dis')\n",
    "\n",
    "        delta_model_metrics_df = pd.DataFrame()\n",
    "        delta_model_metrics_df['Metric'] = standard_model_metrics_df['Metric']\n",
    "        delta_model_metrics_df[subgroup_names] = \\\n",
    "            standard_model_metrics_df[subgroup_names].sub(benchmark_model_metrics_df[subgroup_names], fill_value=0) * 100\n",
    "\n",
    "        metric_names = list(delta_model_metrics_df['Metric'].unique())\n",
    "        converted_df = convert_transposed_df_to_df(delta_model_metrics_df, subgroup_names, metric_names)\n",
    "        converted_df['Dataset'] = dataset_name\n",
    "        converted_df['Model'] = model_name\n",
    "        converted_df = converted_df.rename(columns={metric_name: 'Delta%_' + metric_name for metric_name in metric_names})\n",
    "        columns_positions = ['Dataset', 'Model'] + [col for col in converted_df.columns if col not in ['Dataset', 'Model']]\n",
    "        converted_df = converted_df[columns_positions]\n",
    "\n",
    "        report_df = pd.concat([report_df, converted_df])\n",
    "\n",
    "    return report_df"
   ],
   "metadata": {
    "collapsed": false
   }
  },
  {
   "cell_type": "code",
   "execution_count": 41,
   "outputs": [],
   "source": [
    "def create_averaged_dfs_dict(models_metrics_dct):\n",
    "    models_average_metrics_dct = dict()\n",
    "    for model_name in models_metrics_dct.keys():\n",
    "        columns_to_group = [col for col in models_metrics_dct[model_name].columns\n",
    "                            if col not in ('Model_Seed', 'Run_Number')]\n",
    "        models_average_metrics_dct[model_name] = models_metrics_dct[model_name][columns_to_group].groupby(['Metric', 'Model_Name']).mean().reset_index()\n",
    "\n",
    "    return models_average_metrics_dct"
   ],
   "metadata": {
    "collapsed": false
   }
  },
  {
   "cell_type": "code",
   "execution_count": 47,
   "outputs": [],
   "source": [
    "models_metrics_dct = read_model_metric_dfs(SAVE_RESULTS_DIR_PATH, model_names=models_config.keys())\n",
    "standard_models_metrics_dct = read_model_metric_dfs(STANDARD_RESULTS_DIR_PATH, model_names=models_config.keys())\n",
    "\n",
    "avg_models_metrics_dct = create_averaged_dfs_dict(models_metrics_dct)\n",
    "avg_standard_models_metrics_dct = create_averaged_dfs_dict(standard_models_metrics_dct)"
   ],
   "metadata": {
    "collapsed": false
   }
  },
  {
   "cell_type": "code",
   "execution_count": 48,
   "outputs": [
    {
     "data": {
      "text/plain": "     Metric              Model_Name   overall  sex_priv   sex_dis  race_priv  \\\n0  Accuracy  DecisionTreeClassifier  0.673295  0.679234  0.671919   0.662626   \n1   Entropy  DecisionTreeClassifier  0.000000  0.213263  0.000000   0.000000   \n2        F1  DecisionTreeClassifier  0.635651  0.566000  0.648309   0.500019   \n3       FNR  DecisionTreeClassifier  0.373941  0.430519  0.363957   0.538634   \n4       FPR  DecisionTreeClassifier  0.286661  0.258934  0.294616   0.220933   \n\n   race_dis  sex&race_priv  sex&race_dis  \n0  0.680342       0.662944      0.677754  \n1  0.113605       0.113612      0.110963  \n2  0.693246       0.481741      0.704900  \n3  0.297256       0.514375      0.284452  \n4  0.342479       0.253102      0.365568  ",
      "text/html": "<div>\n<style scoped>\n    .dataframe tbody tr th:only-of-type {\n        vertical-align: middle;\n    }\n\n    .dataframe tbody tr th {\n        vertical-align: top;\n    }\n\n    .dataframe thead th {\n        text-align: right;\n    }\n</style>\n<table border=\"1\" class=\"dataframe\">\n  <thead>\n    <tr style=\"text-align: right;\">\n      <th></th>\n      <th>Metric</th>\n      <th>Model_Name</th>\n      <th>overall</th>\n      <th>sex_priv</th>\n      <th>sex_dis</th>\n      <th>race_priv</th>\n      <th>race_dis</th>\n      <th>sex&amp;race_priv</th>\n      <th>sex&amp;race_dis</th>\n    </tr>\n  </thead>\n  <tbody>\n    <tr>\n      <th>0</th>\n      <td>Accuracy</td>\n      <td>DecisionTreeClassifier</td>\n      <td>0.673295</td>\n      <td>0.679234</td>\n      <td>0.671919</td>\n      <td>0.662626</td>\n      <td>0.680342</td>\n      <td>0.662944</td>\n      <td>0.677754</td>\n    </tr>\n    <tr>\n      <th>1</th>\n      <td>Entropy</td>\n      <td>DecisionTreeClassifier</td>\n      <td>0.000000</td>\n      <td>0.213263</td>\n      <td>0.000000</td>\n      <td>0.000000</td>\n      <td>0.113605</td>\n      <td>0.113612</td>\n      <td>0.110963</td>\n    </tr>\n    <tr>\n      <th>2</th>\n      <td>F1</td>\n      <td>DecisionTreeClassifier</td>\n      <td>0.635651</td>\n      <td>0.566000</td>\n      <td>0.648309</td>\n      <td>0.500019</td>\n      <td>0.693246</td>\n      <td>0.481741</td>\n      <td>0.704900</td>\n    </tr>\n    <tr>\n      <th>3</th>\n      <td>FNR</td>\n      <td>DecisionTreeClassifier</td>\n      <td>0.373941</td>\n      <td>0.430519</td>\n      <td>0.363957</td>\n      <td>0.538634</td>\n      <td>0.297256</td>\n      <td>0.514375</td>\n      <td>0.284452</td>\n    </tr>\n    <tr>\n      <th>4</th>\n      <td>FPR</td>\n      <td>DecisionTreeClassifier</td>\n      <td>0.286661</td>\n      <td>0.258934</td>\n      <td>0.294616</td>\n      <td>0.220933</td>\n      <td>0.342479</td>\n      <td>0.253102</td>\n      <td>0.365568</td>\n    </tr>\n  </tbody>\n</table>\n</div>"
     },
     "execution_count": 48,
     "metadata": {},
     "output_type": "execute_result"
    }
   ],
   "source": [
    "avg_models_metrics_dct[list(avg_models_metrics_dct.keys())[0]].head()"
   ],
   "metadata": {
    "collapsed": false
   }
  },
  {
   "cell_type": "code",
   "execution_count": 52,
   "outputs": [],
   "source": [
    "report_df = pd.DataFrame()\n",
    "report_df = populate_benchmark_report(report_df, avg_models_metrics_dct, avg_standard_models_metrics_dct,\n",
    "                                      config.dataset_name, config.sensitive_attributes_dct)"
   ],
   "metadata": {
    "collapsed": false
   }
  },
  {
   "cell_type": "code",
   "execution_count": 53,
   "outputs": [
    {
     "data": {
      "text/plain": "                               Dataset                   Model       Subgroup  \\\n0  COMPAS_Without_Sensitive_Attributes  DecisionTreeClassifier        overall   \n1  COMPAS_Without_Sensitive_Attributes  DecisionTreeClassifier       sex_priv   \n2  COMPAS_Without_Sensitive_Attributes  DecisionTreeClassifier        sex_dis   \n3  COMPAS_Without_Sensitive_Attributes  DecisionTreeClassifier      race_priv   \n4  COMPAS_Without_Sensitive_Attributes  DecisionTreeClassifier       race_dis   \n5  COMPAS_Without_Sensitive_Attributes  DecisionTreeClassifier  sex&race_priv   \n6  COMPAS_Without_Sensitive_Attributes  DecisionTreeClassifier   sex&race_dis   \n0  COMPAS_Without_Sensitive_Attributes      LogisticRegression        overall   \n1  COMPAS_Without_Sensitive_Attributes      LogisticRegression       sex_priv   \n2  COMPAS_Without_Sensitive_Attributes      LogisticRegression        sex_dis   \n3  COMPAS_Without_Sensitive_Attributes      LogisticRegression      race_priv   \n4  COMPAS_Without_Sensitive_Attributes      LogisticRegression       race_dis   \n5  COMPAS_Without_Sensitive_Attributes      LogisticRegression  sex&race_priv   \n6  COMPAS_Without_Sensitive_Attributes      LogisticRegression   sex&race_dis   \n\n   Delta_Accuracy  Delta_Entropy  Delta_F1  Delta_FNR  Delta_FPR  Delta_IQR  \\\n0        0.662879       0.000000  0.705521   0.182860  -1.425335   1.001948   \n1        0.418342       0.146750 -1.280805   1.233766  -1.087162   1.545537   \n2        0.719405       0.000000  1.007574   0.055132  -1.507046   0.875877   \n3        0.716318       0.000000  0.869194   0.224618  -1.570867   1.841348   \n4        0.646250       8.729628  0.781663  -0.152439  -1.025318   0.451637   \n5       -1.521682      10.183621 -6.664638   4.562500   1.673882   2.208402   \n6        0.371278       8.709648  0.613313  -0.176678  -0.386539   0.329728   \n0        1.183712       0.000000  0.745309  -1.124087  -0.935153   0.286156   \n1        0.345886       0.000000  4.426281  -6.651584   3.276117   0.187878   \n2        1.394232       0.000000  0.388916  -0.270923  -2.240242   0.311586   \n3        3.015048       0.000000  0.548827   0.575722  -4.111728   0.199692   \n4       -0.051138       0.000000  0.339647  -1.711984   2.039703   0.346012   \n5        2.259436       0.000000  0.117096   1.428571  -3.802083   0.130468   \n6        0.234496       0.000000 -0.074904  -0.283135  -0.323201   0.371278   \n\n   Delta_Jitter  Delta_Label_Stability  Delta_Mean  Delta_PPV  \\\n0     -2.110786               2.255682    0.500808   1.533041   \n1     -1.570699               0.784673    0.984647  -1.508151   \n2     -2.235643               2.596550    0.390740   2.059555   \n3     -2.093419               2.288967    0.461117   2.341495   \n4     -2.107766               2.225161    0.377580   1.244062   \n5     -1.192777               0.710293    0.042389  -8.690476   \n6     -2.157888               2.517664    0.091965   0.956096   \n0     -0.205406               0.346591    0.194552   0.218274   \n1     -0.171096               0.395914   -0.781939   0.635050   \n2     -0.219091               0.341574    0.402038   0.506561   \n3      0.170872              -0.207661    0.944142   3.052077   \n4     -0.457270               0.716338   -0.357135  -1.111778   \n5      0.962523              -1.782031    1.181779   3.571429   \n6     -0.315732               0.389050    0.055699  -0.470724   \n\n   Delta_Per_Sample_Accuracy  Delta_Positive-Rate  Delta_Selection-Rate  \\\n0                   0.828598            -2.710905             -0.662879   \n1                   1.852136             0.454545             -1.653266   \n2                   0.590470            -3.169023             -0.436142   \n3                   0.056366            -4.017456             -0.914437   \n4                   1.353202            -1.829268             -0.159965   \n5                  -2.277821             9.125000             -1.332288   \n6                   0.551617            -1.236749              0.206426   \n0                   0.851326             1.381115             -0.284091   \n1                   1.106056            10.731523              4.766813   \n2                   0.788810            -0.270923             -1.446087   \n3                   2.640629            -4.293521             -3.083447   \n4                  -0.355349             4.010819              1.720100   \n5                   2.037214            -7.142857             -3.078150   \n6                  -0.490706             1.040565             -0.276484   \n\n   Delta_Std  Delta_TNR  Delta_TPR  \n0   0.477875   1.425335  -0.182860  \n1   0.757052   1.087162  -1.233766  \n2   0.413407   1.507046  -0.055132  \n3   0.855857   1.570867  -0.224618  \n4   0.235175   1.025318   0.152439  \n5   1.236724  -1.673882  -4.562500  \n6   0.205572   0.386539   0.176678  \n0   0.112051   0.935153   1.124087  \n1   0.100439  -3.276117   6.651584  \n2   0.115941   2.240242   0.270923  \n3   0.048306   4.111728  -0.575722  \n4   0.156273  -2.039703   1.711984  \n5   0.038442   3.802083  -1.428571  \n6   0.158315   0.323201   0.283135  ",
      "text/html": "<div>\n<style scoped>\n    .dataframe tbody tr th:only-of-type {\n        vertical-align: middle;\n    }\n\n    .dataframe tbody tr th {\n        vertical-align: top;\n    }\n\n    .dataframe thead th {\n        text-align: right;\n    }\n</style>\n<table border=\"1\" class=\"dataframe\">\n  <thead>\n    <tr style=\"text-align: right;\">\n      <th></th>\n      <th>Dataset</th>\n      <th>Model</th>\n      <th>Subgroup</th>\n      <th>Delta_Accuracy</th>\n      <th>Delta_Entropy</th>\n      <th>Delta_F1</th>\n      <th>Delta_FNR</th>\n      <th>Delta_FPR</th>\n      <th>Delta_IQR</th>\n      <th>Delta_Jitter</th>\n      <th>Delta_Label_Stability</th>\n      <th>Delta_Mean</th>\n      <th>Delta_PPV</th>\n      <th>Delta_Per_Sample_Accuracy</th>\n      <th>Delta_Positive-Rate</th>\n      <th>Delta_Selection-Rate</th>\n      <th>Delta_Std</th>\n      <th>Delta_TNR</th>\n      <th>Delta_TPR</th>\n    </tr>\n  </thead>\n  <tbody>\n    <tr>\n      <th>0</th>\n      <td>COMPAS_Without_Sensitive_Attributes</td>\n      <td>DecisionTreeClassifier</td>\n      <td>overall</td>\n      <td>0.662879</td>\n      <td>0.000000</td>\n      <td>0.705521</td>\n      <td>0.182860</td>\n      <td>-1.425335</td>\n      <td>1.001948</td>\n      <td>-2.110786</td>\n      <td>2.255682</td>\n      <td>0.500808</td>\n      <td>1.533041</td>\n      <td>0.828598</td>\n      <td>-2.710905</td>\n      <td>-0.662879</td>\n      <td>0.477875</td>\n      <td>1.425335</td>\n      <td>-0.182860</td>\n    </tr>\n    <tr>\n      <th>1</th>\n      <td>COMPAS_Without_Sensitive_Attributes</td>\n      <td>DecisionTreeClassifier</td>\n      <td>sex_priv</td>\n      <td>0.418342</td>\n      <td>0.146750</td>\n      <td>-1.280805</td>\n      <td>1.233766</td>\n      <td>-1.087162</td>\n      <td>1.545537</td>\n      <td>-1.570699</td>\n      <td>0.784673</td>\n      <td>0.984647</td>\n      <td>-1.508151</td>\n      <td>1.852136</td>\n      <td>0.454545</td>\n      <td>-1.653266</td>\n      <td>0.757052</td>\n      <td>1.087162</td>\n      <td>-1.233766</td>\n    </tr>\n    <tr>\n      <th>2</th>\n      <td>COMPAS_Without_Sensitive_Attributes</td>\n      <td>DecisionTreeClassifier</td>\n      <td>sex_dis</td>\n      <td>0.719405</td>\n      <td>0.000000</td>\n      <td>1.007574</td>\n      <td>0.055132</td>\n      <td>-1.507046</td>\n      <td>0.875877</td>\n      <td>-2.235643</td>\n      <td>2.596550</td>\n      <td>0.390740</td>\n      <td>2.059555</td>\n      <td>0.590470</td>\n      <td>-3.169023</td>\n      <td>-0.436142</td>\n      <td>0.413407</td>\n      <td>1.507046</td>\n      <td>-0.055132</td>\n    </tr>\n    <tr>\n      <th>3</th>\n      <td>COMPAS_Without_Sensitive_Attributes</td>\n      <td>DecisionTreeClassifier</td>\n      <td>race_priv</td>\n      <td>0.716318</td>\n      <td>0.000000</td>\n      <td>0.869194</td>\n      <td>0.224618</td>\n      <td>-1.570867</td>\n      <td>1.841348</td>\n      <td>-2.093419</td>\n      <td>2.288967</td>\n      <td>0.461117</td>\n      <td>2.341495</td>\n      <td>0.056366</td>\n      <td>-4.017456</td>\n      <td>-0.914437</td>\n      <td>0.855857</td>\n      <td>1.570867</td>\n      <td>-0.224618</td>\n    </tr>\n    <tr>\n      <th>4</th>\n      <td>COMPAS_Without_Sensitive_Attributes</td>\n      <td>DecisionTreeClassifier</td>\n      <td>race_dis</td>\n      <td>0.646250</td>\n      <td>8.729628</td>\n      <td>0.781663</td>\n      <td>-0.152439</td>\n      <td>-1.025318</td>\n      <td>0.451637</td>\n      <td>-2.107766</td>\n      <td>2.225161</td>\n      <td>0.377580</td>\n      <td>1.244062</td>\n      <td>1.353202</td>\n      <td>-1.829268</td>\n      <td>-0.159965</td>\n      <td>0.235175</td>\n      <td>1.025318</td>\n      <td>0.152439</td>\n    </tr>\n    <tr>\n      <th>5</th>\n      <td>COMPAS_Without_Sensitive_Attributes</td>\n      <td>DecisionTreeClassifier</td>\n      <td>sex&amp;race_priv</td>\n      <td>-1.521682</td>\n      <td>10.183621</td>\n      <td>-6.664638</td>\n      <td>4.562500</td>\n      <td>1.673882</td>\n      <td>2.208402</td>\n      <td>-1.192777</td>\n      <td>0.710293</td>\n      <td>0.042389</td>\n      <td>-8.690476</td>\n      <td>-2.277821</td>\n      <td>9.125000</td>\n      <td>-1.332288</td>\n      <td>1.236724</td>\n      <td>-1.673882</td>\n      <td>-4.562500</td>\n    </tr>\n    <tr>\n      <th>6</th>\n      <td>COMPAS_Without_Sensitive_Attributes</td>\n      <td>DecisionTreeClassifier</td>\n      <td>sex&amp;race_dis</td>\n      <td>0.371278</td>\n      <td>8.709648</td>\n      <td>0.613313</td>\n      <td>-0.176678</td>\n      <td>-0.386539</td>\n      <td>0.329728</td>\n      <td>-2.157888</td>\n      <td>2.517664</td>\n      <td>0.091965</td>\n      <td>0.956096</td>\n      <td>0.551617</td>\n      <td>-1.236749</td>\n      <td>0.206426</td>\n      <td>0.205572</td>\n      <td>0.386539</td>\n      <td>0.176678</td>\n    </tr>\n    <tr>\n      <th>0</th>\n      <td>COMPAS_Without_Sensitive_Attributes</td>\n      <td>LogisticRegression</td>\n      <td>overall</td>\n      <td>1.183712</td>\n      <td>0.000000</td>\n      <td>0.745309</td>\n      <td>-1.124087</td>\n      <td>-0.935153</td>\n      <td>0.286156</td>\n      <td>-0.205406</td>\n      <td>0.346591</td>\n      <td>0.194552</td>\n      <td>0.218274</td>\n      <td>0.851326</td>\n      <td>1.381115</td>\n      <td>-0.284091</td>\n      <td>0.112051</td>\n      <td>0.935153</td>\n      <td>1.124087</td>\n    </tr>\n    <tr>\n      <th>1</th>\n      <td>COMPAS_Without_Sensitive_Attributes</td>\n      <td>LogisticRegression</td>\n      <td>sex_priv</td>\n      <td>0.345886</td>\n      <td>0.000000</td>\n      <td>4.426281</td>\n      <td>-6.651584</td>\n      <td>3.276117</td>\n      <td>0.187878</td>\n      <td>-0.171096</td>\n      <td>0.395914</td>\n      <td>-0.781939</td>\n      <td>0.635050</td>\n      <td>1.106056</td>\n      <td>10.731523</td>\n      <td>4.766813</td>\n      <td>0.100439</td>\n      <td>-3.276117</td>\n      <td>6.651584</td>\n    </tr>\n    <tr>\n      <th>2</th>\n      <td>COMPAS_Without_Sensitive_Attributes</td>\n      <td>LogisticRegression</td>\n      <td>sex_dis</td>\n      <td>1.394232</td>\n      <td>0.000000</td>\n      <td>0.388916</td>\n      <td>-0.270923</td>\n      <td>-2.240242</td>\n      <td>0.311586</td>\n      <td>-0.219091</td>\n      <td>0.341574</td>\n      <td>0.402038</td>\n      <td>0.506561</td>\n      <td>0.788810</td>\n      <td>-0.270923</td>\n      <td>-1.446087</td>\n      <td>0.115941</td>\n      <td>2.240242</td>\n      <td>0.270923</td>\n    </tr>\n    <tr>\n      <th>3</th>\n      <td>COMPAS_Without_Sensitive_Attributes</td>\n      <td>LogisticRegression</td>\n      <td>race_priv</td>\n      <td>3.015048</td>\n      <td>0.000000</td>\n      <td>0.548827</td>\n      <td>0.575722</td>\n      <td>-4.111728</td>\n      <td>0.199692</td>\n      <td>0.170872</td>\n      <td>-0.207661</td>\n      <td>0.944142</td>\n      <td>3.052077</td>\n      <td>2.640629</td>\n      <td>-4.293521</td>\n      <td>-3.083447</td>\n      <td>0.048306</td>\n      <td>4.111728</td>\n      <td>-0.575722</td>\n    </tr>\n    <tr>\n      <th>4</th>\n      <td>COMPAS_Without_Sensitive_Attributes</td>\n      <td>LogisticRegression</td>\n      <td>race_dis</td>\n      <td>-0.051138</td>\n      <td>0.000000</td>\n      <td>0.339647</td>\n      <td>-1.711984</td>\n      <td>2.039703</td>\n      <td>0.346012</td>\n      <td>-0.457270</td>\n      <td>0.716338</td>\n      <td>-0.357135</td>\n      <td>-1.111778</td>\n      <td>-0.355349</td>\n      <td>4.010819</td>\n      <td>1.720100</td>\n      <td>0.156273</td>\n      <td>-2.039703</td>\n      <td>1.711984</td>\n    </tr>\n    <tr>\n      <th>5</th>\n      <td>COMPAS_Without_Sensitive_Attributes</td>\n      <td>LogisticRegression</td>\n      <td>sex&amp;race_priv</td>\n      <td>2.259436</td>\n      <td>0.000000</td>\n      <td>0.117096</td>\n      <td>1.428571</td>\n      <td>-3.802083</td>\n      <td>0.130468</td>\n      <td>0.962523</td>\n      <td>-1.782031</td>\n      <td>1.181779</td>\n      <td>3.571429</td>\n      <td>2.037214</td>\n      <td>-7.142857</td>\n      <td>-3.078150</td>\n      <td>0.038442</td>\n      <td>3.802083</td>\n      <td>-1.428571</td>\n    </tr>\n    <tr>\n      <th>6</th>\n      <td>COMPAS_Without_Sensitive_Attributes</td>\n      <td>LogisticRegression</td>\n      <td>sex&amp;race_dis</td>\n      <td>0.234496</td>\n      <td>0.000000</td>\n      <td>-0.074904</td>\n      <td>-0.283135</td>\n      <td>-0.323201</td>\n      <td>0.371278</td>\n      <td>-0.315732</td>\n      <td>0.389050</td>\n      <td>0.055699</td>\n      <td>-0.470724</td>\n      <td>-0.490706</td>\n      <td>1.040565</td>\n      <td>-0.276484</td>\n      <td>0.158315</td>\n      <td>0.323201</td>\n      <td>0.283135</td>\n    </tr>\n  </tbody>\n</table>\n</div>"
     },
     "execution_count": 53,
     "metadata": {},
     "output_type": "execute_result"
    }
   ],
   "source": [
    "report_df"
   ],
   "metadata": {
    "collapsed": false
   }
  },
  {
   "cell_type": "code",
   "execution_count": null,
   "outputs": [],
   "source": [],
   "metadata": {
    "collapsed": false
   }
  }
 ],
 "metadata": {
  "kernelspec": {
   "display_name": "Python 3 (ipykernel)",
   "language": "python",
   "name": "python3"
  },
  "language_info": {
   "codemirror_mode": {
    "name": "ipython",
    "version": 3
   },
   "file_extension": ".py",
   "mimetype": "text/x-python",
   "name": "python",
   "nbconvert_exporter": "python",
   "pygments_lexer": "ipython3",
   "version": "3.8.10"
  }
 },
 "nbformat": 4,
 "nbformat_minor": 5
}
