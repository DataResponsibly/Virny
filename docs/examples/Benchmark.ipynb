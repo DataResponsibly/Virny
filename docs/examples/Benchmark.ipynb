{
 "cells": [
  {
   "cell_type": "code",
   "execution_count": 198,
   "id": "248cbed8",
   "metadata": {},
   "outputs": [
    {
     "name": "stdout",
     "output_type": "stream",
     "text": [
      "The autoreload extension is already loaded. To reload it, use:\n",
      "  %reload_ext autoreload\n"
     ]
    }
   ],
   "source": [
    "%matplotlib inline\n",
    "%load_ext autoreload\n",
    "%autoreload 2"
   ]
  },
  {
   "cell_type": "code",
   "execution_count": 199,
   "id": "7ec6cd08",
   "metadata": {},
   "outputs": [],
   "source": [
    "import os\n",
    "import warnings\n",
    "warnings.filterwarnings('ignore')\n",
    "os.environ[\"PYTHONWARNINGS\"] = \"ignore\""
   ]
  },
  {
   "cell_type": "code",
   "execution_count": 200,
   "id": "b8cb69f2",
   "metadata": {},
   "outputs": [
    {
     "name": "stdout",
     "output_type": "stream",
     "text": [
      "Current location:  /home/denys_herasymuk/UCU/4course_2term/Bachelor_Thesis/Code/Virny\n"
     ]
    }
   ],
   "source": [
    "cur_folder_name = os.getcwd().split('/')[-1]\n",
    "if cur_folder_name != \"Virny\":\n",
    "    os.chdir(\"../..\")\n",
    "\n",
    "print('Current location: ', os.getcwd())"
   ]
  },
  {
   "cell_type": "markdown",
   "id": "a578f2ab",
   "metadata": {},
   "source": [
    "# Benchmark"
   ]
  },
  {
   "cell_type": "markdown",
   "id": "606df34d",
   "metadata": {},
   "source": [
    "## Import dependencies"
   ]
  },
  {
   "cell_type": "code",
   "execution_count": 201,
   "id": "7a9241de",
   "metadata": {},
   "outputs": [],
   "source": [
    "import os\n",
    "import pandas as pd\n",
    "\n",
    "from datetime import datetime, timezone\n",
    "from xgboost import XGBClassifier\n",
    "from sklearn.linear_model import LogisticRegression\n",
    "from sklearn.tree import DecisionTreeClassifier\n",
    "from sklearn.ensemble import RandomForestClassifier\n",
    "\n",
    "from docs.examples.benchmark_utils import clear_directory, create_averaged_dfs_dict, populate_benchmark_report\n",
    "from virny.datasets.data_loaders import CompasWithoutSensitiveAttrsDataset, ACSEmploymentDataset\n",
    "from virny.user_interfaces.metrics_computation_interfaces import compute_metrics_multiple_runs\n",
    "from virny.utils.custom_initializers import create_config_obj, read_model_metric_dfs"
   ]
  },
  {
   "cell_type": "markdown",
   "source": [
    "## COMPAS_Without_Sensitive_Attributes Dataset"
   ],
   "metadata": {
    "collapsed": false
   }
  },
  {
   "cell_type": "markdown",
   "id": "75699f5f",
   "metadata": {},
   "source": [
    "## Initialize Input Variables"
   ]
  },
  {
   "cell_type": "markdown",
   "source": [
    "### Create a models config"
   ],
   "metadata": {
    "collapsed": false
   }
  },
  {
   "cell_type": "code",
   "execution_count": 203,
   "outputs": [],
   "source": [
    "models_config = {\n",
    "    'DecisionTreeClassifier': DecisionTreeClassifier(criterion='gini',\n",
    "                                                     max_depth=20,\n",
    "                                                     max_features=0.6,\n",
    "                                                     min_samples_split=0.1),\n",
    "    'LogisticRegression': LogisticRegression(C=1,\n",
    "                                             max_iter=50,\n",
    "                                             penalty='l2',\n",
    "                                             solver='newton-cg'),\n",
    "    'RandomForestClassifier': RandomForestClassifier(max_depth=4,\n",
    "                                                     max_features=0.6,\n",
    "                                                     min_samples_leaf=1,\n",
    "                                                     n_estimators=50),\n",
    "    'XGBClassifier': XGBClassifier(learning_rate=0.1,\n",
    "                                   max_depth=5,\n",
    "                                   n_estimators=20),\n",
    "}"
   ],
   "metadata": {
    "collapsed": false
   }
  },
  {
   "cell_type": "markdown",
   "id": "74f57422",
   "metadata": {},
   "source": [
    "### Create a Dataset class"
   ]
  },
  {
   "cell_type": "code",
   "execution_count": 204,
   "id": "6c55c6a0",
   "metadata": {},
   "outputs": [
    {
     "data": {
      "text/plain": "   juv_fel_count  juv_misd_count  juv_other_count  priors_count  \\\n0            0.0       -2.340451              1.0    -15.010999   \n1            0.0        0.000000              0.0      0.000000   \n2            0.0        0.000000              0.0      0.000000   \n3            0.0        0.000000              0.0      6.000000   \n4            0.0        0.000000              0.0      7.513697   \n\n   age_cat_25 - 45  age_cat_Greater than 45  age_cat_Less than 25  \\\n0                1                        0                     0   \n1                1                        0                     0   \n2                0                        0                     1   \n3                1                        0                     0   \n4                1                        0                     0   \n\n   c_charge_degree_F  c_charge_degree_M  \n0                  0                  1  \n1                  1                  0  \n2                  1                  0  \n3                  0                  1  \n4                  1                  0  ",
      "text/html": "<div>\n<style scoped>\n    .dataframe tbody tr th:only-of-type {\n        vertical-align: middle;\n    }\n\n    .dataframe tbody tr th {\n        vertical-align: top;\n    }\n\n    .dataframe thead th {\n        text-align: right;\n    }\n</style>\n<table border=\"1\" class=\"dataframe\">\n  <thead>\n    <tr style=\"text-align: right;\">\n      <th></th>\n      <th>juv_fel_count</th>\n      <th>juv_misd_count</th>\n      <th>juv_other_count</th>\n      <th>priors_count</th>\n      <th>age_cat_25 - 45</th>\n      <th>age_cat_Greater than 45</th>\n      <th>age_cat_Less than 25</th>\n      <th>c_charge_degree_F</th>\n      <th>c_charge_degree_M</th>\n    </tr>\n  </thead>\n  <tbody>\n    <tr>\n      <th>0</th>\n      <td>0.0</td>\n      <td>-2.340451</td>\n      <td>1.0</td>\n      <td>-15.010999</td>\n      <td>1</td>\n      <td>0</td>\n      <td>0</td>\n      <td>0</td>\n      <td>1</td>\n    </tr>\n    <tr>\n      <th>1</th>\n      <td>0.0</td>\n      <td>0.000000</td>\n      <td>0.0</td>\n      <td>0.000000</td>\n      <td>1</td>\n      <td>0</td>\n      <td>0</td>\n      <td>1</td>\n      <td>0</td>\n    </tr>\n    <tr>\n      <th>2</th>\n      <td>0.0</td>\n      <td>0.000000</td>\n      <td>0.0</td>\n      <td>0.000000</td>\n      <td>0</td>\n      <td>0</td>\n      <td>1</td>\n      <td>1</td>\n      <td>0</td>\n    </tr>\n    <tr>\n      <th>3</th>\n      <td>0.0</td>\n      <td>0.000000</td>\n      <td>0.0</td>\n      <td>6.000000</td>\n      <td>1</td>\n      <td>0</td>\n      <td>0</td>\n      <td>0</td>\n      <td>1</td>\n    </tr>\n    <tr>\n      <th>4</th>\n      <td>0.0</td>\n      <td>0.000000</td>\n      <td>0.0</td>\n      <td>7.513697</td>\n      <td>1</td>\n      <td>0</td>\n      <td>0</td>\n      <td>1</td>\n      <td>0</td>\n    </tr>\n  </tbody>\n</table>\n</div>"
     },
     "execution_count": 204,
     "metadata": {},
     "output_type": "execute_result"
    }
   ],
   "source": [
    "dataset = CompasWithoutSensitiveAttrsDataset(dataset_path=os.path.join('virny', 'datasets', 'COMPAS.csv'))\n",
    "dataset.X_data.head()"
   ]
  },
  {
   "cell_type": "markdown",
   "id": "95f15603",
   "metadata": {},
   "source": [
    "### Create a config object"
   ]
  },
  {
   "cell_type": "code",
   "execution_count": 205,
   "id": "61860fd1",
   "metadata": {},
   "outputs": [],
   "source": [
    "ROOT_DIR = os.path.join('docs', 'examples')\n",
    "config_yaml_path = os.path.join(ROOT_DIR, 'experiment_compas_config.yaml')\n",
    "config_yaml_content = \"\"\"\n",
    "dataset_name: COMPAS_Without_Sensitive_Attributes\n",
    "test_set_fraction: 0.2\n",
    "bootstrap_fraction: 0.8\n",
    "n_estimators: 100\n",
    "runs_seed_lst: [100, 200, 300]\n",
    "#runs_seed_lst: [100, 200]\n",
    "sensitive_attributes_dct: {'sex': 0, 'race': 'Caucasian', 'sex&race': None}\n",
    "\"\"\"\n",
    "\n",
    "with open(config_yaml_path, 'w', encoding='utf-8') as f:\n",
    "    f.write(config_yaml_content)"
   ]
  },
  {
   "cell_type": "code",
   "execution_count": 206,
   "id": "71d8f24a",
   "metadata": {},
   "outputs": [],
   "source": [
    "config = create_config_obj(config_yaml_path=config_yaml_path)\n",
    "SAVE_RESULTS_DIR_PATH1 = os.path.join(ROOT_DIR, 'results', 'benchmark', 'benchmark_results', config.dataset_name)\n",
    "STANDARD_RESULTS_DIR_PATH1 = os.path.join(ROOT_DIR, 'results', 'benchmark', 'standard_results', config.dataset_name)"
   ]
  },
  {
   "cell_type": "code",
   "execution_count": 207,
   "outputs": [
    {
     "name": "stdout",
     "output_type": "stream",
     "text": [
      "Directory is cleared\n"
     ]
    }
   ],
   "source": [
    "clear_directory(SAVE_RESULTS_DIR_PATH1)"
   ],
   "metadata": {
    "collapsed": false
   }
  },
  {
   "cell_type": "markdown",
   "id": "f445b64a",
   "metadata": {},
   "source": [
    "## Subgroup Metrics Computation"
   ]
  },
  {
   "cell_type": "code",
   "execution_count": 208,
   "id": "197eadaa",
   "metadata": {},
   "outputs": [
    {
     "data": {
      "text/plain": "Multiple runs progress:   0%|          | 0/3 [00:00<?, ?it/s]",
      "application/vnd.jupyter.widget-view+json": {
       "version_major": 2,
       "version_minor": 0,
       "model_id": "e6fad18eeed143f385e15c34baeab44b"
      }
     },
     "metadata": {},
     "output_type": "display_data"
    },
    {
     "data": {
      "text/plain": "Analyze models in one run:   0%|          | 0/4 [00:00<?, ?it/s]",
      "application/vnd.jupyter.widget-view+json": {
       "version_major": 2,
       "version_minor": 0,
       "model_id": "ae7bb078da144b3a99624f640212cb41"
      }
     },
     "metadata": {},
     "output_type": "display_data"
    },
    {
     "name": "stdout",
     "output_type": "stream",
     "text": [
      "##############################  [Model 1 / 4] Analyze DecisionTreeClassifier  ##############################\n",
      "Model random_state:  101\n",
      "Baseline X_train shape:  (4222, 9)\n",
      "Baseline X_test shape:  (1056, 9)\n",
      "\n",
      "\n"
     ]
    },
    {
     "name": "stderr",
     "output_type": "stream",
     "text": [
      "2023-02-04 13:52:40 abstract_overall_variance_analyzer.py INFO    : Start classifiers testing by bootstrap\n"
     ]
    },
    {
     "data": {
      "text/plain": "Classifiers testing by bootstrap:   0%|          | 0/100 [00:00<?, ?it/s]",
      "application/vnd.jupyter.widget-view+json": {
       "version_major": 2,
       "version_minor": 0,
       "model_id": "2d3143ef145a45569dc96e516d1b0fe5"
      }
     },
     "metadata": {},
     "output_type": "display_data"
    },
    {
     "name": "stdout",
     "output_type": "stream",
     "text": [
      "\n",
      "\n"
     ]
    },
    {
     "name": "stderr",
     "output_type": "stream",
     "text": [
      "2023-02-04 13:52:41 abstract_overall_variance_analyzer.py INFO    : Successfully tested classifiers by bootstrap\n",
      "2023-02-04 13:52:44 abstract_overall_variance_analyzer.py INFO    : Successfully computed predict proba metrics\n"
     ]
    },
    {
     "name": "stdout",
     "output_type": "stream",
     "text": [
      "\n",
      "\n",
      "\n",
      "\n",
      "##############################  [Model 2 / 4] Analyze LogisticRegression  ##############################\n",
      "Model random_state:  102\n",
      "Baseline X_train shape:  (4222, 9)\n",
      "Baseline X_test shape:  (1056, 9)\n",
      "\n",
      "\n"
     ]
    },
    {
     "name": "stderr",
     "output_type": "stream",
     "text": [
      "2023-02-04 13:52:51 abstract_overall_variance_analyzer.py INFO    : Start classifiers testing by bootstrap\n"
     ]
    },
    {
     "data": {
      "text/plain": "Classifiers testing by bootstrap:   0%|          | 0/100 [00:00<?, ?it/s]",
      "application/vnd.jupyter.widget-view+json": {
       "version_major": 2,
       "version_minor": 0,
       "model_id": "405329d87025451c8eb3dec10f3a2487"
      }
     },
     "metadata": {},
     "output_type": "display_data"
    },
    {
     "name": "stdout",
     "output_type": "stream",
     "text": [
      "\n",
      "\n"
     ]
    },
    {
     "name": "stderr",
     "output_type": "stream",
     "text": [
      "2023-02-04 13:52:55 abstract_overall_variance_analyzer.py INFO    : Successfully tested classifiers by bootstrap\n",
      "2023-02-04 13:52:57 abstract_overall_variance_analyzer.py INFO    : Successfully computed predict proba metrics\n"
     ]
    },
    {
     "name": "stdout",
     "output_type": "stream",
     "text": [
      "\n",
      "\n",
      "\n",
      "\n",
      "##############################  [Model 3 / 4] Analyze RandomForestClassifier  ##############################\n",
      "Model random_state:  103\n",
      "Baseline X_train shape:  (4222, 9)\n",
      "Baseline X_test shape:  (1056, 9)\n",
      "\n",
      "\n"
     ]
    },
    {
     "name": "stderr",
     "output_type": "stream",
     "text": [
      "2023-02-04 13:53:03 abstract_overall_variance_analyzer.py INFO    : Start classifiers testing by bootstrap\n"
     ]
    },
    {
     "data": {
      "text/plain": "Classifiers testing by bootstrap:   0%|          | 0/100 [00:00<?, ?it/s]",
      "application/vnd.jupyter.widget-view+json": {
       "version_major": 2,
       "version_minor": 0,
       "model_id": "4c3410e4c0144303b1efa1bb524d9522"
      }
     },
     "metadata": {},
     "output_type": "display_data"
    },
    {
     "name": "stdout",
     "output_type": "stream",
     "text": [
      "\n",
      "\n"
     ]
    },
    {
     "name": "stderr",
     "output_type": "stream",
     "text": [
      "2023-02-04 13:53:14 abstract_overall_variance_analyzer.py INFO    : Successfully tested classifiers by bootstrap\n",
      "2023-02-04 13:53:16 abstract_overall_variance_analyzer.py INFO    : Successfully computed predict proba metrics\n"
     ]
    },
    {
     "name": "stdout",
     "output_type": "stream",
     "text": [
      "\n",
      "\n",
      "\n",
      "\n",
      "##############################  [Model 4 / 4] Analyze XGBClassifier  ##############################\n",
      "Model random_state:  104\n",
      "Baseline X_train shape:  (4222, 9)\n",
      "Baseline X_test shape:  (1056, 9)\n",
      "\n",
      "\n"
     ]
    },
    {
     "name": "stderr",
     "output_type": "stream",
     "text": [
      "2023-02-04 13:53:22 abstract_overall_variance_analyzer.py INFO    : Start classifiers testing by bootstrap\n"
     ]
    },
    {
     "data": {
      "text/plain": "Classifiers testing by bootstrap:   0%|          | 0/100 [00:00<?, ?it/s]",
      "application/vnd.jupyter.widget-view+json": {
       "version_major": 2,
       "version_minor": 0,
       "model_id": "2fb29e0a03924c59a05e6adb0b58951c"
      }
     },
     "metadata": {},
     "output_type": "display_data"
    },
    {
     "name": "stdout",
     "output_type": "stream",
     "text": [
      "\n",
      "\n"
     ]
    },
    {
     "name": "stderr",
     "output_type": "stream",
     "text": [
      "2023-02-04 13:53:26 abstract_overall_variance_analyzer.py INFO    : Successfully tested classifiers by bootstrap\n",
      "2023-02-04 13:53:29 abstract_overall_variance_analyzer.py INFO    : Successfully computed predict proba metrics\n"
     ]
    },
    {
     "name": "stdout",
     "output_type": "stream",
     "text": [
      "\n",
      "\n",
      "\n",
      "\n"
     ]
    },
    {
     "data": {
      "text/plain": "Analyze models in one run:   0%|          | 0/4 [00:00<?, ?it/s]",
      "application/vnd.jupyter.widget-view+json": {
       "version_major": 2,
       "version_minor": 0,
       "model_id": "db0fb9d7e2e6457c9556ec79fcd07e4d"
      }
     },
     "metadata": {},
     "output_type": "display_data"
    },
    {
     "name": "stdout",
     "output_type": "stream",
     "text": [
      "##############################  [Model 1 / 4] Analyze DecisionTreeClassifier  ##############################\n",
      "Model random_state:  201\n",
      "Baseline X_train shape:  (4222, 9)\n",
      "Baseline X_test shape:  (1056, 9)\n",
      "\n",
      "\n"
     ]
    },
    {
     "name": "stderr",
     "output_type": "stream",
     "text": [
      "2023-02-04 13:53:35 abstract_overall_variance_analyzer.py INFO    : Start classifiers testing by bootstrap\n"
     ]
    },
    {
     "data": {
      "text/plain": "Classifiers testing by bootstrap:   0%|          | 0/100 [00:00<?, ?it/s]",
      "application/vnd.jupyter.widget-view+json": {
       "version_major": 2,
       "version_minor": 0,
       "model_id": "f9d5da48308d4700b197e257ec44ef70"
      }
     },
     "metadata": {},
     "output_type": "display_data"
    },
    {
     "name": "stdout",
     "output_type": "stream",
     "text": [
      "\n",
      "\n"
     ]
    },
    {
     "name": "stderr",
     "output_type": "stream",
     "text": [
      "2023-02-04 13:53:35 abstract_overall_variance_analyzer.py INFO    : Successfully tested classifiers by bootstrap\n",
      "2023-02-04 13:53:38 abstract_overall_variance_analyzer.py INFO    : Successfully computed predict proba metrics\n"
     ]
    },
    {
     "name": "stdout",
     "output_type": "stream",
     "text": [
      "\n",
      "\n",
      "\n",
      "\n",
      "##############################  [Model 2 / 4] Analyze LogisticRegression  ##############################\n",
      "Model random_state:  202\n",
      "Baseline X_train shape:  (4222, 9)\n",
      "Baseline X_test shape:  (1056, 9)\n",
      "\n",
      "\n"
     ]
    },
    {
     "name": "stderr",
     "output_type": "stream",
     "text": [
      "2023-02-04 13:53:44 abstract_overall_variance_analyzer.py INFO    : Start classifiers testing by bootstrap\n"
     ]
    },
    {
     "data": {
      "text/plain": "Classifiers testing by bootstrap:   0%|          | 0/100 [00:00<?, ?it/s]",
      "application/vnd.jupyter.widget-view+json": {
       "version_major": 2,
       "version_minor": 0,
       "model_id": "83a192a7e8b143e69bb7391eb3482e03"
      }
     },
     "metadata": {},
     "output_type": "display_data"
    },
    {
     "name": "stdout",
     "output_type": "stream",
     "text": [
      "\n",
      "\n"
     ]
    },
    {
     "name": "stderr",
     "output_type": "stream",
     "text": [
      "2023-02-04 13:53:47 abstract_overall_variance_analyzer.py INFO    : Successfully tested classifiers by bootstrap\n",
      "2023-02-04 13:53:50 abstract_overall_variance_analyzer.py INFO    : Successfully computed predict proba metrics\n"
     ]
    },
    {
     "name": "stdout",
     "output_type": "stream",
     "text": [
      "\n",
      "\n",
      "\n",
      "\n",
      "##############################  [Model 3 / 4] Analyze RandomForestClassifier  ##############################\n",
      "Model random_state:  203\n",
      "Baseline X_train shape:  (4222, 9)\n",
      "Baseline X_test shape:  (1056, 9)\n",
      "\n",
      "\n"
     ]
    },
    {
     "name": "stderr",
     "output_type": "stream",
     "text": [
      "2023-02-04 13:53:56 abstract_overall_variance_analyzer.py INFO    : Start classifiers testing by bootstrap\n"
     ]
    },
    {
     "data": {
      "text/plain": "Classifiers testing by bootstrap:   0%|          | 0/100 [00:00<?, ?it/s]",
      "application/vnd.jupyter.widget-view+json": {
       "version_major": 2,
       "version_minor": 0,
       "model_id": "3d4783a3bb98430d81cbcfeb56c28b71"
      }
     },
     "metadata": {},
     "output_type": "display_data"
    },
    {
     "name": "stdout",
     "output_type": "stream",
     "text": [
      "\n",
      "\n"
     ]
    },
    {
     "name": "stderr",
     "output_type": "stream",
     "text": [
      "2023-02-04 13:54:05 abstract_overall_variance_analyzer.py INFO    : Successfully tested classifiers by bootstrap\n",
      "2023-02-04 13:54:08 abstract_overall_variance_analyzer.py INFO    : Successfully computed predict proba metrics\n"
     ]
    },
    {
     "data": {
      "text/plain": "Classifiers testing by bootstrap:   0%|          | 0/100 [00:00<?, ?it/s]",
      "application/vnd.jupyter.widget-view+json": {
       "version_major": 2,
       "version_minor": 0,
       "model_id": "5736bc2b05124bc3809f468aa6fe5227"
      }
     },
     "metadata": {},
     "output_type": "display_data"
    },
    {
     "name": "stdout",
     "output_type": "stream",
     "text": [
      "\n",
      "\n",
      "\n",
      "\n",
      "##############################  [Model 4 / 4] Analyze XGBClassifier  ##############################\n",
      "Model random_state:  204\n",
      "Baseline X_train shape:  (4222, 9)\n",
      "Baseline X_test shape:  (1056, 9)\n",
      "\n",
      "\n"
     ]
    },
    {
     "name": "stderr",
     "output_type": "stream",
     "text": [
      "2023-02-04 13:54:15 abstract_overall_variance_analyzer.py INFO    : Start classifiers testing by bootstrap\n"
     ]
    },
    {
     "name": "stdout",
     "output_type": "stream",
     "text": [
      "\n",
      "\n"
     ]
    },
    {
     "name": "stderr",
     "output_type": "stream",
     "text": [
      "2023-02-04 13:54:21 abstract_overall_variance_analyzer.py INFO    : Successfully tested classifiers by bootstrap\n",
      "2023-02-04 13:54:24 abstract_overall_variance_analyzer.py INFO    : Successfully computed predict proba metrics\n"
     ]
    },
    {
     "name": "stdout",
     "output_type": "stream",
     "text": [
      "\n",
      "\n",
      "\n",
      "\n"
     ]
    },
    {
     "data": {
      "text/plain": "Analyze models in one run:   0%|          | 0/4 [00:00<?, ?it/s]",
      "application/vnd.jupyter.widget-view+json": {
       "version_major": 2,
       "version_minor": 0,
       "model_id": "f2730c7e7be7429fabc8095a196e9750"
      }
     },
     "metadata": {},
     "output_type": "display_data"
    },
    {
     "name": "stdout",
     "output_type": "stream",
     "text": [
      "##############################  [Model 1 / 4] Analyze DecisionTreeClassifier  ##############################\n",
      "Model random_state:  301\n",
      "Baseline X_train shape:  (4222, 9)\n",
      "Baseline X_test shape:  (1056, 9)\n",
      "\n",
      "\n"
     ]
    },
    {
     "name": "stderr",
     "output_type": "stream",
     "text": [
      "2023-02-04 13:54:32 abstract_overall_variance_analyzer.py INFO    : Start classifiers testing by bootstrap\n"
     ]
    },
    {
     "data": {
      "text/plain": "Classifiers testing by bootstrap:   0%|          | 0/100 [00:00<?, ?it/s]",
      "application/vnd.jupyter.widget-view+json": {
       "version_major": 2,
       "version_minor": 0,
       "model_id": "58aedd99f2154adfad7ccbf3f19a9ee1"
      }
     },
     "metadata": {},
     "output_type": "display_data"
    },
    {
     "name": "stdout",
     "output_type": "stream",
     "text": [
      "\n",
      "\n"
     ]
    },
    {
     "name": "stderr",
     "output_type": "stream",
     "text": [
      "2023-02-04 13:54:33 abstract_overall_variance_analyzer.py INFO    : Successfully tested classifiers by bootstrap\n",
      "2023-02-04 13:54:36 abstract_overall_variance_analyzer.py INFO    : Successfully computed predict proba metrics\n"
     ]
    },
    {
     "name": "stdout",
     "output_type": "stream",
     "text": [
      "\n",
      "\n",
      "\n",
      "\n",
      "##############################  [Model 2 / 4] Analyze LogisticRegression  ##############################\n",
      "Model random_state:  302\n",
      "Baseline X_train shape:  (4222, 9)\n",
      "Baseline X_test shape:  (1056, 9)\n",
      "\n",
      "\n"
     ]
    },
    {
     "name": "stderr",
     "output_type": "stream",
     "text": [
      "2023-02-04 13:54:44 abstract_overall_variance_analyzer.py INFO    : Start classifiers testing by bootstrap\n"
     ]
    },
    {
     "data": {
      "text/plain": "Classifiers testing by bootstrap:   0%|          | 0/100 [00:00<?, ?it/s]",
      "application/vnd.jupyter.widget-view+json": {
       "version_major": 2,
       "version_minor": 0,
       "model_id": "8ce627d9eda44a3894ce7ad937f72fb9"
      }
     },
     "metadata": {},
     "output_type": "display_data"
    },
    {
     "name": "stdout",
     "output_type": "stream",
     "text": [
      "\n",
      "\n"
     ]
    },
    {
     "name": "stderr",
     "output_type": "stream",
     "text": [
      "2023-02-04 13:54:48 abstract_overall_variance_analyzer.py INFO    : Successfully tested classifiers by bootstrap\n",
      "2023-02-04 13:54:51 abstract_overall_variance_analyzer.py INFO    : Successfully computed predict proba metrics\n"
     ]
    },
    {
     "name": "stdout",
     "output_type": "stream",
     "text": [
      "\n",
      "\n",
      "\n",
      "\n",
      "##############################  [Model 3 / 4] Analyze RandomForestClassifier  ##############################\n",
      "Model random_state:  303\n",
      "Baseline X_train shape:  (4222, 9)\n",
      "Baseline X_test shape:  (1056, 9)\n",
      "\n",
      "\n"
     ]
    },
    {
     "name": "stderr",
     "output_type": "stream",
     "text": [
      "2023-02-04 13:54:59 abstract_overall_variance_analyzer.py INFO    : Start classifiers testing by bootstrap\n"
     ]
    },
    {
     "data": {
      "text/plain": "Classifiers testing by bootstrap:   0%|          | 0/100 [00:00<?, ?it/s]",
      "application/vnd.jupyter.widget-view+json": {
       "version_major": 2,
       "version_minor": 0,
       "model_id": "9d8313e3c1214e0c8520e949de1b662d"
      }
     },
     "metadata": {},
     "output_type": "display_data"
    },
    {
     "name": "stdout",
     "output_type": "stream",
     "text": [
      "\n",
      "\n"
     ]
    },
    {
     "name": "stderr",
     "output_type": "stream",
     "text": [
      "2023-02-04 13:55:08 abstract_overall_variance_analyzer.py INFO    : Successfully tested classifiers by bootstrap\n",
      "2023-02-04 13:55:11 abstract_overall_variance_analyzer.py INFO    : Successfully computed predict proba metrics\n"
     ]
    },
    {
     "name": "stdout",
     "output_type": "stream",
     "text": [
      "\n",
      "\n",
      "\n",
      "\n",
      "##############################  [Model 4 / 4] Analyze XGBClassifier  ##############################\n",
      "Model random_state:  304\n",
      "Baseline X_train shape:  (4222, 9)\n",
      "Baseline X_test shape:  (1056, 9)\n",
      "\n",
      "\n"
     ]
    },
    {
     "name": "stderr",
     "output_type": "stream",
     "text": [
      "2023-02-04 13:55:18 abstract_overall_variance_analyzer.py INFO    : Start classifiers testing by bootstrap\n"
     ]
    },
    {
     "data": {
      "text/plain": "Classifiers testing by bootstrap:   0%|          | 0/100 [00:00<?, ?it/s]",
      "application/vnd.jupyter.widget-view+json": {
       "version_major": 2,
       "version_minor": 0,
       "model_id": "059c982daa9841dd9ddba840d23ffcae"
      }
     },
     "metadata": {},
     "output_type": "display_data"
    },
    {
     "name": "stdout",
     "output_type": "stream",
     "text": [
      "\n",
      "\n"
     ]
    },
    {
     "name": "stderr",
     "output_type": "stream",
     "text": [
      "2023-02-04 13:55:27 abstract_overall_variance_analyzer.py INFO    : Successfully tested classifiers by bootstrap\n",
      "2023-02-04 13:55:30 abstract_overall_variance_analyzer.py INFO    : Successfully computed predict proba metrics\n"
     ]
    },
    {
     "name": "stdout",
     "output_type": "stream",
     "text": [
      "\n",
      "\n",
      "\n",
      "\n"
     ]
    }
   ],
   "source": [
    "multiple_run_metrics_dct = compute_metrics_multiple_runs(dataset, config, models_config, SAVE_RESULTS_DIR_PATH1, debug_mode=False)"
   ]
  },
  {
   "cell_type": "code",
   "execution_count": 209,
   "id": "bea94683",
   "metadata": {},
   "outputs": [
    {
     "data": {
      "text/plain": "                 Metric   overall  sex_priv   sex_dis  race_priv  race_dis  \\\n0                  Mean  0.527340  0.559008  0.519987   0.592497  0.483109   \n1                   Std  0.071515  0.077613  0.070099   0.069249  0.073053   \n2                   IQR  0.087940  0.094773  0.086353   0.087878  0.087982   \n3               Entropy  0.000000  0.275627  0.000000   0.000000  0.270066   \n4                Jitter  0.164416  0.182694  0.160172   0.143729  0.178460   \n5   Per_Sample_Accuracy  0.651705  0.661558  0.649417   0.654262  0.649968   \n6       Label_Stability  0.755492  0.725126  0.762544   0.781686  0.737711   \n7                   TPR  0.597536  0.542857  0.606715   0.433962  0.676829   \n8                   TNR  0.745167  0.767442  0.738636   0.805970  0.691030   \n9                   PPV  0.667431  0.558824  0.687500   0.570248  0.704762   \n10                  FNR  0.402464  0.457143  0.393285   0.566038  0.323171   \n11                  FPR  0.254833  0.232558  0.261364   0.194030  0.308970   \n12             Accuracy  0.677083  0.688442  0.674446   0.667447  0.683625   \n13                   F1  0.630553  0.550725  0.644586   0.492857  0.690513   \n14       Selection-Rate  0.412879  0.341709  0.429405   0.283372  0.500795   \n15        Positive-Rate  0.895277  0.971429  0.882494   0.761006  0.960366   \n0                  Mean  0.522656  0.558118  0.514370   0.587541  0.481638   \n1                   Std  0.074183  0.080367  0.072738   0.071275  0.076021   \n2                   IQR  0.092941  0.101177  0.091016   0.094014  0.092262   \n3               Entropy  0.000000  0.217644  0.000000   0.000000  0.000000   \n\n    sex&race_priv  sex&race_dis  Model_Seed              Model_Name Run_Number  \n0        0.590678      0.472225         101  DecisionTreeClassifier      Run_1  \n1        0.087221      0.073708         101  DecisionTreeClassifier      Run_1  \n2        0.111339      0.089341         101  DecisionTreeClassifier      Run_1  \n3        0.265235      0.267109         101  DecisionTreeClassifier      Run_1  \n4        0.175473      0.176325         101  DecisionTreeClassifier      Run_1  \n5        0.640227      0.643861         101  DecisionTreeClassifier      Run_1  \n6        0.734545      0.742008         101  DecisionTreeClassifier      Run_1  \n7        0.440000      0.689046         101  DecisionTreeClassifier      Run_1  \n8        0.730159      0.659574         101  DecisionTreeClassifier      Run_1  \n9        0.392857      0.709091         101  DecisionTreeClassifier      Run_1  \n10       0.560000      0.310954         101  DecisionTreeClassifier      Run_1  \n11       0.269841      0.340426         101  DecisionTreeClassifier      Run_1  \n12       0.647727      0.675676         101  DecisionTreeClassifier      Run_1  \n13       0.415094      0.698925         101  DecisionTreeClassifier      Run_1  \n14       0.318182      0.530888         101  DecisionTreeClassifier      Run_1  \n15       1.120000      0.971731         101  DecisionTreeClassifier      Run_1  \n0        0.599916      0.472264         201  DecisionTreeClassifier      Run_2  \n1        0.086827      0.076154         201  DecisionTreeClassifier      Run_2  \n2        0.113072      0.092313         201  DecisionTreeClassifier      Run_2  \n3        0.221719      0.000000         201  DecisionTreeClassifier      Run_2  ",
      "text/html": "<div>\n<style scoped>\n    .dataframe tbody tr th:only-of-type {\n        vertical-align: middle;\n    }\n\n    .dataframe tbody tr th {\n        vertical-align: top;\n    }\n\n    .dataframe thead th {\n        text-align: right;\n    }\n</style>\n<table border=\"1\" class=\"dataframe\">\n  <thead>\n    <tr style=\"text-align: right;\">\n      <th></th>\n      <th>Metric</th>\n      <th>overall</th>\n      <th>sex_priv</th>\n      <th>sex_dis</th>\n      <th>race_priv</th>\n      <th>race_dis</th>\n      <th>sex&amp;race_priv</th>\n      <th>sex&amp;race_dis</th>\n      <th>Model_Seed</th>\n      <th>Model_Name</th>\n      <th>Run_Number</th>\n    </tr>\n  </thead>\n  <tbody>\n    <tr>\n      <th>0</th>\n      <td>Mean</td>\n      <td>0.527340</td>\n      <td>0.559008</td>\n      <td>0.519987</td>\n      <td>0.592497</td>\n      <td>0.483109</td>\n      <td>0.590678</td>\n      <td>0.472225</td>\n      <td>101</td>\n      <td>DecisionTreeClassifier</td>\n      <td>Run_1</td>\n    </tr>\n    <tr>\n      <th>1</th>\n      <td>Std</td>\n      <td>0.071515</td>\n      <td>0.077613</td>\n      <td>0.070099</td>\n      <td>0.069249</td>\n      <td>0.073053</td>\n      <td>0.087221</td>\n      <td>0.073708</td>\n      <td>101</td>\n      <td>DecisionTreeClassifier</td>\n      <td>Run_1</td>\n    </tr>\n    <tr>\n      <th>2</th>\n      <td>IQR</td>\n      <td>0.087940</td>\n      <td>0.094773</td>\n      <td>0.086353</td>\n      <td>0.087878</td>\n      <td>0.087982</td>\n      <td>0.111339</td>\n      <td>0.089341</td>\n      <td>101</td>\n      <td>DecisionTreeClassifier</td>\n      <td>Run_1</td>\n    </tr>\n    <tr>\n      <th>3</th>\n      <td>Entropy</td>\n      <td>0.000000</td>\n      <td>0.275627</td>\n      <td>0.000000</td>\n      <td>0.000000</td>\n      <td>0.270066</td>\n      <td>0.265235</td>\n      <td>0.267109</td>\n      <td>101</td>\n      <td>DecisionTreeClassifier</td>\n      <td>Run_1</td>\n    </tr>\n    <tr>\n      <th>4</th>\n      <td>Jitter</td>\n      <td>0.164416</td>\n      <td>0.182694</td>\n      <td>0.160172</td>\n      <td>0.143729</td>\n      <td>0.178460</td>\n      <td>0.175473</td>\n      <td>0.176325</td>\n      <td>101</td>\n      <td>DecisionTreeClassifier</td>\n      <td>Run_1</td>\n    </tr>\n    <tr>\n      <th>5</th>\n      <td>Per_Sample_Accuracy</td>\n      <td>0.651705</td>\n      <td>0.661558</td>\n      <td>0.649417</td>\n      <td>0.654262</td>\n      <td>0.649968</td>\n      <td>0.640227</td>\n      <td>0.643861</td>\n      <td>101</td>\n      <td>DecisionTreeClassifier</td>\n      <td>Run_1</td>\n    </tr>\n    <tr>\n      <th>6</th>\n      <td>Label_Stability</td>\n      <td>0.755492</td>\n      <td>0.725126</td>\n      <td>0.762544</td>\n      <td>0.781686</td>\n      <td>0.737711</td>\n      <td>0.734545</td>\n      <td>0.742008</td>\n      <td>101</td>\n      <td>DecisionTreeClassifier</td>\n      <td>Run_1</td>\n    </tr>\n    <tr>\n      <th>7</th>\n      <td>TPR</td>\n      <td>0.597536</td>\n      <td>0.542857</td>\n      <td>0.606715</td>\n      <td>0.433962</td>\n      <td>0.676829</td>\n      <td>0.440000</td>\n      <td>0.689046</td>\n      <td>101</td>\n      <td>DecisionTreeClassifier</td>\n      <td>Run_1</td>\n    </tr>\n    <tr>\n      <th>8</th>\n      <td>TNR</td>\n      <td>0.745167</td>\n      <td>0.767442</td>\n      <td>0.738636</td>\n      <td>0.805970</td>\n      <td>0.691030</td>\n      <td>0.730159</td>\n      <td>0.659574</td>\n      <td>101</td>\n      <td>DecisionTreeClassifier</td>\n      <td>Run_1</td>\n    </tr>\n    <tr>\n      <th>9</th>\n      <td>PPV</td>\n      <td>0.667431</td>\n      <td>0.558824</td>\n      <td>0.687500</td>\n      <td>0.570248</td>\n      <td>0.704762</td>\n      <td>0.392857</td>\n      <td>0.709091</td>\n      <td>101</td>\n      <td>DecisionTreeClassifier</td>\n      <td>Run_1</td>\n    </tr>\n    <tr>\n      <th>10</th>\n      <td>FNR</td>\n      <td>0.402464</td>\n      <td>0.457143</td>\n      <td>0.393285</td>\n      <td>0.566038</td>\n      <td>0.323171</td>\n      <td>0.560000</td>\n      <td>0.310954</td>\n      <td>101</td>\n      <td>DecisionTreeClassifier</td>\n      <td>Run_1</td>\n    </tr>\n    <tr>\n      <th>11</th>\n      <td>FPR</td>\n      <td>0.254833</td>\n      <td>0.232558</td>\n      <td>0.261364</td>\n      <td>0.194030</td>\n      <td>0.308970</td>\n      <td>0.269841</td>\n      <td>0.340426</td>\n      <td>101</td>\n      <td>DecisionTreeClassifier</td>\n      <td>Run_1</td>\n    </tr>\n    <tr>\n      <th>12</th>\n      <td>Accuracy</td>\n      <td>0.677083</td>\n      <td>0.688442</td>\n      <td>0.674446</td>\n      <td>0.667447</td>\n      <td>0.683625</td>\n      <td>0.647727</td>\n      <td>0.675676</td>\n      <td>101</td>\n      <td>DecisionTreeClassifier</td>\n      <td>Run_1</td>\n    </tr>\n    <tr>\n      <th>13</th>\n      <td>F1</td>\n      <td>0.630553</td>\n      <td>0.550725</td>\n      <td>0.644586</td>\n      <td>0.492857</td>\n      <td>0.690513</td>\n      <td>0.415094</td>\n      <td>0.698925</td>\n      <td>101</td>\n      <td>DecisionTreeClassifier</td>\n      <td>Run_1</td>\n    </tr>\n    <tr>\n      <th>14</th>\n      <td>Selection-Rate</td>\n      <td>0.412879</td>\n      <td>0.341709</td>\n      <td>0.429405</td>\n      <td>0.283372</td>\n      <td>0.500795</td>\n      <td>0.318182</td>\n      <td>0.530888</td>\n      <td>101</td>\n      <td>DecisionTreeClassifier</td>\n      <td>Run_1</td>\n    </tr>\n    <tr>\n      <th>15</th>\n      <td>Positive-Rate</td>\n      <td>0.895277</td>\n      <td>0.971429</td>\n      <td>0.882494</td>\n      <td>0.761006</td>\n      <td>0.960366</td>\n      <td>1.120000</td>\n      <td>0.971731</td>\n      <td>101</td>\n      <td>DecisionTreeClassifier</td>\n      <td>Run_1</td>\n    </tr>\n    <tr>\n      <th>0</th>\n      <td>Mean</td>\n      <td>0.522656</td>\n      <td>0.558118</td>\n      <td>0.514370</td>\n      <td>0.587541</td>\n      <td>0.481638</td>\n      <td>0.599916</td>\n      <td>0.472264</td>\n      <td>201</td>\n      <td>DecisionTreeClassifier</td>\n      <td>Run_2</td>\n    </tr>\n    <tr>\n      <th>1</th>\n      <td>Std</td>\n      <td>0.074183</td>\n      <td>0.080367</td>\n      <td>0.072738</td>\n      <td>0.071275</td>\n      <td>0.076021</td>\n      <td>0.086827</td>\n      <td>0.076154</td>\n      <td>201</td>\n      <td>DecisionTreeClassifier</td>\n      <td>Run_2</td>\n    </tr>\n    <tr>\n      <th>2</th>\n      <td>IQR</td>\n      <td>0.092941</td>\n      <td>0.101177</td>\n      <td>0.091016</td>\n      <td>0.094014</td>\n      <td>0.092262</td>\n      <td>0.113072</td>\n      <td>0.092313</td>\n      <td>201</td>\n      <td>DecisionTreeClassifier</td>\n      <td>Run_2</td>\n    </tr>\n    <tr>\n      <th>3</th>\n      <td>Entropy</td>\n      <td>0.000000</td>\n      <td>0.217644</td>\n      <td>0.000000</td>\n      <td>0.000000</td>\n      <td>0.000000</td>\n      <td>0.221719</td>\n      <td>0.000000</td>\n      <td>201</td>\n      <td>DecisionTreeClassifier</td>\n      <td>Run_2</td>\n    </tr>\n  </tbody>\n</table>\n</div>"
     },
     "execution_count": 209,
     "metadata": {},
     "output_type": "execute_result"
    }
   ],
   "source": [
    "sample_model_metrics_df = multiple_run_metrics_dct[list(models_config.keys())[0]]\n",
    "sample_model_metrics_df.head(20)"
   ]
  },
  {
   "cell_type": "markdown",
   "source": [
    "## Create a Benchmark Report"
   ],
   "metadata": {
    "collapsed": false
   }
  },
  {
   "cell_type": "code",
   "execution_count": 210,
   "outputs": [],
   "source": [
    "models_metrics_dct = read_model_metric_dfs(SAVE_RESULTS_DIR_PATH1, model_names=models_config.keys())\n",
    "standard_models_metrics_dct = read_model_metric_dfs(STANDARD_RESULTS_DIR_PATH1, model_names=models_config.keys())\n",
    "\n",
    "avg_models_metrics_dct = create_averaged_dfs_dict(models_metrics_dct)\n",
    "avg_standard_models_metrics_dct = create_averaged_dfs_dict(standard_models_metrics_dct)"
   ],
   "metadata": {
    "collapsed": false
   }
  },
  {
   "cell_type": "code",
   "execution_count": 211,
   "outputs": [],
   "source": [
    "report_df = pd.DataFrame()\n",
    "report_df = populate_benchmark_report(report_df, avg_models_metrics_dct, avg_standard_models_metrics_dct,\n",
    "                                      config.dataset_name, config.sensitive_attributes_dct)"
   ],
   "metadata": {
    "collapsed": false
   }
  },
  {
   "cell_type": "code",
   "execution_count": 212,
   "outputs": [
    {
     "data": {
      "text/plain": "                                Dataset                   Model  \\\n0   COMPAS_Without_Sensitive_Attributes  DecisionTreeClassifier   \n1   COMPAS_Without_Sensitive_Attributes  DecisionTreeClassifier   \n2   COMPAS_Without_Sensitive_Attributes  DecisionTreeClassifier   \n3   COMPAS_Without_Sensitive_Attributes  DecisionTreeClassifier   \n4   COMPAS_Without_Sensitive_Attributes  DecisionTreeClassifier   \n5   COMPAS_Without_Sensitive_Attributes  DecisionTreeClassifier   \n6   COMPAS_Without_Sensitive_Attributes  DecisionTreeClassifier   \n7   COMPAS_Without_Sensitive_Attributes      LogisticRegression   \n8   COMPAS_Without_Sensitive_Attributes      LogisticRegression   \n9   COMPAS_Without_Sensitive_Attributes      LogisticRegression   \n10  COMPAS_Without_Sensitive_Attributes      LogisticRegression   \n11  COMPAS_Without_Sensitive_Attributes      LogisticRegression   \n12  COMPAS_Without_Sensitive_Attributes      LogisticRegression   \n13  COMPAS_Without_Sensitive_Attributes      LogisticRegression   \n14  COMPAS_Without_Sensitive_Attributes  RandomForestClassifier   \n15  COMPAS_Without_Sensitive_Attributes  RandomForestClassifier   \n16  COMPAS_Without_Sensitive_Attributes  RandomForestClassifier   \n17  COMPAS_Without_Sensitive_Attributes  RandomForestClassifier   \n18  COMPAS_Without_Sensitive_Attributes  RandomForestClassifier   \n19  COMPAS_Without_Sensitive_Attributes  RandomForestClassifier   \n20  COMPAS_Without_Sensitive_Attributes  RandomForestClassifier   \n21  COMPAS_Without_Sensitive_Attributes           XGBClassifier   \n22  COMPAS_Without_Sensitive_Attributes           XGBClassifier   \n23  COMPAS_Without_Sensitive_Attributes           XGBClassifier   \n24  COMPAS_Without_Sensitive_Attributes           XGBClassifier   \n25  COMPAS_Without_Sensitive_Attributes           XGBClassifier   \n26  COMPAS_Without_Sensitive_Attributes           XGBClassifier   \n27  COMPAS_Without_Sensitive_Attributes           XGBClassifier   \n\n         Subgroup  Delta%_Accuracy  Delta%_Entropy  Delta%_F1  Delta%_FNR  \\\n0         overall           -0.047          -1.439     -0.256       0.250   \n1        sex_priv           -0.240         -20.514     -0.946       1.865   \n2         sex_dis           -0.004          -1.471     -0.120      -0.043   \n3       race_priv           -0.176          -1.599     -0.593       0.103   \n4        race_dis            0.042         -13.161     -0.106       0.380   \n5   sex&race_priv            1.195         -12.752      1.579      -0.270   \n6    sex&race_dis            0.369         -12.994      0.171       0.046   \n7         overall           -0.253          -0.372     -0.735       1.069   \n8        sex_priv           -1.957           0.000     -4.330       4.353   \n9         sex_dis            0.145          -0.328     -0.137       0.510   \n10      race_priv           -0.114           0.871     -0.633       0.555   \n11       race_dis           -0.352          -1.456     -0.542       0.952   \n12  sex&race_priv           -4.311           0.000     -8.225       8.729   \n13   sex&race_dis           -0.452          -1.395     -0.468       1.440   \n14        overall           -1.515          -4.872     -2.553       1.946   \n15       sex_priv           -1.072          -3.331     -0.177       0.329   \n16        sex_dis           -1.616          -4.881     -2.738       1.959   \n17      race_priv           -1.748          -4.632     -3.099       2.577   \n18       race_dis           -1.377          -3.327     -2.283       1.492   \n19  sex&race_priv            0.592          -5.267      3.037      -0.578   \n20   sex&race_dis           -1.156          -3.388     -2.108       1.518   \n21        overall           -0.410          -5.333     -0.330       0.415   \n22       sex_priv            0.194          -6.318      1.417      -0.451   \n23        sex_dis           -0.565          -2.967     -0.549       0.449   \n24      race_priv            0.926          -0.198      1.549      -1.054   \n25       race_dis           -1.270          -0.641     -1.083       0.940   \n26  sex&race_priv            0.250          -2.982      1.169      -0.320   \n27   sex&race_dis           -1.583          -0.829     -1.462       1.117   \n\n    Delta%_FPR  Delta%_General_Ensemble_Accuracy  Delta%_IQR  Delta%_Jitter  \\\n0       -0.170                            58.450      -5.999        -69.491   \n1       -0.750                            57.287      -7.025        -64.904   \n2       -0.054                            58.733      -5.756        -70.571   \n3        0.454                            56.451      -4.955        -71.109   \n4       -0.634                            59.755      -6.691        -68.411   \n5       -1.680                            54.740      -6.153        -64.564   \n6       -1.115                            59.847      -6.466        -69.085   \n7       -0.381                            62.740      -2.448        -88.074   \n8        1.014                            62.284      -3.079        -87.434   \n9       -0.767                            62.870      -2.304        -88.213   \n10      -0.066                            62.337      -1.757        -89.980   \n11      -0.266                            63.015      -2.909        -86.779   \n12       0.304                            62.601      -2.136        -89.653   \n13      -0.604                            63.197      -2.723        -87.012   \n14       1.670                            61.010      -2.519        -83.807   \n15       0.791                            63.511      -2.926        -83.911   \n16       1.840                            60.445      -2.419        -83.801   \n17       1.513                            60.120      -2.088        -85.316   \n18       1.504                            61.580      -2.802        -82.816   \n19      -2.983                            64.636      -2.488        -85.381   \n20       0.748                            61.411      -2.689        -82.883   \n21       0.363                            61.850      -4.040        -77.318   \n22      -0.833                            64.394      -6.017        -72.123   \n23       0.700                            61.228      -3.559        -78.574   \n24      -1.061                            60.654      -4.012        -77.687   \n25       1.629                            62.616      -4.047        -77.100   \n26      -0.698                            62.679      -6.820        -70.007   \n27       2.122                            61.927      -3.742        -77.810   \n\n    Delta%_Label_Stability  Delta%_Mean  Delta%_PPV  \\\n0                   33.628      -13.095      -0.021   \n1                   27.141        1.134     -10.031   \n2                   35.158      -15.880       1.830   \n3                   27.613        3.813     -10.575   \n4                   37.549      -21.209       3.712   \n5                   23.466       14.151     -14.438   \n6                   39.109      -23.505       5.536   \n7                   40.960      -12.521      -0.290   \n8                   36.620        2.009     -14.276   \n9                   41.971      -15.168       1.881   \n10                  35.608        0.462      -6.949   \n11                  44.552      -19.315       1.978   \n12                  34.135        5.122     -16.511   \n13                  45.729      -21.955       3.746   \n14                  38.605      -17.520      -0.159   \n15                  34.111        1.338     -12.704   \n16                  39.619      -20.464       1.748   \n17                  33.738       -4.191      -7.623   \n18                  41.834      -24.066       2.395   \n19                  32.341        8.642      -7.734   \n20                  43.032      -26.794       4.639   \n21                  35.954      -15.092       0.106   \n22                  29.185        2.425     -13.012   \n23                  37.594      -18.319       2.542   \n24                  30.377        2.278      -6.555   \n25                  39.628      -23.635       2.331   \n26                  25.483        3.731     -10.279   \n27                  41.297      -27.497       4.917   \n\n    Delta%_Per_Sample_Accuracy  Delta%_Positive-Rate  Delta%_Selection-Rate  \\\n0                      -29.019                50.830                 36.781   \n1                      -31.637                58.808                 27.042   \n2                      -28.544                48.920                 39.054   \n3                      -15.199                51.663                 23.376   \n4                      -35.316                47.904                 45.569   \n5                      -26.305                56.845                 20.702   \n6                      -35.090                45.238                 48.190   \n7                      -24.404                46.014                 39.540   \n8                      -17.998                51.030                 27.125   \n9                      -25.375                44.408                 42.441   \n10                      -2.753                40.582                 24.486   \n11                     -35.131                46.498                 50.127   \n12                      -5.685                36.737                 19.265   \n13                     -36.187                42.872                 53.275   \n14                     -17.760                44.281                 36.560   \n15                      -9.683                51.009                 22.970   \n16                     -19.153                42.329                 39.662   \n17                      -5.224                42.221                 24.166   \n18                     -23.623                43.077                 44.632   \n19                      -1.396                39.654                 17.262   \n20                     -24.513                39.403                 47.874   \n21                     -25.562                48.543                 39.265   \n22                     -24.519                60.117                 26.521   \n23                     -25.975                45.706                 42.352   \n24                     -13.967                47.909                 26.439   \n25                     -30.933                46.837                 47.805   \n26                      -9.471                49.812                 22.519   \n27                     -30.487                42.169                 51.618   \n\n    Delta%_Std  Delta%_TNR  Delta%_TPR  \n0      -64.511       9.012      62.359  \n1      -66.800      20.570      52.821  \n2      -63.788       6.590      64.054  \n3      -71.398      33.293      44.380  \n4      -58.664      -4.818      70.749  \n5      -67.255      35.097      42.449  \n6      -56.335      -7.866      72.250  \n7      -70.052      13.847      57.652  \n8      -76.960      31.878      41.670  \n9      -68.039      10.120      60.354  \n10     -79.542      41.960      39.111  \n11     -61.871      -3.962      67.365  \n12     -82.365      43.922      31.311  \n13     -59.181      -8.788      69.394  \n14     -72.616      15.425      57.327  \n15     -79.378      38.179      43.656  \n16     -70.519      11.000      59.510  \n17     -78.886      36.875      41.545  \n18     -67.126       2.897      65.068  \n19     -81.138      51.309      36.951  \n20     -63.994      -1.389      66.998  \n21     -68.626       9.897      62.587  \n22     -74.544      27.097      53.379  \n23     -66.663       6.021      64.126  \n24     -73.824      33.485      46.874  \n25     -64.194      -3.902      70.306  \n26     -77.029      37.168      45.641  \n27     -61.110      -8.849      71.549  ",
      "text/html": "<div>\n<style scoped>\n    .dataframe tbody tr th:only-of-type {\n        vertical-align: middle;\n    }\n\n    .dataframe tbody tr th {\n        vertical-align: top;\n    }\n\n    .dataframe thead th {\n        text-align: right;\n    }\n</style>\n<table border=\"1\" class=\"dataframe\">\n  <thead>\n    <tr style=\"text-align: right;\">\n      <th></th>\n      <th>Dataset</th>\n      <th>Model</th>\n      <th>Subgroup</th>\n      <th>Delta%_Accuracy</th>\n      <th>Delta%_Entropy</th>\n      <th>Delta%_F1</th>\n      <th>Delta%_FNR</th>\n      <th>Delta%_FPR</th>\n      <th>Delta%_General_Ensemble_Accuracy</th>\n      <th>Delta%_IQR</th>\n      <th>Delta%_Jitter</th>\n      <th>Delta%_Label_Stability</th>\n      <th>Delta%_Mean</th>\n      <th>Delta%_PPV</th>\n      <th>Delta%_Per_Sample_Accuracy</th>\n      <th>Delta%_Positive-Rate</th>\n      <th>Delta%_Selection-Rate</th>\n      <th>Delta%_Std</th>\n      <th>Delta%_TNR</th>\n      <th>Delta%_TPR</th>\n    </tr>\n  </thead>\n  <tbody>\n    <tr>\n      <th>0</th>\n      <td>COMPAS_Without_Sensitive_Attributes</td>\n      <td>DecisionTreeClassifier</td>\n      <td>overall</td>\n      <td>-0.047</td>\n      <td>-1.439</td>\n      <td>-0.256</td>\n      <td>0.250</td>\n      <td>-0.170</td>\n      <td>58.450</td>\n      <td>-5.999</td>\n      <td>-69.491</td>\n      <td>33.628</td>\n      <td>-13.095</td>\n      <td>-0.021</td>\n      <td>-29.019</td>\n      <td>50.830</td>\n      <td>36.781</td>\n      <td>-64.511</td>\n      <td>9.012</td>\n      <td>62.359</td>\n    </tr>\n    <tr>\n      <th>1</th>\n      <td>COMPAS_Without_Sensitive_Attributes</td>\n      <td>DecisionTreeClassifier</td>\n      <td>sex_priv</td>\n      <td>-0.240</td>\n      <td>-20.514</td>\n      <td>-0.946</td>\n      <td>1.865</td>\n      <td>-0.750</td>\n      <td>57.287</td>\n      <td>-7.025</td>\n      <td>-64.904</td>\n      <td>27.141</td>\n      <td>1.134</td>\n      <td>-10.031</td>\n      <td>-31.637</td>\n      <td>58.808</td>\n      <td>27.042</td>\n      <td>-66.800</td>\n      <td>20.570</td>\n      <td>52.821</td>\n    </tr>\n    <tr>\n      <th>2</th>\n      <td>COMPAS_Without_Sensitive_Attributes</td>\n      <td>DecisionTreeClassifier</td>\n      <td>sex_dis</td>\n      <td>-0.004</td>\n      <td>-1.471</td>\n      <td>-0.120</td>\n      <td>-0.043</td>\n      <td>-0.054</td>\n      <td>58.733</td>\n      <td>-5.756</td>\n      <td>-70.571</td>\n      <td>35.158</td>\n      <td>-15.880</td>\n      <td>1.830</td>\n      <td>-28.544</td>\n      <td>48.920</td>\n      <td>39.054</td>\n      <td>-63.788</td>\n      <td>6.590</td>\n      <td>64.054</td>\n    </tr>\n    <tr>\n      <th>3</th>\n      <td>COMPAS_Without_Sensitive_Attributes</td>\n      <td>DecisionTreeClassifier</td>\n      <td>race_priv</td>\n      <td>-0.176</td>\n      <td>-1.599</td>\n      <td>-0.593</td>\n      <td>0.103</td>\n      <td>0.454</td>\n      <td>56.451</td>\n      <td>-4.955</td>\n      <td>-71.109</td>\n      <td>27.613</td>\n      <td>3.813</td>\n      <td>-10.575</td>\n      <td>-15.199</td>\n      <td>51.663</td>\n      <td>23.376</td>\n      <td>-71.398</td>\n      <td>33.293</td>\n      <td>44.380</td>\n    </tr>\n    <tr>\n      <th>4</th>\n      <td>COMPAS_Without_Sensitive_Attributes</td>\n      <td>DecisionTreeClassifier</td>\n      <td>race_dis</td>\n      <td>0.042</td>\n      <td>-13.161</td>\n      <td>-0.106</td>\n      <td>0.380</td>\n      <td>-0.634</td>\n      <td>59.755</td>\n      <td>-6.691</td>\n      <td>-68.411</td>\n      <td>37.549</td>\n      <td>-21.209</td>\n      <td>3.712</td>\n      <td>-35.316</td>\n      <td>47.904</td>\n      <td>45.569</td>\n      <td>-58.664</td>\n      <td>-4.818</td>\n      <td>70.749</td>\n    </tr>\n    <tr>\n      <th>5</th>\n      <td>COMPAS_Without_Sensitive_Attributes</td>\n      <td>DecisionTreeClassifier</td>\n      <td>sex&amp;race_priv</td>\n      <td>1.195</td>\n      <td>-12.752</td>\n      <td>1.579</td>\n      <td>-0.270</td>\n      <td>-1.680</td>\n      <td>54.740</td>\n      <td>-6.153</td>\n      <td>-64.564</td>\n      <td>23.466</td>\n      <td>14.151</td>\n      <td>-14.438</td>\n      <td>-26.305</td>\n      <td>56.845</td>\n      <td>20.702</td>\n      <td>-67.255</td>\n      <td>35.097</td>\n      <td>42.449</td>\n    </tr>\n    <tr>\n      <th>6</th>\n      <td>COMPAS_Without_Sensitive_Attributes</td>\n      <td>DecisionTreeClassifier</td>\n      <td>sex&amp;race_dis</td>\n      <td>0.369</td>\n      <td>-12.994</td>\n      <td>0.171</td>\n      <td>0.046</td>\n      <td>-1.115</td>\n      <td>59.847</td>\n      <td>-6.466</td>\n      <td>-69.085</td>\n      <td>39.109</td>\n      <td>-23.505</td>\n      <td>5.536</td>\n      <td>-35.090</td>\n      <td>45.238</td>\n      <td>48.190</td>\n      <td>-56.335</td>\n      <td>-7.866</td>\n      <td>72.250</td>\n    </tr>\n    <tr>\n      <th>7</th>\n      <td>COMPAS_Without_Sensitive_Attributes</td>\n      <td>LogisticRegression</td>\n      <td>overall</td>\n      <td>-0.253</td>\n      <td>-0.372</td>\n      <td>-0.735</td>\n      <td>1.069</td>\n      <td>-0.381</td>\n      <td>62.740</td>\n      <td>-2.448</td>\n      <td>-88.074</td>\n      <td>40.960</td>\n      <td>-12.521</td>\n      <td>-0.290</td>\n      <td>-24.404</td>\n      <td>46.014</td>\n      <td>39.540</td>\n      <td>-70.052</td>\n      <td>13.847</td>\n      <td>57.652</td>\n    </tr>\n    <tr>\n      <th>8</th>\n      <td>COMPAS_Without_Sensitive_Attributes</td>\n      <td>LogisticRegression</td>\n      <td>sex_priv</td>\n      <td>-1.957</td>\n      <td>0.000</td>\n      <td>-4.330</td>\n      <td>4.353</td>\n      <td>1.014</td>\n      <td>62.284</td>\n      <td>-3.079</td>\n      <td>-87.434</td>\n      <td>36.620</td>\n      <td>2.009</td>\n      <td>-14.276</td>\n      <td>-17.998</td>\n      <td>51.030</td>\n      <td>27.125</td>\n      <td>-76.960</td>\n      <td>31.878</td>\n      <td>41.670</td>\n    </tr>\n    <tr>\n      <th>9</th>\n      <td>COMPAS_Without_Sensitive_Attributes</td>\n      <td>LogisticRegression</td>\n      <td>sex_dis</td>\n      <td>0.145</td>\n      <td>-0.328</td>\n      <td>-0.137</td>\n      <td>0.510</td>\n      <td>-0.767</td>\n      <td>62.870</td>\n      <td>-2.304</td>\n      <td>-88.213</td>\n      <td>41.971</td>\n      <td>-15.168</td>\n      <td>1.881</td>\n      <td>-25.375</td>\n      <td>44.408</td>\n      <td>42.441</td>\n      <td>-68.039</td>\n      <td>10.120</td>\n      <td>60.354</td>\n    </tr>\n    <tr>\n      <th>10</th>\n      <td>COMPAS_Without_Sensitive_Attributes</td>\n      <td>LogisticRegression</td>\n      <td>race_priv</td>\n      <td>-0.114</td>\n      <td>0.871</td>\n      <td>-0.633</td>\n      <td>0.555</td>\n      <td>-0.066</td>\n      <td>62.337</td>\n      <td>-1.757</td>\n      <td>-89.980</td>\n      <td>35.608</td>\n      <td>0.462</td>\n      <td>-6.949</td>\n      <td>-2.753</td>\n      <td>40.582</td>\n      <td>24.486</td>\n      <td>-79.542</td>\n      <td>41.960</td>\n      <td>39.111</td>\n    </tr>\n    <tr>\n      <th>11</th>\n      <td>COMPAS_Without_Sensitive_Attributes</td>\n      <td>LogisticRegression</td>\n      <td>race_dis</td>\n      <td>-0.352</td>\n      <td>-1.456</td>\n      <td>-0.542</td>\n      <td>0.952</td>\n      <td>-0.266</td>\n      <td>63.015</td>\n      <td>-2.909</td>\n      <td>-86.779</td>\n      <td>44.552</td>\n      <td>-19.315</td>\n      <td>1.978</td>\n      <td>-35.131</td>\n      <td>46.498</td>\n      <td>50.127</td>\n      <td>-61.871</td>\n      <td>-3.962</td>\n      <td>67.365</td>\n    </tr>\n    <tr>\n      <th>12</th>\n      <td>COMPAS_Without_Sensitive_Attributes</td>\n      <td>LogisticRegression</td>\n      <td>sex&amp;race_priv</td>\n      <td>-4.311</td>\n      <td>0.000</td>\n      <td>-8.225</td>\n      <td>8.729</td>\n      <td>0.304</td>\n      <td>62.601</td>\n      <td>-2.136</td>\n      <td>-89.653</td>\n      <td>34.135</td>\n      <td>5.122</td>\n      <td>-16.511</td>\n      <td>-5.685</td>\n      <td>36.737</td>\n      <td>19.265</td>\n      <td>-82.365</td>\n      <td>43.922</td>\n      <td>31.311</td>\n    </tr>\n    <tr>\n      <th>13</th>\n      <td>COMPAS_Without_Sensitive_Attributes</td>\n      <td>LogisticRegression</td>\n      <td>sex&amp;race_dis</td>\n      <td>-0.452</td>\n      <td>-1.395</td>\n      <td>-0.468</td>\n      <td>1.440</td>\n      <td>-0.604</td>\n      <td>63.197</td>\n      <td>-2.723</td>\n      <td>-87.012</td>\n      <td>45.729</td>\n      <td>-21.955</td>\n      <td>3.746</td>\n      <td>-36.187</td>\n      <td>42.872</td>\n      <td>53.275</td>\n      <td>-59.181</td>\n      <td>-8.788</td>\n      <td>69.394</td>\n    </tr>\n    <tr>\n      <th>14</th>\n      <td>COMPAS_Without_Sensitive_Attributes</td>\n      <td>RandomForestClassifier</td>\n      <td>overall</td>\n      <td>-1.515</td>\n      <td>-4.872</td>\n      <td>-2.553</td>\n      <td>1.946</td>\n      <td>1.670</td>\n      <td>61.010</td>\n      <td>-2.519</td>\n      <td>-83.807</td>\n      <td>38.605</td>\n      <td>-17.520</td>\n      <td>-0.159</td>\n      <td>-17.760</td>\n      <td>44.281</td>\n      <td>36.560</td>\n      <td>-72.616</td>\n      <td>15.425</td>\n      <td>57.327</td>\n    </tr>\n    <tr>\n      <th>15</th>\n      <td>COMPAS_Without_Sensitive_Attributes</td>\n      <td>RandomForestClassifier</td>\n      <td>sex_priv</td>\n      <td>-1.072</td>\n      <td>-3.331</td>\n      <td>-0.177</td>\n      <td>0.329</td>\n      <td>0.791</td>\n      <td>63.511</td>\n      <td>-2.926</td>\n      <td>-83.911</td>\n      <td>34.111</td>\n      <td>1.338</td>\n      <td>-12.704</td>\n      <td>-9.683</td>\n      <td>51.009</td>\n      <td>22.970</td>\n      <td>-79.378</td>\n      <td>38.179</td>\n      <td>43.656</td>\n    </tr>\n    <tr>\n      <th>16</th>\n      <td>COMPAS_Without_Sensitive_Attributes</td>\n      <td>RandomForestClassifier</td>\n      <td>sex_dis</td>\n      <td>-1.616</td>\n      <td>-4.881</td>\n      <td>-2.738</td>\n      <td>1.959</td>\n      <td>1.840</td>\n      <td>60.445</td>\n      <td>-2.419</td>\n      <td>-83.801</td>\n      <td>39.619</td>\n      <td>-20.464</td>\n      <td>1.748</td>\n      <td>-19.153</td>\n      <td>42.329</td>\n      <td>39.662</td>\n      <td>-70.519</td>\n      <td>11.000</td>\n      <td>59.510</td>\n    </tr>\n    <tr>\n      <th>17</th>\n      <td>COMPAS_Without_Sensitive_Attributes</td>\n      <td>RandomForestClassifier</td>\n      <td>race_priv</td>\n      <td>-1.748</td>\n      <td>-4.632</td>\n      <td>-3.099</td>\n      <td>2.577</td>\n      <td>1.513</td>\n      <td>60.120</td>\n      <td>-2.088</td>\n      <td>-85.316</td>\n      <td>33.738</td>\n      <td>-4.191</td>\n      <td>-7.623</td>\n      <td>-5.224</td>\n      <td>42.221</td>\n      <td>24.166</td>\n      <td>-78.886</td>\n      <td>36.875</td>\n      <td>41.545</td>\n    </tr>\n    <tr>\n      <th>18</th>\n      <td>COMPAS_Without_Sensitive_Attributes</td>\n      <td>RandomForestClassifier</td>\n      <td>race_dis</td>\n      <td>-1.377</td>\n      <td>-3.327</td>\n      <td>-2.283</td>\n      <td>1.492</td>\n      <td>1.504</td>\n      <td>61.580</td>\n      <td>-2.802</td>\n      <td>-82.816</td>\n      <td>41.834</td>\n      <td>-24.066</td>\n      <td>2.395</td>\n      <td>-23.623</td>\n      <td>43.077</td>\n      <td>44.632</td>\n      <td>-67.126</td>\n      <td>2.897</td>\n      <td>65.068</td>\n    </tr>\n    <tr>\n      <th>19</th>\n      <td>COMPAS_Without_Sensitive_Attributes</td>\n      <td>RandomForestClassifier</td>\n      <td>sex&amp;race_priv</td>\n      <td>0.592</td>\n      <td>-5.267</td>\n      <td>3.037</td>\n      <td>-0.578</td>\n      <td>-2.983</td>\n      <td>64.636</td>\n      <td>-2.488</td>\n      <td>-85.381</td>\n      <td>32.341</td>\n      <td>8.642</td>\n      <td>-7.734</td>\n      <td>-1.396</td>\n      <td>39.654</td>\n      <td>17.262</td>\n      <td>-81.138</td>\n      <td>51.309</td>\n      <td>36.951</td>\n    </tr>\n    <tr>\n      <th>20</th>\n      <td>COMPAS_Without_Sensitive_Attributes</td>\n      <td>RandomForestClassifier</td>\n      <td>sex&amp;race_dis</td>\n      <td>-1.156</td>\n      <td>-3.388</td>\n      <td>-2.108</td>\n      <td>1.518</td>\n      <td>0.748</td>\n      <td>61.411</td>\n      <td>-2.689</td>\n      <td>-82.883</td>\n      <td>43.032</td>\n      <td>-26.794</td>\n      <td>4.639</td>\n      <td>-24.513</td>\n      <td>39.403</td>\n      <td>47.874</td>\n      <td>-63.994</td>\n      <td>-1.389</td>\n      <td>66.998</td>\n    </tr>\n    <tr>\n      <th>21</th>\n      <td>COMPAS_Without_Sensitive_Attributes</td>\n      <td>XGBClassifier</td>\n      <td>overall</td>\n      <td>-0.410</td>\n      <td>-5.333</td>\n      <td>-0.330</td>\n      <td>0.415</td>\n      <td>0.363</td>\n      <td>61.850</td>\n      <td>-4.040</td>\n      <td>-77.318</td>\n      <td>35.954</td>\n      <td>-15.092</td>\n      <td>0.106</td>\n      <td>-25.562</td>\n      <td>48.543</td>\n      <td>39.265</td>\n      <td>-68.626</td>\n      <td>9.897</td>\n      <td>62.587</td>\n    </tr>\n    <tr>\n      <th>22</th>\n      <td>COMPAS_Without_Sensitive_Attributes</td>\n      <td>XGBClassifier</td>\n      <td>sex_priv</td>\n      <td>0.194</td>\n      <td>-6.318</td>\n      <td>1.417</td>\n      <td>-0.451</td>\n      <td>-0.833</td>\n      <td>64.394</td>\n      <td>-6.017</td>\n      <td>-72.123</td>\n      <td>29.185</td>\n      <td>2.425</td>\n      <td>-13.012</td>\n      <td>-24.519</td>\n      <td>60.117</td>\n      <td>26.521</td>\n      <td>-74.544</td>\n      <td>27.097</td>\n      <td>53.379</td>\n    </tr>\n    <tr>\n      <th>23</th>\n      <td>COMPAS_Without_Sensitive_Attributes</td>\n      <td>XGBClassifier</td>\n      <td>sex_dis</td>\n      <td>-0.565</td>\n      <td>-2.967</td>\n      <td>-0.549</td>\n      <td>0.449</td>\n      <td>0.700</td>\n      <td>61.228</td>\n      <td>-3.559</td>\n      <td>-78.574</td>\n      <td>37.594</td>\n      <td>-18.319</td>\n      <td>2.542</td>\n      <td>-25.975</td>\n      <td>45.706</td>\n      <td>42.352</td>\n      <td>-66.663</td>\n      <td>6.021</td>\n      <td>64.126</td>\n    </tr>\n    <tr>\n      <th>24</th>\n      <td>COMPAS_Without_Sensitive_Attributes</td>\n      <td>XGBClassifier</td>\n      <td>race_priv</td>\n      <td>0.926</td>\n      <td>-0.198</td>\n      <td>1.549</td>\n      <td>-1.054</td>\n      <td>-1.061</td>\n      <td>60.654</td>\n      <td>-4.012</td>\n      <td>-77.687</td>\n      <td>30.377</td>\n      <td>2.278</td>\n      <td>-6.555</td>\n      <td>-13.967</td>\n      <td>47.909</td>\n      <td>26.439</td>\n      <td>-73.824</td>\n      <td>33.485</td>\n      <td>46.874</td>\n    </tr>\n    <tr>\n      <th>25</th>\n      <td>COMPAS_Without_Sensitive_Attributes</td>\n      <td>XGBClassifier</td>\n      <td>race_dis</td>\n      <td>-1.270</td>\n      <td>-0.641</td>\n      <td>-1.083</td>\n      <td>0.940</td>\n      <td>1.629</td>\n      <td>62.616</td>\n      <td>-4.047</td>\n      <td>-77.100</td>\n      <td>39.628</td>\n      <td>-23.635</td>\n      <td>2.331</td>\n      <td>-30.933</td>\n      <td>46.837</td>\n      <td>47.805</td>\n      <td>-64.194</td>\n      <td>-3.902</td>\n      <td>70.306</td>\n    </tr>\n    <tr>\n      <th>26</th>\n      <td>COMPAS_Without_Sensitive_Attributes</td>\n      <td>XGBClassifier</td>\n      <td>sex&amp;race_priv</td>\n      <td>0.250</td>\n      <td>-2.982</td>\n      <td>1.169</td>\n      <td>-0.320</td>\n      <td>-0.698</td>\n      <td>62.679</td>\n      <td>-6.820</td>\n      <td>-70.007</td>\n      <td>25.483</td>\n      <td>3.731</td>\n      <td>-10.279</td>\n      <td>-9.471</td>\n      <td>49.812</td>\n      <td>22.519</td>\n      <td>-77.029</td>\n      <td>37.168</td>\n      <td>45.641</td>\n    </tr>\n    <tr>\n      <th>27</th>\n      <td>COMPAS_Without_Sensitive_Attributes</td>\n      <td>XGBClassifier</td>\n      <td>sex&amp;race_dis</td>\n      <td>-1.583</td>\n      <td>-0.829</td>\n      <td>-1.462</td>\n      <td>1.117</td>\n      <td>2.122</td>\n      <td>61.927</td>\n      <td>-3.742</td>\n      <td>-77.810</td>\n      <td>41.297</td>\n      <td>-27.497</td>\n      <td>4.917</td>\n      <td>-30.487</td>\n      <td>42.169</td>\n      <td>51.618</td>\n      <td>-61.110</td>\n      <td>-8.849</td>\n      <td>71.549</td>\n    </tr>\n  </tbody>\n</table>\n</div>"
     },
     "execution_count": 212,
     "metadata": {},
     "output_type": "execute_result"
    }
   ],
   "source": [
    "report_df"
   ],
   "metadata": {
    "collapsed": false
   }
  },
  {
   "cell_type": "markdown",
   "source": [
    "## Folktables [GA, 2018] Dataset"
   ],
   "metadata": {
    "collapsed": false
   }
  },
  {
   "cell_type": "code",
   "execution_count": 213,
   "outputs": [
    {
     "data": {
      "text/plain": "      MAR MIL ESP MIG DREM NATIVITY DIS DEAR DEYE SEX RAC1P RELP CIT ANC SCHL  \\\n83595   5   0   1   0    0        1   2    2    2   1     2    2   1   1    0   \n33170   5   0   1   1    2        1   2    2    2   1     2    2   1   1    2   \n90575   5   4   0   1    2        1   2    2    2   2     9    2   1   4   13   \n30079   2   4   0   1    1        1   1    2    2   1     2    0   1   1   17   \n77248   1   4   0   1    2        1   1    2    2   1     1    6   1   1   17   \n\n       AGEP  \n83595     0  \n33170     5  \n90575    32  \n30079    56  \n77248    61  ",
      "text/html": "<div>\n<style scoped>\n    .dataframe tbody tr th:only-of-type {\n        vertical-align: middle;\n    }\n\n    .dataframe tbody tr th {\n        vertical-align: top;\n    }\n\n    .dataframe thead th {\n        text-align: right;\n    }\n</style>\n<table border=\"1\" class=\"dataframe\">\n  <thead>\n    <tr style=\"text-align: right;\">\n      <th></th>\n      <th>MAR</th>\n      <th>MIL</th>\n      <th>ESP</th>\n      <th>MIG</th>\n      <th>DREM</th>\n      <th>NATIVITY</th>\n      <th>DIS</th>\n      <th>DEAR</th>\n      <th>DEYE</th>\n      <th>SEX</th>\n      <th>RAC1P</th>\n      <th>RELP</th>\n      <th>CIT</th>\n      <th>ANC</th>\n      <th>SCHL</th>\n      <th>AGEP</th>\n    </tr>\n  </thead>\n  <tbody>\n    <tr>\n      <th>83595</th>\n      <td>5</td>\n      <td>0</td>\n      <td>1</td>\n      <td>0</td>\n      <td>0</td>\n      <td>1</td>\n      <td>2</td>\n      <td>2</td>\n      <td>2</td>\n      <td>1</td>\n      <td>2</td>\n      <td>2</td>\n      <td>1</td>\n      <td>1</td>\n      <td>0</td>\n      <td>0</td>\n    </tr>\n    <tr>\n      <th>33170</th>\n      <td>5</td>\n      <td>0</td>\n      <td>1</td>\n      <td>1</td>\n      <td>2</td>\n      <td>1</td>\n      <td>2</td>\n      <td>2</td>\n      <td>2</td>\n      <td>1</td>\n      <td>2</td>\n      <td>2</td>\n      <td>1</td>\n      <td>1</td>\n      <td>2</td>\n      <td>5</td>\n    </tr>\n    <tr>\n      <th>90575</th>\n      <td>5</td>\n      <td>4</td>\n      <td>0</td>\n      <td>1</td>\n      <td>2</td>\n      <td>1</td>\n      <td>2</td>\n      <td>2</td>\n      <td>2</td>\n      <td>2</td>\n      <td>9</td>\n      <td>2</td>\n      <td>1</td>\n      <td>4</td>\n      <td>13</td>\n      <td>32</td>\n    </tr>\n    <tr>\n      <th>30079</th>\n      <td>2</td>\n      <td>4</td>\n      <td>0</td>\n      <td>1</td>\n      <td>1</td>\n      <td>1</td>\n      <td>1</td>\n      <td>2</td>\n      <td>2</td>\n      <td>1</td>\n      <td>2</td>\n      <td>0</td>\n      <td>1</td>\n      <td>1</td>\n      <td>17</td>\n      <td>56</td>\n    </tr>\n    <tr>\n      <th>77248</th>\n      <td>1</td>\n      <td>4</td>\n      <td>0</td>\n      <td>1</td>\n      <td>2</td>\n      <td>1</td>\n      <td>1</td>\n      <td>2</td>\n      <td>2</td>\n      <td>1</td>\n      <td>1</td>\n      <td>6</td>\n      <td>1</td>\n      <td>1</td>\n      <td>17</td>\n      <td>61</td>\n    </tr>\n  </tbody>\n</table>\n</div>"
     },
     "execution_count": 213,
     "metadata": {},
     "output_type": "execute_result"
    }
   ],
   "source": [
    "dataset2 = ACSEmploymentDataset(state=['GA'], year=2018, root_dir=os.path.join('virny', 'datasets'), with_nulls=False, subsample=20_000)\n",
    "dataset2.X_data.head()"
   ],
   "metadata": {
    "collapsed": false
   }
  },
  {
   "cell_type": "code",
   "execution_count": 214,
   "outputs": [],
   "source": [
    "models_config2 = {\n",
    "    'DecisionTreeClassifier': DecisionTreeClassifier(criterion='gini',\n",
    "                                                     max_depth=10,\n",
    "                                                     max_features=0.6,\n",
    "                                                     min_samples_split=0.1),\n",
    "    'LogisticRegression': LogisticRegression(C=1,\n",
    "                                             max_iter=150,\n",
    "                                             penalty='l2',\n",
    "                                             solver='lbfgs'),\n",
    "    'RandomForestClassifier': RandomForestClassifier(max_depth=10,\n",
    "                                                     max_features=0.6,\n",
    "                                                     min_samples_leaf=4,\n",
    "                                                     n_estimators=100),\n",
    "    'XGBClassifier': XGBClassifier(reg_lambda=1,\n",
    "                                   learning_rate=0.1,\n",
    "                                   max_depth=3,\n",
    "                                   n_estimators=100),\n",
    "}"
   ],
   "metadata": {
    "collapsed": false
   }
  },
  {
   "cell_type": "code",
   "execution_count": 215,
   "outputs": [],
   "source": [
    "config_yaml_path = os.path.join(ROOT_DIR, 'experiment_compas_config.yaml')\n",
    "config_yaml_content = \"\"\"\n",
    "dataset_name: Folktables_GA_2018\n",
    "test_set_fraction: 0.2\n",
    "bootstrap_fraction: 0.8\n",
    "n_estimators: 100\n",
    "runs_seed_lst: [100, 200, 300]\n",
    "#runs_seed_lst: [100, 200, 300, 400, 500, 600]\n",
    "sensitive_attributes_dct: {'SEX': '1', 'RAC1P': '1', 'SEX&RAC1P': None}\n",
    "\"\"\"\n",
    "\n",
    "with open(config_yaml_path, 'w', encoding='utf-8') as f:\n",
    "    f.write(config_yaml_content)\n",
    "\n",
    "config2 = create_config_obj(config_yaml_path=config_yaml_path)\n",
    "SAVE_RESULTS_DIR_PATH2 = os.path.join(ROOT_DIR, 'results', 'benchmark', 'benchmark_results', config2.dataset_name)\n",
    "STANDARD_RESULTS_DIR_PATH2 = os.path.join(ROOT_DIR, 'results', 'benchmark', 'standard_results', config2.dataset_name)"
   ],
   "metadata": {
    "collapsed": false
   }
  },
  {
   "cell_type": "code",
   "execution_count": 216,
   "outputs": [
    {
     "name": "stdout",
     "output_type": "stream",
     "text": [
      "Directory is cleared\n"
     ]
    }
   ],
   "source": [
    "clear_directory(SAVE_RESULTS_DIR_PATH2)"
   ],
   "metadata": {
    "collapsed": false
   }
  },
  {
   "cell_type": "code",
   "execution_count": 217,
   "outputs": [
    {
     "data": {
      "text/plain": "Multiple runs progress:   0%|          | 0/3 [00:00<?, ?it/s]",
      "application/vnd.jupyter.widget-view+json": {
       "version_major": 2,
       "version_minor": 0,
       "model_id": "cb0a2024d5ac48baa2ce2db256b7f49f"
      }
     },
     "metadata": {},
     "output_type": "display_data"
    },
    {
     "data": {
      "text/plain": "Analyze models in one run:   0%|          | 0/4 [00:00<?, ?it/s]",
      "application/vnd.jupyter.widget-view+json": {
       "version_major": 2,
       "version_minor": 0,
       "model_id": "adcc05c8afb1419a8c366a38d1cb2a20"
      }
     },
     "metadata": {},
     "output_type": "display_data"
    },
    {
     "name": "stdout",
     "output_type": "stream",
     "text": [
      "##############################  [Model 1 / 4] Analyze DecisionTreeClassifier  ##############################\n",
      "Model random_state:  101\n",
      "Baseline X_train shape:  (16000, 16)\n",
      "Baseline X_test shape:  (4000, 16)\n",
      "\n",
      "\n"
     ]
    },
    {
     "name": "stderr",
     "output_type": "stream",
     "text": [
      "2023-02-04 13:55:41 abstract_overall_variance_analyzer.py INFO    : Start classifiers testing by bootstrap\n"
     ]
    },
    {
     "data": {
      "text/plain": "Classifiers testing by bootstrap:   0%|          | 0/100 [00:00<?, ?it/s]",
      "application/vnd.jupyter.widget-view+json": {
       "version_major": 2,
       "version_minor": 0,
       "model_id": "18903c38836146548bb1eef4785aaa1f"
      }
     },
     "metadata": {},
     "output_type": "display_data"
    },
    {
     "name": "stdout",
     "output_type": "stream",
     "text": [
      "\n",
      "\n"
     ]
    },
    {
     "name": "stderr",
     "output_type": "stream",
     "text": [
      "2023-02-04 13:55:46 abstract_overall_variance_analyzer.py INFO    : Successfully tested classifiers by bootstrap\n",
      "2023-02-04 13:55:57 abstract_overall_variance_analyzer.py INFO    : Successfully computed predict proba metrics\n"
     ]
    },
    {
     "name": "stdout",
     "output_type": "stream",
     "text": [
      "\n",
      "\n",
      "\n",
      "\n",
      "##############################  [Model 2 / 4] Analyze LogisticRegression  ##############################\n",
      "Model random_state:  102\n",
      "Baseline X_train shape:  (16000, 16)\n",
      "Baseline X_test shape:  (4000, 16)\n",
      "\n",
      "\n"
     ]
    },
    {
     "name": "stderr",
     "output_type": "stream",
     "text": [
      "2023-02-04 13:56:22 abstract_overall_variance_analyzer.py INFO    : Start classifiers testing by bootstrap\n"
     ]
    },
    {
     "data": {
      "text/plain": "Classifiers testing by bootstrap:   0%|          | 0/100 [00:00<?, ?it/s]",
      "application/vnd.jupyter.widget-view+json": {
       "version_major": 2,
       "version_minor": 0,
       "model_id": "c69f24929b344819bf68b8c8fa55da60"
      }
     },
     "metadata": {},
     "output_type": "display_data"
    },
    {
     "name": "stdout",
     "output_type": "stream",
     "text": [
      "\n",
      "\n"
     ]
    },
    {
     "name": "stderr",
     "output_type": "stream",
     "text": [
      "2023-02-04 13:58:27 abstract_overall_variance_analyzer.py INFO    : Successfully tested classifiers by bootstrap\n",
      "2023-02-04 13:58:38 abstract_overall_variance_analyzer.py INFO    : Successfully computed predict proba metrics\n"
     ]
    },
    {
     "name": "stdout",
     "output_type": "stream",
     "text": [
      "\n",
      "\n",
      "\n",
      "\n",
      "##############################  [Model 3 / 4] Analyze RandomForestClassifier  ##############################\n",
      "Model random_state:  103\n",
      "Baseline X_train shape:  (16000, 16)\n",
      "Baseline X_test shape:  (4000, 16)\n",
      "\n",
      "\n"
     ]
    },
    {
     "name": "stderr",
     "output_type": "stream",
     "text": [
      "2023-02-04 13:59:03 abstract_overall_variance_analyzer.py INFO    : Start classifiers testing by bootstrap\n"
     ]
    },
    {
     "data": {
      "text/plain": "Classifiers testing by bootstrap:   0%|          | 0/100 [00:00<?, ?it/s]",
      "application/vnd.jupyter.widget-view+json": {
       "version_major": 2,
       "version_minor": 0,
       "model_id": "2157222bc90f4d27882b29a1cf744026"
      }
     },
     "metadata": {},
     "output_type": "display_data"
    },
    {
     "name": "stdout",
     "output_type": "stream",
     "text": [
      "\n",
      "\n"
     ]
    },
    {
     "name": "stderr",
     "output_type": "stream",
     "text": [
      "2023-02-04 13:59:52 abstract_overall_variance_analyzer.py INFO    : Successfully tested classifiers by bootstrap\n",
      "2023-02-04 14:00:03 abstract_overall_variance_analyzer.py INFO    : Successfully computed predict proba metrics\n"
     ]
    },
    {
     "name": "stdout",
     "output_type": "stream",
     "text": [
      "\n",
      "\n",
      "\n",
      "\n",
      "##############################  [Model 4 / 4] Analyze XGBClassifier  ##############################\n",
      "Model random_state:  104\n",
      "Baseline X_train shape:  (16000, 16)\n",
      "Baseline X_test shape:  (4000, 16)\n",
      "\n",
      "\n"
     ]
    },
    {
     "name": "stderr",
     "output_type": "stream",
     "text": [
      "2023-02-04 14:00:25 abstract_overall_variance_analyzer.py INFO    : Start classifiers testing by bootstrap\n"
     ]
    },
    {
     "data": {
      "text/plain": "Classifiers testing by bootstrap:   0%|          | 0/100 [00:00<?, ?it/s]",
      "application/vnd.jupyter.widget-view+json": {
       "version_major": 2,
       "version_minor": 0,
       "model_id": "d8ca21eb81d24677b6d6067116f27bfc"
      }
     },
     "metadata": {},
     "output_type": "display_data"
    },
    {
     "name": "stdout",
     "output_type": "stream",
     "text": [
      "\n",
      "\n"
     ]
    },
    {
     "name": "stderr",
     "output_type": "stream",
     "text": [
      "2023-02-04 14:01:11 abstract_overall_variance_analyzer.py INFO    : Successfully tested classifiers by bootstrap\n",
      "2023-02-04 14:01:21 abstract_overall_variance_analyzer.py INFO    : Successfully computed predict proba metrics\n"
     ]
    },
    {
     "name": "stdout",
     "output_type": "stream",
     "text": [
      "\n",
      "\n",
      "\n",
      "\n"
     ]
    },
    {
     "data": {
      "text/plain": "Analyze models in one run:   0%|          | 0/4 [00:00<?, ?it/s]",
      "application/vnd.jupyter.widget-view+json": {
       "version_major": 2,
       "version_minor": 0,
       "model_id": "592143381ab341c5871d47a483082a99"
      }
     },
     "metadata": {},
     "output_type": "display_data"
    },
    {
     "name": "stdout",
     "output_type": "stream",
     "text": [
      "##############################  [Model 1 / 4] Analyze DecisionTreeClassifier  ##############################\n",
      "Model random_state:  201\n",
      "Baseline X_train shape:  (16000, 16)\n",
      "Baseline X_test shape:  (4000, 16)\n",
      "\n",
      "\n"
     ]
    },
    {
     "name": "stderr",
     "output_type": "stream",
     "text": [
      "2023-02-04 14:01:44 abstract_overall_variance_analyzer.py INFO    : Start classifiers testing by bootstrap\n"
     ]
    },
    {
     "data": {
      "text/plain": "Classifiers testing by bootstrap:   0%|          | 0/100 [00:00<?, ?it/s]",
      "application/vnd.jupyter.widget-view+json": {
       "version_major": 2,
       "version_minor": 0,
       "model_id": "6d266e17136b4fe2bac58f5b708d0eba"
      }
     },
     "metadata": {},
     "output_type": "display_data"
    },
    {
     "name": "stdout",
     "output_type": "stream",
     "text": [
      "\n",
      "\n"
     ]
    },
    {
     "name": "stderr",
     "output_type": "stream",
     "text": [
      "2023-02-04 14:01:47 abstract_overall_variance_analyzer.py INFO    : Successfully tested classifiers by bootstrap\n",
      "2023-02-04 14:01:56 abstract_overall_variance_analyzer.py INFO    : Successfully computed predict proba metrics\n"
     ]
    },
    {
     "name": "stdout",
     "output_type": "stream",
     "text": [
      "\n",
      "\n",
      "\n",
      "\n",
      "##############################  [Model 2 / 4] Analyze LogisticRegression  ##############################\n",
      "Model random_state:  202\n",
      "Baseline X_train shape:  (16000, 16)\n",
      "Baseline X_test shape:  (4000, 16)\n",
      "\n",
      "\n"
     ]
    },
    {
     "name": "stderr",
     "output_type": "stream",
     "text": [
      "2023-02-04 14:02:20 abstract_overall_variance_analyzer.py INFO    : Start classifiers testing by bootstrap\n"
     ]
    },
    {
     "data": {
      "text/plain": "Classifiers testing by bootstrap:   0%|          | 0/100 [00:00<?, ?it/s]",
      "application/vnd.jupyter.widget-view+json": {
       "version_major": 2,
       "version_minor": 0,
       "model_id": "53e1cf0fb7404e51ac7ff2de95dccd61"
      }
     },
     "metadata": {},
     "output_type": "display_data"
    },
    {
     "name": "stdout",
     "output_type": "stream",
     "text": [
      "\n",
      "\n"
     ]
    },
    {
     "name": "stderr",
     "output_type": "stream",
     "text": [
      "2023-02-04 14:03:34 abstract_overall_variance_analyzer.py INFO    : Successfully tested classifiers by bootstrap\n",
      "2023-02-04 14:03:43 abstract_overall_variance_analyzer.py INFO    : Successfully computed predict proba metrics\n"
     ]
    },
    {
     "name": "stdout",
     "output_type": "stream",
     "text": [
      "\n",
      "\n",
      "\n",
      "\n",
      "##############################  [Model 3 / 4] Analyze RandomForestClassifier  ##############################\n",
      "Model random_state:  203\n",
      "Baseline X_train shape:  (16000, 16)\n",
      "Baseline X_test shape:  (4000, 16)\n",
      "\n",
      "\n"
     ]
    },
    {
     "name": "stderr",
     "output_type": "stream",
     "text": [
      "2023-02-04 14:04:06 abstract_overall_variance_analyzer.py INFO    : Start classifiers testing by bootstrap\n"
     ]
    },
    {
     "data": {
      "text/plain": "Classifiers testing by bootstrap:   0%|          | 0/100 [00:00<?, ?it/s]",
      "application/vnd.jupyter.widget-view+json": {
       "version_major": 2,
       "version_minor": 0,
       "model_id": "245a36d93dc3466997a321a6fe0dff78"
      }
     },
     "metadata": {},
     "output_type": "display_data"
    },
    {
     "name": "stdout",
     "output_type": "stream",
     "text": [
      "\n",
      "\n"
     ]
    },
    {
     "name": "stderr",
     "output_type": "stream",
     "text": [
      "2023-02-04 14:04:51 abstract_overall_variance_analyzer.py INFO    : Successfully tested classifiers by bootstrap\n",
      "2023-02-04 14:04:59 abstract_overall_variance_analyzer.py INFO    : Successfully computed predict proba metrics\n"
     ]
    },
    {
     "name": "stdout",
     "output_type": "stream",
     "text": [
      "\n",
      "\n",
      "\n",
      "\n",
      "##############################  [Model 4 / 4] Analyze XGBClassifier  ##############################\n",
      "Model random_state:  204\n",
      "Baseline X_train shape:  (16000, 16)\n",
      "Baseline X_test shape:  (4000, 16)\n",
      "\n",
      "\n"
     ]
    },
    {
     "name": "stderr",
     "output_type": "stream",
     "text": [
      "2023-02-04 14:05:22 abstract_overall_variance_analyzer.py INFO    : Start classifiers testing by bootstrap\n"
     ]
    },
    {
     "data": {
      "text/plain": "Classifiers testing by bootstrap:   0%|          | 0/100 [00:00<?, ?it/s]",
      "application/vnd.jupyter.widget-view+json": {
       "version_major": 2,
       "version_minor": 0,
       "model_id": "c7efacade62b4dd4ac6671dee4dc648f"
      }
     },
     "metadata": {},
     "output_type": "display_data"
    },
    {
     "name": "stdout",
     "output_type": "stream",
     "text": [
      "\n",
      "\n"
     ]
    },
    {
     "name": "stderr",
     "output_type": "stream",
     "text": [
      "2023-02-04 14:05:59 abstract_overall_variance_analyzer.py INFO    : Successfully tested classifiers by bootstrap\n",
      "2023-02-04 14:06:09 abstract_overall_variance_analyzer.py INFO    : Successfully computed predict proba metrics\n"
     ]
    },
    {
     "name": "stdout",
     "output_type": "stream",
     "text": [
      "\n",
      "\n",
      "\n",
      "\n"
     ]
    },
    {
     "data": {
      "text/plain": "Analyze models in one run:   0%|          | 0/4 [00:00<?, ?it/s]",
      "application/vnd.jupyter.widget-view+json": {
       "version_major": 2,
       "version_minor": 0,
       "model_id": "db74569f43fa4226b905449cef73b8ec"
      }
     },
     "metadata": {},
     "output_type": "display_data"
    },
    {
     "name": "stdout",
     "output_type": "stream",
     "text": [
      "##############################  [Model 1 / 4] Analyze DecisionTreeClassifier  ##############################\n",
      "Model random_state:  301\n",
      "Baseline X_train shape:  (16000, 16)\n",
      "Baseline X_test shape:  (4000, 16)\n",
      "\n",
      "\n"
     ]
    },
    {
     "name": "stderr",
     "output_type": "stream",
     "text": [
      "2023-02-04 14:06:33 abstract_overall_variance_analyzer.py INFO    : Start classifiers testing by bootstrap\n"
     ]
    },
    {
     "data": {
      "text/plain": "Classifiers testing by bootstrap:   0%|          | 0/100 [00:00<?, ?it/s]",
      "application/vnd.jupyter.widget-view+json": {
       "version_major": 2,
       "version_minor": 0,
       "model_id": "ca6a74f9d72a44c0acdadc922b840275"
      }
     },
     "metadata": {},
     "output_type": "display_data"
    },
    {
     "name": "stdout",
     "output_type": "stream",
     "text": [
      "\n",
      "\n"
     ]
    },
    {
     "name": "stderr",
     "output_type": "stream",
     "text": [
      "2023-02-04 14:06:35 abstract_overall_variance_analyzer.py INFO    : Successfully tested classifiers by bootstrap\n",
      "2023-02-04 14:06:44 abstract_overall_variance_analyzer.py INFO    : Successfully computed predict proba metrics\n"
     ]
    },
    {
     "name": "stdout",
     "output_type": "stream",
     "text": [
      "\n",
      "\n",
      "\n",
      "\n",
      "##############################  [Model 2 / 4] Analyze LogisticRegression  ##############################\n",
      "Model random_state:  302\n",
      "Baseline X_train shape:  (16000, 16)\n",
      "Baseline X_test shape:  (4000, 16)\n",
      "\n",
      "\n"
     ]
    },
    {
     "name": "stderr",
     "output_type": "stream",
     "text": [
      "2023-02-04 14:07:11 abstract_overall_variance_analyzer.py INFO    : Start classifiers testing by bootstrap\n"
     ]
    },
    {
     "data": {
      "text/plain": "Classifiers testing by bootstrap:   0%|          | 0/100 [00:00<?, ?it/s]",
      "application/vnd.jupyter.widget-view+json": {
       "version_major": 2,
       "version_minor": 0,
       "model_id": "bc7118ed4c4e48939679039a81a152aa"
      }
     },
     "metadata": {},
     "output_type": "display_data"
    },
    {
     "name": "stdout",
     "output_type": "stream",
     "text": [
      "\n",
      "\n"
     ]
    },
    {
     "name": "stderr",
     "output_type": "stream",
     "text": [
      "2023-02-04 14:08:48 abstract_overall_variance_analyzer.py INFO    : Successfully tested classifiers by bootstrap\n",
      "2023-02-04 14:08:58 abstract_overall_variance_analyzer.py INFO    : Successfully computed predict proba metrics\n"
     ]
    },
    {
     "name": "stdout",
     "output_type": "stream",
     "text": [
      "\n",
      "\n",
      "\n",
      "\n",
      "##############################  [Model 3 / 4] Analyze RandomForestClassifier  ##############################\n",
      "Model random_state:  303\n",
      "Baseline X_train shape:  (16000, 16)\n",
      "Baseline X_test shape:  (4000, 16)\n",
      "\n",
      "\n"
     ]
    },
    {
     "name": "stderr",
     "output_type": "stream",
     "text": [
      "2023-02-04 14:09:21 abstract_overall_variance_analyzer.py INFO    : Start classifiers testing by bootstrap\n"
     ]
    },
    {
     "data": {
      "text/plain": "Classifiers testing by bootstrap:   0%|          | 0/100 [00:00<?, ?it/s]",
      "application/vnd.jupyter.widget-view+json": {
       "version_major": 2,
       "version_minor": 0,
       "model_id": "00cb88607e794a5ea617b064566ad545"
      }
     },
     "metadata": {},
     "output_type": "display_data"
    },
    {
     "name": "stdout",
     "output_type": "stream",
     "text": [
      "\n",
      "\n"
     ]
    },
    {
     "name": "stderr",
     "output_type": "stream",
     "text": [
      "2023-02-04 14:10:06 abstract_overall_variance_analyzer.py INFO    : Successfully tested classifiers by bootstrap\n",
      "2023-02-04 14:10:14 abstract_overall_variance_analyzer.py INFO    : Successfully computed predict proba metrics\n"
     ]
    },
    {
     "name": "stdout",
     "output_type": "stream",
     "text": [
      "\n",
      "\n",
      "\n",
      "\n",
      "##############################  [Model 4 / 4] Analyze XGBClassifier  ##############################\n",
      "Model random_state:  304\n",
      "Baseline X_train shape:  (16000, 16)\n",
      "Baseline X_test shape:  (4000, 16)\n",
      "\n",
      "\n"
     ]
    },
    {
     "name": "stderr",
     "output_type": "stream",
     "text": [
      "2023-02-04 14:10:37 abstract_overall_variance_analyzer.py INFO    : Start classifiers testing by bootstrap\n"
     ]
    },
    {
     "data": {
      "text/plain": "Classifiers testing by bootstrap:   0%|          | 0/100 [00:00<?, ?it/s]",
      "application/vnd.jupyter.widget-view+json": {
       "version_major": 2,
       "version_minor": 0,
       "model_id": "689fbcc8386b4c4c8a4fc3326037cb7c"
      }
     },
     "metadata": {},
     "output_type": "display_data"
    },
    {
     "name": "stdout",
     "output_type": "stream",
     "text": [
      "\n",
      "\n"
     ]
    },
    {
     "name": "stderr",
     "output_type": "stream",
     "text": [
      "2023-02-04 14:11:15 abstract_overall_variance_analyzer.py INFO    : Successfully tested classifiers by bootstrap\n",
      "2023-02-04 14:11:25 abstract_overall_variance_analyzer.py INFO    : Successfully computed predict proba metrics\n"
     ]
    },
    {
     "name": "stdout",
     "output_type": "stream",
     "text": [
      "\n",
      "\n",
      "\n",
      "\n"
     ]
    }
   ],
   "source": [
    "multiple_run_metrics_dct2 = compute_metrics_multiple_runs(dataset2, config2, models_config2, SAVE_RESULTS_DIR_PATH2, debug_mode=False)"
   ],
   "metadata": {
    "collapsed": false
   }
  },
  {
   "cell_type": "code",
   "execution_count": 218,
   "outputs": [
    {
     "data": {
      "text/plain": "                 Metric   overall  SEX_priv   SEX_dis  RAC1P_priv  RAC1P_dis  \\\n0                  Mean  0.554346  0.520324  0.586419    0.547753   0.567187   \n1                   Std  0.057353  0.056601  0.058062    0.056487   0.059040   \n2                   IQR  0.069112  0.068762  0.069442    0.068703   0.069907   \n3               Entropy  0.066744  0.046762  0.085582    0.058144   0.083496   \n4                Jitter  0.042313  0.029759  0.054147    0.036688   0.053269   \n5   Per_Sample_Accuracy  0.821237  0.855090  0.789325    0.819342   0.824930   \n6       Label_Stability  0.940725  0.955126  0.927149    0.948664   0.925262   \n7                   TPR  0.846961  0.878178  0.812933    0.836066   0.869492   \n8                   TNR  0.816438  0.849549  0.788768    0.816585   0.816167   \n9                   PPV  0.792248  0.846782  0.736402    0.796253   0.784404   \n10                  FNR  0.153039  0.121822  0.187067    0.163934   0.130508   \n11                  FPR  0.183562  0.150451  0.211232    0.183415   0.183833   \n12             Accuracy  0.830250  0.863472  0.798932    0.825577   0.839352   \n13                   F1  0.818692  0.862194  0.772777    0.815674   0.824759   \n14       Selection-Rate  0.483750  0.504379  0.464303    0.484677   0.481945   \n15        Positive-Rate  1.069061  1.037076  1.103926    1.050000   1.108475   \n0                  Mean  0.559067  0.540576  0.576815    0.554942   0.566856   \n1                   Std  0.055831  0.055694  0.055963    0.055621   0.056229   \n2                   IQR  0.069452  0.071011  0.067956    0.069649   0.069080   \n3               Entropy  0.000000  0.000000  0.000000    0.000000   0.000000   \n\n    SEX&RAC1P_priv  SEX&RAC1P_dis  Model_Seed              Model_Name  \\\n0         0.504085       0.581497         101  DecisionTreeClassifier   \n1         0.055073       0.058531         101  DecisionTreeClassifier   \n2         0.068545       0.070587         101  DecisionTreeClassifier   \n3         0.043045       0.111252         101  DecisionTreeClassifier   \n4         0.027803       0.071811         101  DecisionTreeClassifier   \n5         0.861309       0.807954         101  DecisionTreeClassifier   \n6         0.957599       0.901688         101  DecisionTreeClassifier   \n7         0.868976       0.841935         101  DecisionTreeClassifier   \n8         0.869144       0.814910         101  DecisionTreeClassifier   \n9         0.876900       0.783784         101  DecisionTreeClassifier   \n10        0.131024       0.158065         101  DecisionTreeClassifier   \n11        0.130856       0.185090         101  DecisionTreeClassifier   \n12        0.869057       0.826896         101  DecisionTreeClassifier   \n13        0.872920       0.811820         101  DecisionTreeClassifier   \n14        0.512860       0.476395         101  DecisionTreeClassifier   \n15        0.990964       1.074194         101  DecisionTreeClassifier   \n0         0.523368       0.561146         201  DecisionTreeClassifier   \n1         0.055241       0.055926         201  DecisionTreeClassifier   \n2         0.071775       0.068591         201  DecisionTreeClassifier   \n3         0.000000       0.000000         201  DecisionTreeClassifier   \n\n   Run_Number  \n0       Run_1  \n1       Run_1  \n2       Run_1  \n3       Run_1  \n4       Run_1  \n5       Run_1  \n6       Run_1  \n7       Run_1  \n8       Run_1  \n9       Run_1  \n10      Run_1  \n11      Run_1  \n12      Run_1  \n13      Run_1  \n14      Run_1  \n15      Run_1  \n0       Run_2  \n1       Run_2  \n2       Run_2  \n3       Run_2  ",
      "text/html": "<div>\n<style scoped>\n    .dataframe tbody tr th:only-of-type {\n        vertical-align: middle;\n    }\n\n    .dataframe tbody tr th {\n        vertical-align: top;\n    }\n\n    .dataframe thead th {\n        text-align: right;\n    }\n</style>\n<table border=\"1\" class=\"dataframe\">\n  <thead>\n    <tr style=\"text-align: right;\">\n      <th></th>\n      <th>Metric</th>\n      <th>overall</th>\n      <th>SEX_priv</th>\n      <th>SEX_dis</th>\n      <th>RAC1P_priv</th>\n      <th>RAC1P_dis</th>\n      <th>SEX&amp;RAC1P_priv</th>\n      <th>SEX&amp;RAC1P_dis</th>\n      <th>Model_Seed</th>\n      <th>Model_Name</th>\n      <th>Run_Number</th>\n    </tr>\n  </thead>\n  <tbody>\n    <tr>\n      <th>0</th>\n      <td>Mean</td>\n      <td>0.554346</td>\n      <td>0.520324</td>\n      <td>0.586419</td>\n      <td>0.547753</td>\n      <td>0.567187</td>\n      <td>0.504085</td>\n      <td>0.581497</td>\n      <td>101</td>\n      <td>DecisionTreeClassifier</td>\n      <td>Run_1</td>\n    </tr>\n    <tr>\n      <th>1</th>\n      <td>Std</td>\n      <td>0.057353</td>\n      <td>0.056601</td>\n      <td>0.058062</td>\n      <td>0.056487</td>\n      <td>0.059040</td>\n      <td>0.055073</td>\n      <td>0.058531</td>\n      <td>101</td>\n      <td>DecisionTreeClassifier</td>\n      <td>Run_1</td>\n    </tr>\n    <tr>\n      <th>2</th>\n      <td>IQR</td>\n      <td>0.069112</td>\n      <td>0.068762</td>\n      <td>0.069442</td>\n      <td>0.068703</td>\n      <td>0.069907</td>\n      <td>0.068545</td>\n      <td>0.070587</td>\n      <td>101</td>\n      <td>DecisionTreeClassifier</td>\n      <td>Run_1</td>\n    </tr>\n    <tr>\n      <th>3</th>\n      <td>Entropy</td>\n      <td>0.066744</td>\n      <td>0.046762</td>\n      <td>0.085582</td>\n      <td>0.058144</td>\n      <td>0.083496</td>\n      <td>0.043045</td>\n      <td>0.111252</td>\n      <td>101</td>\n      <td>DecisionTreeClassifier</td>\n      <td>Run_1</td>\n    </tr>\n    <tr>\n      <th>4</th>\n      <td>Jitter</td>\n      <td>0.042313</td>\n      <td>0.029759</td>\n      <td>0.054147</td>\n      <td>0.036688</td>\n      <td>0.053269</td>\n      <td>0.027803</td>\n      <td>0.071811</td>\n      <td>101</td>\n      <td>DecisionTreeClassifier</td>\n      <td>Run_1</td>\n    </tr>\n    <tr>\n      <th>5</th>\n      <td>Per_Sample_Accuracy</td>\n      <td>0.821237</td>\n      <td>0.855090</td>\n      <td>0.789325</td>\n      <td>0.819342</td>\n      <td>0.824930</td>\n      <td>0.861309</td>\n      <td>0.807954</td>\n      <td>101</td>\n      <td>DecisionTreeClassifier</td>\n      <td>Run_1</td>\n    </tr>\n    <tr>\n      <th>6</th>\n      <td>Label_Stability</td>\n      <td>0.940725</td>\n      <td>0.955126</td>\n      <td>0.927149</td>\n      <td>0.948664</td>\n      <td>0.925262</td>\n      <td>0.957599</td>\n      <td>0.901688</td>\n      <td>101</td>\n      <td>DecisionTreeClassifier</td>\n      <td>Run_1</td>\n    </tr>\n    <tr>\n      <th>7</th>\n      <td>TPR</td>\n      <td>0.846961</td>\n      <td>0.878178</td>\n      <td>0.812933</td>\n      <td>0.836066</td>\n      <td>0.869492</td>\n      <td>0.868976</td>\n      <td>0.841935</td>\n      <td>101</td>\n      <td>DecisionTreeClassifier</td>\n      <td>Run_1</td>\n    </tr>\n    <tr>\n      <th>8</th>\n      <td>TNR</td>\n      <td>0.816438</td>\n      <td>0.849549</td>\n      <td>0.788768</td>\n      <td>0.816585</td>\n      <td>0.816167</td>\n      <td>0.869144</td>\n      <td>0.814910</td>\n      <td>101</td>\n      <td>DecisionTreeClassifier</td>\n      <td>Run_1</td>\n    </tr>\n    <tr>\n      <th>9</th>\n      <td>PPV</td>\n      <td>0.792248</td>\n      <td>0.846782</td>\n      <td>0.736402</td>\n      <td>0.796253</td>\n      <td>0.784404</td>\n      <td>0.876900</td>\n      <td>0.783784</td>\n      <td>101</td>\n      <td>DecisionTreeClassifier</td>\n      <td>Run_1</td>\n    </tr>\n    <tr>\n      <th>10</th>\n      <td>FNR</td>\n      <td>0.153039</td>\n      <td>0.121822</td>\n      <td>0.187067</td>\n      <td>0.163934</td>\n      <td>0.130508</td>\n      <td>0.131024</td>\n      <td>0.158065</td>\n      <td>101</td>\n      <td>DecisionTreeClassifier</td>\n      <td>Run_1</td>\n    </tr>\n    <tr>\n      <th>11</th>\n      <td>FPR</td>\n      <td>0.183562</td>\n      <td>0.150451</td>\n      <td>0.211232</td>\n      <td>0.183415</td>\n      <td>0.183833</td>\n      <td>0.130856</td>\n      <td>0.185090</td>\n      <td>101</td>\n      <td>DecisionTreeClassifier</td>\n      <td>Run_1</td>\n    </tr>\n    <tr>\n      <th>12</th>\n      <td>Accuracy</td>\n      <td>0.830250</td>\n      <td>0.863472</td>\n      <td>0.798932</td>\n      <td>0.825577</td>\n      <td>0.839352</td>\n      <td>0.869057</td>\n      <td>0.826896</td>\n      <td>101</td>\n      <td>DecisionTreeClassifier</td>\n      <td>Run_1</td>\n    </tr>\n    <tr>\n      <th>13</th>\n      <td>F1</td>\n      <td>0.818692</td>\n      <td>0.862194</td>\n      <td>0.772777</td>\n      <td>0.815674</td>\n      <td>0.824759</td>\n      <td>0.872920</td>\n      <td>0.811820</td>\n      <td>101</td>\n      <td>DecisionTreeClassifier</td>\n      <td>Run_1</td>\n    </tr>\n    <tr>\n      <th>14</th>\n      <td>Selection-Rate</td>\n      <td>0.483750</td>\n      <td>0.504379</td>\n      <td>0.464303</td>\n      <td>0.484677</td>\n      <td>0.481945</td>\n      <td>0.512860</td>\n      <td>0.476395</td>\n      <td>101</td>\n      <td>DecisionTreeClassifier</td>\n      <td>Run_1</td>\n    </tr>\n    <tr>\n      <th>15</th>\n      <td>Positive-Rate</td>\n      <td>1.069061</td>\n      <td>1.037076</td>\n      <td>1.103926</td>\n      <td>1.050000</td>\n      <td>1.108475</td>\n      <td>0.990964</td>\n      <td>1.074194</td>\n      <td>101</td>\n      <td>DecisionTreeClassifier</td>\n      <td>Run_1</td>\n    </tr>\n    <tr>\n      <th>0</th>\n      <td>Mean</td>\n      <td>0.559067</td>\n      <td>0.540576</td>\n      <td>0.576815</td>\n      <td>0.554942</td>\n      <td>0.566856</td>\n      <td>0.523368</td>\n      <td>0.561146</td>\n      <td>201</td>\n      <td>DecisionTreeClassifier</td>\n      <td>Run_2</td>\n    </tr>\n    <tr>\n      <th>1</th>\n      <td>Std</td>\n      <td>0.055831</td>\n      <td>0.055694</td>\n      <td>0.055963</td>\n      <td>0.055621</td>\n      <td>0.056229</td>\n      <td>0.055241</td>\n      <td>0.055926</td>\n      <td>201</td>\n      <td>DecisionTreeClassifier</td>\n      <td>Run_2</td>\n    </tr>\n    <tr>\n      <th>2</th>\n      <td>IQR</td>\n      <td>0.069452</td>\n      <td>0.071011</td>\n      <td>0.067956</td>\n      <td>0.069649</td>\n      <td>0.069080</td>\n      <td>0.071775</td>\n      <td>0.068591</td>\n      <td>201</td>\n      <td>DecisionTreeClassifier</td>\n      <td>Run_2</td>\n    </tr>\n    <tr>\n      <th>3</th>\n      <td>Entropy</td>\n      <td>0.000000</td>\n      <td>0.000000</td>\n      <td>0.000000</td>\n      <td>0.000000</td>\n      <td>0.000000</td>\n      <td>0.000000</td>\n      <td>0.000000</td>\n      <td>201</td>\n      <td>DecisionTreeClassifier</td>\n      <td>Run_2</td>\n    </tr>\n  </tbody>\n</table>\n</div>"
     },
     "execution_count": 218,
     "metadata": {},
     "output_type": "execute_result"
    }
   ],
   "source": [
    "sample_model_metrics_df = multiple_run_metrics_dct2[list(models_config2.keys())[0]]\n",
    "sample_model_metrics_df.head(20)"
   ],
   "metadata": {
    "collapsed": false
   }
  },
  {
   "cell_type": "code",
   "execution_count": 219,
   "outputs": [],
   "source": [
    "models_metrics_dct2 = read_model_metric_dfs(SAVE_RESULTS_DIR_PATH2, model_names=models_config2.keys())\n",
    "standard_models_metrics_dct2 = read_model_metric_dfs(STANDARD_RESULTS_DIR_PATH2, model_names=models_config2.keys())\n",
    "\n",
    "avg_models_metrics_dct2 = create_averaged_dfs_dict(models_metrics_dct2)\n",
    "avg_standard_models_metrics_dct2 = create_averaged_dfs_dict(standard_models_metrics_dct2)"
   ],
   "metadata": {
    "collapsed": false
   }
  },
  {
   "cell_type": "markdown",
   "source": [
    "## Create a Benchmark Report"
   ],
   "metadata": {
    "collapsed": false
   }
  },
  {
   "cell_type": "code",
   "execution_count": 220,
   "outputs": [],
   "source": [
    "report_df = populate_benchmark_report(report_df, avg_models_metrics_dct2, avg_standard_models_metrics_dct2,\n",
    "                                      config2.dataset_name, config2.sensitive_attributes_dct)"
   ],
   "metadata": {
    "collapsed": false
   }
  },
  {
   "cell_type": "code",
   "execution_count": 221,
   "outputs": [],
   "source": [
    "filename = f'benchmark_report_{datetime.now(timezone.utc).strftime(\"%Y%m%d__%H%M%S\")}'\n",
    "report_df.to_csv(os.path.join(ROOT_DIR, 'results', 'benchmark', 'benchmark_reports', f'{filename}.csv'), index=False)"
   ],
   "metadata": {
    "collapsed": false
   }
  },
  {
   "cell_type": "code",
   "execution_count": 222,
   "outputs": [
    {
     "data": {
      "text/plain": "                                Dataset                   Model  \\\n0   COMPAS_Without_Sensitive_Attributes  DecisionTreeClassifier   \n1   COMPAS_Without_Sensitive_Attributes  DecisionTreeClassifier   \n2   COMPAS_Without_Sensitive_Attributes  DecisionTreeClassifier   \n3   COMPAS_Without_Sensitive_Attributes  DecisionTreeClassifier   \n4   COMPAS_Without_Sensitive_Attributes  DecisionTreeClassifier   \n5   COMPAS_Without_Sensitive_Attributes  DecisionTreeClassifier   \n6   COMPAS_Without_Sensitive_Attributes  DecisionTreeClassifier   \n7   COMPAS_Without_Sensitive_Attributes      LogisticRegression   \n8   COMPAS_Without_Sensitive_Attributes      LogisticRegression   \n9   COMPAS_Without_Sensitive_Attributes      LogisticRegression   \n10  COMPAS_Without_Sensitive_Attributes      LogisticRegression   \n11  COMPAS_Without_Sensitive_Attributes      LogisticRegression   \n12  COMPAS_Without_Sensitive_Attributes      LogisticRegression   \n13  COMPAS_Without_Sensitive_Attributes      LogisticRegression   \n14  COMPAS_Without_Sensitive_Attributes  RandomForestClassifier   \n15  COMPAS_Without_Sensitive_Attributes  RandomForestClassifier   \n16  COMPAS_Without_Sensitive_Attributes  RandomForestClassifier   \n17  COMPAS_Without_Sensitive_Attributes  RandomForestClassifier   \n18  COMPAS_Without_Sensitive_Attributes  RandomForestClassifier   \n19  COMPAS_Without_Sensitive_Attributes  RandomForestClassifier   \n20  COMPAS_Without_Sensitive_Attributes  RandomForestClassifier   \n21  COMPAS_Without_Sensitive_Attributes           XGBClassifier   \n22  COMPAS_Without_Sensitive_Attributes           XGBClassifier   \n23  COMPAS_Without_Sensitive_Attributes           XGBClassifier   \n24  COMPAS_Without_Sensitive_Attributes           XGBClassifier   \n25  COMPAS_Without_Sensitive_Attributes           XGBClassifier   \n26  COMPAS_Without_Sensitive_Attributes           XGBClassifier   \n27  COMPAS_Without_Sensitive_Attributes           XGBClassifier   \n28                   Folktables_GA_2018  DecisionTreeClassifier   \n29                   Folktables_GA_2018  DecisionTreeClassifier   \n30                   Folktables_GA_2018  DecisionTreeClassifier   \n31                   Folktables_GA_2018  DecisionTreeClassifier   \n32                   Folktables_GA_2018  DecisionTreeClassifier   \n33                   Folktables_GA_2018  DecisionTreeClassifier   \n34                   Folktables_GA_2018  DecisionTreeClassifier   \n35                   Folktables_GA_2018      LogisticRegression   \n36                   Folktables_GA_2018      LogisticRegression   \n37                   Folktables_GA_2018      LogisticRegression   \n38                   Folktables_GA_2018      LogisticRegression   \n39                   Folktables_GA_2018      LogisticRegression   \n40                   Folktables_GA_2018      LogisticRegression   \n41                   Folktables_GA_2018      LogisticRegression   \n42                   Folktables_GA_2018  RandomForestClassifier   \n43                   Folktables_GA_2018  RandomForestClassifier   \n44                   Folktables_GA_2018  RandomForestClassifier   \n45                   Folktables_GA_2018  RandomForestClassifier   \n46                   Folktables_GA_2018  RandomForestClassifier   \n47                   Folktables_GA_2018  RandomForestClassifier   \n48                   Folktables_GA_2018  RandomForestClassifier   \n49                   Folktables_GA_2018           XGBClassifier   \n50                   Folktables_GA_2018           XGBClassifier   \n51                   Folktables_GA_2018           XGBClassifier   \n52                   Folktables_GA_2018           XGBClassifier   \n53                   Folktables_GA_2018           XGBClassifier   \n54                   Folktables_GA_2018           XGBClassifier   \n55                   Folktables_GA_2018           XGBClassifier   \n\n          Subgroup  Delta%_Accuracy  Delta%_Entropy  Delta%_F1  Delta%_FNR  \\\n0          overall           -0.047          -1.439     -0.256       0.250   \n1         sex_priv           -0.240         -20.514     -0.946       1.865   \n2          sex_dis           -0.004          -1.471     -0.120      -0.043   \n3        race_priv           -0.176          -1.599     -0.593       0.103   \n4         race_dis            0.042         -13.161     -0.106       0.380   \n5    sex&race_priv            1.195         -12.752      1.579      -0.270   \n6     sex&race_dis            0.369         -12.994      0.171       0.046   \n7          overall           -0.253          -0.372     -0.735       1.069   \n8         sex_priv           -1.957           0.000     -4.330       4.353   \n9          sex_dis            0.145          -0.328     -0.137       0.510   \n10       race_priv           -0.114           0.871     -0.633       0.555   \n11        race_dis           -0.352          -1.456     -0.542       0.952   \n12   sex&race_priv           -4.311           0.000     -8.225       8.729   \n13    sex&race_dis           -0.452          -1.395     -0.468       1.440   \n14         overall           -1.515          -4.872     -2.553       1.946   \n15        sex_priv           -1.072          -3.331     -0.177       0.329   \n16         sex_dis           -1.616          -4.881     -2.738       1.959   \n17       race_priv           -1.748          -4.632     -3.099       2.577   \n18        race_dis           -1.377          -3.327     -2.283       1.492   \n19   sex&race_priv            0.592          -5.267      3.037      -0.578   \n20    sex&race_dis           -1.156          -3.388     -2.108       1.518   \n21         overall           -0.410          -5.333     -0.330       0.415   \n22        sex_priv            0.194          -6.318      1.417      -0.451   \n23         sex_dis           -0.565          -2.967     -0.549       0.449   \n24       race_priv            0.926          -0.198      1.549      -1.054   \n25        race_dis           -1.270          -0.641     -1.083       0.940   \n26   sex&race_priv            0.250          -2.982      1.169      -0.320   \n27    sex&race_dis           -1.583          -0.829     -1.462       1.117   \n28         overall           -0.229          -2.225     -0.535      -0.061   \n29        SEX_priv           -0.148          -1.559     -0.376       0.833   \n30         SEX_dis           -0.220          -2.853     -0.561      -1.047   \n31      RAC1P_priv            0.269          -1.938      0.167      -0.696   \n32       RAC1P_dis           -1.212          -2.783     -1.973       1.220   \n33  SEX&RAC1P_priv            0.124          -1.435      0.013      -0.095   \n34   SEX&RAC1P_dis           -1.382          -3.708     -2.193      -0.453   \n35         overall            0.071          -0.873      0.453      -0.616   \n36        SEX_priv           -0.096           0.707      0.393      -0.031   \n37         SEX_dis            0.305          -1.734      0.523      -1.189   \n38      RAC1P_priv           -0.203           0.822      0.263      -0.530   \n39       RAC1P_dis            0.583          -0.312      0.858      -0.797   \n40  SEX&RAC1P_priv           -0.558           0.000     -0.029       0.398   \n41   SEX&RAC1P_dis            0.393          -1.790      0.270      -0.434   \n42         overall            2.475           0.000      2.405      -1.481   \n43        SEX_priv            2.768           0.000      2.884      -3.292   \n44         SEX_dis            2.260           0.233      1.884       0.524   \n45      RAC1P_priv            2.103           0.000      2.279      -1.695   \n46       RAC1P_dis            3.202           0.021      2.672      -1.098   \n47  SEX&RAC1P_priv            2.492           0.846      2.603      -3.427   \n48   SEX&RAC1P_dis            3.306           3.338      2.060       0.722   \n49         overall            1.092           0.000      1.439      -0.659   \n50        SEX_priv            0.448           0.000      1.106      -2.310   \n51         SEX_dis            1.767           0.738      1.631       1.124   \n52      RAC1P_priv            0.726           0.000      1.322      -1.467   \n53       RAC1P_dis            1.809           0.671      1.668       1.016   \n54  SEX&RAC1P_priv           -0.046           0.000      0.718      -3.022   \n55   SEX&RAC1P_dis            2.237          -1.376      1.472       2.401   \n\n    Delta%_FPR  Delta%_General_Ensemble_Accuracy  Delta%_IQR  Delta%_Jitter  \\\n0       -0.170                            58.450      -5.999        -69.491   \n1       -0.750                            57.287      -7.025        -64.904   \n2       -0.054                            58.733      -5.756        -70.571   \n3        0.454                            56.451      -4.955        -71.109   \n4       -0.634                            59.755      -6.691        -68.411   \n5       -1.680                            54.740      -6.153        -64.564   \n6       -1.115                            59.847      -6.466        -69.085   \n7       -0.381                            62.740      -2.448        -88.074   \n8        1.014                            62.284      -3.079        -87.434   \n9       -0.767                            62.870      -2.304        -88.213   \n10      -0.066                            62.337      -1.757        -89.980   \n11      -0.266                            63.015      -2.909        -86.779   \n12       0.304                            62.601      -2.136        -89.653   \n13      -0.604                            63.197      -2.723        -87.012   \n14       1.670                            61.010      -2.519        -83.807   \n15       0.791                            63.511      -2.926        -83.911   \n16       1.840                            60.445      -2.419        -83.801   \n17       1.513                            60.120      -2.088        -85.316   \n18       1.504                            61.580      -2.802        -82.816   \n19      -2.983                            64.636      -2.488        -85.381   \n20       0.748                            61.411      -2.689        -82.883   \n21       0.363                            61.850      -4.040        -77.318   \n22      -0.833                            64.394      -6.017        -72.123   \n23       0.700                            61.228      -3.559        -78.574   \n24      -1.061                            60.654      -4.012        -77.687   \n25       1.629                            62.616      -4.047        -77.100   \n26      -0.698                            62.679      -6.820        -70.007   \n27       2.122                            61.927      -3.742        -77.810   \n28       0.363                               NaN      -1.040          0.599   \n29      -0.544                               NaN      -0.898          0.817   \n30       0.940                               NaN      -1.177          0.361   \n31       0.024                               NaN      -0.913          0.908   \n32       1.016                               NaN      -1.290         -0.001   \n33      -0.195                               NaN      -0.728          0.813   \n34       2.373                               NaN      -1.322         -0.930   \n35       0.408                               NaN      -0.400          0.054   \n36       0.518                               NaN      -0.420         -0.116   \n37       0.295                               NaN      -0.380          0.215   \n38       0.892                               NaN      -0.373          0.216   \n39      -0.396                               NaN      -0.460         -0.263   \n40       1.150                               NaN      -0.419          0.079   \n41      -0.362                               NaN      -0.492         -0.048   \n42      -3.244                               NaN       1.612          2.207   \n43      -2.231                               NaN       1.384          1.739   \n44      -4.166                               NaN       1.828          2.648   \n45      -2.306                               NaN       1.739          2.248   \n46      -4.892                               NaN       1.363          2.130   \n47      -1.443                               NaN       1.587          1.992   \n48      -6.559                               NaN       1.720          2.947   \n49      -1.262                               NaN       0.550          1.082   \n50       1.452                               NaN       0.493          0.777   \n51      -3.666                               NaN       0.603          1.363   \n52       0.129                               NaN       0.463          0.976   \n53      -3.739                               NaN       0.721          1.284   \n54       3.451                               NaN       0.410          0.639   \n55      -5.549                               NaN       0.771          1.486   \n\n    Delta%_Label_Stability  Delta%_Mean  Delta%_PPV  \\\n0                   33.628      -13.095      -0.021   \n1                   27.141        1.134     -10.031   \n2                   35.158      -15.880       1.830   \n3                   27.613        3.813     -10.575   \n4                   37.549      -21.209       3.712   \n5                   23.466       14.151     -14.438   \n6                   39.109      -23.505       5.536   \n7                   40.960      -12.521      -0.290   \n8                   36.620        2.009     -14.276   \n9                   41.971      -15.168       1.881   \n10                  35.608        0.462      -6.949   \n11                  44.552      -19.315       1.978   \n12                  34.135        5.122     -16.511   \n13                  45.729      -21.955       3.746   \n14                  38.605      -17.520      -0.159   \n15                  34.111        1.338     -12.704   \n16                  39.619      -20.464       1.748   \n17                  33.738       -4.191      -7.623   \n18                  41.834      -24.066       2.395   \n19                  32.341        8.642      -7.734   \n20                  43.032      -26.794       4.639   \n21                  35.954      -15.092       0.106   \n22                  29.185        2.425     -13.012   \n23                  37.594      -18.319       2.542   \n24                  30.377        2.278      -6.555   \n25                  39.628      -23.635       2.331   \n26                  25.483        3.731     -10.279   \n27                  41.297      -27.497       4.917   \n28                  -0.332       -0.029      -1.002   \n29                  -0.563       -0.125       0.087   \n30                  -0.074        0.006      -1.701   \n31                  -0.858       -0.156      -0.279   \n32                   0.689        0.203      -2.459   \n33                  -0.579       -0.002      -0.067   \n34                   2.025        0.480      -4.003   \n35                   0.201       -0.564       0.331   \n36                   0.481       -0.930       0.681   \n37                  -0.067       -0.288      -0.029   \n38                  -0.041       -0.885       0.052   \n39                   0.673       -0.028       0.930   \n40                   0.194       -1.347       0.272   \n41                   0.333        0.101       0.167   \n42                  -2.541       -0.679       3.074   \n43                  -2.005       -4.453       2.483   \n44                  -3.046        2.903       3.410   \n45                  -2.656       -1.785       2.708   \n46                  -2.322        1.489       3.722   \n47                  -2.411       -5.786       1.806   \n48                  -3.348        4.440       3.851   \n49                  -1.259       -0.171       2.046   \n50                  -0.791       -2.719       0.070   \n51                  -1.690        2.175       3.541   \n52                  -1.057       -1.237       1.206   \n53                  -1.646        1.919       3.579   \n54                  -0.534       -4.220      -1.390   \n55                  -1.940        3.223       4.086   \n\n    Delta%_Per_Sample_Accuracy  Delta%_Positive-Rate  Delta%_Selection-Rate  \\\n0                      -29.019                50.830                 36.781   \n1                      -31.637                58.808                 27.042   \n2                      -28.544                48.920                 39.054   \n3                      -15.199                51.663                 23.376   \n4                      -35.316                47.904                 45.569   \n5                      -26.305                56.845                 20.702   \n6                      -35.090                45.238                 48.190   \n7                      -24.404                46.014                 39.540   \n8                      -17.998                51.030                 27.125   \n9                      -25.375                44.408                 42.441   \n10                      -2.753                40.582                 24.486   \n11                     -35.131                46.498                 50.127   \n12                      -5.685                36.737                 19.265   \n13                     -36.187                42.872                 53.275   \n14                     -17.760                44.281                 36.560   \n15                      -9.683                51.009                 22.970   \n16                     -19.153                42.329                 39.662   \n17                      -5.224                42.221                 24.166   \n18                     -23.623                43.077                 44.632   \n19                      -1.396                39.654                 17.262   \n20                     -24.513                39.403                 47.874   \n21                     -25.562                48.543                 39.265   \n22                     -24.519                60.117                 26.521   \n23                     -25.975                45.706                 42.352   \n24                     -13.967                47.909                 26.439   \n25                     -30.933                46.837                 47.805   \n26                      -9.471                49.812                 22.519   \n27                     -30.487                42.169                 51.618   \n28                      -0.136                 1.519                 -0.388   \n29                      -0.225                -1.058                 -1.008   \n30                       0.028                 4.295                  0.182   \n31                       0.174                 1.299                 -0.003   \n32                      -0.747                 2.147                 -1.123   \n33                      -0.065                 0.228                 -0.384   \n34                      -0.632                 7.150                 -0.133   \n35                       0.223                 0.374                  0.962   \n36                       0.049                -0.895                  1.465   \n37                       0.466                 1.743                  0.590   \n38                       0.022                 0.666                  1.283   \n39                       0.596                -0.259                  0.424   \n40                      -0.341                -0.836                  1.668   \n41                       0.408                 0.528                 -0.234   \n42                       2.130                -2.700                 -0.975   \n43                       2.401                 0.757                  0.594   \n44                       1.936                -6.798                 -2.474   \n45                       1.712                -1.767                  0.070   \n46                       2.947                -4.532                 -3.019   \n47                       2.112                 1.856                  1.390   \n48                       3.130                -7.723                 -4.913   \n49                       1.161                -2.149                  0.354   \n50                       0.461                 2.709                  3.051   \n51                       1.889                -7.549                 -2.140   \n52                       0.842                 0.169                  1.671   \n53                       1.787                -7.025                 -2.216   \n54                      -0.002                 5.274                  4.497   \n55                       2.236               -10.228                 -4.222   \n\n    Delta%_Std  Delta%_TNR  Delta%_TPR  \n0      -64.511       9.012      62.359  \n1      -66.800      20.570      52.821  \n2      -63.788       6.590      64.054  \n3      -71.398      33.293      44.380  \n4      -58.664      -4.818      70.749  \n5      -67.255      35.097      42.449  \n6      -56.335      -7.866      72.250  \n7      -70.052      13.847      57.652  \n8      -76.960      31.878      41.670  \n9      -68.039      10.120      60.354  \n10     -79.542      41.960      39.111  \n11     -61.871      -3.962      67.365  \n12     -82.365      43.922      31.311  \n13     -59.181      -8.788      69.394  \n14     -72.616      15.425      57.327  \n15     -79.378      38.179      43.656  \n16     -70.519      11.000      59.510  \n17     -78.886      36.875      41.545  \n18     -67.126       2.897      65.068  \n19     -81.138      51.309      36.951  \n20     -63.994      -1.389      66.998  \n21     -68.626       9.897      62.587  \n22     -74.544      27.097      53.379  \n23     -66.663       6.021      64.126  \n24     -73.824      33.485      46.874  \n25     -64.194      -3.902      70.306  \n26     -77.029      37.168      45.641  \n27     -61.110      -8.849      71.549  \n28      -0.159      -0.363       0.061  \n29       0.021       0.544      -0.833  \n30      -0.328      -0.940       1.047  \n31      -0.026      -0.024       0.696  \n32      -0.418      -1.016      -1.220  \n33       0.180       0.195       0.095  \n34      -0.521      -2.373       0.453  \n35      -0.089      -0.408       0.616  \n36      -0.114      -0.518       0.031  \n37      -0.064      -0.295       1.189  \n38      -0.081      -0.892       0.530  \n39      -0.111       0.396       0.797  \n40      -0.120      -1.150      -0.398  \n41      -0.114       0.362       0.434  \n42       1.573       3.244       1.481  \n43       1.361       2.231       3.292  \n44       1.775       4.166      -0.524  \n45       1.663       2.306       1.695  \n46       1.398       4.892       1.098  \n47       1.506       1.443       3.427  \n48       1.700       6.559      -0.722  \n49       0.675       1.262       0.659  \n50       0.618      -1.452       2.310  \n51       0.728       3.666      -1.124  \n52       0.598      -0.129       1.467  \n53       0.825       3.739      -1.016  \n54       0.541      -3.451       3.022  \n55       0.868       5.549      -2.401  ",
      "text/html": "<div>\n<style scoped>\n    .dataframe tbody tr th:only-of-type {\n        vertical-align: middle;\n    }\n\n    .dataframe tbody tr th {\n        vertical-align: top;\n    }\n\n    .dataframe thead th {\n        text-align: right;\n    }\n</style>\n<table border=\"1\" class=\"dataframe\">\n  <thead>\n    <tr style=\"text-align: right;\">\n      <th></th>\n      <th>Dataset</th>\n      <th>Model</th>\n      <th>Subgroup</th>\n      <th>Delta%_Accuracy</th>\n      <th>Delta%_Entropy</th>\n      <th>Delta%_F1</th>\n      <th>Delta%_FNR</th>\n      <th>Delta%_FPR</th>\n      <th>Delta%_General_Ensemble_Accuracy</th>\n      <th>Delta%_IQR</th>\n      <th>Delta%_Jitter</th>\n      <th>Delta%_Label_Stability</th>\n      <th>Delta%_Mean</th>\n      <th>Delta%_PPV</th>\n      <th>Delta%_Per_Sample_Accuracy</th>\n      <th>Delta%_Positive-Rate</th>\n      <th>Delta%_Selection-Rate</th>\n      <th>Delta%_Std</th>\n      <th>Delta%_TNR</th>\n      <th>Delta%_TPR</th>\n    </tr>\n  </thead>\n  <tbody>\n    <tr>\n      <th>0</th>\n      <td>COMPAS_Without_Sensitive_Attributes</td>\n      <td>DecisionTreeClassifier</td>\n      <td>overall</td>\n      <td>-0.047</td>\n      <td>-1.439</td>\n      <td>-0.256</td>\n      <td>0.250</td>\n      <td>-0.170</td>\n      <td>58.450</td>\n      <td>-5.999</td>\n      <td>-69.491</td>\n      <td>33.628</td>\n      <td>-13.095</td>\n      <td>-0.021</td>\n      <td>-29.019</td>\n      <td>50.830</td>\n      <td>36.781</td>\n      <td>-64.511</td>\n      <td>9.012</td>\n      <td>62.359</td>\n    </tr>\n    <tr>\n      <th>1</th>\n      <td>COMPAS_Without_Sensitive_Attributes</td>\n      <td>DecisionTreeClassifier</td>\n      <td>sex_priv</td>\n      <td>-0.240</td>\n      <td>-20.514</td>\n      <td>-0.946</td>\n      <td>1.865</td>\n      <td>-0.750</td>\n      <td>57.287</td>\n      <td>-7.025</td>\n      <td>-64.904</td>\n      <td>27.141</td>\n      <td>1.134</td>\n      <td>-10.031</td>\n      <td>-31.637</td>\n      <td>58.808</td>\n      <td>27.042</td>\n      <td>-66.800</td>\n      <td>20.570</td>\n      <td>52.821</td>\n    </tr>\n    <tr>\n      <th>2</th>\n      <td>COMPAS_Without_Sensitive_Attributes</td>\n      <td>DecisionTreeClassifier</td>\n      <td>sex_dis</td>\n      <td>-0.004</td>\n      <td>-1.471</td>\n      <td>-0.120</td>\n      <td>-0.043</td>\n      <td>-0.054</td>\n      <td>58.733</td>\n      <td>-5.756</td>\n      <td>-70.571</td>\n      <td>35.158</td>\n      <td>-15.880</td>\n      <td>1.830</td>\n      <td>-28.544</td>\n      <td>48.920</td>\n      <td>39.054</td>\n      <td>-63.788</td>\n      <td>6.590</td>\n      <td>64.054</td>\n    </tr>\n    <tr>\n      <th>3</th>\n      <td>COMPAS_Without_Sensitive_Attributes</td>\n      <td>DecisionTreeClassifier</td>\n      <td>race_priv</td>\n      <td>-0.176</td>\n      <td>-1.599</td>\n      <td>-0.593</td>\n      <td>0.103</td>\n      <td>0.454</td>\n      <td>56.451</td>\n      <td>-4.955</td>\n      <td>-71.109</td>\n      <td>27.613</td>\n      <td>3.813</td>\n      <td>-10.575</td>\n      <td>-15.199</td>\n      <td>51.663</td>\n      <td>23.376</td>\n      <td>-71.398</td>\n      <td>33.293</td>\n      <td>44.380</td>\n    </tr>\n    <tr>\n      <th>4</th>\n      <td>COMPAS_Without_Sensitive_Attributes</td>\n      <td>DecisionTreeClassifier</td>\n      <td>race_dis</td>\n      <td>0.042</td>\n      <td>-13.161</td>\n      <td>-0.106</td>\n      <td>0.380</td>\n      <td>-0.634</td>\n      <td>59.755</td>\n      <td>-6.691</td>\n      <td>-68.411</td>\n      <td>37.549</td>\n      <td>-21.209</td>\n      <td>3.712</td>\n      <td>-35.316</td>\n      <td>47.904</td>\n      <td>45.569</td>\n      <td>-58.664</td>\n      <td>-4.818</td>\n      <td>70.749</td>\n    </tr>\n    <tr>\n      <th>5</th>\n      <td>COMPAS_Without_Sensitive_Attributes</td>\n      <td>DecisionTreeClassifier</td>\n      <td>sex&amp;race_priv</td>\n      <td>1.195</td>\n      <td>-12.752</td>\n      <td>1.579</td>\n      <td>-0.270</td>\n      <td>-1.680</td>\n      <td>54.740</td>\n      <td>-6.153</td>\n      <td>-64.564</td>\n      <td>23.466</td>\n      <td>14.151</td>\n      <td>-14.438</td>\n      <td>-26.305</td>\n      <td>56.845</td>\n      <td>20.702</td>\n      <td>-67.255</td>\n      <td>35.097</td>\n      <td>42.449</td>\n    </tr>\n    <tr>\n      <th>6</th>\n      <td>COMPAS_Without_Sensitive_Attributes</td>\n      <td>DecisionTreeClassifier</td>\n      <td>sex&amp;race_dis</td>\n      <td>0.369</td>\n      <td>-12.994</td>\n      <td>0.171</td>\n      <td>0.046</td>\n      <td>-1.115</td>\n      <td>59.847</td>\n      <td>-6.466</td>\n      <td>-69.085</td>\n      <td>39.109</td>\n      <td>-23.505</td>\n      <td>5.536</td>\n      <td>-35.090</td>\n      <td>45.238</td>\n      <td>48.190</td>\n      <td>-56.335</td>\n      <td>-7.866</td>\n      <td>72.250</td>\n    </tr>\n    <tr>\n      <th>7</th>\n      <td>COMPAS_Without_Sensitive_Attributes</td>\n      <td>LogisticRegression</td>\n      <td>overall</td>\n      <td>-0.253</td>\n      <td>-0.372</td>\n      <td>-0.735</td>\n      <td>1.069</td>\n      <td>-0.381</td>\n      <td>62.740</td>\n      <td>-2.448</td>\n      <td>-88.074</td>\n      <td>40.960</td>\n      <td>-12.521</td>\n      <td>-0.290</td>\n      <td>-24.404</td>\n      <td>46.014</td>\n      <td>39.540</td>\n      <td>-70.052</td>\n      <td>13.847</td>\n      <td>57.652</td>\n    </tr>\n    <tr>\n      <th>8</th>\n      <td>COMPAS_Without_Sensitive_Attributes</td>\n      <td>LogisticRegression</td>\n      <td>sex_priv</td>\n      <td>-1.957</td>\n      <td>0.000</td>\n      <td>-4.330</td>\n      <td>4.353</td>\n      <td>1.014</td>\n      <td>62.284</td>\n      <td>-3.079</td>\n      <td>-87.434</td>\n      <td>36.620</td>\n      <td>2.009</td>\n      <td>-14.276</td>\n      <td>-17.998</td>\n      <td>51.030</td>\n      <td>27.125</td>\n      <td>-76.960</td>\n      <td>31.878</td>\n      <td>41.670</td>\n    </tr>\n    <tr>\n      <th>9</th>\n      <td>COMPAS_Without_Sensitive_Attributes</td>\n      <td>LogisticRegression</td>\n      <td>sex_dis</td>\n      <td>0.145</td>\n      <td>-0.328</td>\n      <td>-0.137</td>\n      <td>0.510</td>\n      <td>-0.767</td>\n      <td>62.870</td>\n      <td>-2.304</td>\n      <td>-88.213</td>\n      <td>41.971</td>\n      <td>-15.168</td>\n      <td>1.881</td>\n      <td>-25.375</td>\n      <td>44.408</td>\n      <td>42.441</td>\n      <td>-68.039</td>\n      <td>10.120</td>\n      <td>60.354</td>\n    </tr>\n    <tr>\n      <th>10</th>\n      <td>COMPAS_Without_Sensitive_Attributes</td>\n      <td>LogisticRegression</td>\n      <td>race_priv</td>\n      <td>-0.114</td>\n      <td>0.871</td>\n      <td>-0.633</td>\n      <td>0.555</td>\n      <td>-0.066</td>\n      <td>62.337</td>\n      <td>-1.757</td>\n      <td>-89.980</td>\n      <td>35.608</td>\n      <td>0.462</td>\n      <td>-6.949</td>\n      <td>-2.753</td>\n      <td>40.582</td>\n      <td>24.486</td>\n      <td>-79.542</td>\n      <td>41.960</td>\n      <td>39.111</td>\n    </tr>\n    <tr>\n      <th>11</th>\n      <td>COMPAS_Without_Sensitive_Attributes</td>\n      <td>LogisticRegression</td>\n      <td>race_dis</td>\n      <td>-0.352</td>\n      <td>-1.456</td>\n      <td>-0.542</td>\n      <td>0.952</td>\n      <td>-0.266</td>\n      <td>63.015</td>\n      <td>-2.909</td>\n      <td>-86.779</td>\n      <td>44.552</td>\n      <td>-19.315</td>\n      <td>1.978</td>\n      <td>-35.131</td>\n      <td>46.498</td>\n      <td>50.127</td>\n      <td>-61.871</td>\n      <td>-3.962</td>\n      <td>67.365</td>\n    </tr>\n    <tr>\n      <th>12</th>\n      <td>COMPAS_Without_Sensitive_Attributes</td>\n      <td>LogisticRegression</td>\n      <td>sex&amp;race_priv</td>\n      <td>-4.311</td>\n      <td>0.000</td>\n      <td>-8.225</td>\n      <td>8.729</td>\n      <td>0.304</td>\n      <td>62.601</td>\n      <td>-2.136</td>\n      <td>-89.653</td>\n      <td>34.135</td>\n      <td>5.122</td>\n      <td>-16.511</td>\n      <td>-5.685</td>\n      <td>36.737</td>\n      <td>19.265</td>\n      <td>-82.365</td>\n      <td>43.922</td>\n      <td>31.311</td>\n    </tr>\n    <tr>\n      <th>13</th>\n      <td>COMPAS_Without_Sensitive_Attributes</td>\n      <td>LogisticRegression</td>\n      <td>sex&amp;race_dis</td>\n      <td>-0.452</td>\n      <td>-1.395</td>\n      <td>-0.468</td>\n      <td>1.440</td>\n      <td>-0.604</td>\n      <td>63.197</td>\n      <td>-2.723</td>\n      <td>-87.012</td>\n      <td>45.729</td>\n      <td>-21.955</td>\n      <td>3.746</td>\n      <td>-36.187</td>\n      <td>42.872</td>\n      <td>53.275</td>\n      <td>-59.181</td>\n      <td>-8.788</td>\n      <td>69.394</td>\n    </tr>\n    <tr>\n      <th>14</th>\n      <td>COMPAS_Without_Sensitive_Attributes</td>\n      <td>RandomForestClassifier</td>\n      <td>overall</td>\n      <td>-1.515</td>\n      <td>-4.872</td>\n      <td>-2.553</td>\n      <td>1.946</td>\n      <td>1.670</td>\n      <td>61.010</td>\n      <td>-2.519</td>\n      <td>-83.807</td>\n      <td>38.605</td>\n      <td>-17.520</td>\n      <td>-0.159</td>\n      <td>-17.760</td>\n      <td>44.281</td>\n      <td>36.560</td>\n      <td>-72.616</td>\n      <td>15.425</td>\n      <td>57.327</td>\n    </tr>\n    <tr>\n      <th>15</th>\n      <td>COMPAS_Without_Sensitive_Attributes</td>\n      <td>RandomForestClassifier</td>\n      <td>sex_priv</td>\n      <td>-1.072</td>\n      <td>-3.331</td>\n      <td>-0.177</td>\n      <td>0.329</td>\n      <td>0.791</td>\n      <td>63.511</td>\n      <td>-2.926</td>\n      <td>-83.911</td>\n      <td>34.111</td>\n      <td>1.338</td>\n      <td>-12.704</td>\n      <td>-9.683</td>\n      <td>51.009</td>\n      <td>22.970</td>\n      <td>-79.378</td>\n      <td>38.179</td>\n      <td>43.656</td>\n    </tr>\n    <tr>\n      <th>16</th>\n      <td>COMPAS_Without_Sensitive_Attributes</td>\n      <td>RandomForestClassifier</td>\n      <td>sex_dis</td>\n      <td>-1.616</td>\n      <td>-4.881</td>\n      <td>-2.738</td>\n      <td>1.959</td>\n      <td>1.840</td>\n      <td>60.445</td>\n      <td>-2.419</td>\n      <td>-83.801</td>\n      <td>39.619</td>\n      <td>-20.464</td>\n      <td>1.748</td>\n      <td>-19.153</td>\n      <td>42.329</td>\n      <td>39.662</td>\n      <td>-70.519</td>\n      <td>11.000</td>\n      <td>59.510</td>\n    </tr>\n    <tr>\n      <th>17</th>\n      <td>COMPAS_Without_Sensitive_Attributes</td>\n      <td>RandomForestClassifier</td>\n      <td>race_priv</td>\n      <td>-1.748</td>\n      <td>-4.632</td>\n      <td>-3.099</td>\n      <td>2.577</td>\n      <td>1.513</td>\n      <td>60.120</td>\n      <td>-2.088</td>\n      <td>-85.316</td>\n      <td>33.738</td>\n      <td>-4.191</td>\n      <td>-7.623</td>\n      <td>-5.224</td>\n      <td>42.221</td>\n      <td>24.166</td>\n      <td>-78.886</td>\n      <td>36.875</td>\n      <td>41.545</td>\n    </tr>\n    <tr>\n      <th>18</th>\n      <td>COMPAS_Without_Sensitive_Attributes</td>\n      <td>RandomForestClassifier</td>\n      <td>race_dis</td>\n      <td>-1.377</td>\n      <td>-3.327</td>\n      <td>-2.283</td>\n      <td>1.492</td>\n      <td>1.504</td>\n      <td>61.580</td>\n      <td>-2.802</td>\n      <td>-82.816</td>\n      <td>41.834</td>\n      <td>-24.066</td>\n      <td>2.395</td>\n      <td>-23.623</td>\n      <td>43.077</td>\n      <td>44.632</td>\n      <td>-67.126</td>\n      <td>2.897</td>\n      <td>65.068</td>\n    </tr>\n    <tr>\n      <th>19</th>\n      <td>COMPAS_Without_Sensitive_Attributes</td>\n      <td>RandomForestClassifier</td>\n      <td>sex&amp;race_priv</td>\n      <td>0.592</td>\n      <td>-5.267</td>\n      <td>3.037</td>\n      <td>-0.578</td>\n      <td>-2.983</td>\n      <td>64.636</td>\n      <td>-2.488</td>\n      <td>-85.381</td>\n      <td>32.341</td>\n      <td>8.642</td>\n      <td>-7.734</td>\n      <td>-1.396</td>\n      <td>39.654</td>\n      <td>17.262</td>\n      <td>-81.138</td>\n      <td>51.309</td>\n      <td>36.951</td>\n    </tr>\n    <tr>\n      <th>20</th>\n      <td>COMPAS_Without_Sensitive_Attributes</td>\n      <td>RandomForestClassifier</td>\n      <td>sex&amp;race_dis</td>\n      <td>-1.156</td>\n      <td>-3.388</td>\n      <td>-2.108</td>\n      <td>1.518</td>\n      <td>0.748</td>\n      <td>61.411</td>\n      <td>-2.689</td>\n      <td>-82.883</td>\n      <td>43.032</td>\n      <td>-26.794</td>\n      <td>4.639</td>\n      <td>-24.513</td>\n      <td>39.403</td>\n      <td>47.874</td>\n      <td>-63.994</td>\n      <td>-1.389</td>\n      <td>66.998</td>\n    </tr>\n    <tr>\n      <th>21</th>\n      <td>COMPAS_Without_Sensitive_Attributes</td>\n      <td>XGBClassifier</td>\n      <td>overall</td>\n      <td>-0.410</td>\n      <td>-5.333</td>\n      <td>-0.330</td>\n      <td>0.415</td>\n      <td>0.363</td>\n      <td>61.850</td>\n      <td>-4.040</td>\n      <td>-77.318</td>\n      <td>35.954</td>\n      <td>-15.092</td>\n      <td>0.106</td>\n      <td>-25.562</td>\n      <td>48.543</td>\n      <td>39.265</td>\n      <td>-68.626</td>\n      <td>9.897</td>\n      <td>62.587</td>\n    </tr>\n    <tr>\n      <th>22</th>\n      <td>COMPAS_Without_Sensitive_Attributes</td>\n      <td>XGBClassifier</td>\n      <td>sex_priv</td>\n      <td>0.194</td>\n      <td>-6.318</td>\n      <td>1.417</td>\n      <td>-0.451</td>\n      <td>-0.833</td>\n      <td>64.394</td>\n      <td>-6.017</td>\n      <td>-72.123</td>\n      <td>29.185</td>\n      <td>2.425</td>\n      <td>-13.012</td>\n      <td>-24.519</td>\n      <td>60.117</td>\n      <td>26.521</td>\n      <td>-74.544</td>\n      <td>27.097</td>\n      <td>53.379</td>\n    </tr>\n    <tr>\n      <th>23</th>\n      <td>COMPAS_Without_Sensitive_Attributes</td>\n      <td>XGBClassifier</td>\n      <td>sex_dis</td>\n      <td>-0.565</td>\n      <td>-2.967</td>\n      <td>-0.549</td>\n      <td>0.449</td>\n      <td>0.700</td>\n      <td>61.228</td>\n      <td>-3.559</td>\n      <td>-78.574</td>\n      <td>37.594</td>\n      <td>-18.319</td>\n      <td>2.542</td>\n      <td>-25.975</td>\n      <td>45.706</td>\n      <td>42.352</td>\n      <td>-66.663</td>\n      <td>6.021</td>\n      <td>64.126</td>\n    </tr>\n    <tr>\n      <th>24</th>\n      <td>COMPAS_Without_Sensitive_Attributes</td>\n      <td>XGBClassifier</td>\n      <td>race_priv</td>\n      <td>0.926</td>\n      <td>-0.198</td>\n      <td>1.549</td>\n      <td>-1.054</td>\n      <td>-1.061</td>\n      <td>60.654</td>\n      <td>-4.012</td>\n      <td>-77.687</td>\n      <td>30.377</td>\n      <td>2.278</td>\n      <td>-6.555</td>\n      <td>-13.967</td>\n      <td>47.909</td>\n      <td>26.439</td>\n      <td>-73.824</td>\n      <td>33.485</td>\n      <td>46.874</td>\n    </tr>\n    <tr>\n      <th>25</th>\n      <td>COMPAS_Without_Sensitive_Attributes</td>\n      <td>XGBClassifier</td>\n      <td>race_dis</td>\n      <td>-1.270</td>\n      <td>-0.641</td>\n      <td>-1.083</td>\n      <td>0.940</td>\n      <td>1.629</td>\n      <td>62.616</td>\n      <td>-4.047</td>\n      <td>-77.100</td>\n      <td>39.628</td>\n      <td>-23.635</td>\n      <td>2.331</td>\n      <td>-30.933</td>\n      <td>46.837</td>\n      <td>47.805</td>\n      <td>-64.194</td>\n      <td>-3.902</td>\n      <td>70.306</td>\n    </tr>\n    <tr>\n      <th>26</th>\n      <td>COMPAS_Without_Sensitive_Attributes</td>\n      <td>XGBClassifier</td>\n      <td>sex&amp;race_priv</td>\n      <td>0.250</td>\n      <td>-2.982</td>\n      <td>1.169</td>\n      <td>-0.320</td>\n      <td>-0.698</td>\n      <td>62.679</td>\n      <td>-6.820</td>\n      <td>-70.007</td>\n      <td>25.483</td>\n      <td>3.731</td>\n      <td>-10.279</td>\n      <td>-9.471</td>\n      <td>49.812</td>\n      <td>22.519</td>\n      <td>-77.029</td>\n      <td>37.168</td>\n      <td>45.641</td>\n    </tr>\n    <tr>\n      <th>27</th>\n      <td>COMPAS_Without_Sensitive_Attributes</td>\n      <td>XGBClassifier</td>\n      <td>sex&amp;race_dis</td>\n      <td>-1.583</td>\n      <td>-0.829</td>\n      <td>-1.462</td>\n      <td>1.117</td>\n      <td>2.122</td>\n      <td>61.927</td>\n      <td>-3.742</td>\n      <td>-77.810</td>\n      <td>41.297</td>\n      <td>-27.497</td>\n      <td>4.917</td>\n      <td>-30.487</td>\n      <td>42.169</td>\n      <td>51.618</td>\n      <td>-61.110</td>\n      <td>-8.849</td>\n      <td>71.549</td>\n    </tr>\n    <tr>\n      <th>28</th>\n      <td>Folktables_GA_2018</td>\n      <td>DecisionTreeClassifier</td>\n      <td>overall</td>\n      <td>-0.229</td>\n      <td>-2.225</td>\n      <td>-0.535</td>\n      <td>-0.061</td>\n      <td>0.363</td>\n      <td>NaN</td>\n      <td>-1.040</td>\n      <td>0.599</td>\n      <td>-0.332</td>\n      <td>-0.029</td>\n      <td>-1.002</td>\n      <td>-0.136</td>\n      <td>1.519</td>\n      <td>-0.388</td>\n      <td>-0.159</td>\n      <td>-0.363</td>\n      <td>0.061</td>\n    </tr>\n    <tr>\n      <th>29</th>\n      <td>Folktables_GA_2018</td>\n      <td>DecisionTreeClassifier</td>\n      <td>SEX_priv</td>\n      <td>-0.148</td>\n      <td>-1.559</td>\n      <td>-0.376</td>\n      <td>0.833</td>\n      <td>-0.544</td>\n      <td>NaN</td>\n      <td>-0.898</td>\n      <td>0.817</td>\n      <td>-0.563</td>\n      <td>-0.125</td>\n      <td>0.087</td>\n      <td>-0.225</td>\n      <td>-1.058</td>\n      <td>-1.008</td>\n      <td>0.021</td>\n      <td>0.544</td>\n      <td>-0.833</td>\n    </tr>\n    <tr>\n      <th>30</th>\n      <td>Folktables_GA_2018</td>\n      <td>DecisionTreeClassifier</td>\n      <td>SEX_dis</td>\n      <td>-0.220</td>\n      <td>-2.853</td>\n      <td>-0.561</td>\n      <td>-1.047</td>\n      <td>0.940</td>\n      <td>NaN</td>\n      <td>-1.177</td>\n      <td>0.361</td>\n      <td>-0.074</td>\n      <td>0.006</td>\n      <td>-1.701</td>\n      <td>0.028</td>\n      <td>4.295</td>\n      <td>0.182</td>\n      <td>-0.328</td>\n      <td>-0.940</td>\n      <td>1.047</td>\n    </tr>\n    <tr>\n      <th>31</th>\n      <td>Folktables_GA_2018</td>\n      <td>DecisionTreeClassifier</td>\n      <td>RAC1P_priv</td>\n      <td>0.269</td>\n      <td>-1.938</td>\n      <td>0.167</td>\n      <td>-0.696</td>\n      <td>0.024</td>\n      <td>NaN</td>\n      <td>-0.913</td>\n      <td>0.908</td>\n      <td>-0.858</td>\n      <td>-0.156</td>\n      <td>-0.279</td>\n      <td>0.174</td>\n      <td>1.299</td>\n      <td>-0.003</td>\n      <td>-0.026</td>\n      <td>-0.024</td>\n      <td>0.696</td>\n    </tr>\n    <tr>\n      <th>32</th>\n      <td>Folktables_GA_2018</td>\n      <td>DecisionTreeClassifier</td>\n      <td>RAC1P_dis</td>\n      <td>-1.212</td>\n      <td>-2.783</td>\n      <td>-1.973</td>\n      <td>1.220</td>\n      <td>1.016</td>\n      <td>NaN</td>\n      <td>-1.290</td>\n      <td>-0.001</td>\n      <td>0.689</td>\n      <td>0.203</td>\n      <td>-2.459</td>\n      <td>-0.747</td>\n      <td>2.147</td>\n      <td>-1.123</td>\n      <td>-0.418</td>\n      <td>-1.016</td>\n      <td>-1.220</td>\n    </tr>\n    <tr>\n      <th>33</th>\n      <td>Folktables_GA_2018</td>\n      <td>DecisionTreeClassifier</td>\n      <td>SEX&amp;RAC1P_priv</td>\n      <td>0.124</td>\n      <td>-1.435</td>\n      <td>0.013</td>\n      <td>-0.095</td>\n      <td>-0.195</td>\n      <td>NaN</td>\n      <td>-0.728</td>\n      <td>0.813</td>\n      <td>-0.579</td>\n      <td>-0.002</td>\n      <td>-0.067</td>\n      <td>-0.065</td>\n      <td>0.228</td>\n      <td>-0.384</td>\n      <td>0.180</td>\n      <td>0.195</td>\n      <td>0.095</td>\n    </tr>\n    <tr>\n      <th>34</th>\n      <td>Folktables_GA_2018</td>\n      <td>DecisionTreeClassifier</td>\n      <td>SEX&amp;RAC1P_dis</td>\n      <td>-1.382</td>\n      <td>-3.708</td>\n      <td>-2.193</td>\n      <td>-0.453</td>\n      <td>2.373</td>\n      <td>NaN</td>\n      <td>-1.322</td>\n      <td>-0.930</td>\n      <td>2.025</td>\n      <td>0.480</td>\n      <td>-4.003</td>\n      <td>-0.632</td>\n      <td>7.150</td>\n      <td>-0.133</td>\n      <td>-0.521</td>\n      <td>-2.373</td>\n      <td>0.453</td>\n    </tr>\n    <tr>\n      <th>35</th>\n      <td>Folktables_GA_2018</td>\n      <td>LogisticRegression</td>\n      <td>overall</td>\n      <td>0.071</td>\n      <td>-0.873</td>\n      <td>0.453</td>\n      <td>-0.616</td>\n      <td>0.408</td>\n      <td>NaN</td>\n      <td>-0.400</td>\n      <td>0.054</td>\n      <td>0.201</td>\n      <td>-0.564</td>\n      <td>0.331</td>\n      <td>0.223</td>\n      <td>0.374</td>\n      <td>0.962</td>\n      <td>-0.089</td>\n      <td>-0.408</td>\n      <td>0.616</td>\n    </tr>\n    <tr>\n      <th>36</th>\n      <td>Folktables_GA_2018</td>\n      <td>LogisticRegression</td>\n      <td>SEX_priv</td>\n      <td>-0.096</td>\n      <td>0.707</td>\n      <td>0.393</td>\n      <td>-0.031</td>\n      <td>0.518</td>\n      <td>NaN</td>\n      <td>-0.420</td>\n      <td>-0.116</td>\n      <td>0.481</td>\n      <td>-0.930</td>\n      <td>0.681</td>\n      <td>0.049</td>\n      <td>-0.895</td>\n      <td>1.465</td>\n      <td>-0.114</td>\n      <td>-0.518</td>\n      <td>0.031</td>\n    </tr>\n    <tr>\n      <th>37</th>\n      <td>Folktables_GA_2018</td>\n      <td>LogisticRegression</td>\n      <td>SEX_dis</td>\n      <td>0.305</td>\n      <td>-1.734</td>\n      <td>0.523</td>\n      <td>-1.189</td>\n      <td>0.295</td>\n      <td>NaN</td>\n      <td>-0.380</td>\n      <td>0.215</td>\n      <td>-0.067</td>\n      <td>-0.288</td>\n      <td>-0.029</td>\n      <td>0.466</td>\n      <td>1.743</td>\n      <td>0.590</td>\n      <td>-0.064</td>\n      <td>-0.295</td>\n      <td>1.189</td>\n    </tr>\n    <tr>\n      <th>38</th>\n      <td>Folktables_GA_2018</td>\n      <td>LogisticRegression</td>\n      <td>RAC1P_priv</td>\n      <td>-0.203</td>\n      <td>0.822</td>\n      <td>0.263</td>\n      <td>-0.530</td>\n      <td>0.892</td>\n      <td>NaN</td>\n      <td>-0.373</td>\n      <td>0.216</td>\n      <td>-0.041</td>\n      <td>-0.885</td>\n      <td>0.052</td>\n      <td>0.022</td>\n      <td>0.666</td>\n      <td>1.283</td>\n      <td>-0.081</td>\n      <td>-0.892</td>\n      <td>0.530</td>\n    </tr>\n    <tr>\n      <th>39</th>\n      <td>Folktables_GA_2018</td>\n      <td>LogisticRegression</td>\n      <td>RAC1P_dis</td>\n      <td>0.583</td>\n      <td>-0.312</td>\n      <td>0.858</td>\n      <td>-0.797</td>\n      <td>-0.396</td>\n      <td>NaN</td>\n      <td>-0.460</td>\n      <td>-0.263</td>\n      <td>0.673</td>\n      <td>-0.028</td>\n      <td>0.930</td>\n      <td>0.596</td>\n      <td>-0.259</td>\n      <td>0.424</td>\n      <td>-0.111</td>\n      <td>0.396</td>\n      <td>0.797</td>\n    </tr>\n    <tr>\n      <th>40</th>\n      <td>Folktables_GA_2018</td>\n      <td>LogisticRegression</td>\n      <td>SEX&amp;RAC1P_priv</td>\n      <td>-0.558</td>\n      <td>0.000</td>\n      <td>-0.029</td>\n      <td>0.398</td>\n      <td>1.150</td>\n      <td>NaN</td>\n      <td>-0.419</td>\n      <td>0.079</td>\n      <td>0.194</td>\n      <td>-1.347</td>\n      <td>0.272</td>\n      <td>-0.341</td>\n      <td>-0.836</td>\n      <td>1.668</td>\n      <td>-0.120</td>\n      <td>-1.150</td>\n      <td>-0.398</td>\n    </tr>\n    <tr>\n      <th>41</th>\n      <td>Folktables_GA_2018</td>\n      <td>LogisticRegression</td>\n      <td>SEX&amp;RAC1P_dis</td>\n      <td>0.393</td>\n      <td>-1.790</td>\n      <td>0.270</td>\n      <td>-0.434</td>\n      <td>-0.362</td>\n      <td>NaN</td>\n      <td>-0.492</td>\n      <td>-0.048</td>\n      <td>0.333</td>\n      <td>0.101</td>\n      <td>0.167</td>\n      <td>0.408</td>\n      <td>0.528</td>\n      <td>-0.234</td>\n      <td>-0.114</td>\n      <td>0.362</td>\n      <td>0.434</td>\n    </tr>\n    <tr>\n      <th>42</th>\n      <td>Folktables_GA_2018</td>\n      <td>RandomForestClassifier</td>\n      <td>overall</td>\n      <td>2.475</td>\n      <td>0.000</td>\n      <td>2.405</td>\n      <td>-1.481</td>\n      <td>-3.244</td>\n      <td>NaN</td>\n      <td>1.612</td>\n      <td>2.207</td>\n      <td>-2.541</td>\n      <td>-0.679</td>\n      <td>3.074</td>\n      <td>2.130</td>\n      <td>-2.700</td>\n      <td>-0.975</td>\n      <td>1.573</td>\n      <td>3.244</td>\n      <td>1.481</td>\n    </tr>\n    <tr>\n      <th>43</th>\n      <td>Folktables_GA_2018</td>\n      <td>RandomForestClassifier</td>\n      <td>SEX_priv</td>\n      <td>2.768</td>\n      <td>0.000</td>\n      <td>2.884</td>\n      <td>-3.292</td>\n      <td>-2.231</td>\n      <td>NaN</td>\n      <td>1.384</td>\n      <td>1.739</td>\n      <td>-2.005</td>\n      <td>-4.453</td>\n      <td>2.483</td>\n      <td>2.401</td>\n      <td>0.757</td>\n      <td>0.594</td>\n      <td>1.361</td>\n      <td>2.231</td>\n      <td>3.292</td>\n    </tr>\n    <tr>\n      <th>44</th>\n      <td>Folktables_GA_2018</td>\n      <td>RandomForestClassifier</td>\n      <td>SEX_dis</td>\n      <td>2.260</td>\n      <td>0.233</td>\n      <td>1.884</td>\n      <td>0.524</td>\n      <td>-4.166</td>\n      <td>NaN</td>\n      <td>1.828</td>\n      <td>2.648</td>\n      <td>-3.046</td>\n      <td>2.903</td>\n      <td>3.410</td>\n      <td>1.936</td>\n      <td>-6.798</td>\n      <td>-2.474</td>\n      <td>1.775</td>\n      <td>4.166</td>\n      <td>-0.524</td>\n    </tr>\n    <tr>\n      <th>45</th>\n      <td>Folktables_GA_2018</td>\n      <td>RandomForestClassifier</td>\n      <td>RAC1P_priv</td>\n      <td>2.103</td>\n      <td>0.000</td>\n      <td>2.279</td>\n      <td>-1.695</td>\n      <td>-2.306</td>\n      <td>NaN</td>\n      <td>1.739</td>\n      <td>2.248</td>\n      <td>-2.656</td>\n      <td>-1.785</td>\n      <td>2.708</td>\n      <td>1.712</td>\n      <td>-1.767</td>\n      <td>0.070</td>\n      <td>1.663</td>\n      <td>2.306</td>\n      <td>1.695</td>\n    </tr>\n    <tr>\n      <th>46</th>\n      <td>Folktables_GA_2018</td>\n      <td>RandomForestClassifier</td>\n      <td>RAC1P_dis</td>\n      <td>3.202</td>\n      <td>0.021</td>\n      <td>2.672</td>\n      <td>-1.098</td>\n      <td>-4.892</td>\n      <td>NaN</td>\n      <td>1.363</td>\n      <td>2.130</td>\n      <td>-2.322</td>\n      <td>1.489</td>\n      <td>3.722</td>\n      <td>2.947</td>\n      <td>-4.532</td>\n      <td>-3.019</td>\n      <td>1.398</td>\n      <td>4.892</td>\n      <td>1.098</td>\n    </tr>\n    <tr>\n      <th>47</th>\n      <td>Folktables_GA_2018</td>\n      <td>RandomForestClassifier</td>\n      <td>SEX&amp;RAC1P_priv</td>\n      <td>2.492</td>\n      <td>0.846</td>\n      <td>2.603</td>\n      <td>-3.427</td>\n      <td>-1.443</td>\n      <td>NaN</td>\n      <td>1.587</td>\n      <td>1.992</td>\n      <td>-2.411</td>\n      <td>-5.786</td>\n      <td>1.806</td>\n      <td>2.112</td>\n      <td>1.856</td>\n      <td>1.390</td>\n      <td>1.506</td>\n      <td>1.443</td>\n      <td>3.427</td>\n    </tr>\n    <tr>\n      <th>48</th>\n      <td>Folktables_GA_2018</td>\n      <td>RandomForestClassifier</td>\n      <td>SEX&amp;RAC1P_dis</td>\n      <td>3.306</td>\n      <td>3.338</td>\n      <td>2.060</td>\n      <td>0.722</td>\n      <td>-6.559</td>\n      <td>NaN</td>\n      <td>1.720</td>\n      <td>2.947</td>\n      <td>-3.348</td>\n      <td>4.440</td>\n      <td>3.851</td>\n      <td>3.130</td>\n      <td>-7.723</td>\n      <td>-4.913</td>\n      <td>1.700</td>\n      <td>6.559</td>\n      <td>-0.722</td>\n    </tr>\n    <tr>\n      <th>49</th>\n      <td>Folktables_GA_2018</td>\n      <td>XGBClassifier</td>\n      <td>overall</td>\n      <td>1.092</td>\n      <td>0.000</td>\n      <td>1.439</td>\n      <td>-0.659</td>\n      <td>-1.262</td>\n      <td>NaN</td>\n      <td>0.550</td>\n      <td>1.082</td>\n      <td>-1.259</td>\n      <td>-0.171</td>\n      <td>2.046</td>\n      <td>1.161</td>\n      <td>-2.149</td>\n      <td>0.354</td>\n      <td>0.675</td>\n      <td>1.262</td>\n      <td>0.659</td>\n    </tr>\n    <tr>\n      <th>50</th>\n      <td>Folktables_GA_2018</td>\n      <td>XGBClassifier</td>\n      <td>SEX_priv</td>\n      <td>0.448</td>\n      <td>0.000</td>\n      <td>1.106</td>\n      <td>-2.310</td>\n      <td>1.452</td>\n      <td>NaN</td>\n      <td>0.493</td>\n      <td>0.777</td>\n      <td>-0.791</td>\n      <td>-2.719</td>\n      <td>0.070</td>\n      <td>0.461</td>\n      <td>2.709</td>\n      <td>3.051</td>\n      <td>0.618</td>\n      <td>-1.452</td>\n      <td>2.310</td>\n    </tr>\n    <tr>\n      <th>51</th>\n      <td>Folktables_GA_2018</td>\n      <td>XGBClassifier</td>\n      <td>SEX_dis</td>\n      <td>1.767</td>\n      <td>0.738</td>\n      <td>1.631</td>\n      <td>1.124</td>\n      <td>-3.666</td>\n      <td>NaN</td>\n      <td>0.603</td>\n      <td>1.363</td>\n      <td>-1.690</td>\n      <td>2.175</td>\n      <td>3.541</td>\n      <td>1.889</td>\n      <td>-7.549</td>\n      <td>-2.140</td>\n      <td>0.728</td>\n      <td>3.666</td>\n      <td>-1.124</td>\n    </tr>\n    <tr>\n      <th>52</th>\n      <td>Folktables_GA_2018</td>\n      <td>XGBClassifier</td>\n      <td>RAC1P_priv</td>\n      <td>0.726</td>\n      <td>0.000</td>\n      <td>1.322</td>\n      <td>-1.467</td>\n      <td>0.129</td>\n      <td>NaN</td>\n      <td>0.463</td>\n      <td>0.976</td>\n      <td>-1.057</td>\n      <td>-1.237</td>\n      <td>1.206</td>\n      <td>0.842</td>\n      <td>0.169</td>\n      <td>1.671</td>\n      <td>0.598</td>\n      <td>-0.129</td>\n      <td>1.467</td>\n    </tr>\n    <tr>\n      <th>53</th>\n      <td>Folktables_GA_2018</td>\n      <td>XGBClassifier</td>\n      <td>RAC1P_dis</td>\n      <td>1.809</td>\n      <td>0.671</td>\n      <td>1.668</td>\n      <td>1.016</td>\n      <td>-3.739</td>\n      <td>NaN</td>\n      <td>0.721</td>\n      <td>1.284</td>\n      <td>-1.646</td>\n      <td>1.919</td>\n      <td>3.579</td>\n      <td>1.787</td>\n      <td>-7.025</td>\n      <td>-2.216</td>\n      <td>0.825</td>\n      <td>3.739</td>\n      <td>-1.016</td>\n    </tr>\n    <tr>\n      <th>54</th>\n      <td>Folktables_GA_2018</td>\n      <td>XGBClassifier</td>\n      <td>SEX&amp;RAC1P_priv</td>\n      <td>-0.046</td>\n      <td>0.000</td>\n      <td>0.718</td>\n      <td>-3.022</td>\n      <td>3.451</td>\n      <td>NaN</td>\n      <td>0.410</td>\n      <td>0.639</td>\n      <td>-0.534</td>\n      <td>-4.220</td>\n      <td>-1.390</td>\n      <td>-0.002</td>\n      <td>5.274</td>\n      <td>4.497</td>\n      <td>0.541</td>\n      <td>-3.451</td>\n      <td>3.022</td>\n    </tr>\n    <tr>\n      <th>55</th>\n      <td>Folktables_GA_2018</td>\n      <td>XGBClassifier</td>\n      <td>SEX&amp;RAC1P_dis</td>\n      <td>2.237</td>\n      <td>-1.376</td>\n      <td>1.472</td>\n      <td>2.401</td>\n      <td>-5.549</td>\n      <td>NaN</td>\n      <td>0.771</td>\n      <td>1.486</td>\n      <td>-1.940</td>\n      <td>3.223</td>\n      <td>4.086</td>\n      <td>2.236</td>\n      <td>-10.228</td>\n      <td>-4.222</td>\n      <td>0.868</td>\n      <td>5.549</td>\n      <td>-2.401</td>\n    </tr>\n  </tbody>\n</table>\n</div>"
     },
     "execution_count": 222,
     "metadata": {},
     "output_type": "execute_result"
    }
   ],
   "source": [
    "report_df"
   ],
   "metadata": {
    "collapsed": false
   }
  },
  {
   "cell_type": "code",
   "execution_count": 222,
   "outputs": [],
   "source": [],
   "metadata": {
    "collapsed": false
   }
  }
 ],
 "metadata": {
  "kernelspec": {
   "display_name": "Python 3 (ipykernel)",
   "language": "python",
   "name": "python3"
  },
  "language_info": {
   "codemirror_mode": {
    "name": "ipython",
    "version": 3
   },
   "file_extension": ".py",
   "mimetype": "text/x-python",
   "name": "python",
   "nbconvert_exporter": "python",
   "pygments_lexer": "ipython3",
   "version": "3.8.10"
  }
 },
 "nbformat": 4,
 "nbformat_minor": 5
}
