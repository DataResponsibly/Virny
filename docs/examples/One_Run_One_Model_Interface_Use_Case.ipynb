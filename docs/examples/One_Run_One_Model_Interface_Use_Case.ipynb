{
 "cells": [
  {
   "cell_type": "code",
   "execution_count": 2,
   "id": "248cbed8",
   "metadata": {},
   "outputs": [],
   "source": [
    "%matplotlib inline\n",
    "%load_ext autoreload\n",
    "%autoreload 2"
   ]
  },
  {
   "cell_type": "code",
   "execution_count": 3,
   "id": "7ec6cd08",
   "metadata": {},
   "outputs": [],
   "source": [
    "import os\n",
    "import warnings\n",
    "warnings.filterwarnings('ignore')\n",
    "os.environ[\"PYTHONWARNINGS\"] = \"ignore\""
   ]
  },
  {
   "cell_type": "code",
   "execution_count": 4,
   "id": "b8cb69f2",
   "metadata": {},
   "outputs": [
    {
     "name": "stdout",
     "output_type": "stream",
     "text": [
      "Current location:  /home/denys_herasymuk/UCU/4course_2term/Bachelor_Thesis/Code/Virny\n"
     ]
    }
   ],
   "source": [
    "cur_folder_name = os.getcwd().split('/')[-1]\n",
    "if cur_folder_name != \"Virny\":\n",
    "    os.chdir(\"../..\")\n",
    "\n",
    "print('Current location: ', os.getcwd())"
   ]
  },
  {
   "cell_type": "markdown",
   "id": "a578f2ab",
   "metadata": {},
   "source": [
    "# One Run One Model Interface Usage"
   ]
  },
  {
   "cell_type": "markdown",
   "id": "2251a923",
   "metadata": {},
   "source": [
    "In this example, we are going to audit 4 models for stability and fairness, visualize metrics, and create an analysis report. To get better analysis accuracy, we will use `compute_model_metrics_with_config` interface that will make multiple runs per model. For that, we will need to do next steps:\n",
    "\n",
    "* Initialize input variables\n",
    "\n",
    "* Compute subgroup metrics\n",
    "\n",
    "* Make group metrics composition\n",
    "\n",
    "* Create metrics visualizations and an analysis report"
   ]
  },
  {
   "cell_type": "markdown",
   "id": "606df34d",
   "metadata": {},
   "source": [
    "## Import dependencies"
   ]
  },
  {
   "cell_type": "code",
   "execution_count": 5,
   "id": "7a9241de",
   "metadata": {},
   "outputs": [],
   "source": [
    "import os\n",
    "import pandas as pd\n",
    "from datetime import datetime, timezone\n",
    "\n",
    "from xgboost import XGBClassifier\n",
    "from sklearn.linear_model import LogisticRegression\n",
    "from sklearn.tree import DecisionTreeClassifier\n",
    "from sklearn.ensemble import RandomForestClassifier\n",
    "\n",
    "from virny.user_interfaces.metrics_computation_interfaces import compute_model_metrics_with_config\n",
    "from virny.utils.custom_initializers import create_config_obj, read_model_metric_dfs\n",
    "from virny.custom_classes.metrics_visualizer import MetricsVisualizer\n",
    "from virny.custom_classes.metrics_composer import MetricsComposer\n",
    "from virny.custom_classes.base_dataset import BaseDataset\n",
    "from virny.configs.constants import ReportType"
   ]
  },
  {
   "cell_type": "markdown",
   "id": "75699f5f",
   "metadata": {},
   "source": [
    "## Initialize Input Variables"
   ]
  },
  {
   "cell_type": "markdown",
   "id": "e86f6556",
   "metadata": {},
   "source": [
    "Based on the library flow, we need to create 3 input objects for a user interface:\n",
    "\n",
    "* A **dataset class** that is a wrapper above the user’s raw dataset that includes its descriptive attributes like a target column, numerical columns, categorical columns, etc. This class must be inherited from the BaseDataset class, which was created for user convenience.\n",
    "\n",
    "* A **config yaml** that is a file with configuration parameters for different user interfaces for metrics computation.\n",
    "\n",
    "* Finally, a **models config** that is a Python dictionary, where keys are model names and values are initialized models for analysis. This dictionary helps conduct audits of multiple models for one or multiple runs and analyze different types of models."
   ]
  },
  {
   "cell_type": "markdown",
   "id": "74f57422",
   "metadata": {},
   "source": [
    "### Create a Dataset class"
   ]
  },
  {
   "cell_type": "markdown",
   "id": "eed149cd",
   "metadata": {},
   "source": [
    "Based on the BaseDataset class, your **dataset class** should include the following attributes:\n",
    "* **Obligatory attributes**: dataset, target, features, numerical_columns, categorical_columns\n",
    "\n",
    "* **Optional attributes**: X_data, y_data, columns_with_nulls\n",
    "\n",
    "For more details, please refer to the library documentation."
   ]
  },
  {
   "cell_type": "code",
   "execution_count": 6,
   "id": "9e3d7bf3",
   "metadata": {},
   "outputs": [],
   "source": [
    "class CompasDataset(BaseDataset):\n",
    "    \"\"\"\n",
    "    Dataset class for COMPAS dataset that contains sensitive attributes among feature columns.\n",
    "\n",
    "    Parameters\n",
    "    ----------\n",
    "    dataset_path\n",
    "        Path to a dataset file\n",
    "\n",
    "    \"\"\"\n",
    "    def __init__(self, dataset_path: str):\n",
    "        df = pd.read_csv(dataset_path)\n",
    "\n",
    "        int_columns = ['recidivism', 'age', 'age_cat_25 - 45', 'age_cat_Greater than 45',\n",
    "                       'age_cat_Less than 25', 'c_charge_degree_F', 'c_charge_degree_M', 'sex']\n",
    "        int_columns_dct = {col: \"int\" for col in int_columns}\n",
    "        df = df.astype(int_columns_dct)\n",
    "\n",
    "        target = 'recidivism'\n",
    "        numerical_columns = ['age', 'juv_fel_count', 'juv_misd_count', 'juv_other_count', 'priors_count']\n",
    "        categorical_columns = ['race', 'age_cat_25 - 45', 'age_cat_Greater than 45',\n",
    "                               'age_cat_Less than 25', 'c_charge_degree_F', 'c_charge_degree_M', 'sex']\n",
    "        features = numerical_columns + categorical_columns\n",
    "\n",
    "        super().__init__(\n",
    "            pandas_df=df,\n",
    "            features=features,\n",
    "            target=target,\n",
    "            numerical_columns=numerical_columns,\n",
    "            categorical_columns=categorical_columns,\n",
    "        )"
   ]
  },
  {
   "cell_type": "code",
   "execution_count": 9,
   "id": "6c55c6a0",
   "metadata": {},
   "outputs": [
    {
     "data": {
      "text/plain": "   age  juv_fel_count  juv_misd_count  juv_other_count  priors_count  \\\n0   25            0.0       -2.340451              1.0    -15.010999   \n1   26            0.0        0.000000              0.0      0.000000   \n2   21            0.0        0.000000              0.0      0.000000   \n3   29            0.0        0.000000              0.0      6.000000   \n4   40            0.0        0.000000              0.0      7.513697   \n\n               race  \n0  African-American  \n1         Caucasian  \n2         Caucasian  \n3  African-American  \n4         Caucasian  ",
      "text/html": "<div>\n<style scoped>\n    .dataframe tbody tr th:only-of-type {\n        vertical-align: middle;\n    }\n\n    .dataframe tbody tr th {\n        vertical-align: top;\n    }\n\n    .dataframe thead th {\n        text-align: right;\n    }\n</style>\n<table border=\"1\" class=\"dataframe\">\n  <thead>\n    <tr style=\"text-align: right;\">\n      <th></th>\n      <th>age</th>\n      <th>juv_fel_count</th>\n      <th>juv_misd_count</th>\n      <th>juv_other_count</th>\n      <th>priors_count</th>\n      <th>race</th>\n    </tr>\n  </thead>\n  <tbody>\n    <tr>\n      <th>0</th>\n      <td>25</td>\n      <td>0.0</td>\n      <td>-2.340451</td>\n      <td>1.0</td>\n      <td>-15.010999</td>\n      <td>African-American</td>\n    </tr>\n    <tr>\n      <th>1</th>\n      <td>26</td>\n      <td>0.0</td>\n      <td>0.000000</td>\n      <td>0.0</td>\n      <td>0.000000</td>\n      <td>Caucasian</td>\n    </tr>\n    <tr>\n      <th>2</th>\n      <td>21</td>\n      <td>0.0</td>\n      <td>0.000000</td>\n      <td>0.0</td>\n      <td>0.000000</td>\n      <td>Caucasian</td>\n    </tr>\n    <tr>\n      <th>3</th>\n      <td>29</td>\n      <td>0.0</td>\n      <td>0.000000</td>\n      <td>0.0</td>\n      <td>6.000000</td>\n      <td>African-American</td>\n    </tr>\n    <tr>\n      <th>4</th>\n      <td>40</td>\n      <td>0.0</td>\n      <td>0.000000</td>\n      <td>0.0</td>\n      <td>7.513697</td>\n      <td>Caucasian</td>\n    </tr>\n  </tbody>\n</table>\n</div>"
     },
     "execution_count": 9,
     "metadata": {},
     "output_type": "execute_result"
    }
   ],
   "source": [
    "dataset = CompasDataset(dataset_path=os.path.join('virny', 'datasets', 'COMPAS.csv'))\n",
    "dataset.X_data[dataset.X_data.columns[:6]].head()"
   ]
  },
  {
   "cell_type": "markdown",
   "id": "95f15603",
   "metadata": {},
   "source": [
    "### Create a config object"
   ]
  },
  {
   "cell_type": "markdown",
   "id": "c4c2a2a9",
   "metadata": {},
   "source": [
    "`compute_model_metrics_with_config` interface requires that your **yaml file** includes the following parameters:\n",
    "\n",
    "* **dataset_name**: a name of your dataset; it will be used to name files with metrics.\n",
    "\n",
    "* **test_set_fraction**: the fraction from the whole dataset in the range [0.0 - 1.0] to create a test set.\n",
    "\n",
    "* **bootstrap_fraction**: the fraction from a train set in the range [0.0 - 1.0] to fit models in bootstrap (usually more than 0.5).\n",
    "\n",
    "* **n_estimators**: the number of estimators for bootstrap to compute subgroup variance metrics.\n",
    "\n",
    "* **runs_seed_lst**: a list of seeds for each run; the number of runs is derived based on the length of this list. For example, if your runs_seed_lst is [100, 200], this means that for the first run, the interface will use 100 seed, and the code logic will increment this seed for each model (101 for the first model in models_config, 102 for the second model, etc.).\n",
    "\n",
    "* **sensitive_attributes_dct**: a dictionary where keys are sensitive attribute names (including attribute intersections), and values are privileged values for these attributes. Currently, the library supports only intersections among two sensitive attributes. Intersectional attributes must include '&' between sensitive attributes. You do not need to specify privileged values for intersectional groups since they will be derived from privileged values in sensitive_attributes_dct for each separate sensitive attribute in this intersectional pair.\n"
   ]
  },
  {
   "cell_type": "code",
   "execution_count": 10,
   "id": "61860fd1",
   "metadata": {},
   "outputs": [],
   "source": [
    "ROOT_DIR = os.path.join('docs', 'examples')\n",
    "config_yaml_path = os.path.join(ROOT_DIR, 'experiment_compas_config.yaml')\n",
    "config_yaml_content = \"\"\"\n",
    "dataset_name: COMPAS\n",
    "test_set_fraction: 0.2\n",
    "bootstrap_fraction: 0.8\n",
    "n_estimators: 100\n",
    "sensitive_attributes_dct: {'sex': 0, 'race': 'Caucasian', 'sex&race': None}\n",
    "\"\"\"\n",
    "\n",
    "with open(config_yaml_path, 'w', encoding='utf-8') as f:\n",
    "    f.write(config_yaml_content)"
   ]
  },
  {
   "cell_type": "code",
   "execution_count": 11,
   "id": "71d8f24a",
   "metadata": {},
   "outputs": [],
   "source": [
    "config = create_config_obj(config_yaml_path=config_yaml_path)\n",
    "SAVE_RESULTS_DIR_PATH = os.path.join(ROOT_DIR, 'results',\n",
    "                                     f'{config.dataset_name}_Metrics_{datetime.now(timezone.utc).strftime(\"%Y%m%d__%H%M%S\")}')"
   ]
  },
  {
   "cell_type": "markdown",
   "id": "d42b81d1",
   "metadata": {},
   "source": [
    "### Create a models config"
   ]
  },
  {
   "cell_type": "markdown",
   "id": "3deeecfa",
   "metadata": {},
   "source": [
    "**models_config** is a Python dictionary, where keys are model names and values are initialized models for analysis"
   ]
  },
  {
   "cell_type": "code",
   "execution_count": 12,
   "id": "b995b73b",
   "metadata": {},
   "outputs": [],
   "source": [
    "models_config = {\n",
    "    'DecisionTreeClassifier': DecisionTreeClassifier(criterion='gini',\n",
    "                                                     max_depth=20,\n",
    "                                                     max_features=0.6,\n",
    "                                                     min_samples_split=0.1),\n",
    "    'LogisticRegression': LogisticRegression(C=1,\n",
    "                                             max_iter=50,\n",
    "                                             penalty='l2',\n",
    "                                             solver='newton-cg'),\n",
    "}"
   ]
  },
  {
   "cell_type": "markdown",
   "id": "f445b64a",
   "metadata": {},
   "source": [
    "## Subgroup Metrics Computation"
   ]
  },
  {
   "cell_type": "markdown",
   "id": "c3530f06",
   "metadata": {},
   "source": [
    "After the variables are input to a user interface, the interface creates a **generic pipeline** based on the input dataset class to hide preprocessing complexity and provide handy attributes and methods for different types of model analysis. Later this generic pipeline is used in subgroup analyzers that compute different sets of metrics. As for now, our library supports **Subgroup Variance Analyzer** and **Subgroup Statistical Bias Analyzer**, but it is easily extensible to any other analyzers. When the variance and bias analyzers complete metrics computation, their metrics are combined, returned in a matrix format, and stored in a file if defined."
   ]
  },
  {
   "cell_type": "code",
   "execution_count": 13,
   "id": "197eadaa",
   "metadata": {},
   "outputs": [
    {
     "name": "stdout",
     "output_type": "stream",
     "text": [
      "Model random_state:  562\n",
      "Baseline X_train shape:  (4222, 12)\n",
      "Baseline X_test shape:  (1056, 12)\n",
      "\n",
      "\n"
     ]
    },
    {
     "name": "stderr",
     "output_type": "stream",
     "text": [
      "2023-02-03 01:33:38 abstract_overall_variance_analyzer.py INFO    : Start classifiers testing by bootstrap\n"
     ]
    },
    {
     "data": {
      "text/plain": "Classifiers testing by bootstrap:   0%|          | 0/100 [00:00<?, ?it/s]",
      "application/vnd.jupyter.widget-view+json": {
       "version_major": 2,
       "version_minor": 0,
       "model_id": "89c17c36bfa94706a37d60811b5d031d"
      }
     },
     "metadata": {},
     "output_type": "display_data"
    },
    {
     "name": "stdout",
     "output_type": "stream",
     "text": [
      "\n",
      "\n"
     ]
    },
    {
     "name": "stderr",
     "output_type": "stream",
     "text": [
      "2023-02-03 01:33:39 abstract_overall_variance_analyzer.py INFO    : Successfully tested classifiers by bootstrap\n",
      "2023-02-03 01:33:41 abstract_overall_variance_analyzer.py INFO    : Successfully computed predict proba metrics\n"
     ]
    }
   ],
   "source": [
    "metrics_df = compute_model_metrics_with_config(models_config['DecisionTreeClassifier'], 'DecisionTreeClassifier', dataset,\n",
    "                                               config, SAVE_RESULTS_DIR_PATH, save_results=True, debug_mode=False)"
   ]
  },
  {
   "cell_type": "markdown",
   "id": "d6a8625a",
   "metadata": {},
   "source": [
    "Look at several columns in top rows of computed metrics"
   ]
  },
  {
   "cell_type": "code",
   "execution_count": 14,
   "id": "bea94683",
   "metadata": {},
   "outputs": [
    {
     "data": {
      "text/plain": "                 Metric   overall  sex_priv   sex_dis  race_priv  race_dis\n0                  Mean  0.526250  0.617604  0.504110   0.598298  0.481964\n1                   Std  0.095973  0.113321  0.091769   0.095657  0.096168\n2                   IQR  0.122872  0.149521  0.116413   0.121284  0.123848\n3               Entropy  0.246792  0.262124  0.000000   0.216290  0.265541\n4                Jitter  0.156582  0.165226  0.154487   0.137100  0.168557\n5   Per_Sample_Accuracy  0.652983  0.635874  0.657129   0.660896  0.648119\n6       Label_Stability  0.783239  0.773301  0.785647   0.811443  0.765902\n7                   TPR  0.623218  0.366197  0.666667   0.440000  0.703812\n8                   TNR  0.711504  0.807407  0.681395   0.809524  0.632588\n9                   PPV  0.652452  0.500000  0.671463   0.578947  0.676056\n10                  FNR  0.376782  0.633803  0.333333   0.560000  0.296188\n11                  FPR  0.288496  0.192593  0.318605   0.190476  0.367412\n12             Accuracy  0.670455  0.655340  0.674118   0.671642  0.669725\n13                   F1  0.637500  0.422764  0.669056   0.500000  0.689655\n14       Selection-Rate  0.444129  0.252427  0.490588   0.283582  0.542813\n15        Positive-Rate  0.955193  0.732394  0.992857   0.760000  1.041056",
      "text/html": "<div>\n<style scoped>\n    .dataframe tbody tr th:only-of-type {\n        vertical-align: middle;\n    }\n\n    .dataframe tbody tr th {\n        vertical-align: top;\n    }\n\n    .dataframe thead th {\n        text-align: right;\n    }\n</style>\n<table border=\"1\" class=\"dataframe\">\n  <thead>\n    <tr style=\"text-align: right;\">\n      <th></th>\n      <th>Metric</th>\n      <th>overall</th>\n      <th>sex_priv</th>\n      <th>sex_dis</th>\n      <th>race_priv</th>\n      <th>race_dis</th>\n    </tr>\n  </thead>\n  <tbody>\n    <tr>\n      <th>0</th>\n      <td>Mean</td>\n      <td>0.526250</td>\n      <td>0.617604</td>\n      <td>0.504110</td>\n      <td>0.598298</td>\n      <td>0.481964</td>\n    </tr>\n    <tr>\n      <th>1</th>\n      <td>Std</td>\n      <td>0.095973</td>\n      <td>0.113321</td>\n      <td>0.091769</td>\n      <td>0.095657</td>\n      <td>0.096168</td>\n    </tr>\n    <tr>\n      <th>2</th>\n      <td>IQR</td>\n      <td>0.122872</td>\n      <td>0.149521</td>\n      <td>0.116413</td>\n      <td>0.121284</td>\n      <td>0.123848</td>\n    </tr>\n    <tr>\n      <th>3</th>\n      <td>Entropy</td>\n      <td>0.246792</td>\n      <td>0.262124</td>\n      <td>0.000000</td>\n      <td>0.216290</td>\n      <td>0.265541</td>\n    </tr>\n    <tr>\n      <th>4</th>\n      <td>Jitter</td>\n      <td>0.156582</td>\n      <td>0.165226</td>\n      <td>0.154487</td>\n      <td>0.137100</td>\n      <td>0.168557</td>\n    </tr>\n    <tr>\n      <th>5</th>\n      <td>Per_Sample_Accuracy</td>\n      <td>0.652983</td>\n      <td>0.635874</td>\n      <td>0.657129</td>\n      <td>0.660896</td>\n      <td>0.648119</td>\n    </tr>\n    <tr>\n      <th>6</th>\n      <td>Label_Stability</td>\n      <td>0.783239</td>\n      <td>0.773301</td>\n      <td>0.785647</td>\n      <td>0.811443</td>\n      <td>0.765902</td>\n    </tr>\n    <tr>\n      <th>7</th>\n      <td>TPR</td>\n      <td>0.623218</td>\n      <td>0.366197</td>\n      <td>0.666667</td>\n      <td>0.440000</td>\n      <td>0.703812</td>\n    </tr>\n    <tr>\n      <th>8</th>\n      <td>TNR</td>\n      <td>0.711504</td>\n      <td>0.807407</td>\n      <td>0.681395</td>\n      <td>0.809524</td>\n      <td>0.632588</td>\n    </tr>\n    <tr>\n      <th>9</th>\n      <td>PPV</td>\n      <td>0.652452</td>\n      <td>0.500000</td>\n      <td>0.671463</td>\n      <td>0.578947</td>\n      <td>0.676056</td>\n    </tr>\n    <tr>\n      <th>10</th>\n      <td>FNR</td>\n      <td>0.376782</td>\n      <td>0.633803</td>\n      <td>0.333333</td>\n      <td>0.560000</td>\n      <td>0.296188</td>\n    </tr>\n    <tr>\n      <th>11</th>\n      <td>FPR</td>\n      <td>0.288496</td>\n      <td>0.192593</td>\n      <td>0.318605</td>\n      <td>0.190476</td>\n      <td>0.367412</td>\n    </tr>\n    <tr>\n      <th>12</th>\n      <td>Accuracy</td>\n      <td>0.670455</td>\n      <td>0.655340</td>\n      <td>0.674118</td>\n      <td>0.671642</td>\n      <td>0.669725</td>\n    </tr>\n    <tr>\n      <th>13</th>\n      <td>F1</td>\n      <td>0.637500</td>\n      <td>0.422764</td>\n      <td>0.669056</td>\n      <td>0.500000</td>\n      <td>0.689655</td>\n    </tr>\n    <tr>\n      <th>14</th>\n      <td>Selection-Rate</td>\n      <td>0.444129</td>\n      <td>0.252427</td>\n      <td>0.490588</td>\n      <td>0.283582</td>\n      <td>0.542813</td>\n    </tr>\n    <tr>\n      <th>15</th>\n      <td>Positive-Rate</td>\n      <td>0.955193</td>\n      <td>0.732394</td>\n      <td>0.992857</td>\n      <td>0.760000</td>\n      <td>1.041056</td>\n    </tr>\n  </tbody>\n</table>\n</div>"
     },
     "execution_count": 14,
     "metadata": {},
     "output_type": "execute_result"
    }
   ],
   "source": [
    "metrics_df[metrics_df.columns[:6]].head(20)"
   ]
  },
  {
   "cell_type": "markdown",
   "id": "a7ff67e9",
   "metadata": {},
   "source": [
    "## Group Metrics Composition"
   ]
  },
  {
   "cell_type": "markdown",
   "id": "274c97e2",
   "metadata": {},
   "source": [
    "**Metrics Composer** is responsible for this second stage of the model audit. Currently, it computes our custom group statistical bias and variance metrics, but extending it for new group metrics is very simple. We noticed that more and more group metrics have appeared during the last decade, but most of them are based on the same subgroup metrics. Hence, such a separation of subgroup and group metrics computation allows one to experiment with different combinations of subgroup metrics and avoid subgroup metrics recomputation for a new set of grouped metrics."
   ]
  },
  {
   "cell_type": "code",
   "execution_count": 21,
   "id": "f94a20dc",
   "metadata": {},
   "outputs": [],
   "source": [
    "models_metrics_dct = read_model_metric_dfs(SAVE_RESULTS_DIR_PATH, model_names=['DecisionTreeClassifier'])"
   ]
  },
  {
   "cell_type": "code",
   "execution_count": 16,
   "id": "b04d06cf",
   "metadata": {},
   "outputs": [],
   "source": [
    "metrics_composer = MetricsComposer(models_metrics_dct, config.sensitive_attributes_dct)"
   ]
  },
  {
   "cell_type": "markdown",
   "id": "e1a23ece",
   "metadata": {},
   "source": [
    "Compute composed metrics"
   ]
  },
  {
   "cell_type": "code",
   "execution_count": 17,
   "id": "be6ace22",
   "metadata": {},
   "outputs": [],
   "source": [
    "models_composed_metrics_df = metrics_composer.compose_metrics()"
   ]
  },
  {
   "cell_type": "code",
   "execution_count": 19,
   "outputs": [
    {
     "data": {
      "text/plain": "                      Metric       sex      race  sex&race  \\\n0         Equalized_Odds_TPR  0.300469  0.263812  0.566284   \n1         Equalized_Odds_FPR  0.126012  0.176936  0.264831   \n2           Disparate_Impact  1.355632  1.369810  2.331989   \n3  Statistical_Parity_Impact  0.260463  0.281056  0.601543   \n4            Accuracy_Parity  0.018778 -0.001917  0.033701   \n5      Label_Stability_Ratio  1.015965  0.943877  0.964887   \n6                 IQR_Parity -0.033107  0.002564 -0.023123   \n7                 Std_Parity -0.021552  0.000511 -0.018661   \n8                  Std_Ratio  0.809817  1.005344  0.831795   \n9              Jitter_Parity -0.010739  0.031456  0.019176   \n\n               Model_Name  \n0  DecisionTreeClassifier  \n1  DecisionTreeClassifier  \n2  DecisionTreeClassifier  \n3  DecisionTreeClassifier  \n4  DecisionTreeClassifier  \n5  DecisionTreeClassifier  \n6  DecisionTreeClassifier  \n7  DecisionTreeClassifier  \n8  DecisionTreeClassifier  \n9  DecisionTreeClassifier  ",
      "text/html": "<div>\n<style scoped>\n    .dataframe tbody tr th:only-of-type {\n        vertical-align: middle;\n    }\n\n    .dataframe tbody tr th {\n        vertical-align: top;\n    }\n\n    .dataframe thead th {\n        text-align: right;\n    }\n</style>\n<table border=\"1\" class=\"dataframe\">\n  <thead>\n    <tr style=\"text-align: right;\">\n      <th></th>\n      <th>Metric</th>\n      <th>sex</th>\n      <th>race</th>\n      <th>sex&amp;race</th>\n      <th>Model_Name</th>\n    </tr>\n  </thead>\n  <tbody>\n    <tr>\n      <th>0</th>\n      <td>Equalized_Odds_TPR</td>\n      <td>0.300469</td>\n      <td>0.263812</td>\n      <td>0.566284</td>\n      <td>DecisionTreeClassifier</td>\n    </tr>\n    <tr>\n      <th>1</th>\n      <td>Equalized_Odds_FPR</td>\n      <td>0.126012</td>\n      <td>0.176936</td>\n      <td>0.264831</td>\n      <td>DecisionTreeClassifier</td>\n    </tr>\n    <tr>\n      <th>2</th>\n      <td>Disparate_Impact</td>\n      <td>1.355632</td>\n      <td>1.369810</td>\n      <td>2.331989</td>\n      <td>DecisionTreeClassifier</td>\n    </tr>\n    <tr>\n      <th>3</th>\n      <td>Statistical_Parity_Impact</td>\n      <td>0.260463</td>\n      <td>0.281056</td>\n      <td>0.601543</td>\n      <td>DecisionTreeClassifier</td>\n    </tr>\n    <tr>\n      <th>4</th>\n      <td>Accuracy_Parity</td>\n      <td>0.018778</td>\n      <td>-0.001917</td>\n      <td>0.033701</td>\n      <td>DecisionTreeClassifier</td>\n    </tr>\n    <tr>\n      <th>5</th>\n      <td>Label_Stability_Ratio</td>\n      <td>1.015965</td>\n      <td>0.943877</td>\n      <td>0.964887</td>\n      <td>DecisionTreeClassifier</td>\n    </tr>\n    <tr>\n      <th>6</th>\n      <td>IQR_Parity</td>\n      <td>-0.033107</td>\n      <td>0.002564</td>\n      <td>-0.023123</td>\n      <td>DecisionTreeClassifier</td>\n    </tr>\n    <tr>\n      <th>7</th>\n      <td>Std_Parity</td>\n      <td>-0.021552</td>\n      <td>0.000511</td>\n      <td>-0.018661</td>\n      <td>DecisionTreeClassifier</td>\n    </tr>\n    <tr>\n      <th>8</th>\n      <td>Std_Ratio</td>\n      <td>0.809817</td>\n      <td>1.005344</td>\n      <td>0.831795</td>\n      <td>DecisionTreeClassifier</td>\n    </tr>\n    <tr>\n      <th>9</th>\n      <td>Jitter_Parity</td>\n      <td>-0.010739</td>\n      <td>0.031456</td>\n      <td>0.019176</td>\n      <td>DecisionTreeClassifier</td>\n    </tr>\n  </tbody>\n</table>\n</div>"
     },
     "execution_count": 19,
     "metadata": {},
     "output_type": "execute_result"
    }
   ],
   "source": [
    "models_composed_metrics_df.head(20)"
   ],
   "metadata": {
    "collapsed": false
   }
  },
  {
   "cell_type": "markdown",
   "id": "deb45226",
   "metadata": {},
   "source": [
    "## Metrics Visualization and Reporting"
   ]
  },
  {
   "cell_type": "markdown",
   "id": "2f5d4cdb",
   "metadata": {},
   "source": [
    "**Metrics Visualizer** provides metrics visualization and reporting functionality. It unifies different preprocessing methods for result metrics and creates various data formats required for visualizations. Hence, users can simply call methods of the Metrics Visualizer class and get custom plots for diverse metrics analysis. Additionally, these plots could be collected in an HTML report with comments for user convenience and future reference."
   ]
  },
  {
   "cell_type": "code",
   "execution_count": 23,
   "id": "435b9d98",
   "metadata": {},
   "outputs": [],
   "source": [
    "visualizer = MetricsVisualizer(models_metrics_dct, models_composed_metrics_df, config.dataset_name,\n",
    "                               model_names=['DecisionTreeClassifier'],\n",
    "                               sensitive_attributes_dct=config.sensitive_attributes_dct)"
   ]
  },
  {
   "cell_type": "code",
   "execution_count": 24,
   "id": "e5ff61ce",
   "metadata": {},
   "outputs": [
    {
     "data": {
      "text/plain": "<Figure size 1122.38x900 with 1 Axes>",
      "image/png": "[encoded data removed]"
     },
     "metadata": {},
     "output_type": "display_data"
    }
   ],
   "source": [
    "visualizer.visualize_overall_metrics(\n",
    "    metrics_names=['TPR', 'PPV', 'Accuracy', 'F1', 'Selection-Rate',\n",
    "                   'Per_Sample_Accuracy', 'Label_Stability'],\n",
    "    reversed_metrics_names=['Std', 'IQR', 'Jitter'],\n",
    "    x_label=\"Overall Metrics\"\n",
    ")"
   ]
  },
  {
   "cell_type": "code",
   "execution_count": null,
   "outputs": [],
   "source": [],
   "metadata": {
    "collapsed": false
   }
  }
 ],
 "metadata": {
  "kernelspec": {
   "display_name": "Python 3 (ipykernel)",
   "language": "python",
   "name": "python3"
  },
  "language_info": {
   "codemirror_mode": {
    "name": "ipython",
    "version": 3
   },
   "file_extension": ".py",
   "mimetype": "text/x-python",
   "name": "python",
   "nbconvert_exporter": "python",
   "pygments_lexer": "ipython3",
   "version": "3.8.10"
  }
 },
 "nbformat": 4,
 "nbformat_minor": 5
}
