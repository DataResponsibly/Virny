{
 "cells": [
  {
   "cell_type": "code",
   "execution_count": 1,
   "id": "68ae1475",
   "metadata": {
    "ExecuteTime": {
     "start_time": "2023-04-21T21:00:33.013441Z",
     "end_time": "2023-04-21T21:00:33.188847Z"
    }
   },
   "outputs": [],
   "source": [
    "%matplotlib inline\n",
    "%load_ext autoreload\n",
    "%autoreload 2"
   ]
  },
  {
   "cell_type": "code",
   "execution_count": 2,
   "id": "9a1a7163",
   "metadata": {
    "ExecuteTime": {
     "start_time": "2023-04-21T21:00:33.046406Z",
     "end_time": "2023-04-21T21:00:33.192071Z"
    }
   },
   "outputs": [],
   "source": [
    "import os\n",
    "import warnings\n",
    "warnings.filterwarnings('ignore')\n",
    "os.environ[\"PYTHONWARNINGS\"] = \"ignore\""
   ]
  },
  {
   "cell_type": "markdown",
   "id": "3dd0d321",
   "metadata": {},
   "source": [
    "# Multiple Runs Interface For Multiple Test Sets"
   ]
  },
  {
   "cell_type": "markdown",
   "id": "8b3e85da",
   "metadata": {},
   "source": [
    "In this example, we are going to audit 2 models for stability and fairness, visualize metrics, and create an analysis report. To get better analysis accuracy, we will use `compute_metrics_multiple_runs_with_multiple_test_sets` interface that will make multiple runs per model and test the model using multiple test sets."
   ]
  },
  {
   "cell_type": "markdown",
   "id": "ae19ca31",
   "metadata": {},
   "source": [
    "## Import dependencies"
   ]
  },
  {
   "cell_type": "code",
   "execution_count": 3,
   "id": "dec1f3f0",
   "metadata": {
    "ExecuteTime": {
     "start_time": "2023-04-21T21:00:33.065923Z",
     "end_time": "2023-04-21T21:00:33.203135Z"
    }
   },
   "outputs": [],
   "source": [
    "import os\n",
    "import pandas as pd\n",
    "\n",
    "from sklearn.linear_model import LogisticRegression\n",
    "from sklearn.ensemble import RandomForestClassifier\n",
    "from sklearn.tree import DecisionTreeClassifier\n",
    "\n",
    "from sklearn.compose import ColumnTransformer\n",
    "from sklearn.preprocessing import OneHotEncoder\n",
    "from sklearn.preprocessing import StandardScaler\n",
    "\n",
    "from virny.user_interfaces.metrics_computation_interfaces import compute_metrics_multiple_runs_with_multiple_test_sets\n",
    "from virny.utils.custom_initializers import create_config_obj, create_models_metrics_dct_from_database_df\n",
    "from virny.preprocessing.basic_preprocessing import preprocess_dataset\n",
    "from virny.datasets.data_loaders import CompasWithoutSensitiveAttrsDataset"
   ]
  },
  {
   "cell_type": "markdown",
   "id": "ae7d088c",
   "metadata": {},
   "source": [
    "## Initialize Input Variables"
   ]
  },
  {
   "cell_type": "markdown",
   "id": "bb167839",
   "metadata": {},
   "source": [
    "Based on the library flow, we need to create 3 input objects for a user interface:\n",
    "\n",
    "* A **dataset class** that is a wrapper above the user’s raw dataset that includes its descriptive attributes like a target column, numerical columns, categorical columns, etc. This class must be inherited from the BaseDataset class, which was created for user convenience.\n",
    "\n",
    "* A **config yaml** that is a file with configuration parameters for different user interfaces for metrics computation.\n",
    "\n",
    "* Finally, a **models config** that is a Python dictionary, where keys are model names and values are initialized models for analysis. This dictionary helps conduct audits of multiple models for one or multiple runs and analyze different types of models."
   ]
  },
  {
   "cell_type": "code",
   "execution_count": 4,
   "outputs": [],
   "source": [
    "TEST_SET_FRACTION = 0.2\n",
    "DATASET_SPLIT_SEED = 42"
   ],
   "metadata": {
    "collapsed": false,
    "ExecuteTime": {
     "start_time": "2023-04-21T21:00:33.090649Z",
     "end_time": "2023-04-21T21:00:33.209423Z"
    }
   }
  },
  {
   "cell_type": "markdown",
   "id": "4b21d920",
   "metadata": {},
   "source": [
    "### Create a Dataset class"
   ]
  },
  {
   "cell_type": "markdown",
   "id": "57b42644",
   "metadata": {},
   "source": [
    "Based on the BaseDataset class, your **dataset class** should include the following attributes:\n",
    "\n",
    "* **Obligatory attributes**: dataset, target, features, numerical_columns, categorical_columns\n",
    "\n",
    "* **Optional attributes**: X_data, y_data, columns_with_nulls\n",
    "\n",
    "For more details, please refer to the library documentation."
   ]
  },
  {
   "cell_type": "code",
   "execution_count": 5,
   "id": "30a74059",
   "metadata": {
    "ExecuteTime": {
     "start_time": "2023-04-21T21:00:33.104210Z",
     "end_time": "2023-04-21T21:00:33.248129Z"
    }
   },
   "outputs": [
    {
     "data": {
      "text/plain": "   juv_fel_count  juv_misd_count  juv_other_count  priors_count  \\\n0            0.0       -2.340451              1.0    -15.010999   \n1            0.0        0.000000              0.0      0.000000   \n2            0.0        0.000000              0.0      0.000000   \n3            0.0        0.000000              0.0      6.000000   \n4            0.0        0.000000              0.0      7.513697   \n\n   age_cat_25 - 45  \n0                1  \n1                1  \n2                0  \n3                1  \n4                1  ",
      "text/html": "<div>\n<style scoped>\n    .dataframe tbody tr th:only-of-type {\n        vertical-align: middle;\n    }\n\n    .dataframe tbody tr th {\n        vertical-align: top;\n    }\n\n    .dataframe thead th {\n        text-align: right;\n    }\n</style>\n<table border=\"1\" class=\"dataframe\">\n  <thead>\n    <tr style=\"text-align: right;\">\n      <th></th>\n      <th>juv_fel_count</th>\n      <th>juv_misd_count</th>\n      <th>juv_other_count</th>\n      <th>priors_count</th>\n      <th>age_cat_25 - 45</th>\n    </tr>\n  </thead>\n  <tbody>\n    <tr>\n      <th>0</th>\n      <td>0.0</td>\n      <td>-2.340451</td>\n      <td>1.0</td>\n      <td>-15.010999</td>\n      <td>1</td>\n    </tr>\n    <tr>\n      <th>1</th>\n      <td>0.0</td>\n      <td>0.000000</td>\n      <td>0.0</td>\n      <td>0.000000</td>\n      <td>1</td>\n    </tr>\n    <tr>\n      <th>2</th>\n      <td>0.0</td>\n      <td>0.000000</td>\n      <td>0.0</td>\n      <td>0.000000</td>\n      <td>0</td>\n    </tr>\n    <tr>\n      <th>3</th>\n      <td>0.0</td>\n      <td>0.000000</td>\n      <td>0.0</td>\n      <td>6.000000</td>\n      <td>1</td>\n    </tr>\n    <tr>\n      <th>4</th>\n      <td>0.0</td>\n      <td>0.000000</td>\n      <td>0.0</td>\n      <td>7.513697</td>\n      <td>1</td>\n    </tr>\n  </tbody>\n</table>\n</div>"
     },
     "execution_count": 5,
     "metadata": {},
     "output_type": "execute_result"
    }
   ],
   "source": [
    "data_loader = CompasWithoutSensitiveAttrsDataset()\n",
    "data_loader.X_data[data_loader.X_data.columns[:5]].head()"
   ]
  },
  {
   "cell_type": "code",
   "execution_count": 6,
   "outputs": [],
   "source": [
    "column_transformer = ColumnTransformer(transformers=[\n",
    "    ('categorical_features', OneHotEncoder(handle_unknown='ignore', sparse=False), data_loader.categorical_columns),\n",
    "    ('numerical_features', StandardScaler(), data_loader.numerical_columns),\n",
    "])"
   ],
   "metadata": {
    "collapsed": false,
    "ExecuteTime": {
     "start_time": "2023-04-21T21:00:33.178231Z",
     "end_time": "2023-04-21T21:00:33.248529Z"
    }
   }
  },
  {
   "cell_type": "code",
   "execution_count": 7,
   "outputs": [],
   "source": [
    "base_flow_dataset = preprocess_dataset(data_loader, column_transformer, TEST_SET_FRACTION, DATASET_SPLIT_SEED)"
   ],
   "metadata": {
    "collapsed": false,
    "ExecuteTime": {
     "start_time": "2023-04-21T21:00:33.178397Z",
     "end_time": "2023-04-21T21:00:33.290936Z"
    }
   }
  },
  {
   "cell_type": "markdown",
   "id": "d22f31eb",
   "metadata": {},
   "source": [
    "### Create a config object"
   ]
  },
  {
   "cell_type": "markdown",
   "id": "2ab8dda3",
   "metadata": {},
   "source": [
    "`compute_metrics_multiple_runs_with_multiple_test_sets` interface requires that your **yaml file** includes the following parameters:\n",
    "\n",
    "* **dataset_name**: str, a name of your dataset; it will be used to name files with metrics.\n",
    "\n",
    "* **bootstrap_fraction**: float, the fraction from a train set in the range [0.0 - 1.0] to fit models in bootstrap (usually more than 0.5).\n",
    "\n",
    "* **n_estimators**: int, the number of estimators for bootstrap to compute subgroup variance metrics.\n",
    "\n",
    "* **num_runs**: int, the number of runs for metrics computation.\n",
    "\n",
    "* **runs_seed_lst**: list, a list of seeds for each run; must be equal to **num_runs**. For example, if your runs_seed_lst is [100, 200], this means that for the first run the interface will assign 100 seed for each model, for the second run -- assign 200 seed for each model.\n",
    "\n",
    "* **sensitive_attributes_dct**: dict, a dictionary where keys are sensitive attribute names (including attribute intersections), and values are privileged values for these attributes. Currently, the library supports only intersections among two sensitive attributes. Intersectional attributes must include '&' between sensitive attributes. You do not need to specify privileged values for intersectional groups since they will be derived from privileged values in sensitive_attributes_dct for each separate sensitive attribute in this intersectional pair.\n"
   ]
  },
  {
   "cell_type": "code",
   "execution_count": 8,
   "id": "79dcac74",
   "metadata": {
    "ExecuteTime": {
     "start_time": "2023-04-21T21:00:33.222274Z",
     "end_time": "2023-04-21T21:00:33.298334Z"
    }
   },
   "outputs": [],
   "source": [
    "ROOT_DIR = os.getcwd()\n",
    "config_yaml_path = os.path.join(ROOT_DIR, 'experiment_config.yaml')\n",
    "config_yaml_content = \\\n",
    "\"\"\"dataset_name: COMPAS_Without_Sensitive_Attributes\n",
    "num_runs: 1\n",
    "bootstrap_fraction: 0.8\n",
    "n_estimators: 50  # Better to input the higher number of estimators than 100; this is only for this use case example\n",
    "computation_mode: error_analysis\n",
    "sensitive_attributes_dct: {'sex': 1, 'race': 'African-American', 'sex&race': None}\n",
    "\"\"\"\n",
    "\n",
    "with open(config_yaml_path, 'w', encoding='utf-8') as f:\n",
    "    f.write(config_yaml_content)"
   ]
  },
  {
   "cell_type": "code",
   "execution_count": 9,
   "id": "abc8bd6f",
   "metadata": {
    "ExecuteTime": {
     "start_time": "2023-04-21T21:00:33.222617Z",
     "end_time": "2023-04-21T21:00:33.299673Z"
    }
   },
   "outputs": [],
   "source": [
    "config = create_config_obj(config_yaml_path=config_yaml_path)"
   ]
  },
  {
   "cell_type": "markdown",
   "id": "f04867aa",
   "metadata": {},
   "source": [
    "### Create a models config"
   ]
  },
  {
   "cell_type": "markdown",
   "id": "faee85f0",
   "metadata": {},
   "source": [
    "**models_config** is a Python dictionary, where keys are model names and values are initialized models for analysis"
   ]
  },
  {
   "cell_type": "code",
   "execution_count": 10,
   "id": "a711e1af",
   "metadata": {
    "ExecuteTime": {
     "start_time": "2023-04-21T21:00:33.254072Z",
     "end_time": "2023-04-21T21:00:33.316766Z"
    }
   },
   "outputs": [],
   "source": [
    "models_config = {\n",
    "    'DecisionTreeClassifier': DecisionTreeClassifier(criterion='gini',\n",
    "                                                     max_depth=20,\n",
    "                                                     max_features=0.6,\n",
    "                                                     min_samples_split=0.1),\n",
    "    'RandomForestClassifier': RandomForestClassifier(max_depth=4,\n",
    "                                                     max_features=0.6,\n",
    "                                                     min_samples_leaf=1,\n",
    "                                                     n_estimators=50),\n",
    "}"
   ]
  },
  {
   "cell_type": "markdown",
   "id": "2d6ba72b",
   "metadata": {},
   "source": [
    "## Subgroup Metrics Computation"
   ]
  },
  {
   "cell_type": "markdown",
   "id": "13404bc0",
   "metadata": {},
   "source": [
    "After the variables are input to a user interface, the interface uses subgroup analyzers to compute different sets of metrics for each privileged and disprivileged subgroup. As for now, our library supports **Subgroup Variance Analyzer** and **Subgroup Error Analyzer**, but it is easily extensible to any other analyzers. When the variance and error analyzers complete metrics computation, their metrics are combined, returned in a matrix format, and stored in a file if defined."
   ]
  },
  {
   "cell_type": "code",
   "execution_count": 11,
   "id": "899e6ab4",
   "metadata": {
    "ExecuteTime": {
     "start_time": "2023-04-21T21:00:33.276325Z",
     "end_time": "2023-04-21T21:00:33.347605Z"
    }
   },
   "outputs": [],
   "source": [
    "import os\n",
    "from dotenv import load_dotenv\n",
    "from pymongo import MongoClient\n",
    "\n",
    "\n",
    "load_dotenv(os.path.join(ROOT_DIR, 'secrets.env'))  # Take environment variables from .env\n",
    "\n",
    "# Provide the mongodb atlas url to connect python to mongodb using pymongo\n",
    "CONNECTION_STRING = os.getenv(\"CONNECTION_STRING\")\n",
    "# Create a connection using MongoClient. You can import MongoClient or use pymongo.MongoClient\n",
    "client = MongoClient(CONNECTION_STRING)\n",
    "collection = client[os.getenv(\"DB_NAME\")]['preprocessing_results']\n",
    "\n",
    "\n",
    "def db_writer_func(run_models_metrics_df, collection=collection):\n",
    "    run_models_metrics_df.columns = run_models_metrics_df.columns.str.lower()  # Rename Pandas columns to lower case\n",
    "    collection.insert_many(run_models_metrics_df.to_dict('records'))"
   ]
  },
  {
   "cell_type": "code",
   "execution_count": 12,
   "id": "db8df420",
   "metadata": {
    "ExecuteTime": {
     "start_time": "2023-04-21T21:00:33.307946Z",
     "end_time": "2023-04-21T21:00:33.374261Z"
    }
   },
   "outputs": [
    {
     "name": "stdout",
     "output_type": "stream",
     "text": [
      "Current session uuid:  b1492611-7252-49c2-8150-48bf2d4508a0\n"
     ]
    }
   ],
   "source": [
    "import uuid\n",
    "\n",
    "custom_table_fields_dct = {\n",
    "    'session_uuid': str(uuid.uuid4()),\n",
    "    'preprocessing_techniques': 'one hot encoder and scaler',\n",
    "}\n",
    "print('Current session uuid: ', custom_table_fields_dct['session_uuid'])"
   ]
  },
  {
   "cell_type": "code",
   "execution_count": 13,
   "id": "46961cf7",
   "metadata": {
    "ExecuteTime": {
     "start_time": "2023-04-21T21:00:33.337707Z",
     "end_time": "2023-04-21T21:01:18.861379Z"
    }
   },
   "outputs": [
    {
     "data": {
      "text/plain": "Multiple runs progress:   0%|          | 0/1 [00:00<?, ?it/s]",
      "application/vnd.jupyter.widget-view+json": {
       "version_major": 2,
       "version_minor": 0,
       "model_id": "a7b23f612a13417a8eb10dc3cc3c0cf4"
      }
     },
     "metadata": {},
     "output_type": "display_data"
    },
    {
     "data": {
      "text/plain": "Analyze models in one run:   0%|          | 0/2 [00:00<?, ?it/s]",
      "application/vnd.jupyter.widget-view+json": {
       "version_major": 2,
       "version_minor": 0,
       "model_id": "9bdc925809fd4c9d8f08cbc354a919dd"
      }
     },
     "metadata": {},
     "output_type": "display_data"
    },
    {
     "data": {
      "text/plain": "Classifiers testing by bootstrap:   0%|          | 0/50 [00:00<?, ?it/s]",
      "application/vnd.jupyter.widget-view+json": {
       "version_major": 2,
       "version_minor": 0,
       "model_id": "879a53a6d1e442238aa79306a897d6f2"
      }
     },
     "metadata": {},
     "output_type": "display_data"
    },
    {
     "data": {
      "text/plain": "Classifiers testing by bootstrap:   0%|          | 0/50 [00:00<?, ?it/s]",
      "application/vnd.jupyter.widget-view+json": {
       "version_major": 2,
       "version_minor": 0,
       "model_id": "3a37fdbfcd104cdb91977ac9e926974c"
      }
     },
     "metadata": {},
     "output_type": "display_data"
    }
   ],
   "source": [
    "extra_test_sets_lst = [(base_flow_dataset.X_test, base_flow_dataset.y_test)]\n",
    "compute_metrics_multiple_runs_with_multiple_test_sets(base_flow_dataset, extra_test_sets_lst, config, models_config,\n",
    "                                                      custom_table_fields_dct, db_writer_func)"
   ]
  },
  {
   "cell_type": "code",
   "execution_count": 14,
   "id": "180f429c",
   "metadata": {
    "ExecuteTime": {
     "start_time": "2023-04-21T21:01:18.864681Z",
     "end_time": "2023-04-21T21:01:18.906341Z"
    }
   },
   "outputs": [],
   "source": [
    "def read_model_metric_dfs_from_db(collection, session_uuid):\n",
    "    cursor = collection.find({'session_uuid': session_uuid})\n",
    "    records = []\n",
    "    for record in cursor:\n",
    "        del record['_id']\n",
    "        records.append(record)\n",
    "\n",
    "    model_metric_dfs = pd.DataFrame(records)\n",
    "\n",
    "    # Capitalize column names to be consistent across the whole library\n",
    "    new_column_names = []\n",
    "    for col in model_metric_dfs.columns:\n",
    "        new_col_name = '_'.join([c.capitalize() for c in col.split('_')])\n",
    "        new_column_names.append(new_col_name)\n",
    "\n",
    "    model_metric_dfs.columns = new_column_names\n",
    "    return model_metric_dfs"
   ]
  },
  {
   "cell_type": "code",
   "execution_count": 15,
   "id": "64a38bb0",
   "metadata": {
    "ExecuteTime": {
     "start_time": "2023-04-21T21:01:18.906230Z",
     "end_time": "2023-04-21T21:01:19.217098Z"
    }
   },
   "outputs": [],
   "source": [
    "model_metric_dfs = read_model_metric_dfs_from_db(collection, custom_table_fields_dct['session_uuid'])\n",
    "models_metrics_dct = create_models_metrics_dct_from_database_df(model_metric_dfs)"
   ]
  },
  {
   "cell_type": "code",
   "execution_count": 16,
   "id": "1c72325e",
   "metadata": {
    "ExecuteTime": {
     "start_time": "2023-04-21T21:01:48.482508Z",
     "end_time": "2023-04-21T21:01:48.526727Z"
    }
   },
   "outputs": [
    {
     "data": {
      "text/plain": "                   Metric  Model_Seed              Model_Name  \\\n2                Accuracy         454  RandomForestClassifier   \n3                Accuracy         454  RandomForestClassifier   \n6   Aleatoric_Uncertainty         454  RandomForestClassifier   \n7   Aleatoric_Uncertainty         454  RandomForestClassifier   \n10                     F1         454  RandomForestClassifier   \n11                     F1         454  RandomForestClassifier   \n14                    FNR         454  RandomForestClassifier   \n15                    FNR         454  RandomForestClassifier   \n18                    FPR         454  RandomForestClassifier   \n19                    FPR         454  RandomForestClassifier   \n22                    IQR         454  RandomForestClassifier   \n23                    IQR         454  RandomForestClassifier   \n26                 Jitter         454  RandomForestClassifier   \n27                 Jitter         454  RandomForestClassifier   \n30        Label_Stability         454  RandomForestClassifier   \n31        Label_Stability         454  RandomForestClassifier   \n34                   Mean         454  RandomForestClassifier   \n35                   Mean         454  RandomForestClassifier   \n38    Overall_Uncertainty         454  RandomForestClassifier   \n39    Overall_Uncertainty         454  RandomForestClassifier   \n42                    PPV         454  RandomForestClassifier   \n43                    PPV         454  RandomForestClassifier   \n46    Per_Sample_Accuracy         454  RandomForestClassifier   \n47    Per_Sample_Accuracy         454  RandomForestClassifier   \n50          Positive-Rate         454  RandomForestClassifier   \n51          Positive-Rate         454  RandomForestClassifier   \n54            Sample_Size         454  RandomForestClassifier   \n55            Sample_Size         454  RandomForestClassifier   \n58         Selection-Rate         454  RandomForestClassifier   \n59         Selection-Rate         454  RandomForestClassifier   \n62                    Std         454  RandomForestClassifier   \n63                    Std         454  RandomForestClassifier   \n66                    TNR         454  RandomForestClassifier   \n67                    TNR         454  RandomForestClassifier   \n70                    TPR         454  RandomForestClassifier   \n71                    TPR         454  RandomForestClassifier   \n\n                                         Model_Params Run_Number  \\\n2   {'bootstrap': True, 'ccp_alpha': 0.0, 'class_w...      Run_1   \n3   {'bootstrap': True, 'ccp_alpha': 0.0, 'class_w...      Run_1   \n6   {'bootstrap': True, 'ccp_alpha': 0.0, 'class_w...      Run_1   \n7   {'bootstrap': True, 'ccp_alpha': 0.0, 'class_w...      Run_1   \n10  {'bootstrap': True, 'ccp_alpha': 0.0, 'class_w...      Run_1   \n11  {'bootstrap': True, 'ccp_alpha': 0.0, 'class_w...      Run_1   \n14  {'bootstrap': True, 'ccp_alpha': 0.0, 'class_w...      Run_1   \n15  {'bootstrap': True, 'ccp_alpha': 0.0, 'class_w...      Run_1   \n18  {'bootstrap': True, 'ccp_alpha': 0.0, 'class_w...      Run_1   \n19  {'bootstrap': True, 'ccp_alpha': 0.0, 'class_w...      Run_1   \n22  {'bootstrap': True, 'ccp_alpha': 0.0, 'class_w...      Run_1   \n23  {'bootstrap': True, 'ccp_alpha': 0.0, 'class_w...      Run_1   \n26  {'bootstrap': True, 'ccp_alpha': 0.0, 'class_w...      Run_1   \n27  {'bootstrap': True, 'ccp_alpha': 0.0, 'class_w...      Run_1   \n30  {'bootstrap': True, 'ccp_alpha': 0.0, 'class_w...      Run_1   \n31  {'bootstrap': True, 'ccp_alpha': 0.0, 'class_w...      Run_1   \n34  {'bootstrap': True, 'ccp_alpha': 0.0, 'class_w...      Run_1   \n35  {'bootstrap': True, 'ccp_alpha': 0.0, 'class_w...      Run_1   \n38  {'bootstrap': True, 'ccp_alpha': 0.0, 'class_w...      Run_1   \n39  {'bootstrap': True, 'ccp_alpha': 0.0, 'class_w...      Run_1   \n42  {'bootstrap': True, 'ccp_alpha': 0.0, 'class_w...      Run_1   \n43  {'bootstrap': True, 'ccp_alpha': 0.0, 'class_w...      Run_1   \n46  {'bootstrap': True, 'ccp_alpha': 0.0, 'class_w...      Run_1   \n47  {'bootstrap': True, 'ccp_alpha': 0.0, 'class_w...      Run_1   \n50  {'bootstrap': True, 'ccp_alpha': 0.0, 'class_w...      Run_1   \n51  {'bootstrap': True, 'ccp_alpha': 0.0, 'class_w...      Run_1   \n54  {'bootstrap': True, 'ccp_alpha': 0.0, 'class_w...      Run_1   \n55  {'bootstrap': True, 'ccp_alpha': 0.0, 'class_w...      Run_1   \n58  {'bootstrap': True, 'ccp_alpha': 0.0, 'class_w...      Run_1   \n59  {'bootstrap': True, 'ccp_alpha': 0.0, 'class_w...      Run_1   \n62  {'bootstrap': True, 'ccp_alpha': 0.0, 'class_w...      Run_1   \n63  {'bootstrap': True, 'ccp_alpha': 0.0, 'class_w...      Run_1   \n66  {'bootstrap': True, 'ccp_alpha': 0.0, 'class_w...      Run_1   \n67  {'bootstrap': True, 'ccp_alpha': 0.0, 'class_w...      Run_1   \n70  {'bootstrap': True, 'ccp_alpha': 0.0, 'class_w...      Run_1   \n71  {'bootstrap': True, 'ccp_alpha': 0.0, 'class_w...      Run_1   \n\n                           Dataset_Name  Num_Estimators  Test_Set_Index Tag  \\\n2   COMPAS_Without_Sensitive_Attributes              50               0  OK   \n3   COMPAS_Without_Sensitive_Attributes              50               1  OK   \n6   COMPAS_Without_Sensitive_Attributes              50               0  OK   \n7   COMPAS_Without_Sensitive_Attributes              50               1  OK   \n10  COMPAS_Without_Sensitive_Attributes              50               0  OK   \n11  COMPAS_Without_Sensitive_Attributes              50               1  OK   \n14  COMPAS_Without_Sensitive_Attributes              50               0  OK   \n15  COMPAS_Without_Sensitive_Attributes              50               1  OK   \n18  COMPAS_Without_Sensitive_Attributes              50               0  OK   \n19  COMPAS_Without_Sensitive_Attributes              50               1  OK   \n22  COMPAS_Without_Sensitive_Attributes              50               0  OK   \n23  COMPAS_Without_Sensitive_Attributes              50               1  OK   \n26  COMPAS_Without_Sensitive_Attributes              50               0  OK   \n27  COMPAS_Without_Sensitive_Attributes              50               1  OK   \n30  COMPAS_Without_Sensitive_Attributes              50               0  OK   \n31  COMPAS_Without_Sensitive_Attributes              50               1  OK   \n34  COMPAS_Without_Sensitive_Attributes              50               0  OK   \n35  COMPAS_Without_Sensitive_Attributes              50               1  OK   \n38  COMPAS_Without_Sensitive_Attributes              50               0  OK   \n39  COMPAS_Without_Sensitive_Attributes              50               1  OK   \n42  COMPAS_Without_Sensitive_Attributes              50               0  OK   \n43  COMPAS_Without_Sensitive_Attributes              50               1  OK   \n46  COMPAS_Without_Sensitive_Attributes              50               0  OK   \n47  COMPAS_Without_Sensitive_Attributes              50               1  OK   \n50  COMPAS_Without_Sensitive_Attributes              50               0  OK   \n51  COMPAS_Without_Sensitive_Attributes              50               1  OK   \n54  COMPAS_Without_Sensitive_Attributes              50               0  OK   \n55  COMPAS_Without_Sensitive_Attributes              50               1  OK   \n58  COMPAS_Without_Sensitive_Attributes              50               0  OK   \n59  COMPAS_Without_Sensitive_Attributes              50               1  OK   \n62  COMPAS_Without_Sensitive_Attributes              50               0  OK   \n63  COMPAS_Without_Sensitive_Attributes              50               1  OK   \n66  COMPAS_Without_Sensitive_Attributes              50               0  OK   \n67  COMPAS_Without_Sensitive_Attributes              50               1  OK   \n70  COMPAS_Without_Sensitive_Attributes              50               0  OK   \n71  COMPAS_Without_Sensitive_Attributes              50               1  OK   \n\n   Record_Create_Date_Time  ... sex&race_dis_incorrect sex&race_priv  \\\n2  2023-07-12 21:33:35.318  ...               0.000000      0.699620   \n3  2023-07-12 21:33:35.335  ...               0.000000      0.699620   \n6  2023-07-12 21:33:35.318  ...               0.931256      0.908344   \n7  2023-07-12 21:33:35.335  ...               0.931256      0.908344   \n10 2023-07-12 21:33:35.318  ...               0.000000      0.538012   \n11 2023-07-12 21:33:35.335  ...               0.000000      0.538012   \n14 2023-07-12 21:33:35.318  ...               1.000000      0.510638   \n15 2023-07-12 21:33:35.335  ...               1.000000      0.510638   \n18 2023-07-12 21:33:35.318  ...               1.000000      0.183432   \n19 2023-07-12 21:33:35.335  ...               1.000000      0.183432   \n22 2023-07-12 21:33:35.318  ...               0.049772      0.050017   \n23 2023-07-12 21:33:35.335  ...               0.049772      0.050017   \n26 2023-07-12 21:33:35.318  ...               0.108699      0.075535   \n27 2023-07-12 21:33:35.335  ...               0.108699      0.075535   \n30 2023-07-12 21:33:35.318  ...               0.836627      0.897414   \n31 2023-07-12 21:33:35.335  ...               0.836627      0.897414   \n34 2023-07-12 21:33:35.318  ...               0.495787      0.574956   \n35 2023-07-12 21:33:35.335  ...               0.495787      0.574956   \n38 2023-07-12 21:33:35.318  ...               0.936432      0.913877   \n39 2023-07-12 21:33:35.335  ...               0.936432      0.913877   \n42 2023-07-12 21:33:35.318  ...               0.000000      0.597403   \n43 2023-07-12 21:33:35.335  ...               0.000000      0.597403   \n46 2023-07-12 21:33:35.318  ...               0.081687      0.696768   \n47 2023-07-12 21:33:35.335  ...               0.081687      0.696768   \n50 2023-07-12 21:33:35.318  ...               0.784946      0.819149   \n51 2023-07-12 21:33:35.335  ...               0.784946      0.819149   \n54 2023-07-12 21:33:35.318  ...             166.000000    526.000000   \n55 2023-07-12 21:33:35.335  ...             166.000000    526.000000   \n58 2023-07-12 21:33:35.318  ...               0.439759      0.292776   \n59 2023-07-12 21:33:35.335  ...               0.439759      0.292776   \n62 2023-07-12 21:33:35.318  ...               0.038651      0.038907   \n63 2023-07-12 21:33:35.335  ...               0.038651      0.038907   \n66 2023-07-12 21:33:35.318  ...               0.000000      0.816568   \n67 2023-07-12 21:33:35.335  ...               0.000000      0.816568   \n70 2023-07-12 21:33:35.318  ...               0.000000      0.489362   \n71 2023-07-12 21:33:35.335  ...               0.000000      0.489362   \n\n    sex&race_priv_correct  sex&race_priv_incorrect     sex_dis  \\\n2                1.000000                 0.000000    0.697041   \n3                1.000000                 0.000000    0.697041   \n6                0.897733                 0.933058    0.907857   \n7                0.897733                 0.933058    0.907857   \n10               1.000000                 0.000000    0.664042   \n11               1.000000                 0.000000    0.664042   \n14               0.000000                 1.000000    0.361111   \n15               0.000000                 1.000000    0.361111   \n18               0.000000                 1.000000    0.251670   \n19               0.000000                 1.000000    0.251670   \n22               0.048351                 0.053897    0.051596   \n23               0.048351                 0.053897    0.051596   \n26               0.058523                 0.115159    0.075239   \n27               0.058523                 0.115159    0.075239   \n30               0.922174                 0.839747    0.896615   \n31               0.922174                 0.839747    0.896615   \n34               0.591845                 0.535619    0.512722   \n35               0.591845                 0.535619    0.512722   \n38               0.902962                 0.939299    0.913621   \n39               0.902962                 0.939299    0.913621   \n42               1.000000                 0.000000    0.691257   \n43               1.000000                 0.000000    0.691257   \n46               0.961087                 0.081139    0.692024   \n47               0.961087                 0.081139    0.692024   \n50               1.000000                 0.645833    0.924242   \n51               1.000000                 0.645833    0.924242   \n54             368.000000               158.000000  845.000000   \n55             368.000000               158.000000  845.000000   \n58               0.250000                 0.392405    0.433136   \n59               0.250000                 0.392405    0.433136   \n62               0.037378                 0.042466    0.039733   \n63               0.037378                 0.042466    0.039733   \n66               1.000000                 0.000000    0.748330   \n67               1.000000                 0.000000    0.748330   \n70               1.000000                 0.000000    0.638889   \n71               1.000000                 0.000000    0.638889   \n\n    sex_dis_correct  sex_dis_incorrect    sex_priv  sex_priv_correct  \\\n2          1.000000           0.000000    0.677725          1.000000   \n3          1.000000           0.000000    0.677725          1.000000   \n6          0.898977           0.928289    0.914088          0.898621   \n7          0.898977           0.928289    0.914088          0.898621   \n10         1.000000           0.000000    0.460317          1.000000   \n11         1.000000           0.000000    0.460317          1.000000   \n14         0.000000           1.000000    0.613333          0.000000   \n15         0.000000           1.000000    0.613333          0.000000   \n18         0.000000           1.000000    0.161765          0.000000   \n19         0.000000           1.000000    0.161765          0.000000   \n22         0.051506           0.051802    0.047552          0.045572   \n23         0.051506           0.051802    0.047552          0.045572   \n26         0.062652           0.104200    0.090353          0.066436   \n27         0.062652           0.104200    0.090353          0.066436   \n30         0.918438           0.846406    0.876019          0.908811   \n31         0.918438           0.846406    0.876019          0.908811   \n34         0.514470           0.508700    0.577497          0.595459   \n35         0.514470           0.508700    0.577497          0.595459   \n38         0.904824           0.933860    0.919270          0.903337   \n39         0.904824           0.933860    0.919270          0.903337   \n42         1.000000           0.000000    0.568627          1.000000   \n43         1.000000           0.000000    0.568627          1.000000   \n46         0.959219           0.077266    0.678104          0.954406   \n47         0.959219           0.077266    0.678104          0.954406   \n50         1.000000           0.790210    0.680000          1.000000   \n51         1.000000           0.790210    0.680000          1.000000   \n54       589.000000         256.000000  211.000000        143.000000   \n55       589.000000         256.000000  211.000000        143.000000   \n58         0.429542           0.441406    0.241706          0.202797   \n59         0.429542           0.441406    0.241706          0.202797   \n62         0.039660           0.039902    0.037892          0.035556   \n63         0.039660           0.039902    0.037892          0.035556   \n66         1.000000           0.000000    0.838235          1.000000   \n67         1.000000           0.000000    0.838235          1.000000   \n70         1.000000           0.000000    0.386667          1.000000   \n71         1.000000           0.000000    0.386667          1.000000   \n\n    sex_priv_incorrect  \n2             0.000000  \n3             0.000000  \n6             0.946614  \n7             0.946614  \n10            0.000000  \n11            0.000000  \n14            1.000000  \n15            1.000000  \n18            1.000000  \n19            1.000000  \n22            0.051714  \n23            0.051714  \n26            0.140648  \n27            0.140648  \n30            0.807059  \n31            0.807059  \n34            0.539722  \n35            0.539722  \n38            0.952776  \n39            0.952776  \n42            0.000000  \n43            0.000000  \n46            0.097059  \n47            0.097059  \n50            0.478261  \n51            0.478261  \n54           68.000000  \n55           68.000000  \n58            0.323529  \n59            0.323529  \n62            0.042805  \n63            0.042805  \n66            0.000000  \n67            0.000000  \n70            0.000000  \n71            0.000000  \n\n[36 rows x 31 columns]",
      "text/html": "<div>\n<style scoped>\n    .dataframe tbody tr th:only-of-type {\n        vertical-align: middle;\n    }\n\n    .dataframe tbody tr th {\n        vertical-align: top;\n    }\n\n    .dataframe thead th {\n        text-align: right;\n    }\n</style>\n<table border=\"1\" class=\"dataframe\">\n  <thead>\n    <tr style=\"text-align: right;\">\n      <th></th>\n      <th>Metric</th>\n      <th>Model_Seed</th>\n      <th>Model_Name</th>\n      <th>Model_Params</th>\n      <th>Run_Number</th>\n      <th>Dataset_Name</th>\n      <th>Num_Estimators</th>\n      <th>Test_Set_Index</th>\n      <th>Tag</th>\n      <th>Record_Create_Date_Time</th>\n      <th>...</th>\n      <th>sex&amp;race_dis_incorrect</th>\n      <th>sex&amp;race_priv</th>\n      <th>sex&amp;race_priv_correct</th>\n      <th>sex&amp;race_priv_incorrect</th>\n      <th>sex_dis</th>\n      <th>sex_dis_correct</th>\n      <th>sex_dis_incorrect</th>\n      <th>sex_priv</th>\n      <th>sex_priv_correct</th>\n      <th>sex_priv_incorrect</th>\n    </tr>\n  </thead>\n  <tbody>\n    <tr>\n      <th>2</th>\n      <td>Accuracy</td>\n      <td>454</td>\n      <td>RandomForestClassifier</td>\n      <td>{'bootstrap': True, 'ccp_alpha': 0.0, 'class_w...</td>\n      <td>Run_1</td>\n      <td>COMPAS_Without_Sensitive_Attributes</td>\n      <td>50</td>\n      <td>0</td>\n      <td>OK</td>\n      <td>2023-07-12 21:33:35.318</td>\n      <td>...</td>\n      <td>0.000000</td>\n      <td>0.699620</td>\n      <td>1.000000</td>\n      <td>0.000000</td>\n      <td>0.697041</td>\n      <td>1.000000</td>\n      <td>0.000000</td>\n      <td>0.677725</td>\n      <td>1.000000</td>\n      <td>0.000000</td>\n    </tr>\n    <tr>\n      <th>3</th>\n      <td>Accuracy</td>\n      <td>454</td>\n      <td>RandomForestClassifier</td>\n      <td>{'bootstrap': True, 'ccp_alpha': 0.0, 'class_w...</td>\n      <td>Run_1</td>\n      <td>COMPAS_Without_Sensitive_Attributes</td>\n      <td>50</td>\n      <td>1</td>\n      <td>OK</td>\n      <td>2023-07-12 21:33:35.335</td>\n      <td>...</td>\n      <td>0.000000</td>\n      <td>0.699620</td>\n      <td>1.000000</td>\n      <td>0.000000</td>\n      <td>0.697041</td>\n      <td>1.000000</td>\n      <td>0.000000</td>\n      <td>0.677725</td>\n      <td>1.000000</td>\n      <td>0.000000</td>\n    </tr>\n    <tr>\n      <th>6</th>\n      <td>Aleatoric_Uncertainty</td>\n      <td>454</td>\n      <td>RandomForestClassifier</td>\n      <td>{'bootstrap': True, 'ccp_alpha': 0.0, 'class_w...</td>\n      <td>Run_1</td>\n      <td>COMPAS_Without_Sensitive_Attributes</td>\n      <td>50</td>\n      <td>0</td>\n      <td>OK</td>\n      <td>2023-07-12 21:33:35.318</td>\n      <td>...</td>\n      <td>0.931256</td>\n      <td>0.908344</td>\n      <td>0.897733</td>\n      <td>0.933058</td>\n      <td>0.907857</td>\n      <td>0.898977</td>\n      <td>0.928289</td>\n      <td>0.914088</td>\n      <td>0.898621</td>\n      <td>0.946614</td>\n    </tr>\n    <tr>\n      <th>7</th>\n      <td>Aleatoric_Uncertainty</td>\n      <td>454</td>\n      <td>RandomForestClassifier</td>\n      <td>{'bootstrap': True, 'ccp_alpha': 0.0, 'class_w...</td>\n      <td>Run_1</td>\n      <td>COMPAS_Without_Sensitive_Attributes</td>\n      <td>50</td>\n      <td>1</td>\n      <td>OK</td>\n      <td>2023-07-12 21:33:35.335</td>\n      <td>...</td>\n      <td>0.931256</td>\n      <td>0.908344</td>\n      <td>0.897733</td>\n      <td>0.933058</td>\n      <td>0.907857</td>\n      <td>0.898977</td>\n      <td>0.928289</td>\n      <td>0.914088</td>\n      <td>0.898621</td>\n      <td>0.946614</td>\n    </tr>\n    <tr>\n      <th>10</th>\n      <td>F1</td>\n      <td>454</td>\n      <td>RandomForestClassifier</td>\n      <td>{'bootstrap': True, 'ccp_alpha': 0.0, 'class_w...</td>\n      <td>Run_1</td>\n      <td>COMPAS_Without_Sensitive_Attributes</td>\n      <td>50</td>\n      <td>0</td>\n      <td>OK</td>\n      <td>2023-07-12 21:33:35.318</td>\n      <td>...</td>\n      <td>0.000000</td>\n      <td>0.538012</td>\n      <td>1.000000</td>\n      <td>0.000000</td>\n      <td>0.664042</td>\n      <td>1.000000</td>\n      <td>0.000000</td>\n      <td>0.460317</td>\n      <td>1.000000</td>\n      <td>0.000000</td>\n    </tr>\n    <tr>\n      <th>11</th>\n      <td>F1</td>\n      <td>454</td>\n      <td>RandomForestClassifier</td>\n      <td>{'bootstrap': True, 'ccp_alpha': 0.0, 'class_w...</td>\n      <td>Run_1</td>\n      <td>COMPAS_Without_Sensitive_Attributes</td>\n      <td>50</td>\n      <td>1</td>\n      <td>OK</td>\n      <td>2023-07-12 21:33:35.335</td>\n      <td>...</td>\n      <td>0.000000</td>\n      <td>0.538012</td>\n      <td>1.000000</td>\n      <td>0.000000</td>\n      <td>0.664042</td>\n      <td>1.000000</td>\n      <td>0.000000</td>\n      <td>0.460317</td>\n      <td>1.000000</td>\n      <td>0.000000</td>\n    </tr>\n    <tr>\n      <th>14</th>\n      <td>FNR</td>\n      <td>454</td>\n      <td>RandomForestClassifier</td>\n      <td>{'bootstrap': True, 'ccp_alpha': 0.0, 'class_w...</td>\n      <td>Run_1</td>\n      <td>COMPAS_Without_Sensitive_Attributes</td>\n      <td>50</td>\n      <td>0</td>\n      <td>OK</td>\n      <td>2023-07-12 21:33:35.318</td>\n      <td>...</td>\n      <td>1.000000</td>\n      <td>0.510638</td>\n      <td>0.000000</td>\n      <td>1.000000</td>\n      <td>0.361111</td>\n      <td>0.000000</td>\n      <td>1.000000</td>\n      <td>0.613333</td>\n      <td>0.000000</td>\n      <td>1.000000</td>\n    </tr>\n    <tr>\n      <th>15</th>\n      <td>FNR</td>\n      <td>454</td>\n      <td>RandomForestClassifier</td>\n      <td>{'bootstrap': True, 'ccp_alpha': 0.0, 'class_w...</td>\n      <td>Run_1</td>\n      <td>COMPAS_Without_Sensitive_Attributes</td>\n      <td>50</td>\n      <td>1</td>\n      <td>OK</td>\n      <td>2023-07-12 21:33:35.335</td>\n      <td>...</td>\n      <td>1.000000</td>\n      <td>0.510638</td>\n      <td>0.000000</td>\n      <td>1.000000</td>\n      <td>0.361111</td>\n      <td>0.000000</td>\n      <td>1.000000</td>\n      <td>0.613333</td>\n      <td>0.000000</td>\n      <td>1.000000</td>\n    </tr>\n    <tr>\n      <th>18</th>\n      <td>FPR</td>\n      <td>454</td>\n      <td>RandomForestClassifier</td>\n      <td>{'bootstrap': True, 'ccp_alpha': 0.0, 'class_w...</td>\n      <td>Run_1</td>\n      <td>COMPAS_Without_Sensitive_Attributes</td>\n      <td>50</td>\n      <td>0</td>\n      <td>OK</td>\n      <td>2023-07-12 21:33:35.318</td>\n      <td>...</td>\n      <td>1.000000</td>\n      <td>0.183432</td>\n      <td>0.000000</td>\n      <td>1.000000</td>\n      <td>0.251670</td>\n      <td>0.000000</td>\n      <td>1.000000</td>\n      <td>0.161765</td>\n      <td>0.000000</td>\n      <td>1.000000</td>\n    </tr>\n    <tr>\n      <th>19</th>\n      <td>FPR</td>\n      <td>454</td>\n      <td>RandomForestClassifier</td>\n      <td>{'bootstrap': True, 'ccp_alpha': 0.0, 'class_w...</td>\n      <td>Run_1</td>\n      <td>COMPAS_Without_Sensitive_Attributes</td>\n      <td>50</td>\n      <td>1</td>\n      <td>OK</td>\n      <td>2023-07-12 21:33:35.335</td>\n      <td>...</td>\n      <td>1.000000</td>\n      <td>0.183432</td>\n      <td>0.000000</td>\n      <td>1.000000</td>\n      <td>0.251670</td>\n      <td>0.000000</td>\n      <td>1.000000</td>\n      <td>0.161765</td>\n      <td>0.000000</td>\n      <td>1.000000</td>\n    </tr>\n    <tr>\n      <th>22</th>\n      <td>IQR</td>\n      <td>454</td>\n      <td>RandomForestClassifier</td>\n      <td>{'bootstrap': True, 'ccp_alpha': 0.0, 'class_w...</td>\n      <td>Run_1</td>\n      <td>COMPAS_Without_Sensitive_Attributes</td>\n      <td>50</td>\n      <td>0</td>\n      <td>OK</td>\n      <td>2023-07-12 21:33:35.318</td>\n      <td>...</td>\n      <td>0.049772</td>\n      <td>0.050017</td>\n      <td>0.048351</td>\n      <td>0.053897</td>\n      <td>0.051596</td>\n      <td>0.051506</td>\n      <td>0.051802</td>\n      <td>0.047552</td>\n      <td>0.045572</td>\n      <td>0.051714</td>\n    </tr>\n    <tr>\n      <th>23</th>\n      <td>IQR</td>\n      <td>454</td>\n      <td>RandomForestClassifier</td>\n      <td>{'bootstrap': True, 'ccp_alpha': 0.0, 'class_w...</td>\n      <td>Run_1</td>\n      <td>COMPAS_Without_Sensitive_Attributes</td>\n      <td>50</td>\n      <td>1</td>\n      <td>OK</td>\n      <td>2023-07-12 21:33:35.335</td>\n      <td>...</td>\n      <td>0.049772</td>\n      <td>0.050017</td>\n      <td>0.048351</td>\n      <td>0.053897</td>\n      <td>0.051596</td>\n      <td>0.051506</td>\n      <td>0.051802</td>\n      <td>0.047552</td>\n      <td>0.045572</td>\n      <td>0.051714</td>\n    </tr>\n    <tr>\n      <th>26</th>\n      <td>Jitter</td>\n      <td>454</td>\n      <td>RandomForestClassifier</td>\n      <td>{'bootstrap': True, 'ccp_alpha': 0.0, 'class_w...</td>\n      <td>Run_1</td>\n      <td>COMPAS_Without_Sensitive_Attributes</td>\n      <td>50</td>\n      <td>0</td>\n      <td>OK</td>\n      <td>2023-07-12 21:33:35.318</td>\n      <td>...</td>\n      <td>0.108699</td>\n      <td>0.075535</td>\n      <td>0.058523</td>\n      <td>0.115159</td>\n      <td>0.075239</td>\n      <td>0.062652</td>\n      <td>0.104200</td>\n      <td>0.090353</td>\n      <td>0.066436</td>\n      <td>0.140648</td>\n    </tr>\n    <tr>\n      <th>27</th>\n      <td>Jitter</td>\n      <td>454</td>\n      <td>RandomForestClassifier</td>\n      <td>{'bootstrap': True, 'ccp_alpha': 0.0, 'class_w...</td>\n      <td>Run_1</td>\n      <td>COMPAS_Without_Sensitive_Attributes</td>\n      <td>50</td>\n      <td>1</td>\n      <td>OK</td>\n      <td>2023-07-12 21:33:35.335</td>\n      <td>...</td>\n      <td>0.108699</td>\n      <td>0.075535</td>\n      <td>0.058523</td>\n      <td>0.115159</td>\n      <td>0.075239</td>\n      <td>0.062652</td>\n      <td>0.104200</td>\n      <td>0.090353</td>\n      <td>0.066436</td>\n      <td>0.140648</td>\n    </tr>\n    <tr>\n      <th>30</th>\n      <td>Label_Stability</td>\n      <td>454</td>\n      <td>RandomForestClassifier</td>\n      <td>{'bootstrap': True, 'ccp_alpha': 0.0, 'class_w...</td>\n      <td>Run_1</td>\n      <td>COMPAS_Without_Sensitive_Attributes</td>\n      <td>50</td>\n      <td>0</td>\n      <td>OK</td>\n      <td>2023-07-12 21:33:35.318</td>\n      <td>...</td>\n      <td>0.836627</td>\n      <td>0.897414</td>\n      <td>0.922174</td>\n      <td>0.839747</td>\n      <td>0.896615</td>\n      <td>0.918438</td>\n      <td>0.846406</td>\n      <td>0.876019</td>\n      <td>0.908811</td>\n      <td>0.807059</td>\n    </tr>\n    <tr>\n      <th>31</th>\n      <td>Label_Stability</td>\n      <td>454</td>\n      <td>RandomForestClassifier</td>\n      <td>{'bootstrap': True, 'ccp_alpha': 0.0, 'class_w...</td>\n      <td>Run_1</td>\n      <td>COMPAS_Without_Sensitive_Attributes</td>\n      <td>50</td>\n      <td>1</td>\n      <td>OK</td>\n      <td>2023-07-12 21:33:35.335</td>\n      <td>...</td>\n      <td>0.836627</td>\n      <td>0.897414</td>\n      <td>0.922174</td>\n      <td>0.839747</td>\n      <td>0.896615</td>\n      <td>0.918438</td>\n      <td>0.846406</td>\n      <td>0.876019</td>\n      <td>0.908811</td>\n      <td>0.807059</td>\n    </tr>\n    <tr>\n      <th>34</th>\n      <td>Mean</td>\n      <td>454</td>\n      <td>RandomForestClassifier</td>\n      <td>{'bootstrap': True, 'ccp_alpha': 0.0, 'class_w...</td>\n      <td>Run_1</td>\n      <td>COMPAS_Without_Sensitive_Attributes</td>\n      <td>50</td>\n      <td>0</td>\n      <td>OK</td>\n      <td>2023-07-12 21:33:35.318</td>\n      <td>...</td>\n      <td>0.495787</td>\n      <td>0.574956</td>\n      <td>0.591845</td>\n      <td>0.535619</td>\n      <td>0.512722</td>\n      <td>0.514470</td>\n      <td>0.508700</td>\n      <td>0.577497</td>\n      <td>0.595459</td>\n      <td>0.539722</td>\n    </tr>\n    <tr>\n      <th>35</th>\n      <td>Mean</td>\n      <td>454</td>\n      <td>RandomForestClassifier</td>\n      <td>{'bootstrap': True, 'ccp_alpha': 0.0, 'class_w...</td>\n      <td>Run_1</td>\n      <td>COMPAS_Without_Sensitive_Attributes</td>\n      <td>50</td>\n      <td>1</td>\n      <td>OK</td>\n      <td>2023-07-12 21:33:35.335</td>\n      <td>...</td>\n      <td>0.495787</td>\n      <td>0.574956</td>\n      <td>0.591845</td>\n      <td>0.535619</td>\n      <td>0.512722</td>\n      <td>0.514470</td>\n      <td>0.508700</td>\n      <td>0.577497</td>\n      <td>0.595459</td>\n      <td>0.539722</td>\n    </tr>\n    <tr>\n      <th>38</th>\n      <td>Overall_Uncertainty</td>\n      <td>454</td>\n      <td>RandomForestClassifier</td>\n      <td>{'bootstrap': True, 'ccp_alpha': 0.0, 'class_w...</td>\n      <td>Run_1</td>\n      <td>COMPAS_Without_Sensitive_Attributes</td>\n      <td>50</td>\n      <td>0</td>\n      <td>OK</td>\n      <td>2023-07-12 21:33:35.318</td>\n      <td>...</td>\n      <td>0.936432</td>\n      <td>0.913877</td>\n      <td>0.902962</td>\n      <td>0.939299</td>\n      <td>0.913621</td>\n      <td>0.904824</td>\n      <td>0.933860</td>\n      <td>0.919270</td>\n      <td>0.903337</td>\n      <td>0.952776</td>\n    </tr>\n    <tr>\n      <th>39</th>\n      <td>Overall_Uncertainty</td>\n      <td>454</td>\n      <td>RandomForestClassifier</td>\n      <td>{'bootstrap': True, 'ccp_alpha': 0.0, 'class_w...</td>\n      <td>Run_1</td>\n      <td>COMPAS_Without_Sensitive_Attributes</td>\n      <td>50</td>\n      <td>1</td>\n      <td>OK</td>\n      <td>2023-07-12 21:33:35.335</td>\n      <td>...</td>\n      <td>0.936432</td>\n      <td>0.913877</td>\n      <td>0.902962</td>\n      <td>0.939299</td>\n      <td>0.913621</td>\n      <td>0.904824</td>\n      <td>0.933860</td>\n      <td>0.919270</td>\n      <td>0.903337</td>\n      <td>0.952776</td>\n    </tr>\n    <tr>\n      <th>42</th>\n      <td>PPV</td>\n      <td>454</td>\n      <td>RandomForestClassifier</td>\n      <td>{'bootstrap': True, 'ccp_alpha': 0.0, 'class_w...</td>\n      <td>Run_1</td>\n      <td>COMPAS_Without_Sensitive_Attributes</td>\n      <td>50</td>\n      <td>0</td>\n      <td>OK</td>\n      <td>2023-07-12 21:33:35.318</td>\n      <td>...</td>\n      <td>0.000000</td>\n      <td>0.597403</td>\n      <td>1.000000</td>\n      <td>0.000000</td>\n      <td>0.691257</td>\n      <td>1.000000</td>\n      <td>0.000000</td>\n      <td>0.568627</td>\n      <td>1.000000</td>\n      <td>0.000000</td>\n    </tr>\n    <tr>\n      <th>43</th>\n      <td>PPV</td>\n      <td>454</td>\n      <td>RandomForestClassifier</td>\n      <td>{'bootstrap': True, 'ccp_alpha': 0.0, 'class_w...</td>\n      <td>Run_1</td>\n      <td>COMPAS_Without_Sensitive_Attributes</td>\n      <td>50</td>\n      <td>1</td>\n      <td>OK</td>\n      <td>2023-07-12 21:33:35.335</td>\n      <td>...</td>\n      <td>0.000000</td>\n      <td>0.597403</td>\n      <td>1.000000</td>\n      <td>0.000000</td>\n      <td>0.691257</td>\n      <td>1.000000</td>\n      <td>0.000000</td>\n      <td>0.568627</td>\n      <td>1.000000</td>\n      <td>0.000000</td>\n    </tr>\n    <tr>\n      <th>46</th>\n      <td>Per_Sample_Accuracy</td>\n      <td>454</td>\n      <td>RandomForestClassifier</td>\n      <td>{'bootstrap': True, 'ccp_alpha': 0.0, 'class_w...</td>\n      <td>Run_1</td>\n      <td>COMPAS_Without_Sensitive_Attributes</td>\n      <td>50</td>\n      <td>0</td>\n      <td>OK</td>\n      <td>2023-07-12 21:33:35.318</td>\n      <td>...</td>\n      <td>0.081687</td>\n      <td>0.696768</td>\n      <td>0.961087</td>\n      <td>0.081139</td>\n      <td>0.692024</td>\n      <td>0.959219</td>\n      <td>0.077266</td>\n      <td>0.678104</td>\n      <td>0.954406</td>\n      <td>0.097059</td>\n    </tr>\n    <tr>\n      <th>47</th>\n      <td>Per_Sample_Accuracy</td>\n      <td>454</td>\n      <td>RandomForestClassifier</td>\n      <td>{'bootstrap': True, 'ccp_alpha': 0.0, 'class_w...</td>\n      <td>Run_1</td>\n      <td>COMPAS_Without_Sensitive_Attributes</td>\n      <td>50</td>\n      <td>1</td>\n      <td>OK</td>\n      <td>2023-07-12 21:33:35.335</td>\n      <td>...</td>\n      <td>0.081687</td>\n      <td>0.696768</td>\n      <td>0.961087</td>\n      <td>0.081139</td>\n      <td>0.692024</td>\n      <td>0.959219</td>\n      <td>0.077266</td>\n      <td>0.678104</td>\n      <td>0.954406</td>\n      <td>0.097059</td>\n    </tr>\n    <tr>\n      <th>50</th>\n      <td>Positive-Rate</td>\n      <td>454</td>\n      <td>RandomForestClassifier</td>\n      <td>{'bootstrap': True, 'ccp_alpha': 0.0, 'class_w...</td>\n      <td>Run_1</td>\n      <td>COMPAS_Without_Sensitive_Attributes</td>\n      <td>50</td>\n      <td>0</td>\n      <td>OK</td>\n      <td>2023-07-12 21:33:35.318</td>\n      <td>...</td>\n      <td>0.784946</td>\n      <td>0.819149</td>\n      <td>1.000000</td>\n      <td>0.645833</td>\n      <td>0.924242</td>\n      <td>1.000000</td>\n      <td>0.790210</td>\n      <td>0.680000</td>\n      <td>1.000000</td>\n      <td>0.478261</td>\n    </tr>\n    <tr>\n      <th>51</th>\n      <td>Positive-Rate</td>\n      <td>454</td>\n      <td>RandomForestClassifier</td>\n      <td>{'bootstrap': True, 'ccp_alpha': 0.0, 'class_w...</td>\n      <td>Run_1</td>\n      <td>COMPAS_Without_Sensitive_Attributes</td>\n      <td>50</td>\n      <td>1</td>\n      <td>OK</td>\n      <td>2023-07-12 21:33:35.335</td>\n      <td>...</td>\n      <td>0.784946</td>\n      <td>0.819149</td>\n      <td>1.000000</td>\n      <td>0.645833</td>\n      <td>0.924242</td>\n      <td>1.000000</td>\n      <td>0.790210</td>\n      <td>0.680000</td>\n      <td>1.000000</td>\n      <td>0.478261</td>\n    </tr>\n    <tr>\n      <th>54</th>\n      <td>Sample_Size</td>\n      <td>454</td>\n      <td>RandomForestClassifier</td>\n      <td>{'bootstrap': True, 'ccp_alpha': 0.0, 'class_w...</td>\n      <td>Run_1</td>\n      <td>COMPAS_Without_Sensitive_Attributes</td>\n      <td>50</td>\n      <td>0</td>\n      <td>OK</td>\n      <td>2023-07-12 21:33:35.318</td>\n      <td>...</td>\n      <td>166.000000</td>\n      <td>526.000000</td>\n      <td>368.000000</td>\n      <td>158.000000</td>\n      <td>845.000000</td>\n      <td>589.000000</td>\n      <td>256.000000</td>\n      <td>211.000000</td>\n      <td>143.000000</td>\n      <td>68.000000</td>\n    </tr>\n    <tr>\n      <th>55</th>\n      <td>Sample_Size</td>\n      <td>454</td>\n      <td>RandomForestClassifier</td>\n      <td>{'bootstrap': True, 'ccp_alpha': 0.0, 'class_w...</td>\n      <td>Run_1</td>\n      <td>COMPAS_Without_Sensitive_Attributes</td>\n      <td>50</td>\n      <td>1</td>\n      <td>OK</td>\n      <td>2023-07-12 21:33:35.335</td>\n      <td>...</td>\n      <td>166.000000</td>\n      <td>526.000000</td>\n      <td>368.000000</td>\n      <td>158.000000</td>\n      <td>845.000000</td>\n      <td>589.000000</td>\n      <td>256.000000</td>\n      <td>211.000000</td>\n      <td>143.000000</td>\n      <td>68.000000</td>\n    </tr>\n    <tr>\n      <th>58</th>\n      <td>Selection-Rate</td>\n      <td>454</td>\n      <td>RandomForestClassifier</td>\n      <td>{'bootstrap': True, 'ccp_alpha': 0.0, 'class_w...</td>\n      <td>Run_1</td>\n      <td>COMPAS_Without_Sensitive_Attributes</td>\n      <td>50</td>\n      <td>0</td>\n      <td>OK</td>\n      <td>2023-07-12 21:33:35.318</td>\n      <td>...</td>\n      <td>0.439759</td>\n      <td>0.292776</td>\n      <td>0.250000</td>\n      <td>0.392405</td>\n      <td>0.433136</td>\n      <td>0.429542</td>\n      <td>0.441406</td>\n      <td>0.241706</td>\n      <td>0.202797</td>\n      <td>0.323529</td>\n    </tr>\n    <tr>\n      <th>59</th>\n      <td>Selection-Rate</td>\n      <td>454</td>\n      <td>RandomForestClassifier</td>\n      <td>{'bootstrap': True, 'ccp_alpha': 0.0, 'class_w...</td>\n      <td>Run_1</td>\n      <td>COMPAS_Without_Sensitive_Attributes</td>\n      <td>50</td>\n      <td>1</td>\n      <td>OK</td>\n      <td>2023-07-12 21:33:35.335</td>\n      <td>...</td>\n      <td>0.439759</td>\n      <td>0.292776</td>\n      <td>0.250000</td>\n      <td>0.392405</td>\n      <td>0.433136</td>\n      <td>0.429542</td>\n      <td>0.441406</td>\n      <td>0.241706</td>\n      <td>0.202797</td>\n      <td>0.323529</td>\n    </tr>\n    <tr>\n      <th>62</th>\n      <td>Std</td>\n      <td>454</td>\n      <td>RandomForestClassifier</td>\n      <td>{'bootstrap': True, 'ccp_alpha': 0.0, 'class_w...</td>\n      <td>Run_1</td>\n      <td>COMPAS_Without_Sensitive_Attributes</td>\n      <td>50</td>\n      <td>0</td>\n      <td>OK</td>\n      <td>2023-07-12 21:33:35.318</td>\n      <td>...</td>\n      <td>0.038651</td>\n      <td>0.038907</td>\n      <td>0.037378</td>\n      <td>0.042466</td>\n      <td>0.039733</td>\n      <td>0.039660</td>\n      <td>0.039902</td>\n      <td>0.037892</td>\n      <td>0.035556</td>\n      <td>0.042805</td>\n    </tr>\n    <tr>\n      <th>63</th>\n      <td>Std</td>\n      <td>454</td>\n      <td>RandomForestClassifier</td>\n      <td>{'bootstrap': True, 'ccp_alpha': 0.0, 'class_w...</td>\n      <td>Run_1</td>\n      <td>COMPAS_Without_Sensitive_Attributes</td>\n      <td>50</td>\n      <td>1</td>\n      <td>OK</td>\n      <td>2023-07-12 21:33:35.335</td>\n      <td>...</td>\n      <td>0.038651</td>\n      <td>0.038907</td>\n      <td>0.037378</td>\n      <td>0.042466</td>\n      <td>0.039733</td>\n      <td>0.039660</td>\n      <td>0.039902</td>\n      <td>0.037892</td>\n      <td>0.035556</td>\n      <td>0.042805</td>\n    </tr>\n    <tr>\n      <th>66</th>\n      <td>TNR</td>\n      <td>454</td>\n      <td>RandomForestClassifier</td>\n      <td>{'bootstrap': True, 'ccp_alpha': 0.0, 'class_w...</td>\n      <td>Run_1</td>\n      <td>COMPAS_Without_Sensitive_Attributes</td>\n      <td>50</td>\n      <td>0</td>\n      <td>OK</td>\n      <td>2023-07-12 21:33:35.318</td>\n      <td>...</td>\n      <td>0.000000</td>\n      <td>0.816568</td>\n      <td>1.000000</td>\n      <td>0.000000</td>\n      <td>0.748330</td>\n      <td>1.000000</td>\n      <td>0.000000</td>\n      <td>0.838235</td>\n      <td>1.000000</td>\n      <td>0.000000</td>\n    </tr>\n    <tr>\n      <th>67</th>\n      <td>TNR</td>\n      <td>454</td>\n      <td>RandomForestClassifier</td>\n      <td>{'bootstrap': True, 'ccp_alpha': 0.0, 'class_w...</td>\n      <td>Run_1</td>\n      <td>COMPAS_Without_Sensitive_Attributes</td>\n      <td>50</td>\n      <td>1</td>\n      <td>OK</td>\n      <td>2023-07-12 21:33:35.335</td>\n      <td>...</td>\n      <td>0.000000</td>\n      <td>0.816568</td>\n      <td>1.000000</td>\n      <td>0.000000</td>\n      <td>0.748330</td>\n      <td>1.000000</td>\n      <td>0.000000</td>\n      <td>0.838235</td>\n      <td>1.000000</td>\n      <td>0.000000</td>\n    </tr>\n    <tr>\n      <th>70</th>\n      <td>TPR</td>\n      <td>454</td>\n      <td>RandomForestClassifier</td>\n      <td>{'bootstrap': True, 'ccp_alpha': 0.0, 'class_w...</td>\n      <td>Run_1</td>\n      <td>COMPAS_Without_Sensitive_Attributes</td>\n      <td>50</td>\n      <td>0</td>\n      <td>OK</td>\n      <td>2023-07-12 21:33:35.318</td>\n      <td>...</td>\n      <td>0.000000</td>\n      <td>0.489362</td>\n      <td>1.000000</td>\n      <td>0.000000</td>\n      <td>0.638889</td>\n      <td>1.000000</td>\n      <td>0.000000</td>\n      <td>0.386667</td>\n      <td>1.000000</td>\n      <td>0.000000</td>\n    </tr>\n    <tr>\n      <th>71</th>\n      <td>TPR</td>\n      <td>454</td>\n      <td>RandomForestClassifier</td>\n      <td>{'bootstrap': True, 'ccp_alpha': 0.0, 'class_w...</td>\n      <td>Run_1</td>\n      <td>COMPAS_Without_Sensitive_Attributes</td>\n      <td>50</td>\n      <td>1</td>\n      <td>OK</td>\n      <td>2023-07-12 21:33:35.335</td>\n      <td>...</td>\n      <td>0.000000</td>\n      <td>0.489362</td>\n      <td>1.000000</td>\n      <td>0.000000</td>\n      <td>0.638889</td>\n      <td>1.000000</td>\n      <td>0.000000</td>\n      <td>0.386667</td>\n      <td>1.000000</td>\n      <td>0.000000</td>\n    </tr>\n  </tbody>\n</table>\n<p>36 rows × 31 columns</p>\n</div>"
     },
     "execution_count": 16,
     "metadata": {},
     "output_type": "execute_result"
    }
   ],
   "source": [
    "models_metrics_dct[list(models_metrics_dct.keys())[1]]"
   ]
  },
  {
   "cell_type": "code",
   "execution_count": 17,
   "id": "9e73354b",
   "metadata": {
    "ExecuteTime": {
     "start_time": "2023-04-21T21:01:19.251155Z",
     "end_time": "2023-04-21T21:01:19.343610Z"
    }
   },
   "outputs": [],
   "source": [
    "client.close()"
   ]
  },
  {
   "cell_type": "code",
   "execution_count": 17,
   "id": "a94b000c",
   "metadata": {
    "ExecuteTime": {
     "start_time": "2023-04-21T21:01:19.324534Z",
     "end_time": "2023-04-21T21:01:19.343878Z"
    }
   },
   "outputs": [],
   "source": []
  }
 ],
 "metadata": {
  "kernelspec": {
   "display_name": "Python 3",
   "language": "python",
   "name": "python3"
  },
  "language_info": {
   "codemirror_mode": {
    "name": "ipython",
    "version": 3
   },
   "file_extension": ".py",
   "mimetype": "text/x-python",
   "name": "python",
   "nbconvert_exporter": "python",
   "pygments_lexer": "ipython3",
   "version": "3.8.5"
  },
  "vscode": {
   "interpreter": {
    "hash": "aeeedfdcfbb7d0bd7e8ae453d9cd04ee7ebd63a67f7841163d9437c8723e8c72"
   }
  }
 },
 "nbformat": 4,
 "nbformat_minor": 5
}
