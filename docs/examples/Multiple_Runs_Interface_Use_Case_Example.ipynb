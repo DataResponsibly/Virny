{
 "cells": [
  {
   "cell_type": "code",
   "execution_count": 2,
   "id": "248cbed8",
   "metadata": {},
   "outputs": [],
   "source": [
    "%matplotlib inline\n",
    "%load_ext autoreload\n",
    "%autoreload 2"
   ]
  },
  {
   "cell_type": "code",
   "execution_count": 3,
   "id": "7ec6cd08",
   "metadata": {},
   "outputs": [],
   "source": [
    "import os\n",
    "import warnings\n",
    "warnings.filterwarnings('ignore')\n",
    "os.environ[\"PYTHONWARNINGS\"] = \"ignore\""
   ]
  },
  {
   "cell_type": "code",
   "execution_count": 4,
   "id": "b8cb69f2",
   "metadata": {},
   "outputs": [
    {
     "name": "stdout",
     "output_type": "stream",
     "text": [
      "Current location:  /home/denys_herasymuk/UCU/4course_2term/Bachelor_Thesis/Code/Virny\n"
     ]
    }
   ],
   "source": [
    "cur_folder_name = os.getcwd().split('/')[-1]\n",
    "if cur_folder_name != \"fairness-variance\":\n",
    "    os.chdir(\"../..\")\n",
    "\n",
    "print('Current location: ', os.getcwd())"
   ]
  },
  {
   "cell_type": "markdown",
   "id": "a578f2ab",
   "metadata": {},
   "source": [
    "# Multiple Runs Interface Usage"
   ]
  },
  {
   "cell_type": "markdown",
   "id": "2251a923",
   "metadata": {},
   "source": [
    "In this example, we are going to audit 4 models for stability and fairness, visualize metrics, and create an analysis report. To get better analysis accuracy, we will use `compute_metrics_multiple_runs` interface that will make multiple runs per model. For that, we will need to do next steps:\n",
    "\n",
    "* Initialize input variables\n",
    "\n",
    "* Compute subgroup metrics\n",
    "\n",
    "* Make group metrics composition\n",
    "\n",
    "* Create metrics visualizations and an analysis report"
   ]
  },
  {
   "cell_type": "markdown",
   "id": "606df34d",
   "metadata": {},
   "source": [
    "## Import dependencies"
   ]
  },
  {
   "cell_type": "code",
   "execution_count": 5,
   "id": "7a9241de",
   "metadata": {},
   "outputs": [],
   "source": [
    "import os\n",
    "import pandas as pd\n",
    "from datetime import datetime, timezone\n",
    "\n",
    "from xgboost import XGBClassifier\n",
    "from sklearn.linear_model import LogisticRegression\n",
    "from sklearn.tree import DecisionTreeClassifier\n",
    "from sklearn.ensemble import RandomForestClassifier\n",
    "\n",
    "from virny.user_interfaces.metrics_computation_interfaces import compute_metrics_multiple_runs\n",
    "from virny.utils.custom_initializers import create_config_obj, read_model_metric_dfs\n",
    "from virny.custom_classes.metrics_visualizer import MetricsVisualizer\n",
    "from virny.custom_classes.metrics_composer import MetricsComposer\n",
    "from virny.custom_classes.base_dataset import BaseDataset"
   ]
  },
  {
   "cell_type": "markdown",
   "id": "75699f5f",
   "metadata": {},
   "source": [
    "## Initialize Input Variables"
   ]
  },
  {
   "cell_type": "markdown",
   "id": "e86f6556",
   "metadata": {},
   "source": [
    "Based on the library flow, we need to create 3 input objects for a user interface:\n",
    "\n",
    "* A **dataset class** that is a wrapper above the user’s raw dataset that includes its descriptive attributes like a target column, numerical columns, categorical columns, etc. This class must be inherited from the BaseDataset class, which was created for user convenience.\n",
    "\n",
    "* A **config yaml** that is a file with configuration parameters for different user interfaces for metrics computation.\n",
    "\n",
    "* Finally, a **models config** that is a Python dictionary, where keys are model names and values are initialized models for analysis. This dictionary helps conduct audits of multiple models for one or multiple runs and analyze different types of models."
   ]
  },
  {
   "cell_type": "markdown",
   "id": "74f57422",
   "metadata": {},
   "source": [
    "### Create a Dataset class"
   ]
  },
  {
   "cell_type": "markdown",
   "id": "eed149cd",
   "metadata": {},
   "source": [
    "Based on the BaseDataset class, your **dataset class** should include the following attributes:\n",
    "* **Obligatory attributes**: dataset, target, features, numerical_columns, categorical_columns\n",
    "\n",
    "* **Optional attributes**: X_data, y_data, columns_with_nulls\n",
    "\n",
    "For more details, please refer to the library documentation."
   ]
  },
  {
   "cell_type": "code",
   "execution_count": 6,
   "id": "9e3d7bf3",
   "metadata": {},
   "outputs": [],
   "source": [
    "class CompasWithoutSensitiveAttrsDataset(BaseDataset):\n",
    "    \"\"\"\n",
    "    Dataset class for COMPAS dataset that does not contain sensitive attributes among feature columns\n",
    "     to test blind classifiers\n",
    "\n",
    "    Parameters\n",
    "    ----------\n",
    "    dataset_path\n",
    "        Path to a dataset file\n",
    "\n",
    "    \"\"\"\n",
    "    def __init__(self, dataset_path: str):\n",
    "        # Read a dataset\n",
    "        df = pd.read_csv(dataset_path)\n",
    "\n",
    "        # Initial data types transformation\n",
    "        int_columns = ['recidivism', 'age', 'age_cat_25 - 45', 'age_cat_Greater than 45',\n",
    "                       'age_cat_Less than 25', 'c_charge_degree_F', 'c_charge_degree_M', 'sex']\n",
    "        int_columns_dct = {col: \"int\" for col in int_columns}\n",
    "        df = df.astype(int_columns_dct)\n",
    "\n",
    "        # Define params\n",
    "        target = 'recidivism'\n",
    "        numerical_columns = ['juv_fel_count', 'juv_misd_count', 'juv_other_count','priors_count']\n",
    "        categorical_columns = ['age_cat_25 - 45', 'age_cat_Greater than 45','age_cat_Less than 25',\n",
    "                                    'c_charge_degree_F', 'c_charge_degree_M']\n",
    "        features = numerical_columns + categorical_columns\n",
    "\n",
    "        super().__init__(\n",
    "            pandas_df=df,\n",
    "            features=features,\n",
    "            target=target,\n",
    "            numerical_columns=numerical_columns,\n",
    "            categorical_columns=categorical_columns\n",
    "        )"
   ]
  },
  {
   "cell_type": "code",
   "execution_count": 7,
   "id": "6c55c6a0",
   "metadata": {},
   "outputs": [
    {
     "data": {
      "text/plain": "   juv_fel_count  juv_misd_count  juv_other_count  priors_count  \\\n0            0.0       -2.340451              1.0    -15.010999   \n1            0.0        0.000000              0.0      0.000000   \n2            0.0        0.000000              0.0      0.000000   \n3            0.0        0.000000              0.0      6.000000   \n4            0.0        0.000000              0.0      7.513697   \n\n   age_cat_25 - 45  age_cat_Greater than 45  \n0                1                        0  \n1                1                        0  \n2                0                        0  \n3                1                        0  \n4                1                        0  ",
      "text/html": "<div>\n<style scoped>\n    .dataframe tbody tr th:only-of-type {\n        vertical-align: middle;\n    }\n\n    .dataframe tbody tr th {\n        vertical-align: top;\n    }\n\n    .dataframe thead th {\n        text-align: right;\n    }\n</style>\n<table border=\"1\" class=\"dataframe\">\n  <thead>\n    <tr style=\"text-align: right;\">\n      <th></th>\n      <th>juv_fel_count</th>\n      <th>juv_misd_count</th>\n      <th>juv_other_count</th>\n      <th>priors_count</th>\n      <th>age_cat_25 - 45</th>\n      <th>age_cat_Greater than 45</th>\n    </tr>\n  </thead>\n  <tbody>\n    <tr>\n      <th>0</th>\n      <td>0.0</td>\n      <td>-2.340451</td>\n      <td>1.0</td>\n      <td>-15.010999</td>\n      <td>1</td>\n      <td>0</td>\n    </tr>\n    <tr>\n      <th>1</th>\n      <td>0.0</td>\n      <td>0.000000</td>\n      <td>0.0</td>\n      <td>0.000000</td>\n      <td>1</td>\n      <td>0</td>\n    </tr>\n    <tr>\n      <th>2</th>\n      <td>0.0</td>\n      <td>0.000000</td>\n      <td>0.0</td>\n      <td>0.000000</td>\n      <td>0</td>\n      <td>0</td>\n    </tr>\n    <tr>\n      <th>3</th>\n      <td>0.0</td>\n      <td>0.000000</td>\n      <td>0.0</td>\n      <td>6.000000</td>\n      <td>1</td>\n      <td>0</td>\n    </tr>\n    <tr>\n      <th>4</th>\n      <td>0.0</td>\n      <td>0.000000</td>\n      <td>0.0</td>\n      <td>7.513697</td>\n      <td>1</td>\n      <td>0</td>\n    </tr>\n  </tbody>\n</table>\n</div>"
     },
     "execution_count": 7,
     "metadata": {},
     "output_type": "execute_result"
    }
   ],
   "source": [
    "dataset = CompasWithoutSensitiveAttrsDataset(dataset_path=os.path.join('virny', 'data', 'COMPAS.csv'))\n",
    "dataset.X_data[dataset.X_data.columns[:6]].head()"
   ]
  },
  {
   "cell_type": "markdown",
   "id": "95f15603",
   "metadata": {},
   "source": [
    "### Create a config object"
   ]
  },
  {
   "cell_type": "markdown",
   "id": "c4c2a2a9",
   "metadata": {},
   "source": [
    "`compute_metrics_multiple_runs` interface requires that your **yaml file** includes the following parameters:\n",
    "\n",
    "* **dataset_name**: a name of your dataset; it will be used to name files with metrics.\n",
    "\n",
    "* **test_set_fraction**: the fraction from the whole dataset in the range [0.0 - 1.0] to create a test set.\n",
    "\n",
    "* **bootstrap_fraction**: the fraction from a train set in the range [0.0 - 1.0] to fit models in bootstrap (usually more than 0.5).\n",
    "\n",
    "* **n_estimators**: the number of estimators for bootstrap to compute subgroup variance metrics.\n",
    "\n",
    "* **runs_seed_lst**: a list of seeds for each run; the number of runs is derived based on the length of this list. For example, if your runs_seed_lst is [100, 200], this means that for the first run, the interface will use 100 seed, and the code logic will increment this seed for each model (101 for the first model in models_config, 102 for the second model, etc.).\n",
    "\n",
    "* **sensitive_attributes_dct**: a dictionary where keys are sensitive attribute names (including attribute intersections), and values are privileged values for these attributes. Currently, the library supports only intersections among two sensitive attributes. Intersectional attributes must include '&' between sensitive attributes. You do not need to specify privileged values for intersectional groups since they will be derived from privileged values in sensitive_attributes_dct for each separate sensitive attribute in this intersectional pair.\n"
   ]
  },
  {
   "cell_type": "code",
   "execution_count": 8,
   "id": "61860fd1",
   "metadata": {},
   "outputs": [],
   "source": [
    "ROOT_DIR = os.path.join('docs', 'examples')\n",
    "config_yaml_path = os.path.join(ROOT_DIR, 'experiment_compas_config.yaml')\n",
    "config_yaml_content = \"\"\"\n",
    "dataset_name: COMPAS_Without_Sensitive_Attributes\n",
    "test_set_fraction: 0.2\n",
    "bootstrap_fraction: 0.8\n",
    "n_estimators: 100\n",
    "#runs_seed_lst: [100, 200, 300, 400, 500, 600]\n",
    "runs_seed_lst: [100]\n",
    "sensitive_attributes_dct: {'sex': 0, 'race': 'Caucasian', 'sex&race': None}\n",
    "\"\"\"\n",
    "\n",
    "with open(config_yaml_path, 'w', encoding='utf-8') as f:\n",
    "    f.write(config_yaml_content)"
   ]
  },
  {
   "cell_type": "code",
   "execution_count": 9,
   "id": "71d8f24a",
   "metadata": {},
   "outputs": [],
   "source": [
    "config = create_config_obj(config_yaml_path=config_yaml_path)\n",
    "# TODO: delete 'results' before this notebook execution\n",
    "SAVE_RESULTS_DIR_PATH = os.path.join(ROOT_DIR, 'results',\n",
    "                                     f'{config.dataset_name}_Metrics_{datetime.now(timezone.utc).strftime(\"%Y%m%d__%H%M%S\")}')"
   ]
  },
  {
   "cell_type": "markdown",
   "id": "d42b81d1",
   "metadata": {},
   "source": [
    "### Create a models config"
   ]
  },
  {
   "cell_type": "markdown",
   "id": "3deeecfa",
   "metadata": {},
   "source": [
    "**models_config** is a Python dictionary, where keys are model names and values are initialized models for analysis"
   ]
  },
  {
   "cell_type": "code",
   "execution_count": 10,
   "id": "b995b73b",
   "metadata": {},
   "outputs": [],
   "source": [
    "models_config = {\n",
    "    'DecisionTreeClassifier': DecisionTreeClassifier(criterion='gini',\n",
    "                                                     max_depth=20,\n",
    "                                                     max_features=0.6,\n",
    "                                                     min_samples_split=0.1),\n",
    "    'LogisticRegression': LogisticRegression(C=1,\n",
    "                                             max_iter=50,\n",
    "                                             penalty='l2',\n",
    "                                             solver='newton-cg'),\n",
    "#     'RandomForestClassifier': RandomForestClassifier(max_depth=4,\n",
    "#                                                      max_features=0.6,\n",
    "#                                                      min_samples_leaf=1,\n",
    "#                                                      n_estimators=50),\n",
    "#     'XGBClassifier': XGBClassifier(learning_rate=0.1,\n",
    "#                                    max_depth=5,\n",
    "#                                    n_estimators=20),\n",
    "}"
   ]
  },
  {
   "cell_type": "markdown",
   "id": "f445b64a",
   "metadata": {},
   "source": [
    "## Subgroup Metrics Computation"
   ]
  },
  {
   "cell_type": "markdown",
   "id": "c3530f06",
   "metadata": {},
   "source": [
    "After the variables are input to a user interface, the interface creates a **generic pipeline** based on the input dataset class to hide preprocessing complexity and provide handy attributes and methods for different types of model analysis. Later this generic pipeline is used in subgroup analyzers that compute different sets of metrics. As for now, our library supports **Subgroup Variance Analyzer** and **Subgroup Statistical Bias Analyzer**, but it is easily extensible to any other analyzers. When the variance and bias analyzers complete metrics computation, their metrics are combined, returned in a matrix format, and stored in a file if defined."
   ]
  },
  {
   "cell_type": "code",
   "execution_count": 11,
   "id": "197eadaa",
   "metadata": {},
   "outputs": [
    {
     "data": {
      "text/plain": "Multiple runs progress:   0%|          | 0/1 [00:00<?, ?it/s]",
      "application/vnd.jupyter.widget-view+json": {
       "version_major": 2,
       "version_minor": 0,
       "model_id": "d1bdf30873694de79e18ce49a5828f36"
      }
     },
     "metadata": {},
     "output_type": "display_data"
    },
    {
     "data": {
      "text/plain": "Analyze models in one run:   0%|          | 0/2 [00:00<?, ?it/s]",
      "application/vnd.jupyter.widget-view+json": {
       "version_major": 2,
       "version_minor": 0,
       "model_id": "dee3c07dc8264a929742fe4ed3916223"
      }
     },
     "metadata": {},
     "output_type": "display_data"
    },
    {
     "name": "stdout",
     "output_type": "stream",
     "text": [
      "##############################  [Model 1 / 2] Analyze DecisionTreeClassifier  ##############################\n",
      "Model random_state:  101\n",
      "Baseline X_train shape:  (4222, 9)\n",
      "Baseline X_test shape:  (1056, 9)\n",
      "\n",
      "\n"
     ]
    },
    {
     "name": "stderr",
     "output_type": "stream",
     "text": [
      "2023-02-02 11:48:25 abstract_overall_variance_analyzer.py INFO    : Start classifiers testing by bootstrap\n"
     ]
    },
    {
     "data": {
      "text/plain": "Classifiers testing by bootstrap:   0%|          | 0/100 [00:00<?, ?it/s]",
      "application/vnd.jupyter.widget-view+json": {
       "version_major": 2,
       "version_minor": 0,
       "model_id": "ac928852fe994d20a16cfdc6c66dbcd2"
      }
     },
     "metadata": {},
     "output_type": "display_data"
    },
    {
     "name": "stdout",
     "output_type": "stream",
     "text": [
      "\n",
      "\n"
     ]
    },
    {
     "name": "stderr",
     "output_type": "stream",
     "text": [
      "2023-02-02 11:48:26 abstract_overall_variance_analyzer.py INFO    : Successfully tested classifiers by bootstrap\n",
      "2023-02-02 11:48:28 abstract_overall_variance_analyzer.py INFO    : Successfully computed predict proba metrics\n"
     ]
    },
    {
     "name": "stdout",
     "output_type": "stream",
     "text": [
      "\n",
      "\n",
      "\n",
      "\n",
      "##############################  [Model 2 / 2] Analyze LogisticRegression  ##############################\n",
      "Model random_state:  102\n",
      "Baseline X_train shape:  (4222, 9)\n",
      "Baseline X_test shape:  (1056, 9)\n",
      "\n",
      "\n"
     ]
    },
    {
     "name": "stderr",
     "output_type": "stream",
     "text": [
      "2023-02-02 11:48:34 abstract_overall_variance_analyzer.py INFO    : Start classifiers testing by bootstrap\n"
     ]
    },
    {
     "data": {
      "text/plain": "Classifiers testing by bootstrap:   0%|          | 0/100 [00:00<?, ?it/s]",
      "application/vnd.jupyter.widget-view+json": {
       "version_major": 2,
       "version_minor": 0,
       "model_id": "75d324a2f1104e4a96297ac891bda99b"
      }
     },
     "metadata": {},
     "output_type": "display_data"
    },
    {
     "name": "stdout",
     "output_type": "stream",
     "text": [
      "\n",
      "\n"
     ]
    },
    {
     "name": "stderr",
     "output_type": "stream",
     "text": [
      "2023-02-02 11:48:38 abstract_overall_variance_analyzer.py INFO    : Successfully tested classifiers by bootstrap\n",
      "2023-02-02 11:48:41 abstract_overall_variance_analyzer.py INFO    : Successfully computed predict proba metrics\n"
     ]
    },
    {
     "name": "stdout",
     "output_type": "stream",
     "text": [
      "\n",
      "\n",
      "\n",
      "\n"
     ]
    }
   ],
   "source": [
    "multiple_run_metrics_dct = compute_metrics_multiple_runs(dataset, config, models_config, SAVE_RESULTS_DIR_PATH, debug_mode=False)"
   ]
  },
  {
   "cell_type": "markdown",
   "id": "d6a8625a",
   "metadata": {},
   "source": [
    "Look at several columns in top rows of computed metrics"
   ]
  },
  {
   "cell_type": "code",
   "execution_count": 12,
   "id": "bea94683",
   "metadata": {},
   "outputs": [
    {
     "data": {
      "text/plain": "                 Metric   overall  sex_priv   sex_dis  race_priv  race_dis\n0                  Mean  0.527167  0.565160  0.518345   0.591202  0.483697\n1                   Std  0.072034  0.080399  0.070091   0.071393  0.072469\n2                   IQR  0.085493  0.093574  0.083616   0.089052  0.083076\n3               Entropy  0.000000  0.214731  0.000000   0.000000  0.200901\n4                Jitter  0.116760  0.136509  0.112175   0.106162  0.123955\n5   Per_Sample_Accuracy  0.666004  0.681206  0.662474   0.659742  0.670254\n6       Label_Stability  0.844621  0.811256  0.852369   0.854286  0.838060\n7                   TPR  0.624230  0.557143  0.635492   0.459119  0.704268\n8                   TNR  0.727592  0.751938  0.720455   0.794776  0.667774\n9                   PPV  0.662309  0.549296  0.682990   0.570312  0.697885\n10                  FNR  0.375770  0.442857  0.364508   0.540881  0.295732\n11                  FPR  0.272408  0.248062  0.279545   0.205224  0.332226\n12             Accuracy  0.679924  0.683417  0.679113   0.669789  0.686804\n13                   F1  0.642706  0.553191  0.658385   0.508711  0.701062\n14       Selection-Rate  0.434659  0.356784  0.452742   0.299766  0.526232\n15        Positive-Rate  0.942505  1.014286  0.930456   0.805031  1.009146",
      "text/html": "<div>\n<style scoped>\n    .dataframe tbody tr th:only-of-type {\n        vertical-align: middle;\n    }\n\n    .dataframe tbody tr th {\n        vertical-align: top;\n    }\n\n    .dataframe thead th {\n        text-align: right;\n    }\n</style>\n<table border=\"1\" class=\"dataframe\">\n  <thead>\n    <tr style=\"text-align: right;\">\n      <th></th>\n      <th>Metric</th>\n      <th>overall</th>\n      <th>sex_priv</th>\n      <th>sex_dis</th>\n      <th>race_priv</th>\n      <th>race_dis</th>\n    </tr>\n  </thead>\n  <tbody>\n    <tr>\n      <th>0</th>\n      <td>Mean</td>\n      <td>0.527167</td>\n      <td>0.565160</td>\n      <td>0.518345</td>\n      <td>0.591202</td>\n      <td>0.483697</td>\n    </tr>\n    <tr>\n      <th>1</th>\n      <td>Std</td>\n      <td>0.072034</td>\n      <td>0.080399</td>\n      <td>0.070091</td>\n      <td>0.071393</td>\n      <td>0.072469</td>\n    </tr>\n    <tr>\n      <th>2</th>\n      <td>IQR</td>\n      <td>0.085493</td>\n      <td>0.093574</td>\n      <td>0.083616</td>\n      <td>0.089052</td>\n      <td>0.083076</td>\n    </tr>\n    <tr>\n      <th>3</th>\n      <td>Entropy</td>\n      <td>0.000000</td>\n      <td>0.214731</td>\n      <td>0.000000</td>\n      <td>0.000000</td>\n      <td>0.200901</td>\n    </tr>\n    <tr>\n      <th>4</th>\n      <td>Jitter</td>\n      <td>0.116760</td>\n      <td>0.136509</td>\n      <td>0.112175</td>\n      <td>0.106162</td>\n      <td>0.123955</td>\n    </tr>\n    <tr>\n      <th>5</th>\n      <td>Per_Sample_Accuracy</td>\n      <td>0.666004</td>\n      <td>0.681206</td>\n      <td>0.662474</td>\n      <td>0.659742</td>\n      <td>0.670254</td>\n    </tr>\n    <tr>\n      <th>6</th>\n      <td>Label_Stability</td>\n      <td>0.844621</td>\n      <td>0.811256</td>\n      <td>0.852369</td>\n      <td>0.854286</td>\n      <td>0.838060</td>\n    </tr>\n    <tr>\n      <th>7</th>\n      <td>TPR</td>\n      <td>0.624230</td>\n      <td>0.557143</td>\n      <td>0.635492</td>\n      <td>0.459119</td>\n      <td>0.704268</td>\n    </tr>\n    <tr>\n      <th>8</th>\n      <td>TNR</td>\n      <td>0.727592</td>\n      <td>0.751938</td>\n      <td>0.720455</td>\n      <td>0.794776</td>\n      <td>0.667774</td>\n    </tr>\n    <tr>\n      <th>9</th>\n      <td>PPV</td>\n      <td>0.662309</td>\n      <td>0.549296</td>\n      <td>0.682990</td>\n      <td>0.570312</td>\n      <td>0.697885</td>\n    </tr>\n    <tr>\n      <th>10</th>\n      <td>FNR</td>\n      <td>0.375770</td>\n      <td>0.442857</td>\n      <td>0.364508</td>\n      <td>0.540881</td>\n      <td>0.295732</td>\n    </tr>\n    <tr>\n      <th>11</th>\n      <td>FPR</td>\n      <td>0.272408</td>\n      <td>0.248062</td>\n      <td>0.279545</td>\n      <td>0.205224</td>\n      <td>0.332226</td>\n    </tr>\n    <tr>\n      <th>12</th>\n      <td>Accuracy</td>\n      <td>0.679924</td>\n      <td>0.683417</td>\n      <td>0.679113</td>\n      <td>0.669789</td>\n      <td>0.686804</td>\n    </tr>\n    <tr>\n      <th>13</th>\n      <td>F1</td>\n      <td>0.642706</td>\n      <td>0.553191</td>\n      <td>0.658385</td>\n      <td>0.508711</td>\n      <td>0.701062</td>\n    </tr>\n    <tr>\n      <th>14</th>\n      <td>Selection-Rate</td>\n      <td>0.434659</td>\n      <td>0.356784</td>\n      <td>0.452742</td>\n      <td>0.299766</td>\n      <td>0.526232</td>\n    </tr>\n    <tr>\n      <th>15</th>\n      <td>Positive-Rate</td>\n      <td>0.942505</td>\n      <td>1.014286</td>\n      <td>0.930456</td>\n      <td>0.805031</td>\n      <td>1.009146</td>\n    </tr>\n  </tbody>\n</table>\n</div>"
     },
     "execution_count": 12,
     "metadata": {},
     "output_type": "execute_result"
    }
   ],
   "source": [
    "sample_model_metrics_df = multiple_run_metrics_dct[list(models_config.keys())[0]]\n",
    "sample_model_metrics_df[sample_model_metrics_df.columns[:6]].head(20)"
   ]
  },
  {
   "cell_type": "markdown",
   "id": "a7ff67e9",
   "metadata": {},
   "source": [
    "## Group Metrics Composition"
   ]
  },
  {
   "cell_type": "markdown",
   "id": "274c97e2",
   "metadata": {},
   "source": [
    "**Metrics Composer** is responsible for this second stage of the model audit. Currently, it computes our custom group statistical bias and variance metrics, but extending it for new group metrics is very simple. We noticed that more and more group metrics have appeared during the last decade, but most of them are based on the same subgroup metrics. Hence, such a separation of subgroup and group metrics computation allows one to experiment with different combinations of subgroup metrics and avoid subgroup metrics recomputation for a new set of grouped metrics."
   ]
  },
  {
   "cell_type": "code",
   "execution_count": 13,
   "id": "f94a20dc",
   "metadata": {},
   "outputs": [],
   "source": [
    "models_metrics_dct = read_model_metric_dfs(SAVE_RESULTS_DIR_PATH, model_names=list(models_config.keys()))"
   ]
  },
  {
   "cell_type": "code",
   "execution_count": 14,
   "id": "b04d06cf",
   "metadata": {},
   "outputs": [],
   "source": [
    "metrics_composer = MetricsComposer(models_metrics_dct, config.sensitive_attributes_dct)"
   ]
  },
  {
   "cell_type": "markdown",
   "id": "e1a23ece",
   "metadata": {},
   "source": [
    "Compute composed metrics"
   ]
  },
  {
   "cell_type": "code",
   "execution_count": 15,
   "id": "be6ace22",
   "metadata": {},
   "outputs": [],
   "source": [
    "models_composed_metrics_df = metrics_composer.compose_metrics()"
   ]
  },
  {
   "cell_type": "markdown",
   "id": "deb45226",
   "metadata": {},
   "source": [
    "## Metrics Visualization and Reporting"
   ]
  },
  {
   "cell_type": "markdown",
   "id": "2f5d4cdb",
   "metadata": {},
   "source": [
    "**Metrics Visualizer** provides metrics visualization and reporting functionality. It unifies different preprocessing methods for result metrics and creates various data formats required for visualizations. Hence, users can simply call methods of the Metrics Visualizer class and get custom plots for diverse metrics analysis. Additionally, these plots could be collected in an HTML report with comments for user convenience and future reference."
   ]
  },
  {
   "cell_type": "code",
   "execution_count": 16,
   "id": "435b9d98",
   "metadata": {},
   "outputs": [],
   "source": [
    "visualizer = MetricsVisualizer(models_metrics_dct, models_composed_metrics_df, config.dataset_name,\n",
    "                               model_names=list(models_config.keys()),\n",
    "                               sensitive_attributes_dct=config.sensitive_attributes_dct)"
   ]
  },
  {
   "cell_type": "code",
   "execution_count": 17,
   "id": "e5ff61ce",
   "metadata": {},
   "outputs": [
    {
     "data": {
      "text/plain": "<Figure size 1122.38x900 with 1 Axes>",
      "image/png": "[encoded data removed]"
     },
     "metadata": {},
     "output_type": "display_data"
    }
   ],
   "source": [
    "visualizer.visualize_overall_metrics(\n",
    "    metrics_names=['TPR', 'PPV', 'Accuracy', 'F1', 'Selection-Rate',\n",
    "                   'Per_Sample_Accuracy', 'Label_Stability'],\n",
    "    reversed_metrics_names=['Std', 'IQR', 'Jitter'],\n",
    "    x_label=\"Overall Metrics\"\n",
    ")"
   ]
  },
  {
   "cell_type": "code",
   "execution_count": 174,
   "id": "3ec25ba6",
   "metadata": {},
   "outputs": [
    {
     "data": {
      "image/png": "[encoded data removed]",
      "text/plain": [
       "<Figure size 1500x1000 with 1 Axes>"
      ]
     },
     "metadata": {},
     "output_type": "display_data"
    }
   ],
   "source": [
    "visualizer.create_boxes_and_whiskers_for_models_multiple_runs(metrics_lst=['Std', 'IQR', 'Jitter', 'FNR','FPR'])"
   ]
  },
  {
   "cell_type": "markdown",
   "id": "21f9cd9c",
   "metadata": {},
   "source": [
    "Below is an example of an interactive plot. It requires that you run the below cell in Jupyter in the browser.\n",
    "\n",
    "You can use this plot to compare any pair of bias and variance metrics for all models."
   ]
  },
  {
   "cell_type": "code",
   "execution_count": 1,
   "id": "1a127a11",
   "metadata": {},
   "outputs": [],
   "source": [
    "# visualizer.create_bias_variance_interactive_bar_chart()"
   ]
  },
  {
   "cell_type": "markdown",
   "id": "55e6ce42",
   "metadata": {},
   "source": [
    "Create an analysis report. It includes correspondent visualizations and explanations for your result metrics."
   ]
  },
  {
   "cell_type": "code",
   "execution_count": 175,
   "id": "5a3811ff",
   "metadata": {},
   "outputs": [
    {
     "data": {
      "text/markdown": [
       "App saved to ./docs/examples/results/reports/Statistical_Bias_and_Variance_Report_20230201__202044.html"
      ],
      "text/plain": [
       "<IPython.core.display.Markdown object>"
      ]
     },
     "metadata": {},
     "output_type": "display_data"
    }
   ],
   "source": [
    "visualizer.create_html_report(report_save_path=os.path.join(ROOT_DIR, \"results\", \"reports\"))"
   ]
  },
  {
   "cell_type": "code",
   "execution_count": null,
   "outputs": [],
   "source": [],
   "metadata": {
    "collapsed": false
   }
  }
 ],
 "metadata": {
  "kernelspec": {
   "display_name": "Python 3 (ipykernel)",
   "language": "python",
   "name": "python3"
  },
  "language_info": {
   "codemirror_mode": {
    "name": "ipython",
    "version": 3
   },
   "file_extension": ".py",
   "mimetype": "text/x-python",
   "name": "python",
   "nbconvert_exporter": "python",
   "pygments_lexer": "ipython3",
   "version": "3.8.10"
  }
 },
 "nbformat": 4,
 "nbformat_minor": 5
}
