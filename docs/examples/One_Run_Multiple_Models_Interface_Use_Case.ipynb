{
 "cells": [
  {
   "cell_type": "code",
   "execution_count": 1,
   "id": "248cbed8",
   "metadata": {},
   "outputs": [],
   "source": [
    "%matplotlib inline\n",
    "%load_ext autoreload\n",
    "%autoreload 2"
   ]
  },
  {
   "cell_type": "code",
   "execution_count": 2,
   "id": "7ec6cd08",
   "metadata": {},
   "outputs": [],
   "source": [
    "import os\n",
    "import warnings\n",
    "warnings.filterwarnings('ignore')\n",
    "os.environ[\"PYTHONWARNINGS\"] = \"ignore\""
   ]
  },
  {
   "cell_type": "code",
   "execution_count": 3,
   "id": "b8cb69f2",
   "metadata": {},
   "outputs": [
    {
     "name": "stdout",
     "output_type": "stream",
     "text": [
      "Current location:  /home/denys_herasymuk/UCU/4course_2term/Bachelor_Thesis/Code/Virny\n"
     ]
    }
   ],
   "source": [
    "cur_folder_name = os.getcwd().split('/')[-1]\n",
    "if cur_folder_name != \"Virny\":\n",
    "    os.chdir(\"../..\")\n",
    "\n",
    "print('Current location: ', os.getcwd())"
   ]
  },
  {
   "cell_type": "markdown",
   "id": "a578f2ab",
   "metadata": {},
   "source": [
    "# One Run Multiple Models Interface Usage"
   ]
  },
  {
   "cell_type": "markdown",
   "id": "2251a923",
   "metadata": {},
   "source": [
    "In this example, we are going to audit 4 models for stability and fairness, visualize metrics, and create an analysis report. To get better analysis accuracy, we will use `run_metrics_computation_with_config` interface that will make multiple runs per model. For that, we will need to do next steps:\n",
    "\n",
    "* Initialize input variables\n",
    "\n",
    "* Compute subgroup metrics\n",
    "\n",
    "* Make group metrics composition\n",
    "\n",
    "* Create metrics visualizations and an analysis report"
   ]
  },
  {
   "cell_type": "markdown",
   "id": "606df34d",
   "metadata": {},
   "source": [
    "## Import dependencies"
   ]
  },
  {
   "cell_type": "code",
   "execution_count": 33,
   "id": "7a9241de",
   "metadata": {},
   "outputs": [],
   "source": [
    "import os\n",
    "import pandas as pd\n",
    "from datetime import datetime, timezone\n",
    "\n",
    "from xgboost import XGBClassifier\n",
    "from sklearn.linear_model import LogisticRegression\n",
    "from sklearn.tree import DecisionTreeClassifier\n",
    "from sklearn.ensemble import RandomForestClassifier\n",
    "\n",
    "from virny.user_interfaces.metrics_computation_interfaces import run_metrics_computation_with_config\n",
    "from virny.utils.custom_initializers import create_config_obj, read_model_metric_dfs\n",
    "from virny.custom_classes.metrics_visualizer import MetricsVisualizer\n",
    "from virny.custom_classes.metrics_composer import MetricsComposer\n",
    "from virny.custom_classes.base_dataset import BaseDataset\n",
    "from virny.configs.constants import ReportType"
   ]
  },
  {
   "cell_type": "markdown",
   "id": "75699f5f",
   "metadata": {},
   "source": [
    "## Initialize Input Variables"
   ]
  },
  {
   "cell_type": "markdown",
   "id": "e86f6556",
   "metadata": {},
   "source": [
    "Based on the library flow, we need to create 3 input objects for a user interface:\n",
    "\n",
    "* A **dataset class** that is a wrapper above the user’s raw dataset that includes its descriptive attributes like a target column, numerical columns, categorical columns, etc. This class must be inherited from the BaseDataset class, which was created for user convenience.\n",
    "\n",
    "* A **config yaml** that is a file with configuration parameters for different user interfaces for metrics computation.\n",
    "\n",
    "* Finally, a **models config** that is a Python dictionary, where keys are model names and values are initialized models for analysis. This dictionary helps conduct audits of multiple models for one or multiple runs and analyze different types of models."
   ]
  },
  {
   "cell_type": "markdown",
   "id": "74f57422",
   "metadata": {},
   "source": [
    "### Create a Dataset class"
   ]
  },
  {
   "cell_type": "markdown",
   "id": "eed149cd",
   "metadata": {},
   "source": [
    "Based on the BaseDataset class, your **dataset class** should include the following attributes:\n",
    "* **Obligatory attributes**: dataset, target, features, numerical_columns, categorical_columns\n",
    "\n",
    "* **Optional attributes**: X_data, y_data, columns_with_nulls\n",
    "\n",
    "For more details, please refer to the library documentation."
   ]
  },
  {
   "cell_type": "code",
   "execution_count": 18,
   "id": "9e3d7bf3",
   "metadata": {},
   "outputs": [],
   "source": [
    "class CompasDataset(BaseDataset):\n",
    "    \"\"\"\n",
    "    Dataset class for COMPAS dataset that contains sensitive attributes among feature columns.\n",
    "\n",
    "    Parameters\n",
    "    ----------\n",
    "    dataset_path\n",
    "        Path to a dataset file\n",
    "\n",
    "    \"\"\"\n",
    "    def __init__(self, dataset_path: str):\n",
    "        df = pd.read_csv(dataset_path)\n",
    "\n",
    "        int_columns = ['recidivism', 'age', 'age_cat_25 - 45', 'age_cat_Greater than 45',\n",
    "                       'age_cat_Less than 25', 'c_charge_degree_F', 'c_charge_degree_M', 'sex']\n",
    "        int_columns_dct = {col: \"int\" for col in int_columns}\n",
    "        df = df.astype(int_columns_dct)\n",
    "\n",
    "        target = 'recidivism'\n",
    "        numerical_columns = ['age', 'juv_fel_count', 'juv_misd_count', 'juv_other_count', 'priors_count']\n",
    "        categorical_columns = ['race', 'age_cat_25 - 45', 'age_cat_Greater than 45',\n",
    "                               'age_cat_Less than 25', 'c_charge_degree_F', 'c_charge_degree_M', 'sex']\n",
    "        features = numerical_columns + categorical_columns\n",
    "\n",
    "        super().__init__(\n",
    "            pandas_df=df,\n",
    "            features=features,\n",
    "            target=target,\n",
    "            numerical_columns=numerical_columns,\n",
    "            categorical_columns=categorical_columns,\n",
    "        )"
   ]
  },
  {
   "cell_type": "code",
   "execution_count": 19,
   "id": "6c55c6a0",
   "metadata": {},
   "outputs": [
    {
     "data": {
      "text/plain": "   age  juv_fel_count  juv_misd_count  juv_other_count  priors_count  \\\n0   25            0.0       -2.340451              1.0    -15.010999   \n1   26            0.0        0.000000              0.0      0.000000   \n2   21            0.0        0.000000              0.0      0.000000   \n3   29            0.0        0.000000              0.0      6.000000   \n4   40            0.0        0.000000              0.0      7.513697   \n\n               race  \n0  African-American  \n1         Caucasian  \n2         Caucasian  \n3  African-American  \n4         Caucasian  ",
      "text/html": "<div>\n<style scoped>\n    .dataframe tbody tr th:only-of-type {\n        vertical-align: middle;\n    }\n\n    .dataframe tbody tr th {\n        vertical-align: top;\n    }\n\n    .dataframe thead th {\n        text-align: right;\n    }\n</style>\n<table border=\"1\" class=\"dataframe\">\n  <thead>\n    <tr style=\"text-align: right;\">\n      <th></th>\n      <th>age</th>\n      <th>juv_fel_count</th>\n      <th>juv_misd_count</th>\n      <th>juv_other_count</th>\n      <th>priors_count</th>\n      <th>race</th>\n    </tr>\n  </thead>\n  <tbody>\n    <tr>\n      <th>0</th>\n      <td>25</td>\n      <td>0.0</td>\n      <td>-2.340451</td>\n      <td>1.0</td>\n      <td>-15.010999</td>\n      <td>African-American</td>\n    </tr>\n    <tr>\n      <th>1</th>\n      <td>26</td>\n      <td>0.0</td>\n      <td>0.000000</td>\n      <td>0.0</td>\n      <td>0.000000</td>\n      <td>Caucasian</td>\n    </tr>\n    <tr>\n      <th>2</th>\n      <td>21</td>\n      <td>0.0</td>\n      <td>0.000000</td>\n      <td>0.0</td>\n      <td>0.000000</td>\n      <td>Caucasian</td>\n    </tr>\n    <tr>\n      <th>3</th>\n      <td>29</td>\n      <td>0.0</td>\n      <td>0.000000</td>\n      <td>0.0</td>\n      <td>6.000000</td>\n      <td>African-American</td>\n    </tr>\n    <tr>\n      <th>4</th>\n      <td>40</td>\n      <td>0.0</td>\n      <td>0.000000</td>\n      <td>0.0</td>\n      <td>7.513697</td>\n      <td>Caucasian</td>\n    </tr>\n  </tbody>\n</table>\n</div>"
     },
     "execution_count": 19,
     "metadata": {},
     "output_type": "execute_result"
    }
   ],
   "source": [
    "dataset = CompasDataset(dataset_path=os.path.join('virny', 'datasets', 'COMPAS.csv'))\n",
    "dataset.X_data[dataset.X_data.columns[:6]].head()"
   ]
  },
  {
   "cell_type": "markdown",
   "id": "95f15603",
   "metadata": {},
   "source": [
    "### Create a config object"
   ]
  },
  {
   "cell_type": "markdown",
   "id": "c4c2a2a9",
   "metadata": {},
   "source": [
    "`run_metrics_computation_with_config` interface requires that your **yaml file** includes the following parameters:\n",
    "\n",
    "* **dataset_name**: a name of your dataset; it will be used to name files with metrics.\n",
    "\n",
    "* **test_set_fraction**: the fraction from the whole dataset in the range [0.0 - 1.0] to create a test set.\n",
    "\n",
    "* **bootstrap_fraction**: the fraction from a train set in the range [0.0 - 1.0] to fit models in bootstrap (usually more than 0.5).\n",
    "\n",
    "* **n_estimators**: the number of estimators for bootstrap to compute subgroup variance metrics.\n",
    "\n",
    "* **runs_seed_lst**: a list of seeds for each run; the number of runs is derived based on the length of this list. For example, if your runs_seed_lst is [100, 200], this means that for the first run, the interface will use 100 seed, and the code logic will increment this seed for each model (101 for the first model in models_config, 102 for the second model, etc.).\n",
    "\n",
    "* **sensitive_attributes_dct**: a dictionary where keys are sensitive attribute names (including attribute intersections), and values are privileged values for these attributes. Currently, the library supports only intersections among two sensitive attributes. Intersectional attributes must include '&' between sensitive attributes. You do not need to specify privileged values for intersectional groups since they will be derived from privileged values in sensitive_attributes_dct for each separate sensitive attribute in this intersectional pair.\n"
   ]
  },
  {
   "cell_type": "code",
   "execution_count": 20,
   "id": "61860fd1",
   "metadata": {},
   "outputs": [],
   "source": [
    "ROOT_DIR = os.path.join('docs', 'examples')\n",
    "config_yaml_path = os.path.join(ROOT_DIR, 'experiment_compas_config.yaml')\n",
    "config_yaml_content = \"\"\"\n",
    "dataset_name: COMPAS\n",
    "test_set_fraction: 0.2\n",
    "bootstrap_fraction: 0.8\n",
    "n_estimators: 100\n",
    "sensitive_attributes_dct: {'sex': 0, 'race': 'Caucasian', 'sex&race': None}\n",
    "\"\"\"\n",
    "\n",
    "with open(config_yaml_path, 'w', encoding='utf-8') as f:\n",
    "    f.write(config_yaml_content)"
   ]
  },
  {
   "cell_type": "code",
   "execution_count": 21,
   "id": "71d8f24a",
   "metadata": {},
   "outputs": [],
   "source": [
    "config = create_config_obj(config_yaml_path=config_yaml_path)\n",
    "# TODO: delete 'results' before this notebook execution\n",
    "\n",
    "# TODO: test 5 models\n",
    "SAVE_RESULTS_DIR_PATH = os.path.join(ROOT_DIR, 'results',\n",
    "                                     f'{config.dataset_name}_Metrics_{datetime.now(timezone.utc).strftime(\"%Y%m%d__%H%M%S\")}')"
   ]
  },
  {
   "cell_type": "markdown",
   "id": "d42b81d1",
   "metadata": {},
   "source": [
    "### Create a models config"
   ]
  },
  {
   "cell_type": "markdown",
   "id": "3deeecfa",
   "metadata": {},
   "source": [
    "**models_config** is a Python dictionary, where keys are model names and values are initialized models for analysis"
   ]
  },
  {
   "cell_type": "code",
   "execution_count": 22,
   "id": "b995b73b",
   "metadata": {},
   "outputs": [],
   "source": [
    "models_config = {\n",
    "    'DecisionTreeClassifier': DecisionTreeClassifier(criterion='gini',\n",
    "                                                     max_depth=20,\n",
    "                                                     max_features=0.6,\n",
    "                                                     min_samples_split=0.1),\n",
    "    'LogisticRegression': LogisticRegression(C=1,\n",
    "                                             max_iter=50,\n",
    "                                             penalty='l2',\n",
    "                                             solver='newton-cg'),\n",
    "#     'RandomForestClassifier': RandomForestClassifier(max_depth=4,\n",
    "#                                                      max_features=0.6,\n",
    "#                                                      min_samples_leaf=1,\n",
    "#                                                      n_estimators=50),\n",
    "#     'XGBClassifier': XGBClassifier(learning_rate=0.1,\n",
    "#                                    max_depth=5,\n",
    "#                                    n_estimators=20),\n",
    "}"
   ]
  },
  {
   "cell_type": "markdown",
   "id": "f445b64a",
   "metadata": {},
   "source": [
    "## Subgroup Metrics Computation"
   ]
  },
  {
   "cell_type": "markdown",
   "id": "c3530f06",
   "metadata": {},
   "source": [
    "After the variables are input to a user interface, the interface creates a **generic pipeline** based on the input dataset class to hide preprocessing complexity and provide handy attributes and methods for different types of model analysis. Later this generic pipeline is used in subgroup analyzers that compute different sets of metrics. As for now, our library supports **Subgroup Variance Analyzer** and **Subgroup Statistical Bias Analyzer**, but it is easily extensible to any other analyzers. When the variance and bias analyzers complete metrics computation, their metrics are combined, returned in a matrix format, and stored in a file if defined."
   ]
  },
  {
   "cell_type": "code",
   "execution_count": 23,
   "id": "197eadaa",
   "metadata": {},
   "outputs": [
    {
     "data": {
      "text/plain": "Analyze models in one run:   0%|          | 0/2 [00:00<?, ?it/s]",
      "application/vnd.jupyter.widget-view+json": {
       "version_major": 2,
       "version_minor": 0,
       "model_id": "03a4910ea7dc439f9d25b48709b17395"
      }
     },
     "metadata": {},
     "output_type": "display_data"
    },
    {
     "name": "stdout",
     "output_type": "stream",
     "text": [
      "##############################  [Model 1 / 2] Analyze DecisionTreeClassifier  ##############################\n",
      "Model random_state:  652\n",
      "Baseline X_train shape:  (4222, 12)\n",
      "Baseline X_test shape:  (1056, 12)\n",
      "\n",
      "\n"
     ]
    },
    {
     "name": "stderr",
     "output_type": "stream",
     "text": [
      "2023-02-02 12:46:47 abstract_overall_variance_analyzer.py INFO    : Start classifiers testing by bootstrap\n"
     ]
    },
    {
     "data": {
      "text/plain": "Classifiers testing by bootstrap:   0%|          | 0/100 [00:00<?, ?it/s]",
      "application/vnd.jupyter.widget-view+json": {
       "version_major": 2,
       "version_minor": 0,
       "model_id": "c266c4d80f774fef9bfd749c544addc6"
      }
     },
     "metadata": {},
     "output_type": "display_data"
    },
    {
     "name": "stdout",
     "output_type": "stream",
     "text": [
      "\n",
      "\n"
     ]
    },
    {
     "name": "stderr",
     "output_type": "stream",
     "text": [
      "2023-02-02 12:46:47 abstract_overall_variance_analyzer.py INFO    : Successfully tested classifiers by bootstrap\n",
      "2023-02-02 12:46:50 abstract_overall_variance_analyzer.py INFO    : Successfully computed predict proba metrics\n"
     ]
    },
    {
     "name": "stdout",
     "output_type": "stream",
     "text": [
      "\n",
      "\n",
      "\n",
      "\n",
      "##############################  [Model 2 / 2] Analyze LogisticRegression  ##############################\n",
      "Model random_state:  653\n",
      "Baseline X_train shape:  (4222, 12)\n",
      "Baseline X_test shape:  (1056, 12)\n",
      "\n",
      "\n"
     ]
    },
    {
     "name": "stderr",
     "output_type": "stream",
     "text": [
      "2023-02-02 12:46:55 abstract_overall_variance_analyzer.py INFO    : Start classifiers testing by bootstrap\n"
     ]
    },
    {
     "data": {
      "text/plain": "Classifiers testing by bootstrap:   0%|          | 0/100 [00:00<?, ?it/s]",
      "application/vnd.jupyter.widget-view+json": {
       "version_major": 2,
       "version_minor": 0,
       "model_id": "7ac79aaed40343b69836d3166dcd7f7a"
      }
     },
     "metadata": {},
     "output_type": "display_data"
    },
    {
     "name": "stdout",
     "output_type": "stream",
     "text": [
      "\n",
      "\n"
     ]
    },
    {
     "name": "stderr",
     "output_type": "stream",
     "text": [
      "2023-02-02 12:46:58 abstract_overall_variance_analyzer.py INFO    : Successfully tested classifiers by bootstrap\n",
      "2023-02-02 12:47:00 abstract_overall_variance_analyzer.py INFO    : Successfully computed predict proba metrics\n"
     ]
    },
    {
     "name": "stdout",
     "output_type": "stream",
     "text": [
      "\n",
      "\n",
      "\n",
      "\n"
     ]
    }
   ],
   "source": [
    "subgroup_metrics_dct = run_metrics_computation_with_config(dataset, config, models_config, SAVE_RESULTS_DIR_PATH)"
   ]
  },
  {
   "cell_type": "markdown",
   "id": "d6a8625a",
   "metadata": {},
   "source": [
    "Look at several columns in top rows of computed metrics"
   ]
  },
  {
   "cell_type": "code",
   "execution_count": 24,
   "id": "bea94683",
   "metadata": {},
   "outputs": [
    {
     "data": {
      "text/plain": "                 Metric   overall  sex_priv   sex_dis  race_priv  race_dis\n0                  Mean  0.520361  0.584853  0.502702   0.600694  0.471180\n1                   Std  0.095816  0.108234  0.092415   0.092157  0.098056\n2                   IQR  0.124709  0.146045  0.118866   0.120969  0.126999\n3               Entropy  0.259691  0.000000  0.255675   0.000000  0.269280\n4                Jitter  0.166510  0.180292  0.162736   0.158829  0.171212\n5   Per_Sample_Accuracy  0.679943  0.686300  0.678203   0.707905  0.662824\n6       Label_Stability  0.765833  0.735771  0.774065   0.770623  0.762901\n7                   TPR  0.670732  0.552632  0.692308   0.544828  0.723343\n8                   TNR  0.730496  0.794702  0.707022   0.843750  0.636364\n9                   PPV  0.684647  0.575342  0.704156   0.663866  0.691460\n10                  FNR  0.329268  0.447368  0.307692   0.455172  0.276657\n11                  FPR  0.269504  0.205298  0.292978   0.156250  0.363636\n12             Accuracy  0.702652  0.713656  0.699638   0.735661  0.682443\n13                   F1  0.677618  0.563758  0.698182   0.598485  0.707042\n14       Selection-Rate  0.456439  0.321586  0.493366   0.296758  0.554198\n15        Positive-Rate  0.979675  0.960526  0.983173   0.820690  1.046110",
      "text/html": "<div>\n<style scoped>\n    .dataframe tbody tr th:only-of-type {\n        vertical-align: middle;\n    }\n\n    .dataframe tbody tr th {\n        vertical-align: top;\n    }\n\n    .dataframe thead th {\n        text-align: right;\n    }\n</style>\n<table border=\"1\" class=\"dataframe\">\n  <thead>\n    <tr style=\"text-align: right;\">\n      <th></th>\n      <th>Metric</th>\n      <th>overall</th>\n      <th>sex_priv</th>\n      <th>sex_dis</th>\n      <th>race_priv</th>\n      <th>race_dis</th>\n    </tr>\n  </thead>\n  <tbody>\n    <tr>\n      <th>0</th>\n      <td>Mean</td>\n      <td>0.520361</td>\n      <td>0.584853</td>\n      <td>0.502702</td>\n      <td>0.600694</td>\n      <td>0.471180</td>\n    </tr>\n    <tr>\n      <th>1</th>\n      <td>Std</td>\n      <td>0.095816</td>\n      <td>0.108234</td>\n      <td>0.092415</td>\n      <td>0.092157</td>\n      <td>0.098056</td>\n    </tr>\n    <tr>\n      <th>2</th>\n      <td>IQR</td>\n      <td>0.124709</td>\n      <td>0.146045</td>\n      <td>0.118866</td>\n      <td>0.120969</td>\n      <td>0.126999</td>\n    </tr>\n    <tr>\n      <th>3</th>\n      <td>Entropy</td>\n      <td>0.259691</td>\n      <td>0.000000</td>\n      <td>0.255675</td>\n      <td>0.000000</td>\n      <td>0.269280</td>\n    </tr>\n    <tr>\n      <th>4</th>\n      <td>Jitter</td>\n      <td>0.166510</td>\n      <td>0.180292</td>\n      <td>0.162736</td>\n      <td>0.158829</td>\n      <td>0.171212</td>\n    </tr>\n    <tr>\n      <th>5</th>\n      <td>Per_Sample_Accuracy</td>\n      <td>0.679943</td>\n      <td>0.686300</td>\n      <td>0.678203</td>\n      <td>0.707905</td>\n      <td>0.662824</td>\n    </tr>\n    <tr>\n      <th>6</th>\n      <td>Label_Stability</td>\n      <td>0.765833</td>\n      <td>0.735771</td>\n      <td>0.774065</td>\n      <td>0.770623</td>\n      <td>0.762901</td>\n    </tr>\n    <tr>\n      <th>7</th>\n      <td>TPR</td>\n      <td>0.670732</td>\n      <td>0.552632</td>\n      <td>0.692308</td>\n      <td>0.544828</td>\n      <td>0.723343</td>\n    </tr>\n    <tr>\n      <th>8</th>\n      <td>TNR</td>\n      <td>0.730496</td>\n      <td>0.794702</td>\n      <td>0.707022</td>\n      <td>0.843750</td>\n      <td>0.636364</td>\n    </tr>\n    <tr>\n      <th>9</th>\n      <td>PPV</td>\n      <td>0.684647</td>\n      <td>0.575342</td>\n      <td>0.704156</td>\n      <td>0.663866</td>\n      <td>0.691460</td>\n    </tr>\n    <tr>\n      <th>10</th>\n      <td>FNR</td>\n      <td>0.329268</td>\n      <td>0.447368</td>\n      <td>0.307692</td>\n      <td>0.455172</td>\n      <td>0.276657</td>\n    </tr>\n    <tr>\n      <th>11</th>\n      <td>FPR</td>\n      <td>0.269504</td>\n      <td>0.205298</td>\n      <td>0.292978</td>\n      <td>0.156250</td>\n      <td>0.363636</td>\n    </tr>\n    <tr>\n      <th>12</th>\n      <td>Accuracy</td>\n      <td>0.702652</td>\n      <td>0.713656</td>\n      <td>0.699638</td>\n      <td>0.735661</td>\n      <td>0.682443</td>\n    </tr>\n    <tr>\n      <th>13</th>\n      <td>F1</td>\n      <td>0.677618</td>\n      <td>0.563758</td>\n      <td>0.698182</td>\n      <td>0.598485</td>\n      <td>0.707042</td>\n    </tr>\n    <tr>\n      <th>14</th>\n      <td>Selection-Rate</td>\n      <td>0.456439</td>\n      <td>0.321586</td>\n      <td>0.493366</td>\n      <td>0.296758</td>\n      <td>0.554198</td>\n    </tr>\n    <tr>\n      <th>15</th>\n      <td>Positive-Rate</td>\n      <td>0.979675</td>\n      <td>0.960526</td>\n      <td>0.983173</td>\n      <td>0.820690</td>\n      <td>1.046110</td>\n    </tr>\n  </tbody>\n</table>\n</div>"
     },
     "execution_count": 24,
     "metadata": {},
     "output_type": "execute_result"
    }
   ],
   "source": [
    "sample_model_metrics_df = subgroup_metrics_dct[list(models_config.keys())[0]]\n",
    "sample_model_metrics_df[sample_model_metrics_df.columns[:6]].head(20)"
   ]
  },
  {
   "cell_type": "markdown",
   "id": "a7ff67e9",
   "metadata": {},
   "source": [
    "## Group Metrics Composition"
   ]
  },
  {
   "cell_type": "markdown",
   "id": "274c97e2",
   "metadata": {},
   "source": [
    "**Metrics Composer** is responsible for this second stage of the model audit. Currently, it computes our custom group statistical bias and variance metrics, but extending it for new group metrics is very simple. We noticed that more and more group metrics have appeared during the last decade, but most of them are based on the same subgroup metrics. Hence, such a separation of subgroup and group metrics computation allows one to experiment with different combinations of subgroup metrics and avoid subgroup metrics recomputation for a new set of grouped metrics."
   ]
  },
  {
   "cell_type": "code",
   "execution_count": 25,
   "id": "f94a20dc",
   "metadata": {},
   "outputs": [],
   "source": [
    "models_metrics_dct = read_model_metric_dfs(SAVE_RESULTS_DIR_PATH, model_names=list(models_config.keys()))"
   ]
  },
  {
   "cell_type": "code",
   "execution_count": 26,
   "id": "b04d06cf",
   "metadata": {},
   "outputs": [],
   "source": [
    "metrics_composer = MetricsComposer(models_metrics_dct, config.sensitive_attributes_dct)"
   ]
  },
  {
   "cell_type": "markdown",
   "id": "e1a23ece",
   "metadata": {},
   "source": [
    "Compute composed metrics"
   ]
  },
  {
   "cell_type": "code",
   "execution_count": 27,
   "id": "be6ace22",
   "metadata": {},
   "outputs": [],
   "source": [
    "models_composed_metrics_df = metrics_composer.compose_metrics()"
   ]
  },
  {
   "cell_type": "markdown",
   "id": "deb45226",
   "metadata": {},
   "source": [
    "## Metrics Visualization and Reporting"
   ]
  },
  {
   "cell_type": "markdown",
   "id": "2f5d4cdb",
   "metadata": {},
   "source": [
    "**Metrics Visualizer** provides metrics visualization and reporting functionality. It unifies different preprocessing methods for result metrics and creates various data formats required for visualizations. Hence, users can simply call methods of the Metrics Visualizer class and get custom plots for diverse metrics analysis. Additionally, these plots could be collected in an HTML report with comments for user convenience and future reference."
   ]
  },
  {
   "cell_type": "code",
   "execution_count": 28,
   "id": "435b9d98",
   "metadata": {},
   "outputs": [],
   "source": [
    "visualizer = MetricsVisualizer(models_metrics_dct, models_composed_metrics_df, config.dataset_name,\n",
    "                               model_names=list(models_config.keys()),\n",
    "                               sensitive_attributes_dct=config.sensitive_attributes_dct)"
   ]
  },
  {
   "cell_type": "code",
   "execution_count": 29,
   "id": "e5ff61ce",
   "metadata": {},
   "outputs": [
    {
     "data": {
      "text/plain": "<Figure size 1122.38x900 with 1 Axes>",
      "image/png": "[encoded data removed]"
     },
     "metadata": {},
     "output_type": "display_data"
    }
   ],
   "source": [
    "visualizer.visualize_overall_metrics(\n",
    "    metrics_names=['TPR', 'PPV', 'Accuracy', 'F1', 'Selection-Rate',\n",
    "                   'Per_Sample_Accuracy', 'Label_Stability'],\n",
    "    reversed_metrics_names=['Std', 'IQR', 'Jitter'],\n",
    "    x_label=\"Overall Metrics\"\n",
    ")"
   ]
  },
  {
   "cell_type": "markdown",
   "id": "21f9cd9c",
   "metadata": {},
   "source": [
    "Below is an example of an interactive plot. It requires that you run the below cell in Jupyter in the browser.\n",
    "\n",
    "You can use this plot to compare any pair of bias and variance metrics for all models."
   ]
  },
  {
   "cell_type": "code",
   "execution_count": 30,
   "id": "1a127a11",
   "metadata": {},
   "outputs": [],
   "source": [
    "# visualizer.create_bias_variance_interactive_bar_chart()"
   ]
  },
  {
   "cell_type": "markdown",
   "id": "55e6ce42",
   "metadata": {},
   "source": [
    "Create an analysis report. It includes correspondent visualizations and explanations for your result metrics."
   ]
  },
  {
   "cell_type": "code",
   "execution_count": 34,
   "id": "5a3811ff",
   "metadata": {},
   "outputs": [
    {
     "data": {
      "text/plain": "<IPython.core.display.Markdown object>",
      "text/markdown": "App saved to ./docs/examples/results/reports/COMPAS_Metrics_Report_20230202__105644.html"
     },
     "metadata": {},
     "output_type": "display_data"
    }
   ],
   "source": [
    "visualizer.create_html_report(report_type=ReportType.ONE_RUN_MULTIPLE_MODELS,\n",
    "                              dataset_name=config.dataset_name,\n",
    "                              report_save_path=os.path.join(ROOT_DIR, \"results\", \"reports\"))"
   ]
  },
  {
   "cell_type": "code",
   "execution_count": null,
   "outputs": [],
   "source": [],
   "metadata": {
    "collapsed": false
   }
  }
 ],
 "metadata": {
  "kernelspec": {
   "display_name": "Python 3 (ipykernel)",
   "language": "python",
   "name": "python3"
  },
  "language_info": {
   "codemirror_mode": {
    "name": "ipython",
    "version": 3
   },
   "file_extension": ".py",
   "mimetype": "text/x-python",
   "name": "python",
   "nbconvert_exporter": "python",
   "pygments_lexer": "ipython3",
   "version": "3.8.10"
  }
 },
 "nbformat": 4,
 "nbformat_minor": 5
}
