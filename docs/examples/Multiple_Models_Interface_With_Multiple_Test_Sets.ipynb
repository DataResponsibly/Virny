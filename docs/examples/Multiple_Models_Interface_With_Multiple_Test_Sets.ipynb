{
 "cells": [
  {
   "cell_type": "code",
   "execution_count": 1,
   "id": "68ae1475",
   "metadata": {
    "ExecuteTime": {
     "start_time": "2023-04-21T21:00:33.013441Z",
     "end_time": "2023-04-21T21:00:33.188847Z"
    }
   },
   "outputs": [],
   "source": [
    "%matplotlib inline\n",
    "%load_ext autoreload\n",
    "%autoreload 2"
   ]
  },
  {
   "cell_type": "code",
   "execution_count": 2,
   "id": "9a1a7163",
   "metadata": {
    "ExecuteTime": {
     "start_time": "2023-04-21T21:00:33.046406Z",
     "end_time": "2023-04-21T21:00:33.192071Z"
    }
   },
   "outputs": [],
   "source": [
    "import os\n",
    "import warnings\n",
    "warnings.filterwarnings('ignore')\n",
    "os.environ[\"PYTHONWARNINGS\"] = \"ignore\""
   ]
  },
  {
   "cell_type": "markdown",
   "id": "3dd0d321",
   "metadata": {},
   "source": [
    "# Multiple Models Interface For Multiple Test Sets"
   ]
  },
  {
   "cell_type": "markdown",
   "id": "8b3e85da",
   "metadata": {},
   "source": [
    "In this example, we are going to audit 2 models for stability and fairness, visualize metrics, and create an analysis report. To get better analysis accuracy, we will use `compute_metrics_multiple_runs_with_multiple_test_sets` interface that will run metric computation for multiple models and test each model using multiple test sets."
   ]
  },
  {
   "cell_type": "markdown",
   "id": "ae19ca31",
   "metadata": {},
   "source": [
    "## Import dependencies"
   ]
  },
  {
   "cell_type": "code",
   "execution_count": 3,
   "id": "dec1f3f0",
   "metadata": {
    "ExecuteTime": {
     "start_time": "2023-04-21T21:00:33.065923Z",
     "end_time": "2023-04-21T21:00:33.203135Z"
    }
   },
   "outputs": [],
   "source": [
    "import os\n",
    "import pandas as pd\n",
    "\n",
    "from sklearn.ensemble import RandomForestClassifier\n",
    "from sklearn.tree import DecisionTreeClassifier\n",
    "\n",
    "from sklearn.compose import ColumnTransformer\n",
    "from sklearn.preprocessing import OneHotEncoder\n",
    "from sklearn.preprocessing import StandardScaler\n",
    "\n",
    "from virny.user_interfaces.metrics_computation_interfaces import compute_metrics_multiple_runs_with_multiple_test_sets\n",
    "from virny.utils.custom_initializers import create_config_obj, create_models_metrics_dct_from_database_df\n",
    "from virny.preprocessing.basic_preprocessing import preprocess_dataset\n",
    "from virny.datasets.data_loaders import CompasWithoutSensitiveAttrsDataset"
   ]
  },
  {
   "cell_type": "markdown",
   "id": "ae7d088c",
   "metadata": {},
   "source": [
    "## Initialize Input Variables"
   ]
  },
  {
   "cell_type": "markdown",
   "id": "bb167839",
   "metadata": {},
   "source": [
    "Based on the library flow, we need to create 3 input objects for a user interface:\n",
    "\n",
    "* A **dataset class** that is a wrapper above the user’s raw dataset that includes its descriptive attributes like a target column, numerical columns, categorical columns, etc. This class must be inherited from the BaseDataset class, which was created for user convenience.\n",
    "\n",
    "* A **config yaml** that is a file with configuration parameters for different user interfaces for metrics computation.\n",
    "\n",
    "* Finally, a **models config** that is a Python dictionary, where keys are model names and values are initialized models for analysis. This dictionary helps conduct audits of multiple models and analyze different types of models."
   ]
  },
  {
   "cell_type": "code",
   "execution_count": 4,
   "outputs": [],
   "source": [
    "TEST_SET_FRACTION = 0.2\n",
    "DATASET_SPLIT_SEED = 42"
   ],
   "metadata": {
    "collapsed": false,
    "ExecuteTime": {
     "start_time": "2023-04-21T21:00:33.090649Z",
     "end_time": "2023-04-21T21:00:33.209423Z"
    }
   }
  },
  {
   "cell_type": "markdown",
   "id": "4b21d920",
   "metadata": {},
   "source": [
    "### Create a Dataset class"
   ]
  },
  {
   "cell_type": "markdown",
   "id": "57b42644",
   "metadata": {},
   "source": [
    "Based on the BaseDataset class, your **dataset class** should include the following attributes:\n",
    "\n",
    "* **Obligatory attributes**: dataset, target, features, numerical_columns, categorical_columns\n",
    "\n",
    "* **Optional attributes**: X_data, y_data, columns_with_nulls\n",
    "\n",
    "For more details, please refer to the library documentation."
   ]
  },
  {
   "cell_type": "code",
   "execution_count": 5,
   "id": "30a74059",
   "metadata": {
    "ExecuteTime": {
     "start_time": "2023-04-21T21:00:33.104210Z",
     "end_time": "2023-04-21T21:00:33.248129Z"
    }
   },
   "outputs": [
    {
     "data": {
      "text/plain": "   juv_fel_count  juv_misd_count  juv_other_count  priors_count  \\\n0            0.0       -2.340451              1.0    -15.010999   \n1            0.0        0.000000              0.0      0.000000   \n2            0.0        0.000000              0.0      0.000000   \n3            0.0        0.000000              0.0      6.000000   \n4            0.0        0.000000              0.0      7.513697   \n\n   age_cat_25 - 45  \n0                1  \n1                1  \n2                0  \n3                1  \n4                1  ",
      "text/html": "<div>\n<style scoped>\n    .dataframe tbody tr th:only-of-type {\n        vertical-align: middle;\n    }\n\n    .dataframe tbody tr th {\n        vertical-align: top;\n    }\n\n    .dataframe thead th {\n        text-align: right;\n    }\n</style>\n<table border=\"1\" class=\"dataframe\">\n  <thead>\n    <tr style=\"text-align: right;\">\n      <th></th>\n      <th>juv_fel_count</th>\n      <th>juv_misd_count</th>\n      <th>juv_other_count</th>\n      <th>priors_count</th>\n      <th>age_cat_25 - 45</th>\n    </tr>\n  </thead>\n  <tbody>\n    <tr>\n      <th>0</th>\n      <td>0.0</td>\n      <td>-2.340451</td>\n      <td>1.0</td>\n      <td>-15.010999</td>\n      <td>1</td>\n    </tr>\n    <tr>\n      <th>1</th>\n      <td>0.0</td>\n      <td>0.000000</td>\n      <td>0.0</td>\n      <td>0.000000</td>\n      <td>1</td>\n    </tr>\n    <tr>\n      <th>2</th>\n      <td>0.0</td>\n      <td>0.000000</td>\n      <td>0.0</td>\n      <td>0.000000</td>\n      <td>0</td>\n    </tr>\n    <tr>\n      <th>3</th>\n      <td>0.0</td>\n      <td>0.000000</td>\n      <td>0.0</td>\n      <td>6.000000</td>\n      <td>1</td>\n    </tr>\n    <tr>\n      <th>4</th>\n      <td>0.0</td>\n      <td>0.000000</td>\n      <td>0.0</td>\n      <td>7.513697</td>\n      <td>1</td>\n    </tr>\n  </tbody>\n</table>\n</div>"
     },
     "execution_count": 5,
     "metadata": {},
     "output_type": "execute_result"
    }
   ],
   "source": [
    "data_loader = CompasWithoutSensitiveAttrsDataset()\n",
    "data_loader.X_data[data_loader.X_data.columns[:5]].head()"
   ]
  },
  {
   "cell_type": "code",
   "execution_count": 6,
   "outputs": [],
   "source": [
    "column_transformer = ColumnTransformer(transformers=[\n",
    "    ('categorical_features', OneHotEncoder(handle_unknown='ignore', sparse=False), data_loader.categorical_columns),\n",
    "    ('numerical_features', StandardScaler(), data_loader.numerical_columns),\n",
    "])"
   ],
   "metadata": {
    "collapsed": false,
    "ExecuteTime": {
     "start_time": "2023-04-21T21:00:33.178231Z",
     "end_time": "2023-04-21T21:00:33.248529Z"
    }
   }
  },
  {
   "cell_type": "code",
   "execution_count": 7,
   "outputs": [],
   "source": [
    "base_flow_dataset = preprocess_dataset(data_loader, column_transformer, TEST_SET_FRACTION, DATASET_SPLIT_SEED)"
   ],
   "metadata": {
    "collapsed": false,
    "ExecuteTime": {
     "start_time": "2023-04-21T21:00:33.178397Z",
     "end_time": "2023-04-21T21:00:33.290936Z"
    }
   }
  },
  {
   "cell_type": "markdown",
   "id": "d22f31eb",
   "metadata": {},
   "source": [
    "### Create a config object"
   ]
  },
  {
   "cell_type": "markdown",
   "id": "2ab8dda3",
   "metadata": {},
   "source": [
    "`compute_metrics_multiple_runs_with_multiple_test_sets` interface requires that your **yaml file** includes the following parameters:\n",
    "\n",
    "* **dataset_name**: str, a name of your dataset; it will be used to name files with metrics.\n",
    "\n",
    "* **bootstrap_fraction**: float, the fraction from a train set in the range [0.0 - 1.0] to fit models in bootstrap (usually more than 0.5).\n",
    "\n",
    "* **n_estimators**: int, the number of estimators for bootstrap to compute subgroup variance metrics.\n",
    "\n",
    "* **sensitive_attributes_dct**: dict, a dictionary where keys are sensitive attribute names (including attribute intersections), and values are privileged values for these attributes. Currently, the library supports only intersections among two sensitive attributes. Intersectional attributes must include '&' between sensitive attributes. You do not need to specify privileged values for intersectional groups since they will be derived from privileged values in sensitive_attributes_dct for each separate sensitive attribute in this intersectional pair.\n"
   ]
  },
  {
   "cell_type": "code",
   "execution_count": 8,
   "id": "79dcac74",
   "metadata": {
    "ExecuteTime": {
     "start_time": "2023-04-21T21:00:33.222274Z",
     "end_time": "2023-04-21T21:00:33.298334Z"
    }
   },
   "outputs": [],
   "source": [
    "ROOT_DIR = os.getcwd()\n",
    "config_yaml_path = os.path.join(ROOT_DIR, 'experiment_config.yaml')\n",
    "config_yaml_content = \\\n",
    "\"\"\"dataset_name: COMPAS_Without_Sensitive_Attributes\n",
    "bootstrap_fraction: 0.8\n",
    "n_estimators: 50  # Better to input the higher number of estimators than 100; this is only for this use case example\n",
    "computation_mode: error_analysis\n",
    "sensitive_attributes_dct: {'sex': 1, 'race': 'African-American', 'sex&race': None}\n",
    "\"\"\"\n",
    "\n",
    "with open(config_yaml_path, 'w', encoding='utf-8') as f:\n",
    "    f.write(config_yaml_content)"
   ]
  },
  {
   "cell_type": "code",
   "execution_count": 9,
   "id": "abc8bd6f",
   "metadata": {
    "ExecuteTime": {
     "start_time": "2023-04-21T21:00:33.222617Z",
     "end_time": "2023-04-21T21:00:33.299673Z"
    }
   },
   "outputs": [],
   "source": [
    "config = create_config_obj(config_yaml_path=config_yaml_path)"
   ]
  },
  {
   "cell_type": "markdown",
   "id": "f04867aa",
   "metadata": {},
   "source": [
    "### Create a models config"
   ]
  },
  {
   "cell_type": "markdown",
   "id": "faee85f0",
   "metadata": {},
   "source": [
    "**models_config** is a Python dictionary, where keys are model names and values are initialized models for analysis"
   ]
  },
  {
   "cell_type": "code",
   "execution_count": 10,
   "id": "a711e1af",
   "metadata": {
    "ExecuteTime": {
     "start_time": "2023-04-21T21:00:33.254072Z",
     "end_time": "2023-04-21T21:00:33.316766Z"
    }
   },
   "outputs": [],
   "source": [
    "models_config = {\n",
    "    'DecisionTreeClassifier': DecisionTreeClassifier(criterion='gini',\n",
    "                                                     max_depth=20,\n",
    "                                                     max_features=0.6,\n",
    "                                                     min_samples_split=0.1),\n",
    "    'RandomForestClassifier': RandomForestClassifier(max_depth=4,\n",
    "                                                     max_features=0.6,\n",
    "                                                     min_samples_leaf=1,\n",
    "                                                     n_estimators=50),\n",
    "}"
   ]
  },
  {
   "cell_type": "markdown",
   "id": "2d6ba72b",
   "metadata": {},
   "source": [
    "## Subgroup Metrics Computation"
   ]
  },
  {
   "cell_type": "markdown",
   "id": "13404bc0",
   "metadata": {},
   "source": [
    "After the variables are input to a user interface, the interface uses subgroup analyzers to compute different sets of metrics for each privileged and disprivileged subgroup. As for now, our library supports **Subgroup Variance Analyzer** and **Subgroup Error Analyzer**, but it is easily extensible to any other analyzers. When the variance and error analyzers complete metrics computation, their metrics are combined, returned in a matrix format, and stored in a file if defined."
   ]
  },
  {
   "cell_type": "code",
   "execution_count": 11,
   "id": "899e6ab4",
   "metadata": {
    "ExecuteTime": {
     "start_time": "2023-04-21T21:00:33.276325Z",
     "end_time": "2023-04-21T21:00:33.347605Z"
    }
   },
   "outputs": [],
   "source": [
    "import os\n",
    "from dotenv import load_dotenv\n",
    "from pymongo import MongoClient\n",
    "\n",
    "\n",
    "load_dotenv(os.path.join(ROOT_DIR, 'secrets.env'))  # Take environment variables from .env\n",
    "\n",
    "# Provide the mongodb atlas url to connect python to mongodb using pymongo\n",
    "CONNECTION_STRING = os.getenv(\"CONNECTION_STRING\")\n",
    "# Create a connection using MongoClient. You can import MongoClient or use pymongo.MongoClient\n",
    "client = MongoClient(CONNECTION_STRING)\n",
    "collection = client[os.getenv(\"DB_NAME\")]['preprocessing_results']\n",
    "\n",
    "\n",
    "def db_writer_func(run_models_metrics_df, collection=collection):\n",
    "    run_models_metrics_df.columns = run_models_metrics_df.columns.str.lower()  # Rename Pandas columns to lower case\n",
    "    collection.insert_many(run_models_metrics_df.to_dict('records'))"
   ]
  },
  {
   "cell_type": "code",
   "execution_count": 12,
   "id": "db8df420",
   "metadata": {
    "ExecuteTime": {
     "start_time": "2023-04-21T21:00:33.307946Z",
     "end_time": "2023-04-21T21:00:33.374261Z"
    }
   },
   "outputs": [
    {
     "name": "stdout",
     "output_type": "stream",
     "text": [
      "Current session uuid:  b2945b06-3cbe-4e6f-80f4-8f8b8228b359\n"
     ]
    }
   ],
   "source": [
    "import uuid\n",
    "\n",
    "custom_table_fields_dct = {\n",
    "    'session_uuid': str(uuid.uuid4()),\n",
    "    'preprocessing_techniques': 'one hot encoder and scaler',\n",
    "}\n",
    "print('Current session uuid: ', custom_table_fields_dct['session_uuid'])"
   ]
  },
  {
   "cell_type": "code",
   "execution_count": 13,
   "id": "46961cf7",
   "metadata": {
    "ExecuteTime": {
     "start_time": "2023-04-21T21:00:33.337707Z",
     "end_time": "2023-04-21T21:01:18.861379Z"
    }
   },
   "outputs": [
    {
     "data": {
      "text/plain": "Analyze models in one run:   0%|          | 0/2 [00:00<?, ?it/s]",
      "application/vnd.jupyter.widget-view+json": {
       "version_major": 2,
       "version_minor": 0,
       "model_id": "9f91cc2f8c3445769f6bb5485ca87159"
      }
     },
     "metadata": {},
     "output_type": "display_data"
    },
    {
     "data": {
      "text/plain": "Classifiers testing by bootstrap:   0%|          | 0/50 [00:00<?, ?it/s]",
      "application/vnd.jupyter.widget-view+json": {
       "version_major": 2,
       "version_minor": 0,
       "model_id": "33053d252db4431eb7ca7f55c9b105ec"
      }
     },
     "metadata": {},
     "output_type": "display_data"
    },
    {
     "data": {
      "text/plain": "Classifiers testing by bootstrap:   0%|          | 0/50 [00:00<?, ?it/s]",
      "application/vnd.jupyter.widget-view+json": {
       "version_major": 2,
       "version_minor": 0,
       "model_id": "aa205a99f391414cb4d045cb554efe10"
      }
     },
     "metadata": {},
     "output_type": "display_data"
    }
   ],
   "source": [
    "extra_test_sets_lst = [(base_flow_dataset.X_test, base_flow_dataset.y_test)]\n",
    "compute_metrics_multiple_runs_with_multiple_test_sets(base_flow_dataset, extra_test_sets_lst, config, models_config,\n",
    "                                                      custom_table_fields_dct, db_writer_func)"
   ]
  },
  {
   "cell_type": "code",
   "execution_count": 14,
   "id": "180f429c",
   "metadata": {
    "ExecuteTime": {
     "start_time": "2023-04-21T21:01:18.864681Z",
     "end_time": "2023-04-21T21:01:18.906341Z"
    }
   },
   "outputs": [],
   "source": [
    "def read_model_metric_dfs_from_db(collection, session_uuid):\n",
    "    cursor = collection.find({'session_uuid': session_uuid})\n",
    "    records = []\n",
    "    for record in cursor:\n",
    "        del record['_id']\n",
    "        records.append(record)\n",
    "\n",
    "    model_metric_dfs = pd.DataFrame(records)\n",
    "\n",
    "    # Capitalize column names to be consistent across the whole library\n",
    "    new_column_names = []\n",
    "    for col in model_metric_dfs.columns:\n",
    "        new_col_name = '_'.join([c.capitalize() for c in col.split('_')])\n",
    "        new_column_names.append(new_col_name)\n",
    "\n",
    "    model_metric_dfs.columns = new_column_names\n",
    "    return model_metric_dfs"
   ]
  },
  {
   "cell_type": "code",
   "execution_count": 15,
   "id": "64a38bb0",
   "metadata": {
    "ExecuteTime": {
     "start_time": "2023-04-21T21:01:18.906230Z",
     "end_time": "2023-04-21T21:01:19.217098Z"
    }
   },
   "outputs": [],
   "source": [
    "model_metric_dfs = read_model_metric_dfs_from_db(collection, custom_table_fields_dct['session_uuid'])\n",
    "models_metrics_dct = create_models_metrics_dct_from_database_df(model_metric_dfs)"
   ]
  },
  {
   "cell_type": "code",
   "execution_count": 16,
   "id": "1c72325e",
   "metadata": {
    "ExecuteTime": {
     "start_time": "2023-04-21T21:01:48.482508Z",
     "end_time": "2023-04-21T21:01:48.526727Z"
    }
   },
   "outputs": [
    {
     "data": {
      "text/plain": "                   Metric              Model_Name  \\\n2                Accuracy  RandomForestClassifier   \n3                Accuracy  RandomForestClassifier   \n6   Aleatoric_Uncertainty  RandomForestClassifier   \n7   Aleatoric_Uncertainty  RandomForestClassifier   \n10                     F1  RandomForestClassifier   \n11                     F1  RandomForestClassifier   \n14                    FNR  RandomForestClassifier   \n15                    FNR  RandomForestClassifier   \n18                    FPR  RandomForestClassifier   \n19                    FPR  RandomForestClassifier   \n22                    IQR  RandomForestClassifier   \n23                    IQR  RandomForestClassifier   \n26                 Jitter  RandomForestClassifier   \n27                 Jitter  RandomForestClassifier   \n30        Label_Stability  RandomForestClassifier   \n31        Label_Stability  RandomForestClassifier   \n34                   Mean  RandomForestClassifier   \n35                   Mean  RandomForestClassifier   \n38    Overall_Uncertainty  RandomForestClassifier   \n39    Overall_Uncertainty  RandomForestClassifier   \n42                    PPV  RandomForestClassifier   \n43                    PPV  RandomForestClassifier   \n46    Per_Sample_Accuracy  RandomForestClassifier   \n47    Per_Sample_Accuracy  RandomForestClassifier   \n50          Positive-Rate  RandomForestClassifier   \n51          Positive-Rate  RandomForestClassifier   \n54            Sample_Size  RandomForestClassifier   \n55            Sample_Size  RandomForestClassifier   \n58         Selection-Rate  RandomForestClassifier   \n59         Selection-Rate  RandomForestClassifier   \n62       Statistical_Bias  RandomForestClassifier   \n63       Statistical_Bias  RandomForestClassifier   \n66                    Std  RandomForestClassifier   \n67                    Std  RandomForestClassifier   \n70                    TNR  RandomForestClassifier   \n71                    TNR  RandomForestClassifier   \n74                    TPR  RandomForestClassifier   \n75                    TPR  RandomForestClassifier   \n\n                                         Model_Params  \\\n2   {'bootstrap': True, 'ccp_alpha': 0.0, 'class_w...   \n3   {'bootstrap': True, 'ccp_alpha': 0.0, 'class_w...   \n6   {'bootstrap': True, 'ccp_alpha': 0.0, 'class_w...   \n7   {'bootstrap': True, 'ccp_alpha': 0.0, 'class_w...   \n10  {'bootstrap': True, 'ccp_alpha': 0.0, 'class_w...   \n11  {'bootstrap': True, 'ccp_alpha': 0.0, 'class_w...   \n14  {'bootstrap': True, 'ccp_alpha': 0.0, 'class_w...   \n15  {'bootstrap': True, 'ccp_alpha': 0.0, 'class_w...   \n18  {'bootstrap': True, 'ccp_alpha': 0.0, 'class_w...   \n19  {'bootstrap': True, 'ccp_alpha': 0.0, 'class_w...   \n22  {'bootstrap': True, 'ccp_alpha': 0.0, 'class_w...   \n23  {'bootstrap': True, 'ccp_alpha': 0.0, 'class_w...   \n26  {'bootstrap': True, 'ccp_alpha': 0.0, 'class_w...   \n27  {'bootstrap': True, 'ccp_alpha': 0.0, 'class_w...   \n30  {'bootstrap': True, 'ccp_alpha': 0.0, 'class_w...   \n31  {'bootstrap': True, 'ccp_alpha': 0.0, 'class_w...   \n34  {'bootstrap': True, 'ccp_alpha': 0.0, 'class_w...   \n35  {'bootstrap': True, 'ccp_alpha': 0.0, 'class_w...   \n38  {'bootstrap': True, 'ccp_alpha': 0.0, 'class_w...   \n39  {'bootstrap': True, 'ccp_alpha': 0.0, 'class_w...   \n42  {'bootstrap': True, 'ccp_alpha': 0.0, 'class_w...   \n43  {'bootstrap': True, 'ccp_alpha': 0.0, 'class_w...   \n46  {'bootstrap': True, 'ccp_alpha': 0.0, 'class_w...   \n47  {'bootstrap': True, 'ccp_alpha': 0.0, 'class_w...   \n50  {'bootstrap': True, 'ccp_alpha': 0.0, 'class_w...   \n51  {'bootstrap': True, 'ccp_alpha': 0.0, 'class_w...   \n54  {'bootstrap': True, 'ccp_alpha': 0.0, 'class_w...   \n55  {'bootstrap': True, 'ccp_alpha': 0.0, 'class_w...   \n58  {'bootstrap': True, 'ccp_alpha': 0.0, 'class_w...   \n59  {'bootstrap': True, 'ccp_alpha': 0.0, 'class_w...   \n62  {'bootstrap': True, 'ccp_alpha': 0.0, 'class_w...   \n63  {'bootstrap': True, 'ccp_alpha': 0.0, 'class_w...   \n66  {'bootstrap': True, 'ccp_alpha': 0.0, 'class_w...   \n67  {'bootstrap': True, 'ccp_alpha': 0.0, 'class_w...   \n70  {'bootstrap': True, 'ccp_alpha': 0.0, 'class_w...   \n71  {'bootstrap': True, 'ccp_alpha': 0.0, 'class_w...   \n74  {'bootstrap': True, 'ccp_alpha': 0.0, 'class_w...   \n75  {'bootstrap': True, 'ccp_alpha': 0.0, 'class_w...   \n\n                           Dataset_Name  Num_Estimators  Test_Set_Index Tag  \\\n2   COMPAS_Without_Sensitive_Attributes              50               0  OK   \n3   COMPAS_Without_Sensitive_Attributes              50               1  OK   \n6   COMPAS_Without_Sensitive_Attributes              50               0  OK   \n7   COMPAS_Without_Sensitive_Attributes              50               1  OK   \n10  COMPAS_Without_Sensitive_Attributes              50               0  OK   \n11  COMPAS_Without_Sensitive_Attributes              50               1  OK   \n14  COMPAS_Without_Sensitive_Attributes              50               0  OK   \n15  COMPAS_Without_Sensitive_Attributes              50               1  OK   \n18  COMPAS_Without_Sensitive_Attributes              50               0  OK   \n19  COMPAS_Without_Sensitive_Attributes              50               1  OK   \n22  COMPAS_Without_Sensitive_Attributes              50               0  OK   \n23  COMPAS_Without_Sensitive_Attributes              50               1  OK   \n26  COMPAS_Without_Sensitive_Attributes              50               0  OK   \n27  COMPAS_Without_Sensitive_Attributes              50               1  OK   \n30  COMPAS_Without_Sensitive_Attributes              50               0  OK   \n31  COMPAS_Without_Sensitive_Attributes              50               1  OK   \n34  COMPAS_Without_Sensitive_Attributes              50               0  OK   \n35  COMPAS_Without_Sensitive_Attributes              50               1  OK   \n38  COMPAS_Without_Sensitive_Attributes              50               0  OK   \n39  COMPAS_Without_Sensitive_Attributes              50               1  OK   \n42  COMPAS_Without_Sensitive_Attributes              50               0  OK   \n43  COMPAS_Without_Sensitive_Attributes              50               1  OK   \n46  COMPAS_Without_Sensitive_Attributes              50               0  OK   \n47  COMPAS_Without_Sensitive_Attributes              50               1  OK   \n50  COMPAS_Without_Sensitive_Attributes              50               0  OK   \n51  COMPAS_Without_Sensitive_Attributes              50               1  OK   \n54  COMPAS_Without_Sensitive_Attributes              50               0  OK   \n55  COMPAS_Without_Sensitive_Attributes              50               1  OK   \n58  COMPAS_Without_Sensitive_Attributes              50               0  OK   \n59  COMPAS_Without_Sensitive_Attributes              50               1  OK   \n62  COMPAS_Without_Sensitive_Attributes              50               0  OK   \n63  COMPAS_Without_Sensitive_Attributes              50               1  OK   \n66  COMPAS_Without_Sensitive_Attributes              50               0  OK   \n67  COMPAS_Without_Sensitive_Attributes              50               1  OK   \n70  COMPAS_Without_Sensitive_Attributes              50               0  OK   \n71  COMPAS_Without_Sensitive_Attributes              50               1  OK   \n74  COMPAS_Without_Sensitive_Attributes              50               0  OK   \n75  COMPAS_Without_Sensitive_Attributes              50               1  OK   \n\n   Record_Create_Date_Time                          Session_Uuid  \\\n2  2023-08-12 22:44:31.679  b2945b06-3cbe-4e6f-80f4-8f8b8228b359   \n3  2023-08-12 22:44:31.687  b2945b06-3cbe-4e6f-80f4-8f8b8228b359   \n6  2023-08-12 22:44:31.679  b2945b06-3cbe-4e6f-80f4-8f8b8228b359   \n7  2023-08-12 22:44:31.687  b2945b06-3cbe-4e6f-80f4-8f8b8228b359   \n10 2023-08-12 22:44:31.679  b2945b06-3cbe-4e6f-80f4-8f8b8228b359   \n11 2023-08-12 22:44:31.687  b2945b06-3cbe-4e6f-80f4-8f8b8228b359   \n14 2023-08-12 22:44:31.679  b2945b06-3cbe-4e6f-80f4-8f8b8228b359   \n15 2023-08-12 22:44:31.687  b2945b06-3cbe-4e6f-80f4-8f8b8228b359   \n18 2023-08-12 22:44:31.679  b2945b06-3cbe-4e6f-80f4-8f8b8228b359   \n19 2023-08-12 22:44:31.687  b2945b06-3cbe-4e6f-80f4-8f8b8228b359   \n22 2023-08-12 22:44:31.679  b2945b06-3cbe-4e6f-80f4-8f8b8228b359   \n23 2023-08-12 22:44:31.687  b2945b06-3cbe-4e6f-80f4-8f8b8228b359   \n26 2023-08-12 22:44:31.679  b2945b06-3cbe-4e6f-80f4-8f8b8228b359   \n27 2023-08-12 22:44:31.687  b2945b06-3cbe-4e6f-80f4-8f8b8228b359   \n30 2023-08-12 22:44:31.679  b2945b06-3cbe-4e6f-80f4-8f8b8228b359   \n31 2023-08-12 22:44:31.687  b2945b06-3cbe-4e6f-80f4-8f8b8228b359   \n34 2023-08-12 22:44:31.679  b2945b06-3cbe-4e6f-80f4-8f8b8228b359   \n35 2023-08-12 22:44:31.687  b2945b06-3cbe-4e6f-80f4-8f8b8228b359   \n38 2023-08-12 22:44:31.679  b2945b06-3cbe-4e6f-80f4-8f8b8228b359   \n39 2023-08-12 22:44:31.687  b2945b06-3cbe-4e6f-80f4-8f8b8228b359   \n42 2023-08-12 22:44:31.679  b2945b06-3cbe-4e6f-80f4-8f8b8228b359   \n43 2023-08-12 22:44:31.687  b2945b06-3cbe-4e6f-80f4-8f8b8228b359   \n46 2023-08-12 22:44:31.679  b2945b06-3cbe-4e6f-80f4-8f8b8228b359   \n47 2023-08-12 22:44:31.687  b2945b06-3cbe-4e6f-80f4-8f8b8228b359   \n50 2023-08-12 22:44:31.679  b2945b06-3cbe-4e6f-80f4-8f8b8228b359   \n51 2023-08-12 22:44:31.687  b2945b06-3cbe-4e6f-80f4-8f8b8228b359   \n54 2023-08-12 22:44:31.679  b2945b06-3cbe-4e6f-80f4-8f8b8228b359   \n55 2023-08-12 22:44:31.687  b2945b06-3cbe-4e6f-80f4-8f8b8228b359   \n58 2023-08-12 22:44:31.679  b2945b06-3cbe-4e6f-80f4-8f8b8228b359   \n59 2023-08-12 22:44:31.687  b2945b06-3cbe-4e6f-80f4-8f8b8228b359   \n62 2023-08-12 22:44:31.679  b2945b06-3cbe-4e6f-80f4-8f8b8228b359   \n63 2023-08-12 22:44:31.687  b2945b06-3cbe-4e6f-80f4-8f8b8228b359   \n66 2023-08-12 22:44:31.679  b2945b06-3cbe-4e6f-80f4-8f8b8228b359   \n67 2023-08-12 22:44:31.687  b2945b06-3cbe-4e6f-80f4-8f8b8228b359   \n70 2023-08-12 22:44:31.679  b2945b06-3cbe-4e6f-80f4-8f8b8228b359   \n71 2023-08-12 22:44:31.687  b2945b06-3cbe-4e6f-80f4-8f8b8228b359   \n74 2023-08-12 22:44:31.679  b2945b06-3cbe-4e6f-80f4-8f8b8228b359   \n75 2023-08-12 22:44:31.687  b2945b06-3cbe-4e6f-80f4-8f8b8228b359   \n\n      Preprocessing_Techniques  ...  sex&race_dis_incorrect  sex&race_priv  \\\n2   one hot encoder and scaler  ...                0.000000       0.699620   \n3   one hot encoder and scaler  ...                0.000000       0.699620   \n6   one hot encoder and scaler  ...                0.929348       0.907330   \n7   one hot encoder and scaler  ...                0.929348       0.907330   \n10  one hot encoder and scaler  ...                0.000000       0.556180   \n11  one hot encoder and scaler  ...                0.000000       0.556180   \n14  one hot encoder and scaler  ...                1.000000       0.473404   \n15  one hot encoder and scaler  ...                1.000000       0.473404   \n18  one hot encoder and scaler  ...                1.000000       0.204142   \n19  one hot encoder and scaler  ...                1.000000       0.204142   \n22  one hot encoder and scaler  ...                0.052814       0.051094   \n23  one hot encoder and scaler  ...                0.052814       0.051094   \n26  one hot encoder and scaler  ...                0.081988       0.068303   \n27  one hot encoder and scaler  ...                0.081988       0.068303   \n30  one hot encoder and scaler  ...                0.886211       0.908213   \n31  one hot encoder and scaler  ...                0.886211       0.908213   \n34  one hot encoder and scaler  ...                0.494911       0.575559   \n35  one hot encoder and scaler  ...                0.494911       0.575559   \n38  one hot encoder and scaler  ...                0.934697       0.912810   \n39  one hot encoder and scaler  ...                0.934697       0.912810   \n42  one hot encoder and scaler  ...                0.000000       0.589286   \n43  one hot encoder and scaler  ...                0.000000       0.589286   \n46  one hot encoder and scaler  ...                0.056894       0.698745   \n47  one hot encoder and scaler  ...                0.056894       0.698745   \n50  one hot encoder and scaler  ...                1.090909       0.893617   \n51  one hot encoder and scaler  ...                1.090909       0.893617   \n54  one hot encoder and scaler  ...              161.000000     526.000000   \n55  one hot encoder and scaler  ...              161.000000     526.000000   \n58  one hot encoder and scaler  ...                0.521739       0.319392   \n59  one hot encoder and scaler  ...                0.521739       0.319392   \n62  one hot encoder and scaler  ...                0.628785       0.423103   \n63  one hot encoder and scaler  ...                0.628785       0.423103   \n66  one hot encoder and scaler  ...                0.039192       0.038359   \n67  one hot encoder and scaler  ...                0.039192       0.038359   \n70  one hot encoder and scaler  ...                0.000000       0.795858   \n71  one hot encoder and scaler  ...                0.000000       0.795858   \n74  one hot encoder and scaler  ...                0.000000       0.526596   \n75  one hot encoder and scaler  ...                0.000000       0.526596   \n\n    sex&race_priv_correct  sex&race_priv_incorrect     sex_dis  \\\n2                1.000000                 0.000000    0.702959   \n3                1.000000                 0.000000    0.702959   \n6                0.896250                 0.933136    0.906980   \n7                0.896250                 0.933136    0.906980   \n10               1.000000                 0.000000    0.684277   \n11               1.000000                 0.000000    0.684277   \n14               0.000000                 1.000000    0.313131   \n15               0.000000                 1.000000    0.313131   \n18               0.000000                 1.000000    0.282851   \n19               0.000000                 1.000000    0.282851   \n22               0.048743                 0.056572    0.053370   \n23               0.048743                 0.056572    0.053370   \n26               0.050770                 0.109140    0.067242   \n27               0.050770                 0.109140    0.067242   \n30               0.932935                 0.850633    0.909491   \n31               0.932935                 0.850633    0.909491   \n34               0.592535                 0.536020    0.511949   \n35               0.592535                 0.536020    0.511949   \n38               0.901317                 0.939577    0.912797   \n39               0.901317                 0.939577    0.912797   \n42               1.000000                 0.000000    0.681704   \n43               1.000000                 0.000000    0.681704   \n46               0.966467                 0.075190    0.694059   \n47               0.966467                 0.075190    0.694059   \n50               1.000000                 0.775281    1.007576   \n51               1.000000                 0.775281    1.007576   \n54             368.000000               158.000000  845.000000   \n55             368.000000               158.000000  845.000000   \n58               0.269022                 0.436709    0.472189   \n59               0.269022                 0.436709    0.472189   \n62               0.338038                 0.621229    0.427138   \n63               0.338038                 0.621229    0.427138   \n66               0.036415                 0.042887    0.039661   \n67               0.036415                 0.042887    0.039661   \n70               1.000000                 0.000000    0.717149   \n71               1.000000                 0.000000    0.717149   \n74               1.000000                 0.000000    0.686869   \n75               1.000000                 0.000000    0.686869   \n\n    sex_dis_correct  sex_dis_incorrect    sex_priv  sex_priv_correct  \\\n2          1.000000           0.000000    0.677725          1.000000   \n3          1.000000           0.000000    0.677725          1.000000   \n6          0.898596           0.926819    0.914219          0.898401   \n7          0.898596           0.926819    0.914219          0.898401   \n10         1.000000           0.000000    0.492537          1.000000   \n11         1.000000           0.000000    0.492537          1.000000   \n14         0.000000           1.000000    0.560000          0.000000   \n15         0.000000           1.000000    0.560000          0.000000   \n18         0.000000           1.000000    0.191176          0.000000   \n19         0.000000           1.000000    0.191176          0.000000   \n22         0.052775           0.054779    0.048830          0.046234   \n23         0.052775           0.054779    0.048830          0.046234   \n26         0.058245           0.088534    0.072719          0.049802   \n27         0.058245           0.088534    0.072719          0.049802   \n30         0.922828           0.877928    0.899526          0.930629   \n31         0.922828           0.877928    0.899526          0.930629   \n34         0.513167           0.509066    0.576618          0.594895   \n35         0.513167           0.509066    0.576618          0.594895   \n38         0.904375           0.932726    0.919093          0.902821   \n39         0.904375           0.932726    0.919093          0.902821   \n42         1.000000           0.000000    0.559322          1.000000   \n43         1.000000           0.000000    0.559322          1.000000   \n46         0.961414           0.061355    0.680948          0.965315   \n47         0.961414           0.061355    0.680948          0.965315   \n50         1.000000           1.024194    0.786667          1.000000   \n51         1.000000           1.024194    0.786667          1.000000   \n54       594.000000         251.000000  211.000000        143.000000   \n55       594.000000         251.000000  211.000000        143.000000   \n58         0.457912           0.505976    0.279621          0.230769   \n59         0.457912           0.505976    0.279621          0.230769   \n62         0.341195           0.630527    0.426341          0.341479   \n63         0.341195           0.630527    0.426341          0.341479   \n66         0.039153           0.040864    0.036523          0.034106   \n67         0.039153           0.040864    0.036523          0.034106   \n70         1.000000           0.000000    0.808824          1.000000   \n71         1.000000           0.000000    0.808824          1.000000   \n74         1.000000           0.000000    0.440000          1.000000   \n75         1.000000           0.000000    0.440000          1.000000   \n\n    sex_priv_incorrect  \n2             0.000000  \n3             0.000000  \n6             0.947482  \n7             0.947482  \n10            0.000000  \n11            0.000000  \n14            1.000000  \n15            1.000000  \n18            1.000000  \n19            1.000000  \n22            0.054291  \n23            0.054291  \n26            0.120912  \n27            0.120912  \n30            0.834118  \n31            0.834118  \n34            0.538181  \n35            0.538181  \n38            0.953313  \n39            0.953313  \n42            0.000000  \n43            0.000000  \n46            0.082941  \n47            0.082941  \n50            0.619048  \n51            0.619048  \n54           68.000000  \n55           68.000000  \n58            0.382353  \n59            0.382353  \n62            0.604802  \n63            0.604802  \n66            0.041605  \n67            0.041605  \n70            0.000000  \n71            0.000000  \n74            0.000000  \n75            0.000000  \n\n[38 rows x 29 columns]",
      "text/html": "<div>\n<style scoped>\n    .dataframe tbody tr th:only-of-type {\n        vertical-align: middle;\n    }\n\n    .dataframe tbody tr th {\n        vertical-align: top;\n    }\n\n    .dataframe thead th {\n        text-align: right;\n    }\n</style>\n<table border=\"1\" class=\"dataframe\">\n  <thead>\n    <tr style=\"text-align: right;\">\n      <th></th>\n      <th>Metric</th>\n      <th>Model_Name</th>\n      <th>Model_Params</th>\n      <th>Dataset_Name</th>\n      <th>Num_Estimators</th>\n      <th>Test_Set_Index</th>\n      <th>Tag</th>\n      <th>Record_Create_Date_Time</th>\n      <th>Session_Uuid</th>\n      <th>Preprocessing_Techniques</th>\n      <th>...</th>\n      <th>sex&amp;race_dis_incorrect</th>\n      <th>sex&amp;race_priv</th>\n      <th>sex&amp;race_priv_correct</th>\n      <th>sex&amp;race_priv_incorrect</th>\n      <th>sex_dis</th>\n      <th>sex_dis_correct</th>\n      <th>sex_dis_incorrect</th>\n      <th>sex_priv</th>\n      <th>sex_priv_correct</th>\n      <th>sex_priv_incorrect</th>\n    </tr>\n  </thead>\n  <tbody>\n    <tr>\n      <th>2</th>\n      <td>Accuracy</td>\n      <td>RandomForestClassifier</td>\n      <td>{'bootstrap': True, 'ccp_alpha': 0.0, 'class_w...</td>\n      <td>COMPAS_Without_Sensitive_Attributes</td>\n      <td>50</td>\n      <td>0</td>\n      <td>OK</td>\n      <td>2023-08-12 22:44:31.679</td>\n      <td>b2945b06-3cbe-4e6f-80f4-8f8b8228b359</td>\n      <td>one hot encoder and scaler</td>\n      <td>...</td>\n      <td>0.000000</td>\n      <td>0.699620</td>\n      <td>1.000000</td>\n      <td>0.000000</td>\n      <td>0.702959</td>\n      <td>1.000000</td>\n      <td>0.000000</td>\n      <td>0.677725</td>\n      <td>1.000000</td>\n      <td>0.000000</td>\n    </tr>\n    <tr>\n      <th>3</th>\n      <td>Accuracy</td>\n      <td>RandomForestClassifier</td>\n      <td>{'bootstrap': True, 'ccp_alpha': 0.0, 'class_w...</td>\n      <td>COMPAS_Without_Sensitive_Attributes</td>\n      <td>50</td>\n      <td>1</td>\n      <td>OK</td>\n      <td>2023-08-12 22:44:31.687</td>\n      <td>b2945b06-3cbe-4e6f-80f4-8f8b8228b359</td>\n      <td>one hot encoder and scaler</td>\n      <td>...</td>\n      <td>0.000000</td>\n      <td>0.699620</td>\n      <td>1.000000</td>\n      <td>0.000000</td>\n      <td>0.702959</td>\n      <td>1.000000</td>\n      <td>0.000000</td>\n      <td>0.677725</td>\n      <td>1.000000</td>\n      <td>0.000000</td>\n    </tr>\n    <tr>\n      <th>6</th>\n      <td>Aleatoric_Uncertainty</td>\n      <td>RandomForestClassifier</td>\n      <td>{'bootstrap': True, 'ccp_alpha': 0.0, 'class_w...</td>\n      <td>COMPAS_Without_Sensitive_Attributes</td>\n      <td>50</td>\n      <td>0</td>\n      <td>OK</td>\n      <td>2023-08-12 22:44:31.679</td>\n      <td>b2945b06-3cbe-4e6f-80f4-8f8b8228b359</td>\n      <td>one hot encoder and scaler</td>\n      <td>...</td>\n      <td>0.929348</td>\n      <td>0.907330</td>\n      <td>0.896250</td>\n      <td>0.933136</td>\n      <td>0.906980</td>\n      <td>0.898596</td>\n      <td>0.926819</td>\n      <td>0.914219</td>\n      <td>0.898401</td>\n      <td>0.947482</td>\n    </tr>\n    <tr>\n      <th>7</th>\n      <td>Aleatoric_Uncertainty</td>\n      <td>RandomForestClassifier</td>\n      <td>{'bootstrap': True, 'ccp_alpha': 0.0, 'class_w...</td>\n      <td>COMPAS_Without_Sensitive_Attributes</td>\n      <td>50</td>\n      <td>1</td>\n      <td>OK</td>\n      <td>2023-08-12 22:44:31.687</td>\n      <td>b2945b06-3cbe-4e6f-80f4-8f8b8228b359</td>\n      <td>one hot encoder and scaler</td>\n      <td>...</td>\n      <td>0.929348</td>\n      <td>0.907330</td>\n      <td>0.896250</td>\n      <td>0.933136</td>\n      <td>0.906980</td>\n      <td>0.898596</td>\n      <td>0.926819</td>\n      <td>0.914219</td>\n      <td>0.898401</td>\n      <td>0.947482</td>\n    </tr>\n    <tr>\n      <th>10</th>\n      <td>F1</td>\n      <td>RandomForestClassifier</td>\n      <td>{'bootstrap': True, 'ccp_alpha': 0.0, 'class_w...</td>\n      <td>COMPAS_Without_Sensitive_Attributes</td>\n      <td>50</td>\n      <td>0</td>\n      <td>OK</td>\n      <td>2023-08-12 22:44:31.679</td>\n      <td>b2945b06-3cbe-4e6f-80f4-8f8b8228b359</td>\n      <td>one hot encoder and scaler</td>\n      <td>...</td>\n      <td>0.000000</td>\n      <td>0.556180</td>\n      <td>1.000000</td>\n      <td>0.000000</td>\n      <td>0.684277</td>\n      <td>1.000000</td>\n      <td>0.000000</td>\n      <td>0.492537</td>\n      <td>1.000000</td>\n      <td>0.000000</td>\n    </tr>\n    <tr>\n      <th>11</th>\n      <td>F1</td>\n      <td>RandomForestClassifier</td>\n      <td>{'bootstrap': True, 'ccp_alpha': 0.0, 'class_w...</td>\n      <td>COMPAS_Without_Sensitive_Attributes</td>\n      <td>50</td>\n      <td>1</td>\n      <td>OK</td>\n      <td>2023-08-12 22:44:31.687</td>\n      <td>b2945b06-3cbe-4e6f-80f4-8f8b8228b359</td>\n      <td>one hot encoder and scaler</td>\n      <td>...</td>\n      <td>0.000000</td>\n      <td>0.556180</td>\n      <td>1.000000</td>\n      <td>0.000000</td>\n      <td>0.684277</td>\n      <td>1.000000</td>\n      <td>0.000000</td>\n      <td>0.492537</td>\n      <td>1.000000</td>\n      <td>0.000000</td>\n    </tr>\n    <tr>\n      <th>14</th>\n      <td>FNR</td>\n      <td>RandomForestClassifier</td>\n      <td>{'bootstrap': True, 'ccp_alpha': 0.0, 'class_w...</td>\n      <td>COMPAS_Without_Sensitive_Attributes</td>\n      <td>50</td>\n      <td>0</td>\n      <td>OK</td>\n      <td>2023-08-12 22:44:31.679</td>\n      <td>b2945b06-3cbe-4e6f-80f4-8f8b8228b359</td>\n      <td>one hot encoder and scaler</td>\n      <td>...</td>\n      <td>1.000000</td>\n      <td>0.473404</td>\n      <td>0.000000</td>\n      <td>1.000000</td>\n      <td>0.313131</td>\n      <td>0.000000</td>\n      <td>1.000000</td>\n      <td>0.560000</td>\n      <td>0.000000</td>\n      <td>1.000000</td>\n    </tr>\n    <tr>\n      <th>15</th>\n      <td>FNR</td>\n      <td>RandomForestClassifier</td>\n      <td>{'bootstrap': True, 'ccp_alpha': 0.0, 'class_w...</td>\n      <td>COMPAS_Without_Sensitive_Attributes</td>\n      <td>50</td>\n      <td>1</td>\n      <td>OK</td>\n      <td>2023-08-12 22:44:31.687</td>\n      <td>b2945b06-3cbe-4e6f-80f4-8f8b8228b359</td>\n      <td>one hot encoder and scaler</td>\n      <td>...</td>\n      <td>1.000000</td>\n      <td>0.473404</td>\n      <td>0.000000</td>\n      <td>1.000000</td>\n      <td>0.313131</td>\n      <td>0.000000</td>\n      <td>1.000000</td>\n      <td>0.560000</td>\n      <td>0.000000</td>\n      <td>1.000000</td>\n    </tr>\n    <tr>\n      <th>18</th>\n      <td>FPR</td>\n      <td>RandomForestClassifier</td>\n      <td>{'bootstrap': True, 'ccp_alpha': 0.0, 'class_w...</td>\n      <td>COMPAS_Without_Sensitive_Attributes</td>\n      <td>50</td>\n      <td>0</td>\n      <td>OK</td>\n      <td>2023-08-12 22:44:31.679</td>\n      <td>b2945b06-3cbe-4e6f-80f4-8f8b8228b359</td>\n      <td>one hot encoder and scaler</td>\n      <td>...</td>\n      <td>1.000000</td>\n      <td>0.204142</td>\n      <td>0.000000</td>\n      <td>1.000000</td>\n      <td>0.282851</td>\n      <td>0.000000</td>\n      <td>1.000000</td>\n      <td>0.191176</td>\n      <td>0.000000</td>\n      <td>1.000000</td>\n    </tr>\n    <tr>\n      <th>19</th>\n      <td>FPR</td>\n      <td>RandomForestClassifier</td>\n      <td>{'bootstrap': True, 'ccp_alpha': 0.0, 'class_w...</td>\n      <td>COMPAS_Without_Sensitive_Attributes</td>\n      <td>50</td>\n      <td>1</td>\n      <td>OK</td>\n      <td>2023-08-12 22:44:31.687</td>\n      <td>b2945b06-3cbe-4e6f-80f4-8f8b8228b359</td>\n      <td>one hot encoder and scaler</td>\n      <td>...</td>\n      <td>1.000000</td>\n      <td>0.204142</td>\n      <td>0.000000</td>\n      <td>1.000000</td>\n      <td>0.282851</td>\n      <td>0.000000</td>\n      <td>1.000000</td>\n      <td>0.191176</td>\n      <td>0.000000</td>\n      <td>1.000000</td>\n    </tr>\n    <tr>\n      <th>22</th>\n      <td>IQR</td>\n      <td>RandomForestClassifier</td>\n      <td>{'bootstrap': True, 'ccp_alpha': 0.0, 'class_w...</td>\n      <td>COMPAS_Without_Sensitive_Attributes</td>\n      <td>50</td>\n      <td>0</td>\n      <td>OK</td>\n      <td>2023-08-12 22:44:31.679</td>\n      <td>b2945b06-3cbe-4e6f-80f4-8f8b8228b359</td>\n      <td>one hot encoder and scaler</td>\n      <td>...</td>\n      <td>0.052814</td>\n      <td>0.051094</td>\n      <td>0.048743</td>\n      <td>0.056572</td>\n      <td>0.053370</td>\n      <td>0.052775</td>\n      <td>0.054779</td>\n      <td>0.048830</td>\n      <td>0.046234</td>\n      <td>0.054291</td>\n    </tr>\n    <tr>\n      <th>23</th>\n      <td>IQR</td>\n      <td>RandomForestClassifier</td>\n      <td>{'bootstrap': True, 'ccp_alpha': 0.0, 'class_w...</td>\n      <td>COMPAS_Without_Sensitive_Attributes</td>\n      <td>50</td>\n      <td>1</td>\n      <td>OK</td>\n      <td>2023-08-12 22:44:31.687</td>\n      <td>b2945b06-3cbe-4e6f-80f4-8f8b8228b359</td>\n      <td>one hot encoder and scaler</td>\n      <td>...</td>\n      <td>0.052814</td>\n      <td>0.051094</td>\n      <td>0.048743</td>\n      <td>0.056572</td>\n      <td>0.053370</td>\n      <td>0.052775</td>\n      <td>0.054779</td>\n      <td>0.048830</td>\n      <td>0.046234</td>\n      <td>0.054291</td>\n    </tr>\n    <tr>\n      <th>26</th>\n      <td>Jitter</td>\n      <td>RandomForestClassifier</td>\n      <td>{'bootstrap': True, 'ccp_alpha': 0.0, 'class_w...</td>\n      <td>COMPAS_Without_Sensitive_Attributes</td>\n      <td>50</td>\n      <td>0</td>\n      <td>OK</td>\n      <td>2023-08-12 22:44:31.679</td>\n      <td>b2945b06-3cbe-4e6f-80f4-8f8b8228b359</td>\n      <td>one hot encoder and scaler</td>\n      <td>...</td>\n      <td>0.081988</td>\n      <td>0.068303</td>\n      <td>0.050770</td>\n      <td>0.109140</td>\n      <td>0.067242</td>\n      <td>0.058245</td>\n      <td>0.088534</td>\n      <td>0.072719</td>\n      <td>0.049802</td>\n      <td>0.120912</td>\n    </tr>\n    <tr>\n      <th>27</th>\n      <td>Jitter</td>\n      <td>RandomForestClassifier</td>\n      <td>{'bootstrap': True, 'ccp_alpha': 0.0, 'class_w...</td>\n      <td>COMPAS_Without_Sensitive_Attributes</td>\n      <td>50</td>\n      <td>1</td>\n      <td>OK</td>\n      <td>2023-08-12 22:44:31.687</td>\n      <td>b2945b06-3cbe-4e6f-80f4-8f8b8228b359</td>\n      <td>one hot encoder and scaler</td>\n      <td>...</td>\n      <td>0.081988</td>\n      <td>0.068303</td>\n      <td>0.050770</td>\n      <td>0.109140</td>\n      <td>0.067242</td>\n      <td>0.058245</td>\n      <td>0.088534</td>\n      <td>0.072719</td>\n      <td>0.049802</td>\n      <td>0.120912</td>\n    </tr>\n    <tr>\n      <th>30</th>\n      <td>Label_Stability</td>\n      <td>RandomForestClassifier</td>\n      <td>{'bootstrap': True, 'ccp_alpha': 0.0, 'class_w...</td>\n      <td>COMPAS_Without_Sensitive_Attributes</td>\n      <td>50</td>\n      <td>0</td>\n      <td>OK</td>\n      <td>2023-08-12 22:44:31.679</td>\n      <td>b2945b06-3cbe-4e6f-80f4-8f8b8228b359</td>\n      <td>one hot encoder and scaler</td>\n      <td>...</td>\n      <td>0.886211</td>\n      <td>0.908213</td>\n      <td>0.932935</td>\n      <td>0.850633</td>\n      <td>0.909491</td>\n      <td>0.922828</td>\n      <td>0.877928</td>\n      <td>0.899526</td>\n      <td>0.930629</td>\n      <td>0.834118</td>\n    </tr>\n    <tr>\n      <th>31</th>\n      <td>Label_Stability</td>\n      <td>RandomForestClassifier</td>\n      <td>{'bootstrap': True, 'ccp_alpha': 0.0, 'class_w...</td>\n      <td>COMPAS_Without_Sensitive_Attributes</td>\n      <td>50</td>\n      <td>1</td>\n      <td>OK</td>\n      <td>2023-08-12 22:44:31.687</td>\n      <td>b2945b06-3cbe-4e6f-80f4-8f8b8228b359</td>\n      <td>one hot encoder and scaler</td>\n      <td>...</td>\n      <td>0.886211</td>\n      <td>0.908213</td>\n      <td>0.932935</td>\n      <td>0.850633</td>\n      <td>0.909491</td>\n      <td>0.922828</td>\n      <td>0.877928</td>\n      <td>0.899526</td>\n      <td>0.930629</td>\n      <td>0.834118</td>\n    </tr>\n    <tr>\n      <th>34</th>\n      <td>Mean</td>\n      <td>RandomForestClassifier</td>\n      <td>{'bootstrap': True, 'ccp_alpha': 0.0, 'class_w...</td>\n      <td>COMPAS_Without_Sensitive_Attributes</td>\n      <td>50</td>\n      <td>0</td>\n      <td>OK</td>\n      <td>2023-08-12 22:44:31.679</td>\n      <td>b2945b06-3cbe-4e6f-80f4-8f8b8228b359</td>\n      <td>one hot encoder and scaler</td>\n      <td>...</td>\n      <td>0.494911</td>\n      <td>0.575559</td>\n      <td>0.592535</td>\n      <td>0.536020</td>\n      <td>0.511949</td>\n      <td>0.513167</td>\n      <td>0.509066</td>\n      <td>0.576618</td>\n      <td>0.594895</td>\n      <td>0.538181</td>\n    </tr>\n    <tr>\n      <th>35</th>\n      <td>Mean</td>\n      <td>RandomForestClassifier</td>\n      <td>{'bootstrap': True, 'ccp_alpha': 0.0, 'class_w...</td>\n      <td>COMPAS_Without_Sensitive_Attributes</td>\n      <td>50</td>\n      <td>1</td>\n      <td>OK</td>\n      <td>2023-08-12 22:44:31.687</td>\n      <td>b2945b06-3cbe-4e6f-80f4-8f8b8228b359</td>\n      <td>one hot encoder and scaler</td>\n      <td>...</td>\n      <td>0.494911</td>\n      <td>0.575559</td>\n      <td>0.592535</td>\n      <td>0.536020</td>\n      <td>0.511949</td>\n      <td>0.513167</td>\n      <td>0.509066</td>\n      <td>0.576618</td>\n      <td>0.594895</td>\n      <td>0.538181</td>\n    </tr>\n    <tr>\n      <th>38</th>\n      <td>Overall_Uncertainty</td>\n      <td>RandomForestClassifier</td>\n      <td>{'bootstrap': True, 'ccp_alpha': 0.0, 'class_w...</td>\n      <td>COMPAS_Without_Sensitive_Attributes</td>\n      <td>50</td>\n      <td>0</td>\n      <td>OK</td>\n      <td>2023-08-12 22:44:31.679</td>\n      <td>b2945b06-3cbe-4e6f-80f4-8f8b8228b359</td>\n      <td>one hot encoder and scaler</td>\n      <td>...</td>\n      <td>0.934697</td>\n      <td>0.912810</td>\n      <td>0.901317</td>\n      <td>0.939577</td>\n      <td>0.912797</td>\n      <td>0.904375</td>\n      <td>0.932726</td>\n      <td>0.919093</td>\n      <td>0.902821</td>\n      <td>0.953313</td>\n    </tr>\n    <tr>\n      <th>39</th>\n      <td>Overall_Uncertainty</td>\n      <td>RandomForestClassifier</td>\n      <td>{'bootstrap': True, 'ccp_alpha': 0.0, 'class_w...</td>\n      <td>COMPAS_Without_Sensitive_Attributes</td>\n      <td>50</td>\n      <td>1</td>\n      <td>OK</td>\n      <td>2023-08-12 22:44:31.687</td>\n      <td>b2945b06-3cbe-4e6f-80f4-8f8b8228b359</td>\n      <td>one hot encoder and scaler</td>\n      <td>...</td>\n      <td>0.934697</td>\n      <td>0.912810</td>\n      <td>0.901317</td>\n      <td>0.939577</td>\n      <td>0.912797</td>\n      <td>0.904375</td>\n      <td>0.932726</td>\n      <td>0.919093</td>\n      <td>0.902821</td>\n      <td>0.953313</td>\n    </tr>\n    <tr>\n      <th>42</th>\n      <td>PPV</td>\n      <td>RandomForestClassifier</td>\n      <td>{'bootstrap': True, 'ccp_alpha': 0.0, 'class_w...</td>\n      <td>COMPAS_Without_Sensitive_Attributes</td>\n      <td>50</td>\n      <td>0</td>\n      <td>OK</td>\n      <td>2023-08-12 22:44:31.679</td>\n      <td>b2945b06-3cbe-4e6f-80f4-8f8b8228b359</td>\n      <td>one hot encoder and scaler</td>\n      <td>...</td>\n      <td>0.000000</td>\n      <td>0.589286</td>\n      <td>1.000000</td>\n      <td>0.000000</td>\n      <td>0.681704</td>\n      <td>1.000000</td>\n      <td>0.000000</td>\n      <td>0.559322</td>\n      <td>1.000000</td>\n      <td>0.000000</td>\n    </tr>\n    <tr>\n      <th>43</th>\n      <td>PPV</td>\n      <td>RandomForestClassifier</td>\n      <td>{'bootstrap': True, 'ccp_alpha': 0.0, 'class_w...</td>\n      <td>COMPAS_Without_Sensitive_Attributes</td>\n      <td>50</td>\n      <td>1</td>\n      <td>OK</td>\n      <td>2023-08-12 22:44:31.687</td>\n      <td>b2945b06-3cbe-4e6f-80f4-8f8b8228b359</td>\n      <td>one hot encoder and scaler</td>\n      <td>...</td>\n      <td>0.000000</td>\n      <td>0.589286</td>\n      <td>1.000000</td>\n      <td>0.000000</td>\n      <td>0.681704</td>\n      <td>1.000000</td>\n      <td>0.000000</td>\n      <td>0.559322</td>\n      <td>1.000000</td>\n      <td>0.000000</td>\n    </tr>\n    <tr>\n      <th>46</th>\n      <td>Per_Sample_Accuracy</td>\n      <td>RandomForestClassifier</td>\n      <td>{'bootstrap': True, 'ccp_alpha': 0.0, 'class_w...</td>\n      <td>COMPAS_Without_Sensitive_Attributes</td>\n      <td>50</td>\n      <td>0</td>\n      <td>OK</td>\n      <td>2023-08-12 22:44:31.679</td>\n      <td>b2945b06-3cbe-4e6f-80f4-8f8b8228b359</td>\n      <td>one hot encoder and scaler</td>\n      <td>...</td>\n      <td>0.056894</td>\n      <td>0.698745</td>\n      <td>0.966467</td>\n      <td>0.075190</td>\n      <td>0.694059</td>\n      <td>0.961414</td>\n      <td>0.061355</td>\n      <td>0.680948</td>\n      <td>0.965315</td>\n      <td>0.082941</td>\n    </tr>\n    <tr>\n      <th>47</th>\n      <td>Per_Sample_Accuracy</td>\n      <td>RandomForestClassifier</td>\n      <td>{'bootstrap': True, 'ccp_alpha': 0.0, 'class_w...</td>\n      <td>COMPAS_Without_Sensitive_Attributes</td>\n      <td>50</td>\n      <td>1</td>\n      <td>OK</td>\n      <td>2023-08-12 22:44:31.687</td>\n      <td>b2945b06-3cbe-4e6f-80f4-8f8b8228b359</td>\n      <td>one hot encoder and scaler</td>\n      <td>...</td>\n      <td>0.056894</td>\n      <td>0.698745</td>\n      <td>0.966467</td>\n      <td>0.075190</td>\n      <td>0.694059</td>\n      <td>0.961414</td>\n      <td>0.061355</td>\n      <td>0.680948</td>\n      <td>0.965315</td>\n      <td>0.082941</td>\n    </tr>\n    <tr>\n      <th>50</th>\n      <td>Positive-Rate</td>\n      <td>RandomForestClassifier</td>\n      <td>{'bootstrap': True, 'ccp_alpha': 0.0, 'class_w...</td>\n      <td>COMPAS_Without_Sensitive_Attributes</td>\n      <td>50</td>\n      <td>0</td>\n      <td>OK</td>\n      <td>2023-08-12 22:44:31.679</td>\n      <td>b2945b06-3cbe-4e6f-80f4-8f8b8228b359</td>\n      <td>one hot encoder and scaler</td>\n      <td>...</td>\n      <td>1.090909</td>\n      <td>0.893617</td>\n      <td>1.000000</td>\n      <td>0.775281</td>\n      <td>1.007576</td>\n      <td>1.000000</td>\n      <td>1.024194</td>\n      <td>0.786667</td>\n      <td>1.000000</td>\n      <td>0.619048</td>\n    </tr>\n    <tr>\n      <th>51</th>\n      <td>Positive-Rate</td>\n      <td>RandomForestClassifier</td>\n      <td>{'bootstrap': True, 'ccp_alpha': 0.0, 'class_w...</td>\n      <td>COMPAS_Without_Sensitive_Attributes</td>\n      <td>50</td>\n      <td>1</td>\n      <td>OK</td>\n      <td>2023-08-12 22:44:31.687</td>\n      <td>b2945b06-3cbe-4e6f-80f4-8f8b8228b359</td>\n      <td>one hot encoder and scaler</td>\n      <td>...</td>\n      <td>1.090909</td>\n      <td>0.893617</td>\n      <td>1.000000</td>\n      <td>0.775281</td>\n      <td>1.007576</td>\n      <td>1.000000</td>\n      <td>1.024194</td>\n      <td>0.786667</td>\n      <td>1.000000</td>\n      <td>0.619048</td>\n    </tr>\n    <tr>\n      <th>54</th>\n      <td>Sample_Size</td>\n      <td>RandomForestClassifier</td>\n      <td>{'bootstrap': True, 'ccp_alpha': 0.0, 'class_w...</td>\n      <td>COMPAS_Without_Sensitive_Attributes</td>\n      <td>50</td>\n      <td>0</td>\n      <td>OK</td>\n      <td>2023-08-12 22:44:31.679</td>\n      <td>b2945b06-3cbe-4e6f-80f4-8f8b8228b359</td>\n      <td>one hot encoder and scaler</td>\n      <td>...</td>\n      <td>161.000000</td>\n      <td>526.000000</td>\n      <td>368.000000</td>\n      <td>158.000000</td>\n      <td>845.000000</td>\n      <td>594.000000</td>\n      <td>251.000000</td>\n      <td>211.000000</td>\n      <td>143.000000</td>\n      <td>68.000000</td>\n    </tr>\n    <tr>\n      <th>55</th>\n      <td>Sample_Size</td>\n      <td>RandomForestClassifier</td>\n      <td>{'bootstrap': True, 'ccp_alpha': 0.0, 'class_w...</td>\n      <td>COMPAS_Without_Sensitive_Attributes</td>\n      <td>50</td>\n      <td>1</td>\n      <td>OK</td>\n      <td>2023-08-12 22:44:31.687</td>\n      <td>b2945b06-3cbe-4e6f-80f4-8f8b8228b359</td>\n      <td>one hot encoder and scaler</td>\n      <td>...</td>\n      <td>161.000000</td>\n      <td>526.000000</td>\n      <td>368.000000</td>\n      <td>158.000000</td>\n      <td>845.000000</td>\n      <td>594.000000</td>\n      <td>251.000000</td>\n      <td>211.000000</td>\n      <td>143.000000</td>\n      <td>68.000000</td>\n    </tr>\n    <tr>\n      <th>58</th>\n      <td>Selection-Rate</td>\n      <td>RandomForestClassifier</td>\n      <td>{'bootstrap': True, 'ccp_alpha': 0.0, 'class_w...</td>\n      <td>COMPAS_Without_Sensitive_Attributes</td>\n      <td>50</td>\n      <td>0</td>\n      <td>OK</td>\n      <td>2023-08-12 22:44:31.679</td>\n      <td>b2945b06-3cbe-4e6f-80f4-8f8b8228b359</td>\n      <td>one hot encoder and scaler</td>\n      <td>...</td>\n      <td>0.521739</td>\n      <td>0.319392</td>\n      <td>0.269022</td>\n      <td>0.436709</td>\n      <td>0.472189</td>\n      <td>0.457912</td>\n      <td>0.505976</td>\n      <td>0.279621</td>\n      <td>0.230769</td>\n      <td>0.382353</td>\n    </tr>\n    <tr>\n      <th>59</th>\n      <td>Selection-Rate</td>\n      <td>RandomForestClassifier</td>\n      <td>{'bootstrap': True, 'ccp_alpha': 0.0, 'class_w...</td>\n      <td>COMPAS_Without_Sensitive_Attributes</td>\n      <td>50</td>\n      <td>1</td>\n      <td>OK</td>\n      <td>2023-08-12 22:44:31.687</td>\n      <td>b2945b06-3cbe-4e6f-80f4-8f8b8228b359</td>\n      <td>one hot encoder and scaler</td>\n      <td>...</td>\n      <td>0.521739</td>\n      <td>0.319392</td>\n      <td>0.269022</td>\n      <td>0.436709</td>\n      <td>0.472189</td>\n      <td>0.457912</td>\n      <td>0.505976</td>\n      <td>0.279621</td>\n      <td>0.230769</td>\n      <td>0.382353</td>\n    </tr>\n    <tr>\n      <th>62</th>\n      <td>Statistical_Bias</td>\n      <td>RandomForestClassifier</td>\n      <td>{'bootstrap': True, 'ccp_alpha': 0.0, 'class_w...</td>\n      <td>COMPAS_Without_Sensitive_Attributes</td>\n      <td>50</td>\n      <td>0</td>\n      <td>OK</td>\n      <td>2023-08-12 22:44:31.679</td>\n      <td>b2945b06-3cbe-4e6f-80f4-8f8b8228b359</td>\n      <td>one hot encoder and scaler</td>\n      <td>...</td>\n      <td>0.628785</td>\n      <td>0.423103</td>\n      <td>0.338038</td>\n      <td>0.621229</td>\n      <td>0.427138</td>\n      <td>0.341195</td>\n      <td>0.630527</td>\n      <td>0.426341</td>\n      <td>0.341479</td>\n      <td>0.604802</td>\n    </tr>\n    <tr>\n      <th>63</th>\n      <td>Statistical_Bias</td>\n      <td>RandomForestClassifier</td>\n      <td>{'bootstrap': True, 'ccp_alpha': 0.0, 'class_w...</td>\n      <td>COMPAS_Without_Sensitive_Attributes</td>\n      <td>50</td>\n      <td>1</td>\n      <td>OK</td>\n      <td>2023-08-12 22:44:31.687</td>\n      <td>b2945b06-3cbe-4e6f-80f4-8f8b8228b359</td>\n      <td>one hot encoder and scaler</td>\n      <td>...</td>\n      <td>0.628785</td>\n      <td>0.423103</td>\n      <td>0.338038</td>\n      <td>0.621229</td>\n      <td>0.427138</td>\n      <td>0.341195</td>\n      <td>0.630527</td>\n      <td>0.426341</td>\n      <td>0.341479</td>\n      <td>0.604802</td>\n    </tr>\n    <tr>\n      <th>66</th>\n      <td>Std</td>\n      <td>RandomForestClassifier</td>\n      <td>{'bootstrap': True, 'ccp_alpha': 0.0, 'class_w...</td>\n      <td>COMPAS_Without_Sensitive_Attributes</td>\n      <td>50</td>\n      <td>0</td>\n      <td>OK</td>\n      <td>2023-08-12 22:44:31.679</td>\n      <td>b2945b06-3cbe-4e6f-80f4-8f8b8228b359</td>\n      <td>one hot encoder and scaler</td>\n      <td>...</td>\n      <td>0.039192</td>\n      <td>0.038359</td>\n      <td>0.036415</td>\n      <td>0.042887</td>\n      <td>0.039661</td>\n      <td>0.039153</td>\n      <td>0.040864</td>\n      <td>0.036523</td>\n      <td>0.034106</td>\n      <td>0.041605</td>\n    </tr>\n    <tr>\n      <th>67</th>\n      <td>Std</td>\n      <td>RandomForestClassifier</td>\n      <td>{'bootstrap': True, 'ccp_alpha': 0.0, 'class_w...</td>\n      <td>COMPAS_Without_Sensitive_Attributes</td>\n      <td>50</td>\n      <td>1</td>\n      <td>OK</td>\n      <td>2023-08-12 22:44:31.687</td>\n      <td>b2945b06-3cbe-4e6f-80f4-8f8b8228b359</td>\n      <td>one hot encoder and scaler</td>\n      <td>...</td>\n      <td>0.039192</td>\n      <td>0.038359</td>\n      <td>0.036415</td>\n      <td>0.042887</td>\n      <td>0.039661</td>\n      <td>0.039153</td>\n      <td>0.040864</td>\n      <td>0.036523</td>\n      <td>0.034106</td>\n      <td>0.041605</td>\n    </tr>\n    <tr>\n      <th>70</th>\n      <td>TNR</td>\n      <td>RandomForestClassifier</td>\n      <td>{'bootstrap': True, 'ccp_alpha': 0.0, 'class_w...</td>\n      <td>COMPAS_Without_Sensitive_Attributes</td>\n      <td>50</td>\n      <td>0</td>\n      <td>OK</td>\n      <td>2023-08-12 22:44:31.679</td>\n      <td>b2945b06-3cbe-4e6f-80f4-8f8b8228b359</td>\n      <td>one hot encoder and scaler</td>\n      <td>...</td>\n      <td>0.000000</td>\n      <td>0.795858</td>\n      <td>1.000000</td>\n      <td>0.000000</td>\n      <td>0.717149</td>\n      <td>1.000000</td>\n      <td>0.000000</td>\n      <td>0.808824</td>\n      <td>1.000000</td>\n      <td>0.000000</td>\n    </tr>\n    <tr>\n      <th>71</th>\n      <td>TNR</td>\n      <td>RandomForestClassifier</td>\n      <td>{'bootstrap': True, 'ccp_alpha': 0.0, 'class_w...</td>\n      <td>COMPAS_Without_Sensitive_Attributes</td>\n      <td>50</td>\n      <td>1</td>\n      <td>OK</td>\n      <td>2023-08-12 22:44:31.687</td>\n      <td>b2945b06-3cbe-4e6f-80f4-8f8b8228b359</td>\n      <td>one hot encoder and scaler</td>\n      <td>...</td>\n      <td>0.000000</td>\n      <td>0.795858</td>\n      <td>1.000000</td>\n      <td>0.000000</td>\n      <td>0.717149</td>\n      <td>1.000000</td>\n      <td>0.000000</td>\n      <td>0.808824</td>\n      <td>1.000000</td>\n      <td>0.000000</td>\n    </tr>\n    <tr>\n      <th>74</th>\n      <td>TPR</td>\n      <td>RandomForestClassifier</td>\n      <td>{'bootstrap': True, 'ccp_alpha': 0.0, 'class_w...</td>\n      <td>COMPAS_Without_Sensitive_Attributes</td>\n      <td>50</td>\n      <td>0</td>\n      <td>OK</td>\n      <td>2023-08-12 22:44:31.679</td>\n      <td>b2945b06-3cbe-4e6f-80f4-8f8b8228b359</td>\n      <td>one hot encoder and scaler</td>\n      <td>...</td>\n      <td>0.000000</td>\n      <td>0.526596</td>\n      <td>1.000000</td>\n      <td>0.000000</td>\n      <td>0.686869</td>\n      <td>1.000000</td>\n      <td>0.000000</td>\n      <td>0.440000</td>\n      <td>1.000000</td>\n      <td>0.000000</td>\n    </tr>\n    <tr>\n      <th>75</th>\n      <td>TPR</td>\n      <td>RandomForestClassifier</td>\n      <td>{'bootstrap': True, 'ccp_alpha': 0.0, 'class_w...</td>\n      <td>COMPAS_Without_Sensitive_Attributes</td>\n      <td>50</td>\n      <td>1</td>\n      <td>OK</td>\n      <td>2023-08-12 22:44:31.687</td>\n      <td>b2945b06-3cbe-4e6f-80f4-8f8b8228b359</td>\n      <td>one hot encoder and scaler</td>\n      <td>...</td>\n      <td>0.000000</td>\n      <td>0.526596</td>\n      <td>1.000000</td>\n      <td>0.000000</td>\n      <td>0.686869</td>\n      <td>1.000000</td>\n      <td>0.000000</td>\n      <td>0.440000</td>\n      <td>1.000000</td>\n      <td>0.000000</td>\n    </tr>\n  </tbody>\n</table>\n<p>38 rows × 29 columns</p>\n</div>"
     },
     "execution_count": 16,
     "metadata": {},
     "output_type": "execute_result"
    }
   ],
   "source": [
    "models_metrics_dct[list(models_metrics_dct.keys())[1]]"
   ]
  },
  {
   "cell_type": "code",
   "execution_count": 17,
   "id": "9e73354b",
   "metadata": {
    "ExecuteTime": {
     "start_time": "2023-04-21T21:01:19.251155Z",
     "end_time": "2023-04-21T21:01:19.343610Z"
    }
   },
   "outputs": [],
   "source": [
    "client.close()"
   ]
  },
  {
   "cell_type": "code",
   "execution_count": 17,
   "id": "a94b000c",
   "metadata": {
    "ExecuteTime": {
     "start_time": "2023-04-21T21:01:19.324534Z",
     "end_time": "2023-04-21T21:01:19.343878Z"
    }
   },
   "outputs": [],
   "source": []
  }
 ],
 "metadata": {
  "kernelspec": {
   "display_name": "Python 3",
   "language": "python",
   "name": "python3"
  },
  "language_info": {
   "codemirror_mode": {
    "name": "ipython",
    "version": 3
   },
   "file_extension": ".py",
   "mimetype": "text/x-python",
   "name": "python",
   "nbconvert_exporter": "python",
   "pygments_lexer": "ipython3",
   "version": "3.8.5"
  },
  "vscode": {
   "interpreter": {
    "hash": "aeeedfdcfbb7d0bd7e8ae453d9cd04ee7ebd63a67f7841163d9437c8723e8c72"
   }
  }
 },
 "nbformat": 4,
 "nbformat_minor": 5
}
