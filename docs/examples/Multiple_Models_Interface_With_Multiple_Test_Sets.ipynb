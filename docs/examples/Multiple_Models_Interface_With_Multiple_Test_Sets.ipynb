{
 "cells": [
  {
   "cell_type": "code",
   "execution_count": 1,
   "id": "68ae1475",
   "metadata": {
    "ExecuteTime": {
     "end_time": "2024-01-29T12:52:42.959537Z",
     "start_time": "2024-01-29T12:52:42.670342Z"
    }
   },
   "outputs": [],
   "source": [
    "%matplotlib inline\n",
    "%load_ext autoreload\n",
    "%autoreload 2"
   ]
  },
  {
   "cell_type": "code",
   "execution_count": 2,
   "id": "9a1a7163",
   "metadata": {
    "ExecuteTime": {
     "end_time": "2024-01-29T12:52:42.968782Z",
     "start_time": "2024-01-29T12:52:42.958869Z"
    }
   },
   "outputs": [],
   "source": [
    "import os\n",
    "import warnings\n",
    "warnings.filterwarnings('ignore')\n",
    "os.environ[\"PYTHONWARNINGS\"] = \"ignore\""
   ]
  },
  {
   "cell_type": "markdown",
   "id": "3dd0d321",
   "metadata": {},
   "source": [
    "# Multiple Models Interface For Multiple Test Sets"
   ]
  },
  {
   "cell_type": "markdown",
   "id": "8b3e85da",
   "metadata": {},
   "source": [
    "In this example, we are going to conduct a deep performance profiling for 2 models under multiple test sets. It turns out particularly effective in case we want to test models on different test sets, but to avoid an overhead with retraining a bootstrap with 50-200 estimators. For that, we will use `compute_metrics_with_multiple_test_sets` interface that will run metric computation for multiple models and test each model using multiple test sets."
   ]
  },
  {
   "cell_type": "markdown",
   "id": "ae19ca31",
   "metadata": {},
   "source": [
    "## Import dependencies"
   ]
  },
  {
   "cell_type": "code",
   "execution_count": 3,
   "id": "dec1f3f0",
   "metadata": {
    "ExecuteTime": {
     "end_time": "2024-01-29T12:52:44.264678Z",
     "start_time": "2024-01-29T12:52:42.968730Z"
    }
   },
   "outputs": [
    {
     "name": "stderr",
     "output_type": "stream",
     "text": [
      "WARNING:root:No module named 'tempeh': LawSchoolGPADataset will be unavailable. To install, run:\n",
      "pip install 'aif360[LawSchoolGPA]'\n"
     ]
    }
   ],
   "source": [
    "import os\n",
    "import pandas as pd\n",
    "\n",
    "from sklearn.ensemble import RandomForestClassifier\n",
    "from sklearn.tree import DecisionTreeClassifier\n",
    "\n",
    "from sklearn.compose import ColumnTransformer\n",
    "from sklearn.preprocessing import OneHotEncoder\n",
    "from sklearn.preprocessing import StandardScaler\n",
    "\n",
    "from virny.user_interfaces.multiple_models_with_multiple_test_sets_api import compute_metrics_with_multiple_test_sets\n",
    "from virny.utils.custom_initializers import create_config_obj, create_models_metrics_dct_from_database_df\n",
    "from virny.preprocessing.basic_preprocessing import preprocess_dataset\n",
    "from virny.datasets import CompasWithoutSensitiveAttrsDataset"
   ]
  },
  {
   "cell_type": "markdown",
   "id": "ae7d088c",
   "metadata": {},
   "source": [
    "## Initialize Input Variables"
   ]
  },
  {
   "cell_type": "markdown",
   "id": "bb167839",
   "metadata": {},
   "source": [
    "Based on the library flow, we need to create 3 input objects for a user interface:\n",
    "\n",
    "* A **config yaml** that is a file with configuration parameters for different user interfaces for metric computation.\n",
    "\n",
    "* A **dataset class** that is a wrapper above the user’s raw dataset that includes its descriptive attributes like a target column, numerical columns, categorical columns, etc. This class must be inherited from the BaseDataset class, which was created for user convenience.\n",
    "\n",
    "* Finally, a **models config** that is a Python dictionary, where keys are model names and values are initialized models for analysis. This dictionary helps conduct audits for different analysis modes and analyze different types of models."
   ]
  },
  {
   "cell_type": "code",
   "execution_count": 4,
   "outputs": [],
   "source": [
    "TEST_SET_FRACTION = 0.2\n",
    "DATASET_SPLIT_SEED = 42"
   ],
   "metadata": {
    "collapsed": false,
    "ExecuteTime": {
     "end_time": "2024-01-29T12:52:44.285701Z",
     "start_time": "2024-01-29T12:52:44.264810Z"
    }
   },
   "id": "189c313d70be1af3"
  },
  {
   "cell_type": "markdown",
   "id": "d22f31eb",
   "metadata": {},
   "source": [
    "### Create a config object"
   ]
  },
  {
   "cell_type": "markdown",
   "id": "2ab8dda3",
   "metadata": {},
   "source": [
    "`compute_metrics_with_multiple_test_sets` interface requires that your **yaml file** includes the following parameters:\n",
    "\n",
    "* **dataset_name**: str, a name of your dataset; it will be used to name files with metrics.\n",
    "\n",
    "* **bootstrap_fraction**: float, the fraction from a train set in the range [0.0 - 1.0] to fit models in bootstrap (usually more than 0.5).\n",
    "\n",
    "* **n_estimators**: int, the number of estimators for bootstrap to compute subgroup stability metrics.\n",
    "\n",
    "* **sensitive_attributes_dct**: dict, a dictionary where keys are sensitive attribute names (including intersectional attributes), and values are disadvantaged values for these attributes. Intersectional attributes must include '&' between sensitive attributes. You do not need to specify disadvantaged values for intersectional groups since they will be derived from disadvantaged values in sensitive_attributes_dct for each separate sensitive attribute in this intersectional pair.\n",
    "\n",
    "Note that disadvantaged value in a sensitive attribute dictionary must be **the same as in the original dataset**. For example, when distinct values of the _sex_ column in the original dataset are 'F' and 'M', and after pre-processing they became 0 and 1 respectively, you still need to set a disadvantaged value as 'F' or 'M' in the sensitive attribute dictionary.\n"
   ]
  },
  {
   "cell_type": "code",
   "execution_count": 8,
   "id": "79dcac74",
   "metadata": {
    "ExecuteTime": {
     "end_time": "2024-01-29T12:52:44.392671Z",
     "start_time": "2024-01-29T12:52:44.367898Z"
    }
   },
   "outputs": [],
   "source": [
    "ROOT_DIR = os.getcwd()\n",
    "config_yaml_path = os.path.join(ROOT_DIR, 'experiment_config.yaml')\n",
    "config_yaml_content = \\\n",
    "\"\"\"dataset_name: COMPAS_Without_Sensitive_Attributes\n",
    "bootstrap_fraction: 0.8\n",
    "random_state: 42\n",
    "n_estimators: 50  # Better to input the higher number of estimators than 100; this is only for this use case example\n",
    "computation_mode: error_analysis\n",
    "sensitive_attributes_dct: {'sex': 1, 'race': 'African-American', 'sex&race': None}\n",
    "\"\"\"\n",
    "\n",
    "with open(config_yaml_path, 'w', encoding='utf-8') as f:\n",
    "    f.write(config_yaml_content)"
   ]
  },
  {
   "cell_type": "code",
   "execution_count": 9,
   "id": "abc8bd6f",
   "metadata": {
    "ExecuteTime": {
     "end_time": "2024-01-29T12:52:44.415396Z",
     "start_time": "2024-01-29T12:52:44.391594Z"
    }
   },
   "outputs": [],
   "source": [
    "config = create_config_obj(config_yaml_path=config_yaml_path)"
   ]
  },
  {
   "cell_type": "markdown",
   "source": [
    "### Create a Dataset class"
   ],
   "metadata": {
    "collapsed": false
   },
   "id": "4b21d920"
  },
  {
   "cell_type": "markdown",
   "source": [
    "Based on the BaseDataset class, your **dataset class** should include the following attributes:\n",
    "\n",
    "* **Obligatory attributes**: dataset, target, features, numerical_columns, categorical_columns\n",
    "\n",
    "* **Optional attributes**: X_data, y_data, columns_with_nulls\n",
    "\n",
    "For more details, please refer to the library documentation."
   ],
   "metadata": {
    "collapsed": false
   },
   "id": "57b42644"
  },
  {
   "cell_type": "code",
   "execution_count": 5,
   "outputs": [
    {
     "data": {
      "text/plain": "   juv_fel_count  juv_misd_count  juv_other_count  priors_count  \\\n0            0.0       -2.340451              1.0    -15.010999   \n1            0.0        0.000000              0.0      0.000000   \n2            0.0        0.000000              0.0      0.000000   \n3            0.0        0.000000              0.0      6.000000   \n4            0.0        0.000000              0.0      7.513697   \n\n   age_cat_25 - 45  \n0                1  \n1                1  \n2                0  \n3                1  \n4                1  ",
      "text/html": "<div>\n<style scoped>\n    .dataframe tbody tr th:only-of-type {\n        vertical-align: middle;\n    }\n\n    .dataframe tbody tr th {\n        vertical-align: top;\n    }\n\n    .dataframe thead th {\n        text-align: right;\n    }\n</style>\n<table border=\"1\" class=\"dataframe\">\n  <thead>\n    <tr style=\"text-align: right;\">\n      <th></th>\n      <th>juv_fel_count</th>\n      <th>juv_misd_count</th>\n      <th>juv_other_count</th>\n      <th>priors_count</th>\n      <th>age_cat_25 - 45</th>\n    </tr>\n  </thead>\n  <tbody>\n    <tr>\n      <th>0</th>\n      <td>0.0</td>\n      <td>-2.340451</td>\n      <td>1.0</td>\n      <td>-15.010999</td>\n      <td>1</td>\n    </tr>\n    <tr>\n      <th>1</th>\n      <td>0.0</td>\n      <td>0.000000</td>\n      <td>0.0</td>\n      <td>0.000000</td>\n      <td>1</td>\n    </tr>\n    <tr>\n      <th>2</th>\n      <td>0.0</td>\n      <td>0.000000</td>\n      <td>0.0</td>\n      <td>0.000000</td>\n      <td>0</td>\n    </tr>\n    <tr>\n      <th>3</th>\n      <td>0.0</td>\n      <td>0.000000</td>\n      <td>0.0</td>\n      <td>6.000000</td>\n      <td>1</td>\n    </tr>\n    <tr>\n      <th>4</th>\n      <td>0.0</td>\n      <td>0.000000</td>\n      <td>0.0</td>\n      <td>7.513697</td>\n      <td>1</td>\n    </tr>\n  </tbody>\n</table>\n</div>"
     },
     "execution_count": 5,
     "metadata": {},
     "output_type": "execute_result"
    }
   ],
   "source": [
    "data_loader = CompasWithoutSensitiveAttrsDataset()\n",
    "data_loader.X_data[data_loader.X_data.columns[:5]].head()"
   ],
   "metadata": {
    "collapsed": false,
    "ExecuteTime": {
     "start_time": "2024-01-29T12:52:44.286801Z"
    }
   },
   "id": "30a74059"
  },
  {
   "cell_type": "code",
   "execution_count": 6,
   "outputs": [],
   "source": [
    "column_transformer = ColumnTransformer(transformers=[\n",
    "    ('categorical_features', OneHotEncoder(handle_unknown='ignore', sparse=False), data_loader.categorical_columns),\n",
    "    ('numerical_features', StandardScaler(), data_loader.numerical_columns),\n",
    "])"
   ],
   "metadata": {
    "collapsed": false,
    "ExecuteTime": {
     "start_time": "2024-01-29T12:52:44.317039Z"
    }
   },
   "id": "66d8d02378f28371"
  },
  {
   "cell_type": "code",
   "execution_count": 7,
   "outputs": [],
   "source": [
    "base_flow_dataset = preprocess_dataset(data_loader=data_loader,\n",
    "                                       column_transformer=column_transformer,\n",
    "                                       sensitive_attributes_dct=config.sensitive_attributes_dct,\n",
    "                                       test_set_fraction=TEST_SET_FRACTION,\n",
    "                                       dataset_split_seed=DATASET_SPLIT_SEED)"
   ],
   "metadata": {
    "collapsed": false,
    "ExecuteTime": {
     "start_time": "2024-01-29T12:52:44.337332Z"
    }
   },
   "id": "3737429ccf1869c"
  },
  {
   "cell_type": "markdown",
   "id": "f04867aa",
   "metadata": {},
   "source": [
    "### Create a models config"
   ]
  },
  {
   "cell_type": "markdown",
   "id": "faee85f0",
   "metadata": {},
   "source": [
    "**models_config** is a Python dictionary, where keys are model names and values are initialized models for analysis"
   ]
  },
  {
   "cell_type": "code",
   "execution_count": 10,
   "id": "a711e1af",
   "metadata": {
    "ExecuteTime": {
     "end_time": "2024-01-29T12:52:44.466527Z",
     "start_time": "2024-01-29T12:52:44.414104Z"
    }
   },
   "outputs": [],
   "source": [
    "models_config = {\n",
    "    'DecisionTreeClassifier': DecisionTreeClassifier(criterion='gini',\n",
    "                                                     max_depth=20,\n",
    "                                                     max_features=0.6,\n",
    "                                                     min_samples_split=0.1),\n",
    "    'RandomForestClassifier': RandomForestClassifier(max_depth=4,\n",
    "                                                     max_features=0.6,\n",
    "                                                     min_samples_leaf=1,\n",
    "                                                     n_estimators=50),\n",
    "}"
   ]
  },
  {
   "cell_type": "markdown",
   "id": "2d6ba72b",
   "metadata": {},
   "source": [
    "## Subgroup Metric Computation"
   ]
  },
  {
   "cell_type": "markdown",
   "id": "13404bc0",
   "metadata": {},
   "source": [
    "After that we need to input the _BaseFlowDataset_ object, models config, and config yaml to a metric computation interface and execute it. The interface uses subgroup analyzers to compute different sets of metrics for each privileged and disadvantaged group. As for now, our library supports **Subgroup Variance Analyzer** and **Subgroup Error Analyzer**, but it is easily extensible to any other analyzers. When the variance and error analyzers complete metric computation, their metrics are combined, returned in a matrix format, and stored in a file if defined."
   ]
  },
  {
   "cell_type": "code",
   "execution_count": 11,
   "id": "899e6ab4",
   "metadata": {
    "ExecuteTime": {
     "end_time": "2024-01-29T12:52:44.553020Z",
     "start_time": "2024-01-29T12:52:44.436965Z"
    }
   },
   "outputs": [],
   "source": [
    "import os\n",
    "from dotenv import load_dotenv\n",
    "from pymongo import MongoClient\n",
    "\n",
    "\n",
    "load_dotenv(os.path.join(ROOT_DIR, 'secrets.env'))  # Take environment variables from .env\n",
    "\n",
    "# Provide the mongodb atlas url to connect python to mongodb using pymongo\n",
    "CONNECTION_STRING = os.getenv(\"CONNECTION_STRING\")\n",
    "# Create a connection using MongoClient. You can import MongoClient or use pymongo.MongoClient\n",
    "client = MongoClient(CONNECTION_STRING)\n",
    "collection = client[os.getenv(\"DB_NAME\")]['preprocessing_results']\n",
    "\n",
    "\n",
    "def db_writer_func(run_models_metrics_df, collection=collection):\n",
    "    run_models_metrics_df.columns = run_models_metrics_df.columns.str.lower()  # Rename Pandas columns to lower case\n",
    "    collection.insert_many(run_models_metrics_df.to_dict('records'))"
   ]
  },
  {
   "cell_type": "code",
   "execution_count": 12,
   "id": "db8df420",
   "metadata": {
    "ExecuteTime": {
     "end_time": "2024-01-29T12:52:44.577601Z",
     "start_time": "2024-01-29T12:52:44.554193Z"
    }
   },
   "outputs": [
    {
     "name": "stdout",
     "output_type": "stream",
     "text": [
      "Current session uuid:  8d31eaab-5d6d-4830-9b23-c29355efa90b\n"
     ]
    }
   ],
   "source": [
    "import uuid\n",
    "\n",
    "custom_table_fields_dct = {\n",
    "    'session_uuid': str(uuid.uuid4()),\n",
    "    'preprocessing_techniques': 'one hot encoder and scaler',\n",
    "}\n",
    "print('Current session uuid: ', custom_table_fields_dct['session_uuid'])"
   ]
  },
  {
   "cell_type": "code",
   "execution_count": 13,
   "id": "46961cf7",
   "metadata": {
    "ExecuteTime": {
     "end_time": "2024-01-29T12:53:04.256266Z",
     "start_time": "2024-01-29T12:52:44.577900Z"
    }
   },
   "outputs": [
    {
     "name": "stdout",
     "output_type": "stream",
     "text": [
      "Analyze multiple models:   0%|\u001B[31m          \u001B[0m| 0/2 [00:00<?, ?it/s]\n",
      "Classifiers testing by bootstrap: 100%|\u001B[34m██████████\u001B[0m| 50/50 [00:00<00:00, 112.87it/s]\n",
      "Analyze multiple models:  50%|\u001B[31m█████     \u001B[0m| 1/2 [00:06<00:06,  6.70s/it]\n",
      "Classifiers testing by bootstrap: 100%|\u001B[34m██████████\u001B[0m| 50/50 [00:03<00:00, 16.63it/s]\n",
      "Analyze multiple models: 100%|\u001B[31m██████████\u001B[0m| 2/2 [00:16<00:00,  8.05s/it]\n"
     ]
    }
   ],
   "source": [
    "extra_test_sets_lst = [(base_flow_dataset.X_test, base_flow_dataset.y_test, base_flow_dataset.init_sensitive_attrs_df)]\n",
    "compute_metrics_with_multiple_test_sets(dataset=base_flow_dataset,\n",
    "                                        extra_test_sets_lst=extra_test_sets_lst,\n",
    "                                        config=config,\n",
    "                                        models_config=models_config,\n",
    "                                        custom_tbl_fields_dct=custom_table_fields_dct,\n",
    "                                        db_writer_func=db_writer_func)"
   ]
  },
  {
   "cell_type": "code",
   "execution_count": 14,
   "id": "180f429c",
   "metadata": {
    "ExecuteTime": {
     "end_time": "2024-01-29T12:53:04.301749Z",
     "start_time": "2024-01-29T12:53:04.261427Z"
    }
   },
   "outputs": [],
   "source": [
    "def read_model_metric_dfs_from_db(collection, session_uuid):\n",
    "    cursor = collection.find({'session_uuid': session_uuid})\n",
    "    records = []\n",
    "    for record in cursor:\n",
    "        del record['_id']\n",
    "        records.append(record)\n",
    "\n",
    "    model_metric_dfs = pd.DataFrame(records)\n",
    "\n",
    "    # Capitalize column names to be consistent across the whole library\n",
    "    new_column_names = []\n",
    "    for col in model_metric_dfs.columns:\n",
    "        new_col_name = '_'.join([c.capitalize() for c in col.split('_')])\n",
    "        new_column_names.append(new_col_name)\n",
    "\n",
    "    model_metric_dfs.columns = new_column_names\n",
    "    return model_metric_dfs"
   ]
  },
  {
   "cell_type": "code",
   "execution_count": 15,
   "id": "64a38bb0",
   "metadata": {
    "ExecuteTime": {
     "end_time": "2024-01-29T12:53:05.025605Z",
     "start_time": "2024-01-29T12:53:04.302111Z"
    }
   },
   "outputs": [],
   "source": [
    "model_metric_dfs = read_model_metric_dfs_from_db(collection, custom_table_fields_dct['session_uuid'])\n",
    "models_metrics_dct = create_models_metrics_dct_from_database_df(model_metric_dfs)"
   ]
  },
  {
   "cell_type": "code",
   "execution_count": 18,
   "outputs": [
    {
     "data": {
      "text/plain": "                   Metric              Model_Name  \\\n2                Accuracy  RandomForestClassifier   \n3                Accuracy  RandomForestClassifier   \n6   Aleatoric_Uncertainty  RandomForestClassifier   \n7   Aleatoric_Uncertainty  RandomForestClassifier   \n10  Epistemic_Uncertainty  RandomForestClassifier   \n11  Epistemic_Uncertainty  RandomForestClassifier   \n14                     F1  RandomForestClassifier   \n15                     F1  RandomForestClassifier   \n18                    FNR  RandomForestClassifier   \n19                    FNR  RandomForestClassifier   \n22                    FPR  RandomForestClassifier   \n23                    FPR  RandomForestClassifier   \n26                    IQR  RandomForestClassifier   \n27                    IQR  RandomForestClassifier   \n30                 Jitter  RandomForestClassifier   \n31                 Jitter  RandomForestClassifier   \n34        Label_Stability  RandomForestClassifier   \n35        Label_Stability  RandomForestClassifier   \n38        Mean_Prediction  RandomForestClassifier   \n39        Mean_Prediction  RandomForestClassifier   \n\n                                         Model_Params  \\\n2   {'bootstrap': True, 'ccp_alpha': 0.0, 'class_w...   \n3   {'bootstrap': True, 'ccp_alpha': 0.0, 'class_w...   \n6   {'bootstrap': True, 'ccp_alpha': 0.0, 'class_w...   \n7   {'bootstrap': True, 'ccp_alpha': 0.0, 'class_w...   \n10  {'bootstrap': True, 'ccp_alpha': 0.0, 'class_w...   \n11  {'bootstrap': True, 'ccp_alpha': 0.0, 'class_w...   \n14  {'bootstrap': True, 'ccp_alpha': 0.0, 'class_w...   \n15  {'bootstrap': True, 'ccp_alpha': 0.0, 'class_w...   \n18  {'bootstrap': True, 'ccp_alpha': 0.0, 'class_w...   \n19  {'bootstrap': True, 'ccp_alpha': 0.0, 'class_w...   \n22  {'bootstrap': True, 'ccp_alpha': 0.0, 'class_w...   \n23  {'bootstrap': True, 'ccp_alpha': 0.0, 'class_w...   \n26  {'bootstrap': True, 'ccp_alpha': 0.0, 'class_w...   \n27  {'bootstrap': True, 'ccp_alpha': 0.0, 'class_w...   \n30  {'bootstrap': True, 'ccp_alpha': 0.0, 'class_w...   \n31  {'bootstrap': True, 'ccp_alpha': 0.0, 'class_w...   \n34  {'bootstrap': True, 'ccp_alpha': 0.0, 'class_w...   \n35  {'bootstrap': True, 'ccp_alpha': 0.0, 'class_w...   \n38  {'bootstrap': True, 'ccp_alpha': 0.0, 'class_w...   \n39  {'bootstrap': True, 'ccp_alpha': 0.0, 'class_w...   \n\n                           Dataset_Name  Num_Estimators  Test_Set_Index Tag  \\\n2   COMPAS_Without_Sensitive_Attributes              50               0  OK   \n3   COMPAS_Without_Sensitive_Attributes              50               1  OK   \n6   COMPAS_Without_Sensitive_Attributes              50               0  OK   \n7   COMPAS_Without_Sensitive_Attributes              50               1  OK   \n10  COMPAS_Without_Sensitive_Attributes              50               0  OK   \n11  COMPAS_Without_Sensitive_Attributes              50               1  OK   \n14  COMPAS_Without_Sensitive_Attributes              50               0  OK   \n15  COMPAS_Without_Sensitive_Attributes              50               1  OK   \n18  COMPAS_Without_Sensitive_Attributes              50               0  OK   \n19  COMPAS_Without_Sensitive_Attributes              50               1  OK   \n22  COMPAS_Without_Sensitive_Attributes              50               0  OK   \n23  COMPAS_Without_Sensitive_Attributes              50               1  OK   \n26  COMPAS_Without_Sensitive_Attributes              50               0  OK   \n27  COMPAS_Without_Sensitive_Attributes              50               1  OK   \n30  COMPAS_Without_Sensitive_Attributes              50               0  OK   \n31  COMPAS_Without_Sensitive_Attributes              50               1  OK   \n34  COMPAS_Without_Sensitive_Attributes              50               0  OK   \n35  COMPAS_Without_Sensitive_Attributes              50               1  OK   \n38  COMPAS_Without_Sensitive_Attributes              50               0  OK   \n39  COMPAS_Without_Sensitive_Attributes              50               1  OK   \n\n   Record_Create_Date_Time                          Session_Uuid  \\\n2  2024-01-29 12:53:00.724  8d31eaab-5d6d-4830-9b23-c29355efa90b   \n3  2024-01-29 12:53:00.728  8d31eaab-5d6d-4830-9b23-c29355efa90b   \n6  2024-01-29 12:53:00.724  8d31eaab-5d6d-4830-9b23-c29355efa90b   \n7  2024-01-29 12:53:00.728  8d31eaab-5d6d-4830-9b23-c29355efa90b   \n10 2024-01-29 12:53:00.724  8d31eaab-5d6d-4830-9b23-c29355efa90b   \n11 2024-01-29 12:53:00.728  8d31eaab-5d6d-4830-9b23-c29355efa90b   \n14 2024-01-29 12:53:00.724  8d31eaab-5d6d-4830-9b23-c29355efa90b   \n15 2024-01-29 12:53:00.728  8d31eaab-5d6d-4830-9b23-c29355efa90b   \n18 2024-01-29 12:53:00.724  8d31eaab-5d6d-4830-9b23-c29355efa90b   \n19 2024-01-29 12:53:00.728  8d31eaab-5d6d-4830-9b23-c29355efa90b   \n22 2024-01-29 12:53:00.724  8d31eaab-5d6d-4830-9b23-c29355efa90b   \n23 2024-01-29 12:53:00.728  8d31eaab-5d6d-4830-9b23-c29355efa90b   \n26 2024-01-29 12:53:00.724  8d31eaab-5d6d-4830-9b23-c29355efa90b   \n27 2024-01-29 12:53:00.728  8d31eaab-5d6d-4830-9b23-c29355efa90b   \n30 2024-01-29 12:53:00.724  8d31eaab-5d6d-4830-9b23-c29355efa90b   \n31 2024-01-29 12:53:00.728  8d31eaab-5d6d-4830-9b23-c29355efa90b   \n34 2024-01-29 12:53:00.724  8d31eaab-5d6d-4830-9b23-c29355efa90b   \n35 2024-01-29 12:53:00.728  8d31eaab-5d6d-4830-9b23-c29355efa90b   \n38 2024-01-29 12:53:00.724  8d31eaab-5d6d-4830-9b23-c29355efa90b   \n39 2024-01-29 12:53:00.728  8d31eaab-5d6d-4830-9b23-c29355efa90b   \n\n      Preprocessing_Techniques  ...  sex&race_dis_incorrect  sex&race_priv  \\\n2   one hot encoder and scaler  ...                0.000000       0.701521   \n3   one hot encoder and scaler  ...                0.000000       0.701521   \n6   one hot encoder and scaler  ...                0.927344       0.907714   \n7   one hot encoder and scaler  ...                0.927344       0.907714   \n10  one hot encoder and scaler  ...                0.005648       0.005803   \n11  one hot encoder and scaler  ...                0.005648       0.005803   \n14  one hot encoder and scaler  ...                0.000000       0.560224   \n15  one hot encoder and scaler  ...                0.000000       0.560224   \n18  one hot encoder and scaler  ...                1.000000       0.468085   \n19  one hot encoder and scaler  ...                1.000000       0.468085   \n22  one hot encoder and scaler  ...                1.000000       0.204142   \n23  one hot encoder and scaler  ...                1.000000       0.204142   \n26  one hot encoder and scaler  ...                0.054553       0.052841   \n27  one hot encoder and scaler  ...                0.054553       0.052841   \n30  one hot encoder and scaler  ...                0.096073       0.079947   \n31  one hot encoder and scaler  ...                0.096073       0.079947   \n34  one hot encoder and scaler  ...                0.868323       0.893536   \n35  one hot encoder and scaler  ...                0.868323       0.893536   \n38  one hot encoder and scaler  ...                0.494237       0.573680   \n39  one hot encoder and scaler  ...                0.494237       0.573680   \n\n    sex&race_priv_correct  sex&race_priv_incorrect   sex_dis  sex_dis_correct  \\\n2                1.000000                 0.000000  0.704142         1.000000   \n3                1.000000                 0.000000  0.704142         1.000000   \n6                0.897444                 0.931851  0.905728         0.897731   \n7                0.897444                 0.931851  0.905728         0.897731   \n10               0.005455                 0.006622  0.006179         0.006217   \n11               0.005455                 0.006622  0.006179         0.006217   \n14               1.000000                 0.000000  0.685930         1.000000   \n15               1.000000                 0.000000  0.685930         1.000000   \n18               0.000000                 1.000000  0.310606         0.000000   \n19               0.000000                 1.000000  0.310606         0.000000   \n22               0.000000                 1.000000  0.282851         0.000000   \n23               0.000000                 1.000000  0.282851         0.000000   \n26               0.050180                 0.059094  0.055071         0.054580   \n27               0.050180                 0.059094  0.055071         0.054580   \n30               0.063406                 0.118825  0.076779         0.068873   \n31               0.063406                 0.118825  0.076779         0.068873   \n34               0.917724                 0.836688  0.896710         0.908706   \n35               0.917724                 0.836688  0.896710         0.908706   \n38               0.590608                 0.533895  0.510769         0.512022   \n39               0.590608                 0.533895  0.510769         0.512022   \n\n    sex_dis_incorrect  sex_priv  sex_priv_correct  sex_priv_incorrect  \n2            0.000000  0.677725          1.000000            0.000000  \n3            0.000000  0.677725          1.000000            0.000000  \n6            0.924762  0.914713          0.899245            0.947244  \n7            0.924762  0.914713          0.899245            0.947244  \n10           0.006088  0.005261          0.004777            0.006279  \n11           0.006088  0.005261          0.004777            0.006279  \n14           0.000000  0.492537          1.000000            0.000000  \n15           0.000000  0.492537          1.000000            0.000000  \n18           1.000000  0.560000          0.000000            1.000000  \n19           1.000000  0.560000          0.000000            1.000000  \n22           1.000000  0.191176          0.000000            1.000000  \n23           1.000000  0.191176          0.000000            1.000000  \n26           0.056240  0.050716          0.046855            0.058835  \n27           0.056240  0.050716          0.046855            0.058835  \n30           0.095595  0.095305          0.069125            0.150360  \n31           0.095595  0.095305          0.069125            0.150360  \n34           0.868160  0.872986          0.909650            0.795882  \n35           0.868160  0.872986          0.909650            0.795882  \n38           0.507785  0.575480          0.594258            0.535992  \n39           0.507785  0.575480          0.594258            0.535992  \n\n[20 rows x 29 columns]",
      "text/html": "<div>\n<style scoped>\n    .dataframe tbody tr th:only-of-type {\n        vertical-align: middle;\n    }\n\n    .dataframe tbody tr th {\n        vertical-align: top;\n    }\n\n    .dataframe thead th {\n        text-align: right;\n    }\n</style>\n<table border=\"1\" class=\"dataframe\">\n  <thead>\n    <tr style=\"text-align: right;\">\n      <th></th>\n      <th>Metric</th>\n      <th>Model_Name</th>\n      <th>Model_Params</th>\n      <th>Dataset_Name</th>\n      <th>Num_Estimators</th>\n      <th>Test_Set_Index</th>\n      <th>Tag</th>\n      <th>Record_Create_Date_Time</th>\n      <th>Session_Uuid</th>\n      <th>Preprocessing_Techniques</th>\n      <th>...</th>\n      <th>sex&amp;race_dis_incorrect</th>\n      <th>sex&amp;race_priv</th>\n      <th>sex&amp;race_priv_correct</th>\n      <th>sex&amp;race_priv_incorrect</th>\n      <th>sex_dis</th>\n      <th>sex_dis_correct</th>\n      <th>sex_dis_incorrect</th>\n      <th>sex_priv</th>\n      <th>sex_priv_correct</th>\n      <th>sex_priv_incorrect</th>\n    </tr>\n  </thead>\n  <tbody>\n    <tr>\n      <th>2</th>\n      <td>Accuracy</td>\n      <td>RandomForestClassifier</td>\n      <td>{'bootstrap': True, 'ccp_alpha': 0.0, 'class_w...</td>\n      <td>COMPAS_Without_Sensitive_Attributes</td>\n      <td>50</td>\n      <td>0</td>\n      <td>OK</td>\n      <td>2024-01-29 12:53:00.724</td>\n      <td>8d31eaab-5d6d-4830-9b23-c29355efa90b</td>\n      <td>one hot encoder and scaler</td>\n      <td>...</td>\n      <td>0.000000</td>\n      <td>0.701521</td>\n      <td>1.000000</td>\n      <td>0.000000</td>\n      <td>0.704142</td>\n      <td>1.000000</td>\n      <td>0.000000</td>\n      <td>0.677725</td>\n      <td>1.000000</td>\n      <td>0.000000</td>\n    </tr>\n    <tr>\n      <th>3</th>\n      <td>Accuracy</td>\n      <td>RandomForestClassifier</td>\n      <td>{'bootstrap': True, 'ccp_alpha': 0.0, 'class_w...</td>\n      <td>COMPAS_Without_Sensitive_Attributes</td>\n      <td>50</td>\n      <td>1</td>\n      <td>OK</td>\n      <td>2024-01-29 12:53:00.728</td>\n      <td>8d31eaab-5d6d-4830-9b23-c29355efa90b</td>\n      <td>one hot encoder and scaler</td>\n      <td>...</td>\n      <td>0.000000</td>\n      <td>0.701521</td>\n      <td>1.000000</td>\n      <td>0.000000</td>\n      <td>0.704142</td>\n      <td>1.000000</td>\n      <td>0.000000</td>\n      <td>0.677725</td>\n      <td>1.000000</td>\n      <td>0.000000</td>\n    </tr>\n    <tr>\n      <th>6</th>\n      <td>Aleatoric_Uncertainty</td>\n      <td>RandomForestClassifier</td>\n      <td>{'bootstrap': True, 'ccp_alpha': 0.0, 'class_w...</td>\n      <td>COMPAS_Without_Sensitive_Attributes</td>\n      <td>50</td>\n      <td>0</td>\n      <td>OK</td>\n      <td>2024-01-29 12:53:00.724</td>\n      <td>8d31eaab-5d6d-4830-9b23-c29355efa90b</td>\n      <td>one hot encoder and scaler</td>\n      <td>...</td>\n      <td>0.927344</td>\n      <td>0.907714</td>\n      <td>0.897444</td>\n      <td>0.931851</td>\n      <td>0.905728</td>\n      <td>0.897731</td>\n      <td>0.924762</td>\n      <td>0.914713</td>\n      <td>0.899245</td>\n      <td>0.947244</td>\n    </tr>\n    <tr>\n      <th>7</th>\n      <td>Aleatoric_Uncertainty</td>\n      <td>RandomForestClassifier</td>\n      <td>{'bootstrap': True, 'ccp_alpha': 0.0, 'class_w...</td>\n      <td>COMPAS_Without_Sensitive_Attributes</td>\n      <td>50</td>\n      <td>1</td>\n      <td>OK</td>\n      <td>2024-01-29 12:53:00.728</td>\n      <td>8d31eaab-5d6d-4830-9b23-c29355efa90b</td>\n      <td>one hot encoder and scaler</td>\n      <td>...</td>\n      <td>0.927344</td>\n      <td>0.907714</td>\n      <td>0.897444</td>\n      <td>0.931851</td>\n      <td>0.905728</td>\n      <td>0.897731</td>\n      <td>0.924762</td>\n      <td>0.914713</td>\n      <td>0.899245</td>\n      <td>0.947244</td>\n    </tr>\n    <tr>\n      <th>10</th>\n      <td>Epistemic_Uncertainty</td>\n      <td>RandomForestClassifier</td>\n      <td>{'bootstrap': True, 'ccp_alpha': 0.0, 'class_w...</td>\n      <td>COMPAS_Without_Sensitive_Attributes</td>\n      <td>50</td>\n      <td>0</td>\n      <td>OK</td>\n      <td>2024-01-29 12:53:00.724</td>\n      <td>8d31eaab-5d6d-4830-9b23-c29355efa90b</td>\n      <td>one hot encoder and scaler</td>\n      <td>...</td>\n      <td>0.005648</td>\n      <td>0.005803</td>\n      <td>0.005455</td>\n      <td>0.006622</td>\n      <td>0.006179</td>\n      <td>0.006217</td>\n      <td>0.006088</td>\n      <td>0.005261</td>\n      <td>0.004777</td>\n      <td>0.006279</td>\n    </tr>\n    <tr>\n      <th>11</th>\n      <td>Epistemic_Uncertainty</td>\n      <td>RandomForestClassifier</td>\n      <td>{'bootstrap': True, 'ccp_alpha': 0.0, 'class_w...</td>\n      <td>COMPAS_Without_Sensitive_Attributes</td>\n      <td>50</td>\n      <td>1</td>\n      <td>OK</td>\n      <td>2024-01-29 12:53:00.728</td>\n      <td>8d31eaab-5d6d-4830-9b23-c29355efa90b</td>\n      <td>one hot encoder and scaler</td>\n      <td>...</td>\n      <td>0.005648</td>\n      <td>0.005803</td>\n      <td>0.005455</td>\n      <td>0.006622</td>\n      <td>0.006179</td>\n      <td>0.006217</td>\n      <td>0.006088</td>\n      <td>0.005261</td>\n      <td>0.004777</td>\n      <td>0.006279</td>\n    </tr>\n    <tr>\n      <th>14</th>\n      <td>F1</td>\n      <td>RandomForestClassifier</td>\n      <td>{'bootstrap': True, 'ccp_alpha': 0.0, 'class_w...</td>\n      <td>COMPAS_Without_Sensitive_Attributes</td>\n      <td>50</td>\n      <td>0</td>\n      <td>OK</td>\n      <td>2024-01-29 12:53:00.724</td>\n      <td>8d31eaab-5d6d-4830-9b23-c29355efa90b</td>\n      <td>one hot encoder and scaler</td>\n      <td>...</td>\n      <td>0.000000</td>\n      <td>0.560224</td>\n      <td>1.000000</td>\n      <td>0.000000</td>\n      <td>0.685930</td>\n      <td>1.000000</td>\n      <td>0.000000</td>\n      <td>0.492537</td>\n      <td>1.000000</td>\n      <td>0.000000</td>\n    </tr>\n    <tr>\n      <th>15</th>\n      <td>F1</td>\n      <td>RandomForestClassifier</td>\n      <td>{'bootstrap': True, 'ccp_alpha': 0.0, 'class_w...</td>\n      <td>COMPAS_Without_Sensitive_Attributes</td>\n      <td>50</td>\n      <td>1</td>\n      <td>OK</td>\n      <td>2024-01-29 12:53:00.728</td>\n      <td>8d31eaab-5d6d-4830-9b23-c29355efa90b</td>\n      <td>one hot encoder and scaler</td>\n      <td>...</td>\n      <td>0.000000</td>\n      <td>0.560224</td>\n      <td>1.000000</td>\n      <td>0.000000</td>\n      <td>0.685930</td>\n      <td>1.000000</td>\n      <td>0.000000</td>\n      <td>0.492537</td>\n      <td>1.000000</td>\n      <td>0.000000</td>\n    </tr>\n    <tr>\n      <th>18</th>\n      <td>FNR</td>\n      <td>RandomForestClassifier</td>\n      <td>{'bootstrap': True, 'ccp_alpha': 0.0, 'class_w...</td>\n      <td>COMPAS_Without_Sensitive_Attributes</td>\n      <td>50</td>\n      <td>0</td>\n      <td>OK</td>\n      <td>2024-01-29 12:53:00.724</td>\n      <td>8d31eaab-5d6d-4830-9b23-c29355efa90b</td>\n      <td>one hot encoder and scaler</td>\n      <td>...</td>\n      <td>1.000000</td>\n      <td>0.468085</td>\n      <td>0.000000</td>\n      <td>1.000000</td>\n      <td>0.310606</td>\n      <td>0.000000</td>\n      <td>1.000000</td>\n      <td>0.560000</td>\n      <td>0.000000</td>\n      <td>1.000000</td>\n    </tr>\n    <tr>\n      <th>19</th>\n      <td>FNR</td>\n      <td>RandomForestClassifier</td>\n      <td>{'bootstrap': True, 'ccp_alpha': 0.0, 'class_w...</td>\n      <td>COMPAS_Without_Sensitive_Attributes</td>\n      <td>50</td>\n      <td>1</td>\n      <td>OK</td>\n      <td>2024-01-29 12:53:00.728</td>\n      <td>8d31eaab-5d6d-4830-9b23-c29355efa90b</td>\n      <td>one hot encoder and scaler</td>\n      <td>...</td>\n      <td>1.000000</td>\n      <td>0.468085</td>\n      <td>0.000000</td>\n      <td>1.000000</td>\n      <td>0.310606</td>\n      <td>0.000000</td>\n      <td>1.000000</td>\n      <td>0.560000</td>\n      <td>0.000000</td>\n      <td>1.000000</td>\n    </tr>\n    <tr>\n      <th>22</th>\n      <td>FPR</td>\n      <td>RandomForestClassifier</td>\n      <td>{'bootstrap': True, 'ccp_alpha': 0.0, 'class_w...</td>\n      <td>COMPAS_Without_Sensitive_Attributes</td>\n      <td>50</td>\n      <td>0</td>\n      <td>OK</td>\n      <td>2024-01-29 12:53:00.724</td>\n      <td>8d31eaab-5d6d-4830-9b23-c29355efa90b</td>\n      <td>one hot encoder and scaler</td>\n      <td>...</td>\n      <td>1.000000</td>\n      <td>0.204142</td>\n      <td>0.000000</td>\n      <td>1.000000</td>\n      <td>0.282851</td>\n      <td>0.000000</td>\n      <td>1.000000</td>\n      <td>0.191176</td>\n      <td>0.000000</td>\n      <td>1.000000</td>\n    </tr>\n    <tr>\n      <th>23</th>\n      <td>FPR</td>\n      <td>RandomForestClassifier</td>\n      <td>{'bootstrap': True, 'ccp_alpha': 0.0, 'class_w...</td>\n      <td>COMPAS_Without_Sensitive_Attributes</td>\n      <td>50</td>\n      <td>1</td>\n      <td>OK</td>\n      <td>2024-01-29 12:53:00.728</td>\n      <td>8d31eaab-5d6d-4830-9b23-c29355efa90b</td>\n      <td>one hot encoder and scaler</td>\n      <td>...</td>\n      <td>1.000000</td>\n      <td>0.204142</td>\n      <td>0.000000</td>\n      <td>1.000000</td>\n      <td>0.282851</td>\n      <td>0.000000</td>\n      <td>1.000000</td>\n      <td>0.191176</td>\n      <td>0.000000</td>\n      <td>1.000000</td>\n    </tr>\n    <tr>\n      <th>26</th>\n      <td>IQR</td>\n      <td>RandomForestClassifier</td>\n      <td>{'bootstrap': True, 'ccp_alpha': 0.0, 'class_w...</td>\n      <td>COMPAS_Without_Sensitive_Attributes</td>\n      <td>50</td>\n      <td>0</td>\n      <td>OK</td>\n      <td>2024-01-29 12:53:00.724</td>\n      <td>8d31eaab-5d6d-4830-9b23-c29355efa90b</td>\n      <td>one hot encoder and scaler</td>\n      <td>...</td>\n      <td>0.054553</td>\n      <td>0.052841</td>\n      <td>0.050180</td>\n      <td>0.059094</td>\n      <td>0.055071</td>\n      <td>0.054580</td>\n      <td>0.056240</td>\n      <td>0.050716</td>\n      <td>0.046855</td>\n      <td>0.058835</td>\n    </tr>\n    <tr>\n      <th>27</th>\n      <td>IQR</td>\n      <td>RandomForestClassifier</td>\n      <td>{'bootstrap': True, 'ccp_alpha': 0.0, 'class_w...</td>\n      <td>COMPAS_Without_Sensitive_Attributes</td>\n      <td>50</td>\n      <td>1</td>\n      <td>OK</td>\n      <td>2024-01-29 12:53:00.728</td>\n      <td>8d31eaab-5d6d-4830-9b23-c29355efa90b</td>\n      <td>one hot encoder and scaler</td>\n      <td>...</td>\n      <td>0.054553</td>\n      <td>0.052841</td>\n      <td>0.050180</td>\n      <td>0.059094</td>\n      <td>0.055071</td>\n      <td>0.054580</td>\n      <td>0.056240</td>\n      <td>0.050716</td>\n      <td>0.046855</td>\n      <td>0.058835</td>\n    </tr>\n    <tr>\n      <th>30</th>\n      <td>Jitter</td>\n      <td>RandomForestClassifier</td>\n      <td>{'bootstrap': True, 'ccp_alpha': 0.0, 'class_w...</td>\n      <td>COMPAS_Without_Sensitive_Attributes</td>\n      <td>50</td>\n      <td>0</td>\n      <td>OK</td>\n      <td>2024-01-29 12:53:00.724</td>\n      <td>8d31eaab-5d6d-4830-9b23-c29355efa90b</td>\n      <td>one hot encoder and scaler</td>\n      <td>...</td>\n      <td>0.096073</td>\n      <td>0.079947</td>\n      <td>0.063406</td>\n      <td>0.118825</td>\n      <td>0.076779</td>\n      <td>0.068873</td>\n      <td>0.095595</td>\n      <td>0.095305</td>\n      <td>0.069125</td>\n      <td>0.150360</td>\n    </tr>\n    <tr>\n      <th>31</th>\n      <td>Jitter</td>\n      <td>RandomForestClassifier</td>\n      <td>{'bootstrap': True, 'ccp_alpha': 0.0, 'class_w...</td>\n      <td>COMPAS_Without_Sensitive_Attributes</td>\n      <td>50</td>\n      <td>1</td>\n      <td>OK</td>\n      <td>2024-01-29 12:53:00.728</td>\n      <td>8d31eaab-5d6d-4830-9b23-c29355efa90b</td>\n      <td>one hot encoder and scaler</td>\n      <td>...</td>\n      <td>0.096073</td>\n      <td>0.079947</td>\n      <td>0.063406</td>\n      <td>0.118825</td>\n      <td>0.076779</td>\n      <td>0.068873</td>\n      <td>0.095595</td>\n      <td>0.095305</td>\n      <td>0.069125</td>\n      <td>0.150360</td>\n    </tr>\n    <tr>\n      <th>34</th>\n      <td>Label_Stability</td>\n      <td>RandomForestClassifier</td>\n      <td>{'bootstrap': True, 'ccp_alpha': 0.0, 'class_w...</td>\n      <td>COMPAS_Without_Sensitive_Attributes</td>\n      <td>50</td>\n      <td>0</td>\n      <td>OK</td>\n      <td>2024-01-29 12:53:00.724</td>\n      <td>8d31eaab-5d6d-4830-9b23-c29355efa90b</td>\n      <td>one hot encoder and scaler</td>\n      <td>...</td>\n      <td>0.868323</td>\n      <td>0.893536</td>\n      <td>0.917724</td>\n      <td>0.836688</td>\n      <td>0.896710</td>\n      <td>0.908706</td>\n      <td>0.868160</td>\n      <td>0.872986</td>\n      <td>0.909650</td>\n      <td>0.795882</td>\n    </tr>\n    <tr>\n      <th>35</th>\n      <td>Label_Stability</td>\n      <td>RandomForestClassifier</td>\n      <td>{'bootstrap': True, 'ccp_alpha': 0.0, 'class_w...</td>\n      <td>COMPAS_Without_Sensitive_Attributes</td>\n      <td>50</td>\n      <td>1</td>\n      <td>OK</td>\n      <td>2024-01-29 12:53:00.728</td>\n      <td>8d31eaab-5d6d-4830-9b23-c29355efa90b</td>\n      <td>one hot encoder and scaler</td>\n      <td>...</td>\n      <td>0.868323</td>\n      <td>0.893536</td>\n      <td>0.917724</td>\n      <td>0.836688</td>\n      <td>0.896710</td>\n      <td>0.908706</td>\n      <td>0.868160</td>\n      <td>0.872986</td>\n      <td>0.909650</td>\n      <td>0.795882</td>\n    </tr>\n    <tr>\n      <th>38</th>\n      <td>Mean_Prediction</td>\n      <td>RandomForestClassifier</td>\n      <td>{'bootstrap': True, 'ccp_alpha': 0.0, 'class_w...</td>\n      <td>COMPAS_Without_Sensitive_Attributes</td>\n      <td>50</td>\n      <td>0</td>\n      <td>OK</td>\n      <td>2024-01-29 12:53:00.724</td>\n      <td>8d31eaab-5d6d-4830-9b23-c29355efa90b</td>\n      <td>one hot encoder and scaler</td>\n      <td>...</td>\n      <td>0.494237</td>\n      <td>0.573680</td>\n      <td>0.590608</td>\n      <td>0.533895</td>\n      <td>0.510769</td>\n      <td>0.512022</td>\n      <td>0.507785</td>\n      <td>0.575480</td>\n      <td>0.594258</td>\n      <td>0.535992</td>\n    </tr>\n    <tr>\n      <th>39</th>\n      <td>Mean_Prediction</td>\n      <td>RandomForestClassifier</td>\n      <td>{'bootstrap': True, 'ccp_alpha': 0.0, 'class_w...</td>\n      <td>COMPAS_Without_Sensitive_Attributes</td>\n      <td>50</td>\n      <td>1</td>\n      <td>OK</td>\n      <td>2024-01-29 12:53:00.728</td>\n      <td>8d31eaab-5d6d-4830-9b23-c29355efa90b</td>\n      <td>one hot encoder and scaler</td>\n      <td>...</td>\n      <td>0.494237</td>\n      <td>0.573680</td>\n      <td>0.590608</td>\n      <td>0.533895</td>\n      <td>0.510769</td>\n      <td>0.512022</td>\n      <td>0.507785</td>\n      <td>0.575480</td>\n      <td>0.594258</td>\n      <td>0.535992</td>\n    </tr>\n  </tbody>\n</table>\n<p>20 rows × 29 columns</p>\n</div>"
     },
     "execution_count": 18,
     "metadata": {},
     "output_type": "execute_result"
    }
   ],
   "source": [
    "models_metrics_dct['RandomForestClassifier'].head(20)"
   ],
   "metadata": {
    "collapsed": false,
    "ExecuteTime": {
     "end_time": "2024-01-29T12:54:11.425034Z",
     "start_time": "2024-01-29T12:54:11.370528Z"
    }
   },
   "id": "6f89c610f695175d"
  },
  {
   "cell_type": "code",
   "execution_count": 16,
   "id": "9e73354b",
   "metadata": {
    "ExecuteTime": {
     "end_time": "2024-01-29T12:53:05.157006Z",
     "start_time": "2024-01-29T12:53:05.026096Z"
    }
   },
   "outputs": [],
   "source": [
    "client.close()"
   ]
  },
  {
   "cell_type": "code",
   "execution_count": 16,
   "id": "a94b000c",
   "metadata": {
    "ExecuteTime": {
     "end_time": "2024-01-29T12:53:05.157214Z",
     "start_time": "2024-01-29T12:53:05.153617Z"
    }
   },
   "outputs": [],
   "source": []
  }
 ],
 "metadata": {
  "kernelspec": {
   "display_name": "Python 3",
   "language": "python",
   "name": "python3"
  },
  "language_info": {
   "codemirror_mode": {
    "name": "ipython",
    "version": 3
   },
   "file_extension": ".py",
   "mimetype": "text/x-python",
   "name": "python",
   "nbconvert_exporter": "python",
   "pygments_lexer": "ipython3",
   "version": "3.8.5"
  },
  "vscode": {
   "interpreter": {
    "hash": "aeeedfdcfbb7d0bd7e8ae453d9cd04ee7ebd63a67f7841163d9437c8723e8c72"
   }
  }
 },
 "nbformat": 4,
 "nbformat_minor": 5
}
