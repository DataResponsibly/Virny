{
 "cells": [
  {
   "cell_type": "markdown",
   "metadata": {},
   "source": [
    "# Cloning and mutating"
   ]
  },
  {
   "cell_type": "markdown",
   "metadata": {},
   "source": [
    "Sometimes you might want to reset a model, or edit (what we call mutate) its attributes. This can be useful in an online environment. Indeed, if you detect a drift, then you might want to mutate a model's attributes. Or if you see that a performance's model is plummeting, then you might to reset it to its \"factory settings\".\n",
    "\n",
    "Anyway, this is not to convince you, but rather to say that a model's attributes don't have be to set in stone throughout its lifetime. In particular, if you're developping your own model, then you might want to have good tools to do this. This is what this recipe is about."
   ]
  },
  {
   "cell_type": "markdown",
   "metadata": {},
   "source": [
    "## Cloning\n",
    "\n",
    "The first thing you can do is clone a model. This creates a deep copy of the model. The resulting model is entirely independent of the original model. The clone is fresh, in the sense that it is as if it hasn't seen any data.\n",
    "\n",
    "For instance, say you have a linear regression model which you have trained on some data."
   ]
  },
  {
   "cell_type": "code",
   "execution_count": 2,
   "metadata": {},
   "outputs": [
    {
     "data": {
      "text/html": [
       "<pre style=\"white-space:pre;overflow-x:auto;line-height:normal;font-family:Menlo,'DejaVu Sans Mono',consolas,'Courier New',monospace\">\n",
       "<span style=\"font-weight: bold\">{</span>\n",
       "    <span style=\"color: #008000; text-decoration-color: #008000\">'ordinal_date'</span>: <span style=\"color: #008080; text-decoration-color: #008080; font-weight: bold\">20.59955380229643</span>,\n",
       "    <span style=\"color: #008000; text-decoration-color: #008000\">'gallup'</span>: <span style=\"color: #008080; text-decoration-color: #008080; font-weight: bold\">0.39114944304212645</span>,\n",
       "    <span style=\"color: #008000; text-decoration-color: #008000\">'ipsos'</span>: <span style=\"color: #008080; text-decoration-color: #008080; font-weight: bold\">0.4101918314868111</span>,\n",
       "    <span style=\"color: #008000; text-decoration-color: #008000\">'morning_consult'</span>: <span style=\"color: #008080; text-decoration-color: #008080; font-weight: bold\">0.12042970179504908</span>,\n",
       "    <span style=\"color: #008000; text-decoration-color: #008000\">'rasmussen'</span>: <span style=\"color: #008080; text-decoration-color: #008080; font-weight: bold\">0.18951231512561392</span>,\n",
       "    <span style=\"color: #008000; text-decoration-color: #008000\">'you_gov'</span>: <span style=\"color: #008080; text-decoration-color: #008080; font-weight: bold\">0.04991712783831687</span>\n",
       "<span style=\"font-weight: bold\">}</span>\n",
       "</pre>\n"
      ],
      "text/plain": [
       "\n",
       "\u001B[1m{\u001B[0m\n",
       "    \u001B[32m'ordinal_date'\u001B[0m: \u001B[1;36m20.59955380229643\u001B[0m,\n",
       "    \u001B[32m'gallup'\u001B[0m: \u001B[1;36m0.39114944304212645\u001B[0m,\n",
       "    \u001B[32m'ipsos'\u001B[0m: \u001B[1;36m0.4101918314868111\u001B[0m,\n",
       "    \u001B[32m'morning_consult'\u001B[0m: \u001B[1;36m0.12042970179504908\u001B[0m,\n",
       "    \u001B[32m'rasmussen'\u001B[0m: \u001B[1;36m0.18951231512561392\u001B[0m,\n",
       "    \u001B[32m'you_gov'\u001B[0m: \u001B[1;36m0.04991712783831687\u001B[0m\n",
       "\u001B[1m}\u001B[0m\n"
      ]
     },
     "metadata": {},
     "output_type": "display_data"
    }
   ],
   "source": [
    "from river import datasets, linear_model, optim, preprocessing\n",
    "\n",
    "model = (\n",
    "    preprocessing.StandardScaler() |\n",
    "    linear_model.LinearRegression(\n",
    "        optimizer=optim.SGD(3e-2)\n",
    "    )\n",
    ")\n",
    "\n",
    "for x, y in datasets.TrumpApproval():\n",
    "    model.predict_one(x)\n",
    "    model.learn_one(x, y)\n",
    "\n",
    "model[-1].weights"
   ]
  },
  {
   "cell_type": "markdown",
   "metadata": {},
   "source": [
    "For whatever reason, we may want to clone this model. This can be done with the `clone` method."
   ]
  },
  {
   "cell_type": "code",
   "execution_count": 3,
   "metadata": {},
   "outputs": [
    {
     "data": {
      "text/html": [
       "<pre style=\"white-space:pre;overflow-x:auto;line-height:normal;font-family:Menlo,'DejaVu Sans Mono',consolas,'Courier New',monospace\"><span style=\"font-weight: bold\">{}</span>\n",
       "</pre>\n"
      ],
      "text/plain": [
       "\u001B[1m{\u001B[0m\u001B[1m}\u001B[0m\n"
      ]
     },
     "metadata": {},
     "output_type": "display_data"
    }
   ],
   "source": [
    "clone = model.clone()\n",
    "clone[-1].weights"
   ]
  },
  {
   "cell_type": "markdown",
   "metadata": {},
   "source": [
    "As we can see, there are no weights because the clone is fresh copy that has not seen any data. However, the learning rate we specified is preserved."
   ]
  },
  {
   "cell_type": "code",
   "execution_count": 4,
   "metadata": {},
   "outputs": [
    {
     "data": {
      "text/html": [
       "<pre style=\"white-space:pre;overflow-x:auto;line-height:normal;font-family:Menlo,'DejaVu Sans Mono',consolas,'Courier New',monospace\"><span style=\"color: #008080; text-decoration-color: #008080; font-weight: bold\">0.03</span>\n",
       "</pre>\n"
      ],
      "text/plain": [
       "\u001B[1;36m0.03\u001B[0m\n"
      ]
     },
     "metadata": {},
     "output_type": "display_data"
    }
   ],
   "source": [
    "clone[-1].optimizer.learning_rate"
   ]
  },
  {
   "cell_type": "markdown",
   "metadata": {},
   "source": [
    "You may also specify parameters you want changed. For instance, let's say we want to clone the model, but we want to change the optimizer:"
   ]
  },
  {
   "cell_type": "code",
   "execution_count": 5,
   "metadata": {},
   "outputs": [
    {
     "data": {
      "text/html": [
       "<pre style=\"white-space:pre;overflow-x:auto;line-height:normal;font-family:Menlo,'DejaVu Sans Mono',consolas,'Courier New',monospace\"><span style=\"color: #800080; text-decoration-color: #800080; font-weight: bold\">Adam</span><span style=\"font-weight: bold\">({</span><span style=\"color: #008000; text-decoration-color: #008000\">'lr'</span>: <span style=\"color: #800080; text-decoration-color: #800080; font-weight: bold\">Constant</span><span style=\"font-weight: bold\">({</span><span style=\"color: #008000; text-decoration-color: #008000\">'learning_rate'</span>: <span style=\"color: #008080; text-decoration-color: #008080; font-weight: bold\">0.1</span><span style=\"font-weight: bold\">})</span>, <span style=\"color: #008000; text-decoration-color: #008000\">'n_iterations'</span>: <span style=\"color: #008080; text-decoration-color: #008080; font-weight: bold\">0</span>, <span style=\"color: #008000; text-decoration-color: #008000\">'beta_1'</span>: <span style=\"color: #008080; text-decoration-color: #008080; font-weight: bold\">0.9</span>, <span style=\"color: #008000; text-decoration-color: #008000\">'beta_2'</span>: <span style=\"color: #008080; text-decoration-color: #008080; font-weight: bold\">0.999</span>, <span style=\"color: #008000; text-decoration-color: #008000\">'eps'</span>: <span style=\"color: #008080; text-decoration-color: #008080; font-weight: bold\">1e-08</span>, <span style=\"color: #008000; text-decoration-color: #008000\">'m'</span>: <span style=\"color: #800080; text-decoration-color: #800080; font-style: italic\">None</span>, <span style=\"color: #008000; text-decoration-color: #008000\">'v'</span>: <span style=\"color: #800080; text-decoration-color: #800080; font-style: italic\">None</span><span style=\"font-weight: bold\">})</span>\n",
       "</pre>\n"
      ],
      "text/plain": [
       "\u001B[1;35mAdam\u001B[0m\u001B[1m(\u001B[0m\u001B[1m{\u001B[0m\u001B[32m'lr'\u001B[0m: \u001B[1;35mConstant\u001B[0m\u001B[1m(\u001B[0m\u001B[1m{\u001B[0m\u001B[32m'learning_rate'\u001B[0m: \u001B[1;36m0.1\u001B[0m\u001B[1m}\u001B[0m\u001B[1m)\u001B[0m, \u001B[32m'n_iterations'\u001B[0m: \u001B[1;36m0\u001B[0m, \u001B[32m'beta_1'\u001B[0m: \u001B[1;36m0.9\u001B[0m, \u001B[32m'beta_2'\u001B[0m: \u001B[1;36m0.999\u001B[0m, \u001B[32m'eps'\u001B[0m: \u001B[1;36m1e-08\u001B[0m, \u001B[32m'm'\u001B[0m: \u001B[3;35mNone\u001B[0m, \u001B[32m'v'\u001B[0m: \u001B[3;35mNone\u001B[0m\u001B[1m}\u001B[0m\u001B[1m)\u001B[0m\n"
      ]
     },
     "metadata": {},
     "output_type": "display_data"
    }
   ],
   "source": [
    "clone = model.clone({\"LinearRegression\": {\"optimizer\": optim.Adam()}})\n",
    "clone[-1].optimizer"
   ]
  },
  {
   "cell_type": "markdown",
   "metadata": {},
   "source": [
    "The first key indicates that we want to specify a different parameter for the `LinearRegression` part of the pipeline. Then the second key accesses the linear regression's `optimizer` parameter.\n",
    "\n",
    "Finally, note that the `clone` method isn't reserved to models. Indeed, every object in River has it. That's because they all inherit from the `Base` class in the `base` module."
   ]
  },
  {
   "cell_type": "markdown",
   "metadata": {},
   "source": [
    "## Mutating attributes\n",
    "\n",
    "Cloning a model can be useful, but the fact that it essentially resets the model may not be desired. Instead, you might want to change a attribute while preserving the model's state. For example, let's change the `l2` attribute, and the optimizer's `lr` attribute."
   ]
  },
  {
   "cell_type": "code",
   "execution_count": 6,
   "metadata": {},
   "outputs": [
    {
     "name": "stdout",
     "output_type": "stream",
     "text": [
      "Pipeline (\n",
      "  StandardScaler (\n",
      "    with_std=True\n",
      "  ),\n",
      "  LinearRegression (\n",
      "    optimizer=SGD (\n",
      "      lr=Constant (\n",
      "        learning_rate=0.025\n",
      "      )\n",
      "    )\n",
      "    loss=Squared ()\n",
      "    l2=0.1\n",
      "    l1=0.\n",
      "    intercept_init=0.\n",
      "    intercept_lr=Constant (\n",
      "      learning_rate=0.01\n",
      "    )\n",
      "    clip_gradient=1e+12\n",
      "    initializer=Zeros ()\n",
      "  )\n",
      ")\n"
     ]
    }
   ],
   "source": [
    "model.mutate({\n",
    "    \"LinearRegression\": {\n",
    "        \"l2\": 0.1,\n",
    "        \"optimizer\": {\n",
    "            \"lr\": optim.schedulers.Constant(25e-3)\n",
    "        }\n",
    "    }\n",
    "})\n",
    "\n",
    "print(repr(model))"
   ]
  },
  {
   "cell_type": "markdown",
   "metadata": {},
   "source": [
    "We can see the attributes we specified have changed. However, the model's state is preserved:"
   ]
  },
  {
   "cell_type": "code",
   "execution_count": 7,
   "metadata": {},
   "outputs": [
    {
     "data": {
      "text/html": [
       "<pre style=\"white-space:pre;overflow-x:auto;line-height:normal;font-family:Menlo,'DejaVu Sans Mono',consolas,'Courier New',monospace\">\n",
       "<span style=\"font-weight: bold\">{</span>\n",
       "    <span style=\"color: #008000; text-decoration-color: #008000\">'ordinal_date'</span>: <span style=\"color: #008080; text-decoration-color: #008080; font-weight: bold\">20.59955380229643</span>,\n",
       "    <span style=\"color: #008000; text-decoration-color: #008000\">'gallup'</span>: <span style=\"color: #008080; text-decoration-color: #008080; font-weight: bold\">0.39114944304212645</span>,\n",
       "    <span style=\"color: #008000; text-decoration-color: #008000\">'ipsos'</span>: <span style=\"color: #008080; text-decoration-color: #008080; font-weight: bold\">0.4101918314868111</span>,\n",
       "    <span style=\"color: #008000; text-decoration-color: #008000\">'morning_consult'</span>: <span style=\"color: #008080; text-decoration-color: #008080; font-weight: bold\">0.12042970179504908</span>,\n",
       "    <span style=\"color: #008000; text-decoration-color: #008000\">'rasmussen'</span>: <span style=\"color: #008080; text-decoration-color: #008080; font-weight: bold\">0.18951231512561392</span>,\n",
       "    <span style=\"color: #008000; text-decoration-color: #008000\">'you_gov'</span>: <span style=\"color: #008080; text-decoration-color: #008080; font-weight: bold\">0.04991712783831687</span>\n",
       "<span style=\"font-weight: bold\">}</span>\n",
       "</pre>\n"
      ],
      "text/plain": [
       "\n",
       "\u001B[1m{\u001B[0m\n",
       "    \u001B[32m'ordinal_date'\u001B[0m: \u001B[1;36m20.59955380229643\u001B[0m,\n",
       "    \u001B[32m'gallup'\u001B[0m: \u001B[1;36m0.39114944304212645\u001B[0m,\n",
       "    \u001B[32m'ipsos'\u001B[0m: \u001B[1;36m0.4101918314868111\u001B[0m,\n",
       "    \u001B[32m'morning_consult'\u001B[0m: \u001B[1;36m0.12042970179504908\u001B[0m,\n",
       "    \u001B[32m'rasmussen'\u001B[0m: \u001B[1;36m0.18951231512561392\u001B[0m,\n",
       "    \u001B[32m'you_gov'\u001B[0m: \u001B[1;36m0.04991712783831687\u001B[0m\n",
       "\u001B[1m}\u001B[0m\n"
      ]
     },
     "metadata": {},
     "output_type": "display_data"
    }
   ],
   "source": [
    "model[-1].weights"
   ]
  },
  {
   "cell_type": "markdown",
   "metadata": {},
   "source": [
    "In other words, the `mutate` method does not create a deep copy of the model. It just sets attributes. At this point you may ask:\n",
    "\n",
    "> *Why can't I just change the attribute directly, without calling `mutate`?*\n",
    "\n",
    "The answer is that you're free to do proceed as such, but it's not the way we recommend. The `mutate` method is safer, in that it prevents you from mutating attributes you shouldn't be touching. We call these *immutable attributes*. For instance, there's no reason you should be modifying the weights."
   ]
  },
  {
   "cell_type": "code",
   "execution_count": 8,
   "metadata": {},
   "outputs": [
    {
     "name": "stdout",
     "output_type": "stream",
     "text": [
      "'weights' is not a mutable attribute of LinearRegression\n"
     ]
    }
   ],
   "source": [
    "try:\n",
    "    model.mutate({\n",
    "        \"LinearRegression\": {\n",
    "            \"weights\": \"this makes no sense\"\n",
    "        }\n",
    "    })\n",
    "except ValueError as e:\n",
    "    print(e)"
   ]
  },
  {
   "cell_type": "markdown",
   "metadata": {},
   "source": [
    "All attributes are immutable by default. Under the hood, each model can specify a set of mutable attributes via the `_mutable_attributes` property. In theory this can be overriden. But the general idea is that we will progressively add more and more mutable attributes with time.\n",
    "\n",
    "And that concludes this recipe. Arguably, this recipe caters to advanced users, and in particular users who are developping their own models. And yet, one could also argue that modifying parameters of a model on-the-fly is a great tool to have at your disposal when you're doing online machine learning."
   ]
  }
 ],
 "metadata": {
  "interpreter": {
   "hash": "e6e87bad9c8c768904c061eafcb4f6739260ff8bb57f302c215ab258ded773dc"
  },
  "kernelspec": {
   "display_name": "Python 3.9.12 ('river')",
   "language": "python",
   "name": "python3"
  },
  "language_info": {
   "codemirror_mode": {
    "name": "ipython",
    "version": 3
   },
   "file_extension": ".py",
   "mimetype": "text/x-python",
   "name": "python",
   "nbconvert_exporter": "python",
   "pygments_lexer": "ipython3",
   "version": "3.9.12"
  },
  "orig_nbformat": 4
 },
 "nbformat": 4,
 "nbformat_minor": 2
}
