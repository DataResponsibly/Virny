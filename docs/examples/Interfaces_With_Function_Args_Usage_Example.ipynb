{
 "cells": [
  {
   "cell_type": "code",
   "execution_count": 1,
   "id": "248cbed8",
   "metadata": {},
   "outputs": [],
   "source": [
    "%matplotlib inline\n",
    "%load_ext autoreload\n",
    "%autoreload 2"
   ]
  },
  {
   "cell_type": "code",
   "execution_count": 2,
   "id": "7ec6cd08",
   "metadata": {},
   "outputs": [],
   "source": [
    "import os\n",
    "import warnings\n",
    "warnings.filterwarnings('ignore')\n",
    "os.environ[\"PYTHONWARNINGS\"] = \"ignore\""
   ]
  },
  {
   "cell_type": "code",
   "execution_count": 3,
   "id": "b8cb69f2",
   "metadata": {},
   "outputs": [
    {
     "name": "stdout",
     "output_type": "stream",
     "text": [
      "Current location:  /home/denys_herasymuk/UCU/4course_2term/Bachelor_Thesis/Code/fairness-variance\n"
     ]
    }
   ],
   "source": [
    "cur_folder_name = os.getcwd().split('/')[-1]\n",
    "if cur_folder_name != \"fairness-variance\":\n",
    "    os.chdir(\"..\")\n",
    "\n",
    "print('Current location: ', os.getcwd())"
   ]
  },
  {
   "cell_type": "markdown",
   "id": "606df34d",
   "metadata": {},
   "source": [
    "## Import dependencies"
   ]
  },
  {
   "cell_type": "code",
   "execution_count": 4,
   "id": "7a9241de",
   "metadata": {},
   "outputs": [],
   "source": [
    "import os\n",
    "import pandas as pd\n",
    "from datetime import datetime, timezone\n",
    "\n",
    "from sklearn.linear_model import LogisticRegression\n",
    "from sklearn.tree import DecisionTreeClassifier\n",
    "\n",
    "from source.custom_initializers import create_config_obj\n",
    "from source.custom_classes.data_loaders import CompasWithoutSensitiveAttrsDataset\n",
    "from source.metrics_computation_interfaces import run_metrics_computation, compute_model_metrics"
   ]
  },
  {
   "cell_type": "markdown",
   "id": "95f15603",
   "metadata": {},
   "source": [
    "## Configs"
   ]
  },
  {
   "cell_type": "code",
   "execution_count": 5,
   "id": "71d8f24a",
   "metadata": {},
   "outputs": [],
   "source": [
    "config = create_config_obj(config_yaml_path=os.path.join('configs', 'experiment1_compas_config.yaml'))\n",
    "SAVE_RESULTS_DIR_PATH = os.path.join('results', 'hypothesis_space',\n",
    "                                     f'{config.dataset_name}_Metrics_{datetime.now(timezone.utc).strftime(\"%Y%m%d__%H%M%S\")}')"
   ]
  },
  {
   "cell_type": "code",
   "execution_count": 6,
   "outputs": [],
   "source": [
    "models_config = {\n",
    "    'DecisionTreeClassifier': DecisionTreeClassifier(criterion='gini',\n",
    "                                                     max_depth=20,\n",
    "                                                     max_features=0.6,\n",
    "                                                     min_samples_split=0.1),\n",
    "    'LogisticRegression': LogisticRegression(C=1,\n",
    "                                             max_iter=50,\n",
    "                                             penalty='l2',\n",
    "                                             solver='newton-cg'),\n",
    "}"
   ],
   "metadata": {
    "collapsed": false
   }
  },
  {
   "cell_type": "markdown",
   "id": "5c60057a",
   "metadata": {},
   "source": [
    "## Load dataset"
   ]
  },
  {
   "cell_type": "code",
   "execution_count": 7,
   "id": "3e53fe9a",
   "metadata": {},
   "outputs": [
    {
     "data": {
      "text/plain": "   juv_fel_count  juv_misd_count  juv_other_count  priors_count  \\\n0            0.0       -2.340451              1.0    -15.010999   \n1            0.0        0.000000              0.0      0.000000   \n2            0.0        0.000000              0.0      0.000000   \n3            0.0        0.000000              0.0      6.000000   \n4            0.0        0.000000              0.0      7.513697   \n\n   age_cat_25 - 45  age_cat_Greater than 45  age_cat_Less than 25  \\\n0                1                        0                     0   \n1                1                        0                     0   \n2                0                        0                     1   \n3                1                        0                     0   \n4                1                        0                     0   \n\n   c_charge_degree_F  c_charge_degree_M  \n0                  0                  1  \n1                  1                  0  \n2                  1                  0  \n3                  0                  1  \n4                  1                  0  ",
      "text/html": "<div>\n<style scoped>\n    .dataframe tbody tr th:only-of-type {\n        vertical-align: middle;\n    }\n\n    .dataframe tbody tr th {\n        vertical-align: top;\n    }\n\n    .dataframe thead th {\n        text-align: right;\n    }\n</style>\n<table border=\"1\" class=\"dataframe\">\n  <thead>\n    <tr style=\"text-align: right;\">\n      <th></th>\n      <th>juv_fel_count</th>\n      <th>juv_misd_count</th>\n      <th>juv_other_count</th>\n      <th>priors_count</th>\n      <th>age_cat_25 - 45</th>\n      <th>age_cat_Greater than 45</th>\n      <th>age_cat_Less than 25</th>\n      <th>c_charge_degree_F</th>\n      <th>c_charge_degree_M</th>\n    </tr>\n  </thead>\n  <tbody>\n    <tr>\n      <th>0</th>\n      <td>0.0</td>\n      <td>-2.340451</td>\n      <td>1.0</td>\n      <td>-15.010999</td>\n      <td>1</td>\n      <td>0</td>\n      <td>0</td>\n      <td>0</td>\n      <td>1</td>\n    </tr>\n    <tr>\n      <th>1</th>\n      <td>0.0</td>\n      <td>0.000000</td>\n      <td>0.0</td>\n      <td>0.000000</td>\n      <td>1</td>\n      <td>0</td>\n      <td>0</td>\n      <td>1</td>\n      <td>0</td>\n    </tr>\n    <tr>\n      <th>2</th>\n      <td>0.0</td>\n      <td>0.000000</td>\n      <td>0.0</td>\n      <td>0.000000</td>\n      <td>0</td>\n      <td>0</td>\n      <td>1</td>\n      <td>1</td>\n      <td>0</td>\n    </tr>\n    <tr>\n      <th>3</th>\n      <td>0.0</td>\n      <td>0.000000</td>\n      <td>0.0</td>\n      <td>6.000000</td>\n      <td>1</td>\n      <td>0</td>\n      <td>0</td>\n      <td>0</td>\n      <td>1</td>\n    </tr>\n    <tr>\n      <th>4</th>\n      <td>0.0</td>\n      <td>0.000000</td>\n      <td>0.0</td>\n      <td>7.513697</td>\n      <td>1</td>\n      <td>0</td>\n      <td>0</td>\n      <td>1</td>\n      <td>0</td>\n    </tr>\n  </tbody>\n</table>\n</div>"
     },
     "execution_count": 7,
     "metadata": {},
     "output_type": "execute_result"
    }
   ],
   "source": [
    "dataset = CompasWithoutSensitiveAttrsDataset(dataset_path='data/COMPAS.csv')\n",
    "dataset.X_data.head()"
   ]
  },
  {
   "cell_type": "markdown",
   "source": [
    "## Get metrics for a base model with a compute_model_metrics function and input arguments"
   ],
   "metadata": {
    "collapsed": false
   }
  },
  {
   "cell_type": "code",
   "execution_count": 8,
   "outputs": [
    {
     "name": "stdout",
     "output_type": "stream",
     "text": [
      "Model random_state:  101\n",
      "Baseline X_train shape:  (4222, 9)\n",
      "Baseline X_test shape:  (1056, 9)\n",
      "\n",
      "\n"
     ]
    },
    {
     "name": "stderr",
     "output_type": "stream",
     "text": [
      "2023-01-27 00:50:32 abstract_overall_variance_analyzer.py INFO    : Start classifiers testing by bootstrap\n",
      "Classifiers testing by bootstrap: 100%|\u001B[34m██████████\u001B[0m| 100/100 [00:00<00:00, 176.21it/s]"
     ]
    },
    {
     "name": "stdout",
     "output_type": "stream",
     "text": [
      "\n",
      "\n"
     ]
    },
    {
     "name": "stderr",
     "output_type": "stream",
     "text": [
      "\n",
      "2023-01-27 00:50:32 abstract_overall_variance_analyzer.py INFO    : Successfully tested classifiers by bootstrap\n",
      "2023-01-27 00:50:36 abstract_overall_variance_analyzer.py INFO    : Successfully computed predict proba metrics\n"
     ]
    },
    {
     "name": "stdout",
     "output_type": "stream",
     "text": [
      "Subgroups statistical bias and variance metrics: \n"
     ]
    },
    {
     "data": {
      "text/plain": "                       Metric   overall  sex_priv   sex_dis  race_priv  \\\n0   General_Ensemble_Accuracy  0.679924  0.693467  0.676779   0.669789   \n1                        Mean  0.525578  0.561690  0.517193   0.590746   \n2                         Std  0.071635  0.078384  0.070068   0.069772   \n3                         IQR  0.089278  0.096598  0.087578   0.090645   \n4                     Entropy  0.000000  0.216088  0.000000   0.000000   \n5                      Jitter  0.122677  0.139908  0.118676   0.109246   \n6         Per_Sample_Accuracy  0.662689  0.684724  0.657573   0.659180   \n7             Label_Stability  0.830152  0.798191  0.837573   0.843794   \n8                         TPR  0.622177  0.557143  0.633094   0.459119   \n9                         TNR  0.729350  0.767442  0.718182   0.794776   \n10                        PPV  0.663020  0.565217  0.680412   0.570312   \n11                        FNR  0.377823  0.442857  0.366906   0.540881   \n12                        FPR  0.270650  0.232558  0.281818   0.205224   \n13                   Accuracy  0.679924  0.693467  0.676779   0.669789   \n14                         F1  0.641949  0.561151  0.655901   0.508711   \n15             Selection-Rate  0.432765  0.346734  0.452742   0.299766   \n16              Positive-Rate  0.938398  0.985714  0.930456   0.805031   \n\n    race_dis  sex&race_priv  sex&race_dis  Model_Seed  \n0   0.686804       0.659091      0.679537         101  \n1   0.481339       0.589092      0.468776         101  \n2   0.072900       0.088442      0.073433         101  \n3   0.088350       0.113437      0.089443         101  \n4   0.207275       0.219363      0.205943         101  \n5   0.131795       0.141933      0.130401         101  \n6   0.665072       0.649773      0.654923         101  \n7   0.820890       0.792727      0.824826         101  \n8   0.701220       0.440000      0.713781         101  \n9   0.671096       0.746032      0.638298         101  \n10  0.699088       0.407407      0.703833         101  \n11  0.298780       0.560000      0.286219         101  \n12  0.328904       0.253968      0.361702         101  \n13  0.686804       0.659091      0.679537         101  \n14  0.700152       0.423077      0.708772         101  \n15  0.523052       0.306818      0.554054         101  \n16  1.003049       1.080000      1.014134         101  ",
      "text/html": "<div>\n<style scoped>\n    .dataframe tbody tr th:only-of-type {\n        vertical-align: middle;\n    }\n\n    .dataframe tbody tr th {\n        vertical-align: top;\n    }\n\n    .dataframe thead th {\n        text-align: right;\n    }\n</style>\n<table border=\"1\" class=\"dataframe\">\n  <thead>\n    <tr style=\"text-align: right;\">\n      <th></th>\n      <th>Metric</th>\n      <th>overall</th>\n      <th>sex_priv</th>\n      <th>sex_dis</th>\n      <th>race_priv</th>\n      <th>race_dis</th>\n      <th>sex&amp;race_priv</th>\n      <th>sex&amp;race_dis</th>\n      <th>Model_Seed</th>\n    </tr>\n  </thead>\n  <tbody>\n    <tr>\n      <th>0</th>\n      <td>General_Ensemble_Accuracy</td>\n      <td>0.679924</td>\n      <td>0.693467</td>\n      <td>0.676779</td>\n      <td>0.669789</td>\n      <td>0.686804</td>\n      <td>0.659091</td>\n      <td>0.679537</td>\n      <td>101</td>\n    </tr>\n    <tr>\n      <th>1</th>\n      <td>Mean</td>\n      <td>0.525578</td>\n      <td>0.561690</td>\n      <td>0.517193</td>\n      <td>0.590746</td>\n      <td>0.481339</td>\n      <td>0.589092</td>\n      <td>0.468776</td>\n      <td>101</td>\n    </tr>\n    <tr>\n      <th>2</th>\n      <td>Std</td>\n      <td>0.071635</td>\n      <td>0.078384</td>\n      <td>0.070068</td>\n      <td>0.069772</td>\n      <td>0.072900</td>\n      <td>0.088442</td>\n      <td>0.073433</td>\n      <td>101</td>\n    </tr>\n    <tr>\n      <th>3</th>\n      <td>IQR</td>\n      <td>0.089278</td>\n      <td>0.096598</td>\n      <td>0.087578</td>\n      <td>0.090645</td>\n      <td>0.088350</td>\n      <td>0.113437</td>\n      <td>0.089443</td>\n      <td>101</td>\n    </tr>\n    <tr>\n      <th>4</th>\n      <td>Entropy</td>\n      <td>0.000000</td>\n      <td>0.216088</td>\n      <td>0.000000</td>\n      <td>0.000000</td>\n      <td>0.207275</td>\n      <td>0.219363</td>\n      <td>0.205943</td>\n      <td>101</td>\n    </tr>\n    <tr>\n      <th>5</th>\n      <td>Jitter</td>\n      <td>0.122677</td>\n      <td>0.139908</td>\n      <td>0.118676</td>\n      <td>0.109246</td>\n      <td>0.131795</td>\n      <td>0.141933</td>\n      <td>0.130401</td>\n      <td>101</td>\n    </tr>\n    <tr>\n      <th>6</th>\n      <td>Per_Sample_Accuracy</td>\n      <td>0.662689</td>\n      <td>0.684724</td>\n      <td>0.657573</td>\n      <td>0.659180</td>\n      <td>0.665072</td>\n      <td>0.649773</td>\n      <td>0.654923</td>\n      <td>101</td>\n    </tr>\n    <tr>\n      <th>7</th>\n      <td>Label_Stability</td>\n      <td>0.830152</td>\n      <td>0.798191</td>\n      <td>0.837573</td>\n      <td>0.843794</td>\n      <td>0.820890</td>\n      <td>0.792727</td>\n      <td>0.824826</td>\n      <td>101</td>\n    </tr>\n    <tr>\n      <th>8</th>\n      <td>TPR</td>\n      <td>0.622177</td>\n      <td>0.557143</td>\n      <td>0.633094</td>\n      <td>0.459119</td>\n      <td>0.701220</td>\n      <td>0.440000</td>\n      <td>0.713781</td>\n      <td>101</td>\n    </tr>\n    <tr>\n      <th>9</th>\n      <td>TNR</td>\n      <td>0.729350</td>\n      <td>0.767442</td>\n      <td>0.718182</td>\n      <td>0.794776</td>\n      <td>0.671096</td>\n      <td>0.746032</td>\n      <td>0.638298</td>\n      <td>101</td>\n    </tr>\n    <tr>\n      <th>10</th>\n      <td>PPV</td>\n      <td>0.663020</td>\n      <td>0.565217</td>\n      <td>0.680412</td>\n      <td>0.570312</td>\n      <td>0.699088</td>\n      <td>0.407407</td>\n      <td>0.703833</td>\n      <td>101</td>\n    </tr>\n    <tr>\n      <th>11</th>\n      <td>FNR</td>\n      <td>0.377823</td>\n      <td>0.442857</td>\n      <td>0.366906</td>\n      <td>0.540881</td>\n      <td>0.298780</td>\n      <td>0.560000</td>\n      <td>0.286219</td>\n      <td>101</td>\n    </tr>\n    <tr>\n      <th>12</th>\n      <td>FPR</td>\n      <td>0.270650</td>\n      <td>0.232558</td>\n      <td>0.281818</td>\n      <td>0.205224</td>\n      <td>0.328904</td>\n      <td>0.253968</td>\n      <td>0.361702</td>\n      <td>101</td>\n    </tr>\n    <tr>\n      <th>13</th>\n      <td>Accuracy</td>\n      <td>0.679924</td>\n      <td>0.693467</td>\n      <td>0.676779</td>\n      <td>0.669789</td>\n      <td>0.686804</td>\n      <td>0.659091</td>\n      <td>0.679537</td>\n      <td>101</td>\n    </tr>\n    <tr>\n      <th>14</th>\n      <td>F1</td>\n      <td>0.641949</td>\n      <td>0.561151</td>\n      <td>0.655901</td>\n      <td>0.508711</td>\n      <td>0.700152</td>\n      <td>0.423077</td>\n      <td>0.708772</td>\n      <td>101</td>\n    </tr>\n    <tr>\n      <th>15</th>\n      <td>Selection-Rate</td>\n      <td>0.432765</td>\n      <td>0.346734</td>\n      <td>0.452742</td>\n      <td>0.299766</td>\n      <td>0.523052</td>\n      <td>0.306818</td>\n      <td>0.554054</td>\n      <td>101</td>\n    </tr>\n    <tr>\n      <th>16</th>\n      <td>Positive-Rate</td>\n      <td>0.938398</td>\n      <td>0.985714</td>\n      <td>0.930456</td>\n      <td>0.805031</td>\n      <td>1.003049</td>\n      <td>1.080000</td>\n      <td>1.014134</td>\n      <td>101</td>\n    </tr>\n  </tbody>\n</table>\n</div>"
     },
     "execution_count": 8,
     "metadata": {},
     "output_type": "execute_result"
    }
   ],
   "source": [
    "model_name = 'DecisionTreeClassifier'\n",
    "metrics_df = compute_model_metrics(models_config[model_name], config.n_estimators,\n",
    "                                   dataset, config.test_set_fraction,\n",
    "                                   config.bootstrap_fraction, config.sensitive_attributes_dct,\n",
    "                                   model_seed=101,\n",
    "                                   dataset_name=config.dataset_name,\n",
    "                                   base_model_name=model_name,\n",
    "                                   save_results=True,\n",
    "                                   save_results_dir_path=SAVE_RESULTS_DIR_PATH,\n",
    "                                   debug_mode=False)\n",
    "print('Subgroups statistical bias and variance metrics: ')\n",
    "metrics_df"
   ],
   "metadata": {
    "collapsed": false
   }
  },
  {
   "cell_type": "markdown",
   "id": "c3530f06",
   "metadata": {},
   "source": [
    "## Get metrics for a list of models with a run_metrics_computation function and input arguments"
   ]
  },
  {
   "cell_type": "code",
   "execution_count": 9,
   "id": "197eadaa",
   "metadata": {},
   "outputs": [
    {
     "name": "stderr",
     "output_type": "stream",
     "text": [
      "Analyze models in one run:   0%|\u001B[31m          \u001B[0m| 0/2 [00:00<?, ?it/s]"
     ]
    },
    {
     "name": "stdout",
     "output_type": "stream",
     "text": [
      "##############################  [Model 1 / 2] Analyze DecisionTreeClassifier  ##############################\n",
      "Model random_state:  201\n",
      "Baseline X_train shape:  (4222, 9)\n",
      "Baseline X_test shape:  (1056, 9)\n",
      "\n",
      "\n"
     ]
    },
    {
     "name": "stderr",
     "output_type": "stream",
     "text": [
      "2023-01-27 00:50:44 abstract_overall_variance_analyzer.py INFO    : Start classifiers testing by bootstrap\n",
      "\n",
      "Classifiers testing by bootstrap: 100%|\u001B[34m██████████\u001B[0m| 100/100 [00:00<00:00, 205.15it/s]"
     ]
    },
    {
     "name": "stdout",
     "output_type": "stream",
     "text": [
      "\n",
      "\n"
     ]
    },
    {
     "name": "stderr",
     "output_type": "stream",
     "text": [
      "\n",
      "2023-01-27 00:50:44 abstract_overall_variance_analyzer.py INFO    : Successfully tested classifiers by bootstrap\n",
      "2023-01-27 00:50:47 abstract_overall_variance_analyzer.py INFO    : Successfully computed predict proba metrics\n",
      "Analyze models in one run:  50%|\u001B[31m█████     \u001B[0m| 1/2 [00:11<00:11, 11.13s/it]"
     ]
    },
    {
     "name": "stdout",
     "output_type": "stream",
     "text": [
      "\n",
      "\n",
      "\n",
      "\n",
      "##############################  [Model 2 / 2] Analyze LogisticRegression  ##############################\n",
      "Model random_state:  202\n",
      "Baseline X_train shape:  (4222, 9)\n",
      "Baseline X_test shape:  (1056, 9)\n",
      "\n",
      "\n"
     ]
    },
    {
     "name": "stderr",
     "output_type": "stream",
     "text": [
      "2023-01-27 00:50:55 abstract_overall_variance_analyzer.py INFO    : Start classifiers testing by bootstrap\n",
      "\n",
      "Classifiers testing by bootstrap: 100%|\u001B[34m██████████\u001B[0m| 100/100 [00:05<00:00, 19.05it/s]"
     ]
    },
    {
     "name": "stdout",
     "output_type": "stream",
     "text": [
      "\n",
      "\n"
     ]
    },
    {
     "name": "stderr",
     "output_type": "stream",
     "text": [
      "\n",
      "2023-01-27 00:51:00 abstract_overall_variance_analyzer.py INFO    : Successfully tested classifiers by bootstrap\n",
      "2023-01-27 00:51:03 abstract_overall_variance_analyzer.py INFO    : Successfully computed predict proba metrics\n",
      "Analyze models in one run: 100%|\u001B[31m██████████\u001B[0m| 2/2 [00:27<00:00, 13.55s/it]"
     ]
    },
    {
     "name": "stdout",
     "output_type": "stream",
     "text": [
      "\n",
      "\n",
      "\n",
      "\n"
     ]
    },
    {
     "name": "stderr",
     "output_type": "stream",
     "text": [
      "\n"
     ]
    }
   ],
   "source": [
    "models_metrics_dct = run_metrics_computation(dataset, config.test_set_fraction, config.bootstrap_fraction,\n",
    "                                             config.dataset_name, models_config, config.n_estimators,\n",
    "                                             config.sensitive_attributes_dct,\n",
    "                                             model_seed=200,\n",
    "                                             save_results_dir_path=SAVE_RESULTS_DIR_PATH,\n",
    "                                             save_results=True,\n",
    "                                             debug_mode=False)"
   ]
  },
  {
   "cell_type": "code",
   "execution_count": 9,
   "outputs": [],
   "source": [],
   "metadata": {
    "collapsed": false
   }
  }
 ],
 "metadata": {
  "kernelspec": {
   "display_name": "Python 3 (ipykernel)",
   "language": "python",
   "name": "python3"
  },
  "language_info": {
   "codemirror_mode": {
    "name": "ipython",
    "version": 3
   },
   "file_extension": ".py",
   "mimetype": "text/x-python",
   "name": "python",
   "nbconvert_exporter": "python",
   "pygments_lexer": "ipython3",
   "version": "3.8.10"
  }
 },
 "nbformat": 4,
 "nbformat_minor": 5
}
