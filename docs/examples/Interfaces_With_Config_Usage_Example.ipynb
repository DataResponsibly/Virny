{
 "cells": [
  {
   "cell_type": "code",
   "execution_count": 27,
   "id": "248cbed8",
   "metadata": {},
   "outputs": [
    {
     "name": "stdout",
     "output_type": "stream",
     "text": [
      "The autoreload extension is already loaded. To reload it, use:\n",
      "  %reload_ext autoreload\n"
     ]
    }
   ],
   "source": [
    "%matplotlib inline\n",
    "%load_ext autoreload\n",
    "%autoreload 2"
   ]
  },
  {
   "cell_type": "code",
   "execution_count": 28,
   "id": "7ec6cd08",
   "metadata": {},
   "outputs": [],
   "source": [
    "import os\n",
    "import warnings\n",
    "warnings.filterwarnings('ignore')\n",
    "os.environ[\"PYTHONWARNINGS\"] = \"ignore\""
   ]
  },
  {
   "cell_type": "code",
   "execution_count": 29,
   "id": "b8cb69f2",
   "metadata": {},
   "outputs": [
    {
     "name": "stdout",
     "output_type": "stream",
     "text": [
      "Current location:  /home/denys_herasymuk/UCU/4course_2term/Bachelor_Thesis/Code/fairness-variance\n"
     ]
    }
   ],
   "source": [
    "cur_folder_name = os.getcwd().split('/')[-1]\n",
    "if cur_folder_name != \"fairness-variance\":\n",
    "    os.chdir(\"..\")\n",
    "\n",
    "print('Current location: ', os.getcwd())"
   ]
  },
  {
   "cell_type": "markdown",
   "id": "606df34d",
   "metadata": {},
   "source": [
    "## Import dependencies"
   ]
  },
  {
   "cell_type": "code",
   "execution_count": 30,
   "id": "7a9241de",
   "metadata": {},
   "outputs": [],
   "source": [
    "import os\n",
    "import pandas as pd\n",
    "from datetime import datetime, timezone\n",
    "\n",
    "from sklearn.linear_model import LogisticRegression\n",
    "from sklearn.tree import DecisionTreeClassifier\n",
    "\n",
    "from source.custom_initializers import create_config_obj\n",
    "from source.custom_classes.data_loaders import CompasWithoutSensitiveAttrsDataset\n",
    "from source.metrics_computation_interfaces import run_metrics_computation_with_config, compute_model_metrics_with_config"
   ]
  },
  {
   "cell_type": "markdown",
   "id": "95f15603",
   "metadata": {},
   "source": [
    "## Configs"
   ]
  },
  {
   "cell_type": "code",
   "execution_count": 31,
   "id": "71d8f24a",
   "metadata": {},
   "outputs": [],
   "source": [
    "config = create_config_obj(config_yaml_path=os.path.join('configs', 'experiment1_compas_config.yaml'))\n",
    "SAVE_RESULTS_DIR_PATH = os.path.join('results', 'hypothesis_space',\n",
    "                                     f'{config.dataset_name}_Metrics_{datetime.now(timezone.utc).strftime(\"%Y%m%d__%H%M%S\")}')"
   ]
  },
  {
   "cell_type": "code",
   "execution_count": 32,
   "outputs": [],
   "source": [
    "models_config = {\n",
    "    'DecisionTreeClassifier': DecisionTreeClassifier(criterion='gini',\n",
    "                                                     max_depth=20,\n",
    "                                                     max_features=0.6,\n",
    "                                                     min_samples_split=0.1),\n",
    "    'LogisticRegression': LogisticRegression(C=1,\n",
    "                                             max_iter=50,\n",
    "                                             penalty='l2',\n",
    "                                             solver='newton-cg'),\n",
    "}"
   ],
   "metadata": {
    "collapsed": false
   }
  },
  {
   "cell_type": "markdown",
   "id": "5c60057a",
   "metadata": {},
   "source": [
    "## Load dataset"
   ]
  },
  {
   "cell_type": "code",
   "execution_count": 33,
   "id": "3e53fe9a",
   "metadata": {},
   "outputs": [
    {
     "data": {
      "text/plain": "   juv_fel_count  juv_misd_count  juv_other_count  priors_count  \\\n0            0.0       -2.340451              1.0    -15.010999   \n1            0.0        0.000000              0.0      0.000000   \n2            0.0        0.000000              0.0      0.000000   \n3            0.0        0.000000              0.0      6.000000   \n4            0.0        0.000000              0.0      7.513697   \n\n   age_cat_25 - 45  age_cat_Greater than 45  age_cat_Less than 25  \\\n0                1                        0                     0   \n1                1                        0                     0   \n2                0                        0                     1   \n3                1                        0                     0   \n4                1                        0                     0   \n\n   c_charge_degree_F  c_charge_degree_M  \n0                  0                  1  \n1                  1                  0  \n2                  1                  0  \n3                  0                  1  \n4                  1                  0  ",
      "text/html": "<div>\n<style scoped>\n    .dataframe tbody tr th:only-of-type {\n        vertical-align: middle;\n    }\n\n    .dataframe tbody tr th {\n        vertical-align: top;\n    }\n\n    .dataframe thead th {\n        text-align: right;\n    }\n</style>\n<table border=\"1\" class=\"dataframe\">\n  <thead>\n    <tr style=\"text-align: right;\">\n      <th></th>\n      <th>juv_fel_count</th>\n      <th>juv_misd_count</th>\n      <th>juv_other_count</th>\n      <th>priors_count</th>\n      <th>age_cat_25 - 45</th>\n      <th>age_cat_Greater than 45</th>\n      <th>age_cat_Less than 25</th>\n      <th>c_charge_degree_F</th>\n      <th>c_charge_degree_M</th>\n    </tr>\n  </thead>\n  <tbody>\n    <tr>\n      <th>0</th>\n      <td>0.0</td>\n      <td>-2.340451</td>\n      <td>1.0</td>\n      <td>-15.010999</td>\n      <td>1</td>\n      <td>0</td>\n      <td>0</td>\n      <td>0</td>\n      <td>1</td>\n    </tr>\n    <tr>\n      <th>1</th>\n      <td>0.0</td>\n      <td>0.000000</td>\n      <td>0.0</td>\n      <td>0.000000</td>\n      <td>1</td>\n      <td>0</td>\n      <td>0</td>\n      <td>1</td>\n      <td>0</td>\n    </tr>\n    <tr>\n      <th>2</th>\n      <td>0.0</td>\n      <td>0.000000</td>\n      <td>0.0</td>\n      <td>0.000000</td>\n      <td>0</td>\n      <td>0</td>\n      <td>1</td>\n      <td>1</td>\n      <td>0</td>\n    </tr>\n    <tr>\n      <th>3</th>\n      <td>0.0</td>\n      <td>0.000000</td>\n      <td>0.0</td>\n      <td>6.000000</td>\n      <td>1</td>\n      <td>0</td>\n      <td>0</td>\n      <td>0</td>\n      <td>1</td>\n    </tr>\n    <tr>\n      <th>4</th>\n      <td>0.0</td>\n      <td>0.000000</td>\n      <td>0.0</td>\n      <td>7.513697</td>\n      <td>1</td>\n      <td>0</td>\n      <td>0</td>\n      <td>1</td>\n      <td>0</td>\n    </tr>\n  </tbody>\n</table>\n</div>"
     },
     "execution_count": 33,
     "metadata": {},
     "output_type": "execute_result"
    }
   ],
   "source": [
    "dataset = CompasWithoutSensitiveAttrsDataset(dataset_path='data/COMPAS.csv')\n",
    "dataset.X_data.head()"
   ]
  },
  {
   "cell_type": "markdown",
   "source": [
    "## Get metrics for a base model with a compute_model_metrics_with_config interface and input arguments as a config"
   ],
   "metadata": {
    "collapsed": false
   }
  },
  {
   "cell_type": "code",
   "execution_count": 34,
   "outputs": [
    {
     "name": "stdout",
     "output_type": "stream",
     "text": [
      "Model random_state:  623\n",
      "Baseline X_train shape:  (4222, 9)\n",
      "Baseline X_test shape:  (1056, 9)\n",
      "\n",
      "Protected groups splits:\n",
      "sex_priv (214, 11)\n",
      "sex_dis (842, 11)\n",
      "race_priv (420, 11)\n",
      "race_dis (636, 11)\n",
      "sex&race_priv (93, 11)\n",
      "sex&race_dis (515, 11)\n",
      "\n",
      "\n",
      "Top rows of processed X train + validation set: \n"
     ]
    },
    {
     "data": {
      "text/plain": "      juv_fel_count  age_cat_25 - 45_1  juv_misd_count  juv_other_count  \\\n3600      -0.102581                  1        -0.13003        -0.149275   \n3043      -0.102581                  0        -0.13003        -0.149275   \n418       -0.102581                  1        -0.13003        -0.149275   \n3874      -0.102581                  1        -0.13003        -0.149275   \n442       -0.102581                  0        -0.13003        -0.149275   \n4812      -0.102581                  1        -0.13003        -0.149275   \n4487      -0.102581                  1        -1.57448        -0.149275   \n4968      -0.102581                  0        -0.13003        -0.149275   \n4394      -0.102581                  0        -0.13003        -0.149275   \n3122      -0.102581                  1        -0.13003        -0.149275   \n\n      age_cat_Greater than 45_1  age_cat_Greater than 45_0  \\\n3600                          0                          1   \n3043                          0                          1   \n418                           0                          1   \n3874                          0                          1   \n442                           0                          1   \n4812                          0                          1   \n4487                          0                          1   \n4968                          1                          0   \n4394                          1                          0   \n3122                          0                          1   \n\n      age_cat_Less than 25_0  c_charge_degree_F_0  c_charge_degree_F_1  \\\n3600                       1                    0                    1   \n3043                       0                    1                    0   \n418                        1                    1                    0   \n3874                       1                    0                    1   \n442                        0                    1                    0   \n4812                       1                    1                    0   \n4487                       1                    1                    0   \n4968                       1                    0                    1   \n4394                       1                    0                    1   \n3122                       1                    1                    0   \n\n      age_cat_25 - 45_0  c_charge_degree_M_1  c_charge_degree_M_0  \\\n3600                  0                    0                    1   \n3043                  1                    1                    0   \n418                   0                    1                    0   \n3874                  0                    0                    1   \n442                   1                    1                    0   \n4812                  0                    1                    0   \n4487                  0                    1                    0   \n4968                  1                    0                    1   \n4394                  1                    0                    1   \n3122                  0                    1                    0   \n\n      priors_count  age_cat_Less than 25_1  \n3600     -0.274707                       0  \n3043     -0.660459                       1  \n418      -0.467583                       0  \n3874     -0.274707                       0  \n442      -0.660459                       1  \n4812     -0.660459                       0  \n4487     -0.467583                       0  \n4968     -0.660459                       0  \n4394     -0.081831                       0  \n3122     -0.660459                       0  ",
      "text/html": "<div>\n<style scoped>\n    .dataframe tbody tr th:only-of-type {\n        vertical-align: middle;\n    }\n\n    .dataframe tbody tr th {\n        vertical-align: top;\n    }\n\n    .dataframe thead th {\n        text-align: right;\n    }\n</style>\n<table border=\"1\" class=\"dataframe\">\n  <thead>\n    <tr style=\"text-align: right;\">\n      <th></th>\n      <th>juv_fel_count</th>\n      <th>age_cat_25 - 45_1</th>\n      <th>juv_misd_count</th>\n      <th>juv_other_count</th>\n      <th>age_cat_Greater than 45_1</th>\n      <th>age_cat_Greater than 45_0</th>\n      <th>age_cat_Less than 25_0</th>\n      <th>c_charge_degree_F_0</th>\n      <th>c_charge_degree_F_1</th>\n      <th>age_cat_25 - 45_0</th>\n      <th>c_charge_degree_M_1</th>\n      <th>c_charge_degree_M_0</th>\n      <th>priors_count</th>\n      <th>age_cat_Less than 25_1</th>\n    </tr>\n  </thead>\n  <tbody>\n    <tr>\n      <th>3600</th>\n      <td>-0.102581</td>\n      <td>1</td>\n      <td>-0.13003</td>\n      <td>-0.149275</td>\n      <td>0</td>\n      <td>1</td>\n      <td>1</td>\n      <td>0</td>\n      <td>1</td>\n      <td>0</td>\n      <td>0</td>\n      <td>1</td>\n      <td>-0.274707</td>\n      <td>0</td>\n    </tr>\n    <tr>\n      <th>3043</th>\n      <td>-0.102581</td>\n      <td>0</td>\n      <td>-0.13003</td>\n      <td>-0.149275</td>\n      <td>0</td>\n      <td>1</td>\n      <td>0</td>\n      <td>1</td>\n      <td>0</td>\n      <td>1</td>\n      <td>1</td>\n      <td>0</td>\n      <td>-0.660459</td>\n      <td>1</td>\n    </tr>\n    <tr>\n      <th>418</th>\n      <td>-0.102581</td>\n      <td>1</td>\n      <td>-0.13003</td>\n      <td>-0.149275</td>\n      <td>0</td>\n      <td>1</td>\n      <td>1</td>\n      <td>1</td>\n      <td>0</td>\n      <td>0</td>\n      <td>1</td>\n      <td>0</td>\n      <td>-0.467583</td>\n      <td>0</td>\n    </tr>\n    <tr>\n      <th>3874</th>\n      <td>-0.102581</td>\n      <td>1</td>\n      <td>-0.13003</td>\n      <td>-0.149275</td>\n      <td>0</td>\n      <td>1</td>\n      <td>1</td>\n      <td>0</td>\n      <td>1</td>\n      <td>0</td>\n      <td>0</td>\n      <td>1</td>\n      <td>-0.274707</td>\n      <td>0</td>\n    </tr>\n    <tr>\n      <th>442</th>\n      <td>-0.102581</td>\n      <td>0</td>\n      <td>-0.13003</td>\n      <td>-0.149275</td>\n      <td>0</td>\n      <td>1</td>\n      <td>0</td>\n      <td>1</td>\n      <td>0</td>\n      <td>1</td>\n      <td>1</td>\n      <td>0</td>\n      <td>-0.660459</td>\n      <td>1</td>\n    </tr>\n    <tr>\n      <th>4812</th>\n      <td>-0.102581</td>\n      <td>1</td>\n      <td>-0.13003</td>\n      <td>-0.149275</td>\n      <td>0</td>\n      <td>1</td>\n      <td>1</td>\n      <td>1</td>\n      <td>0</td>\n      <td>0</td>\n      <td>1</td>\n      <td>0</td>\n      <td>-0.660459</td>\n      <td>0</td>\n    </tr>\n    <tr>\n      <th>4487</th>\n      <td>-0.102581</td>\n      <td>1</td>\n      <td>-1.57448</td>\n      <td>-0.149275</td>\n      <td>0</td>\n      <td>1</td>\n      <td>1</td>\n      <td>1</td>\n      <td>0</td>\n      <td>0</td>\n      <td>1</td>\n      <td>0</td>\n      <td>-0.467583</td>\n      <td>0</td>\n    </tr>\n    <tr>\n      <th>4968</th>\n      <td>-0.102581</td>\n      <td>0</td>\n      <td>-0.13003</td>\n      <td>-0.149275</td>\n      <td>1</td>\n      <td>0</td>\n      <td>1</td>\n      <td>0</td>\n      <td>1</td>\n      <td>1</td>\n      <td>0</td>\n      <td>1</td>\n      <td>-0.660459</td>\n      <td>0</td>\n    </tr>\n    <tr>\n      <th>4394</th>\n      <td>-0.102581</td>\n      <td>0</td>\n      <td>-0.13003</td>\n      <td>-0.149275</td>\n      <td>1</td>\n      <td>0</td>\n      <td>1</td>\n      <td>0</td>\n      <td>1</td>\n      <td>1</td>\n      <td>0</td>\n      <td>1</td>\n      <td>-0.081831</td>\n      <td>0</td>\n    </tr>\n    <tr>\n      <th>3122</th>\n      <td>-0.102581</td>\n      <td>1</td>\n      <td>-0.13003</td>\n      <td>-0.149275</td>\n      <td>0</td>\n      <td>1</td>\n      <td>1</td>\n      <td>1</td>\n      <td>0</td>\n      <td>0</td>\n      <td>1</td>\n      <td>0</td>\n      <td>-0.660459</td>\n      <td>0</td>\n    </tr>\n  </tbody>\n</table>\n</div>"
     },
     "metadata": {},
     "output_type": "display_data"
    },
    {
     "name": "stdout",
     "output_type": "stream",
     "text": [
      "\n",
      "\n"
     ]
    },
    {
     "name": "stderr",
     "output_type": "stream",
     "text": [
      "2023-01-27 00:30:40 abstract_overall_variance_analyzer.py INFO    : Start classifiers testing by bootstrap\n",
      "Classifiers testing by bootstrap: 100%|\u001B[34m██████████\u001B[0m| 100/100 [00:00<00:00, 172.04it/s]"
     ]
    },
    {
     "name": "stdout",
     "output_type": "stream",
     "text": [
      "\n",
      "\n"
     ]
    },
    {
     "name": "stderr",
     "output_type": "stream",
     "text": [
      "\n",
      "2023-01-27 00:30:41 abstract_overall_variance_analyzer.py INFO    : Successfully tested classifiers by bootstrap\n",
      "2023-01-27 00:30:45 abstract_overall_variance_analyzer.py INFO    : Successfully computed predict proba metrics\n"
     ]
    },
    {
     "name": "stdout",
     "output_type": "stream",
     "text": [
      "Subgroups statistical bias and variance metrics: \n"
     ]
    },
    {
     "data": {
      "text/plain": "                       Metric   overall  sex_priv   sex_dis  race_priv  \\\n0   General_Ensemble_Accuracy  0.667614  0.696262  0.660333   0.647619   \n1                        Mean  0.524041  0.558159  0.515370   0.577132   \n2                         Std  0.074339  0.075245  0.074109   0.069531   \n3                         IQR  0.087800  0.082206  0.089221   0.079059   \n4                     Entropy  0.192341  0.180935  0.195240   0.161033   \n5                      Jitter  0.120997  0.111341  0.123452   0.101976   \n6         Per_Sample_Accuracy  0.656477  0.695280  0.646615   0.645976   \n7             Label_Stability  0.837727  0.851682  0.834181   0.861095   \n8                         TPR  0.631356  0.618421  0.633838   0.472050   \n9                         TNR  0.696918  0.739130  0.683857   0.756757   \n10                        PPV  0.627368  0.566265  0.640306   0.546763   \n11                        FNR  0.368644  0.381579  0.366162   0.527950   \n12                        FPR  0.303082  0.260870  0.316143   0.243243   \n13                   Accuracy  0.667614  0.696262  0.660333   0.647619   \n14                         F1  0.629356  0.591195  0.637056   0.506667   \n15             Selection-Rate  0.449811  0.387850  0.465558   0.330952   \n16              Positive-Rate  1.006356  1.092105  0.989899   0.863354   \n\n    race_dis  sex&race_priv  sex&race_dis  Model_Seed  \n0   0.680818       0.655914      0.669903         623  \n1   0.488981       0.594027      0.479205         623  \n2   0.077515       0.076792      0.078327         623  \n3   0.093572       0.078600      0.095591         623  \n4   0.213016       0.171565      0.218861         623  \n5   0.133559       0.105502      0.137724         623  \n6   0.663412       0.653763      0.648427         623  \n7   0.822296       0.860645      0.817010         623  \n8   0.713826       0.472222      0.708487         623  \n9   0.649231       0.771930      0.627049         623  \n10  0.660714       0.566667      0.678445         623  \n11  0.286174       0.527778      0.291513         623  \n12  0.350769       0.228070      0.372951         623  \n13  0.680818       0.655914      0.669903         623  \n14  0.686244       0.515152      0.693141         623  \n15  0.528302       0.322581      0.549515         623  \n16  1.080386       0.833333      1.044280         623  ",
      "text/html": "<div>\n<style scoped>\n    .dataframe tbody tr th:only-of-type {\n        vertical-align: middle;\n    }\n\n    .dataframe tbody tr th {\n        vertical-align: top;\n    }\n\n    .dataframe thead th {\n        text-align: right;\n    }\n</style>\n<table border=\"1\" class=\"dataframe\">\n  <thead>\n    <tr style=\"text-align: right;\">\n      <th></th>\n      <th>Metric</th>\n      <th>overall</th>\n      <th>sex_priv</th>\n      <th>sex_dis</th>\n      <th>race_priv</th>\n      <th>race_dis</th>\n      <th>sex&amp;race_priv</th>\n      <th>sex&amp;race_dis</th>\n      <th>Model_Seed</th>\n    </tr>\n  </thead>\n  <tbody>\n    <tr>\n      <th>0</th>\n      <td>General_Ensemble_Accuracy</td>\n      <td>0.667614</td>\n      <td>0.696262</td>\n      <td>0.660333</td>\n      <td>0.647619</td>\n      <td>0.680818</td>\n      <td>0.655914</td>\n      <td>0.669903</td>\n      <td>623</td>\n    </tr>\n    <tr>\n      <th>1</th>\n      <td>Mean</td>\n      <td>0.524041</td>\n      <td>0.558159</td>\n      <td>0.515370</td>\n      <td>0.577132</td>\n      <td>0.488981</td>\n      <td>0.594027</td>\n      <td>0.479205</td>\n      <td>623</td>\n    </tr>\n    <tr>\n      <th>2</th>\n      <td>Std</td>\n      <td>0.074339</td>\n      <td>0.075245</td>\n      <td>0.074109</td>\n      <td>0.069531</td>\n      <td>0.077515</td>\n      <td>0.076792</td>\n      <td>0.078327</td>\n      <td>623</td>\n    </tr>\n    <tr>\n      <th>3</th>\n      <td>IQR</td>\n      <td>0.087800</td>\n      <td>0.082206</td>\n      <td>0.089221</td>\n      <td>0.079059</td>\n      <td>0.093572</td>\n      <td>0.078600</td>\n      <td>0.095591</td>\n      <td>623</td>\n    </tr>\n    <tr>\n      <th>4</th>\n      <td>Entropy</td>\n      <td>0.192341</td>\n      <td>0.180935</td>\n      <td>0.195240</td>\n      <td>0.161033</td>\n      <td>0.213016</td>\n      <td>0.171565</td>\n      <td>0.218861</td>\n      <td>623</td>\n    </tr>\n    <tr>\n      <th>5</th>\n      <td>Jitter</td>\n      <td>0.120997</td>\n      <td>0.111341</td>\n      <td>0.123452</td>\n      <td>0.101976</td>\n      <td>0.133559</td>\n      <td>0.105502</td>\n      <td>0.137724</td>\n      <td>623</td>\n    </tr>\n    <tr>\n      <th>6</th>\n      <td>Per_Sample_Accuracy</td>\n      <td>0.656477</td>\n      <td>0.695280</td>\n      <td>0.646615</td>\n      <td>0.645976</td>\n      <td>0.663412</td>\n      <td>0.653763</td>\n      <td>0.648427</td>\n      <td>623</td>\n    </tr>\n    <tr>\n      <th>7</th>\n      <td>Label_Stability</td>\n      <td>0.837727</td>\n      <td>0.851682</td>\n      <td>0.834181</td>\n      <td>0.861095</td>\n      <td>0.822296</td>\n      <td>0.860645</td>\n      <td>0.817010</td>\n      <td>623</td>\n    </tr>\n    <tr>\n      <th>8</th>\n      <td>TPR</td>\n      <td>0.631356</td>\n      <td>0.618421</td>\n      <td>0.633838</td>\n      <td>0.472050</td>\n      <td>0.713826</td>\n      <td>0.472222</td>\n      <td>0.708487</td>\n      <td>623</td>\n    </tr>\n    <tr>\n      <th>9</th>\n      <td>TNR</td>\n      <td>0.696918</td>\n      <td>0.739130</td>\n      <td>0.683857</td>\n      <td>0.756757</td>\n      <td>0.649231</td>\n      <td>0.771930</td>\n      <td>0.627049</td>\n      <td>623</td>\n    </tr>\n    <tr>\n      <th>10</th>\n      <td>PPV</td>\n      <td>0.627368</td>\n      <td>0.566265</td>\n      <td>0.640306</td>\n      <td>0.546763</td>\n      <td>0.660714</td>\n      <td>0.566667</td>\n      <td>0.678445</td>\n      <td>623</td>\n    </tr>\n    <tr>\n      <th>11</th>\n      <td>FNR</td>\n      <td>0.368644</td>\n      <td>0.381579</td>\n      <td>0.366162</td>\n      <td>0.527950</td>\n      <td>0.286174</td>\n      <td>0.527778</td>\n      <td>0.291513</td>\n      <td>623</td>\n    </tr>\n    <tr>\n      <th>12</th>\n      <td>FPR</td>\n      <td>0.303082</td>\n      <td>0.260870</td>\n      <td>0.316143</td>\n      <td>0.243243</td>\n      <td>0.350769</td>\n      <td>0.228070</td>\n      <td>0.372951</td>\n      <td>623</td>\n    </tr>\n    <tr>\n      <th>13</th>\n      <td>Accuracy</td>\n      <td>0.667614</td>\n      <td>0.696262</td>\n      <td>0.660333</td>\n      <td>0.647619</td>\n      <td>0.680818</td>\n      <td>0.655914</td>\n      <td>0.669903</td>\n      <td>623</td>\n    </tr>\n    <tr>\n      <th>14</th>\n      <td>F1</td>\n      <td>0.629356</td>\n      <td>0.591195</td>\n      <td>0.637056</td>\n      <td>0.506667</td>\n      <td>0.686244</td>\n      <td>0.515152</td>\n      <td>0.693141</td>\n      <td>623</td>\n    </tr>\n    <tr>\n      <th>15</th>\n      <td>Selection-Rate</td>\n      <td>0.449811</td>\n      <td>0.387850</td>\n      <td>0.465558</td>\n      <td>0.330952</td>\n      <td>0.528302</td>\n      <td>0.322581</td>\n      <td>0.549515</td>\n      <td>623</td>\n    </tr>\n    <tr>\n      <th>16</th>\n      <td>Positive-Rate</td>\n      <td>1.006356</td>\n      <td>1.092105</td>\n      <td>0.989899</td>\n      <td>0.863354</td>\n      <td>1.080386</td>\n      <td>0.833333</td>\n      <td>1.044280</td>\n      <td>623</td>\n    </tr>\n  </tbody>\n</table>\n</div>"
     },
     "execution_count": 34,
     "metadata": {},
     "output_type": "execute_result"
    }
   ],
   "source": [
    "model_name = 'DecisionTreeClassifier'\n",
    "metrics_df = compute_model_metrics_with_config(models_config[model_name], model_name, dataset,\n",
    "                                               config, SAVE_RESULTS_DIR_PATH,\n",
    "                                               save_results=True,\n",
    "                                               debug_mode=True)\n",
    "print('Subgroups statistical bias and variance metrics: ')\n",
    "metrics_df"
   ],
   "metadata": {
    "collapsed": false
   }
  },
  {
   "cell_type": "markdown",
   "id": "c3530f06",
   "metadata": {},
   "source": [
    "## Get metrics for a list of models with a run_metrics_computation_with_config interface and input arguments as a config"
   ]
  },
  {
   "cell_type": "code",
   "execution_count": 35,
   "id": "197eadaa",
   "metadata": {},
   "outputs": [
    {
     "name": "stderr",
     "output_type": "stream",
     "text": [
      "Analyze models in one run:   0%|\u001B[31m          \u001B[0m| 0/2 [00:00<?, ?it/s]"
     ]
    },
    {
     "name": "stdout",
     "output_type": "stream",
     "text": [
      "##############################  [Model 1 / 2] Analyze DecisionTreeClassifier  ##############################\n",
      "Model random_state:  491\n",
      "Baseline X_train shape:  (4222, 9)\n",
      "Baseline X_test shape:  (1056, 9)\n",
      "\n",
      "Protected groups splits:\n",
      "sex_priv (194, 11)\n",
      "sex_dis (862, 11)\n",
      "race_priv (394, 11)\n",
      "race_dis (662, 11)\n",
      "sex&race_priv (98, 11)\n",
      "sex&race_dis (566, 11)\n",
      "\n",
      "\n",
      "Top rows of processed X train + validation set: \n"
     ]
    },
    {
     "data": {
      "text/plain": "      juv_fel_count  age_cat_25 - 45_1  juv_misd_count  juv_other_count  \\\n2244      -0.093219                  1       -0.130521        -0.154060   \n2266      -0.093219                  1       -0.130521        -0.154060   \n78        -0.093219                  1       -0.130521        -0.154060   \n3323      -0.093219                  0       -0.130521        -0.154060   \n1127      -4.406383                  1       -0.130521         3.785338   \n4793      -0.093219                  1       -0.130521        -0.154060   \n3494      -0.093219                  1       -0.130521        -0.154060   \n1289      -0.250909                  1        1.104331         3.785338   \n1530      -0.093219                  1       -0.130521        -0.154060   \n1636      -0.093219                  0       -0.130521        -0.154060   \n\n      age_cat_Greater than 45_1  age_cat_Greater than 45_0  \\\n2244                          0                          1   \n2266                          0                          1   \n78                            0                          1   \n3323                          1                          0   \n1127                          0                          1   \n4793                          0                          1   \n3494                          0                          1   \n1289                          0                          1   \n1530                          0                          1   \n1636                          1                          0   \n\n      age_cat_Less than 25_0  c_charge_degree_F_0  c_charge_degree_F_1  \\\n2244                       1                    0                    1   \n2266                       1                    0                    1   \n78                         1                    0                    1   \n3323                       1                    0                    1   \n1127                       1                    0                    1   \n4793                       1                    0                    1   \n3494                       1                    1                    0   \n1289                       1                    0                    1   \n1530                       1                    0                    1   \n1636                       1                    0                    1   \n\n      age_cat_25 - 45_0  c_charge_degree_M_1  c_charge_degree_M_0  \\\n2244                  0                    0                    1   \n2266                  0                    0                    1   \n78                    0                    0                    1   \n3323                  1                    0                    1   \n1127                  0                    0                    1   \n4793                  0                    0                    1   \n3494                  0                    1                    0   \n1289                  0                    0                    1   \n1530                  0                    0                    1   \n1636                  1                    0                    1   \n\n      priors_count  age_cat_Less than 25_1  \n2244     -0.083401                       0  \n2266      0.862647                       0  \n78       -0.651029                       0  \n3323     -0.651029                       0  \n1127     -4.495524                       0  \n4793      0.862647                       0  \n3494     -0.083401                       0  \n1289      2.085418                       0  \n1530      0.295018                       0  \n1636      0.314656                       0  ",
      "text/html": "<div>\n<style scoped>\n    .dataframe tbody tr th:only-of-type {\n        vertical-align: middle;\n    }\n\n    .dataframe tbody tr th {\n        vertical-align: top;\n    }\n\n    .dataframe thead th {\n        text-align: right;\n    }\n</style>\n<table border=\"1\" class=\"dataframe\">\n  <thead>\n    <tr style=\"text-align: right;\">\n      <th></th>\n      <th>juv_fel_count</th>\n      <th>age_cat_25 - 45_1</th>\n      <th>juv_misd_count</th>\n      <th>juv_other_count</th>\n      <th>age_cat_Greater than 45_1</th>\n      <th>age_cat_Greater than 45_0</th>\n      <th>age_cat_Less than 25_0</th>\n      <th>c_charge_degree_F_0</th>\n      <th>c_charge_degree_F_1</th>\n      <th>age_cat_25 - 45_0</th>\n      <th>c_charge_degree_M_1</th>\n      <th>c_charge_degree_M_0</th>\n      <th>priors_count</th>\n      <th>age_cat_Less than 25_1</th>\n    </tr>\n  </thead>\n  <tbody>\n    <tr>\n      <th>2244</th>\n      <td>-0.093219</td>\n      <td>1</td>\n      <td>-0.130521</td>\n      <td>-0.154060</td>\n      <td>0</td>\n      <td>1</td>\n      <td>1</td>\n      <td>0</td>\n      <td>1</td>\n      <td>0</td>\n      <td>0</td>\n      <td>1</td>\n      <td>-0.083401</td>\n      <td>0</td>\n    </tr>\n    <tr>\n      <th>2266</th>\n      <td>-0.093219</td>\n      <td>1</td>\n      <td>-0.130521</td>\n      <td>-0.154060</td>\n      <td>0</td>\n      <td>1</td>\n      <td>1</td>\n      <td>0</td>\n      <td>1</td>\n      <td>0</td>\n      <td>0</td>\n      <td>1</td>\n      <td>0.862647</td>\n      <td>0</td>\n    </tr>\n    <tr>\n      <th>78</th>\n      <td>-0.093219</td>\n      <td>1</td>\n      <td>-0.130521</td>\n      <td>-0.154060</td>\n      <td>0</td>\n      <td>1</td>\n      <td>1</td>\n      <td>0</td>\n      <td>1</td>\n      <td>0</td>\n      <td>0</td>\n      <td>1</td>\n      <td>-0.651029</td>\n      <td>0</td>\n    </tr>\n    <tr>\n      <th>3323</th>\n      <td>-0.093219</td>\n      <td>0</td>\n      <td>-0.130521</td>\n      <td>-0.154060</td>\n      <td>1</td>\n      <td>0</td>\n      <td>1</td>\n      <td>0</td>\n      <td>1</td>\n      <td>1</td>\n      <td>0</td>\n      <td>1</td>\n      <td>-0.651029</td>\n      <td>0</td>\n    </tr>\n    <tr>\n      <th>1127</th>\n      <td>-4.406383</td>\n      <td>1</td>\n      <td>-0.130521</td>\n      <td>3.785338</td>\n      <td>0</td>\n      <td>1</td>\n      <td>1</td>\n      <td>0</td>\n      <td>1</td>\n      <td>0</td>\n      <td>0</td>\n      <td>1</td>\n      <td>-4.495524</td>\n      <td>0</td>\n    </tr>\n    <tr>\n      <th>4793</th>\n      <td>-0.093219</td>\n      <td>1</td>\n      <td>-0.130521</td>\n      <td>-0.154060</td>\n      <td>0</td>\n      <td>1</td>\n      <td>1</td>\n      <td>0</td>\n      <td>1</td>\n      <td>0</td>\n      <td>0</td>\n      <td>1</td>\n      <td>0.862647</td>\n      <td>0</td>\n    </tr>\n    <tr>\n      <th>3494</th>\n      <td>-0.093219</td>\n      <td>1</td>\n      <td>-0.130521</td>\n      <td>-0.154060</td>\n      <td>0</td>\n      <td>1</td>\n      <td>1</td>\n      <td>1</td>\n      <td>0</td>\n      <td>0</td>\n      <td>1</td>\n      <td>0</td>\n      <td>-0.083401</td>\n      <td>0</td>\n    </tr>\n    <tr>\n      <th>1289</th>\n      <td>-0.250909</td>\n      <td>1</td>\n      <td>1.104331</td>\n      <td>3.785338</td>\n      <td>0</td>\n      <td>1</td>\n      <td>1</td>\n      <td>0</td>\n      <td>1</td>\n      <td>0</td>\n      <td>0</td>\n      <td>1</td>\n      <td>2.085418</td>\n      <td>0</td>\n    </tr>\n    <tr>\n      <th>1530</th>\n      <td>-0.093219</td>\n      <td>1</td>\n      <td>-0.130521</td>\n      <td>-0.154060</td>\n      <td>0</td>\n      <td>1</td>\n      <td>1</td>\n      <td>0</td>\n      <td>1</td>\n      <td>0</td>\n      <td>0</td>\n      <td>1</td>\n      <td>0.295018</td>\n      <td>0</td>\n    </tr>\n    <tr>\n      <th>1636</th>\n      <td>-0.093219</td>\n      <td>0</td>\n      <td>-0.130521</td>\n      <td>-0.154060</td>\n      <td>1</td>\n      <td>0</td>\n      <td>1</td>\n      <td>0</td>\n      <td>1</td>\n      <td>1</td>\n      <td>0</td>\n      <td>1</td>\n      <td>0.314656</td>\n      <td>0</td>\n    </tr>\n  </tbody>\n</table>\n</div>"
     },
     "metadata": {},
     "output_type": "display_data"
    },
    {
     "name": "stdout",
     "output_type": "stream",
     "text": [
      "\n",
      "\n"
     ]
    },
    {
     "name": "stderr",
     "output_type": "stream",
     "text": [
      "2023-01-27 00:30:55 abstract_overall_variance_analyzer.py INFO    : Start classifiers testing by bootstrap\n",
      "\n",
      "Classifiers testing by bootstrap: 100%|\u001B[34m██████████\u001B[0m| 100/100 [00:00<00:00, 159.14it/s]"
     ]
    },
    {
     "name": "stdout",
     "output_type": "stream",
     "text": [
      "\n",
      "\n"
     ]
    },
    {
     "name": "stderr",
     "output_type": "stream",
     "text": [
      "\n",
      "2023-01-27 00:30:55 abstract_overall_variance_analyzer.py INFO    : Successfully tested classifiers by bootstrap\n",
      "2023-01-27 00:31:00 abstract_overall_variance_analyzer.py INFO    : Successfully computed predict proba metrics\n"
     ]
    },
    {
     "name": "stdout",
     "output_type": "stream",
     "text": [
      "\n",
      "[DecisionTreeClassifier] Metrics matrix:\n"
     ]
    },
    {
     "data": {
      "text/plain": "                       Metric   overall  sex_priv   sex_dis  race_priv  \\\n0   General_Ensemble_Accuracy  0.703598  0.670103  0.711137   0.677665   \n1                        Mean  0.521465  0.567385  0.511131   0.582361   \n2                         Std  0.073755  0.080002  0.072348   0.068526   \n3                         IQR  0.080800  0.088440  0.079081   0.076076   \n4                     Entropy  0.219793  0.233656  0.216673   0.189168   \n5                      Jitter  0.139630  0.148898  0.137544   0.120191   \n6         Per_Sample_Accuracy  0.681420  0.680670  0.681589   0.677589   \n7             Label_Stability  0.807689  0.795155  0.810510   0.832640   \n8                         TPR  0.679359  0.523077  0.702765   0.523490   \n9                         TNR  0.725314  0.744186  0.719626   0.771429   \n10                        PPV  0.689024  0.507463  0.717647   0.582090   \n11                        FNR  0.320641  0.476923  0.297235   0.476510   \n12                        FPR  0.274686  0.255814  0.280374   0.228571   \n13                   Accuracy  0.703598  0.670103  0.711137   0.677665   \n14                         F1  0.684157  0.515152  0.710128   0.551237   \n15             Selection-Rate  0.465909  0.345361  0.493039   0.340102   \n16              Positive-Rate  0.985972  1.030769  0.979263   0.899329   \n\n    race_dis  sex&race_priv  sex&race_dis  Model_Seed              Model_Name  \n0   0.719033       0.642857      0.722615         491  DecisionTreeClassifier  \n1   0.485222       0.593591      0.475824         491  DecisionTreeClassifier  \n2   0.076867       0.081239      0.076549         491  DecisionTreeClassifier  \n3   0.083612       0.083395      0.081920         491  DecisionTreeClassifier  \n4   0.238021       0.206719      0.234097         491  DecisionTreeClassifier  \n5   0.151199       0.129994      0.148316         491  DecisionTreeClassifier  \n6   0.683701       0.690612      0.685936         491  DecisionTreeClassifier  \n7   0.792840       0.826939      0.797951         491  DecisionTreeClassifier  \n8   0.745714       0.433333      0.761905         491  DecisionTreeClassifier  \n9   0.689103       0.735294      0.673307         491  DecisionTreeClassifier  \n10  0.729050       0.419355      0.745342         491  DecisionTreeClassifier  \n11  0.254286       0.566667      0.238095         491  DecisionTreeClassifier  \n12  0.310897       0.264706      0.326693         491  DecisionTreeClassifier  \n13  0.719033       0.642857      0.722615         491  DecisionTreeClassifier  \n14  0.737288       0.426230      0.753532         491  DecisionTreeClassifier  \n15  0.540785       0.316327      0.568905         491  DecisionTreeClassifier  \n16  1.022857       1.033333      1.022222         491  DecisionTreeClassifier  ",
      "text/html": "<div>\n<style scoped>\n    .dataframe tbody tr th:only-of-type {\n        vertical-align: middle;\n    }\n\n    .dataframe tbody tr th {\n        vertical-align: top;\n    }\n\n    .dataframe thead th {\n        text-align: right;\n    }\n</style>\n<table border=\"1\" class=\"dataframe\">\n  <thead>\n    <tr style=\"text-align: right;\">\n      <th></th>\n      <th>Metric</th>\n      <th>overall</th>\n      <th>sex_priv</th>\n      <th>sex_dis</th>\n      <th>race_priv</th>\n      <th>race_dis</th>\n      <th>sex&amp;race_priv</th>\n      <th>sex&amp;race_dis</th>\n      <th>Model_Seed</th>\n      <th>Model_Name</th>\n    </tr>\n  </thead>\n  <tbody>\n    <tr>\n      <th>0</th>\n      <td>General_Ensemble_Accuracy</td>\n      <td>0.703598</td>\n      <td>0.670103</td>\n      <td>0.711137</td>\n      <td>0.677665</td>\n      <td>0.719033</td>\n      <td>0.642857</td>\n      <td>0.722615</td>\n      <td>491</td>\n      <td>DecisionTreeClassifier</td>\n    </tr>\n    <tr>\n      <th>1</th>\n      <td>Mean</td>\n      <td>0.521465</td>\n      <td>0.567385</td>\n      <td>0.511131</td>\n      <td>0.582361</td>\n      <td>0.485222</td>\n      <td>0.593591</td>\n      <td>0.475824</td>\n      <td>491</td>\n      <td>DecisionTreeClassifier</td>\n    </tr>\n    <tr>\n      <th>2</th>\n      <td>Std</td>\n      <td>0.073755</td>\n      <td>0.080002</td>\n      <td>0.072348</td>\n      <td>0.068526</td>\n      <td>0.076867</td>\n      <td>0.081239</td>\n      <td>0.076549</td>\n      <td>491</td>\n      <td>DecisionTreeClassifier</td>\n    </tr>\n    <tr>\n      <th>3</th>\n      <td>IQR</td>\n      <td>0.080800</td>\n      <td>0.088440</td>\n      <td>0.079081</td>\n      <td>0.076076</td>\n      <td>0.083612</td>\n      <td>0.083395</td>\n      <td>0.081920</td>\n      <td>491</td>\n      <td>DecisionTreeClassifier</td>\n    </tr>\n    <tr>\n      <th>4</th>\n      <td>Entropy</td>\n      <td>0.219793</td>\n      <td>0.233656</td>\n      <td>0.216673</td>\n      <td>0.189168</td>\n      <td>0.238021</td>\n      <td>0.206719</td>\n      <td>0.234097</td>\n      <td>491</td>\n      <td>DecisionTreeClassifier</td>\n    </tr>\n    <tr>\n      <th>5</th>\n      <td>Jitter</td>\n      <td>0.139630</td>\n      <td>0.148898</td>\n      <td>0.137544</td>\n      <td>0.120191</td>\n      <td>0.151199</td>\n      <td>0.129994</td>\n      <td>0.148316</td>\n      <td>491</td>\n      <td>DecisionTreeClassifier</td>\n    </tr>\n    <tr>\n      <th>6</th>\n      <td>Per_Sample_Accuracy</td>\n      <td>0.681420</td>\n      <td>0.680670</td>\n      <td>0.681589</td>\n      <td>0.677589</td>\n      <td>0.683701</td>\n      <td>0.690612</td>\n      <td>0.685936</td>\n      <td>491</td>\n      <td>DecisionTreeClassifier</td>\n    </tr>\n    <tr>\n      <th>7</th>\n      <td>Label_Stability</td>\n      <td>0.807689</td>\n      <td>0.795155</td>\n      <td>0.810510</td>\n      <td>0.832640</td>\n      <td>0.792840</td>\n      <td>0.826939</td>\n      <td>0.797951</td>\n      <td>491</td>\n      <td>DecisionTreeClassifier</td>\n    </tr>\n    <tr>\n      <th>8</th>\n      <td>TPR</td>\n      <td>0.679359</td>\n      <td>0.523077</td>\n      <td>0.702765</td>\n      <td>0.523490</td>\n      <td>0.745714</td>\n      <td>0.433333</td>\n      <td>0.761905</td>\n      <td>491</td>\n      <td>DecisionTreeClassifier</td>\n    </tr>\n    <tr>\n      <th>9</th>\n      <td>TNR</td>\n      <td>0.725314</td>\n      <td>0.744186</td>\n      <td>0.719626</td>\n      <td>0.771429</td>\n      <td>0.689103</td>\n      <td>0.735294</td>\n      <td>0.673307</td>\n      <td>491</td>\n      <td>DecisionTreeClassifier</td>\n    </tr>\n    <tr>\n      <th>10</th>\n      <td>PPV</td>\n      <td>0.689024</td>\n      <td>0.507463</td>\n      <td>0.717647</td>\n      <td>0.582090</td>\n      <td>0.729050</td>\n      <td>0.419355</td>\n      <td>0.745342</td>\n      <td>491</td>\n      <td>DecisionTreeClassifier</td>\n    </tr>\n    <tr>\n      <th>11</th>\n      <td>FNR</td>\n      <td>0.320641</td>\n      <td>0.476923</td>\n      <td>0.297235</td>\n      <td>0.476510</td>\n      <td>0.254286</td>\n      <td>0.566667</td>\n      <td>0.238095</td>\n      <td>491</td>\n      <td>DecisionTreeClassifier</td>\n    </tr>\n    <tr>\n      <th>12</th>\n      <td>FPR</td>\n      <td>0.274686</td>\n      <td>0.255814</td>\n      <td>0.280374</td>\n      <td>0.228571</td>\n      <td>0.310897</td>\n      <td>0.264706</td>\n      <td>0.326693</td>\n      <td>491</td>\n      <td>DecisionTreeClassifier</td>\n    </tr>\n    <tr>\n      <th>13</th>\n      <td>Accuracy</td>\n      <td>0.703598</td>\n      <td>0.670103</td>\n      <td>0.711137</td>\n      <td>0.677665</td>\n      <td>0.719033</td>\n      <td>0.642857</td>\n      <td>0.722615</td>\n      <td>491</td>\n      <td>DecisionTreeClassifier</td>\n    </tr>\n    <tr>\n      <th>14</th>\n      <td>F1</td>\n      <td>0.684157</td>\n      <td>0.515152</td>\n      <td>0.710128</td>\n      <td>0.551237</td>\n      <td>0.737288</td>\n      <td>0.426230</td>\n      <td>0.753532</td>\n      <td>491</td>\n      <td>DecisionTreeClassifier</td>\n    </tr>\n    <tr>\n      <th>15</th>\n      <td>Selection-Rate</td>\n      <td>0.465909</td>\n      <td>0.345361</td>\n      <td>0.493039</td>\n      <td>0.340102</td>\n      <td>0.540785</td>\n      <td>0.316327</td>\n      <td>0.568905</td>\n      <td>491</td>\n      <td>DecisionTreeClassifier</td>\n    </tr>\n    <tr>\n      <th>16</th>\n      <td>Positive-Rate</td>\n      <td>0.985972</td>\n      <td>1.030769</td>\n      <td>0.979263</td>\n      <td>0.899329</td>\n      <td>1.022857</td>\n      <td>1.033333</td>\n      <td>1.022222</td>\n      <td>491</td>\n      <td>DecisionTreeClassifier</td>\n    </tr>\n  </tbody>\n</table>\n</div>"
     },
     "metadata": {},
     "output_type": "display_data"
    },
    {
     "name": "stderr",
     "output_type": "stream",
     "text": [
      "Analyze models in one run:  50%|\u001B[31m█████     \u001B[0m| 1/2 [00:15<00:15, 15.99s/it]"
     ]
    },
    {
     "name": "stdout",
     "output_type": "stream",
     "text": [
      "\n",
      "\n",
      "\n",
      "\n",
      "##############################  [Model 2 / 2] Analyze LogisticRegression  ##############################\n",
      "Model random_state:  492\n",
      "Baseline X_train shape:  (4222, 9)\n",
      "Baseline X_test shape:  (1056, 9)\n",
      "\n",
      "Protected groups splits:\n",
      "sex_priv (223, 11)\n",
      "sex_dis (833, 11)\n",
      "race_priv (402, 11)\n",
      "race_dis (654, 11)\n",
      "sex&race_priv (107, 11)\n",
      "sex&race_dis (538, 11)\n",
      "\n",
      "\n",
      "Top rows of processed X train + validation set: \n"
     ]
    },
    {
     "data": {
      "text/plain": "      juv_fel_count  age_cat_25 - 45_1  juv_misd_count  juv_other_count  \\\n658       -0.089367                  1       -0.125836        -0.146782   \n4149      -0.089367                  0       -0.125836        -0.146782   \n2851      -0.089367                  1       -0.125836        -0.146782   \n1331      -0.089367                  1       -0.125836        -0.146782   \n3069      -0.089367                  1       -0.125836        -0.146782   \n4670      -0.089367                  1       -0.125836        -0.146782   \n616       -0.089367                  0       -0.125836        -0.146782   \n4413      -0.089367                  0       -0.125836        -0.146782   \n1244      -0.089367                  0       -0.125836        -0.146782   \n947       -0.089367                  0       -0.125836        -0.146782   \n\n      age_cat_Greater than 45_1  age_cat_Greater than 45_0  \\\n658                           0                          1   \n4149                          0                          1   \n2851                          0                          1   \n1331                          0                          1   \n3069                          0                          1   \n4670                          0                          1   \n616                           0                          1   \n4413                          0                          1   \n1244                          1                          0   \n947                           0                          1   \n\n      age_cat_Less than 25_0  c_charge_degree_F_0  c_charge_degree_F_1  \\\n658                        1                    0                    1   \n4149                       0                    0                    1   \n2851                       1                    0                    1   \n1331                       1                    0                    1   \n3069                       1                    0                    1   \n4670                       1                    0                    1   \n616                        0                    0                    1   \n4413                       0                    0                    1   \n1244                       1                    0                    1   \n947                        0                    0                    1   \n\n      age_cat_25 - 45_0  c_charge_degree_M_1  c_charge_degree_M_0  \\\n658                   0                    0                    1   \n4149                  1                    0                    1   \n2851                  0                    0                    1   \n1331                  0                    0                    1   \n3069                  0                    0                    1   \n4670                  0                    0                    1   \n616                   1                    0                    1   \n4413                  1                    0                    1   \n1244                  1                    0                    1   \n947                   1                    0                    1   \n\n      priors_count  age_cat_Less than 25_1  \n658      -0.648738                       0  \n4149     -0.270758                       1  \n2851     -0.459748                       0  \n1331     -0.648738                       0  \n3069     -0.270758                       0  \n4670     -0.270758                       0  \n616      -0.270758                       1  \n4413     -0.270758                       1  \n1244     -0.606756                       0  \n947       0.863181                       1  ",
      "text/html": "<div>\n<style scoped>\n    .dataframe tbody tr th:only-of-type {\n        vertical-align: middle;\n    }\n\n    .dataframe tbody tr th {\n        vertical-align: top;\n    }\n\n    .dataframe thead th {\n        text-align: right;\n    }\n</style>\n<table border=\"1\" class=\"dataframe\">\n  <thead>\n    <tr style=\"text-align: right;\">\n      <th></th>\n      <th>juv_fel_count</th>\n      <th>age_cat_25 - 45_1</th>\n      <th>juv_misd_count</th>\n      <th>juv_other_count</th>\n      <th>age_cat_Greater than 45_1</th>\n      <th>age_cat_Greater than 45_0</th>\n      <th>age_cat_Less than 25_0</th>\n      <th>c_charge_degree_F_0</th>\n      <th>c_charge_degree_F_1</th>\n      <th>age_cat_25 - 45_0</th>\n      <th>c_charge_degree_M_1</th>\n      <th>c_charge_degree_M_0</th>\n      <th>priors_count</th>\n      <th>age_cat_Less than 25_1</th>\n    </tr>\n  </thead>\n  <tbody>\n    <tr>\n      <th>658</th>\n      <td>-0.089367</td>\n      <td>1</td>\n      <td>-0.125836</td>\n      <td>-0.146782</td>\n      <td>0</td>\n      <td>1</td>\n      <td>1</td>\n      <td>0</td>\n      <td>1</td>\n      <td>0</td>\n      <td>0</td>\n      <td>1</td>\n      <td>-0.648738</td>\n      <td>0</td>\n    </tr>\n    <tr>\n      <th>4149</th>\n      <td>-0.089367</td>\n      <td>0</td>\n      <td>-0.125836</td>\n      <td>-0.146782</td>\n      <td>0</td>\n      <td>1</td>\n      <td>0</td>\n      <td>0</td>\n      <td>1</td>\n      <td>1</td>\n      <td>0</td>\n      <td>1</td>\n      <td>-0.270758</td>\n      <td>1</td>\n    </tr>\n    <tr>\n      <th>2851</th>\n      <td>-0.089367</td>\n      <td>1</td>\n      <td>-0.125836</td>\n      <td>-0.146782</td>\n      <td>0</td>\n      <td>1</td>\n      <td>1</td>\n      <td>0</td>\n      <td>1</td>\n      <td>0</td>\n      <td>0</td>\n      <td>1</td>\n      <td>-0.459748</td>\n      <td>0</td>\n    </tr>\n    <tr>\n      <th>1331</th>\n      <td>-0.089367</td>\n      <td>1</td>\n      <td>-0.125836</td>\n      <td>-0.146782</td>\n      <td>0</td>\n      <td>1</td>\n      <td>1</td>\n      <td>0</td>\n      <td>1</td>\n      <td>0</td>\n      <td>0</td>\n      <td>1</td>\n      <td>-0.648738</td>\n      <td>0</td>\n    </tr>\n    <tr>\n      <th>3069</th>\n      <td>-0.089367</td>\n      <td>1</td>\n      <td>-0.125836</td>\n      <td>-0.146782</td>\n      <td>0</td>\n      <td>1</td>\n      <td>1</td>\n      <td>0</td>\n      <td>1</td>\n      <td>0</td>\n      <td>0</td>\n      <td>1</td>\n      <td>-0.270758</td>\n      <td>0</td>\n    </tr>\n    <tr>\n      <th>4670</th>\n      <td>-0.089367</td>\n      <td>1</td>\n      <td>-0.125836</td>\n      <td>-0.146782</td>\n      <td>0</td>\n      <td>1</td>\n      <td>1</td>\n      <td>0</td>\n      <td>1</td>\n      <td>0</td>\n      <td>0</td>\n      <td>1</td>\n      <td>-0.270758</td>\n      <td>0</td>\n    </tr>\n    <tr>\n      <th>616</th>\n      <td>-0.089367</td>\n      <td>0</td>\n      <td>-0.125836</td>\n      <td>-0.146782</td>\n      <td>0</td>\n      <td>1</td>\n      <td>0</td>\n      <td>0</td>\n      <td>1</td>\n      <td>1</td>\n      <td>0</td>\n      <td>1</td>\n      <td>-0.270758</td>\n      <td>1</td>\n    </tr>\n    <tr>\n      <th>4413</th>\n      <td>-0.089367</td>\n      <td>0</td>\n      <td>-0.125836</td>\n      <td>-0.146782</td>\n      <td>0</td>\n      <td>1</td>\n      <td>0</td>\n      <td>0</td>\n      <td>1</td>\n      <td>1</td>\n      <td>0</td>\n      <td>1</td>\n      <td>-0.270758</td>\n      <td>1</td>\n    </tr>\n    <tr>\n      <th>1244</th>\n      <td>-0.089367</td>\n      <td>0</td>\n      <td>-0.125836</td>\n      <td>-0.146782</td>\n      <td>1</td>\n      <td>0</td>\n      <td>1</td>\n      <td>0</td>\n      <td>1</td>\n      <td>1</td>\n      <td>0</td>\n      <td>1</td>\n      <td>-0.606756</td>\n      <td>0</td>\n    </tr>\n    <tr>\n      <th>947</th>\n      <td>-0.089367</td>\n      <td>0</td>\n      <td>-0.125836</td>\n      <td>-0.146782</td>\n      <td>0</td>\n      <td>1</td>\n      <td>0</td>\n      <td>0</td>\n      <td>1</td>\n      <td>1</td>\n      <td>0</td>\n      <td>1</td>\n      <td>0.863181</td>\n      <td>1</td>\n    </tr>\n  </tbody>\n</table>\n</div>"
     },
     "metadata": {},
     "output_type": "display_data"
    },
    {
     "name": "stdout",
     "output_type": "stream",
     "text": [
      "\n",
      "\n"
     ]
    },
    {
     "name": "stderr",
     "output_type": "stream",
     "text": [
      "2023-01-27 00:31:11 abstract_overall_variance_analyzer.py INFO    : Start classifiers testing by bootstrap\n",
      "\n",
      "Classifiers testing by bootstrap: 100%|\u001B[34m██████████\u001B[0m| 100/100 [00:05<00:00, 19.17it/s]"
     ]
    },
    {
     "name": "stdout",
     "output_type": "stream",
     "text": [
      "\n",
      "\n"
     ]
    },
    {
     "name": "stderr",
     "output_type": "stream",
     "text": [
      "\n",
      "2023-01-27 00:31:16 abstract_overall_variance_analyzer.py INFO    : Successfully tested classifiers by bootstrap\n",
      "2023-01-27 00:31:19 abstract_overall_variance_analyzer.py INFO    : Successfully computed predict proba metrics\n"
     ]
    },
    {
     "name": "stdout",
     "output_type": "stream",
     "text": [
      "\n",
      "[LogisticRegression] Metrics matrix:\n"
     ]
    },
    {
     "data": {
      "text/plain": "                       Metric   overall  sex_priv   sex_dis  race_priv  \\\n0   General_Ensemble_Accuracy  0.679924  0.659193  0.685474   0.671642   \n1                        Mean  0.520122  0.565524  0.507968   0.581083   \n2                         Std  0.021520  0.019211  0.022138   0.019990   \n3                         IQR  0.027995  0.024942  0.028812   0.026028   \n4                     Entropy  0.079387  0.000000  0.080575   0.077811   \n5                      Jitter  0.049364  0.045588  0.050375   0.049021   \n6         Per_Sample_Accuracy  0.674536  0.652108  0.680540   0.664229   \n7             Label_Stability  0.935625  0.942422  0.933806   0.934527   \n8                         TPR  0.632860  0.455696  0.666667   0.440000   \n9                         TNR  0.721137  0.770833  0.704057   0.809524   \n10                        PPV  0.665245  0.521739  0.690000   0.578947   \n11                        FNR  0.367140  0.544304  0.333333   0.560000   \n12                        FPR  0.278863  0.229167  0.295943   0.190476   \n13                   Accuracy  0.679924  0.659193  0.685474   0.671642   \n14                         F1  0.648649  0.486486  0.678133   0.500000   \n15             Selection-Rate  0.444129  0.309417  0.480192   0.283582   \n16              Positive-Rate  0.951318  0.873418  0.966184   0.760000   \n\n    race_dis  sex&race_priv  sex&race_dis  Model_Seed          Model_Name  \n0   0.685015       0.672897      0.693309         492  LogisticRegression  \n1   0.482651       0.606199      0.472871         492  LogisticRegression  \n2   0.022461       0.019146      0.023148         492  LogisticRegression  \n3   0.029203       0.024786      0.030091         492  LogisticRegression  \n4   0.000000       0.000000      0.000000         492  LogisticRegression  \n5   0.049576       0.040521      0.049428         492  LogisticRegression  \n6   0.680872       0.663364      0.689312         492  LogisticRegression  \n7   0.936300       0.946168      0.935725         492  LogisticRegression  \n8   0.717201       0.323529      0.741611         492  LogisticRegression  \n9   0.649518       0.835616      0.633333         492  LogisticRegression  \n10  0.692958       0.478261      0.715210         492  LogisticRegression  \n11  0.282799       0.676471      0.258389         492  LogisticRegression  \n12  0.350482       0.164384      0.366667         492  LogisticRegression  \n13  0.685015       0.672897      0.693309         492  LogisticRegression  \n14  0.704871       0.385965      0.728171         492  LogisticRegression  \n15  0.542813       0.214953      0.574349         492  LogisticRegression  \n16  1.034985       0.676471      1.036913         492  LogisticRegression  ",
      "text/html": "<div>\n<style scoped>\n    .dataframe tbody tr th:only-of-type {\n        vertical-align: middle;\n    }\n\n    .dataframe tbody tr th {\n        vertical-align: top;\n    }\n\n    .dataframe thead th {\n        text-align: right;\n    }\n</style>\n<table border=\"1\" class=\"dataframe\">\n  <thead>\n    <tr style=\"text-align: right;\">\n      <th></th>\n      <th>Metric</th>\n      <th>overall</th>\n      <th>sex_priv</th>\n      <th>sex_dis</th>\n      <th>race_priv</th>\n      <th>race_dis</th>\n      <th>sex&amp;race_priv</th>\n      <th>sex&amp;race_dis</th>\n      <th>Model_Seed</th>\n      <th>Model_Name</th>\n    </tr>\n  </thead>\n  <tbody>\n    <tr>\n      <th>0</th>\n      <td>General_Ensemble_Accuracy</td>\n      <td>0.679924</td>\n      <td>0.659193</td>\n      <td>0.685474</td>\n      <td>0.671642</td>\n      <td>0.685015</td>\n      <td>0.672897</td>\n      <td>0.693309</td>\n      <td>492</td>\n      <td>LogisticRegression</td>\n    </tr>\n    <tr>\n      <th>1</th>\n      <td>Mean</td>\n      <td>0.520122</td>\n      <td>0.565524</td>\n      <td>0.507968</td>\n      <td>0.581083</td>\n      <td>0.482651</td>\n      <td>0.606199</td>\n      <td>0.472871</td>\n      <td>492</td>\n      <td>LogisticRegression</td>\n    </tr>\n    <tr>\n      <th>2</th>\n      <td>Std</td>\n      <td>0.021520</td>\n      <td>0.019211</td>\n      <td>0.022138</td>\n      <td>0.019990</td>\n      <td>0.022461</td>\n      <td>0.019146</td>\n      <td>0.023148</td>\n      <td>492</td>\n      <td>LogisticRegression</td>\n    </tr>\n    <tr>\n      <th>3</th>\n      <td>IQR</td>\n      <td>0.027995</td>\n      <td>0.024942</td>\n      <td>0.028812</td>\n      <td>0.026028</td>\n      <td>0.029203</td>\n      <td>0.024786</td>\n      <td>0.030091</td>\n      <td>492</td>\n      <td>LogisticRegression</td>\n    </tr>\n    <tr>\n      <th>4</th>\n      <td>Entropy</td>\n      <td>0.079387</td>\n      <td>0.000000</td>\n      <td>0.080575</td>\n      <td>0.077811</td>\n      <td>0.000000</td>\n      <td>0.000000</td>\n      <td>0.000000</td>\n      <td>492</td>\n      <td>LogisticRegression</td>\n    </tr>\n    <tr>\n      <th>5</th>\n      <td>Jitter</td>\n      <td>0.049364</td>\n      <td>0.045588</td>\n      <td>0.050375</td>\n      <td>0.049021</td>\n      <td>0.049576</td>\n      <td>0.040521</td>\n      <td>0.049428</td>\n      <td>492</td>\n      <td>LogisticRegression</td>\n    </tr>\n    <tr>\n      <th>6</th>\n      <td>Per_Sample_Accuracy</td>\n      <td>0.674536</td>\n      <td>0.652108</td>\n      <td>0.680540</td>\n      <td>0.664229</td>\n      <td>0.680872</td>\n      <td>0.663364</td>\n      <td>0.689312</td>\n      <td>492</td>\n      <td>LogisticRegression</td>\n    </tr>\n    <tr>\n      <th>7</th>\n      <td>Label_Stability</td>\n      <td>0.935625</td>\n      <td>0.942422</td>\n      <td>0.933806</td>\n      <td>0.934527</td>\n      <td>0.936300</td>\n      <td>0.946168</td>\n      <td>0.935725</td>\n      <td>492</td>\n      <td>LogisticRegression</td>\n    </tr>\n    <tr>\n      <th>8</th>\n      <td>TPR</td>\n      <td>0.632860</td>\n      <td>0.455696</td>\n      <td>0.666667</td>\n      <td>0.440000</td>\n      <td>0.717201</td>\n      <td>0.323529</td>\n      <td>0.741611</td>\n      <td>492</td>\n      <td>LogisticRegression</td>\n    </tr>\n    <tr>\n      <th>9</th>\n      <td>TNR</td>\n      <td>0.721137</td>\n      <td>0.770833</td>\n      <td>0.704057</td>\n      <td>0.809524</td>\n      <td>0.649518</td>\n      <td>0.835616</td>\n      <td>0.633333</td>\n      <td>492</td>\n      <td>LogisticRegression</td>\n    </tr>\n    <tr>\n      <th>10</th>\n      <td>PPV</td>\n      <td>0.665245</td>\n      <td>0.521739</td>\n      <td>0.690000</td>\n      <td>0.578947</td>\n      <td>0.692958</td>\n      <td>0.478261</td>\n      <td>0.715210</td>\n      <td>492</td>\n      <td>LogisticRegression</td>\n    </tr>\n    <tr>\n      <th>11</th>\n      <td>FNR</td>\n      <td>0.367140</td>\n      <td>0.544304</td>\n      <td>0.333333</td>\n      <td>0.560000</td>\n      <td>0.282799</td>\n      <td>0.676471</td>\n      <td>0.258389</td>\n      <td>492</td>\n      <td>LogisticRegression</td>\n    </tr>\n    <tr>\n      <th>12</th>\n      <td>FPR</td>\n      <td>0.278863</td>\n      <td>0.229167</td>\n      <td>0.295943</td>\n      <td>0.190476</td>\n      <td>0.350482</td>\n      <td>0.164384</td>\n      <td>0.366667</td>\n      <td>492</td>\n      <td>LogisticRegression</td>\n    </tr>\n    <tr>\n      <th>13</th>\n      <td>Accuracy</td>\n      <td>0.679924</td>\n      <td>0.659193</td>\n      <td>0.685474</td>\n      <td>0.671642</td>\n      <td>0.685015</td>\n      <td>0.672897</td>\n      <td>0.693309</td>\n      <td>492</td>\n      <td>LogisticRegression</td>\n    </tr>\n    <tr>\n      <th>14</th>\n      <td>F1</td>\n      <td>0.648649</td>\n      <td>0.486486</td>\n      <td>0.678133</td>\n      <td>0.500000</td>\n      <td>0.704871</td>\n      <td>0.385965</td>\n      <td>0.728171</td>\n      <td>492</td>\n      <td>LogisticRegression</td>\n    </tr>\n    <tr>\n      <th>15</th>\n      <td>Selection-Rate</td>\n      <td>0.444129</td>\n      <td>0.309417</td>\n      <td>0.480192</td>\n      <td>0.283582</td>\n      <td>0.542813</td>\n      <td>0.214953</td>\n      <td>0.574349</td>\n      <td>492</td>\n      <td>LogisticRegression</td>\n    </tr>\n    <tr>\n      <th>16</th>\n      <td>Positive-Rate</td>\n      <td>0.951318</td>\n      <td>0.873418</td>\n      <td>0.966184</td>\n      <td>0.760000</td>\n      <td>1.034985</td>\n      <td>0.676471</td>\n      <td>1.036913</td>\n      <td>492</td>\n      <td>LogisticRegression</td>\n    </tr>\n  </tbody>\n</table>\n</div>"
     },
     "metadata": {},
     "output_type": "display_data"
    },
    {
     "name": "stderr",
     "output_type": "stream",
     "text": [
      "Analyze models in one run: 100%|\u001B[31m██████████\u001B[0m| 2/2 [00:34<00:00, 17.23s/it]"
     ]
    },
    {
     "name": "stdout",
     "output_type": "stream",
     "text": [
      "\n",
      "\n",
      "\n",
      "\n"
     ]
    },
    {
     "name": "stderr",
     "output_type": "stream",
     "text": [
      "\n"
     ]
    }
   ],
   "source": [
    "models_metrics_dct = run_metrics_computation_with_config(dataset, config, models_config, SAVE_RESULTS_DIR_PATH, debug_mode=True)"
   ]
  },
  {
   "cell_type": "code",
   "execution_count": 35,
   "outputs": [],
   "source": [],
   "metadata": {
    "collapsed": false
   }
  }
 ],
 "metadata": {
  "kernelspec": {
   "display_name": "Python 3 (ipykernel)",
   "language": "python",
   "name": "python3"
  },
  "language_info": {
   "codemirror_mode": {
    "name": "ipython",
    "version": 3
   },
   "file_extension": ".py",
   "mimetype": "text/x-python",
   "name": "python",
   "nbconvert_exporter": "python",
   "pygments_lexer": "ipython3",
   "version": "3.8.10"
  }
 },
 "nbformat": 4,
 "nbformat_minor": 5
}
