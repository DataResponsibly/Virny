{
 "cells": [
  {
   "cell_type": "code",
   "execution_count": 1,
   "id": "248cbed8",
   "metadata": {
    "ExecuteTime": {
     "end_time": "2023-12-10T13:46:04.887856Z",
     "start_time": "2023-12-10T13:46:04.026304Z"
    }
   },
   "outputs": [],
   "source": [
    "%matplotlib inline\n",
    "%load_ext autoreload\n",
    "%autoreload 2"
   ]
  },
  {
   "cell_type": "code",
   "execution_count": 2,
   "id": "7ec6cd08",
   "metadata": {
    "ExecuteTime": {
     "end_time": "2023-12-10T13:46:04.897038Z",
     "start_time": "2023-12-10T13:46:04.888481Z"
    }
   },
   "outputs": [],
   "source": [
    "import os\n",
    "import warnings\n",
    "warnings.filterwarnings('ignore')\n",
    "os.environ[\"PYTHONWARNINGS\"] = \"ignore\""
   ]
  },
  {
   "cell_type": "code",
   "execution_count": 3,
   "id": "b8cb69f2",
   "metadata": {
    "ExecuteTime": {
     "end_time": "2023-12-10T13:46:04.906348Z",
     "start_time": "2023-12-10T13:46:04.897731Z"
    }
   },
   "outputs": [
    {
     "name": "stdout",
     "output_type": "stream",
     "text": [
      "Current location:  /Users/denys_herasymuk/UCU/4course_2term/Bachelor_Thesis/Code/Virny\n"
     ]
    }
   ],
   "source": [
    "cur_folder_name = os.getcwd().split('/')[-1]\n",
    "if cur_folder_name != \"Virny\":\n",
    "    os.chdir(\"../..\")\n",
    "\n",
    "print('Current location: ', os.getcwd())"
   ]
  },
  {
   "cell_type": "markdown",
   "id": "a578f2ab",
   "metadata": {},
   "source": [
    "# Multiple Models Interface Usage"
   ]
  },
  {
   "cell_type": "code",
   "execution_count": 4,
   "id": "7a9241de",
   "metadata": {
    "ExecuteTime": {
     "end_time": "2023-12-10T13:46:09.457388Z",
     "start_time": "2023-12-10T13:46:04.907162Z"
    }
   },
   "outputs": [],
   "source": [
    "import os\n",
    "import pandas as pd\n",
    "\n",
    "from virny.datasets import LawSchoolDataset\n",
    "from virny.custom_classes.metrics_composer import MetricsComposer\n",
    "from virny.custom_classes.metrics_interactive_visualizer import MetricsInteractiveVisualizer"
   ]
  },
  {
   "cell_type": "code",
   "execution_count": 5,
   "outputs": [],
   "source": [
    "data_loader = LawSchoolDataset()\n",
    "sensitive_attributes_dct = {'male': '0.0', 'race': 'Non-White', 'male&race': None}"
   ],
   "metadata": {
    "collapsed": false,
    "ExecuteTime": {
     "end_time": "2023-12-10T13:46:09.518413Z",
     "start_time": "2023-12-10T13:46:09.456301Z"
    }
   },
   "id": "d3c53c7b72ecbcd0"
  },
  {
   "cell_type": "code",
   "execution_count": 6,
   "outputs": [],
   "source": [
    "ROOT_DIR = os.path.join('docs', 'examples')\n",
    "subgroup_metrics_df = pd.read_csv(os.path.join(ROOT_DIR, 'law_school_subgroup_metrics.csv'), header=0)\n",
    "subgroup_metrics_df['Model_Name'] = (subgroup_metrics_df['Model_Name'] + '__alpha=' +\n",
    "                                     subgroup_metrics_df['Intervention_Param'].astype(str))"
   ],
   "metadata": {
    "collapsed": false,
    "ExecuteTime": {
     "end_time": "2023-12-10T13:46:09.544781Z",
     "start_time": "2023-12-10T13:46:09.518981Z"
    }
   },
   "id": "2aab7c79ecdee914"
  },
  {
   "cell_type": "code",
   "execution_count": 7,
   "outputs": [
    {
     "data": {
      "text/plain": "                         Metric      male      race  male&race  \\\n0               Accuracy_Parity -0.024413 -0.158856  -0.162998   \n1  Aleatoric_Uncertainty_Parity -0.016769  0.317464   0.274695   \n2   Aleatoric_Uncertainty_Ratio  0.951019  2.126816   1.880052   \n3            Equalized_Odds_FNR  0.006853  0.089260   0.092334   \n4            Equalized_Odds_FPR  0.027311 -0.289259  -0.156572   \n\n                  Model_Name  \n0  LGBMClassifier__alpha=0.6  \n1  LGBMClassifier__alpha=0.6  \n2  LGBMClassifier__alpha=0.6  \n3  LGBMClassifier__alpha=0.6  \n4  LGBMClassifier__alpha=0.6  ",
      "text/html": "<div>\n<style scoped>\n    .dataframe tbody tr th:only-of-type {\n        vertical-align: middle;\n    }\n\n    .dataframe tbody tr th {\n        vertical-align: top;\n    }\n\n    .dataframe thead th {\n        text-align: right;\n    }\n</style>\n<table border=\"1\" class=\"dataframe\">\n  <thead>\n    <tr style=\"text-align: right;\">\n      <th></th>\n      <th>Metric</th>\n      <th>male</th>\n      <th>race</th>\n      <th>male&amp;race</th>\n      <th>Model_Name</th>\n    </tr>\n  </thead>\n  <tbody>\n    <tr>\n      <th>0</th>\n      <td>Accuracy_Parity</td>\n      <td>-0.024413</td>\n      <td>-0.158856</td>\n      <td>-0.162998</td>\n      <td>LGBMClassifier__alpha=0.6</td>\n    </tr>\n    <tr>\n      <th>1</th>\n      <td>Aleatoric_Uncertainty_Parity</td>\n      <td>-0.016769</td>\n      <td>0.317464</td>\n      <td>0.274695</td>\n      <td>LGBMClassifier__alpha=0.6</td>\n    </tr>\n    <tr>\n      <th>2</th>\n      <td>Aleatoric_Uncertainty_Ratio</td>\n      <td>0.951019</td>\n      <td>2.126816</td>\n      <td>1.880052</td>\n      <td>LGBMClassifier__alpha=0.6</td>\n    </tr>\n    <tr>\n      <th>3</th>\n      <td>Equalized_Odds_FNR</td>\n      <td>0.006853</td>\n      <td>0.089260</td>\n      <td>0.092334</td>\n      <td>LGBMClassifier__alpha=0.6</td>\n    </tr>\n    <tr>\n      <th>4</th>\n      <td>Equalized_Odds_FPR</td>\n      <td>0.027311</td>\n      <td>-0.289259</td>\n      <td>-0.156572</td>\n      <td>LGBMClassifier__alpha=0.6</td>\n    </tr>\n  </tbody>\n</table>\n</div>"
     },
     "execution_count": 7,
     "metadata": {},
     "output_type": "execute_result"
    }
   ],
   "source": [
    "model_names = subgroup_metrics_df['Model_Name'].unique()\n",
    "models_metrics_dct = dict()\n",
    "for model_name in model_names:\n",
    "    models_metrics_dct[model_name] = subgroup_metrics_df[subgroup_metrics_df['Model_Name'] == model_name]\n",
    "\n",
    "metrics_composer = MetricsComposer(models_metrics_dct, sensitive_attributes_dct)\n",
    "models_composed_metrics_df = metrics_composer.compose_metrics()\n",
    "models_composed_metrics_df.head()"
   ],
   "metadata": {
    "collapsed": false,
    "ExecuteTime": {
     "end_time": "2023-12-10T13:46:09.592998Z",
     "start_time": "2023-12-10T13:46:09.545292Z"
    }
   },
   "id": "833484748ed512e8"
  },
  {
   "cell_type": "code",
   "execution_count": 8,
   "outputs": [
    {
     "data": {
      "text/plain": "dict_keys(['LGBMClassifier__alpha=0.6', 'LGBMClassifier__alpha=0.0', 'LogisticRegression__alpha=0.6', 'LogisticRegression__alpha=0.0', 'MLPClassifier__alpha=0.0', 'MLPClassifier__alpha=0.6', 'RandomForestClassifier__alpha=0.6', 'RandomForestClassifier__alpha=0.0'])"
     },
     "execution_count": 8,
     "metadata": {},
     "output_type": "execute_result"
    }
   ],
   "source": [
    "models_metrics_dct.keys()"
   ],
   "metadata": {
    "collapsed": false,
    "ExecuteTime": {
     "end_time": "2023-12-10T13:46:09.615874Z",
     "start_time": "2023-12-10T13:46:09.592514Z"
    }
   },
   "id": "15ed7d1ba1f22317"
  },
  {
   "cell_type": "markdown",
   "id": "deb45226",
   "metadata": {},
   "source": [
    "## Metrics Visualization and Reporting"
   ]
  },
  {
   "cell_type": "code",
   "execution_count": 56,
   "id": "435b9d98",
   "metadata": {
    "ExecuteTime": {
     "end_time": "2023-12-10T17:18:16.810646Z",
     "start_time": "2023-12-10T17:18:16.756447Z"
    }
   },
   "outputs": [],
   "source": [
    "visualizer = MetricsInteractiveVisualizer(data_loader.X_data, data_loader.y_data,\n",
    "                                          models_metrics_dct, models_composed_metrics_df,\n",
    "                                          sensitive_attributes_dct=sensitive_attributes_dct)"
   ]
  },
  {
   "cell_type": "code",
   "execution_count": null,
   "outputs": [
    {
     "name": "stdout",
     "output_type": "stream",
     "text": [
      "Running on local URL:  http://127.0.0.1:7860\n",
      "\n",
      "To create a public link, set `share=True` in `launch()`.\n",
      "{1: [-0.009, 0.011], 2: [-0.008, 0.012], 3: [0.015, 0.035], 4: [0.017, 0.037]}\n",
      "{1: [0.249, 0.269], 2: [0.279, 0.299], 3: [0.367, 0.387], 4: [0.419, 0.439]}\n",
      "{1: [0.137, 0.157], 2: [0.147, 0.167], 3: [0.264, 0.284], 4: [0.303, 0.323]}\n",
      "{1: [-0.01, 0.01], 2: [-0.005, 0.015], 3: [-0.005, 0.015], 4: [-0.003, 0.017]}\n",
      "{1: [0.067, 0.087], 2: [0.079, 0.099], 3: [0.089, 0.109], 4: [0.1, 0.12]}\n",
      "{1: [0.065, 0.085], 2: [0.075, 0.095], 3: [0.082, 0.102], 4: [0.089, 0.109]}\n",
      "{1: [-0.002, 0.018], 2: [0.001, 0.021], 3: [0.005, 0.025], 4: [0.007, 0.027]}\n",
      "{1: [0.286, 0.306], 2: [0.312, 0.332], 3: [0.313, 0.333], 4: [0.321, 0.341]}\n",
      "{1: [0.258, 0.278], 2: [0.269, 0.289], 3: [0.277, 0.297], 4: [0.283, 0.303]}\n",
      "{1: [-0.009, 0.011], 2: [-0.009, 0.011], 3: [-0.008, 0.012], 4: [-0.006, 0.014]}\n",
      "{1: [0.031, 0.051], 2: [0.035, 0.055], 3: [0.068, 0.088], 4: [0.078, 0.098]}\n",
      "{1: [0.021, 0.041], 2: [0.023, 0.043], 3: [0.045, 0.065], 4: [0.069, 0.089]}\n",
      "{1: [-0.01, 0.01], 2: [-0.01, 0.01], 3: [-0.009, 0.011], 4: [-0.009, 0.011]}\n",
      "{1: [0.001, 0.021], 2: [0.003, 0.023], 3: [0.012, 0.032], 4: [0.013, 0.033]}\n",
      "{1: [0.0, 0.02], 2: [0.001, 0.021], 3: [0.009, 0.029], 4: [0.009, 0.029]}\n",
      "{1: [0.086, 0.106], 2: [0.087, 0.107], 3: [0.09, 0.11], 4: [0.09, 0.11]}\n",
      "{1: [0.042, 0.062], 2: [0.043, 0.063], 3: [0.045, 0.065], 4: [0.045, 0.065]}\n",
      "{1: [0.323, 0.343], 2: [0.325, 0.345], 3: [0.334, 0.354], 4: [0.334, 0.354]}\n",
      "{1: [0.33, 0.35], 2: [0.33, 0.35], 3: [0.335, 0.355], 4: [0.335, 0.355]}\n",
      "{1: [-0.001, 0.019], 2: [-0.001, 0.019], 3: [0.013, 0.033], 4: [0.016, 0.036]}\n",
      "{1: [0.003, 0.023], 2: [0.005, 0.025], 3: [0.018, 0.038], 4: [0.022, 0.042]}\n",
      "{1: [0.091, 0.101], 2: [0.092, 0.102], 3: [0.095, 0.105], 4: [0.095, 0.105]}\n",
      "{1: [0.047, 0.057], 2: [0.048, 0.058], 3: [0.05, 0.06], 4: [0.05, 0.06]}\n",
      "{1: [0.328, 0.338], 2: [0.33, 0.34], 3: [0.339, 0.349], 4: [0.339, 0.349]}\n",
      "{1: [0.335, 0.345], 2: [0.335, 0.345], 3: [0.34, 0.35], 4: [0.34, 0.35]}\n",
      "{1: [0.004, 0.014], 2: [0.004, 0.014], 3: [0.018, 0.028], 4: [0.021, 0.031]}\n",
      "{1: [0.008, 0.018], 2: [0.01, 0.02], 3: [0.023, 0.033], 4: [0.027, 0.037]}\n",
      "{1: [0.092, 0.102], 2: [0.095, 0.105], 3: [0.095, 0.105], 4: [0.105, 0.115]}\n",
      "{1: [0.048, 0.058], 2: [0.05, 0.06], 3: [0.05, 0.06], 4: [0.055, 0.065]}\n",
      "{1: [0.048, 0.058], 2: [0.33, 0.34], 3: [0.339, 0.349], 4: [0.339, 0.349]}\n",
      "{1: [0.315, 0.325], 2: [0.335, 0.345], 3: [0.34, 0.35], 4: [0.34, 0.35]}\n",
      "{1: [0.004, 0.014], 2: [0.004, 0.014], 3: [0.018, 0.028], 4: [0.172, 0.182]}\n",
      "{1: [0.008, 0.018], 2: [0.01, 0.02], 3: [0.023, 0.033], 4: [0.183, 0.193]}\n",
      "{1: [0.087, 0.107], 2: [0.09, 0.11], 3: [0.09, 0.11], 4: [0.1, 0.12]}\n",
      "{1: [0.043, 0.063], 2: [0.045, 0.065], 3: [0.045, 0.065], 4: [0.05, 0.07]}\n",
      "{1: [0.043, 0.063], 2: [0.325, 0.345], 3: [0.334, 0.354], 4: [0.334, 0.354]}\n",
      "{1: [0.31, 0.33], 2: [0.33, 0.35], 3: [0.335, 0.355], 4: [0.335, 0.355]}\n",
      "{1: [-0.001, 0.019], 2: [-0.001, 0.019], 3: [0.013, 0.033], 4: [0.167, 0.187]}\n",
      "{1: [0.003, 0.023], 2: [0.005, 0.025], 3: [0.018, 0.038], 4: [0.178, 0.198]}\n",
      "{1: [0.09, 0.11], 2: [0.1, 0.12]}\n",
      "{1: [0.045, 0.065], 2: [0.05, 0.07]}\n",
      "{1: [0.043, 0.063], 2: [0.334, 0.354]}\n",
      "{1: [0.31, 0.33], 2: [0.335, 0.355]}\n",
      "{1: [-0.001, 0.019], 2: [0.167, 0.187]}\n",
      "{1: [0.005, 0.025], 2: [0.178, 0.198]}\n",
      "{1: [0.091, 0.101], 2: [0.092, 0.102], 3: [0.095, 0.105], 4: [0.095, 0.105]}\n",
      "{1: [0.047, 0.057], 2: [0.048, 0.058], 3: [0.05, 0.06], 4: [0.05, 0.06]}\n",
      "{1: [0.328, 0.338], 2: [0.33, 0.34], 3: [0.339, 0.349], 4: [0.339, 0.349]}\n",
      "{1: [0.335, 0.345], 2: [0.335, 0.345], 3: [0.34, 0.35], 4: [0.34, 0.35]}\n",
      "{1: [0.004, 0.014], 2: [0.004, 0.014], 3: [0.018, 0.028], 4: [0.021, 0.031]}\n",
      "{1: [0.008, 0.018], 2: [0.01, 0.02], 3: [0.023, 0.033], 4: [0.027, 0.037]}\n",
      "{1: [-0.004, 0.006], 2: [-0.003, 0.007], 3: [0.02, 0.03], 4: [0.022, 0.032]}\n",
      "{1: [0.254, 0.264], 2: [0.284, 0.294], 3: [0.372, 0.382], 4: [0.424, 0.434]}\n",
      "{1: [0.142, 0.152], 2: [0.152, 0.162], 3: [0.269, 0.279], 4: [0.308, 0.318]}\n",
      "{1: [-0.005, 0.005], 2: [0.0, 0.01], 3: [0.0, 0.01], 4: [0.002, 0.012]}\n",
      "{1: [0.072, 0.082], 2: [0.084, 0.094], 3: [0.094, 0.104], 4: [0.105, 0.115]}\n",
      "{1: [0.07, 0.08], 2: [0.08, 0.09], 3: [0.087, 0.097], 4: [0.094, 0.104]}\n",
      "{1: [0.003, 0.013], 2: [0.006, 0.016], 3: [0.01, 0.02], 4: [0.012, 0.022]}\n",
      "{1: [0.291, 0.301], 2: [0.317, 0.327], 3: [0.318, 0.328], 4: [0.326, 0.336]}\n",
      "{1: [0.263, 0.273], 2: [0.274, 0.284], 3: [0.282, 0.292], 4: [0.288, 0.298]}\n",
      "{1: [-0.004, 0.006], 2: [-0.004, 0.006], 3: [-0.003, 0.007], 4: [-0.001, 0.009]}\n",
      "{1: [0.036, 0.046], 2: [0.04, 0.05], 3: [0.073, 0.083], 4: [0.083, 0.093]}\n",
      "{1: [0.026, 0.036], 2: [0.028, 0.038], 3: [0.05, 0.06], 4: [0.074, 0.084]}\n",
      "{1: [-0.005, 0.005], 2: [-0.005, 0.005], 3: [-0.004, 0.006], 4: [-0.004, 0.006]}\n",
      "{1: [0.006, 0.016], 2: [0.008, 0.018], 3: [0.017, 0.027], 4: [0.018, 0.028]}\n",
      "{1: [0.005, 0.015], 2: [0.006, 0.016], 3: [0.014, 0.024], 4: [0.014, 0.024]}\n"
     ]
    }
   ],
   "source": [
    "visualizer.start_web_app()"
   ],
   "metadata": {
    "collapsed": false,
    "is_executing": true,
    "ExecuteTime": {
     "start_time": "2023-12-10T17:18:16.842929Z"
    }
   },
   "id": "678a9dc8d51243f4"
  },
  {
   "cell_type": "code",
   "execution_count": 11,
   "outputs": [
    {
     "name": "stdout",
     "output_type": "stream",
     "text": [
      "Closing server running on port: 7860\n"
     ]
    }
   ],
   "source": [
    "visualizer.stop_web_app()"
   ],
   "metadata": {
    "collapsed": false,
    "ExecuteTime": {
     "end_time": "2023-12-10T14:45:32.225285Z",
     "start_time": "2023-12-10T14:45:32.184623Z"
    }
   },
   "id": "277b6d1de837dab7"
  },
  {
   "cell_type": "code",
   "execution_count": 11,
   "id": "2326c129",
   "metadata": {
    "ExecuteTime": {
     "end_time": "2023-12-10T14:45:32.227687Z",
     "start_time": "2023-12-10T14:45:32.224834Z"
    }
   },
   "outputs": [],
   "source": []
  }
 ],
 "metadata": {
  "kernelspec": {
   "display_name": "Python 3 (ipykernel)",
   "language": "python",
   "name": "python3"
  },
  "language_info": {
   "codemirror_mode": {
    "name": "ipython",
    "version": 3
   },
   "file_extension": ".py",
   "mimetype": "text/x-python",
   "name": "python",
   "nbconvert_exporter": "python",
   "pygments_lexer": "ipython3",
   "version": "3.8.10"
  }
 },
 "nbformat": 4,
 "nbformat_minor": 5
}
