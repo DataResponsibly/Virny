{
 "cells": [
  {
   "cell_type": "code",
   "execution_count": 1,
   "id": "248cbed8",
   "metadata": {
    "ExecuteTime": {
     "end_time": "2023-12-10T13:46:04.887856Z",
     "start_time": "2023-12-10T13:46:04.026304Z"
    }
   },
   "outputs": [],
   "source": [
    "%matplotlib inline\n",
    "%load_ext autoreload\n",
    "%autoreload 2"
   ]
  },
  {
   "cell_type": "code",
   "execution_count": 2,
   "id": "7ec6cd08",
   "metadata": {
    "ExecuteTime": {
     "end_time": "2023-12-10T13:46:04.897038Z",
     "start_time": "2023-12-10T13:46:04.888481Z"
    }
   },
   "outputs": [],
   "source": [
    "import os\n",
    "import warnings\n",
    "warnings.filterwarnings('ignore')\n",
    "os.environ[\"PYTHONWARNINGS\"] = \"ignore\""
   ]
  },
  {
   "cell_type": "code",
   "execution_count": 3,
   "id": "b8cb69f2",
   "metadata": {
    "ExecuteTime": {
     "end_time": "2023-12-10T13:46:04.906348Z",
     "start_time": "2023-12-10T13:46:04.897731Z"
    }
   },
   "outputs": [
    {
     "name": "stdout",
     "output_type": "stream",
     "text": [
      "Current location:  /Users/denys_herasymuk/UCU/4course_2term/Bachelor_Thesis/Code/Virny\n"
     ]
    }
   ],
   "source": [
    "cur_folder_name = os.getcwd().split('/')[-1]\n",
    "if cur_folder_name != \"Virny\":\n",
    "    os.chdir(\"../..\")\n",
    "\n",
    "print('Current location: ', os.getcwd())"
   ]
  },
  {
   "cell_type": "markdown",
   "id": "a578f2ab",
   "metadata": {},
   "source": [
    "# Multiple Models Interface Usage"
   ]
  },
  {
   "cell_type": "code",
   "execution_count": 4,
   "id": "7a9241de",
   "metadata": {
    "ExecuteTime": {
     "end_time": "2023-12-10T13:46:09.457388Z",
     "start_time": "2023-12-10T13:46:04.907162Z"
    }
   },
   "outputs": [],
   "source": [
    "import os\n",
    "import pandas as pd\n",
    "\n",
    "from virny.datasets import LawSchoolDataset\n",
    "from virny.custom_classes.metrics_composer import MetricsComposer\n",
    "from virny.custom_classes.metrics_interactive_visualizer import MetricsInteractiveVisualizer"
   ]
  },
  {
   "cell_type": "code",
   "execution_count": 5,
   "outputs": [],
   "source": [
    "data_loader = LawSchoolDataset()\n",
    "sensitive_attributes_dct = {'male': '0.0', 'race': 'Non-White', 'male&race': None}"
   ],
   "metadata": {
    "collapsed": false,
    "ExecuteTime": {
     "end_time": "2023-12-10T13:46:09.518413Z",
     "start_time": "2023-12-10T13:46:09.456301Z"
    }
   },
   "id": "d3c53c7b72ecbcd0"
  },
  {
   "cell_type": "code",
   "execution_count": 6,
   "outputs": [],
   "source": [
    "ROOT_DIR = os.path.join('docs', 'examples')\n",
    "subgroup_metrics_df = pd.read_csv(os.path.join(ROOT_DIR, 'law_school_subgroup_metrics.csv'), header=0)\n",
    "subgroup_metrics_df['Model_Name'] = (subgroup_metrics_df['Model_Name'] + '__alpha=' +\n",
    "                                     subgroup_metrics_df['Intervention_Param'].astype(str))"
   ],
   "metadata": {
    "collapsed": false,
    "ExecuteTime": {
     "end_time": "2023-12-10T13:46:09.544781Z",
     "start_time": "2023-12-10T13:46:09.518981Z"
    }
   },
   "id": "2aab7c79ecdee914"
  },
  {
   "cell_type": "code",
   "execution_count": 7,
   "outputs": [
    {
     "data": {
      "text/plain": "                         Metric      male      race  male&race  \\\n0               Accuracy_Parity -0.024413 -0.158856  -0.162998   \n1  Aleatoric_Uncertainty_Parity -0.016769  0.317464   0.274695   \n2   Aleatoric_Uncertainty_Ratio  0.951019  2.126816   1.880052   \n3            Equalized_Odds_FNR  0.006853  0.089260   0.092334   \n4            Equalized_Odds_FPR  0.027311 -0.289259  -0.156572   \n\n                  Model_Name  \n0  LGBMClassifier__alpha=0.6  \n1  LGBMClassifier__alpha=0.6  \n2  LGBMClassifier__alpha=0.6  \n3  LGBMClassifier__alpha=0.6  \n4  LGBMClassifier__alpha=0.6  ",
      "text/html": "<div>\n<style scoped>\n    .dataframe tbody tr th:only-of-type {\n        vertical-align: middle;\n    }\n\n    .dataframe tbody tr th {\n        vertical-align: top;\n    }\n\n    .dataframe thead th {\n        text-align: right;\n    }\n</style>\n<table border=\"1\" class=\"dataframe\">\n  <thead>\n    <tr style=\"text-align: right;\">\n      <th></th>\n      <th>Metric</th>\n      <th>male</th>\n      <th>race</th>\n      <th>male&amp;race</th>\n      <th>Model_Name</th>\n    </tr>\n  </thead>\n  <tbody>\n    <tr>\n      <th>0</th>\n      <td>Accuracy_Parity</td>\n      <td>-0.024413</td>\n      <td>-0.158856</td>\n      <td>-0.162998</td>\n      <td>LGBMClassifier__alpha=0.6</td>\n    </tr>\n    <tr>\n      <th>1</th>\n      <td>Aleatoric_Uncertainty_Parity</td>\n      <td>-0.016769</td>\n      <td>0.317464</td>\n      <td>0.274695</td>\n      <td>LGBMClassifier__alpha=0.6</td>\n    </tr>\n    <tr>\n      <th>2</th>\n      <td>Aleatoric_Uncertainty_Ratio</td>\n      <td>0.951019</td>\n      <td>2.126816</td>\n      <td>1.880052</td>\n      <td>LGBMClassifier__alpha=0.6</td>\n    </tr>\n    <tr>\n      <th>3</th>\n      <td>Equalized_Odds_FNR</td>\n      <td>0.006853</td>\n      <td>0.089260</td>\n      <td>0.092334</td>\n      <td>LGBMClassifier__alpha=0.6</td>\n    </tr>\n    <tr>\n      <th>4</th>\n      <td>Equalized_Odds_FPR</td>\n      <td>0.027311</td>\n      <td>-0.289259</td>\n      <td>-0.156572</td>\n      <td>LGBMClassifier__alpha=0.6</td>\n    </tr>\n  </tbody>\n</table>\n</div>"
     },
     "execution_count": 7,
     "metadata": {},
     "output_type": "execute_result"
    }
   ],
   "source": [
    "model_names = subgroup_metrics_df['Model_Name'].unique()\n",
    "models_metrics_dct = dict()\n",
    "for model_name in model_names:\n",
    "    models_metrics_dct[model_name] = subgroup_metrics_df[subgroup_metrics_df['Model_Name'] == model_name]\n",
    "\n",
    "metrics_composer = MetricsComposer(models_metrics_dct, sensitive_attributes_dct)\n",
    "models_composed_metrics_df = metrics_composer.compose_metrics()\n",
    "models_composed_metrics_df.head()"
   ],
   "metadata": {
    "collapsed": false,
    "ExecuteTime": {
     "end_time": "2023-12-10T13:46:09.592998Z",
     "start_time": "2023-12-10T13:46:09.545292Z"
    }
   },
   "id": "833484748ed512e8"
  },
  {
   "cell_type": "code",
   "execution_count": 8,
   "outputs": [
    {
     "data": {
      "text/plain": "dict_keys(['LGBMClassifier__alpha=0.6', 'LGBMClassifier__alpha=0.0', 'LogisticRegression__alpha=0.6', 'LogisticRegression__alpha=0.0', 'MLPClassifier__alpha=0.0', 'MLPClassifier__alpha=0.6', 'RandomForestClassifier__alpha=0.6', 'RandomForestClassifier__alpha=0.0'])"
     },
     "execution_count": 8,
     "metadata": {},
     "output_type": "execute_result"
    }
   ],
   "source": [
    "models_metrics_dct.keys()"
   ],
   "metadata": {
    "collapsed": false,
    "ExecuteTime": {
     "end_time": "2023-12-10T13:46:09.615874Z",
     "start_time": "2023-12-10T13:46:09.592514Z"
    }
   },
   "id": "15ed7d1ba1f22317"
  },
  {
   "cell_type": "markdown",
   "id": "deb45226",
   "metadata": {},
   "source": [
    "## Metrics Visualization and Reporting"
   ]
  },
  {
   "cell_type": "code",
   "execution_count": 48,
   "id": "435b9d98",
   "metadata": {
    "ExecuteTime": {
     "end_time": "2023-12-10T16:04:29.715738Z",
     "start_time": "2023-12-10T16:04:29.547860Z"
    }
   },
   "outputs": [],
   "source": [
    "visualizer = MetricsInteractiveVisualizer(data_loader.X_data, data_loader.y_data,\n",
    "                                          models_metrics_dct, models_composed_metrics_df,\n",
    "                                          sensitive_attributes_dct=sensitive_attributes_dct)"
   ]
  },
  {
   "cell_type": "code",
   "execution_count": null,
   "outputs": [
    {
     "name": "stdout",
     "output_type": "stream",
     "text": [
      "Running on local URL:  http://127.0.0.1:7860\n",
      "\n",
      "Thanks for being a Gradio user! If you have questions or feedback, please join our Discord server and chat with us: https://discord.gg/feTf9x3ZSB\n",
      "\n",
      "To create a public link, set `share=True` in `launch()`.\n",
      "{1: [0.001, 0.0075], 2: [0.0075, 0.013999999999999999], 3: [0.013999999999999999, 0.020499999999999997], 4: [0.020499999999999997, 0.027]}\n",
      "{1: [0.259, 0.3015], 2: [0.3015, 0.344], 3: [0.344, 0.38649999999999995], 4: [0.38649999999999995, 0.429]}\n",
      "{1: [0.147, 0.1885], 2: [0.1885, 0.23], 3: [0.23, 0.2715], 4: [0.2715, 0.313]}\n",
      "{1: [0.0, 0.0035], 2: [0.0035, 0.007]}\n",
      "{1: [0.077, 0.08524999999999999], 2: [0.08524999999999999, 0.0935], 3: [0.0935, 0.10175000000000001], 4: [0.10175000000000001, 0.11]}\n",
      "{1: [0.075, 0.081], 2: [0.081, 0.08700000000000001], 3: [0.08700000000000001, 0.09300000000000001], 4: [0.09300000000000001, 0.099]}\n",
      "{1: [0.008, 0.0125], 2: [0.0125, 0.017]}\n",
      "{1: [0.296, 0.30474999999999997], 2: [0.30474999999999997, 0.3135], 3: [0.3135, 0.32225000000000004], 4: [0.32225000000000004, 0.331]}\n",
      "{1: [0.268, 0.27425], 2: [0.27425, 0.28049999999999997], 3: [0.28049999999999997, 0.28674999999999995], 4: [0.28674999999999995, 0.293]}\n",
      "{1: [0.0009999999999998899, 0.0040000000000000036]}\n",
      "{1: [0.041000000000000036, 0.05275000000000002], 2: [0.05275000000000002, 0.0645], 3: [0.0645, 0.07624999999999998], 4: [0.07624999999999998, 0.08799999999999997]}\n",
      "{1: [0.031000000000000028, 0.04300000000000001], 2: [0.04300000000000001, 0.05499999999999999], 3: [0.05499999999999999, 0.06699999999999998], 4: [0.06699999999999998, 0.07899999999999996]}\n",
      "{1: [0.0, 0.001]}\n",
      "{1: [0.011, 0.015], 2: [0.015, 0.019], 3: [0.019, 0.023]}\n",
      "{1: [0.01, 0.014499999999999999], 2: [0.014499999999999999, 0.019]}\n"
     ]
    },
    {
     "data": {
      "text/plain": "                                      LGBMClassifier__alpha=0.0  \\\nEqualized_Odds_FPR_male                                     2.0   \nEqualized_Odds_FPR_race                                     3.0   \nEqualized_Odds_FPR_male&race                                2.0   \nEqualized_Odds_TPR_male                                     2.0   \nEqualized_Odds_TPR_race                                     4.0   \nEqualized_Odds_TPR_male&race                                4.0   \nOverall_Uncertainty_Parity_male                             2.0   \nOverall_Uncertainty_Parity_race                             3.0   \nOverall_Uncertainty_Parity_male&race                        3.0   \nLabel_Stability_Ratio_male                                  1.0   \nLabel_Stability_Ratio_race                                  2.0   \nLabel_Stability_Ratio_male&race                             3.0   \nStd_Parity_male                                             1.0   \nStd_Parity_race                                             2.0   \nStd_Parity_male&race                                        2.0   \n\n                                      LGBMClassifier__alpha=0.6  \\\nEqualized_Odds_FPR_male                                     2.0   \nEqualized_Odds_FPR_race                                     1.0   \nEqualized_Odds_FPR_male&race                                1.0   \nEqualized_Odds_TPR_male                                     2.0   \nEqualized_Odds_TPR_race                                     2.0   \nEqualized_Odds_TPR_male&race                                3.0   \nOverall_Uncertainty_Parity_male                             2.0   \nOverall_Uncertainty_Parity_race                             2.0   \nOverall_Uncertainty_Parity_male&race                        2.0   \nLabel_Stability_Ratio_male                                  1.0   \nLabel_Stability_Ratio_race                                  2.0   \nLabel_Stability_Ratio_male&race                             2.0   \nStd_Parity_male                                             1.0   \nStd_Parity_race                                             2.0   \nStd_Parity_male&race                                        2.0   \n\n                                      LogisticRegression__alpha=0.0  \\\nEqualized_Odds_FPR_male                                         1.0   \nEqualized_Odds_FPR_race                                         2.0   \nEqualized_Odds_FPR_male&race                                    2.0   \nEqualized_Odds_TPR_male                                         1.0   \nEqualized_Odds_TPR_race                                         3.0   \nEqualized_Odds_TPR_male&race                                    1.0   \nOverall_Uncertainty_Parity_male                                 1.0   \nOverall_Uncertainty_Parity_race                                 3.0   \nOverall_Uncertainty_Parity_male&race                            3.0   \nLabel_Stability_Ratio_male                                      1.0   \nLabel_Stability_Ratio_race                                      1.0   \nLabel_Stability_Ratio_male&race                                 1.0   \nStd_Parity_male                                                 1.0   \nStd_Parity_race                                                 1.0   \nStd_Parity_male&race                                            1.0   \n\n                                      LogisticRegression__alpha=0.6  \nEqualized_Odds_FPR_male                                         1.0  \nEqualized_Odds_FPR_race                                         1.0  \nEqualized_Odds_FPR_male&race                                    1.0  \nEqualized_Odds_TPR_male                                         2.0  \nEqualized_Odds_TPR_race                                         1.0  \nEqualized_Odds_TPR_male&race                                    2.0  \nOverall_Uncertainty_Parity_male                                 1.0  \nOverall_Uncertainty_Parity_race                                 1.0  \nOverall_Uncertainty_Parity_male&race                            1.0  \nLabel_Stability_Ratio_male                                      1.0  \nLabel_Stability_Ratio_race                                      1.0  \nLabel_Stability_Ratio_male&race                                 1.0  \nStd_Parity_male                                                 1.0  \nStd_Parity_race                                                 1.0  \nStd_Parity_male&race                                            1.0  ",
      "text/html": "<div>\n<style scoped>\n    .dataframe tbody tr th:only-of-type {\n        vertical-align: middle;\n    }\n\n    .dataframe tbody tr th {\n        vertical-align: top;\n    }\n\n    .dataframe thead th {\n        text-align: right;\n    }\n</style>\n<table border=\"1\" class=\"dataframe\">\n  <thead>\n    <tr style=\"text-align: right;\">\n      <th></th>\n      <th>LGBMClassifier__alpha=0.0</th>\n      <th>LGBMClassifier__alpha=0.6</th>\n      <th>LogisticRegression__alpha=0.0</th>\n      <th>LogisticRegression__alpha=0.6</th>\n    </tr>\n  </thead>\n  <tbody>\n    <tr>\n      <th>Equalized_Odds_FPR_male</th>\n      <td>2.0</td>\n      <td>2.0</td>\n      <td>1.0</td>\n      <td>1.0</td>\n    </tr>\n    <tr>\n      <th>Equalized_Odds_FPR_race</th>\n      <td>3.0</td>\n      <td>1.0</td>\n      <td>2.0</td>\n      <td>1.0</td>\n    </tr>\n    <tr>\n      <th>Equalized_Odds_FPR_male&amp;race</th>\n      <td>2.0</td>\n      <td>1.0</td>\n      <td>2.0</td>\n      <td>1.0</td>\n    </tr>\n    <tr>\n      <th>Equalized_Odds_TPR_male</th>\n      <td>2.0</td>\n      <td>2.0</td>\n      <td>1.0</td>\n      <td>2.0</td>\n    </tr>\n    <tr>\n      <th>Equalized_Odds_TPR_race</th>\n      <td>4.0</td>\n      <td>2.0</td>\n      <td>3.0</td>\n      <td>1.0</td>\n    </tr>\n    <tr>\n      <th>Equalized_Odds_TPR_male&amp;race</th>\n      <td>4.0</td>\n      <td>3.0</td>\n      <td>1.0</td>\n      <td>2.0</td>\n    </tr>\n    <tr>\n      <th>Overall_Uncertainty_Parity_male</th>\n      <td>2.0</td>\n      <td>2.0</td>\n      <td>1.0</td>\n      <td>1.0</td>\n    </tr>\n    <tr>\n      <th>Overall_Uncertainty_Parity_race</th>\n      <td>3.0</td>\n      <td>2.0</td>\n      <td>3.0</td>\n      <td>1.0</td>\n    </tr>\n    <tr>\n      <th>Overall_Uncertainty_Parity_male&amp;race</th>\n      <td>3.0</td>\n      <td>2.0</td>\n      <td>3.0</td>\n      <td>1.0</td>\n    </tr>\n    <tr>\n      <th>Label_Stability_Ratio_male</th>\n      <td>1.0</td>\n      <td>1.0</td>\n      <td>1.0</td>\n      <td>1.0</td>\n    </tr>\n    <tr>\n      <th>Label_Stability_Ratio_race</th>\n      <td>2.0</td>\n      <td>2.0</td>\n      <td>1.0</td>\n      <td>1.0</td>\n    </tr>\n    <tr>\n      <th>Label_Stability_Ratio_male&amp;race</th>\n      <td>3.0</td>\n      <td>2.0</td>\n      <td>1.0</td>\n      <td>1.0</td>\n    </tr>\n    <tr>\n      <th>Std_Parity_male</th>\n      <td>1.0</td>\n      <td>1.0</td>\n      <td>1.0</td>\n      <td>1.0</td>\n    </tr>\n    <tr>\n      <th>Std_Parity_race</th>\n      <td>2.0</td>\n      <td>2.0</td>\n      <td>1.0</td>\n      <td>1.0</td>\n    </tr>\n    <tr>\n      <th>Std_Parity_male&amp;race</th>\n      <td>2.0</td>\n      <td>2.0</td>\n      <td>1.0</td>\n      <td>1.0</td>\n    </tr>\n  </tbody>\n</table>\n</div>"
     },
     "metadata": {},
     "output_type": "display_data"
    }
   ],
   "source": [
    "visualizer.start_web_app()"
   ],
   "metadata": {
    "collapsed": false,
    "is_executing": true,
    "ExecuteTime": {
     "start_time": "2023-12-10T16:04:29.716786Z"
    }
   },
   "id": "678a9dc8d51243f4"
  },
  {
   "cell_type": "code",
   "execution_count": 11,
   "outputs": [
    {
     "name": "stdout",
     "output_type": "stream",
     "text": [
      "Closing server running on port: 7860\n"
     ]
    }
   ],
   "source": [
    "visualizer.stop_web_app()"
   ],
   "metadata": {
    "collapsed": false,
    "ExecuteTime": {
     "end_time": "2023-12-10T14:45:32.225285Z",
     "start_time": "2023-12-10T14:45:32.184623Z"
    }
   },
   "id": "277b6d1de837dab7"
  },
  {
   "cell_type": "code",
   "execution_count": 11,
   "id": "2326c129",
   "metadata": {
    "ExecuteTime": {
     "end_time": "2023-12-10T14:45:32.227687Z",
     "start_time": "2023-12-10T14:45:32.224834Z"
    }
   },
   "outputs": [],
   "source": []
  }
 ],
 "metadata": {
  "kernelspec": {
   "display_name": "Python 3 (ipykernel)",
   "language": "python",
   "name": "python3"
  },
  "language_info": {
   "codemirror_mode": {
    "name": "ipython",
    "version": 3
   },
   "file_extension": ".py",
   "mimetype": "text/x-python",
   "name": "python",
   "nbconvert_exporter": "python",
   "pygments_lexer": "ipython3",
   "version": "3.8.10"
  }
 },
 "nbformat": 4,
 "nbformat_minor": 5
}
