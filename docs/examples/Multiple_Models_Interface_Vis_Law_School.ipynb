{
 "cells": [
  {
   "cell_type": "code",
   "execution_count": 1,
   "id": "248cbed8",
   "metadata": {
    "ExecuteTime": {
     "end_time": "2023-10-04T21:15:46.248933Z",
     "start_time": "2023-10-04T21:15:45.908524Z"
    }
   },
   "outputs": [],
   "source": [
    "%matplotlib inline\n",
    "%load_ext autoreload\n",
    "%autoreload 2"
   ]
  },
  {
   "cell_type": "code",
   "execution_count": 2,
   "id": "7ec6cd08",
   "metadata": {
    "ExecuteTime": {
     "end_time": "2023-10-04T21:15:46.257749Z",
     "start_time": "2023-10-04T21:15:46.249557Z"
    }
   },
   "outputs": [],
   "source": [
    "import os\n",
    "import warnings\n",
    "warnings.filterwarnings('ignore')\n",
    "os.environ[\"PYTHONWARNINGS\"] = \"ignore\""
   ]
  },
  {
   "cell_type": "code",
   "execution_count": 3,
   "id": "b8cb69f2",
   "metadata": {
    "ExecuteTime": {
     "end_time": "2023-10-04T21:15:46.268273Z",
     "start_time": "2023-10-04T21:15:46.257867Z"
    }
   },
   "outputs": [
    {
     "name": "stdout",
     "output_type": "stream",
     "text": [
      "Current location:  /Users/denys_herasymuk/UCU/4course_2term/Bachelor_Thesis/Code/Virny\n"
     ]
    }
   ],
   "source": [
    "cur_folder_name = os.getcwd().split('/')[-1]\n",
    "if cur_folder_name != \"Virny\":\n",
    "    os.chdir(\"../..\")\n",
    "\n",
    "print('Current location: ', os.getcwd())"
   ]
  },
  {
   "cell_type": "markdown",
   "id": "a578f2ab",
   "metadata": {},
   "source": [
    "# Multiple Models Interface Usage"
   ]
  },
  {
   "cell_type": "code",
   "execution_count": 4,
   "id": "7a9241de",
   "metadata": {
    "ExecuteTime": {
     "end_time": "2023-10-04T21:15:47.510506Z",
     "start_time": "2023-10-04T21:15:46.267180Z"
    }
   },
   "outputs": [],
   "source": [
    "import os\n",
    "import pandas as pd\n",
    "\n",
    "from virny.custom_classes.metrics_interactive_visualizer import MetricsInteractiveVisualizer"
   ]
  },
  {
   "cell_type": "code",
   "execution_count": 5,
   "outputs": [],
   "source": [
    "sensitive_attributes_dct = {'male': '0.0', 'race': 'Non-White', 'male&race': None}"
   ],
   "metadata": {
    "collapsed": false,
    "ExecuteTime": {
     "end_time": "2023-10-04T21:15:47.534494Z",
     "start_time": "2023-10-04T21:15:47.511483Z"
    }
   },
   "id": "d3c53c7b72ecbcd0"
  },
  {
   "cell_type": "code",
   "execution_count": 6,
   "outputs": [],
   "source": [
    "ROOT_DIR = os.path.join('docs', 'examples')\n",
    "subgroup_metrics_df = pd.read_csv(os.path.join(ROOT_DIR, 'law_school_subgroup_metrics.csv'), header=0)\n",
    "models_composed_metrics_df = pd.read_csv(os.path.join(ROOT_DIR, 'law_school_group_metrics.csv'), header=0)"
   ],
   "metadata": {
    "collapsed": false,
    "ExecuteTime": {
     "end_time": "2023-10-04T21:15:47.559988Z",
     "start_time": "2023-10-04T21:15:47.534609Z"
    }
   },
   "id": "2aab7c79ecdee914"
  },
  {
   "cell_type": "code",
   "execution_count": 7,
   "outputs": [],
   "source": [
    "subgroup_metrics_df['Model_Name'] = (subgroup_metrics_df['Model_Name'] + '__alpha=' +\n",
    "                                     subgroup_metrics_df['Intervention_Param'].astype(str))\n",
    "models_composed_metrics_df['Model_Name'] = (models_composed_metrics_df['Model_Name'] + '__alpha=' \n",
    "                                            + models_composed_metrics_df['Intervention_Param'].astype(str))"
   ],
   "metadata": {
    "collapsed": false,
    "ExecuteTime": {
     "end_time": "2023-10-04T21:15:47.581842Z",
     "start_time": "2023-10-04T21:15:47.560554Z"
    }
   },
   "id": "2d922003e752a4b4"
  },
  {
   "cell_type": "code",
   "execution_count": 8,
   "outputs": [],
   "source": [
    "models_metrics_dct = dict()\n",
    "for model_name in subgroup_metrics_df['Model_Name'].unique():\n",
    "    models_metrics_dct[model_name] = subgroup_metrics_df[subgroup_metrics_df['Model_Name'] == model_name]"
   ],
   "metadata": {
    "collapsed": false,
    "ExecuteTime": {
     "end_time": "2023-10-04T21:15:47.603973Z",
     "start_time": "2023-10-04T21:15:47.582304Z"
    }
   },
   "id": "833484748ed512e8"
  },
  {
   "cell_type": "code",
   "execution_count": 9,
   "outputs": [
    {
     "data": {
      "text/plain": "dict_keys(['LGBMClassifier__alpha=0.6', 'LGBMClassifier__alpha=0.0', 'LogisticRegression__alpha=0.6', 'LogisticRegression__alpha=0.0', 'MLPClassifier__alpha=0.0', 'MLPClassifier__alpha=0.6', 'RandomForestClassifier__alpha=0.6', 'RandomForestClassifier__alpha=0.0'])"
     },
     "execution_count": 9,
     "metadata": {},
     "output_type": "execute_result"
    }
   ],
   "source": [
    "models_metrics_dct.keys()"
   ],
   "metadata": {
    "collapsed": false,
    "ExecuteTime": {
     "end_time": "2023-10-04T21:15:47.625522Z",
     "start_time": "2023-10-04T21:15:47.604575Z"
    }
   },
   "id": "15ed7d1ba1f22317"
  },
  {
   "cell_type": "markdown",
   "id": "deb45226",
   "metadata": {},
   "source": [
    "## Metrics Visualization and Reporting"
   ]
  },
  {
   "cell_type": "code",
   "execution_count": 10,
   "id": "435b9d98",
   "metadata": {
    "ExecuteTime": {
     "end_time": "2023-10-04T21:15:47.653413Z",
     "start_time": "2023-10-04T21:15:47.624966Z"
    }
   },
   "outputs": [],
   "source": [
    "visualizer = MetricsInteractiveVisualizer(models_metrics_dct, models_composed_metrics_df,\n",
    "                                          sensitive_attributes_dct=sensitive_attributes_dct)"
   ]
  },
  {
   "cell_type": "code",
   "execution_count": 11,
   "outputs": [
    {
     "name": "stdout",
     "output_type": "stream",
     "text": [
      "Running on local URL:  http://127.0.0.1:7860\n",
      "\n",
      "To create a public link, set `share=True` in `launch()`.\n",
      "Keyboard interruption in main thread... closing server.\n"
     ]
    }
   ],
   "source": [
    "visualizer.start_web_app()"
   ],
   "metadata": {
    "collapsed": false,
    "ExecuteTime": {
     "end_time": "2023-10-04T21:17:37.487583Z",
     "start_time": "2023-10-04T21:15:47.653522Z"
    }
   },
   "id": "678a9dc8d51243f4"
  },
  {
   "cell_type": "code",
   "execution_count": 12,
   "outputs": [
    {
     "name": "stdout",
     "output_type": "stream",
     "text": [
      "Closing server running on port: 7860\n"
     ]
    }
   ],
   "source": [
    "visualizer.stop_web_app()"
   ],
   "metadata": {
    "collapsed": false,
    "ExecuteTime": {
     "end_time": "2023-10-04T21:17:37.530553Z",
     "start_time": "2023-10-04T21:17:37.492738Z"
    }
   },
   "id": "277b6d1de837dab7"
  },
  {
   "cell_type": "code",
   "execution_count": 12,
   "id": "2326c129",
   "metadata": {
    "ExecuteTime": {
     "end_time": "2023-10-04T21:17:37.533378Z",
     "start_time": "2023-10-04T21:17:37.530182Z"
    }
   },
   "outputs": [],
   "source": []
  }
 ],
 "metadata": {
  "kernelspec": {
   "display_name": "Python 3 (ipykernel)",
   "language": "python",
   "name": "python3"
  },
  "language_info": {
   "codemirror_mode": {
    "name": "ipython",
    "version": 3
   },
   "file_extension": ".py",
   "mimetype": "text/x-python",
   "name": "python",
   "nbconvert_exporter": "python",
   "pygments_lexer": "ipython3",
   "version": "3.8.10"
  }
 },
 "nbformat": 4,
 "nbformat_minor": 5
}
