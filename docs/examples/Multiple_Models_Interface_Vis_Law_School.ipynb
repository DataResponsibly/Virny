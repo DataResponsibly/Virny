{
 "cells": [
  {
   "cell_type": "code",
   "execution_count": 1,
   "id": "248cbed8",
   "metadata": {
    "ExecuteTime": {
     "end_time": "2023-12-17T21:47:39.813777Z",
     "start_time": "2023-12-17T21:47:39.261544Z"
    }
   },
   "outputs": [],
   "source": [
    "%matplotlib inline\n",
    "%load_ext autoreload\n",
    "%autoreload 2"
   ]
  },
  {
   "cell_type": "code",
   "execution_count": 2,
   "id": "7ec6cd08",
   "metadata": {
    "ExecuteTime": {
     "end_time": "2023-12-17T21:47:39.822610Z",
     "start_time": "2023-12-17T21:47:39.813658Z"
    }
   },
   "outputs": [],
   "source": [
    "import os\n",
    "import warnings\n",
    "warnings.filterwarnings('ignore')\n",
    "os.environ[\"PYTHONWARNINGS\"] = \"ignore\""
   ]
  },
  {
   "cell_type": "code",
   "execution_count": 3,
   "id": "b8cb69f2",
   "metadata": {
    "ExecuteTime": {
     "end_time": "2023-12-17T21:47:39.832179Z",
     "start_time": "2023-12-17T21:47:39.823116Z"
    }
   },
   "outputs": [
    {
     "name": "stdout",
     "output_type": "stream",
     "text": [
      "Current location:  /Users/denys_herasymuk/UCU/4course_2term/Bachelor_Thesis/Code/Virny\n"
     ]
    }
   ],
   "source": [
    "cur_folder_name = os.getcwd().split('/')[-1]\n",
    "if cur_folder_name != \"Virny\":\n",
    "    os.chdir(\"../..\")\n",
    "\n",
    "print('Current location: ', os.getcwd())"
   ]
  },
  {
   "cell_type": "markdown",
   "id": "a578f2ab",
   "metadata": {},
   "source": [
    "# Multiple Models Interface Usage"
   ]
  },
  {
   "cell_type": "code",
   "execution_count": 4,
   "id": "7a9241de",
   "metadata": {
    "ExecuteTime": {
     "end_time": "2023-12-17T21:47:42.380425Z",
     "start_time": "2023-12-17T21:47:39.833097Z"
    }
   },
   "outputs": [],
   "source": [
    "import os\n",
    "import pandas as pd\n",
    "\n",
    "from virny.datasets import LawSchoolDataset\n",
    "from virny.custom_classes.metrics_composer import MetricsComposer\n",
    "from virny.custom_classes.metrics_interactive_visualizer import MetricsInteractiveVisualizer"
   ]
  },
  {
   "cell_type": "code",
   "execution_count": 5,
   "outputs": [],
   "source": [
    "data_loader = LawSchoolDataset()\n",
    "sensitive_attributes_dct = {'male': '0.0', 'race': 'Non-White', 'male&race': None}"
   ],
   "metadata": {
    "collapsed": false,
    "ExecuteTime": {
     "end_time": "2023-12-17T21:47:42.452856Z",
     "start_time": "2023-12-17T21:47:42.383371Z"
    }
   },
   "id": "d3c53c7b72ecbcd0"
  },
  {
   "cell_type": "code",
   "execution_count": 6,
   "outputs": [],
   "source": [
    "ROOT_DIR = os.path.join('docs', 'examples')\n",
    "subgroup_metrics_df = pd.read_csv(os.path.join(ROOT_DIR, 'law_school_subgroup_metrics.csv'), header=0)\n",
    "subgroup_metrics_df['Model_Name'] = (subgroup_metrics_df['Model_Name'] + '__alpha=' +\n",
    "                                     subgroup_metrics_df['Intervention_Param'].astype(str))"
   ],
   "metadata": {
    "collapsed": false,
    "ExecuteTime": {
     "end_time": "2023-12-17T21:47:42.480240Z",
     "start_time": "2023-12-17T21:47:42.453731Z"
    }
   },
   "id": "2aab7c79ecdee914"
  },
  {
   "cell_type": "code",
   "execution_count": 7,
   "outputs": [
    {
     "data": {
      "text/plain": "                         Metric      male      race  male&race  \\\n0               Accuracy_Parity -0.024413 -0.158856  -0.162998   \n1  Aleatoric_Uncertainty_Parity -0.016769  0.317464   0.274695   \n2   Aleatoric_Uncertainty_Ratio  0.951019  2.126816   1.880052   \n3            Equalized_Odds_FNR  0.006853  0.089260   0.092334   \n4            Equalized_Odds_FPR  0.027311 -0.289259  -0.156572   \n\n                  Model_Name  \n0  LGBMClassifier__alpha=0.6  \n1  LGBMClassifier__alpha=0.6  \n2  LGBMClassifier__alpha=0.6  \n3  LGBMClassifier__alpha=0.6  \n4  LGBMClassifier__alpha=0.6  ",
      "text/html": "<div>\n<style scoped>\n    .dataframe tbody tr th:only-of-type {\n        vertical-align: middle;\n    }\n\n    .dataframe tbody tr th {\n        vertical-align: top;\n    }\n\n    .dataframe thead th {\n        text-align: right;\n    }\n</style>\n<table border=\"1\" class=\"dataframe\">\n  <thead>\n    <tr style=\"text-align: right;\">\n      <th></th>\n      <th>Metric</th>\n      <th>male</th>\n      <th>race</th>\n      <th>male&amp;race</th>\n      <th>Model_Name</th>\n    </tr>\n  </thead>\n  <tbody>\n    <tr>\n      <th>0</th>\n      <td>Accuracy_Parity</td>\n      <td>-0.024413</td>\n      <td>-0.158856</td>\n      <td>-0.162998</td>\n      <td>LGBMClassifier__alpha=0.6</td>\n    </tr>\n    <tr>\n      <th>1</th>\n      <td>Aleatoric_Uncertainty_Parity</td>\n      <td>-0.016769</td>\n      <td>0.317464</td>\n      <td>0.274695</td>\n      <td>LGBMClassifier__alpha=0.6</td>\n    </tr>\n    <tr>\n      <th>2</th>\n      <td>Aleatoric_Uncertainty_Ratio</td>\n      <td>0.951019</td>\n      <td>2.126816</td>\n      <td>1.880052</td>\n      <td>LGBMClassifier__alpha=0.6</td>\n    </tr>\n    <tr>\n      <th>3</th>\n      <td>Equalized_Odds_FNR</td>\n      <td>0.006853</td>\n      <td>0.089260</td>\n      <td>0.092334</td>\n      <td>LGBMClassifier__alpha=0.6</td>\n    </tr>\n    <tr>\n      <th>4</th>\n      <td>Equalized_Odds_FPR</td>\n      <td>0.027311</td>\n      <td>-0.289259</td>\n      <td>-0.156572</td>\n      <td>LGBMClassifier__alpha=0.6</td>\n    </tr>\n  </tbody>\n</table>\n</div>"
     },
     "execution_count": 7,
     "metadata": {},
     "output_type": "execute_result"
    }
   ],
   "source": [
    "model_names = subgroup_metrics_df['Model_Name'].unique()\n",
    "models_metrics_dct = dict()\n",
    "for model_name in model_names:\n",
    "    models_metrics_dct[model_name] = subgroup_metrics_df[subgroup_metrics_df['Model_Name'] == model_name]\n",
    "\n",
    "metrics_composer = MetricsComposer(models_metrics_dct, sensitive_attributes_dct)\n",
    "models_composed_metrics_df = metrics_composer.compose_metrics()\n",
    "models_composed_metrics_df.head()"
   ],
   "metadata": {
    "collapsed": false,
    "ExecuteTime": {
     "end_time": "2023-12-17T21:47:42.525340Z",
     "start_time": "2023-12-17T21:47:42.478528Z"
    }
   },
   "id": "833484748ed512e8"
  },
  {
   "cell_type": "code",
   "execution_count": 8,
   "outputs": [
    {
     "data": {
      "text/plain": "dict_keys(['LGBMClassifier__alpha=0.6', 'LGBMClassifier__alpha=0.0', 'LogisticRegression__alpha=0.6', 'LogisticRegression__alpha=0.0', 'MLPClassifier__alpha=0.0', 'MLPClassifier__alpha=0.6', 'RandomForestClassifier__alpha=0.6', 'RandomForestClassifier__alpha=0.0'])"
     },
     "execution_count": 8,
     "metadata": {},
     "output_type": "execute_result"
    }
   ],
   "source": [
    "models_metrics_dct.keys()"
   ],
   "metadata": {
    "collapsed": false,
    "ExecuteTime": {
     "end_time": "2023-12-17T21:47:42.548956Z",
     "start_time": "2023-12-17T21:47:42.525477Z"
    }
   },
   "id": "15ed7d1ba1f22317"
  },
  {
   "cell_type": "markdown",
   "id": "deb45226",
   "metadata": {},
   "source": [
    "## Metrics Visualization and Reporting"
   ]
  },
  {
   "cell_type": "code",
   "execution_count": 18,
   "id": "435b9d98",
   "metadata": {
    "ExecuteTime": {
     "end_time": "2023-12-17T23:34:25.339529Z",
     "start_time": "2023-12-17T23:34:25.210287Z"
    }
   },
   "outputs": [],
   "source": [
    "visualizer = MetricsInteractiveVisualizer(data_loader.X_data, data_loader.y_data,\n",
    "                                          models_metrics_dct, models_composed_metrics_df,\n",
    "                                          sensitive_attributes_dct=sensitive_attributes_dct)"
   ]
  },
  {
   "cell_type": "code",
   "execution_count": null,
   "outputs": [
    {
     "name": "stdout",
     "output_type": "stream",
     "text": [
      "Running on local URL:  http://127.0.0.1:7860\n",
      "\n",
      "To create a public link, set `share=True` in `launch()`.\n"
     ]
    },
    {
     "name": "stderr",
     "output_type": "stream",
     "text": [
      "Traceback (most recent call last):\n",
      "  File \"/Users/denys_herasymuk/UCU/4course_2term/Bachelor_Thesis/Code/Virny/virny/custom_classes/metrics_interactive_visualizer.py\", line 489, in _create_dataset_proportions_bar_chart\n",
      "    converted_grp_dis_val = eval(grp_dis_val)\n",
      "  File \"<string>\", line 1, in <module>\n",
      "NameError: name 'Non' is not defined\n",
      "\n",
      "During handling of the above exception, another exception occurred:\n",
      "\n",
      "Traceback (most recent call last):\n",
      "  File \"/Users/denys_herasymuk/UCU/4course_2term/Bachelor_Thesis/Code/Virny/virny_env/lib/python3.9/site-packages/gradio/routes.py\", line 538, in predict\n",
      "    output = await route_utils.call_process_api(\n",
      "  File \"/Users/denys_herasymuk/UCU/4course_2term/Bachelor_Thesis/Code/Virny/virny_env/lib/python3.9/site-packages/gradio/route_utils.py\", line 217, in call_process_api\n",
      "    output = await app.get_blocks().process_api(\n",
      "  File \"/Users/denys_herasymuk/UCU/4course_2term/Bachelor_Thesis/Code/Virny/virny_env/lib/python3.9/site-packages/gradio/blocks.py\", line 1553, in process_api\n",
      "    result = await self.call_function(\n",
      "  File \"/Users/denys_herasymuk/UCU/4course_2term/Bachelor_Thesis/Code/Virny/virny_env/lib/python3.9/site-packages/gradio/blocks.py\", line 1191, in call_function\n",
      "    prediction = await anyio.to_thread.run_sync(\n",
      "  File \"/Users/denys_herasymuk/UCU/4course_2term/Bachelor_Thesis/Code/Virny/virny_env/lib/python3.9/site-packages/anyio/to_thread.py\", line 33, in run_sync\n",
      "    return await get_asynclib().run_sync_in_worker_thread(\n",
      "  File \"/Users/denys_herasymuk/UCU/4course_2term/Bachelor_Thesis/Code/Virny/virny_env/lib/python3.9/site-packages/anyio/_backends/_asyncio.py\", line 877, in run_sync_in_worker_thread\n",
      "    return await future\n",
      "  File \"/Users/denys_herasymuk/UCU/4course_2term/Bachelor_Thesis/Code/Virny/virny_env/lib/python3.9/site-packages/anyio/_backends/_asyncio.py\", line 807, in run\n",
      "    result = context.run(func, *args)\n",
      "  File \"/Users/denys_herasymuk/UCU/4course_2term/Bachelor_Thesis/Code/Virny/virny_env/lib/python3.9/site-packages/gradio/utils.py\", line 659, in wrapper\n",
      "    response = f(*args, **kwargs)\n",
      "  File \"/Users/denys_herasymuk/UCU/4course_2term/Bachelor_Thesis/Code/Virny/virny/custom_classes/metrics_interactive_visualizer.py\", line 492, in _create_dataset_proportions_bar_chart\n",
      "    raise ValueError(f\"Type casting error with the {grp_dis_val} value. Use quotes for string disavantaged values.\")\n",
      "ValueError: Type casting error with the Non-White value. Use quotes for string disavantaged values.\n",
      "Traceback (most recent call last):\n",
      "  File \"/Users/denys_herasymuk/UCU/4course_2term/Bachelor_Thesis/Code/Virny/virny/custom_classes/metrics_interactive_visualizer.py\", line 489, in _create_dataset_proportions_bar_chart\n",
      "    converted_grp_dis_val = eval(grp_dis_val)\n",
      "  File \"<string>\", line 1\n",
      "    'Non-White\"\n",
      "              ^\n",
      "SyntaxError: EOL while scanning string literal\n",
      "\n",
      "During handling of the above exception, another exception occurred:\n",
      "\n",
      "Traceback (most recent call last):\n",
      "  File \"/Users/denys_herasymuk/UCU/4course_2term/Bachelor_Thesis/Code/Virny/virny_env/lib/python3.9/site-packages/gradio/routes.py\", line 538, in predict\n",
      "    output = await route_utils.call_process_api(\n",
      "  File \"/Users/denys_herasymuk/UCU/4course_2term/Bachelor_Thesis/Code/Virny/virny_env/lib/python3.9/site-packages/gradio/route_utils.py\", line 217, in call_process_api\n",
      "    output = await app.get_blocks().process_api(\n",
      "  File \"/Users/denys_herasymuk/UCU/4course_2term/Bachelor_Thesis/Code/Virny/virny_env/lib/python3.9/site-packages/gradio/blocks.py\", line 1553, in process_api\n",
      "    result = await self.call_function(\n",
      "  File \"/Users/denys_herasymuk/UCU/4course_2term/Bachelor_Thesis/Code/Virny/virny_env/lib/python3.9/site-packages/gradio/blocks.py\", line 1191, in call_function\n",
      "    prediction = await anyio.to_thread.run_sync(\n",
      "  File \"/Users/denys_herasymuk/UCU/4course_2term/Bachelor_Thesis/Code/Virny/virny_env/lib/python3.9/site-packages/anyio/to_thread.py\", line 33, in run_sync\n",
      "    return await get_asynclib().run_sync_in_worker_thread(\n",
      "  File \"/Users/denys_herasymuk/UCU/4course_2term/Bachelor_Thesis/Code/Virny/virny_env/lib/python3.9/site-packages/anyio/_backends/_asyncio.py\", line 877, in run_sync_in_worker_thread\n",
      "    return await future\n",
      "  File \"/Users/denys_herasymuk/UCU/4course_2term/Bachelor_Thesis/Code/Virny/virny_env/lib/python3.9/site-packages/anyio/_backends/_asyncio.py\", line 807, in run\n",
      "    result = context.run(func, *args)\n",
      "  File \"/Users/denys_herasymuk/UCU/4course_2term/Bachelor_Thesis/Code/Virny/virny_env/lib/python3.9/site-packages/gradio/utils.py\", line 659, in wrapper\n",
      "    response = f(*args, **kwargs)\n",
      "  File \"/Users/denys_herasymuk/UCU/4course_2term/Bachelor_Thesis/Code/Virny/virny/custom_classes/metrics_interactive_visualizer.py\", line 492, in _create_dataset_proportions_bar_chart\n",
      "    raise ValueError(f\"Type casting error with the {grp_dis_val} value. Use quotes for string disavantaged values.\")\n",
      "ValueError: Type casting error with the 'Non-White\" value. Use quotes for string disavantaged values.\n",
      "Traceback (most recent call last):\n",
      "  File \"/Users/denys_herasymuk/UCU/4course_2term/Bachelor_Thesis/Code/Virny/virny_env/lib/python3.9/site-packages/gradio/routes.py\", line 538, in predict\n",
      "    output = await route_utils.call_process_api(\n",
      "  File \"/Users/denys_herasymuk/UCU/4course_2term/Bachelor_Thesis/Code/Virny/virny_env/lib/python3.9/site-packages/gradio/route_utils.py\", line 217, in call_process_api\n",
      "    output = await app.get_blocks().process_api(\n",
      "  File \"/Users/denys_herasymuk/UCU/4course_2term/Bachelor_Thesis/Code/Virny/virny_env/lib/python3.9/site-packages/gradio/blocks.py\", line 1553, in process_api\n",
      "    result = await self.call_function(\n",
      "  File \"/Users/denys_herasymuk/UCU/4course_2term/Bachelor_Thesis/Code/Virny/virny_env/lib/python3.9/site-packages/gradio/blocks.py\", line 1191, in call_function\n",
      "    prediction = await anyio.to_thread.run_sync(\n",
      "  File \"/Users/denys_herasymuk/UCU/4course_2term/Bachelor_Thesis/Code/Virny/virny_env/lib/python3.9/site-packages/anyio/to_thread.py\", line 33, in run_sync\n",
      "    return await get_asynclib().run_sync_in_worker_thread(\n",
      "  File \"/Users/denys_herasymuk/UCU/4course_2term/Bachelor_Thesis/Code/Virny/virny_env/lib/python3.9/site-packages/anyio/_backends/_asyncio.py\", line 877, in run_sync_in_worker_thread\n",
      "    return await future\n",
      "  File \"/Users/denys_herasymuk/UCU/4course_2term/Bachelor_Thesis/Code/Virny/virny_env/lib/python3.9/site-packages/anyio/_backends/_asyncio.py\", line 807, in run\n",
      "    result = context.run(func, *args)\n",
      "  File \"/Users/denys_herasymuk/UCU/4course_2term/Bachelor_Thesis/Code/Virny/virny_env/lib/python3.9/site-packages/gradio/utils.py\", line 659, in wrapper\n",
      "    response = f(*args, **kwargs)\n",
      "  File \"/Users/denys_herasymuk/UCU/4course_2term/Bachelor_Thesis/Code/Virny/virny/custom_classes/metrics_interactive_visualizer.py\", line 495, in _create_dataset_proportions_bar_chart\n",
      "    protected_groups = create_test_protected_groups(self.X_data, self.X_data, input_sensitive_attrs_dct)\n",
      "  File \"/Users/denys_herasymuk/UCU/4course_2term/Bachelor_Thesis/Code/Virny/virny/utils/protected_groups_partitioning.py\", line 104, in create_test_protected_groups\n",
      "    raise ValueError(f\"Protected group ({dis_grp_name}) from X_test is empty. \"\n",
      "ValueError: Protected group (race_dis) from X_test is empty. Please check types of sensitive attributes in config or replace the sensitive attribute\n"
     ]
    }
   ],
   "source": [
    "visualizer.start_web_app()"
   ],
   "metadata": {
    "collapsed": false,
    "is_executing": true,
    "ExecuteTime": {
     "start_time": "2023-12-17T23:34:25.340065Z"
    }
   },
   "id": "678a9dc8d51243f4"
  },
  {
   "cell_type": "code",
   "execution_count": 11,
   "outputs": [
    {
     "name": "stdout",
     "output_type": "stream",
     "text": [
      "Closing server running on port: 7860\n"
     ]
    }
   ],
   "source": [
    "visualizer.stop_web_app()"
   ],
   "metadata": {
    "collapsed": false,
    "ExecuteTime": {
     "end_time": "2023-12-17T23:11:31.184662Z",
     "start_time": "2023-12-17T23:11:31.135723Z"
    }
   },
   "id": "277b6d1de837dab7"
  },
  {
   "cell_type": "code",
   "execution_count": 11,
   "id": "2326c129",
   "metadata": {
    "ExecuteTime": {
     "end_time": "2023-12-17T23:11:31.184935Z",
     "start_time": "2023-12-17T23:11:31.183840Z"
    }
   },
   "outputs": [],
   "source": []
  }
 ],
 "metadata": {
  "kernelspec": {
   "display_name": "Python 3 (ipykernel)",
   "language": "python",
   "name": "python3"
  },
  "language_info": {
   "codemirror_mode": {
    "name": "ipython",
    "version": 3
   },
   "file_extension": ".py",
   "mimetype": "text/x-python",
   "name": "python",
   "nbconvert_exporter": "python",
   "pygments_lexer": "ipython3",
   "version": "3.8.10"
  }
 },
 "nbformat": 4,
 "nbformat_minor": 5
}
