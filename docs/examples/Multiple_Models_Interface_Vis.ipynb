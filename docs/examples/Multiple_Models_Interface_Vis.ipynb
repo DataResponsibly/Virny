{
 "cells": [
  {
   "cell_type": "code",
   "execution_count": 1,
   "id": "248cbed8",
   "metadata": {
    "ExecuteTime": {
     "end_time": "2023-09-29T20:56:16.932083Z",
     "start_time": "2023-09-29T20:56:16.278169Z"
    }
   },
   "outputs": [],
   "source": [
    "%matplotlib inline\n",
    "%load_ext autoreload\n",
    "%autoreload 2"
   ]
  },
  {
   "cell_type": "code",
   "execution_count": 2,
   "id": "7ec6cd08",
   "metadata": {
    "ExecuteTime": {
     "end_time": "2023-09-29T20:56:16.940086Z",
     "start_time": "2023-09-29T20:56:16.931485Z"
    }
   },
   "outputs": [],
   "source": [
    "import os\n",
    "import warnings\n",
    "warnings.filterwarnings('ignore')\n",
    "os.environ[\"PYTHONWARNINGS\"] = \"ignore\""
   ]
  },
  {
   "cell_type": "code",
   "execution_count": 3,
   "id": "b8cb69f2",
   "metadata": {
    "ExecuteTime": {
     "end_time": "2023-09-29T20:56:16.951831Z",
     "start_time": "2023-09-29T20:56:16.940588Z"
    }
   },
   "outputs": [
    {
     "name": "stdout",
     "output_type": "stream",
     "text": [
      "Current location:  /Users/denys_herasymuk/UCU/4course_2term/Bachelor_Thesis/Code/Virny\n"
     ]
    }
   ],
   "source": [
    "cur_folder_name = os.getcwd().split('/')[-1]\n",
    "if cur_folder_name != \"Virny\":\n",
    "    os.chdir(\"../..\")\n",
    "\n",
    "print('Current location: ', os.getcwd())"
   ]
  },
  {
   "cell_type": "markdown",
   "id": "a578f2ab",
   "metadata": {},
   "source": [
    "# Multiple Models Interface Usage"
   ]
  },
  {
   "cell_type": "code",
   "execution_count": 4,
   "id": "7a9241de",
   "metadata": {
    "ExecuteTime": {
     "end_time": "2023-09-29T20:56:30.072450Z",
     "start_time": "2023-09-29T20:56:22.772584Z"
    }
   },
   "outputs": [],
   "source": [
    "import os\n",
    "\n",
    "from virny.utils.custom_initializers import read_model_metric_dfs, create_config_obj\n",
    "from virny.custom_classes.metrics_interactive_visualizer import MetricsInteractiveVisualizer\n",
    "from virny.custom_classes.metrics_composer import MetricsComposer"
   ]
  },
  {
   "cell_type": "code",
   "execution_count": 5,
   "outputs": [],
   "source": [
    "ROOT_DIR = os.path.join('docs', 'examples')\n",
    "config_yaml_path = os.path.join(ROOT_DIR, 'experiment_config.yaml')\n",
    "config_yaml_content = \"\"\"\n",
    "dataset_name: COMPAS_Without_Sensitive_Attributes\n",
    "bootstrap_fraction: 0.8\n",
    "n_estimators: 50  # Better to input the higher number of estimators than 100; this is only for this use case example\n",
    "sensitive_attributes_dct: {'sex': 1, 'race': 'African-American', 'sex&race': None}\n",
    "\"\"\"\n",
    "with open(config_yaml_path, 'w', encoding='utf-8') as f:\n",
    "    f.write(config_yaml_content)\n",
    "\n",
    "config = create_config_obj(config_yaml_path=config_yaml_path)\n",
    "model_names = ['DecisionTreeClassifier', 'LogisticRegression', 'RandomForestClassifier', 'XGBClassifier']\n",
    "SAVE_RESULTS_DIR_PATH = os.path.join(ROOT_DIR, 'results', 'COMPAS_Without_Sensitive_Attributes_Metrics_20230812__224136')"
   ],
   "metadata": {
    "collapsed": false,
    "ExecuteTime": {
     "end_time": "2023-09-29T20:56:30.095448Z",
     "start_time": "2023-09-29T20:56:30.073873Z"
    }
   },
   "id": "d777610462304f63"
  },
  {
   "cell_type": "code",
   "execution_count": 6,
   "id": "f94a20dc",
   "metadata": {
    "ExecuteTime": {
     "end_time": "2023-09-29T20:56:30.121865Z",
     "start_time": "2023-09-29T20:56:30.094816Z"
    }
   },
   "outputs": [],
   "source": [
    "models_metrics_dct = read_model_metric_dfs(SAVE_RESULTS_DIR_PATH, model_names=model_names)"
   ]
  },
  {
   "cell_type": "code",
   "execution_count": 7,
   "id": "b04d06cf",
   "metadata": {
    "ExecuteTime": {
     "end_time": "2023-09-29T20:56:30.139696Z",
     "start_time": "2023-09-29T20:56:30.121071Z"
    }
   },
   "outputs": [],
   "source": [
    "metrics_composer = MetricsComposer(models_metrics_dct, config.sensitive_attributes_dct)"
   ]
  },
  {
   "cell_type": "code",
   "execution_count": 8,
   "id": "be6ace22",
   "metadata": {
    "ExecuteTime": {
     "end_time": "2023-09-29T20:56:30.169575Z",
     "start_time": "2023-09-29T20:56:30.138633Z"
    }
   },
   "outputs": [],
   "source": [
    "# Compute composed metrics\n",
    "models_composed_metrics_df = metrics_composer.compose_metrics()"
   ]
  },
  {
   "cell_type": "code",
   "execution_count": 185,
   "outputs": [
    {
     "data": {
      "text/plain": "                   Metric      overall    sex_priv  sex_priv_correct  \\\n0                    Mean     0.524270    0.578645          0.600790   \n1                     Std     0.067963    0.073618          0.072201   \n2                     IQR     0.090596    0.099782          0.098402   \n3   Aleatoric_Uncertainty     0.834874    0.846689          0.826891   \n4     Overall_Uncertainty     0.859083    0.876581          0.856843   \n5        Statistical_Bias     0.405041    0.395811          0.314809   \n6                  Jitter     0.106917    0.132090          0.112864   \n7     Per_Sample_Accuracy     0.691061    0.711090          0.918452   \n8         Label_Stability     0.851667    0.807393          0.836903   \n9                     TPR     0.679406    0.613333          1.000000   \n10                    TNR     0.738462    0.801471          1.000000   \n11                    PPV     0.676533    0.630137          1.000000   \n12                    FNR     0.320594    0.386667          0.000000   \n13                    FPR     0.261538    0.198529          0.000000   \n14               Accuracy     0.712121    0.734597          1.000000   \n15                     F1     0.677966    0.621622          1.000000   \n16         Selection-Rate     0.447917    0.345972          0.296774   \n17          Positive-Rate     1.004246    0.973333          1.000000   \n18            Sample_Size  1056.000000  211.000000        155.000000   \n\n    sex_priv_incorrect     sex_dis  sex_dis_correct  sex_dis_incorrect  \\\n0             0.517352    0.510692         0.514399           0.501767   \n1             0.077539    0.066551         0.064791           0.070788   \n2             0.103600    0.088303         0.085977           0.093900   \n3             0.901488    0.831924         0.817170           0.867440   \n4             0.931213    0.854713         0.839203           0.892051   \n5             0.620012    0.407346         0.301656           0.661771   \n6             0.185306    0.100631         0.091351           0.122972   \n7             0.137143    0.686059         0.936918           0.082177   \n8             0.725714    0.862722         0.873970           0.835645   \n9             0.000000    0.691919         1.000000           0.000000   \n10            0.000000    0.719376         1.000000           0.000000   \n11            0.000000    0.685000         1.000000           0.000000   \n12            1.000000    0.308081         0.000000           1.000000   \n13            1.000000    0.280624         0.000000           1.000000   \n14            0.000000    0.706509         1.000000           0.000000   \n15            0.000000    0.688442         1.000000           0.000000   \n16            0.482143    0.473373         0.458961           0.508065   \n17            0.931034    1.010101         1.000000           1.032787   \n18           56.000000  845.000000       597.000000         248.000000   \n\n     race_priv  race_priv_correct  ...  race_dis_correct  race_dis_incorrect  \\\n0     0.597526           0.618185  ...          0.473863            0.484344   \n1     0.069162           0.066865  ...          0.065947            0.070060   \n2     0.093184           0.089451  ...          0.087919            0.091258   \n3     0.821672           0.807043  ...          0.827404            0.880296   \n4     0.847778           0.832001  ...          0.850193            0.903737   \n5     0.393484           0.296788  ...          0.309510            0.650314   \n6     0.107225           0.097218  ...          0.094812            0.134214   \n7     0.708261           0.930526  ...          0.934866            0.091340   \n8     0.848213           0.861316  ...          0.869732            0.817320   \n9     0.585034           1.000000  ...          1.000000            0.000000   \n10    0.816479           1.000000  ...          1.000000            0.000000   \n11    0.637037           1.000000  ...          1.000000            0.000000   \n12    0.414966           0.000000  ...          0.000000            1.000000   \n13    0.183521           0.000000  ...          0.000000            1.000000   \n14    0.734300           1.000000  ...          1.000000            0.000000   \n15    0.609929           1.000000  ...          1.000000            0.000000   \n16    0.326087           0.282895  ...          0.522321            0.536082   \n17    0.918367           1.000000  ...          1.000000            1.155556   \n18  414.000000         304.000000  ...        448.000000          194.000000   \n\n    sex&race_priv  sex&race_priv_correct  sex&race_priv_incorrect  \\\n0        0.586391               0.607290                 0.529874   \n1        0.068718               0.066018                 0.076019   \n2        0.092020               0.088338                 0.101975   \n3        0.832383               0.817398                 0.872906   \n4        0.857995               0.841790                 0.901818   \n5        0.396398               0.302520                 0.650263   \n6        0.108871               0.095304                 0.145559   \n7        0.708783               0.933073                 0.102254   \n8        0.847224               0.866354                 0.795493   \n9        0.595745               1.000000                 0.000000   \n10       0.804734               1.000000                 0.000000   \n11       0.629213               1.000000                 0.000000   \n12       0.404255               0.000000                 1.000000   \n13       0.195266               0.000000                 1.000000   \n14       0.730038               1.000000                 0.000000   \n15       0.612022               1.000000                 0.000000   \n16       0.338403               0.291667                 0.464789   \n17       0.946809               1.000000                 0.868421   \n18     526.000000             384.000000               142.000000   \n\n    sex&race_dis  sex&race_dis_correct  sex&race_dis_incorrect  \\\n0       0.462617              0.453857                0.482517   \n1       0.067213              0.066631                0.068536   \n2       0.089184              0.088747                0.090175   \n3       0.837346              0.821026                0.874418   \n4       0.860162              0.843933                0.897027   \n5       0.413620              0.306294                0.657422   \n6       0.104978              0.096287                0.124722   \n7       0.673472              0.933152                0.083580   \n8       0.856075              0.866304                0.832840   \n9       0.734982              1.000000                0.000000   \n10      0.647773              1.000000                0.000000   \n11      0.705085              1.000000                0.000000   \n12      0.265018              0.000000                1.000000   \n13      0.352227              0.000000                1.000000   \n14      0.694340              1.000000                0.000000   \n15      0.719723              1.000000                0.000000   \n16      0.556604              0.565217                0.537037   \n17      1.042403              1.000000                1.160000   \n18    530.000000            368.000000              162.000000   \n\n                Model_Name                                       Model_Params  \n0   RandomForestClassifier  {'bootstrap': True, 'ccp_alpha': 0.0, 'class_w...  \n1   RandomForestClassifier  {'bootstrap': True, 'ccp_alpha': 0.0, 'class_w...  \n2   RandomForestClassifier  {'bootstrap': True, 'ccp_alpha': 0.0, 'class_w...  \n3   RandomForestClassifier  {'bootstrap': True, 'ccp_alpha': 0.0, 'class_w...  \n4   RandomForestClassifier  {'bootstrap': True, 'ccp_alpha': 0.0, 'class_w...  \n5   RandomForestClassifier  {'bootstrap': True, 'ccp_alpha': 0.0, 'class_w...  \n6   RandomForestClassifier  {'bootstrap': True, 'ccp_alpha': 0.0, 'class_w...  \n7   RandomForestClassifier  {'bootstrap': True, 'ccp_alpha': 0.0, 'class_w...  \n8   RandomForestClassifier  {'bootstrap': True, 'ccp_alpha': 0.0, 'class_w...  \n9   RandomForestClassifier  {'bootstrap': True, 'ccp_alpha': 0.0, 'class_w...  \n10  RandomForestClassifier  {'bootstrap': True, 'ccp_alpha': 0.0, 'class_w...  \n11  RandomForestClassifier  {'bootstrap': True, 'ccp_alpha': 0.0, 'class_w...  \n12  RandomForestClassifier  {'bootstrap': True, 'ccp_alpha': 0.0, 'class_w...  \n13  RandomForestClassifier  {'bootstrap': True, 'ccp_alpha': 0.0, 'class_w...  \n14  RandomForestClassifier  {'bootstrap': True, 'ccp_alpha': 0.0, 'class_w...  \n15  RandomForestClassifier  {'bootstrap': True, 'ccp_alpha': 0.0, 'class_w...  \n16  RandomForestClassifier  {'bootstrap': True, 'ccp_alpha': 0.0, 'class_w...  \n17  RandomForestClassifier  {'bootstrap': True, 'ccp_alpha': 0.0, 'class_w...  \n18  RandomForestClassifier  {'bootstrap': True, 'ccp_alpha': 0.0, 'class_w...  \n\n[19 rows x 22 columns]",
      "text/html": "<div>\n<style scoped>\n    .dataframe tbody tr th:only-of-type {\n        vertical-align: middle;\n    }\n\n    .dataframe tbody tr th {\n        vertical-align: top;\n    }\n\n    .dataframe thead th {\n        text-align: right;\n    }\n</style>\n<table border=\"1\" class=\"dataframe\">\n  <thead>\n    <tr style=\"text-align: right;\">\n      <th></th>\n      <th>Metric</th>\n      <th>overall</th>\n      <th>sex_priv</th>\n      <th>sex_priv_correct</th>\n      <th>sex_priv_incorrect</th>\n      <th>sex_dis</th>\n      <th>sex_dis_correct</th>\n      <th>sex_dis_incorrect</th>\n      <th>race_priv</th>\n      <th>race_priv_correct</th>\n      <th>...</th>\n      <th>race_dis_correct</th>\n      <th>race_dis_incorrect</th>\n      <th>sex&amp;race_priv</th>\n      <th>sex&amp;race_priv_correct</th>\n      <th>sex&amp;race_priv_incorrect</th>\n      <th>sex&amp;race_dis</th>\n      <th>sex&amp;race_dis_correct</th>\n      <th>sex&amp;race_dis_incorrect</th>\n      <th>Model_Name</th>\n      <th>Model_Params</th>\n    </tr>\n  </thead>\n  <tbody>\n    <tr>\n      <th>0</th>\n      <td>Mean</td>\n      <td>0.524270</td>\n      <td>0.578645</td>\n      <td>0.600790</td>\n      <td>0.517352</td>\n      <td>0.510692</td>\n      <td>0.514399</td>\n      <td>0.501767</td>\n      <td>0.597526</td>\n      <td>0.618185</td>\n      <td>...</td>\n      <td>0.473863</td>\n      <td>0.484344</td>\n      <td>0.586391</td>\n      <td>0.607290</td>\n      <td>0.529874</td>\n      <td>0.462617</td>\n      <td>0.453857</td>\n      <td>0.482517</td>\n      <td>RandomForestClassifier</td>\n      <td>{'bootstrap': True, 'ccp_alpha': 0.0, 'class_w...</td>\n    </tr>\n    <tr>\n      <th>1</th>\n      <td>Std</td>\n      <td>0.067963</td>\n      <td>0.073618</td>\n      <td>0.072201</td>\n      <td>0.077539</td>\n      <td>0.066551</td>\n      <td>0.064791</td>\n      <td>0.070788</td>\n      <td>0.069162</td>\n      <td>0.066865</td>\n      <td>...</td>\n      <td>0.065947</td>\n      <td>0.070060</td>\n      <td>0.068718</td>\n      <td>0.066018</td>\n      <td>0.076019</td>\n      <td>0.067213</td>\n      <td>0.066631</td>\n      <td>0.068536</td>\n      <td>RandomForestClassifier</td>\n      <td>{'bootstrap': True, 'ccp_alpha': 0.0, 'class_w...</td>\n    </tr>\n    <tr>\n      <th>2</th>\n      <td>IQR</td>\n      <td>0.090596</td>\n      <td>0.099782</td>\n      <td>0.098402</td>\n      <td>0.103600</td>\n      <td>0.088303</td>\n      <td>0.085977</td>\n      <td>0.093900</td>\n      <td>0.093184</td>\n      <td>0.089451</td>\n      <td>...</td>\n      <td>0.087919</td>\n      <td>0.091258</td>\n      <td>0.092020</td>\n      <td>0.088338</td>\n      <td>0.101975</td>\n      <td>0.089184</td>\n      <td>0.088747</td>\n      <td>0.090175</td>\n      <td>RandomForestClassifier</td>\n      <td>{'bootstrap': True, 'ccp_alpha': 0.0, 'class_w...</td>\n    </tr>\n    <tr>\n      <th>3</th>\n      <td>Aleatoric_Uncertainty</td>\n      <td>0.834874</td>\n      <td>0.846689</td>\n      <td>0.826891</td>\n      <td>0.901488</td>\n      <td>0.831924</td>\n      <td>0.817170</td>\n      <td>0.867440</td>\n      <td>0.821672</td>\n      <td>0.807043</td>\n      <td>...</td>\n      <td>0.827404</td>\n      <td>0.880296</td>\n      <td>0.832383</td>\n      <td>0.817398</td>\n      <td>0.872906</td>\n      <td>0.837346</td>\n      <td>0.821026</td>\n      <td>0.874418</td>\n      <td>RandomForestClassifier</td>\n      <td>{'bootstrap': True, 'ccp_alpha': 0.0, 'class_w...</td>\n    </tr>\n    <tr>\n      <th>4</th>\n      <td>Overall_Uncertainty</td>\n      <td>0.859083</td>\n      <td>0.876581</td>\n      <td>0.856843</td>\n      <td>0.931213</td>\n      <td>0.854713</td>\n      <td>0.839203</td>\n      <td>0.892051</td>\n      <td>0.847778</td>\n      <td>0.832001</td>\n      <td>...</td>\n      <td>0.850193</td>\n      <td>0.903737</td>\n      <td>0.857995</td>\n      <td>0.841790</td>\n      <td>0.901818</td>\n      <td>0.860162</td>\n      <td>0.843933</td>\n      <td>0.897027</td>\n      <td>RandomForestClassifier</td>\n      <td>{'bootstrap': True, 'ccp_alpha': 0.0, 'class_w...</td>\n    </tr>\n    <tr>\n      <th>5</th>\n      <td>Statistical_Bias</td>\n      <td>0.405041</td>\n      <td>0.395811</td>\n      <td>0.314809</td>\n      <td>0.620012</td>\n      <td>0.407346</td>\n      <td>0.301656</td>\n      <td>0.661771</td>\n      <td>0.393484</td>\n      <td>0.296788</td>\n      <td>...</td>\n      <td>0.309510</td>\n      <td>0.650314</td>\n      <td>0.396398</td>\n      <td>0.302520</td>\n      <td>0.650263</td>\n      <td>0.413620</td>\n      <td>0.306294</td>\n      <td>0.657422</td>\n      <td>RandomForestClassifier</td>\n      <td>{'bootstrap': True, 'ccp_alpha': 0.0, 'class_w...</td>\n    </tr>\n    <tr>\n      <th>6</th>\n      <td>Jitter</td>\n      <td>0.106917</td>\n      <td>0.132090</td>\n      <td>0.112864</td>\n      <td>0.185306</td>\n      <td>0.100631</td>\n      <td>0.091351</td>\n      <td>0.122972</td>\n      <td>0.107225</td>\n      <td>0.097218</td>\n      <td>...</td>\n      <td>0.094812</td>\n      <td>0.134214</td>\n      <td>0.108871</td>\n      <td>0.095304</td>\n      <td>0.145559</td>\n      <td>0.104978</td>\n      <td>0.096287</td>\n      <td>0.124722</td>\n      <td>RandomForestClassifier</td>\n      <td>{'bootstrap': True, 'ccp_alpha': 0.0, 'class_w...</td>\n    </tr>\n    <tr>\n      <th>7</th>\n      <td>Per_Sample_Accuracy</td>\n      <td>0.691061</td>\n      <td>0.711090</td>\n      <td>0.918452</td>\n      <td>0.137143</td>\n      <td>0.686059</td>\n      <td>0.936918</td>\n      <td>0.082177</td>\n      <td>0.708261</td>\n      <td>0.930526</td>\n      <td>...</td>\n      <td>0.934866</td>\n      <td>0.091340</td>\n      <td>0.708783</td>\n      <td>0.933073</td>\n      <td>0.102254</td>\n      <td>0.673472</td>\n      <td>0.933152</td>\n      <td>0.083580</td>\n      <td>RandomForestClassifier</td>\n      <td>{'bootstrap': True, 'ccp_alpha': 0.0, 'class_w...</td>\n    </tr>\n    <tr>\n      <th>8</th>\n      <td>Label_Stability</td>\n      <td>0.851667</td>\n      <td>0.807393</td>\n      <td>0.836903</td>\n      <td>0.725714</td>\n      <td>0.862722</td>\n      <td>0.873970</td>\n      <td>0.835645</td>\n      <td>0.848213</td>\n      <td>0.861316</td>\n      <td>...</td>\n      <td>0.869732</td>\n      <td>0.817320</td>\n      <td>0.847224</td>\n      <td>0.866354</td>\n      <td>0.795493</td>\n      <td>0.856075</td>\n      <td>0.866304</td>\n      <td>0.832840</td>\n      <td>RandomForestClassifier</td>\n      <td>{'bootstrap': True, 'ccp_alpha': 0.0, 'class_w...</td>\n    </tr>\n    <tr>\n      <th>9</th>\n      <td>TPR</td>\n      <td>0.679406</td>\n      <td>0.613333</td>\n      <td>1.000000</td>\n      <td>0.000000</td>\n      <td>0.691919</td>\n      <td>1.000000</td>\n      <td>0.000000</td>\n      <td>0.585034</td>\n      <td>1.000000</td>\n      <td>...</td>\n      <td>1.000000</td>\n      <td>0.000000</td>\n      <td>0.595745</td>\n      <td>1.000000</td>\n      <td>0.000000</td>\n      <td>0.734982</td>\n      <td>1.000000</td>\n      <td>0.000000</td>\n      <td>RandomForestClassifier</td>\n      <td>{'bootstrap': True, 'ccp_alpha': 0.0, 'class_w...</td>\n    </tr>\n    <tr>\n      <th>10</th>\n      <td>TNR</td>\n      <td>0.738462</td>\n      <td>0.801471</td>\n      <td>1.000000</td>\n      <td>0.000000</td>\n      <td>0.719376</td>\n      <td>1.000000</td>\n      <td>0.000000</td>\n      <td>0.816479</td>\n      <td>1.000000</td>\n      <td>...</td>\n      <td>1.000000</td>\n      <td>0.000000</td>\n      <td>0.804734</td>\n      <td>1.000000</td>\n      <td>0.000000</td>\n      <td>0.647773</td>\n      <td>1.000000</td>\n      <td>0.000000</td>\n      <td>RandomForestClassifier</td>\n      <td>{'bootstrap': True, 'ccp_alpha': 0.0, 'class_w...</td>\n    </tr>\n    <tr>\n      <th>11</th>\n      <td>PPV</td>\n      <td>0.676533</td>\n      <td>0.630137</td>\n      <td>1.000000</td>\n      <td>0.000000</td>\n      <td>0.685000</td>\n      <td>1.000000</td>\n      <td>0.000000</td>\n      <td>0.637037</td>\n      <td>1.000000</td>\n      <td>...</td>\n      <td>1.000000</td>\n      <td>0.000000</td>\n      <td>0.629213</td>\n      <td>1.000000</td>\n      <td>0.000000</td>\n      <td>0.705085</td>\n      <td>1.000000</td>\n      <td>0.000000</td>\n      <td>RandomForestClassifier</td>\n      <td>{'bootstrap': True, 'ccp_alpha': 0.0, 'class_w...</td>\n    </tr>\n    <tr>\n      <th>12</th>\n      <td>FNR</td>\n      <td>0.320594</td>\n      <td>0.386667</td>\n      <td>0.000000</td>\n      <td>1.000000</td>\n      <td>0.308081</td>\n      <td>0.000000</td>\n      <td>1.000000</td>\n      <td>0.414966</td>\n      <td>0.000000</td>\n      <td>...</td>\n      <td>0.000000</td>\n      <td>1.000000</td>\n      <td>0.404255</td>\n      <td>0.000000</td>\n      <td>1.000000</td>\n      <td>0.265018</td>\n      <td>0.000000</td>\n      <td>1.000000</td>\n      <td>RandomForestClassifier</td>\n      <td>{'bootstrap': True, 'ccp_alpha': 0.0, 'class_w...</td>\n    </tr>\n    <tr>\n      <th>13</th>\n      <td>FPR</td>\n      <td>0.261538</td>\n      <td>0.198529</td>\n      <td>0.000000</td>\n      <td>1.000000</td>\n      <td>0.280624</td>\n      <td>0.000000</td>\n      <td>1.000000</td>\n      <td>0.183521</td>\n      <td>0.000000</td>\n      <td>...</td>\n      <td>0.000000</td>\n      <td>1.000000</td>\n      <td>0.195266</td>\n      <td>0.000000</td>\n      <td>1.000000</td>\n      <td>0.352227</td>\n      <td>0.000000</td>\n      <td>1.000000</td>\n      <td>RandomForestClassifier</td>\n      <td>{'bootstrap': True, 'ccp_alpha': 0.0, 'class_w...</td>\n    </tr>\n    <tr>\n      <th>14</th>\n      <td>Accuracy</td>\n      <td>0.712121</td>\n      <td>0.734597</td>\n      <td>1.000000</td>\n      <td>0.000000</td>\n      <td>0.706509</td>\n      <td>1.000000</td>\n      <td>0.000000</td>\n      <td>0.734300</td>\n      <td>1.000000</td>\n      <td>...</td>\n      <td>1.000000</td>\n      <td>0.000000</td>\n      <td>0.730038</td>\n      <td>1.000000</td>\n      <td>0.000000</td>\n      <td>0.694340</td>\n      <td>1.000000</td>\n      <td>0.000000</td>\n      <td>RandomForestClassifier</td>\n      <td>{'bootstrap': True, 'ccp_alpha': 0.0, 'class_w...</td>\n    </tr>\n    <tr>\n      <th>15</th>\n      <td>F1</td>\n      <td>0.677966</td>\n      <td>0.621622</td>\n      <td>1.000000</td>\n      <td>0.000000</td>\n      <td>0.688442</td>\n      <td>1.000000</td>\n      <td>0.000000</td>\n      <td>0.609929</td>\n      <td>1.000000</td>\n      <td>...</td>\n      <td>1.000000</td>\n      <td>0.000000</td>\n      <td>0.612022</td>\n      <td>1.000000</td>\n      <td>0.000000</td>\n      <td>0.719723</td>\n      <td>1.000000</td>\n      <td>0.000000</td>\n      <td>RandomForestClassifier</td>\n      <td>{'bootstrap': True, 'ccp_alpha': 0.0, 'class_w...</td>\n    </tr>\n    <tr>\n      <th>16</th>\n      <td>Selection-Rate</td>\n      <td>0.447917</td>\n      <td>0.345972</td>\n      <td>0.296774</td>\n      <td>0.482143</td>\n      <td>0.473373</td>\n      <td>0.458961</td>\n      <td>0.508065</td>\n      <td>0.326087</td>\n      <td>0.282895</td>\n      <td>...</td>\n      <td>0.522321</td>\n      <td>0.536082</td>\n      <td>0.338403</td>\n      <td>0.291667</td>\n      <td>0.464789</td>\n      <td>0.556604</td>\n      <td>0.565217</td>\n      <td>0.537037</td>\n      <td>RandomForestClassifier</td>\n      <td>{'bootstrap': True, 'ccp_alpha': 0.0, 'class_w...</td>\n    </tr>\n    <tr>\n      <th>17</th>\n      <td>Positive-Rate</td>\n      <td>1.004246</td>\n      <td>0.973333</td>\n      <td>1.000000</td>\n      <td>0.931034</td>\n      <td>1.010101</td>\n      <td>1.000000</td>\n      <td>1.032787</td>\n      <td>0.918367</td>\n      <td>1.000000</td>\n      <td>...</td>\n      <td>1.000000</td>\n      <td>1.155556</td>\n      <td>0.946809</td>\n      <td>1.000000</td>\n      <td>0.868421</td>\n      <td>1.042403</td>\n      <td>1.000000</td>\n      <td>1.160000</td>\n      <td>RandomForestClassifier</td>\n      <td>{'bootstrap': True, 'ccp_alpha': 0.0, 'class_w...</td>\n    </tr>\n    <tr>\n      <th>18</th>\n      <td>Sample_Size</td>\n      <td>1056.000000</td>\n      <td>211.000000</td>\n      <td>155.000000</td>\n      <td>56.000000</td>\n      <td>845.000000</td>\n      <td>597.000000</td>\n      <td>248.000000</td>\n      <td>414.000000</td>\n      <td>304.000000</td>\n      <td>...</td>\n      <td>448.000000</td>\n      <td>194.000000</td>\n      <td>526.000000</td>\n      <td>384.000000</td>\n      <td>142.000000</td>\n      <td>530.000000</td>\n      <td>368.000000</td>\n      <td>162.000000</td>\n      <td>RandomForestClassifier</td>\n      <td>{'bootstrap': True, 'ccp_alpha': 0.0, 'class_w...</td>\n    </tr>\n  </tbody>\n</table>\n<p>19 rows × 22 columns</p>\n</div>"
     },
     "execution_count": 185,
     "metadata": {},
     "output_type": "execute_result"
    }
   ],
   "source": [
    "models_metrics_dct['RandomForestClassifier'].head(100)"
   ],
   "metadata": {
    "collapsed": false,
    "ExecuteTime": {
     "end_time": "2023-10-01T20:57:20.233976Z",
     "start_time": "2023-10-01T20:57:20.133369Z"
    }
   },
   "id": "54a73b4d053334b4"
  },
  {
   "cell_type": "code",
   "execution_count": 135,
   "outputs": [
    {
     "data": {
      "text/plain": "                           Metric       sex      race  sex&race  \\\n0              Equalized_Odds_TPR  0.211919  0.195326  0.183576   \n1              Equalized_Odds_FPR  0.098356  0.104728  0.141078   \n2              Equalized_Odds_FNR -0.211919 -0.195326 -0.183576   \n3                Disparate_Impact  1.234115  1.135965  1.125105   \n4   Statistical_Parity_Difference  0.193535  0.123016  0.115123   \n5                 Accuracy_Parity  0.009832  0.006840 -0.010984   \n6           Label_Stability_Ratio  1.024740  0.997454  0.995869   \n7                      IQR_Parity  0.000768 -0.004804 -0.003282   \n8                      Std_Parity -0.005106 -0.000927 -0.001976   \n9                       Std_Ratio  0.931699  0.986984  0.972422   \n10                  Jitter_Parity -0.013818  0.007192  0.005364   \n11             Equalized_Odds_TPR  0.166465  0.258440  0.226205   \n12             Equalized_Odds_FPR  0.096129  0.156703  0.186079   \n13             Equalized_Odds_FNR -0.166465 -0.258440 -0.226205   \n14               Disparate_Impact  1.176075  1.341036  1.263916   \n15  Statistical_Parity_Difference  0.145556  0.262157  0.216187   \n16                Accuracy_Parity -0.010286 -0.003747 -0.024119   \n17          Label_Stability_Ratio  1.021988  0.988991  1.003152   \n18                     IQR_Parity  0.001712  0.001225  0.001058   \n19                     Std_Parity  0.000822  0.000278  0.000170   \n\n                Model_Name  \n0   DecisionTreeClassifier  \n1   DecisionTreeClassifier  \n2   DecisionTreeClassifier  \n3   DecisionTreeClassifier  \n4   DecisionTreeClassifier  \n5   DecisionTreeClassifier  \n6   DecisionTreeClassifier  \n7   DecisionTreeClassifier  \n8   DecisionTreeClassifier  \n9   DecisionTreeClassifier  \n10  DecisionTreeClassifier  \n11      LogisticRegression  \n12      LogisticRegression  \n13      LogisticRegression  \n14      LogisticRegression  \n15      LogisticRegression  \n16      LogisticRegression  \n17      LogisticRegression  \n18      LogisticRegression  \n19      LogisticRegression  ",
      "text/html": "<div>\n<style scoped>\n    .dataframe tbody tr th:only-of-type {\n        vertical-align: middle;\n    }\n\n    .dataframe tbody tr th {\n        vertical-align: top;\n    }\n\n    .dataframe thead th {\n        text-align: right;\n    }\n</style>\n<table border=\"1\" class=\"dataframe\">\n  <thead>\n    <tr style=\"text-align: right;\">\n      <th></th>\n      <th>Metric</th>\n      <th>sex</th>\n      <th>race</th>\n      <th>sex&amp;race</th>\n      <th>Model_Name</th>\n    </tr>\n  </thead>\n  <tbody>\n    <tr>\n      <th>0</th>\n      <td>Equalized_Odds_TPR</td>\n      <td>0.211919</td>\n      <td>0.195326</td>\n      <td>0.183576</td>\n      <td>DecisionTreeClassifier</td>\n    </tr>\n    <tr>\n      <th>1</th>\n      <td>Equalized_Odds_FPR</td>\n      <td>0.098356</td>\n      <td>0.104728</td>\n      <td>0.141078</td>\n      <td>DecisionTreeClassifier</td>\n    </tr>\n    <tr>\n      <th>2</th>\n      <td>Equalized_Odds_FNR</td>\n      <td>-0.211919</td>\n      <td>-0.195326</td>\n      <td>-0.183576</td>\n      <td>DecisionTreeClassifier</td>\n    </tr>\n    <tr>\n      <th>3</th>\n      <td>Disparate_Impact</td>\n      <td>1.234115</td>\n      <td>1.135965</td>\n      <td>1.125105</td>\n      <td>DecisionTreeClassifier</td>\n    </tr>\n    <tr>\n      <th>4</th>\n      <td>Statistical_Parity_Difference</td>\n      <td>0.193535</td>\n      <td>0.123016</td>\n      <td>0.115123</td>\n      <td>DecisionTreeClassifier</td>\n    </tr>\n    <tr>\n      <th>5</th>\n      <td>Accuracy_Parity</td>\n      <td>0.009832</td>\n      <td>0.006840</td>\n      <td>-0.010984</td>\n      <td>DecisionTreeClassifier</td>\n    </tr>\n    <tr>\n      <th>6</th>\n      <td>Label_Stability_Ratio</td>\n      <td>1.024740</td>\n      <td>0.997454</td>\n      <td>0.995869</td>\n      <td>DecisionTreeClassifier</td>\n    </tr>\n    <tr>\n      <th>7</th>\n      <td>IQR_Parity</td>\n      <td>0.000768</td>\n      <td>-0.004804</td>\n      <td>-0.003282</td>\n      <td>DecisionTreeClassifier</td>\n    </tr>\n    <tr>\n      <th>8</th>\n      <td>Std_Parity</td>\n      <td>-0.005106</td>\n      <td>-0.000927</td>\n      <td>-0.001976</td>\n      <td>DecisionTreeClassifier</td>\n    </tr>\n    <tr>\n      <th>9</th>\n      <td>Std_Ratio</td>\n      <td>0.931699</td>\n      <td>0.986984</td>\n      <td>0.972422</td>\n      <td>DecisionTreeClassifier</td>\n    </tr>\n    <tr>\n      <th>10</th>\n      <td>Jitter_Parity</td>\n      <td>-0.013818</td>\n      <td>0.007192</td>\n      <td>0.005364</td>\n      <td>DecisionTreeClassifier</td>\n    </tr>\n    <tr>\n      <th>11</th>\n      <td>Equalized_Odds_TPR</td>\n      <td>0.166465</td>\n      <td>0.258440</td>\n      <td>0.226205</td>\n      <td>LogisticRegression</td>\n    </tr>\n    <tr>\n      <th>12</th>\n      <td>Equalized_Odds_FPR</td>\n      <td>0.096129</td>\n      <td>0.156703</td>\n      <td>0.186079</td>\n      <td>LogisticRegression</td>\n    </tr>\n    <tr>\n      <th>13</th>\n      <td>Equalized_Odds_FNR</td>\n      <td>-0.166465</td>\n      <td>-0.258440</td>\n      <td>-0.226205</td>\n      <td>LogisticRegression</td>\n    </tr>\n    <tr>\n      <th>14</th>\n      <td>Disparate_Impact</td>\n      <td>1.176075</td>\n      <td>1.341036</td>\n      <td>1.263916</td>\n      <td>LogisticRegression</td>\n    </tr>\n    <tr>\n      <th>15</th>\n      <td>Statistical_Parity_Difference</td>\n      <td>0.145556</td>\n      <td>0.262157</td>\n      <td>0.216187</td>\n      <td>LogisticRegression</td>\n    </tr>\n    <tr>\n      <th>16</th>\n      <td>Accuracy_Parity</td>\n      <td>-0.010286</td>\n      <td>-0.003747</td>\n      <td>-0.024119</td>\n      <td>LogisticRegression</td>\n    </tr>\n    <tr>\n      <th>17</th>\n      <td>Label_Stability_Ratio</td>\n      <td>1.021988</td>\n      <td>0.988991</td>\n      <td>1.003152</td>\n      <td>LogisticRegression</td>\n    </tr>\n    <tr>\n      <th>18</th>\n      <td>IQR_Parity</td>\n      <td>0.001712</td>\n      <td>0.001225</td>\n      <td>0.001058</td>\n      <td>LogisticRegression</td>\n    </tr>\n    <tr>\n      <th>19</th>\n      <td>Std_Parity</td>\n      <td>0.000822</td>\n      <td>0.000278</td>\n      <td>0.000170</td>\n      <td>LogisticRegression</td>\n    </tr>\n  </tbody>\n</table>\n</div>"
     },
     "execution_count": 135,
     "metadata": {},
     "output_type": "execute_result"
    }
   ],
   "source": [
    "models_composed_metrics_df.head(20)"
   ],
   "metadata": {
    "collapsed": false,
    "ExecuteTime": {
     "end_time": "2023-10-01T11:29:37.410638Z",
     "start_time": "2023-10-01T11:29:37.382980Z"
    }
   },
   "id": "5798eb95fbeaea54"
  },
  {
   "cell_type": "markdown",
   "id": "deb45226",
   "metadata": {},
   "source": [
    "## Metrics Visualization and Reporting"
   ]
  },
  {
   "cell_type": "code",
   "execution_count": 322,
   "id": "435b9d98",
   "metadata": {
    "ExecuteTime": {
     "end_time": "2023-10-02T17:55:10.703782Z",
     "start_time": "2023-10-02T17:55:06.041613Z"
    }
   },
   "outputs": [],
   "source": [
    "visualizer = MetricsInteractiveVisualizer(models_metrics_dct, models_composed_metrics_df,\n",
    "                                          sensitive_attributes_dct=config.sensitive_attributes_dct)"
   ]
  },
  {
   "cell_type": "code",
   "execution_count": 323,
   "outputs": [
    {
     "name": "stdout",
     "output_type": "stream",
     "text": [
      "Running on local URL:  http://127.0.0.1:7860\n",
      "\n",
      "To create a public link, set `share=True` in `launch()`.\n",
      "Keyboard interruption in main thread... closing server.\n"
     ]
    }
   ],
   "source": [
    "visualizer.start_web_app()"
   ],
   "metadata": {
    "collapsed": false,
    "ExecuteTime": {
     "end_time": "2023-10-02T17:55:47.535767Z",
     "start_time": "2023-10-02T17:55:10.703964Z"
    }
   },
   "id": "678a9dc8d51243f4"
  },
  {
   "cell_type": "code",
   "execution_count": 17,
   "outputs": [
    {
     "name": "stdout",
     "output_type": "stream",
     "text": [
      "Closing server running on port: 7860\n"
     ]
    }
   ],
   "source": [
    "visualizer.stop_web_app()"
   ],
   "metadata": {
    "collapsed": false,
    "ExecuteTime": {
     "end_time": "2023-09-29T21:41:49.927075Z",
     "start_time": "2023-09-29T21:41:49.639933Z"
    }
   },
   "id": "277b6d1de837dab7"
  },
  {
   "cell_type": "code",
   "execution_count": 78,
   "id": "2326c129",
   "metadata": {},
   "outputs": [],
   "source": []
  }
 ],
 "metadata": {
  "kernelspec": {
   "display_name": "Python 3 (ipykernel)",
   "language": "python",
   "name": "python3"
  },
  "language_info": {
   "codemirror_mode": {
    "name": "ipython",
    "version": 3
   },
   "file_extension": ".py",
   "mimetype": "text/x-python",
   "name": "python",
   "nbconvert_exporter": "python",
   "pygments_lexer": "ipython3",
   "version": "3.8.10"
  }
 },
 "nbformat": 4,
 "nbformat_minor": 5
}
