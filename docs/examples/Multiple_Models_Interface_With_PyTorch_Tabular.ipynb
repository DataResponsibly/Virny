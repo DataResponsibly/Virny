{
 "cells": [
  {
   "cell_type": "code",
   "id": "248cbed8",
   "metadata": {
    "ExecuteTime": {
     "end_time": "2024-09-14T11:23:53.324534Z",
     "start_time": "2024-09-14T11:23:53.018754Z"
    }
   },
   "source": [
    "%matplotlib inline\n",
    "%load_ext autoreload\n",
    "%autoreload 2"
   ],
   "outputs": [],
   "execution_count": 1
  },
  {
   "cell_type": "code",
   "id": "7ec6cd08",
   "metadata": {
    "ExecuteTime": {
     "end_time": "2024-09-14T11:23:53.339545Z",
     "start_time": "2024-09-14T11:23:53.332357Z"
    }
   },
   "source": [
    "import os\n",
    "import warnings\n",
    "warnings.filterwarnings('ignore')\n",
    "os.environ[\"PYTHONWARNINGS\"] = \"ignore\""
   ],
   "outputs": [],
   "execution_count": 2
  },
  {
   "cell_type": "code",
   "id": "b8cb69f2",
   "metadata": {
    "ExecuteTime": {
     "end_time": "2024-09-14T11:23:53.450214Z",
     "start_time": "2024-09-14T11:23:53.442005Z"
    }
   },
   "source": [
    "cur_folder_name = os.getcwd().split('/')[-1]\n",
    "if cur_folder_name != \"Virny\":\n",
    "    os.chdir(\"../..\")\n",
    "\n",
    "print('Current location: ', os.getcwd())"
   ],
   "outputs": [
    {
     "name": "stdout",
     "output_type": "stream",
     "text": [
      "Current location:  /Users/denys_herasymuk/UCU/4course_2term/Bachelor_Thesis/Code/Virny\n"
     ]
    }
   ],
   "execution_count": 3
  },
  {
   "cell_type": "markdown",
   "id": "a578f2ab",
   "metadata": {},
   "source": "# Multiple Models Interface With PyTorch Tabular"
  },
  {
   "cell_type": "markdown",
   "id": "2251a923",
   "metadata": {},
   "source": [
    "In this example, we are going to conduct a performance profiling for 1 deep learning model from PyTorch Tabular. For that, we will use `compute_metrics_with_config` interface that can compute metrics for multiple models. Thus, we will need to do the next steps:\n",
    "\n",
    "* Initialize input variables\n",
    "\n",
    "* Compute subgroup metrics\n",
    "\n",
    "* Perform disparity metrics composition using the Metric Composer\n",
    "\n",
    "* Create static visualizations using the Metric Visualizer"
   ]
  },
  {
   "cell_type": "markdown",
   "id": "606df34d",
   "metadata": {},
   "source": [
    "## Import dependencies"
   ]
  },
  {
   "cell_type": "code",
   "id": "7a9241de",
   "metadata": {
    "ExecuteTime": {
     "end_time": "2024-09-14T11:23:55.246335Z",
     "start_time": "2024-09-14T11:23:53.517179Z"
    }
   },
   "source": [
    "import os\n",
    "from datetime import datetime, timezone\n",
    "\n",
    "from sklearn.compose import ColumnTransformer\n",
    "from sklearn.preprocessing import OneHotEncoder\n",
    "from sklearn.preprocessing import StandardScaler\n",
    "\n",
    "from virny.datasets import DiabetesDataset2019\n",
    "from virny.utils.custom_initializers import create_config_obj, read_model_metric_dfs\n",
    "from virny.user_interfaces.multiple_models_api import compute_metrics_with_config\n",
    "from virny.preprocessing.basic_preprocessing import preprocess_dataset\n",
    "from virny.custom_classes.metrics_visualizer import MetricsVisualizer\n",
    "from virny.custom_classes.metrics_composer import MetricsComposer"
   ],
   "outputs": [],
   "execution_count": 4
  },
  {
   "cell_type": "markdown",
   "id": "75699f5f",
   "metadata": {},
   "source": [
    "## Initialize Input Variables"
   ]
  },
  {
   "cell_type": "markdown",
   "id": "e86f6556",
   "metadata": {},
   "source": [
    "Based on the library flow, we need to create 3 input objects for a user interface:\n",
    "\n",
    "* A **config yaml** that is a file with configuration parameters for different user interfaces for metric computation.\n",
    "\n",
    "* A **dataset class** that is a wrapper above the user’s raw dataset that includes its descriptive attributes like a target column, numerical columns, categorical columns, etc. This class must be inherited from the BaseDataset class, which was created for user convenience.\n",
    "\n",
    "* Finally, a **models config** that is a Python dictionary, where keys are model names and values are initialized models for analysis. This dictionary helps conduct audits for different analysis modes and analyze different types of models."
   ]
  },
  {
   "cell_type": "code",
   "source": [
    "DATASET_SPLIT_SEED = 42\n",
    "MODELS_TUNING_SEED = 42\n",
    "TEST_SET_FRACTION = 0.2"
   ],
   "metadata": {
    "collapsed": false,
    "ExecuteTime": {
     "end_time": "2024-09-14T11:23:55.267600Z",
     "start_time": "2024-09-14T11:23:55.250906Z"
    }
   },
   "id": "76d98eaabfcfc9c0",
   "outputs": [],
   "execution_count": 5
  },
  {
   "cell_type": "markdown",
   "source": [
    "### Create a config object"
   ],
   "metadata": {
    "collapsed": false
   },
   "id": "855fb160c6220866"
  },
  {
   "cell_type": "markdown",
   "source": [
    "`compute_metrics_with_config` interface requires that your **yaml file** includes the following parameters:\n",
    "\n",
    "* **dataset_name**: str, a name of your dataset; it will be used to name files with metrics.\n",
    "\n",
    "* **bootstrap_fraction**: float, the fraction from a train set in the range [0.0 - 1.0] to fit models in bootstrap (usually more than 0.5).\n",
    "\n",
    "* **random_state**: int, a seed to control the randomness of the whole model evaluation pipeline.\n",
    "\n",
    "* **n_estimators**: int, the number of estimators for bootstrap to compute subgroup stability metrics.\n",
    "\n",
    "* **computation_mode**: str, 'default' or 'error_analysis'. Name of the computation mode. When a default computation mode measures metrics for sex_priv and sex_dis, an `error_analysis` mode measures metrics for (sex_priv, sex_priv_correct, sex_priv_incorrect) and (sex_dis, sex_dis_correct, sex_dis_incorrect). Therefore, a user can analyze how a model is certain about its incorrect predictions.\n",
    "\n",
    "* **sensitive_attributes_dct**: dict, a dictionary where keys are sensitive attribute names (including intersectional attributes), and values are disadvantaged values for these attributes. Intersectional attributes must include '&' between sensitive attributes. You do not need to specify disadvantaged values for intersectional groups since they will be derived from disadvantaged values in sensitive_attributes_dct for each separate sensitive attribute in this intersectional pair.\n",
    "\n",
    "Note that disadvantaged value in a sensitive attribute dictionary must be **the same as in the original dataset**. For example, when distinct values of the _sex_ column in the original dataset are 'F' and 'M', and after pre-processing they became 0 and 1 respectively, you still need to set a disadvantaged value as 'F' or 'M' in the sensitive attribute dictionary."
   ],
   "metadata": {
    "collapsed": false
   },
   "id": "1137cf9bc7be6964"
  },
  {
   "cell_type": "code",
   "source": [
    "ROOT_DIR = os.path.join('docs', 'examples')\n",
    "config_yaml_path = os.path.join(ROOT_DIR, 'experiment_config.yaml')\n",
    "config_yaml_content = \"\"\"\n",
    "random_state: 42\n",
    "dataset_name: diabetes\n",
    "bootstrap_fraction: 0.8\n",
    "n_estimators: 10  # Better to input the higher number of estimators than 100; this is only for this use case example\n",
    "sensitive_attributes_dct: {'Gender': 'Female'}\n",
    "\"\"\"\n",
    "\n",
    "with open(config_yaml_path, 'w', encoding='utf-8') as f:\n",
    "    f.write(config_yaml_content)"
   ],
   "metadata": {
    "collapsed": false,
    "ExecuteTime": {
     "end_time": "2024-09-14T11:23:55.289243Z",
     "start_time": "2024-09-14T11:23:55.271318Z"
    }
   },
   "id": "efc95fa248b9f135",
   "outputs": [],
   "execution_count": 6
  },
  {
   "cell_type": "code",
   "source": [
    "config = create_config_obj(config_yaml_path=config_yaml_path)\n",
    "SAVE_RESULTS_DIR_PATH = os.path.join(ROOT_DIR, 'results', f'{config.dataset_name}_Metrics_{datetime.now(timezone.utc).strftime(\"%Y%m%d__%H%M%S\")}')"
   ],
   "metadata": {
    "collapsed": false,
    "ExecuteTime": {
     "end_time": "2024-09-14T11:23:55.311267Z",
     "start_time": "2024-09-14T11:23:55.293090Z"
    }
   },
   "id": "f3a59ca9319a774d",
   "outputs": [],
   "execution_count": 7
  },
  {
   "cell_type": "markdown",
   "id": "74f57422",
   "metadata": {},
   "source": [
    "### Preprocess the dataset and create a BaseFlowDataset class"
   ]
  },
  {
   "cell_type": "markdown",
   "id": "eed149cd",
   "metadata": {},
   "source": [
    "Based on the BaseDataset class, your **dataset class** should include the following attributes:\n",
    "\n",
    "* **Obligatory attributes**: dataset, target, features, numerical_columns, categorical_columns\n",
    "\n",
    "* **Optional attributes**: X_data, y_data, columns_with_nulls\n",
    "\n",
    "For more details, please refer to the library documentation."
   ]
  },
  {
   "cell_type": "code",
   "id": "6c55c6a0",
   "metadata": {
    "ExecuteTime": {
     "end_time": "2024-09-14T11:23:55.361275Z",
     "start_time": "2024-09-14T11:23:55.326501Z"
    }
   },
   "source": [
    "data_loader = DiabetesDataset2019(with_nulls=False)\n",
    "data_loader.X_data[data_loader.X_data.columns[:5]].head()"
   ],
   "outputs": [
    {
     "data": {
      "text/plain": [
       "    BMI  Sleep  SoundSleep  Pregnancies    Age\n",
       "0  39.0      8           6          0.0  50-59\n",
       "1  28.0      8           6          0.0  50-59\n",
       "2  24.0      6           6          0.0  40-49\n",
       "3  23.0      8           6          0.0  50-59\n",
       "4  27.0      8           8          0.0  40-49"
      ],
      "text/html": [
       "<div>\n",
       "<style scoped>\n",
       "    .dataframe tbody tr th:only-of-type {\n",
       "        vertical-align: middle;\n",
       "    }\n",
       "\n",
       "    .dataframe tbody tr th {\n",
       "        vertical-align: top;\n",
       "    }\n",
       "\n",
       "    .dataframe thead th {\n",
       "        text-align: right;\n",
       "    }\n",
       "</style>\n",
       "<table border=\"1\" class=\"dataframe\">\n",
       "  <thead>\n",
       "    <tr style=\"text-align: right;\">\n",
       "      <th></th>\n",
       "      <th>BMI</th>\n",
       "      <th>Sleep</th>\n",
       "      <th>SoundSleep</th>\n",
       "      <th>Pregnancies</th>\n",
       "      <th>Age</th>\n",
       "    </tr>\n",
       "  </thead>\n",
       "  <tbody>\n",
       "    <tr>\n",
       "      <th>0</th>\n",
       "      <td>39.0</td>\n",
       "      <td>8</td>\n",
       "      <td>6</td>\n",
       "      <td>0.0</td>\n",
       "      <td>50-59</td>\n",
       "    </tr>\n",
       "    <tr>\n",
       "      <th>1</th>\n",
       "      <td>28.0</td>\n",
       "      <td>8</td>\n",
       "      <td>6</td>\n",
       "      <td>0.0</td>\n",
       "      <td>50-59</td>\n",
       "    </tr>\n",
       "    <tr>\n",
       "      <th>2</th>\n",
       "      <td>24.0</td>\n",
       "      <td>6</td>\n",
       "      <td>6</td>\n",
       "      <td>0.0</td>\n",
       "      <td>40-49</td>\n",
       "    </tr>\n",
       "    <tr>\n",
       "      <th>3</th>\n",
       "      <td>23.0</td>\n",
       "      <td>8</td>\n",
       "      <td>6</td>\n",
       "      <td>0.0</td>\n",
       "      <td>50-59</td>\n",
       "    </tr>\n",
       "    <tr>\n",
       "      <th>4</th>\n",
       "      <td>27.0</td>\n",
       "      <td>8</td>\n",
       "      <td>8</td>\n",
       "      <td>0.0</td>\n",
       "      <td>40-49</td>\n",
       "    </tr>\n",
       "  </tbody>\n",
       "</table>\n",
       "</div>"
      ]
     },
     "execution_count": 8,
     "metadata": {},
     "output_type": "execute_result"
    }
   ],
   "execution_count": 8
  },
  {
   "cell_type": "code",
   "source": [
    "column_transformer = ColumnTransformer(transformers=[\n",
    "    ('categorical_features', OneHotEncoder(handle_unknown='ignore', sparse_output=False), data_loader.categorical_columns),\n",
    "    ('numerical_features', StandardScaler(), data_loader.numerical_columns),\n",
    "])"
   ],
   "metadata": {
    "collapsed": false,
    "ExecuteTime": {
     "end_time": "2024-09-14T11:23:55.402471Z",
     "start_time": "2024-09-14T11:23:55.383278Z"
    }
   },
   "id": "8ee9e8a8c10245bf",
   "outputs": [],
   "execution_count": 9
  },
  {
   "cell_type": "code",
   "source": [
    "base_flow_dataset = preprocess_dataset(data_loader=data_loader,\n",
    "                                       column_transformer=column_transformer,\n",
    "                                       sensitive_attributes_dct=config.sensitive_attributes_dct,\n",
    "                                       test_set_fraction=TEST_SET_FRACTION,\n",
    "                                       dataset_split_seed=DATASET_SPLIT_SEED)"
   ],
   "metadata": {
    "collapsed": false,
    "ExecuteTime": {
     "end_time": "2024-09-14T11:23:55.449199Z",
     "start_time": "2024-09-14T11:23:55.420230Z"
    }
   },
   "id": "6dba3327ebe01279",
   "outputs": [],
   "execution_count": 10
  },
  {
   "cell_type": "markdown",
   "source": [
    "### Create a models config for metrics computation"
   ],
   "metadata": {
    "collapsed": false
   },
   "id": "c32119a0992e331c"
  },
  {
   "cell_type": "markdown",
   "source": [
    "**models_config** is a Python dictionary, where keys are model names and values are initialized models for analysis"
   ],
   "metadata": {
    "collapsed": false
   },
   "id": "b37d875602beb206"
  },
  {
   "metadata": {
    "ExecuteTime": {
     "end_time": "2024-09-14T11:23:56.751272Z",
     "start_time": "2024-09-14T11:23:55.493912Z"
    }
   },
   "cell_type": "code",
   "source": [
    "from pytorch_tabular.models import GANDALFConfig\n",
    "from pytorch_tabular import TabularModel\n",
    "from pytorch_tabular.config import (\n",
    "    DataConfig,\n",
    "    OptimizerConfig,\n",
    "    TrainerConfig,\n",
    ")\n",
    "\n",
    "data_config = DataConfig(\n",
    "    target=[\n",
    "        data_loader.target\n",
    "    ],  # target should always be a list. Multi-targets are only supported for regression. Multi-Task Classification is not implemented\n",
    "    continuous_cols=[col for col in base_flow_dataset.X_train_val.columns if col.startswith('numerical_')],\n",
    "    categorical_cols=[col for col in base_flow_dataset.X_train_val.columns if col.startswith('categorical_')],\n",
    ")\n",
    "trainer_config = TrainerConfig(\n",
    "    batch_size=512,\n",
    "    max_epochs=10,\n",
    "    load_best=False,\n",
    "    trainer_kwargs=dict(enable_model_summary=False, # Turning off model summary\n",
    "                        log_every_n_steps=None,\n",
    "                        enable_progress_bar=False),\n",
    ")\n",
    "optimizer_config = OptimizerConfig()\n",
    "model_config = GANDALFConfig(\n",
    "    task=\"classification\",\n",
    "    gflu_stages=6,\n",
    "    gflu_feature_init_sparsity=0.3,\n",
    "    gflu_dropout=0.0,\n",
    "    learning_rate=1e-3,\n",
    ")"
   ],
   "id": "abf7aea027176d4",
   "outputs": [],
   "execution_count": 11
  },
  {
   "cell_type": "code",
   "source": [
    "models_config = {\n",
    "    'GANDALFClassifier': TabularModel(\n",
    "        data_config=data_config,\n",
    "        model_config=model_config,\n",
    "        optimizer_config=optimizer_config,\n",
    "        trainer_config=trainer_config,\n",
    "        verbose=False,\n",
    "        suppress_lightning_logger=True,\n",
    "    ),\n",
    "}"
   ],
   "metadata": {
    "collapsed": false,
    "ExecuteTime": {
     "end_time": "2024-09-14T11:23:56.797689Z",
     "start_time": "2024-09-14T11:23:56.756955Z"
    }
   },
   "id": "8c6061673bb72efa",
   "outputs": [],
   "execution_count": 12
  },
  {
   "cell_type": "markdown",
   "id": "f445b64a",
   "metadata": {},
   "source": [
    "## Subgroup Metric Computation"
   ]
  },
  {
   "cell_type": "markdown",
   "id": "c3530f06",
   "metadata": {},
   "source": [
    "After that we need to input the _BaseFlowDataset_ object, models config, and config yaml to a metric computation interface and execute it. The interface uses subgroup analyzers to compute different sets of metrics for each privileged and disadvantaged group. As for now, our library supports **Subgroup Variance Analyzer** and **Subgroup Error Analyzer**, but it is easily extensible to any other analyzers. When the variance and error analyzers complete metric computation, their metrics are combined, returned in a matrix format, and stored in a file if defined."
   ]
  },
  {
   "cell_type": "code",
   "id": "197eadaa",
   "metadata": {
    "ExecuteTime": {
     "end_time": "2024-09-14T11:24:11.380323Z",
     "start_time": "2024-09-14T11:23:56.818250Z"
    }
   },
   "source": [
    "metrics_dct = compute_metrics_with_config(base_flow_dataset, config, models_config, SAVE_RESULTS_DIR_PATH, notebook_logs_stdout=True)"
   ],
   "outputs": [
    {
     "data": {
      "text/plain": [
       "Analyze multiple models:   0%|          | 0/1 [00:00<?, ?it/s]"
      ],
      "application/vnd.jupyter.widget-view+json": {
       "version_major": 2,
       "version_minor": 0,
       "model_id": "a7a1241bf8384802992d8a5492b7fb03"
      }
     },
     "metadata": {},
     "output_type": "display_data"
    },
    {
     "data": {
      "text/plain": [
       "Classifiers testing by bootstrap:   0%|          | 0/10 [00:00<?, ?it/s]"
      ],
      "application/vnd.jupyter.widget-view+json": {
       "version_major": 2,
       "version_minor": 0,
       "model_id": "5cfce7b82ec4429b9d7b1a85f8740070"
      }
     },
     "metadata": {},
     "output_type": "display_data"
    }
   ],
   "execution_count": 13
  },
  {
   "cell_type": "markdown",
   "id": "d6a8625a",
   "metadata": {},
   "source": [
    "Look at several columns in top rows of computed metrics. Note that now we have metrics also for `*_correct` and `*_incorrect` subgroups."
   ]
  },
  {
   "cell_type": "code",
   "id": "bea94683",
   "metadata": {
    "ExecuteTime": {
     "end_time": "2024-09-14T11:24:11.438610Z",
     "start_time": "2024-09-14T11:24:11.400950Z"
    }
   },
   "source": [
    "sample_model_metrics_df = metrics_dct[list(models_config.keys())[0]]\n",
    "sample_model_metrics_df[sample_model_metrics_df.columns[:5]].head(20)"
   ],
   "outputs": [
    {
     "data": {
      "text/plain": [
       "                   Metric     overall  Gender_priv  Gender_dis  \\\n",
       "0        Statistical_Bias    0.295597     0.321831    0.248779   \n",
       "1         Mean_Prediction    0.738774     0.752824    0.713700   \n",
       "2                     Std    0.086163     0.084164    0.089730   \n",
       "3   Aleatoric_Uncertainty    0.690577     0.690398    0.690896   \n",
       "4                     IQR    0.105706     0.105639    0.105825   \n",
       "5     Overall_Uncertainty    0.722770     0.720565    0.726706   \n",
       "6   Epistemic_Uncertainty    0.032193     0.030167    0.035810   \n",
       "7                  Jitter    0.104850     0.100192    0.113162   \n",
       "8         Label_Stability    0.851934     0.860345    0.836923   \n",
       "9                     TPR    0.326531     0.212121    0.562500   \n",
       "10                    TNR    0.969697     0.963855    0.979592   \n",
       "11                    PPV    0.800000     0.700000    0.900000   \n",
       "12                    FNR    0.673469     0.787879    0.437500   \n",
       "13                    FPR    0.030303     0.036145    0.020408   \n",
       "14               Accuracy    0.795580     0.750000    0.876923   \n",
       "15                     F1    0.463768     0.325581    0.692308   \n",
       "16         Selection-Rate    0.110497     0.086207    0.153846   \n",
       "17            Sample_Size  181.000000   116.000000   65.000000   \n",
       "\n",
       "           Model_Name  \n",
       "0   GANDALFClassifier  \n",
       "1   GANDALFClassifier  \n",
       "2   GANDALFClassifier  \n",
       "3   GANDALFClassifier  \n",
       "4   GANDALFClassifier  \n",
       "5   GANDALFClassifier  \n",
       "6   GANDALFClassifier  \n",
       "7   GANDALFClassifier  \n",
       "8   GANDALFClassifier  \n",
       "9   GANDALFClassifier  \n",
       "10  GANDALFClassifier  \n",
       "11  GANDALFClassifier  \n",
       "12  GANDALFClassifier  \n",
       "13  GANDALFClassifier  \n",
       "14  GANDALFClassifier  \n",
       "15  GANDALFClassifier  \n",
       "16  GANDALFClassifier  \n",
       "17  GANDALFClassifier  "
      ],
      "text/html": [
       "<div>\n",
       "<style scoped>\n",
       "    .dataframe tbody tr th:only-of-type {\n",
       "        vertical-align: middle;\n",
       "    }\n",
       "\n",
       "    .dataframe tbody tr th {\n",
       "        vertical-align: top;\n",
       "    }\n",
       "\n",
       "    .dataframe thead th {\n",
       "        text-align: right;\n",
       "    }\n",
       "</style>\n",
       "<table border=\"1\" class=\"dataframe\">\n",
       "  <thead>\n",
       "    <tr style=\"text-align: right;\">\n",
       "      <th></th>\n",
       "      <th>Metric</th>\n",
       "      <th>overall</th>\n",
       "      <th>Gender_priv</th>\n",
       "      <th>Gender_dis</th>\n",
       "      <th>Model_Name</th>\n",
       "    </tr>\n",
       "  </thead>\n",
       "  <tbody>\n",
       "    <tr>\n",
       "      <th>0</th>\n",
       "      <td>Statistical_Bias</td>\n",
       "      <td>0.295597</td>\n",
       "      <td>0.321831</td>\n",
       "      <td>0.248779</td>\n",
       "      <td>GANDALFClassifier</td>\n",
       "    </tr>\n",
       "    <tr>\n",
       "      <th>1</th>\n",
       "      <td>Mean_Prediction</td>\n",
       "      <td>0.738774</td>\n",
       "      <td>0.752824</td>\n",
       "      <td>0.713700</td>\n",
       "      <td>GANDALFClassifier</td>\n",
       "    </tr>\n",
       "    <tr>\n",
       "      <th>2</th>\n",
       "      <td>Std</td>\n",
       "      <td>0.086163</td>\n",
       "      <td>0.084164</td>\n",
       "      <td>0.089730</td>\n",
       "      <td>GANDALFClassifier</td>\n",
       "    </tr>\n",
       "    <tr>\n",
       "      <th>3</th>\n",
       "      <td>Aleatoric_Uncertainty</td>\n",
       "      <td>0.690577</td>\n",
       "      <td>0.690398</td>\n",
       "      <td>0.690896</td>\n",
       "      <td>GANDALFClassifier</td>\n",
       "    </tr>\n",
       "    <tr>\n",
       "      <th>4</th>\n",
       "      <td>IQR</td>\n",
       "      <td>0.105706</td>\n",
       "      <td>0.105639</td>\n",
       "      <td>0.105825</td>\n",
       "      <td>GANDALFClassifier</td>\n",
       "    </tr>\n",
       "    <tr>\n",
       "      <th>5</th>\n",
       "      <td>Overall_Uncertainty</td>\n",
       "      <td>0.722770</td>\n",
       "      <td>0.720565</td>\n",
       "      <td>0.726706</td>\n",
       "      <td>GANDALFClassifier</td>\n",
       "    </tr>\n",
       "    <tr>\n",
       "      <th>6</th>\n",
       "      <td>Epistemic_Uncertainty</td>\n",
       "      <td>0.032193</td>\n",
       "      <td>0.030167</td>\n",
       "      <td>0.035810</td>\n",
       "      <td>GANDALFClassifier</td>\n",
       "    </tr>\n",
       "    <tr>\n",
       "      <th>7</th>\n",
       "      <td>Jitter</td>\n",
       "      <td>0.104850</td>\n",
       "      <td>0.100192</td>\n",
       "      <td>0.113162</td>\n",
       "      <td>GANDALFClassifier</td>\n",
       "    </tr>\n",
       "    <tr>\n",
       "      <th>8</th>\n",
       "      <td>Label_Stability</td>\n",
       "      <td>0.851934</td>\n",
       "      <td>0.860345</td>\n",
       "      <td>0.836923</td>\n",
       "      <td>GANDALFClassifier</td>\n",
       "    </tr>\n",
       "    <tr>\n",
       "      <th>9</th>\n",
       "      <td>TPR</td>\n",
       "      <td>0.326531</td>\n",
       "      <td>0.212121</td>\n",
       "      <td>0.562500</td>\n",
       "      <td>GANDALFClassifier</td>\n",
       "    </tr>\n",
       "    <tr>\n",
       "      <th>10</th>\n",
       "      <td>TNR</td>\n",
       "      <td>0.969697</td>\n",
       "      <td>0.963855</td>\n",
       "      <td>0.979592</td>\n",
       "      <td>GANDALFClassifier</td>\n",
       "    </tr>\n",
       "    <tr>\n",
       "      <th>11</th>\n",
       "      <td>PPV</td>\n",
       "      <td>0.800000</td>\n",
       "      <td>0.700000</td>\n",
       "      <td>0.900000</td>\n",
       "      <td>GANDALFClassifier</td>\n",
       "    </tr>\n",
       "    <tr>\n",
       "      <th>12</th>\n",
       "      <td>FNR</td>\n",
       "      <td>0.673469</td>\n",
       "      <td>0.787879</td>\n",
       "      <td>0.437500</td>\n",
       "      <td>GANDALFClassifier</td>\n",
       "    </tr>\n",
       "    <tr>\n",
       "      <th>13</th>\n",
       "      <td>FPR</td>\n",
       "      <td>0.030303</td>\n",
       "      <td>0.036145</td>\n",
       "      <td>0.020408</td>\n",
       "      <td>GANDALFClassifier</td>\n",
       "    </tr>\n",
       "    <tr>\n",
       "      <th>14</th>\n",
       "      <td>Accuracy</td>\n",
       "      <td>0.795580</td>\n",
       "      <td>0.750000</td>\n",
       "      <td>0.876923</td>\n",
       "      <td>GANDALFClassifier</td>\n",
       "    </tr>\n",
       "    <tr>\n",
       "      <th>15</th>\n",
       "      <td>F1</td>\n",
       "      <td>0.463768</td>\n",
       "      <td>0.325581</td>\n",
       "      <td>0.692308</td>\n",
       "      <td>GANDALFClassifier</td>\n",
       "    </tr>\n",
       "    <tr>\n",
       "      <th>16</th>\n",
       "      <td>Selection-Rate</td>\n",
       "      <td>0.110497</td>\n",
       "      <td>0.086207</td>\n",
       "      <td>0.153846</td>\n",
       "      <td>GANDALFClassifier</td>\n",
       "    </tr>\n",
       "    <tr>\n",
       "      <th>17</th>\n",
       "      <td>Sample_Size</td>\n",
       "      <td>181.000000</td>\n",
       "      <td>116.000000</td>\n",
       "      <td>65.000000</td>\n",
       "      <td>GANDALFClassifier</td>\n",
       "    </tr>\n",
       "  </tbody>\n",
       "</table>\n",
       "</div>"
      ]
     },
     "execution_count": 14,
     "metadata": {},
     "output_type": "execute_result"
    }
   ],
   "execution_count": 14
  },
  {
   "cell_type": "markdown",
   "id": "a7ff67e9",
   "metadata": {},
   "source": [
    "## Disparity Metric Composition"
   ]
  },
  {
   "cell_type": "markdown",
   "id": "274c97e2",
   "metadata": {},
   "source": [
    "To compose disparity metrics, the Metric Composer should be applied. **Metric Composer** is responsible for the second stage of the model audit. Currently, it computes our custom error disparity, stability disparity, and uncertainty disparity metrics, but extending it for new disparity metrics is very simple. We noticed that more and more disparity metrics have appeared during the last decade, but most of them are based on the same group specific metrics. Hence, such a separation of group specific and disparity metrics computation allows us to experiment with different combinations of group specific metrics and avoid group metrics recomputation for a new set of disparity metrics."
   ]
  },
  {
   "cell_type": "code",
   "id": "f94a20dc",
   "metadata": {
    "ExecuteTime": {
     "end_time": "2024-09-14T11:24:11.507617Z",
     "start_time": "2024-09-14T11:24:11.473712Z"
    }
   },
   "source": [
    "models_metrics_dct = read_model_metric_dfs(SAVE_RESULTS_DIR_PATH, model_names=list(models_config.keys()))"
   ],
   "outputs": [],
   "execution_count": 15
  },
  {
   "cell_type": "code",
   "id": "b04d06cf",
   "metadata": {
    "ExecuteTime": {
     "end_time": "2024-09-14T11:24:11.557060Z",
     "start_time": "2024-09-14T11:24:11.523723Z"
    }
   },
   "source": [
    "metrics_composer = MetricsComposer(models_metrics_dct, config.sensitive_attributes_dct)"
   ],
   "outputs": [],
   "execution_count": 16
  },
  {
   "cell_type": "markdown",
   "id": "e1a23ece",
   "metadata": {},
   "source": [
    "Compute composed metrics"
   ]
  },
  {
   "cell_type": "code",
   "id": "be6ace22",
   "metadata": {
    "ExecuteTime": {
     "end_time": "2024-09-14T11:24:11.624771Z",
     "start_time": "2024-09-14T11:24:11.590344Z"
    }
   },
   "source": [
    "models_composed_metrics_df = metrics_composer.compose_metrics()"
   ],
   "outputs": [],
   "execution_count": 17
  },
  {
   "cell_type": "markdown",
   "id": "deb45226",
   "metadata": {},
   "source": [
    "## Metric Visualization"
   ]
  },
  {
   "cell_type": "markdown",
   "id": "2f5d4cdb",
   "metadata": {},
   "source": [
    "**Metric Visualizer** allows us to build static visualizations for the computed metrics. It unifies different preprocessing methods for the computed metrics and creates various data formats required for visualizations. Hence, users can simply call methods of the MetricsVisualizer class and get custom plots for diverse metric analysis."
   ]
  },
  {
   "cell_type": "code",
   "id": "435b9d98",
   "metadata": {
    "ExecuteTime": {
     "end_time": "2024-09-14T11:24:11.683705Z",
     "start_time": "2024-09-14T11:24:11.648651Z"
    }
   },
   "source": [
    "visualizer = MetricsVisualizer(models_metrics_dct, models_composed_metrics_df, config.dataset_name,\n",
    "                               model_names=list(models_config.keys()),\n",
    "                               sensitive_attributes_dct=config.sensitive_attributes_dct)"
   ],
   "outputs": [],
   "execution_count": 18
  },
  {
   "cell_type": "code",
   "id": "5efb1bf2",
   "metadata": {
    "ExecuteTime": {
     "end_time": "2024-09-14T11:24:11.762657Z",
     "start_time": "2024-09-14T11:24:11.708320Z"
    }
   },
   "source": [
    "visualizer.create_overall_metrics_bar_char(\n",
    "    metric_names=['Accuracy', 'F1', 'TPR', 'TNR', 'PPV', 'Selection-Rate'],\n",
    "    plot_title=\"Accuracy Metrics\"\n",
    ")"
   ],
   "outputs": [
    {
     "data": {
      "text/html": [
       "\n",
       "<div id=\"altair-viz-89bcd288b90d45eea2b001790f2373e0\"></div>\n",
       "<script type=\"text/javascript\">\n",
       "  var VEGA_DEBUG = (typeof VEGA_DEBUG == \"undefined\") ? {} : VEGA_DEBUG;\n",
       "  (function(spec, embedOpt){\n",
       "    let outputDiv = document.currentScript.previousElementSibling;\n",
       "    if (outputDiv.id !== \"altair-viz-89bcd288b90d45eea2b001790f2373e0\") {\n",
       "      outputDiv = document.getElementById(\"altair-viz-89bcd288b90d45eea2b001790f2373e0\");\n",
       "    }\n",
       "    const paths = {\n",
       "      \"vega\": \"https://cdn.jsdelivr.net/npm//vega@5?noext\",\n",
       "      \"vega-lib\": \"https://cdn.jsdelivr.net/npm//vega-lib?noext\",\n",
       "      \"vega-lite\": \"https://cdn.jsdelivr.net/npm//vega-lite@4.17.0?noext\",\n",
       "      \"vega-embed\": \"https://cdn.jsdelivr.net/npm//vega-embed@6?noext\",\n",
       "    };\n",
       "\n",
       "    function maybeLoadScript(lib, version) {\n",
       "      var key = `${lib.replace(\"-\", \"\")}_version`;\n",
       "      return (VEGA_DEBUG[key] == version) ?\n",
       "        Promise.resolve(paths[lib]) :\n",
       "        new Promise(function(resolve, reject) {\n",
       "          var s = document.createElement('script');\n",
       "          document.getElementsByTagName(\"head\")[0].appendChild(s);\n",
       "          s.async = true;\n",
       "          s.onload = () => {\n",
       "            VEGA_DEBUG[key] = version;\n",
       "            return resolve(paths[lib]);\n",
       "          };\n",
       "          s.onerror = () => reject(`Error loading script: ${paths[lib]}`);\n",
       "          s.src = paths[lib];\n",
       "        });\n",
       "    }\n",
       "\n",
       "    function showError(err) {\n",
       "      outputDiv.innerHTML = `<div class=\"error\" style=\"color:red;\">${err}</div>`;\n",
       "      throw err;\n",
       "    }\n",
       "\n",
       "    function displayChart(vegaEmbed) {\n",
       "      vegaEmbed(outputDiv, spec, embedOpt)\n",
       "        .catch(err => showError(`Javascript Error: ${err.message}<br>This usually means there's a typo in your chart specification. See the javascript console for the full traceback.`));\n",
       "    }\n",
       "\n",
       "    if(typeof define === \"function\" && define.amd) {\n",
       "      requirejs.config({paths});\n",
       "      require([\"vega-embed\"], displayChart, err => showError(`Error loading script: ${err.message}`));\n",
       "    } else {\n",
       "      maybeLoadScript(\"vega\", \"5\")\n",
       "        .then(() => maybeLoadScript(\"vega-lite\", \"4.17.0\"))\n",
       "        .then(() => maybeLoadScript(\"vega-embed\", \"6\"))\n",
       "        .catch(showError)\n",
       "        .then(() => displayChart(vegaEmbed));\n",
       "    }\n",
       "  })({\"config\": {\"view\": {\"continuousWidth\": 400, \"continuousHeight\": 300}, \"axis\": {\"labelFontSize\": 16, \"titleFontSize\": 20}, \"headerRow\": {\"labelAlign\": \"left\", \"labelAngle\": 0, \"labelFontSize\": 16, \"labelPadding\": 10, \"titleFontSize\": 20}}, \"data\": {\"name\": \"data-8611f55f533cd563ff7ef1d3c258056f\"}, \"mark\": \"bar\", \"encoding\": {\"color\": {\"field\": \"model_name\", \"legend\": {\"labelFontSize\": 15, \"labelLimit\": 300, \"title\": \"Model Name\", \"titleFontSize\": 15, \"titleLimit\": 300}, \"scale\": {\"scheme\": \"tableau20\"}, \"type\": \"nominal\"}, \"row\": {\"field\": \"metric\", \"sort\": [\"Accuracy\", \"F1\", \"TPR\", \"TNR\", \"PPV\", \"Selection-Rate\"], \"title\": \"Accuracy Metrics\", \"type\": \"nominal\"}, \"x\": {\"axis\": {\"grid\": true}, \"field\": \"overall\", \"title\": \"\", \"type\": \"quantitative\"}, \"y\": {\"axis\": null, \"field\": \"model_name\", \"type\": \"nominal\"}}, \"height\": 50, \"width\": 500, \"$schema\": \"https://vega.github.io/schema/vega-lite/v4.17.0.json\", \"datasets\": {\"data-8611f55f533cd563ff7ef1d3c258056f\": [{\"overall\": 0.7955801104972375, \"metric\": \"Accuracy\", \"model_name\": \"GANDALFClassifier\"}, {\"overall\": 0.463768115942029, \"metric\": \"F1\", \"model_name\": \"GANDALFClassifier\"}, {\"overall\": 0.8, \"metric\": \"PPV\", \"model_name\": \"GANDALFClassifier\"}, {\"overall\": 0.1104972375690607, \"metric\": \"Selection-Rate\", \"model_name\": \"GANDALFClassifier\"}, {\"overall\": 0.9696969696969696, \"metric\": \"TNR\", \"model_name\": \"GANDALFClassifier\"}, {\"overall\": 0.3265306122448979, \"metric\": \"TPR\", \"model_name\": \"GANDALFClassifier\"}]}}, {\"mode\": \"vega-lite\"});\n",
       "</script>"
      ],
      "text/plain": [
       "alt.Chart(...)"
      ]
     },
     "execution_count": 19,
     "metadata": {},
     "output_type": "execute_result"
    }
   ],
   "execution_count": 19
  },
  {
   "cell_type": "code",
   "id": "0eb8528e",
   "metadata": {
    "ExecuteTime": {
     "end_time": "2024-09-14T11:24:11.836789Z",
     "start_time": "2024-09-14T11:24:11.787552Z"
    }
   },
   "source": [
    "visualizer.create_overall_metrics_bar_char(\n",
    "    metric_names=['Aleatoric_Uncertainty', 'Overall_Uncertainty', 'Label_Stability', 'Std', 'IQR', 'Jitter'],\n",
    "    plot_title=\"Stability and Uncertainty Metrics\"\n",
    ")"
   ],
   "outputs": [
    {
     "data": {
      "text/html": [
       "\n",
       "<div id=\"altair-viz-0fe2827ad57c4aa59b5997ba12d81154\"></div>\n",
       "<script type=\"text/javascript\">\n",
       "  var VEGA_DEBUG = (typeof VEGA_DEBUG == \"undefined\") ? {} : VEGA_DEBUG;\n",
       "  (function(spec, embedOpt){\n",
       "    let outputDiv = document.currentScript.previousElementSibling;\n",
       "    if (outputDiv.id !== \"altair-viz-0fe2827ad57c4aa59b5997ba12d81154\") {\n",
       "      outputDiv = document.getElementById(\"altair-viz-0fe2827ad57c4aa59b5997ba12d81154\");\n",
       "    }\n",
       "    const paths = {\n",
       "      \"vega\": \"https://cdn.jsdelivr.net/npm//vega@5?noext\",\n",
       "      \"vega-lib\": \"https://cdn.jsdelivr.net/npm//vega-lib?noext\",\n",
       "      \"vega-lite\": \"https://cdn.jsdelivr.net/npm//vega-lite@4.17.0?noext\",\n",
       "      \"vega-embed\": \"https://cdn.jsdelivr.net/npm//vega-embed@6?noext\",\n",
       "    };\n",
       "\n",
       "    function maybeLoadScript(lib, version) {\n",
       "      var key = `${lib.replace(\"-\", \"\")}_version`;\n",
       "      return (VEGA_DEBUG[key] == version) ?\n",
       "        Promise.resolve(paths[lib]) :\n",
       "        new Promise(function(resolve, reject) {\n",
       "          var s = document.createElement('script');\n",
       "          document.getElementsByTagName(\"head\")[0].appendChild(s);\n",
       "          s.async = true;\n",
       "          s.onload = () => {\n",
       "            VEGA_DEBUG[key] = version;\n",
       "            return resolve(paths[lib]);\n",
       "          };\n",
       "          s.onerror = () => reject(`Error loading script: ${paths[lib]}`);\n",
       "          s.src = paths[lib];\n",
       "        });\n",
       "    }\n",
       "\n",
       "    function showError(err) {\n",
       "      outputDiv.innerHTML = `<div class=\"error\" style=\"color:red;\">${err}</div>`;\n",
       "      throw err;\n",
       "    }\n",
       "\n",
       "    function displayChart(vegaEmbed) {\n",
       "      vegaEmbed(outputDiv, spec, embedOpt)\n",
       "        .catch(err => showError(`Javascript Error: ${err.message}<br>This usually means there's a typo in your chart specification. See the javascript console for the full traceback.`));\n",
       "    }\n",
       "\n",
       "    if(typeof define === \"function\" && define.amd) {\n",
       "      requirejs.config({paths});\n",
       "      require([\"vega-embed\"], displayChart, err => showError(`Error loading script: ${err.message}`));\n",
       "    } else {\n",
       "      maybeLoadScript(\"vega\", \"5\")\n",
       "        .then(() => maybeLoadScript(\"vega-lite\", \"4.17.0\"))\n",
       "        .then(() => maybeLoadScript(\"vega-embed\", \"6\"))\n",
       "        .catch(showError)\n",
       "        .then(() => displayChart(vegaEmbed));\n",
       "    }\n",
       "  })({\"config\": {\"view\": {\"continuousWidth\": 400, \"continuousHeight\": 300}, \"axis\": {\"labelFontSize\": 16, \"titleFontSize\": 20}, \"headerRow\": {\"labelAlign\": \"left\", \"labelAngle\": 0, \"labelFontSize\": 16, \"labelPadding\": 10, \"titleFontSize\": 20}}, \"data\": {\"name\": \"data-a2cb44dafe173bd3ac757d76e4486d5e\"}, \"mark\": \"bar\", \"encoding\": {\"color\": {\"field\": \"model_name\", \"legend\": {\"labelFontSize\": 15, \"labelLimit\": 300, \"title\": \"Model Name\", \"titleFontSize\": 15, \"titleLimit\": 300}, \"scale\": {\"scheme\": \"tableau20\"}, \"type\": \"nominal\"}, \"row\": {\"field\": \"metric\", \"sort\": [\"Aleatoric_Uncertainty\", \"Overall_Uncertainty\", \"Label_Stability\", \"Std\", \"IQR\", \"Jitter\"], \"title\": \"Stability and Uncertainty Metrics\", \"type\": \"nominal\"}, \"x\": {\"axis\": {\"grid\": true}, \"field\": \"overall\", \"title\": \"\", \"type\": \"quantitative\"}, \"y\": {\"axis\": null, \"field\": \"model_name\", \"type\": \"nominal\"}}, \"height\": 50, \"width\": 500, \"$schema\": \"https://vega.github.io/schema/vega-lite/v4.17.0.json\", \"datasets\": {\"data-a2cb44dafe173bd3ac757d76e4486d5e\": [{\"overall\": 0.6905769809997262, \"metric\": \"Aleatoric_Uncertainty\", \"model_name\": \"GANDALFClassifier\"}, {\"overall\": 0.1057059523541459, \"metric\": \"IQR\", \"model_name\": \"GANDALFClassifier\"}, {\"overall\": 0.1048496009821976, \"metric\": \"Jitter\", \"model_name\": \"GANDALFClassifier\"}, {\"overall\": 0.8519337016574585, \"metric\": \"Label_Stability\", \"model_name\": \"GANDALFClassifier\"}, {\"overall\": 0.7227704148489271, \"metric\": \"Overall_Uncertainty\", \"model_name\": \"GANDALFClassifier\"}, {\"overall\": 0.0861628467941982, \"metric\": \"Std\", \"model_name\": \"GANDALFClassifier\"}]}}, {\"mode\": \"vega-lite\"});\n",
       "</script>"
      ],
      "text/plain": [
       "alt.Chart(...)"
      ]
     },
     "execution_count": 20,
     "metadata": {},
     "output_type": "execute_result"
    }
   ],
   "execution_count": 20
  },
  {
   "cell_type": "code",
   "id": "df024aed",
   "metadata": {
    "ExecuteTime": {
     "end_time": "2024-09-14T11:24:12.074578Z",
     "start_time": "2024-09-14T11:24:11.860815Z"
    }
   },
   "source": [
    "visualizer.create_overall_metric_heatmap(\n",
    "    model_names=list(models_metrics_dct.keys()),\n",
    "    metrics_lst=visualizer.all_accuracy_metrics + visualizer.all_stability_metrics,\n",
    "    tolerance=0.005,\n",
    ")"
   ],
   "outputs": [
    {
     "data": {
      "text/plain": [
       "<Figure size 1400x600 with 2 Axes>"
      ],
      "image/png": "[encoded data removed]"
     },
     "metadata": {},
     "output_type": "display_data"
    }
   ],
   "execution_count": 21
  },
  {
   "cell_type": "code",
   "id": "2326c129",
   "metadata": {
    "ExecuteTime": {
     "end_time": "2024-09-14T11:24:12.278986Z",
     "start_time": "2024-09-14T11:24:12.125253Z"
    }
   },
   "source": [
    "visualizer.create_disparity_metric_heatmap(\n",
    "    model_names=list(models_metrics_dct.keys()),\n",
    "    metrics_lst=[\n",
    "        # Error disparity metrics\n",
    "        'Equalized_Odds_TPR',\n",
    "        'Equalized_Odds_FPR',\n",
    "        'Disparate_Impact',\n",
    "        # Stability disparity metrics\n",
    "        'Label_Stability_Difference',\n",
    "        'Aleatoric_Uncertainty_Difference',\n",
    "        'Std_Ratio',\n",
    "    ],\n",
    "    groups_lst=config.sensitive_attributes_dct.keys(),\n",
    "    tolerance=0.005,\n",
    ")"
   ],
   "outputs": [
    {
     "data": {
      "text/plain": [
       "<Figure size 1400x300 with 2 Axes>"
      ],
      "image/png": "[encoded data removed]"
     },
     "metadata": {},
     "output_type": "display_data"
    }
   ],
   "execution_count": 22
  },
  {
   "cell_type": "code",
   "source": [],
   "metadata": {
    "collapsed": false,
    "ExecuteTime": {
     "end_time": "2024-09-14T11:24:12.303721Z",
     "start_time": "2024-09-14T11:24:12.301931Z"
    }
   },
   "id": "a6ebe5c2fae387cb",
   "outputs": [],
   "execution_count": null
  }
 ],
 "metadata": {
  "kernelspec": {
   "display_name": "Python 3 (ipykernel)",
   "language": "python",
   "name": "python3"
  },
  "language_info": {
   "codemirror_mode": {
    "name": "ipython",
    "version": 3
   },
   "file_extension": ".py",
   "mimetype": "text/x-python",
   "name": "python",
   "nbconvert_exporter": "python",
   "pygments_lexer": "ipython3",
   "version": "3.8.10"
  }
 },
 "nbformat": 4,
 "nbformat_minor": 5
}
