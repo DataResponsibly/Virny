{
 "cells": [
  {
   "cell_type": "code",
   "execution_count": 1,
   "id": "248cbed8",
   "metadata": {
    "ExecuteTime": {
     "end_time": "2024-01-18T10:04:59.031106Z",
     "start_time": "2024-01-18T10:04:58.512331Z"
    }
   },
   "outputs": [],
   "source": [
    "%matplotlib inline\n",
    "%load_ext autoreload\n",
    "%autoreload 2"
   ]
  },
  {
   "cell_type": "code",
   "execution_count": 2,
   "id": "7ec6cd08",
   "metadata": {
    "ExecuteTime": {
     "end_time": "2024-01-18T10:04:59.036715Z",
     "start_time": "2024-01-18T10:04:59.025676Z"
    }
   },
   "outputs": [],
   "source": [
    "import os\n",
    "import warnings\n",
    "warnings.filterwarnings('ignore')\n",
    "os.environ[\"PYTHONWARNINGS\"] = \"ignore\""
   ]
  },
  {
   "cell_type": "code",
   "execution_count": 3,
   "id": "b8cb69f2",
   "metadata": {
    "ExecuteTime": {
     "end_time": "2024-01-18T10:04:59.043460Z",
     "start_time": "2024-01-18T10:04:59.034633Z"
    }
   },
   "outputs": [
    {
     "name": "stdout",
     "output_type": "stream",
     "text": [
      "Current location:  /Users/denys_herasymuk/UCU/4course_2term/Bachelor_Thesis/Code/Virny\n"
     ]
    }
   ],
   "source": [
    "cur_folder_name = os.getcwd().split('/')[-1]\n",
    "if cur_folder_name != \"Virny\":\n",
    "    os.chdir(\"../..\")\n",
    "\n",
    "print('Current location: ', os.getcwd())"
   ]
  },
  {
   "cell_type": "markdown",
   "id": "a578f2ab",
   "metadata": {},
   "source": [
    "# Multiple Models Interface With Inprocessor"
   ]
  },
  {
   "cell_type": "markdown",
   "id": "2251a923",
   "metadata": {},
   "source": [
    "In this example, we are going to audit one inprocessor from AIF360 for stability and fairness, visualize metrics, and create an analysis report. For that, we will use `compute_metrics_with_config` interface that can compute metrics for multiple models. Thus, we will need to do the next steps:\n",
    "\n",
    "* Initialize input variables\n",
    "\n",
    "* Compute subgroup metrics\n",
    "\n",
    "* Make group metrics composition\n",
    "\n",
    "* Create metrics visualizations and an analysis report"
   ]
  },
  {
   "cell_type": "markdown",
   "id": "606df34d",
   "metadata": {},
   "source": [
    "## Import dependencies"
   ]
  },
  {
   "cell_type": "code",
   "execution_count": 4,
   "id": "7a9241de",
   "metadata": {
    "ExecuteTime": {
     "end_time": "2024-01-18T10:05:01.354081Z",
     "start_time": "2024-01-18T10:04:59.044140Z"
    }
   },
   "outputs": [
    {
     "name": "stderr",
     "output_type": "stream",
     "text": [
      "WARNING:root:No module named 'tempeh': LawSchoolGPADataset will be unavailable. To install, run:\n",
      "pip install 'aif360[LawSchoolGPA]'\n"
     ]
    }
   ],
   "source": [
    "import os\n",
    "from pprint import pprint\n",
    "from datetime import datetime, timezone\n",
    "\n",
    "from sklearn.linear_model import LogisticRegression\n",
    "\n",
    "from sklearn.compose import ColumnTransformer\n",
    "from sklearn.preprocessing import OneHotEncoder\n",
    "from sklearn.preprocessing import StandardScaler\n",
    "\n",
    "from virny.utils.custom_initializers import create_config_obj, read_model_metric_dfs\n",
    "from virny.user_interfaces.multiple_models_api import compute_metrics_with_config\n",
    "from virny.preprocessing.basic_preprocessing import preprocess_dataset\n",
    "from virny.custom_classes.metrics_visualizer import MetricsVisualizer\n",
    "from virny.custom_classes.metrics_composer import MetricsComposer"
   ]
  },
  {
   "cell_type": "markdown",
   "id": "75699f5f",
   "metadata": {},
   "source": [
    "## Initialize Input Variables"
   ]
  },
  {
   "cell_type": "markdown",
   "id": "e86f6556",
   "metadata": {},
   "source": [
    "Based on the library flow, we need to create 3 input objects for a user interface:\n",
    "\n",
    "* A **config yaml** that is a file with configuration parameters for different user interfaces for metrics computation.\n",
    "\n",
    "* A **dataset class** that is a wrapper above the user’s raw dataset that includes its descriptive attributes like a target column, numerical columns, categorical columns, etc. This class must be inherited from the BaseDataset class, which was created for user convenience.\n",
    "\n",
    "* Finally, a **models config** that is a Python dictionary, where keys are model names and values are initialized models for analysis. This dictionary helps conduct audits for different analysis modes and analyze different types of models."
   ]
  },
  {
   "cell_type": "code",
   "execution_count": 5,
   "outputs": [],
   "source": [
    "DATASET_SPLIT_SEED = 42\n",
    "MODELS_TUNING_SEED = 42\n",
    "TEST_SET_FRACTION = 0.2"
   ],
   "metadata": {
    "collapsed": false,
    "ExecuteTime": {
     "end_time": "2024-01-18T10:05:01.373540Z",
     "start_time": "2024-01-18T10:05:01.354706Z"
    }
   },
   "id": "ce359a052925eb3a"
  },
  {
   "cell_type": "markdown",
   "source": [
    "### Create a config object"
   ],
   "metadata": {
    "collapsed": false
   },
   "id": "1090a686532d96f5"
  },
  {
   "cell_type": "markdown",
   "source": [
    "`compute_metrics_with_config` interface requires that your **yaml file** includes the following parameters:\n",
    "\n",
    "* **dataset_name**: str, a name of your dataset; it will be used to name files with metrics.\n",
    "\n",
    "* **bootstrap_fraction**: float, the fraction from a train set in the range [0.0 - 1.0] to fit models in bootstrap (usually more than 0.5).\n",
    "\n",
    "* **n_estimators**: int, the number of estimators for bootstrap to compute subgroup stability metrics.\n",
    "\n",
    "* **sensitive_attributes_dct**: dict, a dictionary where keys are sensitive attribute names (including intersectional attributes), and values are disadvantaged values for these attributes. Intersectional attributes must include '&' between sensitive attributes. You do not need to specify disadvantaged values for intersectional groups since they will be derived from disadvantaged values in sensitive_attributes_dct for each separate sensitive attribute in this intersectional pair."
   ],
   "metadata": {
    "collapsed": false
   },
   "id": "d0a03b8f5c5d0ea7"
  },
  {
   "cell_type": "code",
   "execution_count": 6,
   "outputs": [],
   "source": [
    "ROOT_DIR = os.path.join('docs', 'examples')\n",
    "config_yaml_path = os.path.join(ROOT_DIR, 'experiment_config.yaml')\n",
    "config_yaml_content = \"\"\"\n",
    "dataset_name: Law_School\n",
    "bootstrap_fraction: 0.8\n",
    "computation_mode: error_analysis\n",
    "n_estimators: 30  # Better to input the higher number of estimators than 100; this is only for this use case example\n",
    "sensitive_attributes_dct: {'male': '0.0', 'race': 'Non-White', 'male&race': None}\n",
    "\"\"\"\n",
    "\n",
    "with open(config_yaml_path, 'w', encoding='utf-8') as f:\n",
    "    f.write(config_yaml_content)"
   ],
   "metadata": {
    "collapsed": false,
    "ExecuteTime": {
     "end_time": "2024-01-18T10:05:01.396384Z",
     "start_time": "2024-01-18T10:05:01.374500Z"
    }
   },
   "id": "af22ee06f1e3eb1a"
  },
  {
   "cell_type": "code",
   "execution_count": 7,
   "outputs": [],
   "source": [
    "config = create_config_obj(config_yaml_path=config_yaml_path)\n",
    "SAVE_RESULTS_DIR_PATH = os.path.join(ROOT_DIR, 'results', f'{config.dataset_name}_Metrics_{datetime.now(timezone.utc).strftime(\"%Y%m%d__%H%M%S\")}')"
   ],
   "metadata": {
    "collapsed": false,
    "ExecuteTime": {
     "end_time": "2024-01-18T10:05:01.416377Z",
     "start_time": "2024-01-18T10:05:01.396569Z"
    }
   },
   "id": "65181f72484bb92b"
  },
  {
   "cell_type": "markdown",
   "id": "74f57422",
   "metadata": {},
   "source": [
    "### Preprocess the dataset and create a BaseFlowDataset class"
   ]
  },
  {
   "cell_type": "code",
   "execution_count": 8,
   "id": "6c55c6a0",
   "metadata": {
    "ExecuteTime": {
     "end_time": "2024-01-18T10:05:01.547902Z",
     "start_time": "2024-01-18T10:05:01.417066Z"
    }
   },
   "outputs": [
    {
     "data": {
      "text/plain": "   decile1b  decile3  lsat  ugpa  zfygpa\n0      10.0     10.0  44.0   3.5    1.33\n1       5.0      4.0  29.0   3.5   -0.11\n2       8.0      7.0  37.0   3.4    0.63\n3       8.0      7.0  43.0   3.3    0.67\n4       3.0      2.0  41.0   3.3   -0.67",
      "text/html": "<div>\n<style scoped>\n    .dataframe tbody tr th:only-of-type {\n        vertical-align: middle;\n    }\n\n    .dataframe tbody tr th {\n        vertical-align: top;\n    }\n\n    .dataframe thead th {\n        text-align: right;\n    }\n</style>\n<table border=\"1\" class=\"dataframe\">\n  <thead>\n    <tr style=\"text-align: right;\">\n      <th></th>\n      <th>decile1b</th>\n      <th>decile3</th>\n      <th>lsat</th>\n      <th>ugpa</th>\n      <th>zfygpa</th>\n    </tr>\n  </thead>\n  <tbody>\n    <tr>\n      <th>0</th>\n      <td>10.0</td>\n      <td>10.0</td>\n      <td>44.0</td>\n      <td>3.5</td>\n      <td>1.33</td>\n    </tr>\n    <tr>\n      <th>1</th>\n      <td>5.0</td>\n      <td>4.0</td>\n      <td>29.0</td>\n      <td>3.5</td>\n      <td>-0.11</td>\n    </tr>\n    <tr>\n      <th>2</th>\n      <td>8.0</td>\n      <td>7.0</td>\n      <td>37.0</td>\n      <td>3.4</td>\n      <td>0.63</td>\n    </tr>\n    <tr>\n      <th>3</th>\n      <td>8.0</td>\n      <td>7.0</td>\n      <td>43.0</td>\n      <td>3.3</td>\n      <td>0.67</td>\n    </tr>\n    <tr>\n      <th>4</th>\n      <td>3.0</td>\n      <td>2.0</td>\n      <td>41.0</td>\n      <td>3.3</td>\n      <td>-0.67</td>\n    </tr>\n  </tbody>\n</table>\n</div>"
     },
     "execution_count": 8,
     "metadata": {},
     "output_type": "execute_result"
    }
   ],
   "source": [
    "from virny.datasets.data_loaders import LawSchoolDataset\n",
    "\n",
    "data_loader = LawSchoolDataset()\n",
    "data_loader.X_data[data_loader.X_data.columns[:5]].head()"
   ]
  },
  {
   "cell_type": "code",
   "execution_count": 9,
   "outputs": [],
   "source": [
    "column_transformer = ColumnTransformer(transformers=[\n",
    "    ('categorical_features', OneHotEncoder(handle_unknown='ignore', sparse=False), data_loader.categorical_columns),\n",
    "    ('numerical_features', StandardScaler(), data_loader.numerical_columns),\n",
    "])"
   ],
   "metadata": {
    "collapsed": false,
    "ExecuteTime": {
     "end_time": "2024-01-18T10:05:01.548096Z",
     "start_time": "2024-01-18T10:05:01.538873Z"
    }
   },
   "id": "ebbef5eaf9dc0943"
  },
  {
   "cell_type": "code",
   "execution_count": 10,
   "outputs": [],
   "source": [
    "# Create a binary race column for in-processing since aif360 inprocessors use a sensitive attribute during their learning.\n",
    "data_loader.X_data['race_binary'] = data_loader.X_data['race'].apply(lambda x: 1 if x == 'White' else 0)\n",
    "\n",
    "base_flow_dataset = preprocess_dataset(data_loader, column_transformer, TEST_SET_FRACTION, DATASET_SPLIT_SEED)\n",
    "base_flow_dataset.X_train_val['race_binary'] = data_loader.X_data.loc[base_flow_dataset.X_train_val.index, 'race_binary']\n",
    "base_flow_dataset.X_test['race_binary'] = data_loader.X_data.loc[base_flow_dataset.X_test.index, 'race_binary']"
   ],
   "metadata": {
    "collapsed": false,
    "ExecuteTime": {
     "end_time": "2024-01-18T10:05:01.643360Z",
     "start_time": "2024-01-18T10:05:01.540637Z"
    }
   },
   "id": "97ed4609effbf53f"
  },
  {
   "cell_type": "markdown",
   "source": [
    "### Define an inprocessor and create a wrapper for it"
   ],
   "metadata": {
    "collapsed": false
   },
   "id": "c6861288861f3350"
  },
  {
   "cell_type": "markdown",
   "source": [
    "To use inprocessors from AIF360 together with Virny, we need to create a wrapper to use it as a basic model in the _models_config_.\n",
    "\n",
    "A wrapper should include the following methods:\n",
    "* **fit(self, X, y)**: fits an inprocessor based on X and y pandas dataframes. Returns self.\n",
    "* **predict_proba(self, X)**: predicts using the fitted inprocessor based on X features pandas dataframe. Returns probabilities for **ZERO** class. These probabilities will be used by Virny in the downstream metric computation.\n",
    "* **predict(self, X)**: predicts using the fitted inprocessor based on X features pandas dataframe. Returns labels for each sample.\n",
    "* **__copy__(self)** and **__deepcopy__(self, memo)**: methods, which will be used during copy.copy(inprocessor_wrapper) and copy.deepcopy(inprocessor_wrapper). Return a new instance of inprocessor's wrapper.\n",
    "* **get_params(self)**: returns parameters of the wrapper. Alignment with sklearn API."
   ],
   "metadata": {
    "collapsed": false
   },
   "id": "53de71883f66afd0"
  },
  {
   "cell_type": "code",
   "execution_count": 24,
   "outputs": [],
   "source": [
    "import copy\n",
    "import numpy as np\n",
    "\n",
    "from aif360.algorithms.inprocessing import ExponentiatedGradientReduction\n",
    "from virny.custom_classes.base_inprocessing_wrapper import BaseInprocessingWrapper\n",
    "from virny.utils.postprocessing_intervention_utils import construct_binary_label_dataset_from_df\n",
    "\n",
    "\n",
    "class ExpGradientReductionWrapper(BaseInprocessingWrapper):\n",
    "    \"\"\"\n",
    "    A wrapper for fair inprocessors from aif360. The wrapper aligns fit, predict, and predict_proba methods\n",
    "    to be compatible with sklearn models.\n",
    "\n",
    "    Parameters\n",
    "    ----------\n",
    "    inprocessor\n",
    "        An initialized inprocessor from aif360.\n",
    "    sensitive_attr_for_intervention\n",
    "        A sensitive attribute name to use in the fairness in-processing intervention.\n",
    "\n",
    "    \"\"\"\n",
    "\n",
    "    def __init__(self, inprocessor, sensitive_attr_for_intervention):\n",
    "        self.sensitive_attr_for_intervention = sensitive_attr_for_intervention\n",
    "        self.inprocessor = inprocessor\n",
    "\n",
    "    def fit(self, X, y):\n",
    "        train_binary_dataset = construct_binary_label_dataset_from_df(X_sample=X,\n",
    "                                                                      y_sample=y,\n",
    "                                                                      target_column='target',\n",
    "                                                                      sensitive_attribute=self.sensitive_attr_for_intervention)\n",
    "        # Fit an inprocessor\n",
    "        self.inprocessor.fit(train_binary_dataset)\n",
    "        return self\n",
    "\n",
    "    def predict_proba(self, X):\n",
    "        y_empty = np.zeros(X.shape[0])\n",
    "        test_binary_dataset = construct_binary_label_dataset_from_df(X_sample=X,\n",
    "                                                                     y_sample=y_empty,\n",
    "                                                                     target_column='target',\n",
    "                                                                     sensitive_attribute=self.sensitive_attr_for_intervention)\n",
    "        test_dataset_pred = self.inprocessor.predict(test_binary_dataset)\n",
    "        # Set 1.0 since ExponentiatedGradientReduction can return probabilities slightly higher than 1.0.\n",
    "        # This can cause Infinity values for entropy.\n",
    "        test_dataset_pred.scores[test_dataset_pred.scores > 1.0] = 1.0\n",
    "        # Return 1 - test_dataset_pred.scores since scores are probabilities for label 1, not for label 0\n",
    "        return 1 - test_dataset_pred.scores\n",
    "\n",
    "    def predict(self, X):\n",
    "        y_empty = np.zeros(shape=X.shape[0])\n",
    "        test_binary_dataset = construct_binary_label_dataset_from_df(X_sample=X,\n",
    "                                                                     y_sample=y_empty,\n",
    "                                                                     target_column='target',\n",
    "                                                                     sensitive_attribute=self.sensitive_attr_for_intervention)\n",
    "        test_dataset_pred = self.inprocessor.predict(test_binary_dataset)\n",
    "        return test_dataset_pred.labels\n",
    "\n",
    "    def __copy__(self):\n",
    "        new_inprocessor = copy.copy(self.inprocessor)\n",
    "        return ExpGradientReductionWrapper(inprocessor=new_inprocessor,\n",
    "                                           sensitive_attr_for_intervention=self.sensitive_attr_for_intervention)\n",
    "\n",
    "    def __deepcopy__(self, memo):\n",
    "        new_inprocessor = copy.deepcopy(self.inprocessor)\n",
    "        return ExpGradientReductionWrapper(inprocessor=new_inprocessor,\n",
    "                                           sensitive_attr_for_intervention=self.sensitive_attr_for_intervention)\n",
    "\n",
    "    def get_params(self):\n",
    "        return {'sensitive_attr_for_intervention': self.sensitive_attr_for_intervention}\n"
   ],
   "metadata": {
    "collapsed": false,
    "ExecuteTime": {
     "end_time": "2024-01-18T10:07:39.529998Z",
     "start_time": "2024-01-18T10:07:39.463232Z"
    }
   },
   "id": "4535191384245578"
  },
  {
   "cell_type": "code",
   "execution_count": 25,
   "outputs": [],
   "source": [
    "# Define a name of a sensitive attribute for the in-processing intervention.\n",
    "# Note that in the above wrapper, 1 is used as a favorable label, and 0 is used as an unfavorable label.\n",
    "sensitive_attr_for_intervention = 'race_binary'\n",
    "\n",
    "# Define an inprocessor\n",
    "estimator = LogisticRegression(solver='lbfgs', max_iter=1000)\n",
    "inprocessor = ExponentiatedGradientReduction(estimator=estimator,\n",
    "                                             constraints='DemographicParity',\n",
    "                                             drop_prot_attr=True)\n",
    "\n",
    "models_config = {\n",
    "    'ExponentiatedGradientReduction': ExpGradientReductionWrapper(inprocessor=inprocessor, \n",
    "                                                                  sensitive_attr_for_intervention=sensitive_attr_for_intervention)\n",
    "}"
   ],
   "metadata": {
    "collapsed": false,
    "ExecuteTime": {
     "end_time": "2024-01-18T10:07:40.751844Z",
     "start_time": "2024-01-18T10:07:40.706743Z"
    }
   },
   "id": "bd1ee45da7516769"
  },
  {
   "cell_type": "markdown",
   "id": "f445b64a",
   "metadata": {},
   "source": [
    "## Subgroup Metrics Computation"
   ]
  },
  {
   "cell_type": "markdown",
   "id": "c3530f06",
   "metadata": {},
   "source": [
    "After the variables are input to a user interface, the interface uses subgroup analyzers to compute different sets of metrics for each privileged and disadvantaged subgroup. As for now, our library supports **Subgroup Variance Analyzer** and **Subgroup Error Analyzer**, but it is easily extensible to any other analyzers. When the variance and error analyzers complete metrics computation, their metrics are combined, returned in a matrix format, and stored in a file if defined."
   ]
  },
  {
   "cell_type": "code",
   "execution_count": 13,
   "id": "197eadaa",
   "metadata": {
    "ExecuteTime": {
     "end_time": "2024-01-18T10:06:23.956618Z",
     "start_time": "2024-01-18T10:05:04.851490Z"
    }
   },
   "outputs": [
    {
     "data": {
      "text/plain": "Analyze multiple models:   0%|          | 0/1 [00:00<?, ?it/s]",
      "application/vnd.jupyter.widget-view+json": {
       "version_major": 2,
       "version_minor": 0,
       "model_id": "10b44fd248c54f4181c36460899457a9"
      }
     },
     "metadata": {},
     "output_type": "display_data"
    },
    {
     "data": {
      "text/plain": "Classifiers testing by bootstrap:   0%|          | 0/30 [00:00<?, ?it/s]",
      "application/vnd.jupyter.widget-view+json": {
       "version_major": 2,
       "version_minor": 0,
       "model_id": "876cec3f9a974b458a3d3e62c2184915"
      }
     },
     "metadata": {},
     "output_type": "display_data"
    }
   ],
   "source": [
    "metrics_dct = compute_metrics_with_config(dataset=base_flow_dataset,\n",
    "                                          config=config,\n",
    "                                          models_config=models_config,\n",
    "                                          save_results_dir_path=SAVE_RESULTS_DIR_PATH,\n",
    "                                          notebook_logs_stdout=True)"
   ]
  },
  {
   "cell_type": "markdown",
   "id": "d6a8625a",
   "metadata": {},
   "source": [
    "Look at several columns in top rows of computed metrics"
   ]
  },
  {
   "cell_type": "code",
   "execution_count": 14,
   "id": "bea94683",
   "metadata": {
    "ExecuteTime": {
     "end_time": "2024-01-18T10:06:24.000881Z",
     "start_time": "2024-01-18T10:06:23.958097Z"
    }
   },
   "outputs": [
    {
     "data": {
      "text/plain": "                   Metric      overall    male_priv  male_priv_correct  \\\n0                     Std     0.010754     0.009248           0.005442   \n1                     IQR     0.011812     0.010275           0.006811   \n2         Mean_Prediction     0.024874     0.022293           0.014474   \n3     Overall_Uncertainty     0.024440     0.020417           0.012212   \n4   Aleatoric_Uncertainty     0.009367     0.007112           0.004255   \n5        Statistical_Bias     0.098595     0.089850           0.003912   \n6   Epistemic_Uncertainty     0.015073     0.013305           0.007957   \n7                  Jitter     0.009843     0.008588           0.005536   \n8         Label_Stability     0.986587     0.988232           0.992273   \n9                     TPR     0.989807     0.989767           1.000000   \n10                    TNR     0.138889     0.133028           1.000000   \n11                    PPV     0.908419     0.918429           1.000000   \n12                    FNR     0.010193     0.010233           0.000000   \n13                    FPR     0.861111     0.866972           0.000000   \n14               Accuracy     0.901442     0.910895           1.000000   \n15                     F1     0.947368     0.952765           1.000000   \n16         Selection-Rate     0.976442     0.978463           0.986555   \n17          Positive-Rate     1.089592     1.077674           1.000000   \n18            Sample_Size  4160.000000  2368.000000        2157.000000   \n\n    male_priv_incorrect     male_dis  \n0              0.048157     0.012742  \n1              0.045689     0.013844  \n2              0.102233     0.028284  \n3              0.104294     0.029756  \n4              0.036311     0.012347  \n5              0.968374     0.110150  \n6              0.067982     0.017409  \n7              0.039789     0.011501  \n8              0.946919     0.984412  \n9              0.000000     0.989861  \n10             0.000000     0.144860  \n11             0.000000     0.895129  \n12             1.000000     0.010139  \n13             1.000000     0.855140  \n14             0.000000     0.888951  \n15             0.000000     0.940114  \n16             0.895735     0.973772  \n17             8.590909     1.105830  \n18           211.000000  1792.000000  ",
      "text/html": "<div>\n<style scoped>\n    .dataframe tbody tr th:only-of-type {\n        vertical-align: middle;\n    }\n\n    .dataframe tbody tr th {\n        vertical-align: top;\n    }\n\n    .dataframe thead th {\n        text-align: right;\n    }\n</style>\n<table border=\"1\" class=\"dataframe\">\n  <thead>\n    <tr style=\"text-align: right;\">\n      <th></th>\n      <th>Metric</th>\n      <th>overall</th>\n      <th>male_priv</th>\n      <th>male_priv_correct</th>\n      <th>male_priv_incorrect</th>\n      <th>male_dis</th>\n    </tr>\n  </thead>\n  <tbody>\n    <tr>\n      <th>0</th>\n      <td>Std</td>\n      <td>0.010754</td>\n      <td>0.009248</td>\n      <td>0.005442</td>\n      <td>0.048157</td>\n      <td>0.012742</td>\n    </tr>\n    <tr>\n      <th>1</th>\n      <td>IQR</td>\n      <td>0.011812</td>\n      <td>0.010275</td>\n      <td>0.006811</td>\n      <td>0.045689</td>\n      <td>0.013844</td>\n    </tr>\n    <tr>\n      <th>2</th>\n      <td>Mean_Prediction</td>\n      <td>0.024874</td>\n      <td>0.022293</td>\n      <td>0.014474</td>\n      <td>0.102233</td>\n      <td>0.028284</td>\n    </tr>\n    <tr>\n      <th>3</th>\n      <td>Overall_Uncertainty</td>\n      <td>0.024440</td>\n      <td>0.020417</td>\n      <td>0.012212</td>\n      <td>0.104294</td>\n      <td>0.029756</td>\n    </tr>\n    <tr>\n      <th>4</th>\n      <td>Aleatoric_Uncertainty</td>\n      <td>0.009367</td>\n      <td>0.007112</td>\n      <td>0.004255</td>\n      <td>0.036311</td>\n      <td>0.012347</td>\n    </tr>\n    <tr>\n      <th>5</th>\n      <td>Statistical_Bias</td>\n      <td>0.098595</td>\n      <td>0.089850</td>\n      <td>0.003912</td>\n      <td>0.968374</td>\n      <td>0.110150</td>\n    </tr>\n    <tr>\n      <th>6</th>\n      <td>Epistemic_Uncertainty</td>\n      <td>0.015073</td>\n      <td>0.013305</td>\n      <td>0.007957</td>\n      <td>0.067982</td>\n      <td>0.017409</td>\n    </tr>\n    <tr>\n      <th>7</th>\n      <td>Jitter</td>\n      <td>0.009843</td>\n      <td>0.008588</td>\n      <td>0.005536</td>\n      <td>0.039789</td>\n      <td>0.011501</td>\n    </tr>\n    <tr>\n      <th>8</th>\n      <td>Label_Stability</td>\n      <td>0.986587</td>\n      <td>0.988232</td>\n      <td>0.992273</td>\n      <td>0.946919</td>\n      <td>0.984412</td>\n    </tr>\n    <tr>\n      <th>9</th>\n      <td>TPR</td>\n      <td>0.989807</td>\n      <td>0.989767</td>\n      <td>1.000000</td>\n      <td>0.000000</td>\n      <td>0.989861</td>\n    </tr>\n    <tr>\n      <th>10</th>\n      <td>TNR</td>\n      <td>0.138889</td>\n      <td>0.133028</td>\n      <td>1.000000</td>\n      <td>0.000000</td>\n      <td>0.144860</td>\n    </tr>\n    <tr>\n      <th>11</th>\n      <td>PPV</td>\n      <td>0.908419</td>\n      <td>0.918429</td>\n      <td>1.000000</td>\n      <td>0.000000</td>\n      <td>0.895129</td>\n    </tr>\n    <tr>\n      <th>12</th>\n      <td>FNR</td>\n      <td>0.010193</td>\n      <td>0.010233</td>\n      <td>0.000000</td>\n      <td>1.000000</td>\n      <td>0.010139</td>\n    </tr>\n    <tr>\n      <th>13</th>\n      <td>FPR</td>\n      <td>0.861111</td>\n      <td>0.866972</td>\n      <td>0.000000</td>\n      <td>1.000000</td>\n      <td>0.855140</td>\n    </tr>\n    <tr>\n      <th>14</th>\n      <td>Accuracy</td>\n      <td>0.901442</td>\n      <td>0.910895</td>\n      <td>1.000000</td>\n      <td>0.000000</td>\n      <td>0.888951</td>\n    </tr>\n    <tr>\n      <th>15</th>\n      <td>F1</td>\n      <td>0.947368</td>\n      <td>0.952765</td>\n      <td>1.000000</td>\n      <td>0.000000</td>\n      <td>0.940114</td>\n    </tr>\n    <tr>\n      <th>16</th>\n      <td>Selection-Rate</td>\n      <td>0.976442</td>\n      <td>0.978463</td>\n      <td>0.986555</td>\n      <td>0.895735</td>\n      <td>0.973772</td>\n    </tr>\n    <tr>\n      <th>17</th>\n      <td>Positive-Rate</td>\n      <td>1.089592</td>\n      <td>1.077674</td>\n      <td>1.000000</td>\n      <td>8.590909</td>\n      <td>1.105830</td>\n    </tr>\n    <tr>\n      <th>18</th>\n      <td>Sample_Size</td>\n      <td>4160.000000</td>\n      <td>2368.000000</td>\n      <td>2157.000000</td>\n      <td>211.000000</td>\n      <td>1792.000000</td>\n    </tr>\n  </tbody>\n</table>\n</div>"
     },
     "execution_count": 14,
     "metadata": {},
     "output_type": "execute_result"
    }
   ],
   "source": [
    "sample_model_metrics_df = metrics_dct[list(models_config.keys())[0]]\n",
    "sample_model_metrics_df[sample_model_metrics_df.columns[:6]].head(20)"
   ]
  },
  {
   "cell_type": "markdown",
   "id": "a7ff67e9",
   "metadata": {},
   "source": [
    "## Group Metrics Composition"
   ]
  },
  {
   "cell_type": "markdown",
   "id": "274c97e2",
   "metadata": {},
   "source": [
    "**Metrics Composer** is responsible for this second stage of the model audit. Currently, it computes our custom group fairness and stability metrics, but extending it for new group metrics is very simple. We noticed that more and more group metrics have appeared during the last decade, but most of them are based on the same subgroup metrics. Hence, such a separation of subgroup and group metrics computation allows one to experiment with different combinations of subgroup metrics and avoid subgroup metrics recomputation for a new set of grouped metrics."
   ]
  },
  {
   "cell_type": "code",
   "execution_count": 15,
   "id": "f94a20dc",
   "metadata": {
    "ExecuteTime": {
     "end_time": "2024-01-18T10:06:24.067409Z",
     "start_time": "2024-01-18T10:06:24.000384Z"
    }
   },
   "outputs": [],
   "source": [
    "models_metrics_dct = read_model_metric_dfs(SAVE_RESULTS_DIR_PATH, model_names=list(models_config.keys()))"
   ]
  },
  {
   "cell_type": "code",
   "execution_count": 16,
   "id": "b04d06cf",
   "metadata": {
    "ExecuteTime": {
     "end_time": "2024-01-18T10:06:24.124057Z",
     "start_time": "2024-01-18T10:06:24.037510Z"
    }
   },
   "outputs": [],
   "source": [
    "metrics_composer = MetricsComposer(models_metrics_dct, config.sensitive_attributes_dct)"
   ]
  },
  {
   "cell_type": "markdown",
   "id": "e1a23ece",
   "metadata": {},
   "source": [
    "Compute composed metrics"
   ]
  },
  {
   "cell_type": "code",
   "execution_count": 17,
   "id": "be6ace22",
   "metadata": {
    "ExecuteTime": {
     "end_time": "2024-01-18T10:06:24.127827Z",
     "start_time": "2024-01-18T10:06:24.072243Z"
    }
   },
   "outputs": [],
   "source": [
    "models_composed_metrics_df = metrics_composer.compose_metrics()"
   ]
  },
  {
   "cell_type": "code",
   "execution_count": 18,
   "outputs": [
    {
     "data": {
      "text/plain": "                           Metric      male      race  male&race  \\\n0                 Accuracy_Parity -0.021944 -0.179603  -0.159554   \n1    Aleatoric_Uncertainty_Parity  0.005235  0.034924   0.041620   \n2     Aleatoric_Uncertainty_Ratio  1.736181  9.635121   7.862084   \n3    Epistemic_Uncertainty_Parity  0.004104  0.013899   0.019680   \n4     Epistemic_Uncertainty_Ratio  1.308413  2.072889   2.456499   \n5              Equalized_Odds_FNR -0.000093  0.000639   0.002249   \n6              Equalized_Odds_FPR -0.011832  0.082345   0.057266   \n7                      IQR_Parity  0.003570  0.021962   0.026651   \n8                   Jitter_Parity  0.002913  0.014650   0.017267   \n9           Label_Stability_Ratio  0.996135  0.980762   0.977664   \n10     Label_Stability_Difference -0.003820 -0.019035  -0.022075   \n11     Overall_Uncertainty_Parity  0.009339  0.048823   0.061300   \n12      Overall_Uncertainty_Ratio  1.457412  3.872052   4.131209   \n13               Disparate_Impact  1.026126  1.249583   1.216912   \n14  Statistical_Parity_Difference -0.004691 -0.009424  -0.010618   \n15                     Std_Parity  0.003494  0.014627   0.019423   \n16                      Std_Ratio  1.377790  2.715834   3.108272   \n17             Equalized_Odds_TNR  0.011832 -0.082345  -0.057266   \n18             Equalized_Odds_TPR  0.000093 -0.000639  -0.002249   \n\n                        Model_Name  \n0   ExponentiatedGradientReduction  \n1   ExponentiatedGradientReduction  \n2   ExponentiatedGradientReduction  \n3   ExponentiatedGradientReduction  \n4   ExponentiatedGradientReduction  \n5   ExponentiatedGradientReduction  \n6   ExponentiatedGradientReduction  \n7   ExponentiatedGradientReduction  \n8   ExponentiatedGradientReduction  \n9   ExponentiatedGradientReduction  \n10  ExponentiatedGradientReduction  \n11  ExponentiatedGradientReduction  \n12  ExponentiatedGradientReduction  \n13  ExponentiatedGradientReduction  \n14  ExponentiatedGradientReduction  \n15  ExponentiatedGradientReduction  \n16  ExponentiatedGradientReduction  \n17  ExponentiatedGradientReduction  \n18  ExponentiatedGradientReduction  ",
      "text/html": "<div>\n<style scoped>\n    .dataframe tbody tr th:only-of-type {\n        vertical-align: middle;\n    }\n\n    .dataframe tbody tr th {\n        vertical-align: top;\n    }\n\n    .dataframe thead th {\n        text-align: right;\n    }\n</style>\n<table border=\"1\" class=\"dataframe\">\n  <thead>\n    <tr style=\"text-align: right;\">\n      <th></th>\n      <th>Metric</th>\n      <th>male</th>\n      <th>race</th>\n      <th>male&amp;race</th>\n      <th>Model_Name</th>\n    </tr>\n  </thead>\n  <tbody>\n    <tr>\n      <th>0</th>\n      <td>Accuracy_Parity</td>\n      <td>-0.021944</td>\n      <td>-0.179603</td>\n      <td>-0.159554</td>\n      <td>ExponentiatedGradientReduction</td>\n    </tr>\n    <tr>\n      <th>1</th>\n      <td>Aleatoric_Uncertainty_Parity</td>\n      <td>0.005235</td>\n      <td>0.034924</td>\n      <td>0.041620</td>\n      <td>ExponentiatedGradientReduction</td>\n    </tr>\n    <tr>\n      <th>2</th>\n      <td>Aleatoric_Uncertainty_Ratio</td>\n      <td>1.736181</td>\n      <td>9.635121</td>\n      <td>7.862084</td>\n      <td>ExponentiatedGradientReduction</td>\n    </tr>\n    <tr>\n      <th>3</th>\n      <td>Epistemic_Uncertainty_Parity</td>\n      <td>0.004104</td>\n      <td>0.013899</td>\n      <td>0.019680</td>\n      <td>ExponentiatedGradientReduction</td>\n    </tr>\n    <tr>\n      <th>4</th>\n      <td>Epistemic_Uncertainty_Ratio</td>\n      <td>1.308413</td>\n      <td>2.072889</td>\n      <td>2.456499</td>\n      <td>ExponentiatedGradientReduction</td>\n    </tr>\n    <tr>\n      <th>5</th>\n      <td>Equalized_Odds_FNR</td>\n      <td>-0.000093</td>\n      <td>0.000639</td>\n      <td>0.002249</td>\n      <td>ExponentiatedGradientReduction</td>\n    </tr>\n    <tr>\n      <th>6</th>\n      <td>Equalized_Odds_FPR</td>\n      <td>-0.011832</td>\n      <td>0.082345</td>\n      <td>0.057266</td>\n      <td>ExponentiatedGradientReduction</td>\n    </tr>\n    <tr>\n      <th>7</th>\n      <td>IQR_Parity</td>\n      <td>0.003570</td>\n      <td>0.021962</td>\n      <td>0.026651</td>\n      <td>ExponentiatedGradientReduction</td>\n    </tr>\n    <tr>\n      <th>8</th>\n      <td>Jitter_Parity</td>\n      <td>0.002913</td>\n      <td>0.014650</td>\n      <td>0.017267</td>\n      <td>ExponentiatedGradientReduction</td>\n    </tr>\n    <tr>\n      <th>9</th>\n      <td>Label_Stability_Ratio</td>\n      <td>0.996135</td>\n      <td>0.980762</td>\n      <td>0.977664</td>\n      <td>ExponentiatedGradientReduction</td>\n    </tr>\n    <tr>\n      <th>10</th>\n      <td>Label_Stability_Difference</td>\n      <td>-0.003820</td>\n      <td>-0.019035</td>\n      <td>-0.022075</td>\n      <td>ExponentiatedGradientReduction</td>\n    </tr>\n    <tr>\n      <th>11</th>\n      <td>Overall_Uncertainty_Parity</td>\n      <td>0.009339</td>\n      <td>0.048823</td>\n      <td>0.061300</td>\n      <td>ExponentiatedGradientReduction</td>\n    </tr>\n    <tr>\n      <th>12</th>\n      <td>Overall_Uncertainty_Ratio</td>\n      <td>1.457412</td>\n      <td>3.872052</td>\n      <td>4.131209</td>\n      <td>ExponentiatedGradientReduction</td>\n    </tr>\n    <tr>\n      <th>13</th>\n      <td>Disparate_Impact</td>\n      <td>1.026126</td>\n      <td>1.249583</td>\n      <td>1.216912</td>\n      <td>ExponentiatedGradientReduction</td>\n    </tr>\n    <tr>\n      <th>14</th>\n      <td>Statistical_Parity_Difference</td>\n      <td>-0.004691</td>\n      <td>-0.009424</td>\n      <td>-0.010618</td>\n      <td>ExponentiatedGradientReduction</td>\n    </tr>\n    <tr>\n      <th>15</th>\n      <td>Std_Parity</td>\n      <td>0.003494</td>\n      <td>0.014627</td>\n      <td>0.019423</td>\n      <td>ExponentiatedGradientReduction</td>\n    </tr>\n    <tr>\n      <th>16</th>\n      <td>Std_Ratio</td>\n      <td>1.377790</td>\n      <td>2.715834</td>\n      <td>3.108272</td>\n      <td>ExponentiatedGradientReduction</td>\n    </tr>\n    <tr>\n      <th>17</th>\n      <td>Equalized_Odds_TNR</td>\n      <td>0.011832</td>\n      <td>-0.082345</td>\n      <td>-0.057266</td>\n      <td>ExponentiatedGradientReduction</td>\n    </tr>\n    <tr>\n      <th>18</th>\n      <td>Equalized_Odds_TPR</td>\n      <td>0.000093</td>\n      <td>-0.000639</td>\n      <td>-0.002249</td>\n      <td>ExponentiatedGradientReduction</td>\n    </tr>\n  </tbody>\n</table>\n</div>"
     },
     "execution_count": 18,
     "metadata": {},
     "output_type": "execute_result"
    }
   ],
   "source": [
    "models_composed_metrics_df"
   ],
   "metadata": {
    "collapsed": false,
    "ExecuteTime": {
     "end_time": "2024-01-18T10:06:24.207015Z",
     "start_time": "2024-01-18T10:06:24.112600Z"
    }
   },
   "id": "a286da0406c6401d"
  },
  {
   "cell_type": "markdown",
   "id": "deb45226",
   "metadata": {},
   "source": [
    "## Metrics Visualization and Reporting"
   ]
  },
  {
   "cell_type": "markdown",
   "id": "2f5d4cdb",
   "metadata": {},
   "source": [
    "**Metric Visualizer** allows us to build static visualizations for the computed metrics. It unifies different preprocessing methods for the computed metrics and creates various data formats required for visualizations. Hence, users can simply call methods of the _MetricsVisualizer_ class and get custom plots for diverse metric analysis."
   ]
  },
  {
   "cell_type": "code",
   "execution_count": 19,
   "id": "435b9d98",
   "metadata": {
    "ExecuteTime": {
     "end_time": "2024-01-18T10:06:24.207751Z",
     "start_time": "2024-01-18T10:06:24.151472Z"
    }
   },
   "outputs": [],
   "source": [
    "visualizer = MetricsVisualizer(models_metrics_dct, models_composed_metrics_df, config.dataset_name,\n",
    "                               model_names=list(models_config.keys()),\n",
    "                               sensitive_attributes_dct=config.sensitive_attributes_dct)"
   ]
  },
  {
   "cell_type": "code",
   "execution_count": 20,
   "id": "5efb1bf2",
   "metadata": {
    "ExecuteTime": {
     "end_time": "2024-01-18T10:06:24.276375Z",
     "start_time": "2024-01-18T10:06:24.192022Z"
    }
   },
   "outputs": [
    {
     "data": {
      "text/html": "\n<div id=\"altair-viz-ed2b7b4aafd049cb804e3f853efd680f\"></div>\n<script type=\"text/javascript\">\n  var VEGA_DEBUG = (typeof VEGA_DEBUG == \"undefined\") ? {} : VEGA_DEBUG;\n  (function(spec, embedOpt){\n    let outputDiv = document.currentScript.previousElementSibling;\n    if (outputDiv.id !== \"altair-viz-ed2b7b4aafd049cb804e3f853efd680f\") {\n      outputDiv = document.getElementById(\"altair-viz-ed2b7b4aafd049cb804e3f853efd680f\");\n    }\n    const paths = {\n      \"vega\": \"https://cdn.jsdelivr.net/npm//vega@5?noext\",\n      \"vega-lib\": \"https://cdn.jsdelivr.net/npm//vega-lib?noext\",\n      \"vega-lite\": \"https://cdn.jsdelivr.net/npm//vega-lite@4.17.0?noext\",\n      \"vega-embed\": \"https://cdn.jsdelivr.net/npm//vega-embed@6?noext\",\n    };\n\n    function maybeLoadScript(lib, version) {\n      var key = `${lib.replace(\"-\", \"\")}_version`;\n      return (VEGA_DEBUG[key] == version) ?\n        Promise.resolve(paths[lib]) :\n        new Promise(function(resolve, reject) {\n          var s = document.createElement('script');\n          document.getElementsByTagName(\"head\")[0].appendChild(s);\n          s.async = true;\n          s.onload = () => {\n            VEGA_DEBUG[key] = version;\n            return resolve(paths[lib]);\n          };\n          s.onerror = () => reject(`Error loading script: ${paths[lib]}`);\n          s.src = paths[lib];\n        });\n    }\n\n    function showError(err) {\n      outputDiv.innerHTML = `<div class=\"error\" style=\"color:red;\">${err}</div>`;\n      throw err;\n    }\n\n    function displayChart(vegaEmbed) {\n      vegaEmbed(outputDiv, spec, embedOpt)\n        .catch(err => showError(`Javascript Error: ${err.message}<br>This usually means there's a typo in your chart specification. See the javascript console for the full traceback.`));\n    }\n\n    if(typeof define === \"function\" && define.amd) {\n      requirejs.config({paths});\n      require([\"vega-embed\"], displayChart, err => showError(`Error loading script: ${err.message}`));\n    } else {\n      maybeLoadScript(\"vega\", \"5\")\n        .then(() => maybeLoadScript(\"vega-lite\", \"4.17.0\"))\n        .then(() => maybeLoadScript(\"vega-embed\", \"6\"))\n        .catch(showError)\n        .then(() => displayChart(vegaEmbed));\n    }\n  })({\"config\": {\"view\": {\"continuousWidth\": 400, \"continuousHeight\": 300}, \"axis\": {\"labelFontSize\": 16, \"titleFontSize\": 20}, \"headerRow\": {\"labelAlign\": \"left\", \"labelAngle\": 0, \"labelFontSize\": 16, \"labelPadding\": 10, \"titleFontSize\": 20}}, \"data\": {\"name\": \"data-4d93b4b96000e6754406840004a80693\"}, \"mark\": \"bar\", \"encoding\": {\"color\": {\"field\": \"model_name\", \"legend\": {\"labelFontSize\": 15, \"labelLimit\": 300, \"title\": \"Model Name\", \"titleFontSize\": 15, \"titleLimit\": 300}, \"scale\": {\"scheme\": \"tableau20\"}, \"type\": \"nominal\"}, \"row\": {\"field\": \"metric\", \"sort\": [\"Accuracy\", \"F1\", \"TPR\", \"TNR\", \"PPV\", \"Selection-Rate\"], \"title\": \"Accuracy Metrics\", \"type\": \"nominal\"}, \"x\": {\"axis\": {\"grid\": true}, \"field\": \"overall\", \"title\": \"\", \"type\": \"quantitative\"}, \"y\": {\"axis\": null, \"field\": \"model_name\", \"type\": \"nominal\"}}, \"height\": 50, \"width\": 500, \"$schema\": \"https://vega.github.io/schema/vega-lite/v4.17.0.json\", \"datasets\": {\"data-4d93b4b96000e6754406840004a80693\": [{\"overall\": 0.9014423076923076, \"metric\": \"Accuracy\", \"model_name\": \"ExponentiatedGradientReduction\"}, {\"overall\": 0.9473684210526316, \"metric\": \"F1\", \"model_name\": \"ExponentiatedGradientReduction\"}, {\"overall\": 0.9084194977843428, \"metric\": \"PPV\", \"model_name\": \"ExponentiatedGradientReduction\"}, {\"overall\": 0.9764423076923076, \"metric\": \"Selection-Rate\", \"model_name\": \"ExponentiatedGradientReduction\"}, {\"overall\": 0.1388888888888889, \"metric\": \"TNR\", \"model_name\": \"ExponentiatedGradientReduction\"}, {\"overall\": 0.9898068669527896, \"metric\": \"TPR\", \"model_name\": \"ExponentiatedGradientReduction\"}]}}, {\"mode\": \"vega-lite\"});\n</script>",
      "text/plain": "alt.Chart(...)"
     },
     "execution_count": 20,
     "metadata": {},
     "output_type": "execute_result"
    }
   ],
   "source": [
    "visualizer.create_overall_metrics_bar_char(\n",
    "    metric_names=['Accuracy', 'F1', 'TPR', 'TNR', 'PPV', 'Selection-Rate'],\n",
    "    plot_title=\"Accuracy Metrics\"\n",
    ")"
   ]
  },
  {
   "cell_type": "code",
   "execution_count": 21,
   "id": "0eb8528e",
   "metadata": {
    "ExecuteTime": {
     "end_time": "2024-01-18T10:06:24.316206Z",
     "start_time": "2024-01-18T10:06:24.256115Z"
    }
   },
   "outputs": [
    {
     "data": {
      "text/html": "\n<div id=\"altair-viz-98e49a3dd4864324abb272c2941b3631\"></div>\n<script type=\"text/javascript\">\n  var VEGA_DEBUG = (typeof VEGA_DEBUG == \"undefined\") ? {} : VEGA_DEBUG;\n  (function(spec, embedOpt){\n    let outputDiv = document.currentScript.previousElementSibling;\n    if (outputDiv.id !== \"altair-viz-98e49a3dd4864324abb272c2941b3631\") {\n      outputDiv = document.getElementById(\"altair-viz-98e49a3dd4864324abb272c2941b3631\");\n    }\n    const paths = {\n      \"vega\": \"https://cdn.jsdelivr.net/npm//vega@5?noext\",\n      \"vega-lib\": \"https://cdn.jsdelivr.net/npm//vega-lib?noext\",\n      \"vega-lite\": \"https://cdn.jsdelivr.net/npm//vega-lite@4.17.0?noext\",\n      \"vega-embed\": \"https://cdn.jsdelivr.net/npm//vega-embed@6?noext\",\n    };\n\n    function maybeLoadScript(lib, version) {\n      var key = `${lib.replace(\"-\", \"\")}_version`;\n      return (VEGA_DEBUG[key] == version) ?\n        Promise.resolve(paths[lib]) :\n        new Promise(function(resolve, reject) {\n          var s = document.createElement('script');\n          document.getElementsByTagName(\"head\")[0].appendChild(s);\n          s.async = true;\n          s.onload = () => {\n            VEGA_DEBUG[key] = version;\n            return resolve(paths[lib]);\n          };\n          s.onerror = () => reject(`Error loading script: ${paths[lib]}`);\n          s.src = paths[lib];\n        });\n    }\n\n    function showError(err) {\n      outputDiv.innerHTML = `<div class=\"error\" style=\"color:red;\">${err}</div>`;\n      throw err;\n    }\n\n    function displayChart(vegaEmbed) {\n      vegaEmbed(outputDiv, spec, embedOpt)\n        .catch(err => showError(`Javascript Error: ${err.message}<br>This usually means there's a typo in your chart specification. See the javascript console for the full traceback.`));\n    }\n\n    if(typeof define === \"function\" && define.amd) {\n      requirejs.config({paths});\n      require([\"vega-embed\"], displayChart, err => showError(`Error loading script: ${err.message}`));\n    } else {\n      maybeLoadScript(\"vega\", \"5\")\n        .then(() => maybeLoadScript(\"vega-lite\", \"4.17.0\"))\n        .then(() => maybeLoadScript(\"vega-embed\", \"6\"))\n        .catch(showError)\n        .then(() => displayChart(vegaEmbed));\n    }\n  })({\"config\": {\"view\": {\"continuousWidth\": 400, \"continuousHeight\": 300}, \"axis\": {\"labelFontSize\": 16, \"titleFontSize\": 20}, \"headerRow\": {\"labelAlign\": \"left\", \"labelAngle\": 0, \"labelFontSize\": 16, \"labelPadding\": 10, \"titleFontSize\": 20}}, \"data\": {\"name\": \"data-6a33881898c7414a0e29ffb69eaa1e34\"}, \"mark\": \"bar\", \"encoding\": {\"color\": {\"field\": \"model_name\", \"legend\": {\"labelFontSize\": 15, \"labelLimit\": 300, \"title\": \"Model Name\", \"titleFontSize\": 15, \"titleLimit\": 300}, \"scale\": {\"scheme\": \"tableau20\"}, \"type\": \"nominal\"}, \"row\": {\"field\": \"metric\", \"sort\": [\"Aleatoric_Uncertainty\", \"Overall_Uncertainty\", \"Label_Stability\", \"Std\", \"IQR\", \"Jitter\"], \"title\": \"Stability and Uncertainty Metrics\", \"type\": \"nominal\"}, \"x\": {\"axis\": {\"grid\": true}, \"field\": \"overall\", \"title\": \"\", \"type\": \"quantitative\"}, \"y\": {\"axis\": null, \"field\": \"model_name\", \"type\": \"nominal\"}}, \"height\": 50, \"width\": 500, \"$schema\": \"https://vega.github.io/schema/vega-lite/v4.17.0.json\", \"datasets\": {\"data-6a33881898c7414a0e29ffb69eaa1e34\": [{\"overall\": 0.0093668341584868, \"metric\": \"Aleatoric_Uncertainty\", \"model_name\": \"ExponentiatedGradientReduction\"}, {\"overall\": 0.0118123814250247, \"metric\": \"IQR\", \"model_name\": \"ExponentiatedGradientReduction\"}, {\"overall\": 0.0098425066312997, \"metric\": \"Jitter\", \"model_name\": \"ExponentiatedGradientReduction\"}, {\"overall\": 0.9865865384615388, \"metric\": \"Label_Stability\", \"model_name\": \"ExponentiatedGradientReduction\"}, {\"overall\": 0.0244399777746703, \"metric\": \"Overall_Uncertainty\", \"model_name\": \"ExponentiatedGradientReduction\"}, {\"overall\": 0.0107535647368025, \"metric\": \"Std\", \"model_name\": \"ExponentiatedGradientReduction\"}]}}, {\"mode\": \"vega-lite\"});\n</script>",
      "text/plain": "alt.Chart(...)"
     },
     "execution_count": 21,
     "metadata": {},
     "output_type": "execute_result"
    }
   ],
   "source": [
    "visualizer.create_overall_metrics_bar_char(\n",
    "    metric_names=['Aleatoric_Uncertainty', 'Overall_Uncertainty', 'Label_Stability', 'Std', 'IQR', 'Jitter'],\n",
    "    plot_title=\"Stability and Uncertainty Metrics\"\n",
    ")"
   ]
  },
  {
   "cell_type": "code",
   "execution_count": 21,
   "id": "2326c129",
   "metadata": {
    "ExecuteTime": {
     "end_time": "2024-01-18T10:06:24.323061Z",
     "start_time": "2024-01-18T10:06:24.316773Z"
    }
   },
   "outputs": [],
   "source": []
  }
 ],
 "metadata": {
  "kernelspec": {
   "display_name": "Python 3 (ipykernel)",
   "language": "python",
   "name": "python3"
  },
  "language_info": {
   "codemirror_mode": {
    "name": "ipython",
    "version": 3
   },
   "file_extension": ".py",
   "mimetype": "text/x-python",
   "name": "python",
   "nbconvert_exporter": "python",
   "pygments_lexer": "ipython3",
   "version": "3.8.10"
  }
 },
 "nbformat": 4,
 "nbformat_minor": 5
}
