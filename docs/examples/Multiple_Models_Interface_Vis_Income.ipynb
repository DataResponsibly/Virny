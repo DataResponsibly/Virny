{
 "cells": [
  {
   "cell_type": "code",
   "execution_count": 1,
   "id": "248cbed8",
   "metadata": {
    "ExecuteTime": {
     "end_time": "2023-11-30T10:14:44.773220Z",
     "start_time": "2023-11-30T10:14:44.118473Z"
    }
   },
   "outputs": [],
   "source": [
    "%matplotlib inline\n",
    "%load_ext autoreload\n",
    "%autoreload 2"
   ]
  },
  {
   "cell_type": "code",
   "execution_count": 2,
   "id": "7ec6cd08",
   "metadata": {
    "ExecuteTime": {
     "end_time": "2023-11-30T10:14:44.781386Z",
     "start_time": "2023-11-30T10:14:44.773120Z"
    }
   },
   "outputs": [],
   "source": [
    "import os\n",
    "import warnings\n",
    "warnings.filterwarnings('ignore')\n",
    "os.environ[\"PYTHONWARNINGS\"] = \"ignore\""
   ]
  },
  {
   "cell_type": "code",
   "execution_count": 3,
   "id": "b8cb69f2",
   "metadata": {
    "ExecuteTime": {
     "end_time": "2023-11-30T10:14:44.791947Z",
     "start_time": "2023-11-30T10:14:44.781906Z"
    }
   },
   "outputs": [
    {
     "name": "stdout",
     "output_type": "stream",
     "text": [
      "Current location:  /Users/denys_herasymuk/UCU/4course_2term/Bachelor_Thesis/Code/Virny\n"
     ]
    }
   ],
   "source": [
    "cur_folder_name = os.getcwd().split('/')[-1]\n",
    "if cur_folder_name != \"Virny\":\n",
    "    os.chdir(\"../..\")\n",
    "\n",
    "print('Current location: ', os.getcwd())"
   ]
  },
  {
   "cell_type": "markdown",
   "id": "a578f2ab",
   "metadata": {},
   "source": [
    "# Multiple Models Interface Usage"
   ]
  },
  {
   "cell_type": "code",
   "execution_count": 4,
   "id": "7a9241de",
   "metadata": {
    "ExecuteTime": {
     "end_time": "2023-11-30T10:14:46.531174Z",
     "start_time": "2023-11-30T10:14:44.792591Z"
    }
   },
   "outputs": [],
   "source": [
    "import os\n",
    "import pandas as pd\n",
    "\n",
    "from virny.datasets import ACSIncomeDataset\n",
    "from virny.custom_classes.metrics_composer import MetricsComposer\n",
    "from virny.custom_classes.metrics_interactive_visualizer import MetricsInteractiveVisualizer"
   ]
  },
  {
   "cell_type": "code",
   "execution_count": 5,
   "outputs": [],
   "source": [
    "data_loader = ACSIncomeDataset(state=['GA'], year=2018, with_nulls=False, subsample_size=15_000, subsample_seed=42)\n",
    "sensitive_attributes_dct = {'SEX': '2', 'RAC1P': ['2', '3', '4', '5', '6', '7', '8', '9'], 'SEX&RAC1P': None}"
   ],
   "metadata": {
    "collapsed": false,
    "ExecuteTime": {
     "end_time": "2023-11-30T10:14:47.863288Z",
     "start_time": "2023-11-30T10:14:46.532997Z"
    }
   },
   "id": "d3c53c7b72ecbcd0"
  },
  {
   "cell_type": "code",
   "execution_count": 6,
   "outputs": [],
   "source": [
    "ROOT_DIR = os.path.join('docs', 'examples')\n",
    "subgroup_metrics_df = pd.read_csv(os.path.join(ROOT_DIR, 'income_subgroup_metrics.csv'), header=0)\n",
    "subgroup_metrics_df['Model_Name'] = (subgroup_metrics_df['Model_Name'] + '__alpha=' +\n",
    "                                     subgroup_metrics_df['Intervention_Param'].astype(str))"
   ],
   "metadata": {
    "collapsed": false,
    "ExecuteTime": {
     "end_time": "2023-11-30T10:14:47.892811Z",
     "start_time": "2023-11-30T10:14:47.863607Z"
    }
   },
   "id": "2aab7c79ecdee914"
  },
  {
   "cell_type": "code",
   "execution_count": 7,
   "outputs": [
    {
     "data": {
      "text/plain": "                         Metric       SEX     RAC1P  SEX&RAC1P  \\\n0               Accuracy_Parity  0.047756  0.074977   0.065217   \n1  Aleatoric_Uncertainty_Parity -0.039005 -0.011947  -0.009222   \n2   Aleatoric_Uncertainty_Ratio  0.935159  0.979638   0.984220   \n3            Equalized_Odds_FNR  0.030793 -0.110745  -0.052498   \n4            Equalized_Odds_FPR -0.021317  0.000952  -0.007008   \n\n                  Model_Name  \n0  LGBMClassifier__alpha=0.7  \n1  LGBMClassifier__alpha=0.7  \n2  LGBMClassifier__alpha=0.7  \n3  LGBMClassifier__alpha=0.7  \n4  LGBMClassifier__alpha=0.7  ",
      "text/html": "<div>\n<style scoped>\n    .dataframe tbody tr th:only-of-type {\n        vertical-align: middle;\n    }\n\n    .dataframe tbody tr th {\n        vertical-align: top;\n    }\n\n    .dataframe thead th {\n        text-align: right;\n    }\n</style>\n<table border=\"1\" class=\"dataframe\">\n  <thead>\n    <tr style=\"text-align: right;\">\n      <th></th>\n      <th>Metric</th>\n      <th>SEX</th>\n      <th>RAC1P</th>\n      <th>SEX&amp;RAC1P</th>\n      <th>Model_Name</th>\n    </tr>\n  </thead>\n  <tbody>\n    <tr>\n      <th>0</th>\n      <td>Accuracy_Parity</td>\n      <td>0.047756</td>\n      <td>0.074977</td>\n      <td>0.065217</td>\n      <td>LGBMClassifier__alpha=0.7</td>\n    </tr>\n    <tr>\n      <th>1</th>\n      <td>Aleatoric_Uncertainty_Parity</td>\n      <td>-0.039005</td>\n      <td>-0.011947</td>\n      <td>-0.009222</td>\n      <td>LGBMClassifier__alpha=0.7</td>\n    </tr>\n    <tr>\n      <th>2</th>\n      <td>Aleatoric_Uncertainty_Ratio</td>\n      <td>0.935159</td>\n      <td>0.979638</td>\n      <td>0.984220</td>\n      <td>LGBMClassifier__alpha=0.7</td>\n    </tr>\n    <tr>\n      <th>3</th>\n      <td>Equalized_Odds_FNR</td>\n      <td>0.030793</td>\n      <td>-0.110745</td>\n      <td>-0.052498</td>\n      <td>LGBMClassifier__alpha=0.7</td>\n    </tr>\n    <tr>\n      <th>4</th>\n      <td>Equalized_Odds_FPR</td>\n      <td>-0.021317</td>\n      <td>0.000952</td>\n      <td>-0.007008</td>\n      <td>LGBMClassifier__alpha=0.7</td>\n    </tr>\n  </tbody>\n</table>\n</div>"
     },
     "execution_count": 7,
     "metadata": {},
     "output_type": "execute_result"
    }
   ],
   "source": [
    "model_names = subgroup_metrics_df['Model_Name'].unique()\n",
    "models_metrics_dct = dict()\n",
    "for model_name in model_names:\n",
    "    models_metrics_dct[model_name] = subgroup_metrics_df[subgroup_metrics_df['Model_Name'] == model_name]\n",
    "\n",
    "metrics_composer = MetricsComposer(models_metrics_dct, sensitive_attributes_dct)\n",
    "models_composed_metrics_df = metrics_composer.compose_metrics()\n",
    "models_composed_metrics_df.head()"
   ],
   "metadata": {
    "collapsed": false,
    "ExecuteTime": {
     "end_time": "2023-11-30T10:14:47.944316Z",
     "start_time": "2023-11-30T10:14:47.890948Z"
    }
   },
   "id": "44ee5eff6054ce04"
  },
  {
   "cell_type": "code",
   "execution_count": 8,
   "outputs": [],
   "source": [
    "models_metrics_dct = dict()\n",
    "for model_name in subgroup_metrics_df['Model_Name'].unique():\n",
    "    models_metrics_dct[model_name] = subgroup_metrics_df[subgroup_metrics_df['Model_Name'] == model_name]"
   ],
   "metadata": {
    "collapsed": false,
    "ExecuteTime": {
     "end_time": "2023-11-30T10:14:47.966498Z",
     "start_time": "2023-11-30T10:14:47.944256Z"
    }
   },
   "id": "833484748ed512e8"
  },
  {
   "cell_type": "code",
   "execution_count": 9,
   "outputs": [
    {
     "data": {
      "text/plain": "dict_keys(['LGBMClassifier__alpha=0.7', 'LGBMClassifier__alpha=0.0', 'LGBMClassifier__alpha=0.4', 'LogisticRegression__alpha=0.0', 'LogisticRegression__alpha=0.7', 'LogisticRegression__alpha=0.4', 'MLPClassifier__alpha=0.0', 'MLPClassifier__alpha=0.7', 'MLPClassifier__alpha=0.4', 'RandomForestClassifier__alpha=0.4', 'RandomForestClassifier__alpha=0.7', 'RandomForestClassifier__alpha=0.0'])"
     },
     "execution_count": 9,
     "metadata": {},
     "output_type": "execute_result"
    }
   ],
   "source": [
    "models_metrics_dct.keys()"
   ],
   "metadata": {
    "collapsed": false,
    "ExecuteTime": {
     "end_time": "2023-11-30T10:14:48.034503Z",
     "start_time": "2023-11-30T10:14:47.966623Z"
    }
   },
   "id": "15ed7d1ba1f22317"
  },
  {
   "cell_type": "markdown",
   "id": "deb45226",
   "metadata": {},
   "source": [
    "## Metrics Visualization and Reporting"
   ]
  },
  {
   "cell_type": "code",
   "execution_count": 73,
   "id": "435b9d98",
   "metadata": {
    "ExecuteTime": {
     "end_time": "2023-11-30T12:18:02.265521Z",
     "start_time": "2023-11-30T12:18:02.001588Z"
    }
   },
   "outputs": [],
   "source": [
    "visualizer = MetricsInteractiveVisualizer(data_loader.X_data, data_loader.y_data,\n",
    "                                          models_metrics_dct, models_composed_metrics_df,\n",
    "                                          sensitive_attributes_dct=sensitive_attributes_dct)"
   ]
  },
  {
   "cell_type": "code",
   "execution_count": null,
   "outputs": [
    {
     "name": "stdout",
     "output_type": "stream",
     "text": [
      "Running on local URL:  http://127.0.0.1:7860\n",
      "\n",
      "To create a public link, set `share=True` in `launch()`.\n"
     ]
    },
    {
     "name": "stderr",
     "output_type": "stream",
     "text": [
      "Traceback (most recent call last):\n",
      "  File \"/Users/denys_herasymuk/UCU/4course_2term/Bachelor_Thesis/Code/Virny/virny_env/lib/python3.9/site-packages/gradio/routes.py\", line 538, in predict\n",
      "    output = await route_utils.call_process_api(\n",
      "  File \"/Users/denys_herasymuk/UCU/4course_2term/Bachelor_Thesis/Code/Virny/virny_env/lib/python3.9/site-packages/gradio/route_utils.py\", line 217, in call_process_api\n",
      "    output = await app.get_blocks().process_api(\n",
      "  File \"/Users/denys_herasymuk/UCU/4course_2term/Bachelor_Thesis/Code/Virny/virny_env/lib/python3.9/site-packages/gradio/blocks.py\", line 1553, in process_api\n",
      "    result = await self.call_function(\n",
      "  File \"/Users/denys_herasymuk/UCU/4course_2term/Bachelor_Thesis/Code/Virny/virny_env/lib/python3.9/site-packages/gradio/blocks.py\", line 1191, in call_function\n",
      "    prediction = await anyio.to_thread.run_sync(\n",
      "  File \"/Users/denys_herasymuk/UCU/4course_2term/Bachelor_Thesis/Code/Virny/virny_env/lib/python3.9/site-packages/anyio/to_thread.py\", line 33, in run_sync\n",
      "    return await get_asynclib().run_sync_in_worker_thread(\n",
      "  File \"/Users/denys_herasymuk/UCU/4course_2term/Bachelor_Thesis/Code/Virny/virny_env/lib/python3.9/site-packages/anyio/_backends/_asyncio.py\", line 877, in run_sync_in_worker_thread\n",
      "    return await future\n",
      "  File \"/Users/denys_herasymuk/UCU/4course_2term/Bachelor_Thesis/Code/Virny/virny_env/lib/python3.9/site-packages/anyio/_backends/_asyncio.py\", line 807, in run\n",
      "    result = context.run(func, *args)\n",
      "  File \"/Users/denys_herasymuk/UCU/4course_2term/Bachelor_Thesis/Code/Virny/virny_env/lib/python3.9/site-packages/gradio/utils.py\", line 659, in wrapper\n",
      "    response = f(*args, **kwargs)\n",
      "  File \"/Users/denys_herasymuk/UCU/4course_2term/Bachelor_Thesis/Code/Virny/virny/custom_classes/metrics_interactive_visualizer.py\", line 622, in _create_group_model_rank_heatmap\n",
      "    tolerance = str_to_float(tolerance, 'Tolerance')\n",
      "  File \"/Users/denys_herasymuk/UCU/4course_2term/Bachelor_Thesis/Code/Virny/virny/utils/common_helpers.py\", line 86, in str_to_float\n",
      "    raise ValueError(f\"{var_name} must be a float number with a '.' separator.\")\n",
      "ValueError: Tolerance must be a float number with a '.' separator.\n",
      "Traceback (most recent call last):\n",
      "  File \"/Users/denys_herasymuk/UCU/4course_2term/Bachelor_Thesis/Code/Virny/virny_env/lib/python3.9/site-packages/gradio/routes.py\", line 538, in predict\n",
      "    output = await route_utils.call_process_api(\n",
      "  File \"/Users/denys_herasymuk/UCU/4course_2term/Bachelor_Thesis/Code/Virny/virny_env/lib/python3.9/site-packages/gradio/route_utils.py\", line 217, in call_process_api\n",
      "    output = await app.get_blocks().process_api(\n",
      "  File \"/Users/denys_herasymuk/UCU/4course_2term/Bachelor_Thesis/Code/Virny/virny_env/lib/python3.9/site-packages/gradio/blocks.py\", line 1553, in process_api\n",
      "    result = await self.call_function(\n",
      "  File \"/Users/denys_herasymuk/UCU/4course_2term/Bachelor_Thesis/Code/Virny/virny_env/lib/python3.9/site-packages/gradio/blocks.py\", line 1191, in call_function\n",
      "    prediction = await anyio.to_thread.run_sync(\n",
      "  File \"/Users/denys_herasymuk/UCU/4course_2term/Bachelor_Thesis/Code/Virny/virny_env/lib/python3.9/site-packages/anyio/to_thread.py\", line 33, in run_sync\n",
      "    return await get_asynclib().run_sync_in_worker_thread(\n",
      "  File \"/Users/denys_herasymuk/UCU/4course_2term/Bachelor_Thesis/Code/Virny/virny_env/lib/python3.9/site-packages/anyio/_backends/_asyncio.py\", line 877, in run_sync_in_worker_thread\n",
      "    return await future\n",
      "  File \"/Users/denys_herasymuk/UCU/4course_2term/Bachelor_Thesis/Code/Virny/virny_env/lib/python3.9/site-packages/anyio/_backends/_asyncio.py\", line 807, in run\n",
      "    result = context.run(func, *args)\n",
      "  File \"/Users/denys_herasymuk/UCU/4course_2term/Bachelor_Thesis/Code/Virny/virny_env/lib/python3.9/site-packages/gradio/utils.py\", line 659, in wrapper\n",
      "    response = f(*args, **kwargs)\n",
      "  File \"/Users/denys_herasymuk/UCU/4course_2term/Bachelor_Thesis/Code/Virny/virny/custom_classes/metrics_interactive_visualizer.py\", line 624, in _create_group_model_rank_heatmap\n",
      "    raise ValueError('Tolerance cannot be smaller than 0.001')\n",
      "ValueError: Tolerance cannot be smaller than 0.001\n"
     ]
    }
   ],
   "source": [
    "visualizer.start_web_app()"
   ],
   "metadata": {
    "collapsed": false,
    "is_executing": true,
    "ExecuteTime": {
     "start_time": "2023-11-30T12:18:02.266315Z"
    }
   },
   "id": "678a9dc8d51243f4"
  },
  {
   "cell_type": "code",
   "execution_count": 12,
   "outputs": [
    {
     "name": "stdout",
     "output_type": "stream",
     "text": [
      "Closing server running on port: 7860\n"
     ]
    }
   ],
   "source": [
    "visualizer.stop_web_app()"
   ],
   "metadata": {
    "collapsed": false,
    "ExecuteTime": {
     "end_time": "2023-11-30T10:20:01.084744Z",
     "start_time": "2023-11-30T10:20:01.041733Z"
    }
   },
   "id": "277b6d1de837dab7"
  },
  {
   "cell_type": "code",
   "execution_count": null,
   "outputs": [],
   "source": [],
   "metadata": {
    "collapsed": false
   },
   "id": "21c0ad91536f0af5"
  },
  {
   "cell_type": "code",
   "execution_count": 63,
   "outputs": [],
   "source": [
    "def rank_with_tolerance(pd_series: pd.Series, tolerance: float = 0.01, method: str = 'dense'):\n",
    "    \"\"\"\n",
    "    Rank a pandas series with defined tolerance.\n",
    "    Ref: https://stackoverflow.com/questions/72956450/pandas-ranking-with-tolerance\n",
    "\n",
    "    Parameters\n",
    "    ----------\n",
    "    pd_series\n",
    "        A pandas series to rank\n",
    "    tolerance\n",
    "        A float value for ranking\n",
    "    method\n",
    "        Ranking methods for numpy.rank()\n",
    "\n",
    "    Returns\n",
    "    -------\n",
    "    A pandas series with dense ranks for the input pd series.\n",
    "\n",
    "    \"\"\"\n",
    "    tolerance += 1e-10 # Add 0.0000000001 for correct comparison of float numbers\n",
    "    vals = pd.Series(pd_series.unique()).sort_values()\n",
    "    vals.index = vals\n",
    "    print('vals1 -- ', vals)\n",
    "    vals = vals.mask(vals - vals.shift(1) < tolerance, vals.shift(1))\n",
    "    print('vals2 -- ', vals)\n",
    "\n",
    "    return pd_series.map(vals).fillna(pd_series).rank(method=method)"
   ],
   "metadata": {
    "collapsed": false,
    "ExecuteTime": {
     "end_time": "2023-11-30T11:49:03.109586Z",
     "start_time": "2023-11-30T11:49:03.043461Z"
    }
   },
   "id": "58f9830c22542b19"
  },
  {
   "cell_type": "code",
   "execution_count": 70,
   "outputs": [
    {
     "name": "stdout",
     "output_type": "stream",
     "text": [
      "vals1 --  0.002102    0.002102\n",
      "0.002214    0.002214\n",
      "0.003088    0.003088\n",
      "0.004906    0.004906\n",
      "dtype: float64\n",
      "vals2 --  0.002102    0.002102\n",
      "0.002214    0.002102\n",
      "0.003088    0.002214\n",
      "0.004906    0.003088\n",
      "dtype: float64\n"
     ]
    },
    {
     "data": {
      "text/plain": "0    1.0\n1    2.0\n2    1.0\n3    3.0\ndtype: float64"
     },
     "execution_count": 70,
     "metadata": {},
     "output_type": "execute_result"
    }
   ],
   "source": [
    "import pandas as pd\n",
    "\n",
    "# df = pd.Series([0.002, 0.003, 0.002, 0.005])\n",
    "df = pd.Series([0.002102,0.003088,0.002214,0.004906])\n",
    "rank_with_tolerance(df, tolerance=0.005)"
   ],
   "metadata": {
    "collapsed": false,
    "ExecuteTime": {
     "end_time": "2023-11-30T11:58:02.372653Z",
     "start_time": "2023-11-30T11:58:02.323106Z"
    }
   },
   "id": "1a8bdd34f4e1b2a2"
  },
  {
   "cell_type": "code",
   "execution_count": null,
   "outputs": [],
   "source": [],
   "metadata": {
    "collapsed": false
   },
   "id": "ec5d1085c5fc393a"
  }
 ],
 "metadata": {
  "kernelspec": {
   "display_name": "Python 3 (ipykernel)",
   "language": "python",
   "name": "python3"
  },
  "language_info": {
   "codemirror_mode": {
    "name": "ipython",
    "version": 3
   },
   "file_extension": ".py",
   "mimetype": "text/x-python",
   "name": "python",
   "nbconvert_exporter": "python",
   "pygments_lexer": "ipython3",
   "version": "3.8.10"
  }
 },
 "nbformat": 4,
 "nbformat_minor": 5
}
