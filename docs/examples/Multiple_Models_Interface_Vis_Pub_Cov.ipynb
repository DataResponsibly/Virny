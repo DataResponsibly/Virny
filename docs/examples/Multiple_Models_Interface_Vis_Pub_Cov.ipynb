{
 "cells": [
  {
   "cell_type": "code",
   "execution_count": 19,
   "id": "248cbed8",
   "metadata": {
    "ExecuteTime": {
     "end_time": "2023-12-07T00:13:42.978064Z",
     "start_time": "2023-12-07T00:13:42.914700Z"
    }
   },
   "outputs": [
    {
     "name": "stdout",
     "output_type": "stream",
     "text": [
      "The autoreload extension is already loaded. To reload it, use:\n",
      "  %reload_ext autoreload\n"
     ]
    }
   ],
   "source": [
    "%matplotlib inline\n",
    "%load_ext autoreload\n",
    "%autoreload 2"
   ]
  },
  {
   "cell_type": "code",
   "execution_count": 20,
   "id": "7ec6cd08",
   "metadata": {
    "ExecuteTime": {
     "end_time": "2023-12-07T00:13:42.983725Z",
     "start_time": "2023-12-07T00:13:42.954698Z"
    }
   },
   "outputs": [],
   "source": [
    "import os\n",
    "import warnings\n",
    "warnings.filterwarnings('ignore')\n",
    "os.environ[\"PYTHONWARNINGS\"] = \"ignore\""
   ]
  },
  {
   "cell_type": "code",
   "execution_count": 21,
   "id": "b8cb69f2",
   "metadata": {
    "ExecuteTime": {
     "end_time": "2023-12-07T00:13:43.018895Z",
     "start_time": "2023-12-07T00:13:42.982387Z"
    }
   },
   "outputs": [
    {
     "name": "stdout",
     "output_type": "stream",
     "text": [
      "Current location:  /Users/denys_herasymuk/UCU/4course_2term/Bachelor_Thesis/Code/Virny\n"
     ]
    }
   ],
   "source": [
    "cur_folder_name = os.getcwd().split('/')[-1]\n",
    "if cur_folder_name != \"Virny\":\n",
    "    os.chdir(\"../..\")\n",
    "\n",
    "print('Current location: ', os.getcwd())"
   ]
  },
  {
   "cell_type": "markdown",
   "id": "a578f2ab",
   "metadata": {},
   "source": [
    "# Multiple Models Interface Usage"
   ]
  },
  {
   "cell_type": "code",
   "execution_count": 22,
   "id": "7a9241de",
   "metadata": {
    "ExecuteTime": {
     "end_time": "2023-12-07T00:13:43.027909Z",
     "start_time": "2023-12-07T00:13:43.006390Z"
    }
   },
   "outputs": [],
   "source": [
    "import os\n",
    "import pandas as pd\n",
    "\n",
    "from virny.datasets import ACSPublicCoverageDataset\n",
    "from virny.custom_classes.metrics_composer import MetricsComposer\n",
    "from virny.custom_classes.metrics_interactive_visualizer import MetricsInteractiveVisualizer"
   ]
  },
  {
   "cell_type": "code",
   "execution_count": 23,
   "outputs": [],
   "source": [
    "data_loader = ACSPublicCoverageDataset(state=['CA'], year=2018, with_nulls=False,\n",
    "                                       subsample_size=15_000, subsample_seed=42)\n",
    "sensitive_attributes_dct = {'SEX': '2', 'RAC1P': ['2', '3', '4', '5', '6', '7', '8', '9'], 'SEX&RAC1P': None}"
   ],
   "metadata": {
    "collapsed": false,
    "ExecuteTime": {
     "end_time": "2023-12-07T00:13:48.771709Z",
     "start_time": "2023-12-07T00:13:43.029632Z"
    }
   },
   "id": "d3c53c7b72ecbcd0"
  },
  {
   "cell_type": "code",
   "execution_count": 24,
   "outputs": [],
   "source": [
    "ROOT_DIR = os.path.join('docs', 'examples')\n",
    "subgroup_metrics_df = pd.read_csv(os.path.join(ROOT_DIR, 'pub_cov_subgroup_metrics.csv'), header=0)\n",
    "subgroup_metrics_df['Model_Name'] = (subgroup_metrics_df['Model_Name'] + '__alpha=' +\n",
    "                                     subgroup_metrics_df['Intervention_Param'].astype(str))"
   ],
   "metadata": {
    "collapsed": false,
    "ExecuteTime": {
     "end_time": "2023-12-07T00:13:48.805639Z",
     "start_time": "2023-12-07T00:13:48.768740Z"
    }
   },
   "id": "2aab7c79ecdee914"
  },
  {
   "cell_type": "code",
   "execution_count": 25,
   "outputs": [
    {
     "data": {
      "text/plain": "                         Metric       SEX     RAC1P  SEX&RAC1P  \\\n0               Accuracy_Parity  0.026847  0.016299   0.040212   \n1  Aleatoric_Uncertainty_Parity -0.013240  0.027276   0.007235   \n2   Aleatoric_Uncertainty_Ratio  0.983584  1.034689   1.009077   \n3            Equalized_Odds_FNR  0.004275 -0.000359  -0.008617   \n4            Equalized_Odds_FPR -0.012072 -0.024172  -0.040481   \n\n                  Model_Name  \n0  LGBMClassifier__alpha=0.6  \n1  LGBMClassifier__alpha=0.6  \n2  LGBMClassifier__alpha=0.6  \n3  LGBMClassifier__alpha=0.6  \n4  LGBMClassifier__alpha=0.6  ",
      "text/html": "<div>\n<style scoped>\n    .dataframe tbody tr th:only-of-type {\n        vertical-align: middle;\n    }\n\n    .dataframe tbody tr th {\n        vertical-align: top;\n    }\n\n    .dataframe thead th {\n        text-align: right;\n    }\n</style>\n<table border=\"1\" class=\"dataframe\">\n  <thead>\n    <tr style=\"text-align: right;\">\n      <th></th>\n      <th>Metric</th>\n      <th>SEX</th>\n      <th>RAC1P</th>\n      <th>SEX&amp;RAC1P</th>\n      <th>Model_Name</th>\n    </tr>\n  </thead>\n  <tbody>\n    <tr>\n      <th>0</th>\n      <td>Accuracy_Parity</td>\n      <td>0.026847</td>\n      <td>0.016299</td>\n      <td>0.040212</td>\n      <td>LGBMClassifier__alpha=0.6</td>\n    </tr>\n    <tr>\n      <th>1</th>\n      <td>Aleatoric_Uncertainty_Parity</td>\n      <td>-0.013240</td>\n      <td>0.027276</td>\n      <td>0.007235</td>\n      <td>LGBMClassifier__alpha=0.6</td>\n    </tr>\n    <tr>\n      <th>2</th>\n      <td>Aleatoric_Uncertainty_Ratio</td>\n      <td>0.983584</td>\n      <td>1.034689</td>\n      <td>1.009077</td>\n      <td>LGBMClassifier__alpha=0.6</td>\n    </tr>\n    <tr>\n      <th>3</th>\n      <td>Equalized_Odds_FNR</td>\n      <td>0.004275</td>\n      <td>-0.000359</td>\n      <td>-0.008617</td>\n      <td>LGBMClassifier__alpha=0.6</td>\n    </tr>\n    <tr>\n      <th>4</th>\n      <td>Equalized_Odds_FPR</td>\n      <td>-0.012072</td>\n      <td>-0.024172</td>\n      <td>-0.040481</td>\n      <td>LGBMClassifier__alpha=0.6</td>\n    </tr>\n  </tbody>\n</table>\n</div>"
     },
     "execution_count": 25,
     "metadata": {},
     "output_type": "execute_result"
    }
   ],
   "source": [
    "model_names = subgroup_metrics_df['Model_Name'].unique()\n",
    "models_metrics_dct = dict()\n",
    "for model_name in model_names:\n",
    "    models_metrics_dct[model_name] = subgroup_metrics_df[subgroup_metrics_df['Model_Name'] == model_name]\n",
    "\n",
    "metrics_composer = MetricsComposer(models_metrics_dct, sensitive_attributes_dct)\n",
    "models_composed_metrics_df = metrics_composer.compose_metrics()\n",
    "models_composed_metrics_df.head()"
   ],
   "metadata": {
    "collapsed": false,
    "ExecuteTime": {
     "end_time": "2023-12-07T00:13:48.849022Z",
     "start_time": "2023-12-07T00:13:48.802693Z"
    }
   },
   "id": "833484748ed512e8"
  },
  {
   "cell_type": "code",
   "execution_count": 26,
   "outputs": [
    {
     "data": {
      "text/plain": "dict_keys(['LGBMClassifier__alpha=0.6', 'LGBMClassifier__alpha=0.0', 'LogisticRegression__alpha=0.0', 'LogisticRegression__alpha=0.6', 'MLPClassifier__alpha=0.0', 'MLPClassifier__alpha=0.6', 'RandomForestClassifier__alpha=0.0', 'RandomForestClassifier__alpha=0.6'])"
     },
     "execution_count": 26,
     "metadata": {},
     "output_type": "execute_result"
    }
   ],
   "source": [
    "models_metrics_dct.keys()"
   ],
   "metadata": {
    "collapsed": false,
    "ExecuteTime": {
     "end_time": "2023-12-07T00:13:48.873723Z",
     "start_time": "2023-12-07T00:13:48.848261Z"
    }
   },
   "id": "15ed7d1ba1f22317"
  },
  {
   "cell_type": "markdown",
   "id": "deb45226",
   "metadata": {},
   "source": [
    "## Metrics Visualization and Reporting"
   ]
  },
  {
   "cell_type": "code",
   "execution_count": 27,
   "id": "435b9d98",
   "metadata": {
    "ExecuteTime": {
     "end_time": "2023-12-07T00:13:48.959344Z",
     "start_time": "2023-12-07T00:13:48.871083Z"
    }
   },
   "outputs": [],
   "source": [
    "visualizer = MetricsInteractiveVisualizer(data_loader.X_data, data_loader.y_data,\n",
    "                                          models_metrics_dct, models_composed_metrics_df,\n",
    "                                          sensitive_attributes_dct=sensitive_attributes_dct)"
   ]
  },
  {
   "cell_type": "code",
   "execution_count": 28,
   "outputs": [
    {
     "name": "stdout",
     "output_type": "stream",
     "text": [
      "Running on local URL:  http://127.0.0.1:7860\n",
      "\n",
      "To create a public link, set `share=True` in `launch()`.\n",
      "Keyboard interruption in main thread... closing server.\n"
     ]
    }
   ],
   "source": [
    "visualizer.start_web_app()"
   ],
   "metadata": {
    "collapsed": false,
    "ExecuteTime": {
     "end_time": "2023-12-07T00:15:48.056146Z",
     "start_time": "2023-12-07T00:13:48.898642Z"
    }
   },
   "id": "678a9dc8d51243f4"
  },
  {
   "cell_type": "code",
   "execution_count": 29,
   "outputs": [
    {
     "name": "stdout",
     "output_type": "stream",
     "text": [
      "Closing server running on port: 7860\n"
     ]
    }
   ],
   "source": [
    "visualizer.stop_web_app()"
   ],
   "metadata": {
    "collapsed": false,
    "ExecuteTime": {
     "end_time": "2023-12-07T00:15:48.092702Z",
     "start_time": "2023-12-07T00:15:48.056394Z"
    }
   },
   "id": "277b6d1de837dab7"
  },
  {
   "cell_type": "code",
   "execution_count": 29,
   "id": "2326c129",
   "metadata": {
    "ExecuteTime": {
     "end_time": "2023-12-07T00:15:48.095103Z",
     "start_time": "2023-12-07T00:15:48.092153Z"
    }
   },
   "outputs": [],
   "source": []
  }
 ],
 "metadata": {
  "kernelspec": {
   "display_name": "Python 3 (ipykernel)",
   "language": "python",
   "name": "python3"
  },
  "language_info": {
   "codemirror_mode": {
    "name": "ipython",
    "version": 3
   },
   "file_extension": ".py",
   "mimetype": "text/x-python",
   "name": "python",
   "nbconvert_exporter": "python",
   "pygments_lexer": "ipython3",
   "version": "3.8.10"
  }
 },
 "nbformat": 4,
 "nbformat_minor": 5
}
